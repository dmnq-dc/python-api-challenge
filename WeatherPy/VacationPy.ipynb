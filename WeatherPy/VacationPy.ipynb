{
 "cells": [
  {
   "cell_type": "markdown",
   "metadata": {},
   "source": [
    "# VacationPy\n",
    "---\n",
    "\n",
    "## Starter Code to Import Libraries and Load the Weather and Coordinates Data"
   ]
  },
  {
   "cell_type": "code",
   "execution_count": 1,
   "metadata": {},
   "outputs": [],
   "source": [
    "# Dependencies and Setup\n",
    "\n",
    "import pandas as pd\n",
    "import requests\n",
    "import numpy as np\n",
    "import matplotlib.pyplot as plt\n",
    "import json\n",
    "import plotly.express as px\n",
    "\n",
    "# Import API key\n",
    "from api_keys import geoapify_key"
   ]
  },
  {
   "cell_type": "code",
   "execution_count": 2,
   "metadata": {},
   "outputs": [
    {
     "data": {
      "text/html": [
       "<div>\n",
       "<style scoped>\n",
       "    .dataframe tbody tr th:only-of-type {\n",
       "        vertical-align: middle;\n",
       "    }\n",
       "\n",
       "    .dataframe tbody tr th {\n",
       "        vertical-align: top;\n",
       "    }\n",
       "\n",
       "    .dataframe thead th {\n",
       "        text-align: right;\n",
       "    }\n",
       "</style>\n",
       "<table border=\"1\" class=\"dataframe\">\n",
       "  <thead>\n",
       "    <tr style=\"text-align: right;\">\n",
       "      <th></th>\n",
       "      <th>City_ID</th>\n",
       "      <th>City</th>\n",
       "      <th>Lat</th>\n",
       "      <th>Lng</th>\n",
       "      <th>Max Temp</th>\n",
       "      <th>Humidity</th>\n",
       "      <th>Cloudiness</th>\n",
       "      <th>Wind Speed</th>\n",
       "      <th>Country</th>\n",
       "      <th>Date</th>\n",
       "    </tr>\n",
       "  </thead>\n",
       "  <tbody>\n",
       "    <tr>\n",
       "      <th>0</th>\n",
       "      <td>0</td>\n",
       "      <td>mandal</td>\n",
       "      <td>25.4500</td>\n",
       "      <td>74.5667</td>\n",
       "      <td>13.57</td>\n",
       "      <td>63</td>\n",
       "      <td>0</td>\n",
       "      <td>0.46</td>\n",
       "      <td>IN</td>\n",
       "      <td>1674530914</td>\n",
       "    </tr>\n",
       "    <tr>\n",
       "      <th>1</th>\n",
       "      <td>1</td>\n",
       "      <td>udachnyy</td>\n",
       "      <td>66.4167</td>\n",
       "      <td>112.4000</td>\n",
       "      <td>-30.31</td>\n",
       "      <td>74</td>\n",
       "      <td>100</td>\n",
       "      <td>1.62</td>\n",
       "      <td>RU</td>\n",
       "      <td>1674530915</td>\n",
       "    </tr>\n",
       "    <tr>\n",
       "      <th>2</th>\n",
       "      <td>2</td>\n",
       "      <td>tuatapere</td>\n",
       "      <td>-46.1333</td>\n",
       "      <td>167.6833</td>\n",
       "      <td>17.73</td>\n",
       "      <td>47</td>\n",
       "      <td>7</td>\n",
       "      <td>3.89</td>\n",
       "      <td>NZ</td>\n",
       "      <td>1674530916</td>\n",
       "    </tr>\n",
       "    <tr>\n",
       "      <th>3</th>\n",
       "      <td>3</td>\n",
       "      <td>busselton</td>\n",
       "      <td>-33.6500</td>\n",
       "      <td>115.3333</td>\n",
       "      <td>28.76</td>\n",
       "      <td>41</td>\n",
       "      <td>21</td>\n",
       "      <td>5.03</td>\n",
       "      <td>AU</td>\n",
       "      <td>1674530916</td>\n",
       "    </tr>\n",
       "    <tr>\n",
       "      <th>4</th>\n",
       "      <td>4</td>\n",
       "      <td>gurlan</td>\n",
       "      <td>41.8447</td>\n",
       "      <td>60.3919</td>\n",
       "      <td>-12.96</td>\n",
       "      <td>35</td>\n",
       "      <td>7</td>\n",
       "      <td>2.51</td>\n",
       "      <td>UZ</td>\n",
       "      <td>1674530918</td>\n",
       "    </tr>\n",
       "    <tr>\n",
       "      <th>5</th>\n",
       "      <td>5</td>\n",
       "      <td>kpandu</td>\n",
       "      <td>6.9954</td>\n",
       "      <td>0.2931</td>\n",
       "      <td>25.51</td>\n",
       "      <td>78</td>\n",
       "      <td>60</td>\n",
       "      <td>1.93</td>\n",
       "      <td>GH</td>\n",
       "      <td>1674530918</td>\n",
       "    </tr>\n",
       "    <tr>\n",
       "      <th>6</th>\n",
       "      <td>6</td>\n",
       "      <td>punta arenas</td>\n",
       "      <td>-53.1500</td>\n",
       "      <td>-70.9167</td>\n",
       "      <td>10.06</td>\n",
       "      <td>57</td>\n",
       "      <td>0</td>\n",
       "      <td>7.72</td>\n",
       "      <td>CL</td>\n",
       "      <td>1674530919</td>\n",
       "    </tr>\n",
       "    <tr>\n",
       "      <th>7</th>\n",
       "      <td>7</td>\n",
       "      <td>qaanaaq</td>\n",
       "      <td>77.4840</td>\n",
       "      <td>-69.3632</td>\n",
       "      <td>-24.42</td>\n",
       "      <td>70</td>\n",
       "      <td>94</td>\n",
       "      <td>3.22</td>\n",
       "      <td>GL</td>\n",
       "      <td>1674530920</td>\n",
       "    </tr>\n",
       "    <tr>\n",
       "      <th>8</th>\n",
       "      <td>8</td>\n",
       "      <td>puerto ayora</td>\n",
       "      <td>-0.7393</td>\n",
       "      <td>-90.3518</td>\n",
       "      <td>23.64</td>\n",
       "      <td>98</td>\n",
       "      <td>89</td>\n",
       "      <td>1.34</td>\n",
       "      <td>EC</td>\n",
       "      <td>1674530921</td>\n",
       "    </tr>\n",
       "    <tr>\n",
       "      <th>9</th>\n",
       "      <td>9</td>\n",
       "      <td>port elizabeth</td>\n",
       "      <td>-33.9180</td>\n",
       "      <td>25.5701</td>\n",
       "      <td>21.84</td>\n",
       "      <td>86</td>\n",
       "      <td>0</td>\n",
       "      <td>11.62</td>\n",
       "      <td>ZA</td>\n",
       "      <td>1674530921</td>\n",
       "    </tr>\n",
       "  </tbody>\n",
       "</table>\n",
       "</div>"
      ],
      "text/plain": [
       "   City_ID            City      Lat       Lng  Max Temp  Humidity  Cloudiness  \\\n",
       "0        0          mandal  25.4500   74.5667     13.57        63           0   \n",
       "1        1        udachnyy  66.4167  112.4000    -30.31        74         100   \n",
       "2        2       tuatapere -46.1333  167.6833     17.73        47           7   \n",
       "3        3       busselton -33.6500  115.3333     28.76        41          21   \n",
       "4        4          gurlan  41.8447   60.3919    -12.96        35           7   \n",
       "5        5          kpandu   6.9954    0.2931     25.51        78          60   \n",
       "6        6    punta arenas -53.1500  -70.9167     10.06        57           0   \n",
       "7        7         qaanaaq  77.4840  -69.3632    -24.42        70          94   \n",
       "8        8    puerto ayora  -0.7393  -90.3518     23.64        98          89   \n",
       "9        9  port elizabeth -33.9180   25.5701     21.84        86           0   \n",
       "\n",
       "   Wind Speed Country        Date  \n",
       "0        0.46      IN  1674530914  \n",
       "1        1.62      RU  1674530915  \n",
       "2        3.89      NZ  1674530916  \n",
       "3        5.03      AU  1674530916  \n",
       "4        2.51      UZ  1674530918  \n",
       "5        1.93      GH  1674530918  \n",
       "6        7.72      CL  1674530919  \n",
       "7        3.22      GL  1674530920  \n",
       "8        1.34      EC  1674530921  \n",
       "9       11.62      ZA  1674530921  "
      ]
     },
     "execution_count": 2,
     "metadata": {},
     "output_type": "execute_result"
    }
   ],
   "source": [
    "# Load the CSV file created in Part 1 into a Pandas DataFrame\n",
    "city_data_df = pd.read_csv(\"output_data/cities.csv\")\n",
    "\n",
    "# Display sample data\n",
    "city_data_df.head(10)"
   ]
  },
  {
   "cell_type": "markdown",
   "metadata": {},
   "source": [
    "---\n",
    "\n",
    "### Step 1: Create a map that displays a point for every city in the `city_data_df` DataFrame. The size of the point should be the humidity in each city."
   ]
  },
  {
   "cell_type": "code",
   "execution_count": 3,
   "metadata": {},
   "outputs": [
    {
     "data": {
      "application/vnd.plotly.v1+json": {
       "config": {
        "plotlyServerURL": "https://plot.ly"
       },
       "data": [
        {
         "geo": "geo",
         "hovertemplate": "City=mandal<br>Humidity=%{marker.size}<br>Lat=%{lat}<br>Lng=%{lon}<extra></extra>",
         "lat": [
          25.45
         ],
         "legendgroup": "mandal",
         "lon": [
          74.5667
         ],
         "marker": {
          "color": "#636efa",
          "size": [
           63
          ],
          "sizemode": "area",
          "sizeref": 2.0408163265306123,
          "symbol": "circle"
         },
         "mode": "markers",
         "name": "mandal",
         "showlegend": true,
         "type": "scattergeo"
        },
        {
         "geo": "geo",
         "hovertemplate": "City=udachnyy<br>Humidity=%{marker.size}<br>Lat=%{lat}<br>Lng=%{lon}<extra></extra>",
         "lat": [
          66.4167
         ],
         "legendgroup": "udachnyy",
         "lon": [
          112.4
         ],
         "marker": {
          "color": "#EF553B",
          "size": [
           74
          ],
          "sizemode": "area",
          "sizeref": 2.0408163265306123,
          "symbol": "circle"
         },
         "mode": "markers",
         "name": "udachnyy",
         "showlegend": true,
         "type": "scattergeo"
        },
        {
         "geo": "geo",
         "hovertemplate": "City=tuatapere<br>Humidity=%{marker.size}<br>Lat=%{lat}<br>Lng=%{lon}<extra></extra>",
         "lat": [
          -46.1333
         ],
         "legendgroup": "tuatapere",
         "lon": [
          167.6833
         ],
         "marker": {
          "color": "#00cc96",
          "size": [
           47
          ],
          "sizemode": "area",
          "sizeref": 2.0408163265306123,
          "symbol": "circle"
         },
         "mode": "markers",
         "name": "tuatapere",
         "showlegend": true,
         "type": "scattergeo"
        },
        {
         "geo": "geo",
         "hovertemplate": "City=busselton<br>Humidity=%{marker.size}<br>Lat=%{lat}<br>Lng=%{lon}<extra></extra>",
         "lat": [
          -33.65
         ],
         "legendgroup": "busselton",
         "lon": [
          115.3333
         ],
         "marker": {
          "color": "#ab63fa",
          "size": [
           41
          ],
          "sizemode": "area",
          "sizeref": 2.0408163265306123,
          "symbol": "circle"
         },
         "mode": "markers",
         "name": "busselton",
         "showlegend": true,
         "type": "scattergeo"
        },
        {
         "geo": "geo",
         "hovertemplate": "City=gurlan<br>Humidity=%{marker.size}<br>Lat=%{lat}<br>Lng=%{lon}<extra></extra>",
         "lat": [
          41.8447
         ],
         "legendgroup": "gurlan",
         "lon": [
          60.3919
         ],
         "marker": {
          "color": "#FFA15A",
          "size": [
           35
          ],
          "sizemode": "area",
          "sizeref": 2.0408163265306123,
          "symbol": "circle"
         },
         "mode": "markers",
         "name": "gurlan",
         "showlegend": true,
         "type": "scattergeo"
        },
        {
         "geo": "geo",
         "hovertemplate": "City=kpandu<br>Humidity=%{marker.size}<br>Lat=%{lat}<br>Lng=%{lon}<extra></extra>",
         "lat": [
          6.9954
         ],
         "legendgroup": "kpandu",
         "lon": [
          0.2931
         ],
         "marker": {
          "color": "#19d3f3",
          "size": [
           78
          ],
          "sizemode": "area",
          "sizeref": 2.0408163265306123,
          "symbol": "circle"
         },
         "mode": "markers",
         "name": "kpandu",
         "showlegend": true,
         "type": "scattergeo"
        },
        {
         "geo": "geo",
         "hovertemplate": "City=punta arenas<br>Humidity=%{marker.size}<br>Lat=%{lat}<br>Lng=%{lon}<extra></extra>",
         "lat": [
          -53.15
         ],
         "legendgroup": "punta arenas",
         "lon": [
          -70.9167
         ],
         "marker": {
          "color": "#FF6692",
          "size": [
           57
          ],
          "sizemode": "area",
          "sizeref": 2.0408163265306123,
          "symbol": "circle"
         },
         "mode": "markers",
         "name": "punta arenas",
         "showlegend": true,
         "type": "scattergeo"
        },
        {
         "geo": "geo",
         "hovertemplate": "City=qaanaaq<br>Humidity=%{marker.size}<br>Lat=%{lat}<br>Lng=%{lon}<extra></extra>",
         "lat": [
          77.484
         ],
         "legendgroup": "qaanaaq",
         "lon": [
          -69.3632
         ],
         "marker": {
          "color": "#B6E880",
          "size": [
           70
          ],
          "sizemode": "area",
          "sizeref": 2.0408163265306123,
          "symbol": "circle"
         },
         "mode": "markers",
         "name": "qaanaaq",
         "showlegend": true,
         "type": "scattergeo"
        },
        {
         "geo": "geo",
         "hovertemplate": "City=puerto ayora<br>Humidity=%{marker.size}<br>Lat=%{lat}<br>Lng=%{lon}<extra></extra>",
         "lat": [
          -0.7393
         ],
         "legendgroup": "puerto ayora",
         "lon": [
          -90.3518
         ],
         "marker": {
          "color": "#FF97FF",
          "size": [
           98
          ],
          "sizemode": "area",
          "sizeref": 2.0408163265306123,
          "symbol": "circle"
         },
         "mode": "markers",
         "name": "puerto ayora",
         "showlegend": true,
         "type": "scattergeo"
        },
        {
         "geo": "geo",
         "hovertemplate": "City=port elizabeth<br>Humidity=%{marker.size}<br>Lat=%{lat}<br>Lng=%{lon}<extra></extra>",
         "lat": [
          -33.918
         ],
         "legendgroup": "port elizabeth",
         "lon": [
          25.5701
         ],
         "marker": {
          "color": "#FECB52",
          "size": [
           86
          ],
          "sizemode": "area",
          "sizeref": 2.0408163265306123,
          "symbol": "circle"
         },
         "mode": "markers",
         "name": "port elizabeth",
         "showlegend": true,
         "type": "scattergeo"
        },
        {
         "geo": "geo",
         "hovertemplate": "City=eureka<br>Humidity=%{marker.size}<br>Lat=%{lat}<br>Lng=%{lon}<extra></extra>",
         "lat": [
          40.8021
         ],
         "legendgroup": "eureka",
         "lon": [
          -124.1637
         ],
         "marker": {
          "color": "#636efa",
          "size": [
           91
          ],
          "sizemode": "area",
          "sizeref": 2.0408163265306123,
          "symbol": "circle"
         },
         "mode": "markers",
         "name": "eureka",
         "showlegend": true,
         "type": "scattergeo"
        },
        {
         "geo": "geo",
         "hovertemplate": "City=port-cartier<br>Humidity=%{marker.size}<br>Lat=%{lat}<br>Lng=%{lon}<extra></extra>",
         "lat": [
          50.0334
         ],
         "legendgroup": "port-cartier",
         "lon": [
          -66.8654
         ],
         "marker": {
          "color": "#EF553B",
          "size": [
           98
          ],
          "sizemode": "area",
          "sizeref": 2.0408163265306123,
          "symbol": "circle"
         },
         "mode": "markers",
         "name": "port-cartier",
         "showlegend": true,
         "type": "scattergeo"
        },
        {
         "geo": "geo",
         "hovertemplate": "City=kodiak<br>Humidity=%{marker.size}<br>Lat=%{lat}<br>Lng=%{lon}<extra></extra>",
         "lat": [
          57.79
         ],
         "legendgroup": "kodiak",
         "lon": [
          -152.4072
         ],
         "marker": {
          "color": "#00cc96",
          "size": [
           87
          ],
          "sizemode": "area",
          "sizeref": 2.0408163265306123,
          "symbol": "circle"
         },
         "mode": "markers",
         "name": "kodiak",
         "showlegend": true,
         "type": "scattergeo"
        },
        {
         "geo": "geo",
         "hovertemplate": "City=moundou<br>Humidity=%{marker.size}<br>Lat=%{lat}<br>Lng=%{lon}<extra></extra>",
         "lat": [
          8.5667
         ],
         "legendgroup": "moundou",
         "lon": [
          16.0833
         ],
         "marker": {
          "color": "#ab63fa",
          "size": [
           22
          ],
          "sizemode": "area",
          "sizeref": 2.0408163265306123,
          "symbol": "circle"
         },
         "mode": "markers",
         "name": "moundou",
         "showlegend": true,
         "type": "scattergeo"
        },
        {
         "geo": "geo",
         "hovertemplate": "City=castro<br>Humidity=%{marker.size}<br>Lat=%{lat}<br>Lng=%{lon}<extra></extra>",
         "lat": [
          -24.7911
         ],
         "legendgroup": "castro",
         "lon": [
          -50.0119
         ],
         "marker": {
          "color": "#FFA15A",
          "size": [
           95
          ],
          "sizemode": "area",
          "sizeref": 2.0408163265306123,
          "symbol": "circle"
         },
         "mode": "markers",
         "name": "castro",
         "showlegend": true,
         "type": "scattergeo"
        },
        {
         "geo": "geo",
         "hovertemplate": "City=mataura<br>Humidity=%{marker.size}<br>Lat=%{lat}<br>Lng=%{lon}<extra></extra>",
         "lat": [
          -46.1927
         ],
         "legendgroup": "mataura",
         "lon": [
          168.8643
         ],
         "marker": {
          "color": "#19d3f3",
          "size": [
           35
          ],
          "sizemode": "area",
          "sizeref": 2.0408163265306123,
          "symbol": "circle"
         },
         "mode": "markers",
         "name": "mataura",
         "showlegend": true,
         "type": "scattergeo"
        },
        {
         "geo": "geo",
         "hovertemplate": "City=jamestown<br>Humidity=%{marker.size}<br>Lat=%{lat}<br>Lng=%{lon}<extra></extra>",
         "lat": [
          42.097
         ],
         "legendgroup": "jamestown",
         "lon": [
          -79.2353
         ],
         "marker": {
          "color": "#FF6692",
          "size": [
           67
          ],
          "sizemode": "area",
          "sizeref": 2.0408163265306123,
          "symbol": "circle"
         },
         "mode": "markers",
         "name": "jamestown",
         "showlegend": true,
         "type": "scattergeo"
        },
        {
         "geo": "geo",
         "hovertemplate": "City=andenes<br>Humidity=%{marker.size}<br>Lat=%{lat}<br>Lng=%{lon}<extra></extra>",
         "lat": [
          69.3143
         ],
         "legendgroup": "andenes",
         "lon": [
          16.1194
         ],
         "marker": {
          "color": "#B6E880",
          "size": [
           75
          ],
          "sizemode": "area",
          "sizeref": 2.0408163265306123,
          "symbol": "circle"
         },
         "mode": "markers",
         "name": "andenes",
         "showlegend": true,
         "type": "scattergeo"
        },
        {
         "geo": "geo",
         "hovertemplate": "City=georgetown<br>Humidity=%{marker.size}<br>Lat=%{lat}<br>Lng=%{lon}<extra></extra>",
         "lat": [
          5.4112
         ],
         "legendgroup": "georgetown",
         "lon": [
          100.3354
         ],
         "marker": {
          "color": "#FF97FF",
          "size": [
           78
          ],
          "sizemode": "area",
          "sizeref": 2.0408163265306123,
          "symbol": "circle"
         },
         "mode": "markers",
         "name": "georgetown",
         "showlegend": true,
         "type": "scattergeo"
        },
        {
         "geo": "geo",
         "hovertemplate": "City=olafsvik<br>Humidity=%{marker.size}<br>Lat=%{lat}<br>Lng=%{lon}<extra></extra>",
         "lat": [
          64.8945
         ],
         "legendgroup": "olafsvik",
         "lon": [
          -23.7142
         ],
         "marker": {
          "color": "#FECB52",
          "size": [
           98
          ],
          "sizemode": "area",
          "sizeref": 2.0408163265306123,
          "symbol": "circle"
         },
         "mode": "markers",
         "name": "olafsvik",
         "showlegend": true,
         "type": "scattergeo"
        },
        {
         "geo": "geo",
         "hovertemplate": "City=richards bay<br>Humidity=%{marker.size}<br>Lat=%{lat}<br>Lng=%{lon}<extra></extra>",
         "lat": [
          -28.783
         ],
         "legendgroup": "richards bay",
         "lon": [
          32.0377
         ],
         "marker": {
          "color": "#636efa",
          "size": [
           94
          ],
          "sizemode": "area",
          "sizeref": 2.0408163265306123,
          "symbol": "circle"
         },
         "mode": "markers",
         "name": "richards bay",
         "showlegend": true,
         "type": "scattergeo"
        },
        {
         "geo": "geo",
         "hovertemplate": "City=acatic<br>Humidity=%{marker.size}<br>Lat=%{lat}<br>Lng=%{lon}<extra></extra>",
         "lat": [
          20.7833
         ],
         "legendgroup": "acatic",
         "lon": [
          -102.8833
         ],
         "marker": {
          "color": "#EF553B",
          "size": [
           44
          ],
          "sizemode": "area",
          "sizeref": 2.0408163265306123,
          "symbol": "circle"
         },
         "mode": "markers",
         "name": "acatic",
         "showlegend": true,
         "type": "scattergeo"
        },
        {
         "geo": "geo",
         "hovertemplate": "City=celestun<br>Humidity=%{marker.size}<br>Lat=%{lat}<br>Lng=%{lon}<extra></extra>",
         "lat": [
          20.8667
         ],
         "legendgroup": "celestun",
         "lon": [
          -90.4
         ],
         "marker": {
          "color": "#00cc96",
          "size": [
           79
          ],
          "sizemode": "area",
          "sizeref": 2.0408163265306123,
          "symbol": "circle"
         },
         "mode": "markers",
         "name": "celestun",
         "showlegend": true,
         "type": "scattergeo"
        },
        {
         "geo": "geo",
         "hovertemplate": "City=rikitea<br>Humidity=%{marker.size}<br>Lat=%{lat}<br>Lng=%{lon}<extra></extra>",
         "lat": [
          -23.1203
         ],
         "legendgroup": "rikitea",
         "lon": [
          -134.9692
         ],
         "marker": {
          "color": "#ab63fa",
          "size": [
           75
          ],
          "sizemode": "area",
          "sizeref": 2.0408163265306123,
          "symbol": "circle"
         },
         "mode": "markers",
         "name": "rikitea",
         "showlegend": true,
         "type": "scattergeo"
        },
        {
         "geo": "geo",
         "hovertemplate": "City=nemuro<br>Humidity=%{marker.size}<br>Lat=%{lat}<br>Lng=%{lon}<extra></extra>",
         "lat": [
          43.3236
         ],
         "legendgroup": "nemuro",
         "lon": [
          145.575
         ],
         "marker": {
          "color": "#FFA15A",
          "size": [
           70
          ],
          "sizemode": "area",
          "sizeref": 2.0408163265306123,
          "symbol": "circle"
         },
         "mode": "markers",
         "name": "nemuro",
         "showlegend": true,
         "type": "scattergeo"
        },
        {
         "geo": "geo",
         "hovertemplate": "City=ushuaia<br>Humidity=%{marker.size}<br>Lat=%{lat}<br>Lng=%{lon}<extra></extra>",
         "lat": [
          -54.8
         ],
         "legendgroup": "ushuaia",
         "lon": [
          -68.3
         ],
         "marker": {
          "color": "#19d3f3",
          "size": [
           87
          ],
          "sizemode": "area",
          "sizeref": 2.0408163265306123,
          "symbol": "circle"
         },
         "mode": "markers",
         "name": "ushuaia",
         "showlegend": true,
         "type": "scattergeo"
        },
        {
         "geo": "geo",
         "hovertemplate": "City=barrow<br>Humidity=%{marker.size}<br>Lat=%{lat}<br>Lng=%{lon}<extra></extra>",
         "lat": [
          71.2906
         ],
         "legendgroup": "barrow",
         "lon": [
          -156.7887
         ],
         "marker": {
          "color": "#FF6692",
          "size": [
           84
          ],
          "sizemode": "area",
          "sizeref": 2.0408163265306123,
          "symbol": "circle"
         },
         "mode": "markers",
         "name": "barrow",
         "showlegend": true,
         "type": "scattergeo"
        },
        {
         "geo": "geo",
         "hovertemplate": "City=jalu<br>Humidity=%{marker.size}<br>Lat=%{lat}<br>Lng=%{lon}<extra></extra>",
         "lat": [
          29.0331
         ],
         "legendgroup": "jalu",
         "lon": [
          21.5482
         ],
         "marker": {
          "color": "#B6E880",
          "size": [
           64
          ],
          "sizemode": "area",
          "sizeref": 2.0408163265306123,
          "symbol": "circle"
         },
         "mode": "markers",
         "name": "jalu",
         "showlegend": true,
         "type": "scattergeo"
        },
        {
         "geo": "geo",
         "hovertemplate": "City=hobart<br>Humidity=%{marker.size}<br>Lat=%{lat}<br>Lng=%{lon}<extra></extra>",
         "lat": [
          -42.8794
         ],
         "legendgroup": "hobart",
         "lon": [
          147.3294
         ],
         "marker": {
          "color": "#FF97FF",
          "size": [
           47
          ],
          "sizemode": "area",
          "sizeref": 2.0408163265306123,
          "symbol": "circle"
         },
         "mode": "markers",
         "name": "hobart",
         "showlegend": true,
         "type": "scattergeo"
        },
        {
         "geo": "geo",
         "hovertemplate": "City=laguna<br>Humidity=%{marker.size}<br>Lat=%{lat}<br>Lng=%{lon}<extra></extra>",
         "lat": [
          38.421
         ],
         "legendgroup": "laguna",
         "lon": [
          -121.4238
         ],
         "marker": {
          "color": "#FECB52",
          "size": [
           63
          ],
          "sizemode": "area",
          "sizeref": 2.0408163265306123,
          "symbol": "circle"
         },
         "mode": "markers",
         "name": "laguna",
         "showlegend": true,
         "type": "scattergeo"
        },
        {
         "geo": "geo",
         "hovertemplate": "City=lagoa<br>Humidity=%{marker.size}<br>Lat=%{lat}<br>Lng=%{lon}<extra></extra>",
         "lat": [
          39.05
         ],
         "legendgroup": "lagoa",
         "lon": [
          -27.9833
         ],
         "marker": {
          "color": "#636efa",
          "size": [
           77
          ],
          "sizemode": "area",
          "sizeref": 2.0408163265306123,
          "symbol": "circle"
         },
         "mode": "markers",
         "name": "lagoa",
         "showlegend": true,
         "type": "scattergeo"
        },
        {
         "geo": "geo",
         "hovertemplate": "City=albany<br>Humidity=%{marker.size}<br>Lat=%{lat}<br>Lng=%{lon}<extra></extra>",
         "lat": [
          42.6001
         ],
         "legendgroup": "albany",
         "lon": [
          -73.9662
         ],
         "marker": {
          "color": "#EF553B",
          "size": [
           83
          ],
          "sizemode": "area",
          "sizeref": 2.0408163265306123,
          "symbol": "circle"
         },
         "mode": "markers",
         "name": "albany",
         "showlegend": true,
         "type": "scattergeo"
        },
        {
         "geo": "geo",
         "hovertemplate": "City=bethel<br>Humidity=%{marker.size}<br>Lat=%{lat}<br>Lng=%{lon}<extra></extra>",
         "lat": [
          41.3712
         ],
         "legendgroup": "bethel",
         "lon": [
          -73.414
         ],
         "marker": {
          "color": "#00cc96",
          "size": [
           78
          ],
          "sizemode": "area",
          "sizeref": 2.0408163265306123,
          "symbol": "circle"
         },
         "mode": "markers",
         "name": "bethel",
         "showlegend": true,
         "type": "scattergeo"
        },
        {
         "geo": "geo",
         "hovertemplate": "City=cidreira<br>Humidity=%{marker.size}<br>Lat=%{lat}<br>Lng=%{lon}<extra></extra>",
         "lat": [
          -30.1811
         ],
         "legendgroup": "cidreira",
         "lon": [
          -50.2056
         ],
         "marker": {
          "color": "#ab63fa",
          "size": [
           82
          ],
          "sizemode": "area",
          "sizeref": 2.0408163265306123,
          "symbol": "circle"
         },
         "mode": "markers",
         "name": "cidreira",
         "showlegend": true,
         "type": "scattergeo"
        },
        {
         "geo": "geo",
         "hovertemplate": "City=flinders<br>Humidity=%{marker.size}<br>Lat=%{lat}<br>Lng=%{lon}<extra></extra>",
         "lat": [
          -34.5833
         ],
         "legendgroup": "flinders",
         "lon": [
          150.8552
         ],
         "marker": {
          "color": "#FFA15A",
          "size": [
           70
          ],
          "sizemode": "area",
          "sizeref": 2.0408163265306123,
          "symbol": "circle"
         },
         "mode": "markers",
         "name": "flinders",
         "showlegend": true,
         "type": "scattergeo"
        },
        {
         "geo": "geo",
         "hovertemplate": "City=hithadhoo<br>Humidity=%{marker.size}<br>Lat=%{lat}<br>Lng=%{lon}<extra></extra>",
         "lat": [
          -0.6
         ],
         "legendgroup": "hithadhoo",
         "lon": [
          73.0833
         ],
         "marker": {
          "color": "#19d3f3",
          "size": [
           77
          ],
          "sizemode": "area",
          "sizeref": 2.0408163265306123,
          "symbol": "circle"
         },
         "mode": "markers",
         "name": "hithadhoo",
         "showlegend": true,
         "type": "scattergeo"
        },
        {
         "geo": "geo",
         "hovertemplate": "City=abilene<br>Humidity=%{marker.size}<br>Lat=%{lat}<br>Lng=%{lon}<extra></extra>",
         "lat": [
          32.4487
         ],
         "legendgroup": "abilene",
         "lon": [
          -99.7331
         ],
         "marker": {
          "color": "#FF6692",
          "size": [
           39
          ],
          "sizemode": "area",
          "sizeref": 2.0408163265306123,
          "symbol": "circle"
         },
         "mode": "markers",
         "name": "abilene",
         "showlegend": true,
         "type": "scattergeo"
        },
        {
         "geo": "geo",
         "hovertemplate": "City=ust-tsilma<br>Humidity=%{marker.size}<br>Lat=%{lat}<br>Lng=%{lon}<extra></extra>",
         "lat": [
          65.441
         ],
         "legendgroup": "ust-tsilma",
         "lon": [
          52.1498
         ],
         "marker": {
          "color": "#B6E880",
          "size": [
           86
          ],
          "sizemode": "area",
          "sizeref": 2.0408163265306123,
          "symbol": "circle"
         },
         "mode": "markers",
         "name": "ust-tsilma",
         "showlegend": true,
         "type": "scattergeo"
        },
        {
         "geo": "geo",
         "hovertemplate": "City=nanortalik<br>Humidity=%{marker.size}<br>Lat=%{lat}<br>Lng=%{lon}<extra></extra>",
         "lat": [
          60.1432
         ],
         "legendgroup": "nanortalik",
         "lon": [
          -45.2371
         ],
         "marker": {
          "color": "#FF97FF",
          "size": [
           86
          ],
          "sizemode": "area",
          "sizeref": 2.0408163265306123,
          "symbol": "circle"
         },
         "mode": "markers",
         "name": "nanortalik",
         "showlegend": true,
         "type": "scattergeo"
        },
        {
         "geo": "geo",
         "hovertemplate": "City=myaundzha<br>Humidity=%{marker.size}<br>Lat=%{lat}<br>Lng=%{lon}<extra></extra>",
         "lat": [
          63.0494
         ],
         "legendgroup": "myaundzha",
         "lon": [
          147.1858
         ],
         "marker": {
          "color": "#FECB52",
          "size": [
           97
          ],
          "sizemode": "area",
          "sizeref": 2.0408163265306123,
          "symbol": "circle"
         },
         "mode": "markers",
         "name": "myaundzha",
         "showlegend": true,
         "type": "scattergeo"
        },
        {
         "geo": "geo",
         "hovertemplate": "City=kaitangata<br>Humidity=%{marker.size}<br>Lat=%{lat}<br>Lng=%{lon}<extra></extra>",
         "lat": [
          -46.2817
         ],
         "legendgroup": "kaitangata",
         "lon": [
          169.8464
         ],
         "marker": {
          "color": "#636efa",
          "size": [
           57
          ],
          "sizemode": "area",
          "sizeref": 2.0408163265306123,
          "symbol": "circle"
         },
         "mode": "markers",
         "name": "kaitangata",
         "showlegend": true,
         "type": "scattergeo"
        },
        {
         "geo": "geo",
         "hovertemplate": "City=narsaq<br>Humidity=%{marker.size}<br>Lat=%{lat}<br>Lng=%{lon}<extra></extra>",
         "lat": [
          60.9167
         ],
         "legendgroup": "narsaq",
         "lon": [
          -46.05
         ],
         "marker": {
          "color": "#EF553B",
          "size": [
           80
          ],
          "sizemode": "area",
          "sizeref": 2.0408163265306123,
          "symbol": "circle"
         },
         "mode": "markers",
         "name": "narsaq",
         "showlegend": true,
         "type": "scattergeo"
        },
        {
         "geo": "geo",
         "hovertemplate": "City=bara<br>Humidity=%{marker.size}<br>Lat=%{lat}<br>Lng=%{lon}<extra></extra>",
         "lat": [
          10.3744
         ],
         "legendgroup": "bara",
         "lon": [
          10.7288
         ],
         "marker": {
          "color": "#00cc96",
          "size": [
           22
          ],
          "sizemode": "area",
          "sizeref": 2.0408163265306123,
          "symbol": "circle"
         },
         "mode": "markers",
         "name": "bara",
         "showlegend": true,
         "type": "scattergeo"
        },
        {
         "geo": "geo",
         "hovertemplate": "City=bahia blanca<br>Humidity=%{marker.size}<br>Lat=%{lat}<br>Lng=%{lon}<extra></extra>",
         "lat": [
          -38.7196
         ],
         "legendgroup": "bahia blanca",
         "lon": [
          -62.2724
         ],
         "marker": {
          "color": "#ab63fa",
          "size": [
           43
          ],
          "sizemode": "area",
          "sizeref": 2.0408163265306123,
          "symbol": "circle"
         },
         "mode": "markers",
         "name": "bahia blanca",
         "showlegend": true,
         "type": "scattergeo"
        },
        {
         "geo": "geo",
         "hovertemplate": "City=port alfred<br>Humidity=%{marker.size}<br>Lat=%{lat}<br>Lng=%{lon}<extra></extra>",
         "lat": [
          -33.5906
         ],
         "legendgroup": "port alfred",
         "lon": [
          26.891
         ],
         "marker": {
          "color": "#FFA15A",
          "size": [
           88
          ],
          "sizemode": "area",
          "sizeref": 2.0408163265306123,
          "symbol": "circle"
         },
         "mode": "markers",
         "name": "port alfred",
         "showlegend": true,
         "type": "scattergeo"
        },
        {
         "geo": "geo",
         "hovertemplate": "City=hermanus<br>Humidity=%{marker.size}<br>Lat=%{lat}<br>Lng=%{lon}<extra></extra>",
         "lat": [
          -34.4187
         ],
         "legendgroup": "hermanus",
         "lon": [
          19.2345
         ],
         "marker": {
          "color": "#19d3f3",
          "size": [
           80
          ],
          "sizemode": "area",
          "sizeref": 2.0408163265306123,
          "symbol": "circle"
         },
         "mode": "markers",
         "name": "hermanus",
         "showlegend": true,
         "type": "scattergeo"
        },
        {
         "geo": "geo",
         "hovertemplate": "City=labuhan<br>Humidity=%{marker.size}<br>Lat=%{lat}<br>Lng=%{lon}<extra></extra>",
         "lat": [
          -6.8844
         ],
         "legendgroup": "labuhan",
         "lon": [
          112.2051
         ],
         "marker": {
          "color": "#FF6692",
          "size": [
           71
          ],
          "sizemode": "area",
          "sizeref": 2.0408163265306123,
          "symbol": "circle"
         },
         "mode": "markers",
         "name": "labuhan",
         "showlegend": true,
         "type": "scattergeo"
        },
        {
         "geo": "geo",
         "hovertemplate": "City=victoria<br>Humidity=%{marker.size}<br>Lat=%{lat}<br>Lng=%{lon}<extra></extra>",
         "lat": [
          22.2855
         ],
         "legendgroup": "victoria",
         "lon": [
          114.1577
         ],
         "marker": {
          "color": "#B6E880",
          "size": [
           49
          ],
          "sizemode": "area",
          "sizeref": 2.0408163265306123,
          "symbol": "circle"
         },
         "mode": "markers",
         "name": "victoria",
         "showlegend": true,
         "type": "scattergeo"
        },
        {
         "geo": "geo",
         "hovertemplate": "City=klaksvik<br>Humidity=%{marker.size}<br>Lat=%{lat}<br>Lng=%{lon}<extra></extra>",
         "lat": [
          62.2266
         ],
         "legendgroup": "klaksvik",
         "lon": [
          -6.5889999999999995
         ],
         "marker": {
          "color": "#FF97FF",
          "size": [
           97
          ],
          "sizemode": "area",
          "sizeref": 2.0408163265306123,
          "symbol": "circle"
         },
         "mode": "markers",
         "name": "klaksvik",
         "showlegend": true,
         "type": "scattergeo"
        },
        {
         "geo": "geo",
         "hovertemplate": "City=bengkulu<br>Humidity=%{marker.size}<br>Lat=%{lat}<br>Lng=%{lon}<extra></extra>",
         "lat": [
          -3.8004
         ],
         "legendgroup": "bengkulu",
         "lon": [
          102.2655
         ],
         "marker": {
          "color": "#FECB52",
          "size": [
           90
          ],
          "sizemode": "area",
          "sizeref": 2.0408163265306123,
          "symbol": "circle"
         },
         "mode": "markers",
         "name": "bengkulu",
         "showlegend": true,
         "type": "scattergeo"
        },
        {
         "geo": "geo",
         "hovertemplate": "City=katsuura<br>Humidity=%{marker.size}<br>Lat=%{lat}<br>Lng=%{lon}<extra></extra>",
         "lat": [
          35.1333
         ],
         "legendgroup": "katsuura",
         "lon": [
          140.3
         ],
         "marker": {
          "color": "#636efa",
          "size": [
           63
          ],
          "sizemode": "area",
          "sizeref": 2.0408163265306123,
          "symbol": "circle"
         },
         "mode": "markers",
         "name": "katsuura",
         "showlegend": true,
         "type": "scattergeo"
        },
        {
         "geo": "geo",
         "hovertemplate": "City=iqaluit<br>Humidity=%{marker.size}<br>Lat=%{lat}<br>Lng=%{lon}<extra></extra>",
         "lat": [
          63.7506
         ],
         "legendgroup": "iqaluit",
         "lon": [
          -68.5145
         ],
         "marker": {
          "color": "#EF553B",
          "size": [
           83
          ],
          "sizemode": "area",
          "sizeref": 2.0408163265306123,
          "symbol": "circle"
         },
         "mode": "markers",
         "name": "iqaluit",
         "showlegend": true,
         "type": "scattergeo"
        },
        {
         "geo": "geo",
         "hovertemplate": "City=noshiro<br>Humidity=%{marker.size}<br>Lat=%{lat}<br>Lng=%{lon}<extra></extra>",
         "lat": [
          40.2039
         ],
         "legendgroup": "noshiro",
         "lon": [
          140.0242
         ],
         "marker": {
          "color": "#00cc96",
          "size": [
           85
          ],
          "sizemode": "area",
          "sizeref": 2.0408163265306123,
          "symbol": "circle"
         },
         "mode": "markers",
         "name": "noshiro",
         "showlegend": true,
         "type": "scattergeo"
        },
        {
         "geo": "geo",
         "hovertemplate": "City=tasiilaq<br>Humidity=%{marker.size}<br>Lat=%{lat}<br>Lng=%{lon}<extra></extra>",
         "lat": [
          65.6145
         ],
         "legendgroup": "tasiilaq",
         "lon": [
          -37.6368
         ],
         "marker": {
          "color": "#ab63fa",
          "size": [
           65
          ],
          "sizemode": "area",
          "sizeref": 2.0408163265306123,
          "symbol": "circle"
         },
         "mode": "markers",
         "name": "tasiilaq",
         "showlegend": true,
         "type": "scattergeo"
        },
        {
         "geo": "geo",
         "hovertemplate": "City=yellowknife<br>Humidity=%{marker.size}<br>Lat=%{lat}<br>Lng=%{lon}<extra></extra>",
         "lat": [
          62.456
         ],
         "legendgroup": "yellowknife",
         "lon": [
          -114.3525
         ],
         "marker": {
          "color": "#FFA15A",
          "size": [
           85
          ],
          "sizemode": "area",
          "sizeref": 2.0408163265306123,
          "symbol": "circle"
         },
         "mode": "markers",
         "name": "yellowknife",
         "showlegend": true,
         "type": "scattergeo"
        },
        {
         "geo": "geo",
         "hovertemplate": "City=souillac<br>Humidity=%{marker.size}<br>Lat=%{lat}<br>Lng=%{lon}<extra></extra>",
         "lat": [
          -20.5167
         ],
         "legendgroup": "souillac",
         "lon": [
          57.5167
         ],
         "marker": {
          "color": "#19d3f3",
          "size": [
           94
          ],
          "sizemode": "area",
          "sizeref": 2.0408163265306123,
          "symbol": "circle"
         },
         "mode": "markers",
         "name": "souillac",
         "showlegend": true,
         "type": "scattergeo"
        },
        {
         "geo": "geo",
         "hovertemplate": "City=cabo san lucas<br>Humidity=%{marker.size}<br>Lat=%{lat}<br>Lng=%{lon}<extra></extra>",
         "lat": [
          22.8909
         ],
         "legendgroup": "cabo san lucas",
         "lon": [
          -109.9124
         ],
         "marker": {
          "color": "#FF6692",
          "size": [
           74
          ],
          "sizemode": "area",
          "sizeref": 2.0408163265306123,
          "symbol": "circle"
         },
         "mode": "markers",
         "name": "cabo san lucas",
         "showlegend": true,
         "type": "scattergeo"
        },
        {
         "geo": "geo",
         "hovertemplate": "City=hilo<br>Humidity=%{marker.size}<br>Lat=%{lat}<br>Lng=%{lon}<extra></extra>",
         "lat": [
          19.7297
         ],
         "legendgroup": "hilo",
         "lon": [
          -155.09
         ],
         "marker": {
          "color": "#B6E880",
          "size": [
           82
          ],
          "sizemode": "area",
          "sizeref": 2.0408163265306123,
          "symbol": "circle"
         },
         "mode": "markers",
         "name": "hilo",
         "showlegend": true,
         "type": "scattergeo"
        },
        {
         "geo": "geo",
         "hovertemplate": "City=elesbao veloso<br>Humidity=%{marker.size}<br>Lat=%{lat}<br>Lng=%{lon}<extra></extra>",
         "lat": [
          -6.2019
         ],
         "legendgroup": "elesbao veloso",
         "lon": [
          -42.1403
         ],
         "marker": {
          "color": "#FF97FF",
          "size": [
           77
          ],
          "sizemode": "area",
          "sizeref": 2.0408163265306123,
          "symbol": "circle"
         },
         "mode": "markers",
         "name": "elesbao veloso",
         "showlegend": true,
         "type": "scattergeo"
        },
        {
         "geo": "geo",
         "hovertemplate": "City=zhezkazgan<br>Humidity=%{marker.size}<br>Lat=%{lat}<br>Lng=%{lon}<extra></extra>",
         "lat": [
          47.8043
         ],
         "legendgroup": "zhezkazgan",
         "lon": [
          67.7144
         ],
         "marker": {
          "color": "#FECB52",
          "size": [
           85
          ],
          "sizemode": "area",
          "sizeref": 2.0408163265306123,
          "symbol": "circle"
         },
         "mode": "markers",
         "name": "zhezkazgan",
         "showlegend": true,
         "type": "scattergeo"
        },
        {
         "geo": "geo",
         "hovertemplate": "City=ahipara<br>Humidity=%{marker.size}<br>Lat=%{lat}<br>Lng=%{lon}<extra></extra>",
         "lat": [
          -35.1667
         ],
         "legendgroup": "ahipara",
         "lon": [
          173.1667
         ],
         "marker": {
          "color": "#636efa",
          "size": [
           74
          ],
          "sizemode": "area",
          "sizeref": 2.0408163265306123,
          "symbol": "circle"
         },
         "mode": "markers",
         "name": "ahipara",
         "showlegend": true,
         "type": "scattergeo"
        },
        {
         "geo": "geo",
         "hovertemplate": "City=bredasdorp<br>Humidity=%{marker.size}<br>Lat=%{lat}<br>Lng=%{lon}<extra></extra>",
         "lat": [
          -34.5322
         ],
         "legendgroup": "bredasdorp",
         "lon": [
          20.0403
         ],
         "marker": {
          "color": "#EF553B",
          "size": [
           76
          ],
          "sizemode": "area",
          "sizeref": 2.0408163265306123,
          "symbol": "circle"
         },
         "mode": "markers",
         "name": "bredasdorp",
         "showlegend": true,
         "type": "scattergeo"
        },
        {
         "geo": "geo",
         "hovertemplate": "City=saint-joseph<br>Humidity=%{marker.size}<br>Lat=%{lat}<br>Lng=%{lon}<extra></extra>",
         "lat": [
          -21.3667
         ],
         "legendgroup": "saint-joseph",
         "lon": [
          55.6167
         ],
         "marker": {
          "color": "#00cc96",
          "size": [
           82
          ],
          "sizemode": "area",
          "sizeref": 2.0408163265306123,
          "symbol": "circle"
         },
         "mode": "markers",
         "name": "saint-joseph",
         "showlegend": true,
         "type": "scattergeo"
        },
        {
         "geo": "geo",
         "hovertemplate": "City=vaini<br>Humidity=%{marker.size}<br>Lat=%{lat}<br>Lng=%{lon}<extra></extra>",
         "lat": [
          -21.2
         ],
         "legendgroup": "vaini",
         "lon": [
          -175.2
         ],
         "marker": {
          "color": "#ab63fa",
          "size": [
           79
          ],
          "sizemode": "area",
          "sizeref": 2.0408163265306123,
          "symbol": "circle"
         },
         "mode": "markers",
         "name": "vaini",
         "showlegend": true,
         "type": "scattergeo"
        },
        {
         "geo": "geo",
         "hovertemplate": "City=bluff<br>Humidity=%{marker.size}<br>Lat=%{lat}<br>Lng=%{lon}<extra></extra>",
         "lat": [
          -46.6
         ],
         "legendgroup": "bluff",
         "lon": [
          168.3333
         ],
         "marker": {
          "color": "#FFA15A",
          "size": [
           59
          ],
          "sizemode": "area",
          "sizeref": 2.0408163265306123,
          "symbol": "circle"
         },
         "mode": "markers",
         "name": "bluff",
         "showlegend": true,
         "type": "scattergeo"
        },
        {
         "geo": "geo",
         "hovertemplate": "City=santa rosa<br>Humidity=%{marker.size}<br>Lat=%{lat}<br>Lng=%{lon}<extra></extra>",
         "lat": [
          14.3122
         ],
         "legendgroup": "santa rosa",
         "lon": [
          121.1114
         ],
         "marker": {
          "color": "#19d3f3",
          "size": [
           64
          ],
          "sizemode": "area",
          "sizeref": 2.0408163265306123,
          "symbol": "circle"
         },
         "mode": "markers",
         "name": "santa rosa",
         "showlegend": true,
         "type": "scattergeo"
        },
        {
         "geo": "geo",
         "hovertemplate": "City=los llanos de aridane<br>Humidity=%{marker.size}<br>Lat=%{lat}<br>Lng=%{lon}<extra></extra>",
         "lat": [
          28.6585
         ],
         "legendgroup": "los llanos de aridane",
         "lon": [
          -17.9182
         ],
         "marker": {
          "color": "#FF6692",
          "size": [
           74
          ],
          "sizemode": "area",
          "sizeref": 2.0408163265306123,
          "symbol": "circle"
         },
         "mode": "markers",
         "name": "los llanos de aridane",
         "showlegend": true,
         "type": "scattergeo"
        },
        {
         "geo": "geo",
         "hovertemplate": "City=new norfolk<br>Humidity=%{marker.size}<br>Lat=%{lat}<br>Lng=%{lon}<extra></extra>",
         "lat": [
          -42.7826
         ],
         "legendgroup": "new norfolk",
         "lon": [
          147.0587
         ],
         "marker": {
          "color": "#B6E880",
          "size": [
           35
          ],
          "sizemode": "area",
          "sizeref": 2.0408163265306123,
          "symbol": "circle"
         },
         "mode": "markers",
         "name": "new norfolk",
         "showlegend": true,
         "type": "scattergeo"
        },
        {
         "geo": "geo",
         "hovertemplate": "City=lompoc<br>Humidity=%{marker.size}<br>Lat=%{lat}<br>Lng=%{lon}<extra></extra>",
         "lat": [
          34.6391
         ],
         "legendgroup": "lompoc",
         "lon": [
          -120.4579
         ],
         "marker": {
          "color": "#FF97FF",
          "size": [
           76
          ],
          "sizemode": "area",
          "sizeref": 2.0408163265306123,
          "symbol": "circle"
         },
         "mode": "markers",
         "name": "lompoc",
         "showlegend": true,
         "type": "scattergeo"
        },
        {
         "geo": "geo",
         "hovertemplate": "City=tiradentes<br>Humidity=%{marker.size}<br>Lat=%{lat}<br>Lng=%{lon}<extra></extra>",
         "lat": [
          -21.1103
         ],
         "legendgroup": "tiradentes",
         "lon": [
          -44.1781
         ],
         "marker": {
          "color": "#FECB52",
          "size": [
           95
          ],
          "sizemode": "area",
          "sizeref": 2.0408163265306123,
          "symbol": "circle"
         },
         "mode": "markers",
         "name": "tiradentes",
         "showlegend": true,
         "type": "scattergeo"
        },
        {
         "geo": "geo",
         "hovertemplate": "City=angol<br>Humidity=%{marker.size}<br>Lat=%{lat}<br>Lng=%{lon}<extra></extra>",
         "lat": [
          -37.8
         ],
         "legendgroup": "angol",
         "lon": [
          -72.7167
         ],
         "marker": {
          "color": "#636efa",
          "size": [
           90
          ],
          "sizemode": "area",
          "sizeref": 2.0408163265306123,
          "symbol": "circle"
         },
         "mode": "markers",
         "name": "angol",
         "showlegend": true,
         "type": "scattergeo"
        },
        {
         "geo": "geo",
         "hovertemplate": "City=arraial do cabo<br>Humidity=%{marker.size}<br>Lat=%{lat}<br>Lng=%{lon}<extra></extra>",
         "lat": [
          -22.9661
         ],
         "legendgroup": "arraial do cabo",
         "lon": [
          -42.0278
         ],
         "marker": {
          "color": "#EF553B",
          "size": [
           92
          ],
          "sizemode": "area",
          "sizeref": 2.0408163265306123,
          "symbol": "circle"
         },
         "mode": "markers",
         "name": "arraial do cabo",
         "showlegend": true,
         "type": "scattergeo"
        },
        {
         "geo": "geo",
         "hovertemplate": "City=waingapu<br>Humidity=%{marker.size}<br>Lat=%{lat}<br>Lng=%{lon}<extra></extra>",
         "lat": [
          -9.6567
         ],
         "legendgroup": "waingapu",
         "lon": [
          120.2641
         ],
         "marker": {
          "color": "#00cc96",
          "size": [
           55
          ],
          "sizemode": "area",
          "sizeref": 2.0408163265306123,
          "symbol": "circle"
         },
         "mode": "markers",
         "name": "waingapu",
         "showlegend": true,
         "type": "scattergeo"
        },
        {
         "geo": "geo",
         "hovertemplate": "City=sesheke<br>Humidity=%{marker.size}<br>Lat=%{lat}<br>Lng=%{lon}<extra></extra>",
         "lat": [
          -17.4759
         ],
         "legendgroup": "sesheke",
         "lon": [
          24.2968
         ],
         "marker": {
          "color": "#ab63fa",
          "size": [
           98
          ],
          "sizemode": "area",
          "sizeref": 2.0408163265306123,
          "symbol": "circle"
         },
         "mode": "markers",
         "name": "sesheke",
         "showlegend": true,
         "type": "scattergeo"
        },
        {
         "geo": "geo",
         "hovertemplate": "City=junction city<br>Humidity=%{marker.size}<br>Lat=%{lat}<br>Lng=%{lon}<extra></extra>",
         "lat": [
          39.0286
         ],
         "legendgroup": "junction city",
         "lon": [
          -96.8314
         ],
         "marker": {
          "color": "#FFA15A",
          "size": [
           86
          ],
          "sizemode": "area",
          "sizeref": 2.0408163265306123,
          "symbol": "circle"
         },
         "mode": "markers",
         "name": "junction city",
         "showlegend": true,
         "type": "scattergeo"
        },
        {
         "geo": "geo",
         "hovertemplate": "City=gawler<br>Humidity=%{marker.size}<br>Lat=%{lat}<br>Lng=%{lon}<extra></extra>",
         "lat": [
          -34.6
         ],
         "legendgroup": "gawler",
         "lon": [
          138.7333
         ],
         "marker": {
          "color": "#19d3f3",
          "size": [
           47
          ],
          "sizemode": "area",
          "sizeref": 2.0408163265306123,
          "symbol": "circle"
         },
         "mode": "markers",
         "name": "gawler",
         "showlegend": true,
         "type": "scattergeo"
        },
        {
         "geo": "geo",
         "hovertemplate": "City=santa isabel do rio negro<br>Humidity=%{marker.size}<br>Lat=%{lat}<br>Lng=%{lon}<extra></extra>",
         "lat": [
          -0.4139
         ],
         "legendgroup": "santa isabel do rio negro",
         "lon": [
          -65.0192
         ],
         "marker": {
          "color": "#FF6692",
          "size": [
           91
          ],
          "sizemode": "area",
          "sizeref": 2.0408163265306123,
          "symbol": "circle"
         },
         "mode": "markers",
         "name": "santa isabel do rio negro",
         "showlegend": true,
         "type": "scattergeo"
        },
        {
         "geo": "geo",
         "hovertemplate": "City=saint-philippe<br>Humidity=%{marker.size}<br>Lat=%{lat}<br>Lng=%{lon}<extra></extra>",
         "lat": [
          -21.3585
         ],
         "legendgroup": "saint-philippe",
         "lon": [
          55.7679
         ],
         "marker": {
          "color": "#B6E880",
          "size": [
           83
          ],
          "sizemode": "area",
          "sizeref": 2.0408163265306123,
          "symbol": "circle"
         },
         "mode": "markers",
         "name": "saint-philippe",
         "showlegend": true,
         "type": "scattergeo"
        },
        {
         "geo": "geo",
         "hovertemplate": "City=tuktoyaktuk<br>Humidity=%{marker.size}<br>Lat=%{lat}<br>Lng=%{lon}<extra></extra>",
         "lat": [
          69.4541
         ],
         "legendgroup": "tuktoyaktuk",
         "lon": [
          -133.0374
         ],
         "marker": {
          "color": "#FF97FF",
          "size": [
           76
          ],
          "sizemode": "area",
          "sizeref": 2.0408163265306123,
          "symbol": "circle"
         },
         "mode": "markers",
         "name": "tuktoyaktuk",
         "showlegend": true,
         "type": "scattergeo"
        },
        {
         "geo": "geo",
         "hovertemplate": "City=cape town<br>Humidity=%{marker.size}<br>Lat=%{lat}<br>Lng=%{lon}<extra></extra>",
         "lat": [
          -33.9258
         ],
         "legendgroup": "cape town",
         "lon": [
          18.4232
         ],
         "marker": {
          "color": "#FECB52",
          "size": [
           76
          ],
          "sizemode": "area",
          "sizeref": 2.0408163265306123,
          "symbol": "circle"
         },
         "mode": "markers",
         "name": "cape town",
         "showlegend": true,
         "type": "scattergeo"
        },
        {
         "geo": "geo",
         "hovertemplate": "City=lillooet<br>Humidity=%{marker.size}<br>Lat=%{lat}<br>Lng=%{lon}<extra></extra>",
         "lat": [
          50.6856
         ],
         "legendgroup": "lillooet",
         "lon": [
          -121.94200000000001
         ],
         "marker": {
          "color": "#636efa",
          "size": [
           94
          ],
          "sizemode": "area",
          "sizeref": 2.0408163265306123,
          "symbol": "circle"
         },
         "mode": "markers",
         "name": "lillooet",
         "showlegend": true,
         "type": "scattergeo"
        },
        {
         "geo": "geo",
         "hovertemplate": "City=faanui<br>Humidity=%{marker.size}<br>Lat=%{lat}<br>Lng=%{lon}<extra></extra>",
         "lat": [
          -16.4833
         ],
         "legendgroup": "faanui",
         "lon": [
          -151.75
         ],
         "marker": {
          "color": "#EF553B",
          "size": [
           77
          ],
          "sizemode": "area",
          "sizeref": 2.0408163265306123,
          "symbol": "circle"
         },
         "mode": "markers",
         "name": "faanui",
         "showlegend": true,
         "type": "scattergeo"
        },
        {
         "geo": "geo",
         "hovertemplate": "City=atuona<br>Humidity=%{marker.size}<br>Lat=%{lat}<br>Lng=%{lon}<extra></extra>",
         "lat": [
          -9.8
         ],
         "legendgroup": "atuona",
         "lon": [
          -139.0333
         ],
         "marker": {
          "color": "#00cc96",
          "size": [
           77
          ],
          "sizemode": "area",
          "sizeref": 2.0408163265306123,
          "symbol": "circle"
         },
         "mode": "markers",
         "name": "atuona",
         "showlegend": true,
         "type": "scattergeo"
        },
        {
         "geo": "geo",
         "hovertemplate": "City=fortuna<br>Humidity=%{marker.size}<br>Lat=%{lat}<br>Lng=%{lon}<extra></extra>",
         "lat": [
          40.5982
         ],
         "legendgroup": "fortuna",
         "lon": [
          -124.1573
         ],
         "marker": {
          "color": "#ab63fa",
          "size": [
           90
          ],
          "sizemode": "area",
          "sizeref": 2.0408163265306123,
          "symbol": "circle"
         },
         "mode": "markers",
         "name": "fortuna",
         "showlegend": true,
         "type": "scattergeo"
        },
        {
         "geo": "geo",
         "hovertemplate": "City=brae<br>Humidity=%{marker.size}<br>Lat=%{lat}<br>Lng=%{lon}<extra></extra>",
         "lat": [
          60.3964
         ],
         "legendgroup": "brae",
         "lon": [
          -1.3530000000000002
         ],
         "marker": {
          "color": "#FFA15A",
          "size": [
           98
          ],
          "sizemode": "area",
          "sizeref": 2.0408163265306123,
          "symbol": "circle"
         },
         "mode": "markers",
         "name": "brae",
         "showlegend": true,
         "type": "scattergeo"
        },
        {
         "geo": "geo",
         "hovertemplate": "City=riviere-au-renard<br>Humidity=%{marker.size}<br>Lat=%{lat}<br>Lng=%{lon}<extra></extra>",
         "lat": [
          48.9957
         ],
         "legendgroup": "riviere-au-renard",
         "lon": [
          -64.3971
         ],
         "marker": {
          "color": "#19d3f3",
          "size": [
           87
          ],
          "sizemode": "area",
          "sizeref": 2.0408163265306123,
          "symbol": "circle"
         },
         "mode": "markers",
         "name": "riviere-au-renard",
         "showlegend": true,
         "type": "scattergeo"
        },
        {
         "geo": "geo",
         "hovertemplate": "City=sioux lookout<br>Humidity=%{marker.size}<br>Lat=%{lat}<br>Lng=%{lon}<extra></extra>",
         "lat": [
          50.1001
         ],
         "legendgroup": "sioux lookout",
         "lon": [
          -91.917
         ],
         "marker": {
          "color": "#FF6692",
          "size": [
           79
          ],
          "sizemode": "area",
          "sizeref": 2.0408163265306123,
          "symbol": "circle"
         },
         "mode": "markers",
         "name": "sioux lookout",
         "showlegend": true,
         "type": "scattergeo"
        },
        {
         "geo": "geo",
         "hovertemplate": "City=vaitape<br>Humidity=%{marker.size}<br>Lat=%{lat}<br>Lng=%{lon}<extra></extra>",
         "lat": [
          -16.5167
         ],
         "legendgroup": "vaitape",
         "lon": [
          -151.75
         ],
         "marker": {
          "color": "#B6E880",
          "size": [
           76
          ],
          "sizemode": "area",
          "sizeref": 2.0408163265306123,
          "symbol": "circle"
         },
         "mode": "markers",
         "name": "vaitape",
         "showlegend": true,
         "type": "scattergeo"
        },
        {
         "geo": "geo",
         "hovertemplate": "City=yatou<br>Humidity=%{marker.size}<br>Lat=%{lat}<br>Lng=%{lon}<extra></extra>",
         "lat": [
          37.15
         ],
         "legendgroup": "yatou",
         "lon": [
          122.3833
         ],
         "marker": {
          "color": "#FF97FF",
          "size": [
           76
          ],
          "sizemode": "area",
          "sizeref": 2.0408163265306123,
          "symbol": "circle"
         },
         "mode": "markers",
         "name": "yatou",
         "showlegend": true,
         "type": "scattergeo"
        },
        {
         "geo": "geo",
         "hovertemplate": "City=saskylakh<br>Humidity=%{marker.size}<br>Lat=%{lat}<br>Lng=%{lon}<extra></extra>",
         "lat": [
          71.9167
         ],
         "legendgroup": "saskylakh",
         "lon": [
          114.0833
         ],
         "marker": {
          "color": "#FECB52",
          "size": [
           82
          ],
          "sizemode": "area",
          "sizeref": 2.0408163265306123,
          "symbol": "circle"
         },
         "mode": "markers",
         "name": "saskylakh",
         "showlegend": true,
         "type": "scattergeo"
        },
        {
         "geo": "geo",
         "hovertemplate": "City=santo domingo<br>Humidity=%{marker.size}<br>Lat=%{lat}<br>Lng=%{lon}<extra></extra>",
         "lat": [
          18.5001
         ],
         "legendgroup": "santo domingo",
         "lon": [
          -69.9886
         ],
         "marker": {
          "color": "#636efa",
          "size": [
           94
          ],
          "sizemode": "area",
          "sizeref": 2.0408163265306123,
          "symbol": "circle"
         },
         "mode": "markers",
         "name": "santo domingo",
         "showlegend": true,
         "type": "scattergeo"
        },
        {
         "geo": "geo",
         "hovertemplate": "City=airai<br>Humidity=%{marker.size}<br>Lat=%{lat}<br>Lng=%{lon}<extra></extra>",
         "lat": [
          -8.9266
         ],
         "legendgroup": "airai",
         "lon": [
          125.4092
         ],
         "marker": {
          "color": "#EF553B",
          "size": [
           71
          ],
          "sizemode": "area",
          "sizeref": 2.0408163265306123,
          "symbol": "circle"
         },
         "mode": "markers",
         "name": "airai",
         "showlegend": true,
         "type": "scattergeo"
        },
        {
         "geo": "geo",
         "hovertemplate": "City=oruro<br>Humidity=%{marker.size}<br>Lat=%{lat}<br>Lng=%{lon}<extra></extra>",
         "lat": [
          -17.9833
         ],
         "legendgroup": "oruro",
         "lon": [
          -67.15
         ],
         "marker": {
          "color": "#00cc96",
          "size": [
           66
          ],
          "sizemode": "area",
          "sizeref": 2.0408163265306123,
          "symbol": "circle"
         },
         "mode": "markers",
         "name": "oruro",
         "showlegend": true,
         "type": "scattergeo"
        },
        {
         "geo": "geo",
         "hovertemplate": "City=canico<br>Humidity=%{marker.size}<br>Lat=%{lat}<br>Lng=%{lon}<extra></extra>",
         "lat": [
          32.6333
         ],
         "legendgroup": "canico",
         "lon": [
          -16.85
         ],
         "marker": {
          "color": "#ab63fa",
          "size": [
           75
          ],
          "sizemode": "area",
          "sizeref": 2.0408163265306123,
          "symbol": "circle"
         },
         "mode": "markers",
         "name": "canico",
         "showlegend": true,
         "type": "scattergeo"
        },
        {
         "geo": "geo",
         "hovertemplate": "City=basco<br>Humidity=%{marker.size}<br>Lat=%{lat}<br>Lng=%{lon}<extra></extra>",
         "lat": [
          20.4487
         ],
         "legendgroup": "basco",
         "lon": [
          121.9702
         ],
         "marker": {
          "color": "#FFA15A",
          "size": [
           80
          ],
          "sizemode": "area",
          "sizeref": 2.0408163265306123,
          "symbol": "circle"
         },
         "mode": "markers",
         "name": "basco",
         "showlegend": true,
         "type": "scattergeo"
        },
        {
         "geo": "geo",
         "hovertemplate": "City=port hardy<br>Humidity=%{marker.size}<br>Lat=%{lat}<br>Lng=%{lon}<extra></extra>",
         "lat": [
          50.6996
         ],
         "legendgroup": "port hardy",
         "lon": [
          -127.4199
         ],
         "marker": {
          "color": "#19d3f3",
          "size": [
           100
          ],
          "sizemode": "area",
          "sizeref": 2.0408163265306123,
          "symbol": "circle"
         },
         "mode": "markers",
         "name": "port hardy",
         "showlegend": true,
         "type": "scattergeo"
        },
        {
         "geo": "geo",
         "hovertemplate": "City=kapaa<br>Humidity=%{marker.size}<br>Lat=%{lat}<br>Lng=%{lon}<extra></extra>",
         "lat": [
          22.0752
         ],
         "legendgroup": "kapaa",
         "lon": [
          -159.319
         ],
         "marker": {
          "color": "#FF6692",
          "size": [
           81
          ],
          "sizemode": "area",
          "sizeref": 2.0408163265306123,
          "symbol": "circle"
         },
         "mode": "markers",
         "name": "kapaa",
         "showlegend": true,
         "type": "scattergeo"
        },
        {
         "geo": "geo",
         "hovertemplate": "City=bereda<br>Humidity=%{marker.size}<br>Lat=%{lat}<br>Lng=%{lon}<extra></extra>",
         "lat": [
          43.2686
         ],
         "legendgroup": "bereda",
         "lon": [
          -7.5406
         ],
         "marker": {
          "color": "#B6E880",
          "size": [
           100
          ],
          "sizemode": "area",
          "sizeref": 2.0408163265306123,
          "symbol": "circle"
         },
         "mode": "markers",
         "name": "bereda",
         "showlegend": true,
         "type": "scattergeo"
        },
        {
         "geo": "geo",
         "hovertemplate": "City=kattivakkam<br>Humidity=%{marker.size}<br>Lat=%{lat}<br>Lng=%{lon}<extra></extra>",
         "lat": [
          13.2167
         ],
         "legendgroup": "kattivakkam",
         "lon": [
          80.3167
         ],
         "marker": {
          "color": "#FF97FF",
          "size": [
           60
          ],
          "sizemode": "area",
          "sizeref": 2.0408163265306123,
          "symbol": "circle"
         },
         "mode": "markers",
         "name": "kattivakkam",
         "showlegend": true,
         "type": "scattergeo"
        },
        {
         "geo": "geo",
         "hovertemplate": "City=upernavik<br>Humidity=%{marker.size}<br>Lat=%{lat}<br>Lng=%{lon}<extra></extra>",
         "lat": [
          72.7868
         ],
         "legendgroup": "upernavik",
         "lon": [
          -56.1549
         ],
         "marker": {
          "color": "#FECB52",
          "size": [
           98
          ],
          "sizemode": "area",
          "sizeref": 2.0408163265306123,
          "symbol": "circle"
         },
         "mode": "markers",
         "name": "upernavik",
         "showlegend": true,
         "type": "scattergeo"
        },
        {
         "geo": "geo",
         "hovertemplate": "City=avarua<br>Humidity=%{marker.size}<br>Lat=%{lat}<br>Lng=%{lon}<extra></extra>",
         "lat": [
          -21.2078
         ],
         "legendgroup": "avarua",
         "lon": [
          -159.775
         ],
         "marker": {
          "color": "#636efa",
          "size": [
           69
          ],
          "sizemode": "area",
          "sizeref": 2.0408163265306123,
          "symbol": "circle"
         },
         "mode": "markers",
         "name": "avarua",
         "showlegend": true,
         "type": "scattergeo"
        },
        {
         "geo": "geo",
         "hovertemplate": "City=lebu<br>Humidity=%{marker.size}<br>Lat=%{lat}<br>Lng=%{lon}<extra></extra>",
         "lat": [
          -37.6167
         ],
         "legendgroup": "lebu",
         "lon": [
          -73.65
         ],
         "marker": {
          "color": "#EF553B",
          "size": [
           98
          ],
          "sizemode": "area",
          "sizeref": 2.0408163265306123,
          "symbol": "circle"
         },
         "mode": "markers",
         "name": "lebu",
         "showlegend": true,
         "type": "scattergeo"
        },
        {
         "geo": "geo",
         "hovertemplate": "City=ponta do sol<br>Humidity=%{marker.size}<br>Lat=%{lat}<br>Lng=%{lon}<extra></extra>",
         "lat": [
          32.6667
         ],
         "legendgroup": "ponta do sol",
         "lon": [
          -17.1
         ],
         "marker": {
          "color": "#00cc96",
          "size": [
           65
          ],
          "sizemode": "area",
          "sizeref": 2.0408163265306123,
          "symbol": "circle"
         },
         "mode": "markers",
         "name": "ponta do sol",
         "showlegend": true,
         "type": "scattergeo"
        },
        {
         "geo": "geo",
         "hovertemplate": "City=port macquarie<br>Humidity=%{marker.size}<br>Lat=%{lat}<br>Lng=%{lon}<extra></extra>",
         "lat": [
          -31.4333
         ],
         "legendgroup": "port macquarie",
         "lon": [
          152.9167
         ],
         "marker": {
          "color": "#ab63fa",
          "size": [
           65
          ],
          "sizemode": "area",
          "sizeref": 2.0408163265306123,
          "symbol": "circle"
         },
         "mode": "markers",
         "name": "port macquarie",
         "showlegend": true,
         "type": "scattergeo"
        },
        {
         "geo": "geo",
         "hovertemplate": "City=agucadoura<br>Humidity=%{marker.size}<br>Lat=%{lat}<br>Lng=%{lon}<extra></extra>",
         "lat": [
          41.4318
         ],
         "legendgroup": "agucadoura",
         "lon": [
          -8.7804
         ],
         "marker": {
          "color": "#FFA15A",
          "size": [
           62
          ],
          "sizemode": "area",
          "sizeref": 2.0408163265306123,
          "symbol": "circle"
         },
         "mode": "markers",
         "name": "agucadoura",
         "showlegend": true,
         "type": "scattergeo"
        },
        {
         "geo": "geo",
         "hovertemplate": "City=mahebourg<br>Humidity=%{marker.size}<br>Lat=%{lat}<br>Lng=%{lon}<extra></extra>",
         "lat": [
          -20.4081
         ],
         "legendgroup": "mahebourg",
         "lon": [
          57.7
         ],
         "marker": {
          "color": "#19d3f3",
          "size": [
           94
          ],
          "sizemode": "area",
          "sizeref": 2.0408163265306123,
          "symbol": "circle"
         },
         "mode": "markers",
         "name": "mahebourg",
         "showlegend": true,
         "type": "scattergeo"
        },
        {
         "geo": "geo",
         "hovertemplate": "City=camacha<br>Humidity=%{marker.size}<br>Lat=%{lat}<br>Lng=%{lon}<extra></extra>",
         "lat": [
          33.0833
         ],
         "legendgroup": "camacha",
         "lon": [
          -16.3333
         ],
         "marker": {
          "color": "#FF6692",
          "size": [
           63
          ],
          "sizemode": "area",
          "sizeref": 2.0408163265306123,
          "symbol": "circle"
         },
         "mode": "markers",
         "name": "camacha",
         "showlegend": true,
         "type": "scattergeo"
        },
        {
         "geo": "geo",
         "hovertemplate": "City=thompson<br>Humidity=%{marker.size}<br>Lat=%{lat}<br>Lng=%{lon}<extra></extra>",
         "lat": [
          55.7435
         ],
         "legendgroup": "thompson",
         "lon": [
          -97.8558
         ],
         "marker": {
          "color": "#B6E880",
          "size": [
           76
          ],
          "sizemode": "area",
          "sizeref": 2.0408163265306123,
          "symbol": "circle"
         },
         "mode": "markers",
         "name": "thompson",
         "showlegend": true,
         "type": "scattergeo"
        },
        {
         "geo": "geo",
         "hovertemplate": "City=port-gentil<br>Humidity=%{marker.size}<br>Lat=%{lat}<br>Lng=%{lon}<extra></extra>",
         "lat": [
          -0.7193
         ],
         "legendgroup": "port-gentil",
         "lon": [
          8.7815
         ],
         "marker": {
          "color": "#FF97FF",
          "size": [
           79
          ],
          "sizemode": "area",
          "sizeref": 2.0408163265306123,
          "symbol": "circle"
         },
         "mode": "markers",
         "name": "port-gentil",
         "showlegend": true,
         "type": "scattergeo"
        },
        {
         "geo": "geo",
         "hovertemplate": "City=namibe<br>Humidity=%{marker.size}<br>Lat=%{lat}<br>Lng=%{lon}<extra></extra>",
         "lat": [
          -15.1961
         ],
         "legendgroup": "namibe",
         "lon": [
          12.1522
         ],
         "marker": {
          "color": "#FECB52",
          "size": [
           86
          ],
          "sizemode": "area",
          "sizeref": 2.0408163265306123,
          "symbol": "circle"
         },
         "mode": "markers",
         "name": "namibe",
         "showlegend": true,
         "type": "scattergeo"
        },
        {
         "geo": "geo",
         "hovertemplate": "City=tiksi<br>Humidity=%{marker.size}<br>Lat=%{lat}<br>Lng=%{lon}<extra></extra>",
         "lat": [
          71.6872
         ],
         "legendgroup": "tiksi",
         "lon": [
          128.8694
         ],
         "marker": {
          "color": "#636efa",
          "size": [
           100
          ],
          "sizemode": "area",
          "sizeref": 2.0408163265306123,
          "symbol": "circle"
         },
         "mode": "markers",
         "name": "tiksi",
         "showlegend": true,
         "type": "scattergeo"
        },
        {
         "geo": "geo",
         "hovertemplate": "City=touros<br>Humidity=%{marker.size}<br>Lat=%{lat}<br>Lng=%{lon}<extra></extra>",
         "lat": [
          -5.1989
         ],
         "legendgroup": "touros",
         "lon": [
          -35.4608
         ],
         "marker": {
          "color": "#EF553B",
          "size": [
           76
          ],
          "sizemode": "area",
          "sizeref": 2.0408163265306123,
          "symbol": "circle"
         },
         "mode": "markers",
         "name": "touros",
         "showlegend": true,
         "type": "scattergeo"
        },
        {
         "geo": "geo",
         "hovertemplate": "City=changli<br>Humidity=%{marker.size}<br>Lat=%{lat}<br>Lng=%{lon}<extra></extra>",
         "lat": [
          39.7042
         ],
         "legendgroup": "changli",
         "lon": [
          119.1506
         ],
         "marker": {
          "color": "#00cc96",
          "size": [
           18
          ],
          "sizemode": "area",
          "sizeref": 2.0408163265306123,
          "symbol": "circle"
         },
         "mode": "markers",
         "name": "changli",
         "showlegend": true,
         "type": "scattergeo"
        },
        {
         "geo": "geo",
         "hovertemplate": "City=pevek<br>Humidity=%{marker.size}<br>Lat=%{lat}<br>Lng=%{lon}<extra></extra>",
         "lat": [
          69.7008
         ],
         "legendgroup": "pevek",
         "lon": [
          170.3133
         ],
         "marker": {
          "color": "#ab63fa",
          "size": [
           82
          ],
          "sizemode": "area",
          "sizeref": 2.0408163265306123,
          "symbol": "circle"
         },
         "mode": "markers",
         "name": "pevek",
         "showlegend": true,
         "type": "scattergeo"
        },
        {
         "geo": "geo",
         "hovertemplate": "City=olinda<br>Humidity=%{marker.size}<br>Lat=%{lat}<br>Lng=%{lon}<extra></extra>",
         "lat": [
          -8.0089
         ],
         "legendgroup": "olinda",
         "lon": [
          -34.8553
         ],
         "marker": {
          "color": "#FFA15A",
          "size": [
           74
          ],
          "sizemode": "area",
          "sizeref": 2.0408163265306123,
          "symbol": "circle"
         },
         "mode": "markers",
         "name": "olinda",
         "showlegend": true,
         "type": "scattergeo"
        },
        {
         "geo": "geo",
         "hovertemplate": "City=pacific grove<br>Humidity=%{marker.size}<br>Lat=%{lat}<br>Lng=%{lon}<extra></extra>",
         "lat": [
          36.6177
         ],
         "legendgroup": "pacific grove",
         "lon": [
          -121.9166
         ],
         "marker": {
          "color": "#19d3f3",
          "size": [
           72
          ],
          "sizemode": "area",
          "sizeref": 2.0408163265306123,
          "symbol": "circle"
         },
         "mode": "markers",
         "name": "pacific grove",
         "showlegend": true,
         "type": "scattergeo"
        },
        {
         "geo": "geo",
         "hovertemplate": "City=dikson<br>Humidity=%{marker.size}<br>Lat=%{lat}<br>Lng=%{lon}<extra></extra>",
         "lat": [
          73.5069
         ],
         "legendgroup": "dikson",
         "lon": [
          80.5464
         ],
         "marker": {
          "color": "#FF6692",
          "size": [
           85
          ],
          "sizemode": "area",
          "sizeref": 2.0408163265306123,
          "symbol": "circle"
         },
         "mode": "markers",
         "name": "dikson",
         "showlegend": true,
         "type": "scattergeo"
        },
        {
         "geo": "geo",
         "hovertemplate": "City=kropotkin<br>Humidity=%{marker.size}<br>Lat=%{lat}<br>Lng=%{lon}<extra></extra>",
         "lat": [
          45.4375
         ],
         "legendgroup": "kropotkin",
         "lon": [
          40.5756
         ],
         "marker": {
          "color": "#B6E880",
          "size": [
           77
          ],
          "sizemode": "area",
          "sizeref": 2.0408163265306123,
          "symbol": "circle"
         },
         "mode": "markers",
         "name": "kropotkin",
         "showlegend": true,
         "type": "scattergeo"
        },
        {
         "geo": "geo",
         "hovertemplate": "City=nohar<br>Humidity=%{marker.size}<br>Lat=%{lat}<br>Lng=%{lon}<extra></extra>",
         "lat": [
          29.1833
         ],
         "legendgroup": "nohar",
         "lon": [
          74.7667
         ],
         "marker": {
          "color": "#FF97FF",
          "size": [
           47
          ],
          "sizemode": "area",
          "sizeref": 2.0408163265306123,
          "symbol": "circle"
         },
         "mode": "markers",
         "name": "nohar",
         "showlegend": true,
         "type": "scattergeo"
        },
        {
         "geo": "geo",
         "hovertemplate": "City=koboko<br>Humidity=%{marker.size}<br>Lat=%{lat}<br>Lng=%{lon}<extra></extra>",
         "lat": [
          3.4136
         ],
         "legendgroup": "koboko",
         "lon": [
          30.9599
         ],
         "marker": {
          "color": "#FECB52",
          "size": [
           32
          ],
          "sizemode": "area",
          "sizeref": 2.0408163265306123,
          "symbol": "circle"
         },
         "mode": "markers",
         "name": "koboko",
         "showlegend": true,
         "type": "scattergeo"
        },
        {
         "geo": "geo",
         "hovertemplate": "City=saldanha<br>Humidity=%{marker.size}<br>Lat=%{lat}<br>Lng=%{lon}<extra></extra>",
         "lat": [
          -33.0117
         ],
         "legendgroup": "saldanha",
         "lon": [
          17.9442
         ],
         "marker": {
          "color": "#636efa",
          "size": [
           90
          ],
          "sizemode": "area",
          "sizeref": 2.0408163265306123,
          "symbol": "circle"
         },
         "mode": "markers",
         "name": "saldanha",
         "showlegend": true,
         "type": "scattergeo"
        },
        {
         "geo": "geo",
         "hovertemplate": "City=butaritari<br>Humidity=%{marker.size}<br>Lat=%{lat}<br>Lng=%{lon}<extra></extra>",
         "lat": [
          3.0707
         ],
         "legendgroup": "butaritari",
         "lon": [
          172.7902
         ],
         "marker": {
          "color": "#EF553B",
          "size": [
           79
          ],
          "sizemode": "area",
          "sizeref": 2.0408163265306123,
          "symbol": "circle"
         },
         "mode": "markers",
         "name": "butaritari",
         "showlegend": true,
         "type": "scattergeo"
        },
        {
         "geo": "geo",
         "hovertemplate": "City=sitka<br>Humidity=%{marker.size}<br>Lat=%{lat}<br>Lng=%{lon}<extra></extra>",
         "lat": [
          57.0531
         ],
         "legendgroup": "sitka",
         "lon": [
          -135.33
         ],
         "marker": {
          "color": "#00cc96",
          "size": [
           87
          ],
          "sizemode": "area",
          "sizeref": 2.0408163265306123,
          "symbol": "circle"
         },
         "mode": "markers",
         "name": "sitka",
         "showlegend": true,
         "type": "scattergeo"
        },
        {
         "geo": "geo",
         "hovertemplate": "City=mecca<br>Humidity=%{marker.size}<br>Lat=%{lat}<br>Lng=%{lon}<extra></extra>",
         "lat": [
          21.4267
         ],
         "legendgroup": "mecca",
         "lon": [
          39.8261
         ],
         "marker": {
          "color": "#ab63fa",
          "size": [
           75
          ],
          "sizemode": "area",
          "sizeref": 2.0408163265306123,
          "symbol": "circle"
         },
         "mode": "markers",
         "name": "mecca",
         "showlegend": true,
         "type": "scattergeo"
        },
        {
         "geo": "geo",
         "hovertemplate": "City=west wendover<br>Humidity=%{marker.size}<br>Lat=%{lat}<br>Lng=%{lon}<extra></extra>",
         "lat": [
          40.7391
         ],
         "legendgroup": "west wendover",
         "lon": [
          -114.0733
         ],
         "marker": {
          "color": "#FFA15A",
          "size": [
           74
          ],
          "sizemode": "area",
          "sizeref": 2.0408163265306123,
          "symbol": "circle"
         },
         "mode": "markers",
         "name": "west wendover",
         "showlegend": true,
         "type": "scattergeo"
        },
        {
         "geo": "geo",
         "hovertemplate": "City=arawa<br>Humidity=%{marker.size}<br>Lat=%{lat}<br>Lng=%{lon}<extra></extra>",
         "lat": [
          -6.2132
         ],
         "legendgroup": "arawa",
         "lon": [
          155.5367
         ],
         "marker": {
          "color": "#19d3f3",
          "size": [
           69
          ],
          "sizemode": "area",
          "sizeref": 2.0408163265306123,
          "symbol": "circle"
         },
         "mode": "markers",
         "name": "arawa",
         "showlegend": true,
         "type": "scattergeo"
        },
        {
         "geo": "geo",
         "hovertemplate": "City=ta khmau<br>Humidity=%{marker.size}<br>Lat=%{lat}<br>Lng=%{lon}<extra></extra>",
         "lat": [
          11.4833
         ],
         "legendgroup": "ta khmau",
         "lon": [
          104.95
         ],
         "marker": {
          "color": "#FF6692",
          "size": [
           70
          ],
          "sizemode": "area",
          "sizeref": 2.0408163265306123,
          "symbol": "circle"
         },
         "mode": "markers",
         "name": "ta khmau",
         "showlegend": true,
         "type": "scattergeo"
        },
        {
         "geo": "geo",
         "hovertemplate": "City=kahului<br>Humidity=%{marker.size}<br>Lat=%{lat}<br>Lng=%{lon}<extra></extra>",
         "lat": [
          20.8947
         ],
         "legendgroup": "kahului",
         "lon": [
          -156.47
         ],
         "marker": {
          "color": "#B6E880",
          "size": [
           72
          ],
          "sizemode": "area",
          "sizeref": 2.0408163265306123,
          "symbol": "circle"
         },
         "mode": "markers",
         "name": "kahului",
         "showlegend": true,
         "type": "scattergeo"
        },
        {
         "geo": "geo",
         "hovertemplate": "City=harper<br>Humidity=%{marker.size}<br>Lat=%{lat}<br>Lng=%{lon}<extra></extra>",
         "lat": [
          4.375
         ],
         "legendgroup": "harper",
         "lon": [
          -7.7169
         ],
         "marker": {
          "color": "#FF97FF",
          "size": [
           84
          ],
          "sizemode": "area",
          "sizeref": 2.0408163265306123,
          "symbol": "circle"
         },
         "mode": "markers",
         "name": "harper",
         "showlegend": true,
         "type": "scattergeo"
        },
        {
         "geo": "geo",
         "hovertemplate": "City=gaoua<br>Humidity=%{marker.size}<br>Lat=%{lat}<br>Lng=%{lon}<extra></extra>",
         "lat": [
          10.2992
         ],
         "legendgroup": "gaoua",
         "lon": [
          -3.2508
         ],
         "marker": {
          "color": "#FECB52",
          "size": [
           22
          ],
          "sizemode": "area",
          "sizeref": 2.0408163265306123,
          "symbol": "circle"
         },
         "mode": "markers",
         "name": "gaoua",
         "showlegend": true,
         "type": "scattergeo"
        },
        {
         "geo": "geo",
         "hovertemplate": "City=puerto escondido<br>Humidity=%{marker.size}<br>Lat=%{lat}<br>Lng=%{lon}<extra></extra>",
         "lat": [
          15.85
         ],
         "legendgroup": "puerto escondido",
         "lon": [
          -97.0667
         ],
         "marker": {
          "color": "#636efa",
          "size": [
           73
          ],
          "sizemode": "area",
          "sizeref": 2.0408163265306123,
          "symbol": "circle"
         },
         "mode": "markers",
         "name": "puerto escondido",
         "showlegend": true,
         "type": "scattergeo"
        },
        {
         "geo": "geo",
         "hovertemplate": "City=mareeba<br>Humidity=%{marker.size}<br>Lat=%{lat}<br>Lng=%{lon}<extra></extra>",
         "lat": [
          -17
         ],
         "legendgroup": "mareeba",
         "lon": [
          145.4333
         ],
         "marker": {
          "color": "#EF553B",
          "size": [
           71
          ],
          "sizemode": "area",
          "sizeref": 2.0408163265306123,
          "symbol": "circle"
         },
         "mode": "markers",
         "name": "mareeba",
         "showlegend": true,
         "type": "scattergeo"
        },
        {
         "geo": "geo",
         "hovertemplate": "City=bambous virieux<br>Humidity=%{marker.size}<br>Lat=%{lat}<br>Lng=%{lon}<extra></extra>",
         "lat": [
          -20.3428
         ],
         "legendgroup": "bambous virieux",
         "lon": [
          57.7575
         ],
         "marker": {
          "color": "#00cc96",
          "size": [
           94
          ],
          "sizemode": "area",
          "sizeref": 2.0408163265306123,
          "symbol": "circle"
         },
         "mode": "markers",
         "name": "bambous virieux",
         "showlegend": true,
         "type": "scattergeo"
        },
        {
         "geo": "geo",
         "hovertemplate": "City=kapuskasing<br>Humidity=%{marker.size}<br>Lat=%{lat}<br>Lng=%{lon}<extra></extra>",
         "lat": [
          49.4169
         ],
         "legendgroup": "kapuskasing",
         "lon": [
          -82.4331
         ],
         "marker": {
          "color": "#ab63fa",
          "size": [
           86
          ],
          "sizemode": "area",
          "sizeref": 2.0408163265306123,
          "symbol": "circle"
         },
         "mode": "markers",
         "name": "kapuskasing",
         "showlegend": true,
         "type": "scattergeo"
        },
        {
         "geo": "geo",
         "hovertemplate": "City=fukue<br>Humidity=%{marker.size}<br>Lat=%{lat}<br>Lng=%{lon}<extra></extra>",
         "lat": [
          32.6881
         ],
         "legendgroup": "fukue",
         "lon": [
          128.8419
         ],
         "marker": {
          "color": "#FFA15A",
          "size": [
           69
          ],
          "sizemode": "area",
          "sizeref": 2.0408163265306123,
          "symbol": "circle"
         },
         "mode": "markers",
         "name": "fukue",
         "showlegend": true,
         "type": "scattergeo"
        },
        {
         "geo": "geo",
         "hovertemplate": "City=arona<br>Humidity=%{marker.size}<br>Lat=%{lat}<br>Lng=%{lon}<extra></extra>",
         "lat": [
          28.0996
         ],
         "legendgroup": "arona",
         "lon": [
          -16.680999999999997
         ],
         "marker": {
          "color": "#19d3f3",
          "size": [
           59
          ],
          "sizemode": "area",
          "sizeref": 2.0408163265306123,
          "symbol": "circle"
         },
         "mode": "markers",
         "name": "arona",
         "showlegend": true,
         "type": "scattergeo"
        },
        {
         "geo": "geo",
         "hovertemplate": "City=san borja<br>Humidity=%{marker.size}<br>Lat=%{lat}<br>Lng=%{lon}<extra></extra>",
         "lat": [
          -14.8167
         ],
         "legendgroup": "san borja",
         "lon": [
          -66.85
         ],
         "marker": {
          "color": "#FF6692",
          "size": [
           82
          ],
          "sizemode": "area",
          "sizeref": 2.0408163265306123,
          "symbol": "circle"
         },
         "mode": "markers",
         "name": "san borja",
         "showlegend": true,
         "type": "scattergeo"
        },
        {
         "geo": "geo",
         "hovertemplate": "City=lakes entrance<br>Humidity=%{marker.size}<br>Lat=%{lat}<br>Lng=%{lon}<extra></extra>",
         "lat": [
          -37.8811
         ],
         "legendgroup": "lakes entrance",
         "lon": [
          147.981
         ],
         "marker": {
          "color": "#B6E880",
          "size": [
           64
          ],
          "sizemode": "area",
          "sizeref": 2.0408163265306123,
          "symbol": "circle"
         },
         "mode": "markers",
         "name": "lakes entrance",
         "showlegend": true,
         "type": "scattergeo"
        },
        {
         "geo": "geo",
         "hovertemplate": "City=grindavik<br>Humidity=%{marker.size}<br>Lat=%{lat}<br>Lng=%{lon}<extra></extra>",
         "lat": [
          63.8424
         ],
         "legendgroup": "grindavik",
         "lon": [
          -22.4338
         ],
         "marker": {
          "color": "#FF97FF",
          "size": [
           93
          ],
          "sizemode": "area",
          "sizeref": 2.0408163265306123,
          "symbol": "circle"
         },
         "mode": "markers",
         "name": "grindavik",
         "showlegend": true,
         "type": "scattergeo"
        },
        {
         "geo": "geo",
         "hovertemplate": "City=linqiong<br>Humidity=%{marker.size}<br>Lat=%{lat}<br>Lng=%{lon}<extra></extra>",
         "lat": [
          30.4159
         ],
         "legendgroup": "linqiong",
         "lon": [
          103.4609
         ],
         "marker": {
          "color": "#FECB52",
          "size": [
           35
          ],
          "sizemode": "area",
          "sizeref": 2.0408163265306123,
          "symbol": "circle"
         },
         "mode": "markers",
         "name": "linqiong",
         "showlegend": true,
         "type": "scattergeo"
        },
        {
         "geo": "geo",
         "hovertemplate": "City=kontagora<br>Humidity=%{marker.size}<br>Lat=%{lat}<br>Lng=%{lon}<extra></extra>",
         "lat": [
          10.3999
         ],
         "legendgroup": "kontagora",
         "lon": [
          5.4695
         ],
         "marker": {
          "color": "#636efa",
          "size": [
           17
          ],
          "sizemode": "area",
          "sizeref": 2.0408163265306123,
          "symbol": "circle"
         },
         "mode": "markers",
         "name": "kontagora",
         "showlegend": true,
         "type": "scattergeo"
        },
        {
         "geo": "geo",
         "hovertemplate": "City=guanica<br>Humidity=%{marker.size}<br>Lat=%{lat}<br>Lng=%{lon}<extra></extra>",
         "lat": [
          17.9716
         ],
         "legendgroup": "guanica",
         "lon": [
          -66.908
         ],
         "marker": {
          "color": "#EF553B",
          "size": [
           77
          ],
          "sizemode": "area",
          "sizeref": 2.0408163265306123,
          "symbol": "circle"
         },
         "mode": "markers",
         "name": "guanica",
         "showlegend": true,
         "type": "scattergeo"
        },
        {
         "geo": "geo",
         "hovertemplate": "City=carnarvon<br>Humidity=%{marker.size}<br>Lat=%{lat}<br>Lng=%{lon}<extra></extra>",
         "lat": [
          -24.8667
         ],
         "legendgroup": "carnarvon",
         "lon": [
          113.6333
         ],
         "marker": {
          "color": "#00cc96",
          "size": [
           61
          ],
          "sizemode": "area",
          "sizeref": 2.0408163265306123,
          "symbol": "circle"
         },
         "mode": "markers",
         "name": "carnarvon",
         "showlegend": true,
         "type": "scattergeo"
        },
        {
         "geo": "geo",
         "hovertemplate": "City=komsomolskiy<br>Humidity=%{marker.size}<br>Lat=%{lat}<br>Lng=%{lon}<extra></extra>",
         "lat": [
          40.4272
         ],
         "legendgroup": "komsomolskiy",
         "lon": [
          71.7189
         ],
         "marker": {
          "color": "#ab63fa",
          "size": [
           79
          ],
          "sizemode": "area",
          "sizeref": 2.0408163265306123,
          "symbol": "circle"
         },
         "mode": "markers",
         "name": "komsomolskiy",
         "showlegend": true,
         "type": "scattergeo"
        },
        {
         "geo": "geo",
         "hovertemplate": "City=praya<br>Humidity=%{marker.size}<br>Lat=%{lat}<br>Lng=%{lon}<extra></extra>",
         "lat": [
          14.9215
         ],
         "legendgroup": "praya",
         "lon": [
          -23.5087
         ],
         "marker": {
          "color": "#FFA15A",
          "size": [
           72
          ],
          "sizemode": "area",
          "sizeref": 2.0408163265306123,
          "symbol": "circle"
         },
         "mode": "markers",
         "name": "praya",
         "showlegend": true,
         "type": "scattergeo"
        },
        {
         "geo": "geo",
         "hovertemplate": "City=mar del plata<br>Humidity=%{marker.size}<br>Lat=%{lat}<br>Lng=%{lon}<extra></extra>",
         "lat": [
          -38.0023
         ],
         "legendgroup": "mar del plata",
         "lon": [
          -57.5575
         ],
         "marker": {
          "color": "#19d3f3",
          "size": [
           76
          ],
          "sizemode": "area",
          "sizeref": 2.0408163265306123,
          "symbol": "circle"
         },
         "mode": "markers",
         "name": "mar del plata",
         "showlegend": true,
         "type": "scattergeo"
        },
        {
         "geo": "geo",
         "hovertemplate": "City=chekhov<br>Humidity=%{marker.size}<br>Lat=%{lat}<br>Lng=%{lon}<extra></extra>",
         "lat": [
          55.1431
         ],
         "legendgroup": "chekhov",
         "lon": [
          37.4711
         ],
         "marker": {
          "color": "#FF6692",
          "size": [
           97
          ],
          "sizemode": "area",
          "sizeref": 2.0408163265306123,
          "symbol": "circle"
         },
         "mode": "markers",
         "name": "chekhov",
         "showlegend": true,
         "type": "scattergeo"
        },
        {
         "geo": "geo",
         "hovertemplate": "City=geraldton<br>Humidity=%{marker.size}<br>Lat=%{lat}<br>Lng=%{lon}<extra></extra>",
         "lat": [
          -28.7667
         ],
         "legendgroup": "geraldton",
         "lon": [
          114.6
         ],
         "marker": {
          "color": "#B6E880",
          "size": [
           69
          ],
          "sizemode": "area",
          "sizeref": 2.0408163265306123,
          "symbol": "circle"
         },
         "mode": "markers",
         "name": "geraldton",
         "showlegend": true,
         "type": "scattergeo"
        },
        {
         "geo": "geo",
         "hovertemplate": "City=vila franca do campo<br>Humidity=%{marker.size}<br>Lat=%{lat}<br>Lng=%{lon}<extra></extra>",
         "lat": [
          37.7167
         ],
         "legendgroup": "vila franca do campo",
         "lon": [
          -25.4333
         ],
         "marker": {
          "color": "#FF97FF",
          "size": [
           81
          ],
          "sizemode": "area",
          "sizeref": 2.0408163265306123,
          "symbol": "circle"
         },
         "mode": "markers",
         "name": "vila franca do campo",
         "showlegend": true,
         "type": "scattergeo"
        },
        {
         "geo": "geo",
         "hovertemplate": "City=ivybridge<br>Humidity=%{marker.size}<br>Lat=%{lat}<br>Lng=%{lon}<extra></extra>",
         "lat": [
          50.3904
         ],
         "legendgroup": "ivybridge",
         "lon": [
          -3.9191
         ],
         "marker": {
          "color": "#FECB52",
          "size": [
           92
          ],
          "sizemode": "area",
          "sizeref": 2.0408163265306123,
          "symbol": "circle"
         },
         "mode": "markers",
         "name": "ivybridge",
         "showlegend": true,
         "type": "scattergeo"
        },
        {
         "geo": "geo",
         "hovertemplate": "City=panormos<br>Humidity=%{marker.size}<br>Lat=%{lat}<br>Lng=%{lon}<extra></extra>",
         "lat": [
          35.4182
         ],
         "legendgroup": "panormos",
         "lon": [
          24.6909
         ],
         "marker": {
          "color": "#636efa",
          "size": [
           73
          ],
          "sizemode": "area",
          "sizeref": 2.0408163265306123,
          "symbol": "circle"
         },
         "mode": "markers",
         "name": "panormos",
         "showlegend": true,
         "type": "scattergeo"
        },
        {
         "geo": "geo",
         "hovertemplate": "City=esperance<br>Humidity=%{marker.size}<br>Lat=%{lat}<br>Lng=%{lon}<extra></extra>",
         "lat": [
          -33.8667
         ],
         "legendgroup": "esperance",
         "lon": [
          121.9
         ],
         "marker": {
          "color": "#EF553B",
          "size": [
           45
          ],
          "sizemode": "area",
          "sizeref": 2.0408163265306123,
          "symbol": "circle"
         },
         "mode": "markers",
         "name": "esperance",
         "showlegend": true,
         "type": "scattergeo"
        },
        {
         "geo": "geo",
         "hovertemplate": "City=cam ranh<br>Humidity=%{marker.size}<br>Lat=%{lat}<br>Lng=%{lon}<extra></extra>",
         "lat": [
          11.9214
         ],
         "legendgroup": "cam ranh",
         "lon": [
          109.1591
         ],
         "marker": {
          "color": "#00cc96",
          "size": [
           69
          ],
          "sizemode": "area",
          "sizeref": 2.0408163265306123,
          "symbol": "circle"
         },
         "mode": "markers",
         "name": "cam ranh",
         "showlegend": true,
         "type": "scattergeo"
        },
        {
         "geo": "geo",
         "hovertemplate": "City=nang rong<br>Humidity=%{marker.size}<br>Lat=%{lat}<br>Lng=%{lon}<extra></extra>",
         "lat": [
          14.6377
         ],
         "legendgroup": "nang rong",
         "lon": [
          102.7914
         ],
         "marker": {
          "color": "#ab63fa",
          "size": [
           59
          ],
          "sizemode": "area",
          "sizeref": 2.0408163265306123,
          "symbol": "circle"
         },
         "mode": "markers",
         "name": "nang rong",
         "showlegend": true,
         "type": "scattergeo"
        },
        {
         "geo": "geo",
         "hovertemplate": "City=shitanjing<br>Humidity=%{marker.size}<br>Lat=%{lat}<br>Lng=%{lon}<extra></extra>",
         "lat": [
          39.2342
         ],
         "legendgroup": "shitanjing",
         "lon": [
          106.3439
         ],
         "marker": {
          "color": "#FFA15A",
          "size": [
           30
          ],
          "sizemode": "area",
          "sizeref": 2.0408163265306123,
          "symbol": "circle"
         },
         "mode": "markers",
         "name": "shitanjing",
         "showlegend": true,
         "type": "scattergeo"
        },
        {
         "geo": "geo",
         "hovertemplate": "City=bath<br>Humidity=%{marker.size}<br>Lat=%{lat}<br>Lng=%{lon}<extra></extra>",
         "lat": [
          51.3779
         ],
         "legendgroup": "bath",
         "lon": [
          -2.3591
         ],
         "marker": {
          "color": "#19d3f3",
          "size": [
           96
          ],
          "sizemode": "area",
          "sizeref": 2.0408163265306123,
          "symbol": "circle"
         },
         "mode": "markers",
         "name": "bath",
         "showlegend": true,
         "type": "scattergeo"
        },
        {
         "geo": "geo",
         "hovertemplate": "City=sibu<br>Humidity=%{marker.size}<br>Lat=%{lat}<br>Lng=%{lon}<extra></extra>",
         "lat": [
          2.3
         ],
         "legendgroup": "sibu",
         "lon": [
          111.8167
         ],
         "marker": {
          "color": "#FF6692",
          "size": [
           83
          ],
          "sizemode": "area",
          "sizeref": 2.0408163265306123,
          "symbol": "circle"
         },
         "mode": "markers",
         "name": "sibu",
         "showlegend": true,
         "type": "scattergeo"
        },
        {
         "geo": "geo",
         "hovertemplate": "City=ballina<br>Humidity=%{marker.size}<br>Lat=%{lat}<br>Lng=%{lon}<extra></extra>",
         "lat": [
          -28.8667
         ],
         "legendgroup": "ballina",
         "lon": [
          153.5667
         ],
         "marker": {
          "color": "#B6E880",
          "size": [
           71
          ],
          "sizemode": "area",
          "sizeref": 2.0408163265306123,
          "symbol": "circle"
         },
         "mode": "markers",
         "name": "ballina",
         "showlegend": true,
         "type": "scattergeo"
        },
        {
         "geo": "geo",
         "hovertemplate": "City=hami<br>Humidity=%{marker.size}<br>Lat=%{lat}<br>Lng=%{lon}<extra></extra>",
         "lat": [
          42.8
         ],
         "legendgroup": "hami",
         "lon": [
          93.45
         ],
         "marker": {
          "color": "#FF97FF",
          "size": [
           29
          ],
          "sizemode": "area",
          "sizeref": 2.0408163265306123,
          "symbol": "circle"
         },
         "mode": "markers",
         "name": "hami",
         "showlegend": true,
         "type": "scattergeo"
        },
        {
         "geo": "geo",
         "hovertemplate": "City=san policarpo<br>Humidity=%{marker.size}<br>Lat=%{lat}<br>Lng=%{lon}<extra></extra>",
         "lat": [
          12.1791
         ],
         "legendgroup": "san policarpo",
         "lon": [
          125.5072
         ],
         "marker": {
          "color": "#FECB52",
          "size": [
           83
          ],
          "sizemode": "area",
          "sizeref": 2.0408163265306123,
          "symbol": "circle"
         },
         "mode": "markers",
         "name": "san policarpo",
         "showlegend": true,
         "type": "scattergeo"
        },
        {
         "geo": "geo",
         "hovertemplate": "City=asau<br>Humidity=%{marker.size}<br>Lat=%{lat}<br>Lng=%{lon}<extra></extra>",
         "lat": [
          46.4333
         ],
         "legendgroup": "asau",
         "lon": [
          26.4
         ],
         "marker": {
          "color": "#636efa",
          "size": [
           83
          ],
          "sizemode": "area",
          "sizeref": 2.0408163265306123,
          "symbol": "circle"
         },
         "mode": "markers",
         "name": "asau",
         "showlegend": true,
         "type": "scattergeo"
        },
        {
         "geo": "geo",
         "hovertemplate": "City=sorland<br>Humidity=%{marker.size}<br>Lat=%{lat}<br>Lng=%{lon}<extra></extra>",
         "lat": [
          67.667
         ],
         "legendgroup": "sorland",
         "lon": [
          12.6934
         ],
         "marker": {
          "color": "#EF553B",
          "size": [
           59
          ],
          "sizemode": "area",
          "sizeref": 2.0408163265306123,
          "symbol": "circle"
         },
         "mode": "markers",
         "name": "sorland",
         "showlegend": true,
         "type": "scattergeo"
        },
        {
         "geo": "geo",
         "hovertemplate": "City=vostok<br>Humidity=%{marker.size}<br>Lat=%{lat}<br>Lng=%{lon}<extra></extra>",
         "lat": [
          46.4856
         ],
         "legendgroup": "vostok",
         "lon": [
          135.8833
         ],
         "marker": {
          "color": "#00cc96",
          "size": [
           86
          ],
          "sizemode": "area",
          "sizeref": 2.0408163265306123,
          "symbol": "circle"
         },
         "mode": "markers",
         "name": "vostok",
         "showlegend": true,
         "type": "scattergeo"
        },
        {
         "geo": "geo",
         "hovertemplate": "City=le vauclin<br>Humidity=%{marker.size}<br>Lat=%{lat}<br>Lng=%{lon}<extra></extra>",
         "lat": [
          14.5452
         ],
         "legendgroup": "le vauclin",
         "lon": [
          -60.8388
         ],
         "marker": {
          "color": "#ab63fa",
          "size": [
           78
          ],
          "sizemode": "area",
          "sizeref": 2.0408163265306123,
          "symbol": "circle"
         },
         "mode": "markers",
         "name": "le vauclin",
         "showlegend": true,
         "type": "scattergeo"
        },
        {
         "geo": "geo",
         "hovertemplate": "City=college<br>Humidity=%{marker.size}<br>Lat=%{lat}<br>Lng=%{lon}<extra></extra>",
         "lat": [
          64.8569
         ],
         "legendgroup": "college",
         "lon": [
          -147.8028
         ],
         "marker": {
          "color": "#FFA15A",
          "size": [
           75
          ],
          "sizemode": "area",
          "sizeref": 2.0408163265306123,
          "symbol": "circle"
         },
         "mode": "markers",
         "name": "college",
         "showlegend": true,
         "type": "scattergeo"
        },
        {
         "geo": "geo",
         "hovertemplate": "City=san cristobal<br>Humidity=%{marker.size}<br>Lat=%{lat}<br>Lng=%{lon}<extra></extra>",
         "lat": [
          7.7669
         ],
         "legendgroup": "san cristobal",
         "lon": [
          -72.225
         ],
         "marker": {
          "color": "#19d3f3",
          "size": [
           83
          ],
          "sizemode": "area",
          "sizeref": 2.0408163265306123,
          "symbol": "circle"
         },
         "mode": "markers",
         "name": "san cristobal",
         "showlegend": true,
         "type": "scattergeo"
        },
        {
         "geo": "geo",
         "hovertemplate": "City=rosario<br>Humidity=%{marker.size}<br>Lat=%{lat}<br>Lng=%{lon}<extra></extra>",
         "lat": [
          -32.9468
         ],
         "legendgroup": "rosario",
         "lon": [
          -60.6393
         ],
         "marker": {
          "color": "#FF6692",
          "size": [
           43
          ],
          "sizemode": "area",
          "sizeref": 2.0408163265306123,
          "symbol": "circle"
         },
         "mode": "markers",
         "name": "rosario",
         "showlegend": true,
         "type": "scattergeo"
        },
        {
         "geo": "geo",
         "hovertemplate": "City=severo-kurilsk<br>Humidity=%{marker.size}<br>Lat=%{lat}<br>Lng=%{lon}<extra></extra>",
         "lat": [
          50.6789
         ],
         "legendgroup": "severo-kurilsk",
         "lon": [
          156.125
         ],
         "marker": {
          "color": "#B6E880",
          "size": [
           63
          ],
          "sizemode": "area",
          "sizeref": 2.0408163265306123,
          "symbol": "circle"
         },
         "mode": "markers",
         "name": "severo-kurilsk",
         "showlegend": true,
         "type": "scattergeo"
        },
        {
         "geo": "geo",
         "hovertemplate": "City=kieta<br>Humidity=%{marker.size}<br>Lat=%{lat}<br>Lng=%{lon}<extra></extra>",
         "lat": [
          -6.2167
         ],
         "legendgroup": "kieta",
         "lon": [
          155.6333
         ],
         "marker": {
          "color": "#FF97FF",
          "size": [
           72
          ],
          "sizemode": "area",
          "sizeref": 2.0408163265306123,
          "symbol": "circle"
         },
         "mode": "markers",
         "name": "kieta",
         "showlegend": true,
         "type": "scattergeo"
        },
        {
         "geo": "geo",
         "hovertemplate": "City=along<br>Humidity=%{marker.size}<br>Lat=%{lat}<br>Lng=%{lon}<extra></extra>",
         "lat": [
          28.1667
         ],
         "legendgroup": "along",
         "lon": [
          94.7667
         ],
         "marker": {
          "color": "#FECB52",
          "size": [
           37
          ],
          "sizemode": "area",
          "sizeref": 2.0408163265306123,
          "symbol": "circle"
         },
         "mode": "markers",
         "name": "along",
         "showlegend": true,
         "type": "scattergeo"
        },
        {
         "geo": "geo",
         "hovertemplate": "City=birjand<br>Humidity=%{marker.size}<br>Lat=%{lat}<br>Lng=%{lon}<extra></extra>",
         "lat": [
          32.8663
         ],
         "legendgroup": "birjand",
         "lon": [
          59.2211
         ],
         "marker": {
          "color": "#636efa",
          "size": [
           73
          ],
          "sizemode": "area",
          "sizeref": 2.0408163265306123,
          "symbol": "circle"
         },
         "mode": "markers",
         "name": "birjand",
         "showlegend": true,
         "type": "scattergeo"
        },
        {
         "geo": "geo",
         "hovertemplate": "City=portland<br>Humidity=%{marker.size}<br>Lat=%{lat}<br>Lng=%{lon}<extra></extra>",
         "lat": [
          45.5234
         ],
         "legendgroup": "portland",
         "lon": [
          -122.6762
         ],
         "marker": {
          "color": "#EF553B",
          "size": [
           82
          ],
          "sizemode": "area",
          "sizeref": 2.0408163265306123,
          "symbol": "circle"
         },
         "mode": "markers",
         "name": "portland",
         "showlegend": true,
         "type": "scattergeo"
        },
        {
         "geo": "geo",
         "hovertemplate": "City=vangazi<br>Humidity=%{marker.size}<br>Lat=%{lat}<br>Lng=%{lon}<extra></extra>",
         "lat": [
          57.0936
         ],
         "legendgroup": "vangazi",
         "lon": [
          24.5486
         ],
         "marker": {
          "color": "#00cc96",
          "size": [
           92
          ],
          "sizemode": "area",
          "sizeref": 2.0408163265306123,
          "symbol": "circle"
         },
         "mode": "markers",
         "name": "vangazi",
         "showlegend": true,
         "type": "scattergeo"
        },
        {
         "geo": "geo",
         "hovertemplate": "City=sadiqabad<br>Humidity=%{marker.size}<br>Lat=%{lat}<br>Lng=%{lon}<extra></extra>",
         "lat": [
          28.3062
         ],
         "legendgroup": "sadiqabad",
         "lon": [
          70.1307
         ],
         "marker": {
          "color": "#ab63fa",
          "size": [
           27
          ],
          "sizemode": "area",
          "sizeref": 2.0408163265306123,
          "symbol": "circle"
         },
         "mode": "markers",
         "name": "sadiqabad",
         "showlegend": true,
         "type": "scattergeo"
        },
        {
         "geo": "geo",
         "hovertemplate": "City=shingu<br>Humidity=%{marker.size}<br>Lat=%{lat}<br>Lng=%{lon}<extra></extra>",
         "lat": [
          33.7333
         ],
         "legendgroup": "shingu",
         "lon": [
          135.9833
         ],
         "marker": {
          "color": "#FFA15A",
          "size": [
           69
          ],
          "sizemode": "area",
          "sizeref": 2.0408163265306123,
          "symbol": "circle"
         },
         "mode": "markers",
         "name": "shingu",
         "showlegend": true,
         "type": "scattergeo"
        },
        {
         "geo": "geo",
         "hovertemplate": "City=standerton<br>Humidity=%{marker.size}<br>Lat=%{lat}<br>Lng=%{lon}<extra></extra>",
         "lat": [
          -26.9337
         ],
         "legendgroup": "standerton",
         "lon": [
          29.2415
         ],
         "marker": {
          "color": "#19d3f3",
          "size": [
           90
          ],
          "sizemode": "area",
          "sizeref": 2.0408163265306123,
          "symbol": "circle"
         },
         "mode": "markers",
         "name": "standerton",
         "showlegend": true,
         "type": "scattergeo"
        },
        {
         "geo": "geo",
         "hovertemplate": "City=sokoni<br>Humidity=%{marker.size}<br>Lat=%{lat}<br>Lng=%{lon}<extra></extra>",
         "lat": [
          -6.4333
         ],
         "legendgroup": "sokoni",
         "lon": [
          39.55
         ],
         "marker": {
          "color": "#FF6692",
          "size": [
           83
          ],
          "sizemode": "area",
          "sizeref": 2.0408163265306123,
          "symbol": "circle"
         },
         "mode": "markers",
         "name": "sokoni",
         "showlegend": true,
         "type": "scattergeo"
        },
        {
         "geo": "geo",
         "hovertemplate": "City=sao joao da barra<br>Humidity=%{marker.size}<br>Lat=%{lat}<br>Lng=%{lon}<extra></extra>",
         "lat": [
          -21.6403
         ],
         "legendgroup": "sao joao da barra",
         "lon": [
          -41.0511
         ],
         "marker": {
          "color": "#B6E880",
          "size": [
           91
          ],
          "sizemode": "area",
          "sizeref": 2.0408163265306123,
          "symbol": "circle"
         },
         "mode": "markers",
         "name": "sao joao da barra",
         "showlegend": true,
         "type": "scattergeo"
        },
        {
         "geo": "geo",
         "hovertemplate": "City=nouakchott<br>Humidity=%{marker.size}<br>Lat=%{lat}<br>Lng=%{lon}<extra></extra>",
         "lat": [
          18.0858
         ],
         "legendgroup": "nouakchott",
         "lon": [
          -15.9785
         ],
         "marker": {
          "color": "#FF97FF",
          "size": [
           42
          ],
          "sizemode": "area",
          "sizeref": 2.0408163265306123,
          "symbol": "circle"
         },
         "mode": "markers",
         "name": "nouakchott",
         "showlegend": true,
         "type": "scattergeo"
        },
        {
         "geo": "geo",
         "hovertemplate": "City=oskarshamn<br>Humidity=%{marker.size}<br>Lat=%{lat}<br>Lng=%{lon}<extra></extra>",
         "lat": [
          57.2645
         ],
         "legendgroup": "oskarshamn",
         "lon": [
          16.4484
         ],
         "marker": {
          "color": "#FECB52",
          "size": [
           82
          ],
          "sizemode": "area",
          "sizeref": 2.0408163265306123,
          "symbol": "circle"
         },
         "mode": "markers",
         "name": "oskarshamn",
         "showlegend": true,
         "type": "scattergeo"
        },
        {
         "geo": "geo",
         "hovertemplate": "City=burgeo<br>Humidity=%{marker.size}<br>Lat=%{lat}<br>Lng=%{lon}<extra></extra>",
         "lat": [
          47.6167
         ],
         "legendgroup": "burgeo",
         "lon": [
          -57.6152
         ],
         "marker": {
          "color": "#636efa",
          "size": [
           99
          ],
          "sizemode": "area",
          "sizeref": 2.0408163265306123,
          "symbol": "circle"
         },
         "mode": "markers",
         "name": "burgeo",
         "showlegend": true,
         "type": "scattergeo"
        },
        {
         "geo": "geo",
         "hovertemplate": "City=anamur<br>Humidity=%{marker.size}<br>Lat=%{lat}<br>Lng=%{lon}<extra></extra>",
         "lat": [
          36.0751
         ],
         "legendgroup": "anamur",
         "lon": [
          32.8369
         ],
         "marker": {
          "color": "#EF553B",
          "size": [
           44
          ],
          "sizemode": "area",
          "sizeref": 2.0408163265306123,
          "symbol": "circle"
         },
         "mode": "markers",
         "name": "anamur",
         "showlegend": true,
         "type": "scattergeo"
        },
        {
         "geo": "geo",
         "hovertemplate": "City=constitucion<br>Humidity=%{marker.size}<br>Lat=%{lat}<br>Lng=%{lon}<extra></extra>",
         "lat": [
          -35.3333
         ],
         "legendgroup": "constitucion",
         "lon": [
          -72.4167
         ],
         "marker": {
          "color": "#00cc96",
          "size": [
           92
          ],
          "sizemode": "area",
          "sizeref": 2.0408163265306123,
          "symbol": "circle"
         },
         "mode": "markers",
         "name": "constitucion",
         "showlegend": true,
         "type": "scattergeo"
        },
        {
         "geo": "geo",
         "hovertemplate": "City=tongliao<br>Humidity=%{marker.size}<br>Lat=%{lat}<br>Lng=%{lon}<extra></extra>",
         "lat": [
          43.6125
         ],
         "legendgroup": "tongliao",
         "lon": [
          122.2653
         ],
         "marker": {
          "color": "#ab63fa",
          "size": [
           30
          ],
          "sizemode": "area",
          "sizeref": 2.0408163265306123,
          "symbol": "circle"
         },
         "mode": "markers",
         "name": "tongliao",
         "showlegend": true,
         "type": "scattergeo"
        },
        {
         "geo": "geo",
         "hovertemplate": "City=kokopo<br>Humidity=%{marker.size}<br>Lat=%{lat}<br>Lng=%{lon}<extra></extra>",
         "lat": [
          -4.352
         ],
         "legendgroup": "kokopo",
         "lon": [
          152.2633
         ],
         "marker": {
          "color": "#FFA15A",
          "size": [
           67
          ],
          "sizemode": "area",
          "sizeref": 2.0408163265306123,
          "symbol": "circle"
         },
         "mode": "markers",
         "name": "kokopo",
         "showlegend": true,
         "type": "scattergeo"
        },
        {
         "geo": "geo",
         "hovertemplate": "City=yulara<br>Humidity=%{marker.size}<br>Lat=%{lat}<br>Lng=%{lon}<extra></extra>",
         "lat": [
          -25.2406
         ],
         "legendgroup": "yulara",
         "lon": [
          130.9889
         ],
         "marker": {
          "color": "#19d3f3",
          "size": [
           17
          ],
          "sizemode": "area",
          "sizeref": 2.0408163265306123,
          "symbol": "circle"
         },
         "mode": "markers",
         "name": "yulara",
         "showlegend": true,
         "type": "scattergeo"
        },
        {
         "geo": "geo",
         "hovertemplate": "City=patacamaya<br>Humidity=%{marker.size}<br>Lat=%{lat}<br>Lng=%{lon}<extra></extra>",
         "lat": [
          -17.2333
         ],
         "legendgroup": "patacamaya",
         "lon": [
          -67.9167
         ],
         "marker": {
          "color": "#FF6692",
          "size": [
           71
          ],
          "sizemode": "area",
          "sizeref": 2.0408163265306123,
          "symbol": "circle"
         },
         "mode": "markers",
         "name": "patacamaya",
         "showlegend": true,
         "type": "scattergeo"
        },
        {
         "geo": "geo",
         "hovertemplate": "City=hammerfest<br>Humidity=%{marker.size}<br>Lat=%{lat}<br>Lng=%{lon}<extra></extra>",
         "lat": [
          70.6634
         ],
         "legendgroup": "hammerfest",
         "lon": [
          23.6821
         ],
         "marker": {
          "color": "#B6E880",
          "size": [
           93
          ],
          "sizemode": "area",
          "sizeref": 2.0408163265306123,
          "symbol": "circle"
         },
         "mode": "markers",
         "name": "hammerfest",
         "showlegend": true,
         "type": "scattergeo"
        },
        {
         "geo": "geo",
         "hovertemplate": "City=tayoltita<br>Humidity=%{marker.size}<br>Lat=%{lat}<br>Lng=%{lon}<extra></extra>",
         "lat": [
          24.0833
         ],
         "legendgroup": "tayoltita",
         "lon": [
          -105.9333
         ],
         "marker": {
          "color": "#FF97FF",
          "size": [
           97
          ],
          "sizemode": "area",
          "sizeref": 2.0408163265306123,
          "symbol": "circle"
         },
         "mode": "markers",
         "name": "tayoltita",
         "showlegend": true,
         "type": "scattergeo"
        },
        {
         "geo": "geo",
         "hovertemplate": "City=ganzhou<br>Humidity=%{marker.size}<br>Lat=%{lat}<br>Lng=%{lon}<extra></extra>",
         "lat": [
          28.8184
         ],
         "legendgroup": "ganzhou",
         "lon": [
          115.4327
         ],
         "marker": {
          "color": "#FECB52",
          "size": [
           55
          ],
          "sizemode": "area",
          "sizeref": 2.0408163265306123,
          "symbol": "circle"
         },
         "mode": "markers",
         "name": "ganzhou",
         "showlegend": true,
         "type": "scattergeo"
        },
        {
         "geo": "geo",
         "hovertemplate": "City=troitsko-pechorsk<br>Humidity=%{marker.size}<br>Lat=%{lat}<br>Lng=%{lon}<extra></extra>",
         "lat": [
          62.7084
         ],
         "legendgroup": "troitsko-pechorsk",
         "lon": [
          56.1964
         ],
         "marker": {
          "color": "#636efa",
          "size": [
           97
          ],
          "sizemode": "area",
          "sizeref": 2.0408163265306123,
          "symbol": "circle"
         },
         "mode": "markers",
         "name": "troitsko-pechorsk",
         "showlegend": true,
         "type": "scattergeo"
        },
        {
         "geo": "geo",
         "hovertemplate": "City=jam sahib<br>Humidity=%{marker.size}<br>Lat=%{lat}<br>Lng=%{lon}<extra></extra>",
         "lat": [
          26.2958
         ],
         "legendgroup": "jam sahib",
         "lon": [
          68.6292
         ],
         "marker": {
          "color": "#EF553B",
          "size": [
           28
          ],
          "sizemode": "area",
          "sizeref": 2.0408163265306123,
          "symbol": "circle"
         },
         "mode": "markers",
         "name": "jam sahib",
         "showlegend": true,
         "type": "scattergeo"
        },
        {
         "geo": "geo",
         "hovertemplate": "City=luderitz<br>Humidity=%{marker.size}<br>Lat=%{lat}<br>Lng=%{lon}<extra></extra>",
         "lat": [
          -26.6481
         ],
         "legendgroup": "luderitz",
         "lon": [
          15.1594
         ],
         "marker": {
          "color": "#00cc96",
          "size": [
           83
          ],
          "sizemode": "area",
          "sizeref": 2.0408163265306123,
          "symbol": "circle"
         },
         "mode": "markers",
         "name": "luderitz",
         "showlegend": true,
         "type": "scattergeo"
        },
        {
         "geo": "geo",
         "hovertemplate": "City=almazar<br>Humidity=%{marker.size}<br>Lat=%{lat}<br>Lng=%{lon}<extra></extra>",
         "lat": [
          40.3217
         ],
         "legendgroup": "almazar",
         "lon": [
          69.0106
         ],
         "marker": {
          "color": "#ab63fa",
          "size": [
           80
          ],
          "sizemode": "area",
          "sizeref": 2.0408163265306123,
          "symbol": "circle"
         },
         "mode": "markers",
         "name": "almazar",
         "showlegend": true,
         "type": "scattergeo"
        },
        {
         "geo": "geo",
         "hovertemplate": "City=henties bay<br>Humidity=%{marker.size}<br>Lat=%{lat}<br>Lng=%{lon}<extra></extra>",
         "lat": [
          -22.116
         ],
         "legendgroup": "henties bay",
         "lon": [
          14.2845
         ],
         "marker": {
          "color": "#FFA15A",
          "size": [
           87
          ],
          "sizemode": "area",
          "sizeref": 2.0408163265306123,
          "symbol": "circle"
         },
         "mode": "markers",
         "name": "henties bay",
         "showlegend": true,
         "type": "scattergeo"
        },
        {
         "geo": "geo",
         "hovertemplate": "City=tamandare<br>Humidity=%{marker.size}<br>Lat=%{lat}<br>Lng=%{lon}<extra></extra>",
         "lat": [
          -8.7597
         ],
         "legendgroup": "tamandare",
         "lon": [
          -35.1047
         ],
         "marker": {
          "color": "#19d3f3",
          "size": [
           76
          ],
          "sizemode": "area",
          "sizeref": 2.0408163265306123,
          "symbol": "circle"
         },
         "mode": "markers",
         "name": "tamandare",
         "showlegend": true,
         "type": "scattergeo"
        },
        {
         "geo": "geo",
         "hovertemplate": "City=san patricio<br>Humidity=%{marker.size}<br>Lat=%{lat}<br>Lng=%{lon}<extra></extra>",
         "lat": [
          28.017
         ],
         "legendgroup": "san patricio",
         "lon": [
          -97.5169
         ],
         "marker": {
          "color": "#FF6692",
          "size": [
           70
          ],
          "sizemode": "area",
          "sizeref": 2.0408163265306123,
          "symbol": "circle"
         },
         "mode": "markers",
         "name": "san patricio",
         "showlegend": true,
         "type": "scattergeo"
        },
        {
         "geo": "geo",
         "hovertemplate": "City=rockhampton<br>Humidity=%{marker.size}<br>Lat=%{lat}<br>Lng=%{lon}<extra></extra>",
         "lat": [
          -23.3833
         ],
         "legendgroup": "rockhampton",
         "lon": [
          150.5
         ],
         "marker": {
          "color": "#B6E880",
          "size": [
           51
          ],
          "sizemode": "area",
          "sizeref": 2.0408163265306123,
          "symbol": "circle"
         },
         "mode": "markers",
         "name": "rockhampton",
         "showlegend": true,
         "type": "scattergeo"
        },
        {
         "geo": "geo",
         "hovertemplate": "City=sao filipe<br>Humidity=%{marker.size}<br>Lat=%{lat}<br>Lng=%{lon}<extra></extra>",
         "lat": [
          14.8961
         ],
         "legendgroup": "sao filipe",
         "lon": [
          -24.4956
         ],
         "marker": {
          "color": "#FF97FF",
          "size": [
           65
          ],
          "sizemode": "area",
          "sizeref": 2.0408163265306123,
          "symbol": "circle"
         },
         "mode": "markers",
         "name": "sao filipe",
         "showlegend": true,
         "type": "scattergeo"
        },
        {
         "geo": "geo",
         "hovertemplate": "City=neka<br>Humidity=%{marker.size}<br>Lat=%{lat}<br>Lng=%{lon}<extra></extra>",
         "lat": [
          36.6508
         ],
         "legendgroup": "neka",
         "lon": [
          53.299
         ],
         "marker": {
          "color": "#FECB52",
          "size": [
           86
          ],
          "sizemode": "area",
          "sizeref": 2.0408163265306123,
          "symbol": "circle"
         },
         "mode": "markers",
         "name": "neka",
         "showlegend": true,
         "type": "scattergeo"
        },
        {
         "geo": "geo",
         "hovertemplate": "City=maun<br>Humidity=%{marker.size}<br>Lat=%{lat}<br>Lng=%{lon}<extra></extra>",
         "lat": [
          -19.9833
         ],
         "legendgroup": "maun",
         "lon": [
          23.4167
         ],
         "marker": {
          "color": "#636efa",
          "size": [
           78
          ],
          "sizemode": "area",
          "sizeref": 2.0408163265306123,
          "symbol": "circle"
         },
         "mode": "markers",
         "name": "maun",
         "showlegend": true,
         "type": "scattergeo"
        },
        {
         "geo": "geo",
         "hovertemplate": "City=clyde river<br>Humidity=%{marker.size}<br>Lat=%{lat}<br>Lng=%{lon}<extra></extra>",
         "lat": [
          70.4692
         ],
         "legendgroup": "clyde river",
         "lon": [
          -68.5914
         ],
         "marker": {
          "color": "#EF553B",
          "size": [
           68
          ],
          "sizemode": "area",
          "sizeref": 2.0408163265306123,
          "symbol": "circle"
         },
         "mode": "markers",
         "name": "clyde river",
         "showlegend": true,
         "type": "scattergeo"
        },
        {
         "geo": "geo",
         "hovertemplate": "City=chokurdakh<br>Humidity=%{marker.size}<br>Lat=%{lat}<br>Lng=%{lon}<extra></extra>",
         "lat": [
          70.6333
         ],
         "legendgroup": "chokurdakh",
         "lon": [
          147.9167
         ],
         "marker": {
          "color": "#00cc96",
          "size": [
           100
          ],
          "sizemode": "area",
          "sizeref": 2.0408163265306123,
          "symbol": "circle"
         },
         "mode": "markers",
         "name": "chokurdakh",
         "showlegend": true,
         "type": "scattergeo"
        },
        {
         "geo": "geo",
         "hovertemplate": "City=longyearbyen<br>Humidity=%{marker.size}<br>Lat=%{lat}<br>Lng=%{lon}<extra></extra>",
         "lat": [
          78.2186
         ],
         "legendgroup": "longyearbyen",
         "lon": [
          15.6401
         ],
         "marker": {
          "color": "#ab63fa",
          "size": [
           63
          ],
          "sizemode": "area",
          "sizeref": 2.0408163265306123,
          "symbol": "circle"
         },
         "mode": "markers",
         "name": "longyearbyen",
         "showlegend": true,
         "type": "scattergeo"
        },
        {
         "geo": "geo",
         "hovertemplate": "City=cotacachi<br>Humidity=%{marker.size}<br>Lat=%{lat}<br>Lng=%{lon}<extra></extra>",
         "lat": [
          0.3
         ],
         "legendgroup": "cotacachi",
         "lon": [
          -78.2667
         ],
         "marker": {
          "color": "#FFA15A",
          "size": [
           86
          ],
          "sizemode": "area",
          "sizeref": 2.0408163265306123,
          "symbol": "circle"
         },
         "mode": "markers",
         "name": "cotacachi",
         "showlegend": true,
         "type": "scattergeo"
        },
        {
         "geo": "geo",
         "hovertemplate": "City=kokkola<br>Humidity=%{marker.size}<br>Lat=%{lat}<br>Lng=%{lon}<extra></extra>",
         "lat": [
          63.8385
         ],
         "legendgroup": "kokkola",
         "lon": [
          23.1307
         ],
         "marker": {
          "color": "#19d3f3",
          "size": [
           93
          ],
          "sizemode": "area",
          "sizeref": 2.0408163265306123,
          "symbol": "circle"
         },
         "mode": "markers",
         "name": "kokkola",
         "showlegend": true,
         "type": "scattergeo"
        },
        {
         "geo": "geo",
         "hovertemplate": "City=talcahuano<br>Humidity=%{marker.size}<br>Lat=%{lat}<br>Lng=%{lon}<extra></extra>",
         "lat": [
          -36.7167
         ],
         "legendgroup": "talcahuano",
         "lon": [
          -73.1167
         ],
         "marker": {
          "color": "#FF6692",
          "size": [
           88
          ],
          "sizemode": "area",
          "sizeref": 2.0408163265306123,
          "symbol": "circle"
         },
         "mode": "markers",
         "name": "talcahuano",
         "showlegend": true,
         "type": "scattergeo"
        },
        {
         "geo": "geo",
         "hovertemplate": "City=nizhniy ingash<br>Humidity=%{marker.size}<br>Lat=%{lat}<br>Lng=%{lon}<extra></extra>",
         "lat": [
          56.2
         ],
         "legendgroup": "nizhniy ingash",
         "lon": [
          96.53
         ],
         "marker": {
          "color": "#B6E880",
          "size": [
           92
          ],
          "sizemode": "area",
          "sizeref": 2.0408163265306123,
          "symbol": "circle"
         },
         "mode": "markers",
         "name": "nizhniy ingash",
         "showlegend": true,
         "type": "scattergeo"
        },
        {
         "geo": "geo",
         "hovertemplate": "City=chuy<br>Humidity=%{marker.size}<br>Lat=%{lat}<br>Lng=%{lon}<extra></extra>",
         "lat": [
          -33.6971
         ],
         "legendgroup": "chuy",
         "lon": [
          -53.4616
         ],
         "marker": {
          "color": "#FF97FF",
          "size": [
           73
          ],
          "sizemode": "area",
          "sizeref": 2.0408163265306123,
          "symbol": "circle"
         },
         "mode": "markers",
         "name": "chuy",
         "showlegend": true,
         "type": "scattergeo"
        },
        {
         "geo": "geo",
         "hovertemplate": "City=la reforma<br>Humidity=%{marker.size}<br>Lat=%{lat}<br>Lng=%{lon}<extra></extra>",
         "lat": [
          25.0833
         ],
         "legendgroup": "la reforma",
         "lon": [
          -108.05
         ],
         "marker": {
          "color": "#FECB52",
          "size": [
           86
          ],
          "sizemode": "area",
          "sizeref": 2.0408163265306123,
          "symbol": "circle"
         },
         "mode": "markers",
         "name": "la reforma",
         "showlegend": true,
         "type": "scattergeo"
        },
        {
         "geo": "geo",
         "hovertemplate": "City=ishim<br>Humidity=%{marker.size}<br>Lat=%{lat}<br>Lng=%{lon}<extra></extra>",
         "lat": [
          56.1128
         ],
         "legendgroup": "ishim",
         "lon": [
          69.4902
         ],
         "marker": {
          "color": "#636efa",
          "size": [
           98
          ],
          "sizemode": "area",
          "sizeref": 2.0408163265306123,
          "symbol": "circle"
         },
         "mode": "markers",
         "name": "ishim",
         "showlegend": true,
         "type": "scattergeo"
        },
        {
         "geo": "geo",
         "hovertemplate": "City=osoyoos<br>Humidity=%{marker.size}<br>Lat=%{lat}<br>Lng=%{lon}<extra></extra>",
         "lat": [
          49.0331
         ],
         "legendgroup": "osoyoos",
         "lon": [
          -119.4524
         ],
         "marker": {
          "color": "#EF553B",
          "size": [
           80
          ],
          "sizemode": "area",
          "sizeref": 2.0408163265306123,
          "symbol": "circle"
         },
         "mode": "markers",
         "name": "osoyoos",
         "showlegend": true,
         "type": "scattergeo"
        },
        {
         "geo": "geo",
         "hovertemplate": "City=alyangula<br>Humidity=%{marker.size}<br>Lat=%{lat}<br>Lng=%{lon}<extra></extra>",
         "lat": [
          -13.8483
         ],
         "legendgroup": "alyangula",
         "lon": [
          136.4192
         ],
         "marker": {
          "color": "#00cc96",
          "size": [
           79
          ],
          "sizemode": "area",
          "sizeref": 2.0408163265306123,
          "symbol": "circle"
         },
         "mode": "markers",
         "name": "alyangula",
         "showlegend": true,
         "type": "scattergeo"
        },
        {
         "geo": "geo",
         "hovertemplate": "City=sambava<br>Humidity=%{marker.size}<br>Lat=%{lat}<br>Lng=%{lon}<extra></extra>",
         "lat": [
          -14.2667
         ],
         "legendgroup": "sambava",
         "lon": [
          50.1667
         ],
         "marker": {
          "color": "#ab63fa",
          "size": [
           82
          ],
          "sizemode": "area",
          "sizeref": 2.0408163265306123,
          "symbol": "circle"
         },
         "mode": "markers",
         "name": "sambava",
         "showlegend": true,
         "type": "scattergeo"
        },
        {
         "geo": "geo",
         "hovertemplate": "City=malanje<br>Humidity=%{marker.size}<br>Lat=%{lat}<br>Lng=%{lon}<extra></extra>",
         "lat": [
          -9.5402
         ],
         "legendgroup": "malanje",
         "lon": [
          16.340999999999998
         ],
         "marker": {
          "color": "#FFA15A",
          "size": [
           99
          ],
          "sizemode": "area",
          "sizeref": 2.0408163265306123,
          "symbol": "circle"
         },
         "mode": "markers",
         "name": "malanje",
         "showlegend": true,
         "type": "scattergeo"
        },
        {
         "geo": "geo",
         "hovertemplate": "City=ilulissat<br>Humidity=%{marker.size}<br>Lat=%{lat}<br>Lng=%{lon}<extra></extra>",
         "lat": [
          69.2167
         ],
         "legendgroup": "ilulissat",
         "lon": [
          -51.1
         ],
         "marker": {
          "color": "#19d3f3",
          "size": [
           58
          ],
          "sizemode": "area",
          "sizeref": 2.0408163265306123,
          "symbol": "circle"
         },
         "mode": "markers",
         "name": "ilulissat",
         "showlegend": true,
         "type": "scattergeo"
        },
        {
         "geo": "geo",
         "hovertemplate": "City=banda aceh<br>Humidity=%{marker.size}<br>Lat=%{lat}<br>Lng=%{lon}<extra></extra>",
         "lat": [
          5.5577
         ],
         "legendgroup": "banda aceh",
         "lon": [
          95.3222
         ],
         "marker": {
          "color": "#FF6692",
          "size": [
           89
          ],
          "sizemode": "area",
          "sizeref": 2.0408163265306123,
          "symbol": "circle"
         },
         "mode": "markers",
         "name": "banda aceh",
         "showlegend": true,
         "type": "scattergeo"
        },
        {
         "geo": "geo",
         "hovertemplate": "City=severodvinsk<br>Humidity=%{marker.size}<br>Lat=%{lat}<br>Lng=%{lon}<extra></extra>",
         "lat": [
          64.5635
         ],
         "legendgroup": "severodvinsk",
         "lon": [
          39.8302
         ],
         "marker": {
          "color": "#B6E880",
          "size": [
           87
          ],
          "sizemode": "area",
          "sizeref": 2.0408163265306123,
          "symbol": "circle"
         },
         "mode": "markers",
         "name": "severodvinsk",
         "showlegend": true,
         "type": "scattergeo"
        },
        {
         "geo": "geo",
         "hovertemplate": "City=taoudenni<br>Humidity=%{marker.size}<br>Lat=%{lat}<br>Lng=%{lon}<extra></extra>",
         "lat": [
          22.6783
         ],
         "legendgroup": "taoudenni",
         "lon": [
          -3.9836
         ],
         "marker": {
          "color": "#FF97FF",
          "size": [
           24
          ],
          "sizemode": "area",
          "sizeref": 2.0408163265306123,
          "symbol": "circle"
         },
         "mode": "markers",
         "name": "taoudenni",
         "showlegend": true,
         "type": "scattergeo"
        },
        {
         "geo": "geo",
         "hovertemplate": "City=hambantota<br>Humidity=%{marker.size}<br>Lat=%{lat}<br>Lng=%{lon}<extra></extra>",
         "lat": [
          6.1241
         ],
         "legendgroup": "hambantota",
         "lon": [
          81.1185
         ],
         "marker": {
          "color": "#FECB52",
          "size": [
           100
          ],
          "sizemode": "area",
          "sizeref": 2.0408163265306123,
          "symbol": "circle"
         },
         "mode": "markers",
         "name": "hambantota",
         "showlegend": true,
         "type": "scattergeo"
        },
        {
         "geo": "geo",
         "hovertemplate": "City=port lincoln<br>Humidity=%{marker.size}<br>Lat=%{lat}<br>Lng=%{lon}<extra></extra>",
         "lat": [
          -34.7333
         ],
         "legendgroup": "port lincoln",
         "lon": [
          135.8667
         ],
         "marker": {
          "color": "#636efa",
          "size": [
           63
          ],
          "sizemode": "area",
          "sizeref": 2.0408163265306123,
          "symbol": "circle"
         },
         "mode": "markers",
         "name": "port lincoln",
         "showlegend": true,
         "type": "scattergeo"
        },
        {
         "geo": "geo",
         "hovertemplate": "City=pingzhuang<br>Humidity=%{marker.size}<br>Lat=%{lat}<br>Lng=%{lon}<extra></extra>",
         "lat": [
          42.0372
         ],
         "legendgroup": "pingzhuang",
         "lon": [
          119.2889
         ],
         "marker": {
          "color": "#EF553B",
          "size": [
           25
          ],
          "sizemode": "area",
          "sizeref": 2.0408163265306123,
          "symbol": "circle"
         },
         "mode": "markers",
         "name": "pingzhuang",
         "showlegend": true,
         "type": "scattergeo"
        },
        {
         "geo": "geo",
         "hovertemplate": "City=east london<br>Humidity=%{marker.size}<br>Lat=%{lat}<br>Lng=%{lon}<extra></extra>",
         "lat": [
          -33.0153
         ],
         "legendgroup": "east london",
         "lon": [
          27.9116
         ],
         "marker": {
          "color": "#00cc96",
          "size": [
           88
          ],
          "sizemode": "area",
          "sizeref": 2.0408163265306123,
          "symbol": "circle"
         },
         "mode": "markers",
         "name": "east london",
         "showlegend": true,
         "type": "scattergeo"
        },
        {
         "geo": "geo",
         "hovertemplate": "City=hasaki<br>Humidity=%{marker.size}<br>Lat=%{lat}<br>Lng=%{lon}<extra></extra>",
         "lat": [
          35.7333
         ],
         "legendgroup": "hasaki",
         "lon": [
          140.8333
         ],
         "marker": {
          "color": "#ab63fa",
          "size": [
           64
          ],
          "sizemode": "area",
          "sizeref": 2.0408163265306123,
          "symbol": "circle"
         },
         "mode": "markers",
         "name": "hasaki",
         "showlegend": true,
         "type": "scattergeo"
        },
        {
         "geo": "geo",
         "hovertemplate": "City=cherskiy<br>Humidity=%{marker.size}<br>Lat=%{lat}<br>Lng=%{lon}<extra></extra>",
         "lat": [
          68.75
         ],
         "legendgroup": "cherskiy",
         "lon": [
          161.3
         ],
         "marker": {
          "color": "#FFA15A",
          "size": [
           94
          ],
          "sizemode": "area",
          "sizeref": 2.0408163265306123,
          "symbol": "circle"
         },
         "mode": "markers",
         "name": "cherskiy",
         "showlegend": true,
         "type": "scattergeo"
        },
        {
         "geo": "geo",
         "hovertemplate": "City=chhindwara<br>Humidity=%{marker.size}<br>Lat=%{lat}<br>Lng=%{lon}<extra></extra>",
         "lat": [
          22.0667
         ],
         "legendgroup": "chhindwara",
         "lon": [
          78.9333
         ],
         "marker": {
          "color": "#19d3f3",
          "size": [
           42
          ],
          "sizemode": "area",
          "sizeref": 2.0408163265306123,
          "symbol": "circle"
         },
         "mode": "markers",
         "name": "chhindwara",
         "showlegend": true,
         "type": "scattergeo"
        },
        {
         "geo": "geo",
         "hovertemplate": "City=porto novo<br>Humidity=%{marker.size}<br>Lat=%{lat}<br>Lng=%{lon}<extra></extra>",
         "lat": [
          6.4965
         ],
         "legendgroup": "porto novo",
         "lon": [
          2.6036
         ],
         "marker": {
          "color": "#FF6692",
          "size": [
           89
          ],
          "sizemode": "area",
          "sizeref": 2.0408163265306123,
          "symbol": "circle"
         },
         "mode": "markers",
         "name": "porto novo",
         "showlegend": true,
         "type": "scattergeo"
        },
        {
         "geo": "geo",
         "hovertemplate": "City=gilbues<br>Humidity=%{marker.size}<br>Lat=%{lat}<br>Lng=%{lon}<extra></extra>",
         "lat": [
          -9.8317
         ],
         "legendgroup": "gilbues",
         "lon": [
          -45.3439
         ],
         "marker": {
          "color": "#B6E880",
          "size": [
           69
          ],
          "sizemode": "area",
          "sizeref": 2.0408163265306123,
          "symbol": "circle"
         },
         "mode": "markers",
         "name": "gilbues",
         "showlegend": true,
         "type": "scattergeo"
        },
        {
         "geo": "geo",
         "hovertemplate": "City=bratsk<br>Humidity=%{marker.size}<br>Lat=%{lat}<br>Lng=%{lon}<extra></extra>",
         "lat": [
          56.1325
         ],
         "legendgroup": "bratsk",
         "lon": [
          101.6142
         ],
         "marker": {
          "color": "#FF97FF",
          "size": [
           95
          ],
          "sizemode": "area",
          "sizeref": 2.0408163265306123,
          "symbol": "circle"
         },
         "mode": "markers",
         "name": "bratsk",
         "showlegend": true,
         "type": "scattergeo"
        },
        {
         "geo": "geo",
         "hovertemplate": "City=bilibino<br>Humidity=%{marker.size}<br>Lat=%{lat}<br>Lng=%{lon}<extra></extra>",
         "lat": [
          68.0546
         ],
         "legendgroup": "bilibino",
         "lon": [
          166.4372
         ],
         "marker": {
          "color": "#FECB52",
          "size": [
           81
          ],
          "sizemode": "area",
          "sizeref": 2.0408163265306123,
          "symbol": "circle"
         },
         "mode": "markers",
         "name": "bilibino",
         "showlegend": true,
         "type": "scattergeo"
        },
        {
         "geo": "geo",
         "hovertemplate": "City=yar-sale<br>Humidity=%{marker.size}<br>Lat=%{lat}<br>Lng=%{lon}<extra></extra>",
         "lat": [
          66.8333
         ],
         "legendgroup": "yar-sale",
         "lon": [
          70.8333
         ],
         "marker": {
          "color": "#636efa",
          "size": [
           97
          ],
          "sizemode": "area",
          "sizeref": 2.0408163265306123,
          "symbol": "circle"
         },
         "mode": "markers",
         "name": "yar-sale",
         "showlegend": true,
         "type": "scattergeo"
        },
        {
         "geo": "geo",
         "hovertemplate": "City=ponta delgada<br>Humidity=%{marker.size}<br>Lat=%{lat}<br>Lng=%{lon}<extra></extra>",
         "lat": [
          37.7333
         ],
         "legendgroup": "ponta delgada",
         "lon": [
          -25.6667
         ],
         "marker": {
          "color": "#EF553B",
          "size": [
           67
          ],
          "sizemode": "area",
          "sizeref": 2.0408163265306123,
          "symbol": "circle"
         },
         "mode": "markers",
         "name": "ponta delgada",
         "showlegend": true,
         "type": "scattergeo"
        },
        {
         "geo": "geo",
         "hovertemplate": "City=avera<br>Humidity=%{marker.size}<br>Lat=%{lat}<br>Lng=%{lon}<extra></extra>",
         "lat": [
          33.194
         ],
         "legendgroup": "avera",
         "lon": [
          -82.5271
         ],
         "marker": {
          "color": "#00cc96",
          "size": [
           73
          ],
          "sizemode": "area",
          "sizeref": 2.0408163265306123,
          "symbol": "circle"
         },
         "mode": "markers",
         "name": "avera",
         "showlegend": true,
         "type": "scattergeo"
        },
        {
         "geo": "geo",
         "hovertemplate": "City=bakchar<br>Humidity=%{marker.size}<br>Lat=%{lat}<br>Lng=%{lon}<extra></extra>",
         "lat": [
          57.0186
         ],
         "legendgroup": "bakchar",
         "lon": [
          82.0711
         ],
         "marker": {
          "color": "#ab63fa",
          "size": [
           95
          ],
          "sizemode": "area",
          "sizeref": 2.0408163265306123,
          "symbol": "circle"
         },
         "mode": "markers",
         "name": "bakchar",
         "showlegend": true,
         "type": "scattergeo"
        },
        {
         "geo": "geo",
         "hovertemplate": "City=fairbanks<br>Humidity=%{marker.size}<br>Lat=%{lat}<br>Lng=%{lon}<extra></extra>",
         "lat": [
          64.8378
         ],
         "legendgroup": "fairbanks",
         "lon": [
          -147.7164
         ],
         "marker": {
          "color": "#FFA15A",
          "size": [
           76
          ],
          "sizemode": "area",
          "sizeref": 2.0408163265306123,
          "symbol": "circle"
         },
         "mode": "markers",
         "name": "fairbanks",
         "showlegend": true,
         "type": "scattergeo"
        },
        {
         "geo": "geo",
         "hovertemplate": "City=nalut<br>Humidity=%{marker.size}<br>Lat=%{lat}<br>Lng=%{lon}<extra></extra>",
         "lat": [
          30.3333
         ],
         "legendgroup": "nalut",
         "lon": [
          10.85
         ],
         "marker": {
          "color": "#19d3f3",
          "size": [
           48
          ],
          "sizemode": "area",
          "sizeref": 2.0408163265306123,
          "symbol": "circle"
         },
         "mode": "markers",
         "name": "nalut",
         "showlegend": true,
         "type": "scattergeo"
        },
        {
         "geo": "geo",
         "hovertemplate": "City=poltavka<br>Humidity=%{marker.size}<br>Lat=%{lat}<br>Lng=%{lon}<extra></extra>",
         "lat": [
          54.3663
         ],
         "legendgroup": "poltavka",
         "lon": [
          71.7632
         ],
         "marker": {
          "color": "#FF6692",
          "size": [
           97
          ],
          "sizemode": "area",
          "sizeref": 2.0408163265306123,
          "symbol": "circle"
         },
         "mode": "markers",
         "name": "poltavka",
         "showlegend": true,
         "type": "scattergeo"
        },
        {
         "geo": "geo",
         "hovertemplate": "City=nome<br>Humidity=%{marker.size}<br>Lat=%{lat}<br>Lng=%{lon}<extra></extra>",
         "lat": [
          64.5011
         ],
         "legendgroup": "nome",
         "lon": [
          -165.4064
         ],
         "marker": {
          "color": "#B6E880",
          "size": [
           65
          ],
          "sizemode": "area",
          "sizeref": 2.0408163265306123,
          "symbol": "circle"
         },
         "mode": "markers",
         "name": "nome",
         "showlegend": true,
         "type": "scattergeo"
        },
        {
         "geo": "geo",
         "hovertemplate": "City=nabire<br>Humidity=%{marker.size}<br>Lat=%{lat}<br>Lng=%{lon}<extra></extra>",
         "lat": [
          -3.3667
         ],
         "legendgroup": "nabire",
         "lon": [
          135.4833
         ],
         "marker": {
          "color": "#FF97FF",
          "size": [
           63
          ],
          "sizemode": "area",
          "sizeref": 2.0408163265306123,
          "symbol": "circle"
         },
         "mode": "markers",
         "name": "nabire",
         "showlegend": true,
         "type": "scattergeo"
        },
        {
         "geo": "geo",
         "hovertemplate": "City=san quintin<br>Humidity=%{marker.size}<br>Lat=%{lat}<br>Lng=%{lon}<extra></extra>",
         "lat": [
          30.4833
         ],
         "legendgroup": "san quintin",
         "lon": [
          -115.95
         ],
         "marker": {
          "color": "#FECB52",
          "size": [
           46
          ],
          "sizemode": "area",
          "sizeref": 2.0408163265306123,
          "symbol": "circle"
         },
         "mode": "markers",
         "name": "san quintin",
         "showlegend": true,
         "type": "scattergeo"
        },
        {
         "geo": "geo",
         "hovertemplate": "City=khatanga<br>Humidity=%{marker.size}<br>Lat=%{lat}<br>Lng=%{lon}<extra></extra>",
         "lat": [
          71.9667
         ],
         "legendgroup": "khatanga",
         "lon": [
          102.5
         ],
         "marker": {
          "color": "#636efa",
          "size": [
           97
          ],
          "sizemode": "area",
          "sizeref": 2.0408163265306123,
          "symbol": "circle"
         },
         "mode": "markers",
         "name": "khatanga",
         "showlegend": true,
         "type": "scattergeo"
        },
        {
         "geo": "geo",
         "hovertemplate": "City=moroni<br>Humidity=%{marker.size}<br>Lat=%{lat}<br>Lng=%{lon}<extra></extra>",
         "lat": [
          -11.7022
         ],
         "legendgroup": "moroni",
         "lon": [
          43.2551
         ],
         "marker": {
          "color": "#EF553B",
          "size": [
           88
          ],
          "sizemode": "area",
          "sizeref": 2.0408163265306123,
          "symbol": "circle"
         },
         "mode": "markers",
         "name": "moroni",
         "showlegend": true,
         "type": "scattergeo"
        },
        {
         "geo": "geo",
         "hovertemplate": "City=manggar<br>Humidity=%{marker.size}<br>Lat=%{lat}<br>Lng=%{lon}<extra></extra>",
         "lat": [
          -2.8833
         ],
         "legendgroup": "manggar",
         "lon": [
          108.2667
         ],
         "marker": {
          "color": "#00cc96",
          "size": [
           72
          ],
          "sizemode": "area",
          "sizeref": 2.0408163265306123,
          "symbol": "circle"
         },
         "mode": "markers",
         "name": "manggar",
         "showlegend": true,
         "type": "scattergeo"
        },
        {
         "geo": "geo",
         "hovertemplate": "City=necochea<br>Humidity=%{marker.size}<br>Lat=%{lat}<br>Lng=%{lon}<extra></extra>",
         "lat": [
          -38.5473
         ],
         "legendgroup": "necochea",
         "lon": [
          -58.7368
         ],
         "marker": {
          "color": "#ab63fa",
          "size": [
           58
          ],
          "sizemode": "area",
          "sizeref": 2.0408163265306123,
          "symbol": "circle"
         },
         "mode": "markers",
         "name": "necochea",
         "showlegend": true,
         "type": "scattergeo"
        },
        {
         "geo": "geo",
         "hovertemplate": "City=bealanana<br>Humidity=%{marker.size}<br>Lat=%{lat}<br>Lng=%{lon}<extra></extra>",
         "lat": [
          -14.55
         ],
         "legendgroup": "bealanana",
         "lon": [
          48.7333
         ],
         "marker": {
          "color": "#FFA15A",
          "size": [
           94
          ],
          "sizemode": "area",
          "sizeref": 2.0408163265306123,
          "symbol": "circle"
         },
         "mode": "markers",
         "name": "bealanana",
         "showlegend": true,
         "type": "scattergeo"
        },
        {
         "geo": "geo",
         "hovertemplate": "City=guerrero negro<br>Humidity=%{marker.size}<br>Lat=%{lat}<br>Lng=%{lon}<extra></extra>",
         "lat": [
          27.9769
         ],
         "legendgroup": "guerrero negro",
         "lon": [
          -114.0611
         ],
         "marker": {
          "color": "#19d3f3",
          "size": [
           42
          ],
          "sizemode": "area",
          "sizeref": 2.0408163265306123,
          "symbol": "circle"
         },
         "mode": "markers",
         "name": "guerrero negro",
         "showlegend": true,
         "type": "scattergeo"
        },
        {
         "geo": "geo",
         "hovertemplate": "City=pucallpa<br>Humidity=%{marker.size}<br>Lat=%{lat}<br>Lng=%{lon}<extra></extra>",
         "lat": [
          -8.3791
         ],
         "legendgroup": "pucallpa",
         "lon": [
          -74.5539
         ],
         "marker": {
          "color": "#FF6692",
          "size": [
           78
          ],
          "sizemode": "area",
          "sizeref": 2.0408163265306123,
          "symbol": "circle"
         },
         "mode": "markers",
         "name": "pucallpa",
         "showlegend": true,
         "type": "scattergeo"
        },
        {
         "geo": "geo",
         "hovertemplate": "City=nikolskoye<br>Humidity=%{marker.size}<br>Lat=%{lat}<br>Lng=%{lon}<extra></extra>",
         "lat": [
          59.7035
         ],
         "legendgroup": "nikolskoye",
         "lon": [
          30.7861
         ],
         "marker": {
          "color": "#B6E880",
          "size": [
           92
          ],
          "sizemode": "area",
          "sizeref": 2.0408163265306123,
          "symbol": "circle"
         },
         "mode": "markers",
         "name": "nikolskoye",
         "showlegend": true,
         "type": "scattergeo"
        },
        {
         "geo": "geo",
         "hovertemplate": "City=anderson<br>Humidity=%{marker.size}<br>Lat=%{lat}<br>Lng=%{lon}<extra></extra>",
         "lat": [
          34.5334
         ],
         "legendgroup": "anderson",
         "lon": [
          -82.6499
         ],
         "marker": {
          "color": "#FF97FF",
          "size": [
           76
          ],
          "sizemode": "area",
          "sizeref": 2.0408163265306123,
          "symbol": "circle"
         },
         "mode": "markers",
         "name": "anderson",
         "showlegend": true,
         "type": "scattergeo"
        },
        {
         "geo": "geo",
         "hovertemplate": "City=kidal<br>Humidity=%{marker.size}<br>Lat=%{lat}<br>Lng=%{lon}<extra></extra>",
         "lat": [
          18.4411
         ],
         "legendgroup": "kidal",
         "lon": [
          1.4078
         ],
         "marker": {
          "color": "#FECB52",
          "size": [
           14
          ],
          "sizemode": "area",
          "sizeref": 2.0408163265306123,
          "symbol": "circle"
         },
         "mode": "markers",
         "name": "kidal",
         "showlegend": true,
         "type": "scattergeo"
        },
        {
         "geo": "geo",
         "hovertemplate": "City=joshimath<br>Humidity=%{marker.size}<br>Lat=%{lat}<br>Lng=%{lon}<extra></extra>",
         "lat": [
          30.5667
         ],
         "legendgroup": "joshimath",
         "lon": [
          79.5667
         ],
         "marker": {
          "color": "#636efa",
          "size": [
           83
          ],
          "sizemode": "area",
          "sizeref": 2.0408163265306123,
          "symbol": "circle"
         },
         "mode": "markers",
         "name": "joshimath",
         "showlegend": true,
         "type": "scattergeo"
        },
        {
         "geo": "geo",
         "hovertemplate": "City=samfya<br>Humidity=%{marker.size}<br>Lat=%{lat}<br>Lng=%{lon}<extra></extra>",
         "lat": [
          -11.3649
         ],
         "legendgroup": "samfya",
         "lon": [
          29.5565
         ],
         "marker": {
          "color": "#EF553B",
          "size": [
           88
          ],
          "sizemode": "area",
          "sizeref": 2.0408163265306123,
          "symbol": "circle"
         },
         "mode": "markers",
         "name": "samfya",
         "showlegend": true,
         "type": "scattergeo"
        },
        {
         "geo": "geo",
         "hovertemplate": "City=kaili<br>Humidity=%{marker.size}<br>Lat=%{lat}<br>Lng=%{lon}<extra></extra>",
         "lat": [
          -3.4626
         ],
         "legendgroup": "kaili",
         "lon": [
          120.2147
         ],
         "marker": {
          "color": "#00cc96",
          "size": [
           74
          ],
          "sizemode": "area",
          "sizeref": 2.0408163265306123,
          "symbol": "circle"
         },
         "mode": "markers",
         "name": "kaili",
         "showlegend": true,
         "type": "scattergeo"
        },
        {
         "geo": "geo",
         "hovertemplate": "City=provideniya<br>Humidity=%{marker.size}<br>Lat=%{lat}<br>Lng=%{lon}<extra></extra>",
         "lat": [
          64.3833
         ],
         "legendgroup": "provideniya",
         "lon": [
          -173.3
         ],
         "marker": {
          "color": "#ab63fa",
          "size": [
           66
          ],
          "sizemode": "area",
          "sizeref": 2.0408163265306123,
          "symbol": "circle"
         },
         "mode": "markers",
         "name": "provideniya",
         "showlegend": true,
         "type": "scattergeo"
        },
        {
         "geo": "geo",
         "hovertemplate": "City=kavieng<br>Humidity=%{marker.size}<br>Lat=%{lat}<br>Lng=%{lon}<extra></extra>",
         "lat": [
          -2.5744
         ],
         "legendgroup": "kavieng",
         "lon": [
          150.7967
         ],
         "marker": {
          "color": "#FFA15A",
          "size": [
           69
          ],
          "sizemode": "area",
          "sizeref": 2.0408163265306123,
          "symbol": "circle"
         },
         "mode": "markers",
         "name": "kavieng",
         "showlegend": true,
         "type": "scattergeo"
        },
        {
         "geo": "geo",
         "hovertemplate": "City=magadi<br>Humidity=%{marker.size}<br>Lat=%{lat}<br>Lng=%{lon}<extra></extra>",
         "lat": [
          12.9667
         ],
         "legendgroup": "magadi",
         "lon": [
          77.2333
         ],
         "marker": {
          "color": "#19d3f3",
          "size": [
           67
          ],
          "sizemode": "area",
          "sizeref": 2.0408163265306123,
          "symbol": "circle"
         },
         "mode": "markers",
         "name": "magadi",
         "showlegend": true,
         "type": "scattergeo"
        },
        {
         "geo": "geo",
         "hovertemplate": "City=codrington<br>Humidity=%{marker.size}<br>Lat=%{lat}<br>Lng=%{lon}<extra></extra>",
         "lat": [
          -38.2667
         ],
         "legendgroup": "codrington",
         "lon": [
          141.9667
         ],
         "marker": {
          "color": "#FF6692",
          "size": [
           61
          ],
          "sizemode": "area",
          "sizeref": 2.0408163265306123,
          "symbol": "circle"
         },
         "mode": "markers",
         "name": "codrington",
         "showlegend": true,
         "type": "scattergeo"
        },
        {
         "geo": "geo",
         "hovertemplate": "City=chernihiv<br>Humidity=%{marker.size}<br>Lat=%{lat}<br>Lng=%{lon}<extra></extra>",
         "lat": [
          51
         ],
         "legendgroup": "chernihiv",
         "lon": [
          32
         ],
         "marker": {
          "color": "#B6E880",
          "size": [
           75
          ],
          "sizemode": "area",
          "sizeref": 2.0408163265306123,
          "symbol": "circle"
         },
         "mode": "markers",
         "name": "chernihiv",
         "showlegend": true,
         "type": "scattergeo"
        },
        {
         "geo": "geo",
         "hovertemplate": "City=penzance<br>Humidity=%{marker.size}<br>Lat=%{lat}<br>Lng=%{lon}<extra></extra>",
         "lat": [
          50.1186
         ],
         "legendgroup": "penzance",
         "lon": [
          -5.5371
         ],
         "marker": {
          "color": "#FF97FF",
          "size": [
           73
          ],
          "sizemode": "area",
          "sizeref": 2.0408163265306123,
          "symbol": "circle"
         },
         "mode": "markers",
         "name": "penzance",
         "showlegend": true,
         "type": "scattergeo"
        },
        {
         "geo": "geo",
         "hovertemplate": "City=kenai<br>Humidity=%{marker.size}<br>Lat=%{lat}<br>Lng=%{lon}<extra></extra>",
         "lat": [
          60.5544
         ],
         "legendgroup": "kenai",
         "lon": [
          -151.2583
         ],
         "marker": {
          "color": "#FECB52",
          "size": [
           94
          ],
          "sizemode": "area",
          "sizeref": 2.0408163265306123,
          "symbol": "circle"
         },
         "mode": "markers",
         "name": "kenai",
         "showlegend": true,
         "type": "scattergeo"
        },
        {
         "geo": "geo",
         "hovertemplate": "City=lorengau<br>Humidity=%{marker.size}<br>Lat=%{lat}<br>Lng=%{lon}<extra></extra>",
         "lat": [
          -2.0226
         ],
         "legendgroup": "lorengau",
         "lon": [
          147.2712
         ],
         "marker": {
          "color": "#636efa",
          "size": [
           81
          ],
          "sizemode": "area",
          "sizeref": 2.0408163265306123,
          "symbol": "circle"
         },
         "mode": "markers",
         "name": "lorengau",
         "showlegend": true,
         "type": "scattergeo"
        },
        {
         "geo": "geo",
         "hovertemplate": "City=ampanihy<br>Humidity=%{marker.size}<br>Lat=%{lat}<br>Lng=%{lon}<extra></extra>",
         "lat": [
          -24.7
         ],
         "legendgroup": "ampanihy",
         "lon": [
          44.75
         ],
         "marker": {
          "color": "#EF553B",
          "size": [
           75
          ],
          "sizemode": "area",
          "sizeref": 2.0408163265306123,
          "symbol": "circle"
         },
         "mode": "markers",
         "name": "ampanihy",
         "showlegend": true,
         "type": "scattergeo"
        },
        {
         "geo": "geo",
         "hovertemplate": "City=hatten<br>Humidity=%{marker.size}<br>Lat=%{lat}<br>Lng=%{lon}<extra></extra>",
         "lat": [
          53.0167
         ],
         "legendgroup": "hatten",
         "lon": [
          8.35
         ],
         "marker": {
          "color": "#00cc96",
          "size": [
           88
          ],
          "sizemode": "area",
          "sizeref": 2.0408163265306123,
          "symbol": "circle"
         },
         "mode": "markers",
         "name": "hatten",
         "showlegend": true,
         "type": "scattergeo"
        },
        {
         "geo": "geo",
         "hovertemplate": "City=shimoda<br>Humidity=%{marker.size}<br>Lat=%{lat}<br>Lng=%{lon}<extra></extra>",
         "lat": [
          34.6667
         ],
         "legendgroup": "shimoda",
         "lon": [
          138.95
         ],
         "marker": {
          "color": "#ab63fa",
          "size": [
           56
          ],
          "sizemode": "area",
          "sizeref": 2.0408163265306123,
          "symbol": "circle"
         },
         "mode": "markers",
         "name": "shimoda",
         "showlegend": true,
         "type": "scattergeo"
        },
        {
         "geo": "geo",
         "hovertemplate": "City=zhigansk<br>Humidity=%{marker.size}<br>Lat=%{lat}<br>Lng=%{lon}<extra></extra>",
         "lat": [
          66.7697
         ],
         "legendgroup": "zhigansk",
         "lon": [
          123.3711
         ],
         "marker": {
          "color": "#FFA15A",
          "size": [
           97
          ],
          "sizemode": "area",
          "sizeref": 2.0408163265306123,
          "symbol": "circle"
         },
         "mode": "markers",
         "name": "zhigansk",
         "showlegend": true,
         "type": "scattergeo"
        },
        {
         "geo": "geo",
         "hovertemplate": "City=ambulu<br>Humidity=%{marker.size}<br>Lat=%{lat}<br>Lng=%{lon}<extra></extra>",
         "lat": [
          -8.345
         ],
         "legendgroup": "ambulu",
         "lon": [
          113.6058
         ],
         "marker": {
          "color": "#19d3f3",
          "size": [
           67
          ],
          "sizemode": "area",
          "sizeref": 2.0408163265306123,
          "symbol": "circle"
         },
         "mode": "markers",
         "name": "ambulu",
         "showlegend": true,
         "type": "scattergeo"
        },
        {
         "geo": "geo",
         "hovertemplate": "City=la rioja<br>Humidity=%{marker.size}<br>Lat=%{lat}<br>Lng=%{lon}<extra></extra>",
         "lat": [
          42.25
         ],
         "legendgroup": "la rioja",
         "lon": [
          -2.5
         ],
         "marker": {
          "color": "#FF6692",
          "size": [
           97
          ],
          "sizemode": "area",
          "sizeref": 2.0408163265306123,
          "symbol": "circle"
         },
         "mode": "markers",
         "name": "la rioja",
         "showlegend": true,
         "type": "scattergeo"
        },
        {
         "geo": "geo",
         "hovertemplate": "City=dali<br>Humidity=%{marker.size}<br>Lat=%{lat}<br>Lng=%{lon}<extra></extra>",
         "lat": [
          25.7
         ],
         "legendgroup": "dali",
         "lon": [
          100.1833
         ],
         "marker": {
          "color": "#B6E880",
          "size": [
           31
          ],
          "sizemode": "area",
          "sizeref": 2.0408163265306123,
          "symbol": "circle"
         },
         "mode": "markers",
         "name": "dali",
         "showlegend": true,
         "type": "scattergeo"
        },
        {
         "geo": "geo",
         "hovertemplate": "City=beringovskiy<br>Humidity=%{marker.size}<br>Lat=%{lat}<br>Lng=%{lon}<extra></extra>",
         "lat": [
          63.05
         ],
         "legendgroup": "beringovskiy",
         "lon": [
          179.3167
         ],
         "marker": {
          "color": "#FF97FF",
          "size": [
           97
          ],
          "sizemode": "area",
          "sizeref": 2.0408163265306123,
          "symbol": "circle"
         },
         "mode": "markers",
         "name": "beringovskiy",
         "showlegend": true,
         "type": "scattergeo"
        },
        {
         "geo": "geo",
         "hovertemplate": "City=wagga wagga<br>Humidity=%{marker.size}<br>Lat=%{lat}<br>Lng=%{lon}<extra></extra>",
         "lat": [
          -35.1167
         ],
         "legendgroup": "wagga wagga",
         "lon": [
          147.3667
         ],
         "marker": {
          "color": "#FECB52",
          "size": [
           40
          ],
          "sizemode": "area",
          "sizeref": 2.0408163265306123,
          "symbol": "circle"
         },
         "mode": "markers",
         "name": "wagga wagga",
         "showlegend": true,
         "type": "scattergeo"
        },
        {
         "geo": "geo",
         "hovertemplate": "City=general roca<br>Humidity=%{marker.size}<br>Lat=%{lat}<br>Lng=%{lon}<extra></extra>",
         "lat": [
          -39.0333
         ],
         "legendgroup": "general roca",
         "lon": [
          -67.5833
         ],
         "marker": {
          "color": "#636efa",
          "size": [
           27
          ],
          "sizemode": "area",
          "sizeref": 2.0408163265306123,
          "symbol": "circle"
         },
         "mode": "markers",
         "name": "general roca",
         "showlegend": true,
         "type": "scattergeo"
        },
        {
         "geo": "geo",
         "hovertemplate": "City=rudsar<br>Humidity=%{marker.size}<br>Lat=%{lat}<br>Lng=%{lon}<extra></extra>",
         "lat": [
          37.1376
         ],
         "legendgroup": "rudsar",
         "lon": [
          50.288000000000004
         ],
         "marker": {
          "color": "#EF553B",
          "size": [
           72
          ],
          "sizemode": "area",
          "sizeref": 2.0408163265306123,
          "symbol": "circle"
         },
         "mode": "markers",
         "name": "rudsar",
         "showlegend": true,
         "type": "scattergeo"
        },
        {
         "geo": "geo",
         "hovertemplate": "City=billings<br>Humidity=%{marker.size}<br>Lat=%{lat}<br>Lng=%{lon}<extra></extra>",
         "lat": [
          45.7833
         ],
         "legendgroup": "billings",
         "lon": [
          -108.5007
         ],
         "marker": {
          "color": "#00cc96",
          "size": [
           63
          ],
          "sizemode": "area",
          "sizeref": 2.0408163265306123,
          "symbol": "circle"
         },
         "mode": "markers",
         "name": "billings",
         "showlegend": true,
         "type": "scattergeo"
        },
        {
         "geo": "geo",
         "hovertemplate": "City=champerico<br>Humidity=%{marker.size}<br>Lat=%{lat}<br>Lng=%{lon}<extra></extra>",
         "lat": [
          14.3
         ],
         "legendgroup": "champerico",
         "lon": [
          -91.9167
         ],
         "marker": {
          "color": "#ab63fa",
          "size": [
           75
          ],
          "sizemode": "area",
          "sizeref": 2.0408163265306123,
          "symbol": "circle"
         },
         "mode": "markers",
         "name": "champerico",
         "showlegend": true,
         "type": "scattergeo"
        },
        {
         "geo": "geo",
         "hovertemplate": "City=fort nelson<br>Humidity=%{marker.size}<br>Lat=%{lat}<br>Lng=%{lon}<extra></extra>",
         "lat": [
          58.8053
         ],
         "legendgroup": "fort nelson",
         "lon": [
          -122.7002
         ],
         "marker": {
          "color": "#FFA15A",
          "size": [
           100
          ],
          "sizemode": "area",
          "sizeref": 2.0408163265306123,
          "symbol": "circle"
         },
         "mode": "markers",
         "name": "fort nelson",
         "showlegend": true,
         "type": "scattergeo"
        },
        {
         "geo": "geo",
         "hovertemplate": "City=mabaruma<br>Humidity=%{marker.size}<br>Lat=%{lat}<br>Lng=%{lon}<extra></extra>",
         "lat": [
          8.2
         ],
         "legendgroup": "mabaruma",
         "lon": [
          -59.7833
         ],
         "marker": {
          "color": "#19d3f3",
          "size": [
           98
          ],
          "sizemode": "area",
          "sizeref": 2.0408163265306123,
          "symbol": "circle"
         },
         "mode": "markers",
         "name": "mabaruma",
         "showlegend": true,
         "type": "scattergeo"
        },
        {
         "geo": "geo",
         "hovertemplate": "City=santa maria<br>Humidity=%{marker.size}<br>Lat=%{lat}<br>Lng=%{lon}<extra></extra>",
         "lat": [
          -29.6842
         ],
         "legendgroup": "santa maria",
         "lon": [
          -53.8069
         ],
         "marker": {
          "color": "#FF6692",
          "size": [
           83
          ],
          "sizemode": "area",
          "sizeref": 2.0408163265306123,
          "symbol": "circle"
         },
         "mode": "markers",
         "name": "santa maria",
         "showlegend": true,
         "type": "scattergeo"
        },
        {
         "geo": "geo",
         "hovertemplate": "City=zyryanka<br>Humidity=%{marker.size}<br>Lat=%{lat}<br>Lng=%{lon}<extra></extra>",
         "lat": [
          65.75
         ],
         "legendgroup": "zyryanka",
         "lon": [
          150.85
         ],
         "marker": {
          "color": "#B6E880",
          "size": [
           93
          ],
          "sizemode": "area",
          "sizeref": 2.0408163265306123,
          "symbol": "circle"
         },
         "mode": "markers",
         "name": "zyryanka",
         "showlegend": true,
         "type": "scattergeo"
        },
        {
         "geo": "geo",
         "hovertemplate": "City=yerbogachen<br>Humidity=%{marker.size}<br>Lat=%{lat}<br>Lng=%{lon}<extra></extra>",
         "lat": [
          61.2767
         ],
         "legendgroup": "yerbogachen",
         "lon": [
          108.0108
         ],
         "marker": {
          "color": "#FF97FF",
          "size": [
           94
          ],
          "sizemode": "area",
          "sizeref": 2.0408163265306123,
          "symbol": "circle"
         },
         "mode": "markers",
         "name": "yerbogachen",
         "showlegend": true,
         "type": "scattergeo"
        },
        {
         "geo": "geo",
         "hovertemplate": "City=padang<br>Humidity=%{marker.size}<br>Lat=%{lat}<br>Lng=%{lon}<extra></extra>",
         "lat": [
          -0.9492
         ],
         "legendgroup": "padang",
         "lon": [
          100.3543
         ],
         "marker": {
          "color": "#FECB52",
          "size": [
           88
          ],
          "sizemode": "area",
          "sizeref": 2.0408163265306123,
          "symbol": "circle"
         },
         "mode": "markers",
         "name": "padang",
         "showlegend": true,
         "type": "scattergeo"
        },
        {
         "geo": "geo",
         "hovertemplate": "City=moerai<br>Humidity=%{marker.size}<br>Lat=%{lat}<br>Lng=%{lon}<extra></extra>",
         "lat": [
          -22.4333
         ],
         "legendgroup": "moerai",
         "lon": [
          -151.3333
         ],
         "marker": {
          "color": "#636efa",
          "size": [
           77
          ],
          "sizemode": "area",
          "sizeref": 2.0408163265306123,
          "symbol": "circle"
         },
         "mode": "markers",
         "name": "moerai",
         "showlegend": true,
         "type": "scattergeo"
        },
        {
         "geo": "geo",
         "hovertemplate": "City=santa cruz de la palma<br>Humidity=%{marker.size}<br>Lat=%{lat}<br>Lng=%{lon}<extra></extra>",
         "lat": [
          28.6835
         ],
         "legendgroup": "santa cruz de la palma",
         "lon": [
          -17.7642
         ],
         "marker": {
          "color": "#EF553B",
          "size": [
           59
          ],
          "sizemode": "area",
          "sizeref": 2.0408163265306123,
          "symbol": "circle"
         },
         "mode": "markers",
         "name": "santa cruz de la palma",
         "showlegend": true,
         "type": "scattergeo"
        },
        {
         "geo": "geo",
         "hovertemplate": "City=pangnirtung<br>Humidity=%{marker.size}<br>Lat=%{lat}<br>Lng=%{lon}<extra></extra>",
         "lat": [
          66.1451
         ],
         "legendgroup": "pangnirtung",
         "lon": [
          -65.7125
         ],
         "marker": {
          "color": "#00cc96",
          "size": [
           82
          ],
          "sizemode": "area",
          "sizeref": 2.0408163265306123,
          "symbol": "circle"
         },
         "mode": "markers",
         "name": "pangnirtung",
         "showlegend": true,
         "type": "scattergeo"
        },
        {
         "geo": "geo",
         "hovertemplate": "City=lavrentiya<br>Humidity=%{marker.size}<br>Lat=%{lat}<br>Lng=%{lon}<extra></extra>",
         "lat": [
          65.5833
         ],
         "legendgroup": "lavrentiya",
         "lon": [
          -171
         ],
         "marker": {
          "color": "#ab63fa",
          "size": [
           95
          ],
          "sizemode": "area",
          "sizeref": 2.0408163265306123,
          "symbol": "circle"
         },
         "mode": "markers",
         "name": "lavrentiya",
         "showlegend": true,
         "type": "scattergeo"
        },
        {
         "geo": "geo",
         "hovertemplate": "City=tazovskiy<br>Humidity=%{marker.size}<br>Lat=%{lat}<br>Lng=%{lon}<extra></extra>",
         "lat": [
          67.4667
         ],
         "legendgroup": "tazovskiy",
         "lon": [
          78.7
         ],
         "marker": {
          "color": "#FFA15A",
          "size": [
           99
          ],
          "sizemode": "area",
          "sizeref": 2.0408163265306123,
          "symbol": "circle"
         },
         "mode": "markers",
         "name": "tazovskiy",
         "showlegend": true,
         "type": "scattergeo"
        },
        {
         "geo": "geo",
         "hovertemplate": "City=san luis<br>Humidity=%{marker.size}<br>Lat=%{lat}<br>Lng=%{lon}<extra></extra>",
         "lat": [
          -33.295
         ],
         "legendgroup": "san luis",
         "lon": [
          -66.3356
         ],
         "marker": {
          "color": "#19d3f3",
          "size": [
           37
          ],
          "sizemode": "area",
          "sizeref": 2.0408163265306123,
          "symbol": "circle"
         },
         "mode": "markers",
         "name": "san luis",
         "showlegend": true,
         "type": "scattergeo"
        },
        {
         "geo": "geo",
         "hovertemplate": "City=likhoslavl<br>Humidity=%{marker.size}<br>Lat=%{lat}<br>Lng=%{lon}<extra></extra>",
         "lat": [
          57.1275
         ],
         "legendgroup": "likhoslavl",
         "lon": [
          35.464
         ],
         "marker": {
          "color": "#FF6692",
          "size": [
           97
          ],
          "sizemode": "area",
          "sizeref": 2.0408163265306123,
          "symbol": "circle"
         },
         "mode": "markers",
         "name": "likhoslavl",
         "showlegend": true,
         "type": "scattergeo"
        },
        {
         "geo": "geo",
         "hovertemplate": "City=chapais<br>Humidity=%{marker.size}<br>Lat=%{lat}<br>Lng=%{lon}<extra></extra>",
         "lat": [
          49.7834
         ],
         "legendgroup": "chapais",
         "lon": [
          -74.8492
         ],
         "marker": {
          "color": "#B6E880",
          "size": [
           93
          ],
          "sizemode": "area",
          "sizeref": 2.0408163265306123,
          "symbol": "circle"
         },
         "mode": "markers",
         "name": "chapais",
         "showlegend": true,
         "type": "scattergeo"
        },
        {
         "geo": "geo",
         "hovertemplate": "City=waddan<br>Humidity=%{marker.size}<br>Lat=%{lat}<br>Lng=%{lon}<extra></extra>",
         "lat": [
          29.1614
         ],
         "legendgroup": "waddan",
         "lon": [
          16.139
         ],
         "marker": {
          "color": "#FF97FF",
          "size": [
           32
          ],
          "sizemode": "area",
          "sizeref": 2.0408163265306123,
          "symbol": "circle"
         },
         "mode": "markers",
         "name": "waddan",
         "showlegend": true,
         "type": "scattergeo"
        },
        {
         "geo": "geo",
         "hovertemplate": "City=ancud<br>Humidity=%{marker.size}<br>Lat=%{lat}<br>Lng=%{lon}<extra></extra>",
         "lat": [
          -41.8697
         ],
         "legendgroup": "ancud",
         "lon": [
          -73.8203
         ],
         "marker": {
          "color": "#FECB52",
          "size": [
           83
          ],
          "sizemode": "area",
          "sizeref": 2.0408163265306123,
          "symbol": "circle"
         },
         "mode": "markers",
         "name": "ancud",
         "showlegend": true,
         "type": "scattergeo"
        },
        {
         "geo": "geo",
         "hovertemplate": "City=tungor<br>Humidity=%{marker.size}<br>Lat=%{lat}<br>Lng=%{lon}<extra></extra>",
         "lat": [
          53.3808
         ],
         "legendgroup": "tungor",
         "lon": [
          142.9564
         ],
         "marker": {
          "color": "#636efa",
          "size": [
           93
          ],
          "sizemode": "area",
          "sizeref": 2.0408163265306123,
          "symbol": "circle"
         },
         "mode": "markers",
         "name": "tungor",
         "showlegend": true,
         "type": "scattergeo"
        },
        {
         "geo": "geo",
         "hovertemplate": "City=norman wells<br>Humidity=%{marker.size}<br>Lat=%{lat}<br>Lng=%{lon}<extra></extra>",
         "lat": [
          65.282
         ],
         "legendgroup": "norman wells",
         "lon": [
          -126.8329
         ],
         "marker": {
          "color": "#EF553B",
          "size": [
           76
          ],
          "sizemode": "area",
          "sizeref": 2.0408163265306123,
          "symbol": "circle"
         },
         "mode": "markers",
         "name": "norman wells",
         "showlegend": true,
         "type": "scattergeo"
        },
        {
         "geo": "geo",
         "hovertemplate": "City=kanashevo<br>Humidity=%{marker.size}<br>Lat=%{lat}<br>Lng=%{lon}<extra></extra>",
         "lat": [
          55.2169
         ],
         "legendgroup": "kanashevo",
         "lon": [
          62.0634
         ],
         "marker": {
          "color": "#00cc96",
          "size": [
           93
          ],
          "sizemode": "area",
          "sizeref": 2.0408163265306123,
          "symbol": "circle"
         },
         "mode": "markers",
         "name": "kanashevo",
         "showlegend": true,
         "type": "scattergeo"
        },
        {
         "geo": "geo",
         "hovertemplate": "City=washington<br>Humidity=%{marker.size}<br>Lat=%{lat}<br>Lng=%{lon}<extra></extra>",
         "lat": [
          47.5001
         ],
         "legendgroup": "washington",
         "lon": [
          -120.5015
         ],
         "marker": {
          "color": "#ab63fa",
          "size": [
           82
          ],
          "sizemode": "area",
          "sizeref": 2.0408163265306123,
          "symbol": "circle"
         },
         "mode": "markers",
         "name": "washington",
         "showlegend": true,
         "type": "scattergeo"
        },
        {
         "geo": "geo",
         "hovertemplate": "City=boaco<br>Humidity=%{marker.size}<br>Lat=%{lat}<br>Lng=%{lon}<extra></extra>",
         "lat": [
          12.4722
         ],
         "legendgroup": "boaco",
         "lon": [
          -85.6586
         ],
         "marker": {
          "color": "#FFA15A",
          "size": [
           93
          ],
          "sizemode": "area",
          "sizeref": 2.0408163265306123,
          "symbol": "circle"
         },
         "mode": "markers",
         "name": "boaco",
         "showlegend": true,
         "type": "scattergeo"
        },
        {
         "geo": "geo",
         "hovertemplate": "City=tautira<br>Humidity=%{marker.size}<br>Lat=%{lat}<br>Lng=%{lon}<extra></extra>",
         "lat": [
          -17.7333
         ],
         "legendgroup": "tautira",
         "lon": [
          -149.15
         ],
         "marker": {
          "color": "#19d3f3",
          "size": [
           82
          ],
          "sizemode": "area",
          "sizeref": 2.0408163265306123,
          "symbol": "circle"
         },
         "mode": "markers",
         "name": "tautira",
         "showlegend": true,
         "type": "scattergeo"
        },
        {
         "geo": "geo",
         "hovertemplate": "City=kysyl-syr<br>Humidity=%{marker.size}<br>Lat=%{lat}<br>Lng=%{lon}<extra></extra>",
         "lat": [
          63.8986
         ],
         "legendgroup": "kysyl-syr",
         "lon": [
          122.7617
         ],
         "marker": {
          "color": "#FF6692",
          "size": [
           97
          ],
          "sizemode": "area",
          "sizeref": 2.0408163265306123,
          "symbol": "circle"
         },
         "mode": "markers",
         "name": "kysyl-syr",
         "showlegend": true,
         "type": "scattergeo"
        },
        {
         "geo": "geo",
         "hovertemplate": "City=medina<br>Humidity=%{marker.size}<br>Lat=%{lat}<br>Lng=%{lon}<extra></extra>",
         "lat": [
          24.4686
         ],
         "legendgroup": "medina",
         "lon": [
          39.6142
         ],
         "marker": {
          "color": "#B6E880",
          "size": [
           45
          ],
          "sizemode": "area",
          "sizeref": 2.0408163265306123,
          "symbol": "circle"
         },
         "mode": "markers",
         "name": "medina",
         "showlegend": true,
         "type": "scattergeo"
        },
        {
         "geo": "geo",
         "hovertemplate": "City=lata<br>Humidity=%{marker.size}<br>Lat=%{lat}<br>Lng=%{lon}<extra></extra>",
         "lat": [
          40.1629
         ],
         "legendgroup": "lata",
         "lon": [
          -8.3327
         ],
         "marker": {
          "color": "#FF97FF",
          "size": [
           72
          ],
          "sizemode": "area",
          "sizeref": 2.0408163265306123,
          "symbol": "circle"
         },
         "mode": "markers",
         "name": "lata",
         "showlegend": true,
         "type": "scattergeo"
        },
        {
         "geo": "geo",
         "hovertemplate": "City=kaeo<br>Humidity=%{marker.size}<br>Lat=%{lat}<br>Lng=%{lon}<extra></extra>",
         "lat": [
          -35.1
         ],
         "legendgroup": "kaeo",
         "lon": [
          173.7833
         ],
         "marker": {
          "color": "#FECB52",
          "size": [
           70
          ],
          "sizemode": "area",
          "sizeref": 2.0408163265306123,
          "symbol": "circle"
         },
         "mode": "markers",
         "name": "kaeo",
         "showlegend": true,
         "type": "scattergeo"
        },
        {
         "geo": "geo",
         "hovertemplate": "City=taltal<br>Humidity=%{marker.size}<br>Lat=%{lat}<br>Lng=%{lon}<extra></extra>",
         "lat": [
          -25.4
         ],
         "legendgroup": "taltal",
         "lon": [
          -70.4833
         ],
         "marker": {
          "color": "#636efa",
          "size": [
           84
          ],
          "sizemode": "area",
          "sizeref": 2.0408163265306123,
          "symbol": "circle"
         },
         "mode": "markers",
         "name": "taltal",
         "showlegend": true,
         "type": "scattergeo"
        },
        {
         "geo": "geo",
         "hovertemplate": "City=abnub<br>Humidity=%{marker.size}<br>Lat=%{lat}<br>Lng=%{lon}<extra></extra>",
         "lat": [
          27.2696
         ],
         "legendgroup": "abnub",
         "lon": [
          31.1511
         ],
         "marker": {
          "color": "#EF553B",
          "size": [
           78
          ],
          "sizemode": "area",
          "sizeref": 2.0408163265306123,
          "symbol": "circle"
         },
         "mode": "markers",
         "name": "abnub",
         "showlegend": true,
         "type": "scattergeo"
        },
        {
         "geo": "geo",
         "hovertemplate": "City=saint george<br>Humidity=%{marker.size}<br>Lat=%{lat}<br>Lng=%{lon}<extra></extra>",
         "lat": [
          37.1041
         ],
         "legendgroup": "saint george",
         "lon": [
          -113.5841
         ],
         "marker": {
          "color": "#00cc96",
          "size": [
           49
          ],
          "sizemode": "area",
          "sizeref": 2.0408163265306123,
          "symbol": "circle"
         },
         "mode": "markers",
         "name": "saint george",
         "showlegend": true,
         "type": "scattergeo"
        },
        {
         "geo": "geo",
         "hovertemplate": "City=traverse city<br>Humidity=%{marker.size}<br>Lat=%{lat}<br>Lng=%{lon}<extra></extra>",
         "lat": [
          44.7631
         ],
         "legendgroup": "traverse city",
         "lon": [
          -85.6206
         ],
         "marker": {
          "color": "#ab63fa",
          "size": [
           92
          ],
          "sizemode": "area",
          "sizeref": 2.0408163265306123,
          "symbol": "circle"
         },
         "mode": "markers",
         "name": "traverse city",
         "showlegend": true,
         "type": "scattergeo"
        },
        {
         "geo": "geo",
         "hovertemplate": "City=peace river<br>Humidity=%{marker.size}<br>Lat=%{lat}<br>Lng=%{lon}<extra></extra>",
         "lat": [
          56.2501
         ],
         "legendgroup": "peace river",
         "lon": [
          -117.286
         ],
         "marker": {
          "color": "#FFA15A",
          "size": [
           86
          ],
          "sizemode": "area",
          "sizeref": 2.0408163265306123,
          "symbol": "circle"
         },
         "mode": "markers",
         "name": "peace river",
         "showlegend": true,
         "type": "scattergeo"
        },
        {
         "geo": "geo",
         "hovertemplate": "City=hibbing<br>Humidity=%{marker.size}<br>Lat=%{lat}<br>Lng=%{lon}<extra></extra>",
         "lat": [
          47.4272
         ],
         "legendgroup": "hibbing",
         "lon": [
          -92.9377
         ],
         "marker": {
          "color": "#19d3f3",
          "size": [
           86
          ],
          "sizemode": "area",
          "sizeref": 2.0408163265306123,
          "symbol": "circle"
         },
         "mode": "markers",
         "name": "hibbing",
         "showlegend": true,
         "type": "scattergeo"
        },
        {
         "geo": "geo",
         "hovertemplate": "City=freeport<br>Humidity=%{marker.size}<br>Lat=%{lat}<br>Lng=%{lon}<extra></extra>",
         "lat": [
          40.6576
         ],
         "legendgroup": "freeport",
         "lon": [
          -73.5832
         ],
         "marker": {
          "color": "#FF6692",
          "size": [
           71
          ],
          "sizemode": "area",
          "sizeref": 2.0408163265306123,
          "symbol": "circle"
         },
         "mode": "markers",
         "name": "freeport",
         "showlegend": true,
         "type": "scattergeo"
        },
        {
         "geo": "geo",
         "hovertemplate": "City=mehamn<br>Humidity=%{marker.size}<br>Lat=%{lat}<br>Lng=%{lon}<extra></extra>",
         "lat": [
          71.0357
         ],
         "legendgroup": "mehamn",
         "lon": [
          27.8492
         ],
         "marker": {
          "color": "#B6E880",
          "size": [
           93
          ],
          "sizemode": "area",
          "sizeref": 2.0408163265306123,
          "symbol": "circle"
         },
         "mode": "markers",
         "name": "mehamn",
         "showlegend": true,
         "type": "scattergeo"
        },
        {
         "geo": "geo",
         "hovertemplate": "City=seymchan<br>Humidity=%{marker.size}<br>Lat=%{lat}<br>Lng=%{lon}<extra></extra>",
         "lat": [
          62.8833
         ],
         "legendgroup": "seymchan",
         "lon": [
          152.4333
         ],
         "marker": {
          "color": "#FF97FF",
          "size": [
           92
          ],
          "sizemode": "area",
          "sizeref": 2.0408163265306123,
          "symbol": "circle"
         },
         "mode": "markers",
         "name": "seymchan",
         "showlegend": true,
         "type": "scattergeo"
        },
        {
         "geo": "geo",
         "hovertemplate": "City=ayagoz<br>Humidity=%{marker.size}<br>Lat=%{lat}<br>Lng=%{lon}<extra></extra>",
         "lat": [
          47.9714
         ],
         "legendgroup": "ayagoz",
         "lon": [
          80.4392
         ],
         "marker": {
          "color": "#FECB52",
          "size": [
           90
          ],
          "sizemode": "area",
          "sizeref": 2.0408163265306123,
          "symbol": "circle"
         },
         "mode": "markers",
         "name": "ayagoz",
         "showlegend": true,
         "type": "scattergeo"
        },
        {
         "geo": "geo",
         "hovertemplate": "City=dunedin<br>Humidity=%{marker.size}<br>Lat=%{lat}<br>Lng=%{lon}<extra></extra>",
         "lat": [
          -45.8742
         ],
         "legendgroup": "dunedin",
         "lon": [
          170.5036
         ],
         "marker": {
          "color": "#636efa",
          "size": [
           59
          ],
          "sizemode": "area",
          "sizeref": 2.0408163265306123,
          "symbol": "circle"
         },
         "mode": "markers",
         "name": "dunedin",
         "showlegend": true,
         "type": "scattergeo"
        },
        {
         "geo": "geo",
         "hovertemplate": "City=anadyr<br>Humidity=%{marker.size}<br>Lat=%{lat}<br>Lng=%{lon}<extra></extra>",
         "lat": [
          64.75
         ],
         "legendgroup": "anadyr",
         "lon": [
          177.4833
         ],
         "marker": {
          "color": "#EF553B",
          "size": [
           59
          ],
          "sizemode": "area",
          "sizeref": 2.0408163265306123,
          "symbol": "circle"
         },
         "mode": "markers",
         "name": "anadyr",
         "showlegend": true,
         "type": "scattergeo"
        },
        {
         "geo": "geo",
         "hovertemplate": "City=kirakira<br>Humidity=%{marker.size}<br>Lat=%{lat}<br>Lng=%{lon}<extra></extra>",
         "lat": [
          -10.4544
         ],
         "legendgroup": "kirakira",
         "lon": [
          161.9205
         ],
         "marker": {
          "color": "#00cc96",
          "size": [
           94
          ],
          "sizemode": "area",
          "sizeref": 2.0408163265306123,
          "symbol": "circle"
         },
         "mode": "markers",
         "name": "kirakira",
         "showlegend": true,
         "type": "scattergeo"
        },
        {
         "geo": "geo",
         "hovertemplate": "City=pringsewu<br>Humidity=%{marker.size}<br>Lat=%{lat}<br>Lng=%{lon}<extra></extra>",
         "lat": [
          -5.3582
         ],
         "legendgroup": "pringsewu",
         "lon": [
          104.9744
         ],
         "marker": {
          "color": "#ab63fa",
          "size": [
           68
          ],
          "sizemode": "area",
          "sizeref": 2.0408163265306123,
          "symbol": "circle"
         },
         "mode": "markers",
         "name": "pringsewu",
         "showlegend": true,
         "type": "scattergeo"
        },
        {
         "geo": "geo",
         "hovertemplate": "City=ostrovnoy<br>Humidity=%{marker.size}<br>Lat=%{lat}<br>Lng=%{lon}<extra></extra>",
         "lat": [
          68.0531
         ],
         "legendgroup": "ostrovnoy",
         "lon": [
          39.5131
         ],
         "marker": {
          "color": "#FFA15A",
          "size": [
           91
          ],
          "sizemode": "area",
          "sizeref": 2.0408163265306123,
          "symbol": "circle"
         },
         "mode": "markers",
         "name": "ostrovnoy",
         "showlegend": true,
         "type": "scattergeo"
        },
        {
         "geo": "geo",
         "hovertemplate": "City=qaqortoq<br>Humidity=%{marker.size}<br>Lat=%{lat}<br>Lng=%{lon}<extra></extra>",
         "lat": [
          60.7167
         ],
         "legendgroup": "qaqortoq",
         "lon": [
          -46.0333
         ],
         "marker": {
          "color": "#19d3f3",
          "size": [
           96
          ],
          "sizemode": "area",
          "sizeref": 2.0408163265306123,
          "symbol": "circle"
         },
         "mode": "markers",
         "name": "qaqortoq",
         "showlegend": true,
         "type": "scattergeo"
        },
        {
         "geo": "geo",
         "hovertemplate": "City=myanaung<br>Humidity=%{marker.size}<br>Lat=%{lat}<br>Lng=%{lon}<extra></extra>",
         "lat": [
          18.2833
         ],
         "legendgroup": "myanaung",
         "lon": [
          95.3167
         ],
         "marker": {
          "color": "#FF6692",
          "size": [
           23
          ],
          "sizemode": "area",
          "sizeref": 2.0408163265306123,
          "symbol": "circle"
         },
         "mode": "markers",
         "name": "myanaung",
         "showlegend": true,
         "type": "scattergeo"
        },
        {
         "geo": "geo",
         "hovertemplate": "City=saravan<br>Humidity=%{marker.size}<br>Lat=%{lat}<br>Lng=%{lon}<extra></extra>",
         "lat": [
          39.7196
         ],
         "legendgroup": "saravan",
         "lon": [
          45.6483
         ],
         "marker": {
          "color": "#B6E880",
          "size": [
           44
          ],
          "sizemode": "area",
          "sizeref": 2.0408163265306123,
          "symbol": "circle"
         },
         "mode": "markers",
         "name": "saravan",
         "showlegend": true,
         "type": "scattergeo"
        },
        {
         "geo": "geo",
         "hovertemplate": "City=ngunguru<br>Humidity=%{marker.size}<br>Lat=%{lat}<br>Lng=%{lon}<extra></extra>",
         "lat": [
          -35.6167
         ],
         "legendgroup": "ngunguru",
         "lon": [
          174.5
         ],
         "marker": {
          "color": "#FF97FF",
          "size": [
           81
          ],
          "sizemode": "area",
          "sizeref": 2.0408163265306123,
          "symbol": "circle"
         },
         "mode": "markers",
         "name": "ngunguru",
         "showlegend": true,
         "type": "scattergeo"
        },
        {
         "geo": "geo",
         "hovertemplate": "City=tabou<br>Humidity=%{marker.size}<br>Lat=%{lat}<br>Lng=%{lon}<extra></extra>",
         "lat": [
          4.423
         ],
         "legendgroup": "tabou",
         "lon": [
          -7.3528
         ],
         "marker": {
          "color": "#FECB52",
          "size": [
           86
          ],
          "sizemode": "area",
          "sizeref": 2.0408163265306123,
          "symbol": "circle"
         },
         "mode": "markers",
         "name": "tabou",
         "showlegend": true,
         "type": "scattergeo"
        },
        {
         "geo": "geo",
         "hovertemplate": "City=half moon bay<br>Humidity=%{marker.size}<br>Lat=%{lat}<br>Lng=%{lon}<extra></extra>",
         "lat": [
          37.4636
         ],
         "legendgroup": "half moon bay",
         "lon": [
          -122.4286
         ],
         "marker": {
          "color": "#636efa",
          "size": [
           52
          ],
          "sizemode": "area",
          "sizeref": 2.0408163265306123,
          "symbol": "circle"
         },
         "mode": "markers",
         "name": "half moon bay",
         "showlegend": true,
         "type": "scattergeo"
        },
        {
         "geo": "geo",
         "hovertemplate": "City=betsiamites<br>Humidity=%{marker.size}<br>Lat=%{lat}<br>Lng=%{lon}<extra></extra>",
         "lat": [
          48.9413
         ],
         "legendgroup": "betsiamites",
         "lon": [
          -68.646
         ],
         "marker": {
          "color": "#EF553B",
          "size": [
           94
          ],
          "sizemode": "area",
          "sizeref": 2.0408163265306123,
          "symbol": "circle"
         },
         "mode": "markers",
         "name": "betsiamites",
         "showlegend": true,
         "type": "scattergeo"
        },
        {
         "geo": "geo",
         "hovertemplate": "City=balikpapan<br>Humidity=%{marker.size}<br>Lat=%{lat}<br>Lng=%{lon}<extra></extra>",
         "lat": [
          -1.2675
         ],
         "legendgroup": "balikpapan",
         "lon": [
          116.8289
         ],
         "marker": {
          "color": "#00cc96",
          "size": [
           74
          ],
          "sizemode": "area",
          "sizeref": 2.0408163265306123,
          "symbol": "circle"
         },
         "mode": "markers",
         "name": "balikpapan",
         "showlegend": true,
         "type": "scattergeo"
        },
        {
         "geo": "geo",
         "hovertemplate": "City=anaco<br>Humidity=%{marker.size}<br>Lat=%{lat}<br>Lng=%{lon}<extra></extra>",
         "lat": [
          9.4389
         ],
         "legendgroup": "anaco",
         "lon": [
          -64.4728
         ],
         "marker": {
          "color": "#ab63fa",
          "size": [
           73
          ],
          "sizemode": "area",
          "sizeref": 2.0408163265306123,
          "symbol": "circle"
         },
         "mode": "markers",
         "name": "anaco",
         "showlegend": true,
         "type": "scattergeo"
        },
        {
         "geo": "geo",
         "hovertemplate": "City=verkhoyansk<br>Humidity=%{marker.size}<br>Lat=%{lat}<br>Lng=%{lon}<extra></extra>",
         "lat": [
          67.5447
         ],
         "legendgroup": "verkhoyansk",
         "lon": [
          133.385
         ],
         "marker": {
          "color": "#FFA15A",
          "size": [
           95
          ],
          "sizemode": "area",
          "sizeref": 2.0408163265306123,
          "symbol": "circle"
         },
         "mode": "markers",
         "name": "verkhoyansk",
         "showlegend": true,
         "type": "scattergeo"
        },
        {
         "geo": "geo",
         "hovertemplate": "City=sur<br>Humidity=%{marker.size}<br>Lat=%{lat}<br>Lng=%{lon}<extra></extra>",
         "lat": [
          22.5667
         ],
         "legendgroup": "sur",
         "lon": [
          59.5289
         ],
         "marker": {
          "color": "#19d3f3",
          "size": [
           43
          ],
          "sizemode": "area",
          "sizeref": 2.0408163265306123,
          "symbol": "circle"
         },
         "mode": "markers",
         "name": "sur",
         "showlegend": true,
         "type": "scattergeo"
        },
        {
         "geo": "geo",
         "hovertemplate": "City=ust-omchug<br>Humidity=%{marker.size}<br>Lat=%{lat}<br>Lng=%{lon}<extra></extra>",
         "lat": [
          61.15
         ],
         "legendgroup": "ust-omchug",
         "lon": [
          149.6333
         ],
         "marker": {
          "color": "#FF6692",
          "size": [
           93
          ],
          "sizemode": "area",
          "sizeref": 2.0408163265306123,
          "symbol": "circle"
         },
         "mode": "markers",
         "name": "ust-omchug",
         "showlegend": true,
         "type": "scattergeo"
        },
        {
         "geo": "geo",
         "hovertemplate": "City=qandala<br>Humidity=%{marker.size}<br>Lat=%{lat}<br>Lng=%{lon}<extra></extra>",
         "lat": [
          11.472000000000001
         ],
         "legendgroup": "qandala",
         "lon": [
          49.8728
         ],
         "marker": {
          "color": "#B6E880",
          "size": [
           71
          ],
          "sizemode": "area",
          "sizeref": 2.0408163265306123,
          "symbol": "circle"
         },
         "mode": "markers",
         "name": "qandala",
         "showlegend": true,
         "type": "scattergeo"
        },
        {
         "geo": "geo",
         "hovertemplate": "City=xining<br>Humidity=%{marker.size}<br>Lat=%{lat}<br>Lng=%{lon}<extra></extra>",
         "lat": [
          36.6167
         ],
         "legendgroup": "xining",
         "lon": [
          101.7667
         ],
         "marker": {
          "color": "#FF97FF",
          "size": [
           16
          ],
          "sizemode": "area",
          "sizeref": 2.0408163265306123,
          "symbol": "circle"
         },
         "mode": "markers",
         "name": "xining",
         "showlegend": true,
         "type": "scattergeo"
        },
        {
         "geo": "geo",
         "hovertemplate": "City=monaghan<br>Humidity=%{marker.size}<br>Lat=%{lat}<br>Lng=%{lon}<extra></extra>",
         "lat": [
          54.25
         ],
         "legendgroup": "monaghan",
         "lon": [
          -6.9667
         ],
         "marker": {
          "color": "#FECB52",
          "size": [
           95
          ],
          "sizemode": "area",
          "sizeref": 2.0408163265306123,
          "symbol": "circle"
         },
         "mode": "markers",
         "name": "monaghan",
         "showlegend": true,
         "type": "scattergeo"
        },
        {
         "geo": "geo",
         "hovertemplate": "City=talnakh<br>Humidity=%{marker.size}<br>Lat=%{lat}<br>Lng=%{lon}<extra></extra>",
         "lat": [
          69.4865
         ],
         "legendgroup": "talnakh",
         "lon": [
          88.3972
         ],
         "marker": {
          "color": "#636efa",
          "size": [
           94
          ],
          "sizemode": "area",
          "sizeref": 2.0408163265306123,
          "symbol": "circle"
         },
         "mode": "markers",
         "name": "talnakh",
         "showlegend": true,
         "type": "scattergeo"
        },
        {
         "geo": "geo",
         "hovertemplate": "City=ambilobe<br>Humidity=%{marker.size}<br>Lat=%{lat}<br>Lng=%{lon}<extra></extra>",
         "lat": [
          -13.2
         ],
         "legendgroup": "ambilobe",
         "lon": [
          49.05
         ],
         "marker": {
          "color": "#EF553B",
          "size": [
           92
          ],
          "sizemode": "area",
          "sizeref": 2.0408163265306123,
          "symbol": "circle"
         },
         "mode": "markers",
         "name": "ambilobe",
         "showlegend": true,
         "type": "scattergeo"
        },
        {
         "geo": "geo",
         "hovertemplate": "City=alofi<br>Humidity=%{marker.size}<br>Lat=%{lat}<br>Lng=%{lon}<extra></extra>",
         "lat": [
          -19.0595
         ],
         "legendgroup": "alofi",
         "lon": [
          -169.9187
         ],
         "marker": {
          "color": "#00cc96",
          "size": [
           83
          ],
          "sizemode": "area",
          "sizeref": 2.0408163265306123,
          "symbol": "circle"
         },
         "mode": "markers",
         "name": "alofi",
         "showlegend": true,
         "type": "scattergeo"
        },
        {
         "geo": "geo",
         "hovertemplate": "City=aswan<br>Humidity=%{marker.size}<br>Lat=%{lat}<br>Lng=%{lon}<extra></extra>",
         "lat": [
          24.0934
         ],
         "legendgroup": "aswan",
         "lon": [
          32.907
         ],
         "marker": {
          "color": "#ab63fa",
          "size": [
           30
          ],
          "sizemode": "area",
          "sizeref": 2.0408163265306123,
          "symbol": "circle"
         },
         "mode": "markers",
         "name": "aswan",
         "showlegend": true,
         "type": "scattergeo"
        },
        {
         "geo": "geo",
         "hovertemplate": "City=karratha<br>Humidity=%{marker.size}<br>Lat=%{lat}<br>Lng=%{lon}<extra></extra>",
         "lat": [
          -20.7377
         ],
         "legendgroup": "karratha",
         "lon": [
          116.8463
         ],
         "marker": {
          "color": "#FFA15A",
          "size": [
           51
          ],
          "sizemode": "area",
          "sizeref": 2.0408163265306123,
          "symbol": "circle"
         },
         "mode": "markers",
         "name": "karratha",
         "showlegend": true,
         "type": "scattergeo"
        },
        {
         "geo": "geo",
         "hovertemplate": "City=boa vista<br>Humidity=%{marker.size}<br>Lat=%{lat}<br>Lng=%{lon}<extra></extra>",
         "lat": [
          2.8197
         ],
         "legendgroup": "boa vista",
         "lon": [
          -60.6733
         ],
         "marker": {
          "color": "#19d3f3",
          "size": [
           73
          ],
          "sizemode": "area",
          "sizeref": 2.0408163265306123,
          "symbol": "circle"
         },
         "mode": "markers",
         "name": "boa vista",
         "showlegend": true,
         "type": "scattergeo"
        },
        {
         "geo": "geo",
         "hovertemplate": "City=quatre cocos<br>Humidity=%{marker.size}<br>Lat=%{lat}<br>Lng=%{lon}<extra></extra>",
         "lat": [
          -20.2078
         ],
         "legendgroup": "quatre cocos",
         "lon": [
          57.7625
         ],
         "marker": {
          "color": "#FF6692",
          "size": [
           80
          ],
          "sizemode": "area",
          "sizeref": 2.0408163265306123,
          "symbol": "circle"
         },
         "mode": "markers",
         "name": "quatre cocos",
         "showlegend": true,
         "type": "scattergeo"
        },
        {
         "geo": "geo",
         "hovertemplate": "City=port blair<br>Humidity=%{marker.size}<br>Lat=%{lat}<br>Lng=%{lon}<extra></extra>",
         "lat": [
          11.6667
         ],
         "legendgroup": "port blair",
         "lon": [
          92.75
         ],
         "marker": {
          "color": "#B6E880",
          "size": [
           65
          ],
          "sizemode": "area",
          "sizeref": 2.0408163265306123,
          "symbol": "circle"
         },
         "mode": "markers",
         "name": "port blair",
         "showlegend": true,
         "type": "scattergeo"
        },
        {
         "geo": "geo",
         "hovertemplate": "City=imeni poliny osipenko<br>Humidity=%{marker.size}<br>Lat=%{lat}<br>Lng=%{lon}<extra></extra>",
         "lat": [
          52.4201
         ],
         "legendgroup": "imeni poliny osipenko",
         "lon": [
          136.4853
         ],
         "marker": {
          "color": "#FF97FF",
          "size": [
           85
          ],
          "sizemode": "area",
          "sizeref": 2.0408163265306123,
          "symbol": "circle"
         },
         "mode": "markers",
         "name": "imeni poliny osipenko",
         "showlegend": true,
         "type": "scattergeo"
        },
        {
         "geo": "geo",
         "hovertemplate": "City=newport<br>Humidity=%{marker.size}<br>Lat=%{lat}<br>Lng=%{lon}<extra></extra>",
         "lat": [
          51.5877
         ],
         "legendgroup": "newport",
         "lon": [
          -2.9984
         ],
         "marker": {
          "color": "#FECB52",
          "size": [
           90
          ],
          "sizemode": "area",
          "sizeref": 2.0408163265306123,
          "symbol": "circle"
         },
         "mode": "markers",
         "name": "newport",
         "showlegend": true,
         "type": "scattergeo"
        },
        {
         "geo": "geo",
         "hovertemplate": "City=presidencia roque saenz pena<br>Humidity=%{marker.size}<br>Lat=%{lat}<br>Lng=%{lon}<extra></extra>",
         "lat": [
          -26.7852
         ],
         "legendgroup": "presidencia roque saenz pena",
         "lon": [
          -60.4388
         ],
         "marker": {
          "color": "#636efa",
          "size": [
           43
          ],
          "sizemode": "area",
          "sizeref": 2.0408163265306123,
          "symbol": "circle"
         },
         "mode": "markers",
         "name": "presidencia roque saenz pena",
         "showlegend": true,
         "type": "scattergeo"
        },
        {
         "geo": "geo",
         "hovertemplate": "City=chiredzi<br>Humidity=%{marker.size}<br>Lat=%{lat}<br>Lng=%{lon}<extra></extra>",
         "lat": [
          -21.05
         ],
         "legendgroup": "chiredzi",
         "lon": [
          31.6667
         ],
         "marker": {
          "color": "#EF553B",
          "size": [
           90
          ],
          "sizemode": "area",
          "sizeref": 2.0408163265306123,
          "symbol": "circle"
         },
         "mode": "markers",
         "name": "chiredzi",
         "showlegend": true,
         "type": "scattergeo"
        },
        {
         "geo": "geo",
         "hovertemplate": "City=agadez<br>Humidity=%{marker.size}<br>Lat=%{lat}<br>Lng=%{lon}<extra></extra>",
         "lat": [
          19.75
         ],
         "legendgroup": "agadez",
         "lon": [
          10.25
         ],
         "marker": {
          "color": "#00cc96",
          "size": [
           16
          ],
          "sizemode": "area",
          "sizeref": 2.0408163265306123,
          "symbol": "circle"
         },
         "mode": "markers",
         "name": "agadez",
         "showlegend": true,
         "type": "scattergeo"
        },
        {
         "geo": "geo",
         "hovertemplate": "City=torbay<br>Humidity=%{marker.size}<br>Lat=%{lat}<br>Lng=%{lon}<extra></extra>",
         "lat": [
          47.6666
         ],
         "legendgroup": "torbay",
         "lon": [
          -52.7314
         ],
         "marker": {
          "color": "#ab63fa",
          "size": [
           96
          ],
          "sizemode": "area",
          "sizeref": 2.0408163265306123,
          "symbol": "circle"
         },
         "mode": "markers",
         "name": "torbay",
         "showlegend": true,
         "type": "scattergeo"
        },
        {
         "geo": "geo",
         "hovertemplate": "City=kincardine<br>Humidity=%{marker.size}<br>Lat=%{lat}<br>Lng=%{lon}<extra></extra>",
         "lat": [
          56.0667
         ],
         "legendgroup": "kincardine",
         "lon": [
          -3.7167
         ],
         "marker": {
          "color": "#FFA15A",
          "size": [
           93
          ],
          "sizemode": "area",
          "sizeref": 2.0408163265306123,
          "symbol": "circle"
         },
         "mode": "markers",
         "name": "kincardine",
         "showlegend": true,
         "type": "scattergeo"
        },
        {
         "geo": "geo",
         "hovertemplate": "City=wamba<br>Humidity=%{marker.size}<br>Lat=%{lat}<br>Lng=%{lon}<extra></extra>",
         "lat": [
          8.9333
         ],
         "legendgroup": "wamba",
         "lon": [
          8.6
         ],
         "marker": {
          "color": "#19d3f3",
          "size": [
           20
          ],
          "sizemode": "area",
          "sizeref": 2.0408163265306123,
          "symbol": "circle"
         },
         "mode": "markers",
         "name": "wamba",
         "showlegend": true,
         "type": "scattergeo"
        },
        {
         "geo": "geo",
         "hovertemplate": "City=vega de alatorre<br>Humidity=%{marker.size}<br>Lat=%{lat}<br>Lng=%{lon}<extra></extra>",
         "lat": [
          20.0333
         ],
         "legendgroup": "vega de alatorre",
         "lon": [
          -96.6333
         ],
         "marker": {
          "color": "#FF6692",
          "size": [
           89
          ],
          "sizemode": "area",
          "sizeref": 2.0408163265306123,
          "symbol": "circle"
         },
         "mode": "markers",
         "name": "vega de alatorre",
         "showlegend": true,
         "type": "scattergeo"
        },
        {
         "geo": "geo",
         "hovertemplate": "City=puteyets<br>Humidity=%{marker.size}<br>Lat=%{lat}<br>Lng=%{lon}<extra></extra>",
         "lat": [
          65.1716
         ],
         "legendgroup": "puteyets",
         "lon": [
          57.091
         ],
         "marker": {
          "color": "#B6E880",
          "size": [
           90
          ],
          "sizemode": "area",
          "sizeref": 2.0408163265306123,
          "symbol": "circle"
         },
         "mode": "markers",
         "name": "puteyets",
         "showlegend": true,
         "type": "scattergeo"
        },
        {
         "geo": "geo",
         "hovertemplate": "City=ullapool<br>Humidity=%{marker.size}<br>Lat=%{lat}<br>Lng=%{lon}<extra></extra>",
         "lat": [
          57.8987
         ],
         "legendgroup": "ullapool",
         "lon": [
          -5.1604
         ],
         "marker": {
          "color": "#FF97FF",
          "size": [
           98
          ],
          "sizemode": "area",
          "sizeref": 2.0408163265306123,
          "symbol": "circle"
         },
         "mode": "markers",
         "name": "ullapool",
         "showlegend": true,
         "type": "scattergeo"
        },
        {
         "geo": "geo",
         "hovertemplate": "City=salalah<br>Humidity=%{marker.size}<br>Lat=%{lat}<br>Lng=%{lon}<extra></extra>",
         "lat": [
          17.0151
         ],
         "legendgroup": "salalah",
         "lon": [
          54.0924
         ],
         "marker": {
          "color": "#FECB52",
          "size": [
           68
          ],
          "sizemode": "area",
          "sizeref": 2.0408163265306123,
          "symbol": "circle"
         },
         "mode": "markers",
         "name": "salalah",
         "showlegend": true,
         "type": "scattergeo"
        },
        {
         "geo": "geo",
         "hovertemplate": "City=twentynine palms<br>Humidity=%{marker.size}<br>Lat=%{lat}<br>Lng=%{lon}<extra></extra>",
         "lat": [
          34.1356
         ],
         "legendgroup": "twentynine palms",
         "lon": [
          -116.0542
         ],
         "marker": {
          "color": "#636efa",
          "size": [
           34
          ],
          "sizemode": "area",
          "sizeref": 2.0408163265306123,
          "symbol": "circle"
         },
         "mode": "markers",
         "name": "twentynine palms",
         "showlegend": true,
         "type": "scattergeo"
        },
        {
         "geo": "geo",
         "hovertemplate": "City=tara<br>Humidity=%{marker.size}<br>Lat=%{lat}<br>Lng=%{lon}<extra></extra>",
         "lat": [
          56.8944
         ],
         "legendgroup": "tara",
         "lon": [
          74.37100000000001
         ],
         "marker": {
          "color": "#EF553B",
          "size": [
           98
          ],
          "sizemode": "area",
          "sizeref": 2.0408163265306123,
          "symbol": "circle"
         },
         "mode": "markers",
         "name": "tara",
         "showlegend": true,
         "type": "scattergeo"
        },
        {
         "geo": "geo",
         "hovertemplate": "City=makaha<br>Humidity=%{marker.size}<br>Lat=%{lat}<br>Lng=%{lon}<extra></extra>",
         "lat": [
          21.4694
         ],
         "legendgroup": "makaha",
         "lon": [
          -158.2175
         ],
         "marker": {
          "color": "#00cc96",
          "size": [
           69
          ],
          "sizemode": "area",
          "sizeref": 2.0408163265306123,
          "symbol": "circle"
         },
         "mode": "markers",
         "name": "makaha",
         "showlegend": true,
         "type": "scattergeo"
        },
        {
         "geo": "geo",
         "hovertemplate": "City=onda<br>Humidity=%{marker.size}<br>Lat=%{lat}<br>Lng=%{lon}<extra></extra>",
         "lat": [
          39.9667
         ],
         "legendgroup": "onda",
         "lon": [
          -0.25
         ],
         "marker": {
          "color": "#ab63fa",
          "size": [
           61
          ],
          "sizemode": "area",
          "sizeref": 2.0408163265306123,
          "symbol": "circle"
         },
         "mode": "markers",
         "name": "onda",
         "showlegend": true,
         "type": "scattergeo"
        },
        {
         "geo": "geo",
         "hovertemplate": "City=adrar<br>Humidity=%{marker.size}<br>Lat=%{lat}<br>Lng=%{lon}<extra></extra>",
         "lat": [
          20.5022
         ],
         "legendgroup": "adrar",
         "lon": [
          -10.0711
         ],
         "marker": {
          "color": "#FFA15A",
          "size": [
           17
          ],
          "sizemode": "area",
          "sizeref": 2.0408163265306123,
          "symbol": "circle"
         },
         "mode": "markers",
         "name": "adrar",
         "showlegend": true,
         "type": "scattergeo"
        },
        {
         "geo": "geo",
         "hovertemplate": "City=makakilo city<br>Humidity=%{marker.size}<br>Lat=%{lat}<br>Lng=%{lon}<extra></extra>",
         "lat": [
          21.3469
         ],
         "legendgroup": "makakilo city",
         "lon": [
          -158.0858
         ],
         "marker": {
          "color": "#19d3f3",
          "size": [
           63
          ],
          "sizemode": "area",
          "sizeref": 2.0408163265306123,
          "symbol": "circle"
         },
         "mode": "markers",
         "name": "makakilo city",
         "showlegend": true,
         "type": "scattergeo"
        },
        {
         "geo": "geo",
         "hovertemplate": "City=phonhong<br>Humidity=%{marker.size}<br>Lat=%{lat}<br>Lng=%{lon}<extra></extra>",
         "lat": [
          18.5007
         ],
         "legendgroup": "phonhong",
         "lon": [
          102.4166
         ],
         "marker": {
          "color": "#FF6692",
          "size": [
           43
          ],
          "sizemode": "area",
          "sizeref": 2.0408163265306123,
          "symbol": "circle"
         },
         "mode": "markers",
         "name": "phonhong",
         "showlegend": true,
         "type": "scattergeo"
        },
        {
         "geo": "geo",
         "hovertemplate": "City=paraiso<br>Humidity=%{marker.size}<br>Lat=%{lat}<br>Lng=%{lon}<extra></extra>",
         "lat": [
          9.8383
         ],
         "legendgroup": "paraiso",
         "lon": [
          -83.8656
         ],
         "marker": {
          "color": "#B6E880",
          "size": [
           89
          ],
          "sizemode": "area",
          "sizeref": 2.0408163265306123,
          "symbol": "circle"
         },
         "mode": "markers",
         "name": "paraiso",
         "showlegend": true,
         "type": "scattergeo"
        },
        {
         "geo": "geo",
         "hovertemplate": "City=korla<br>Humidity=%{marker.size}<br>Lat=%{lat}<br>Lng=%{lon}<extra></extra>",
         "lat": [
          41.7597
         ],
         "legendgroup": "korla",
         "lon": [
          86.1469
         ],
         "marker": {
          "color": "#FF97FF",
          "size": [
           73
          ],
          "sizemode": "area",
          "sizeref": 2.0408163265306123,
          "symbol": "circle"
         },
         "mode": "markers",
         "name": "korla",
         "showlegend": true,
         "type": "scattergeo"
        },
        {
         "geo": "geo",
         "hovertemplate": "City=santiago de chuco<br>Humidity=%{marker.size}<br>Lat=%{lat}<br>Lng=%{lon}<extra></extra>",
         "lat": [
          -8.15
         ],
         "legendgroup": "santiago de chuco",
         "lon": [
          -78.1833
         ],
         "marker": {
          "color": "#FECB52",
          "size": [
           87
          ],
          "sizemode": "area",
          "sizeref": 2.0408163265306123,
          "symbol": "circle"
         },
         "mode": "markers",
         "name": "santiago de chuco",
         "showlegend": true,
         "type": "scattergeo"
        },
        {
         "geo": "geo",
         "hovertemplate": "City=chimichagua<br>Humidity=%{marker.size}<br>Lat=%{lat}<br>Lng=%{lon}<extra></extra>",
         "lat": [
          9.2578
         ],
         "legendgroup": "chimichagua",
         "lon": [
          -73.8123
         ],
         "marker": {
          "color": "#636efa",
          "size": [
           67
          ],
          "sizemode": "area",
          "sizeref": 2.0408163265306123,
          "symbol": "circle"
         },
         "mode": "markers",
         "name": "chimichagua",
         "showlegend": true,
         "type": "scattergeo"
        },
        {
         "geo": "geo",
         "hovertemplate": "City=skelleftea<br>Humidity=%{marker.size}<br>Lat=%{lat}<br>Lng=%{lon}<extra></extra>",
         "lat": [
          64.7507
         ],
         "legendgroup": "skelleftea",
         "lon": [
          20.9528
         ],
         "marker": {
          "color": "#EF553B",
          "size": [
           100
          ],
          "sizemode": "area",
          "sizeref": 2.0408163265306123,
          "symbol": "circle"
         },
         "mode": "markers",
         "name": "skelleftea",
         "showlegend": true,
         "type": "scattergeo"
        },
        {
         "geo": "geo",
         "hovertemplate": "City=maniitsoq<br>Humidity=%{marker.size}<br>Lat=%{lat}<br>Lng=%{lon}<extra></extra>",
         "lat": [
          65.4167
         ],
         "legendgroup": "maniitsoq",
         "lon": [
          -52.9
         ],
         "marker": {
          "color": "#00cc96",
          "size": [
           94
          ],
          "sizemode": "area",
          "sizeref": 2.0408163265306123,
          "symbol": "circle"
         },
         "mode": "markers",
         "name": "maniitsoq",
         "showlegend": true,
         "type": "scattergeo"
        },
        {
         "geo": "geo",
         "hovertemplate": "City=kushima<br>Humidity=%{marker.size}<br>Lat=%{lat}<br>Lng=%{lon}<extra></extra>",
         "lat": [
          31.4583
         ],
         "legendgroup": "kushima",
         "lon": [
          131.2333
         ],
         "marker": {
          "color": "#ab63fa",
          "size": [
           61
          ],
          "sizemode": "area",
          "sizeref": 2.0408163265306123,
          "symbol": "circle"
         },
         "mode": "markers",
         "name": "kushima",
         "showlegend": true,
         "type": "scattergeo"
        },
        {
         "geo": "geo",
         "hovertemplate": "City=bonavista<br>Humidity=%{marker.size}<br>Lat=%{lat}<br>Lng=%{lon}<extra></extra>",
         "lat": [
          48.6499
         ],
         "legendgroup": "bonavista",
         "lon": [
          -53.1147
         ],
         "marker": {
          "color": "#FFA15A",
          "size": [
           98
          ],
          "sizemode": "area",
          "sizeref": 2.0408163265306123,
          "symbol": "circle"
         },
         "mode": "markers",
         "name": "bonavista",
         "showlegend": true,
         "type": "scattergeo"
        },
        {
         "geo": "geo",
         "hovertemplate": "City=faya<br>Humidity=%{marker.size}<br>Lat=%{lat}<br>Lng=%{lon}<extra></extra>",
         "lat": [
          18.3851
         ],
         "legendgroup": "faya",
         "lon": [
          42.4509
         ],
         "marker": {
          "color": "#19d3f3",
          "size": [
           83
          ],
          "sizemode": "area",
          "sizeref": 2.0408163265306123,
          "symbol": "circle"
         },
         "mode": "markers",
         "name": "faya",
         "showlegend": true,
         "type": "scattergeo"
        },
        {
         "geo": "geo",
         "hovertemplate": "City=dogondoutchi<br>Humidity=%{marker.size}<br>Lat=%{lat}<br>Lng=%{lon}<extra></extra>",
         "lat": [
          13.6393
         ],
         "legendgroup": "dogondoutchi",
         "lon": [
          4.0287
         ],
         "marker": {
          "color": "#FF6692",
          "size": [
           16
          ],
          "sizemode": "area",
          "sizeref": 2.0408163265306123,
          "symbol": "circle"
         },
         "mode": "markers",
         "name": "dogondoutchi",
         "showlegend": true,
         "type": "scattergeo"
        },
        {
         "geo": "geo",
         "hovertemplate": "City=husavik<br>Humidity=%{marker.size}<br>Lat=%{lat}<br>Lng=%{lon}<extra></extra>",
         "lat": [
          66.0449
         ],
         "legendgroup": "husavik",
         "lon": [
          -17.3389
         ],
         "marker": {
          "color": "#B6E880",
          "size": [
           67
          ],
          "sizemode": "area",
          "sizeref": 2.0408163265306123,
          "symbol": "circle"
         },
         "mode": "markers",
         "name": "husavik",
         "showlegend": true,
         "type": "scattergeo"
        },
        {
         "geo": "geo",
         "hovertemplate": "City=coihaique<br>Humidity=%{marker.size}<br>Lat=%{lat}<br>Lng=%{lon}<extra></extra>",
         "lat": [
          -45.5752
         ],
         "legendgroup": "coihaique",
         "lon": [
          -72.0662
         ],
         "marker": {
          "color": "#FF97FF",
          "size": [
           57
          ],
          "sizemode": "area",
          "sizeref": 2.0408163265306123,
          "symbol": "circle"
         },
         "mode": "markers",
         "name": "coihaique",
         "showlegend": true,
         "type": "scattergeo"
        },
        {
         "geo": "geo",
         "hovertemplate": "City=phangnga<br>Humidity=%{marker.size}<br>Lat=%{lat}<br>Lng=%{lon}<extra></extra>",
         "lat": [
          8.4509
         ],
         "legendgroup": "phangnga",
         "lon": [
          98.5298
         ],
         "marker": {
          "color": "#FECB52",
          "size": [
           53
          ],
          "sizemode": "area",
          "sizeref": 2.0408163265306123,
          "symbol": "circle"
         },
         "mode": "markers",
         "name": "phangnga",
         "showlegend": true,
         "type": "scattergeo"
        },
        {
         "geo": "geo",
         "hovertemplate": "City=aklavik<br>Humidity=%{marker.size}<br>Lat=%{lat}<br>Lng=%{lon}<extra></extra>",
         "lat": [
          68.2191
         ],
         "legendgroup": "aklavik",
         "lon": [
          -135.0107
         ],
         "marker": {
          "color": "#636efa",
          "size": [
           98
          ],
          "sizemode": "area",
          "sizeref": 2.0408163265306123,
          "symbol": "circle"
         },
         "mode": "markers",
         "name": "aklavik",
         "showlegend": true,
         "type": "scattergeo"
        },
        {
         "geo": "geo",
         "hovertemplate": "City=asosa<br>Humidity=%{marker.size}<br>Lat=%{lat}<br>Lng=%{lon}<extra></extra>",
         "lat": [
          10.0667
         ],
         "legendgroup": "asosa",
         "lon": [
          34.5333
         ],
         "marker": {
          "color": "#EF553B",
          "size": [
           36
          ],
          "sizemode": "area",
          "sizeref": 2.0408163265306123,
          "symbol": "circle"
         },
         "mode": "markers",
         "name": "asosa",
         "showlegend": true,
         "type": "scattergeo"
        },
        {
         "geo": "geo",
         "hovertemplate": "City=watrous<br>Humidity=%{marker.size}<br>Lat=%{lat}<br>Lng=%{lon}<extra></extra>",
         "lat": [
          51.6668
         ],
         "legendgroup": "watrous",
         "lon": [
          -105.4679
         ],
         "marker": {
          "color": "#00cc96",
          "size": [
           86
          ],
          "sizemode": "area",
          "sizeref": 2.0408163265306123,
          "symbol": "circle"
         },
         "mode": "markers",
         "name": "watrous",
         "showlegend": true,
         "type": "scattergeo"
        },
        {
         "geo": "geo",
         "hovertemplate": "City=manger<br>Humidity=%{marker.size}<br>Lat=%{lat}<br>Lng=%{lon}<extra></extra>",
         "lat": [
          60.6414
         ],
         "legendgroup": "manger",
         "lon": [
          5.0414
         ],
         "marker": {
          "color": "#ab63fa",
          "size": [
           1
          ],
          "sizemode": "area",
          "sizeref": 2.0408163265306123,
          "symbol": "circle"
         },
         "mode": "markers",
         "name": "manger",
         "showlegend": true,
         "type": "scattergeo"
        },
        {
         "geo": "geo",
         "hovertemplate": "City=broome<br>Humidity=%{marker.size}<br>Lat=%{lat}<br>Lng=%{lon}<extra></extra>",
         "lat": [
          42.2506
         ],
         "legendgroup": "broome",
         "lon": [
          -75.833
         ],
         "marker": {
          "color": "#FFA15A",
          "size": [
           84
          ],
          "sizemode": "area",
          "sizeref": 2.0408163265306123,
          "symbol": "circle"
         },
         "mode": "markers",
         "name": "broome",
         "showlegend": true,
         "type": "scattergeo"
        },
        {
         "geo": "geo",
         "hovertemplate": "City=pisco<br>Humidity=%{marker.size}<br>Lat=%{lat}<br>Lng=%{lon}<extra></extra>",
         "lat": [
          -13.7
         ],
         "legendgroup": "pisco",
         "lon": [
          -76.2167
         ],
         "marker": {
          "color": "#19d3f3",
          "size": [
           78
          ],
          "sizemode": "area",
          "sizeref": 2.0408163265306123,
          "symbol": "circle"
         },
         "mode": "markers",
         "name": "pisco",
         "showlegend": true,
         "type": "scattergeo"
        },
        {
         "geo": "geo",
         "hovertemplate": "City=jussara<br>Humidity=%{marker.size}<br>Lat=%{lat}<br>Lng=%{lon}<extra></extra>",
         "lat": [
          -23.6214
         ],
         "legendgroup": "jussara",
         "lon": [
          -52.4694
         ],
         "marker": {
          "color": "#FF6692",
          "size": [
           80
          ],
          "sizemode": "area",
          "sizeref": 2.0408163265306123,
          "symbol": "circle"
         },
         "mode": "markers",
         "name": "jussara",
         "showlegend": true,
         "type": "scattergeo"
        },
        {
         "geo": "geo",
         "hovertemplate": "City=oksfjord<br>Humidity=%{marker.size}<br>Lat=%{lat}<br>Lng=%{lon}<extra></extra>",
         "lat": [
          70.2396
         ],
         "legendgroup": "oksfjord",
         "lon": [
          22.3479
         ],
         "marker": {
          "color": "#B6E880",
          "size": [
           84
          ],
          "sizemode": "area",
          "sizeref": 2.0408163265306123,
          "symbol": "circle"
         },
         "mode": "markers",
         "name": "oksfjord",
         "showlegend": true,
         "type": "scattergeo"
        },
        {
         "geo": "geo",
         "hovertemplate": "City=kamenka<br>Humidity=%{marker.size}<br>Lat=%{lat}<br>Lng=%{lon}<extra></extra>",
         "lat": [
          51.3223
         ],
         "legendgroup": "kamenka",
         "lon": [
          42.7678
         ],
         "marker": {
          "color": "#FF97FF",
          "size": [
           81
          ],
          "sizemode": "area",
          "sizeref": 2.0408163265306123,
          "symbol": "circle"
         },
         "mode": "markers",
         "name": "kamenka",
         "showlegend": true,
         "type": "scattergeo"
        },
        {
         "geo": "geo",
         "hovertemplate": "City=cayenne<br>Humidity=%{marker.size}<br>Lat=%{lat}<br>Lng=%{lon}<extra></extra>",
         "lat": [
          4.9333
         ],
         "legendgroup": "cayenne",
         "lon": [
          -52.3333
         ],
         "marker": {
          "color": "#FECB52",
          "size": [
           83
          ],
          "sizemode": "area",
          "sizeref": 2.0408163265306123,
          "symbol": "circle"
         },
         "mode": "markers",
         "name": "cayenne",
         "showlegend": true,
         "type": "scattergeo"
        },
        {
         "geo": "geo",
         "hovertemplate": "City=port augusta<br>Humidity=%{marker.size}<br>Lat=%{lat}<br>Lng=%{lon}<extra></extra>",
         "lat": [
          -32.5
         ],
         "legendgroup": "port augusta",
         "lon": [
          137.7667
         ],
         "marker": {
          "color": "#636efa",
          "size": [
           31
          ],
          "sizemode": "area",
          "sizeref": 2.0408163265306123,
          "symbol": "circle"
         },
         "mode": "markers",
         "name": "port augusta",
         "showlegend": true,
         "type": "scattergeo"
        },
        {
         "geo": "geo",
         "hovertemplate": "City=ribeira grande<br>Humidity=%{marker.size}<br>Lat=%{lat}<br>Lng=%{lon}<extra></extra>",
         "lat": [
          38.5167
         ],
         "legendgroup": "ribeira grande",
         "lon": [
          -28.7
         ],
         "marker": {
          "color": "#EF553B",
          "size": [
           74
          ],
          "sizemode": "area",
          "sizeref": 2.0408163265306123,
          "symbol": "circle"
         },
         "mode": "markers",
         "name": "ribeira grande",
         "showlegend": true,
         "type": "scattergeo"
        },
        {
         "geo": "geo",
         "hovertemplate": "City=lebanon<br>Humidity=%{marker.size}<br>Lat=%{lat}<br>Lng=%{lon}<extra></extra>",
         "lat": [
          36.2081
         ],
         "legendgroup": "lebanon",
         "lon": [
          -86.2911
         ],
         "marker": {
          "color": "#00cc96",
          "size": [
           92
          ],
          "sizemode": "area",
          "sizeref": 2.0408163265306123,
          "symbol": "circle"
         },
         "mode": "markers",
         "name": "lebanon",
         "showlegend": true,
         "type": "scattergeo"
        },
        {
         "geo": "geo",
         "hovertemplate": "City=rocha<br>Humidity=%{marker.size}<br>Lat=%{lat}<br>Lng=%{lon}<extra></extra>",
         "lat": [
          -34.4833
         ],
         "legendgroup": "rocha",
         "lon": [
          -54.3333
         ],
         "marker": {
          "color": "#ab63fa",
          "size": [
           82
          ],
          "sizemode": "area",
          "sizeref": 2.0408163265306123,
          "symbol": "circle"
         },
         "mode": "markers",
         "name": "rocha",
         "showlegend": true,
         "type": "scattergeo"
        },
        {
         "geo": "geo",
         "hovertemplate": "City=chuchkovo<br>Humidity=%{marker.size}<br>Lat=%{lat}<br>Lng=%{lon}<extra></extra>",
         "lat": [
          54.2693
         ],
         "legendgroup": "chuchkovo",
         "lon": [
          41.4465
         ],
         "marker": {
          "color": "#FFA15A",
          "size": [
           90
          ],
          "sizemode": "area",
          "sizeref": 2.0408163265306123,
          "symbol": "circle"
         },
         "mode": "markers",
         "name": "chuchkovo",
         "showlegend": true,
         "type": "scattergeo"
        },
        {
         "geo": "geo",
         "hovertemplate": "City=dwarka<br>Humidity=%{marker.size}<br>Lat=%{lat}<br>Lng=%{lon}<extra></extra>",
         "lat": [
          22.2394
         ],
         "legendgroup": "dwarka",
         "lon": [
          68.9678
         ],
         "marker": {
          "color": "#19d3f3",
          "size": [
           44
          ],
          "sizemode": "area",
          "sizeref": 2.0408163265306123,
          "symbol": "circle"
         },
         "mode": "markers",
         "name": "dwarka",
         "showlegend": true,
         "type": "scattergeo"
        },
        {
         "geo": "geo",
         "hovertemplate": "City=novikovo<br>Humidity=%{marker.size}<br>Lat=%{lat}<br>Lng=%{lon}<extra></extra>",
         "lat": [
          51.1537
         ],
         "legendgroup": "novikovo",
         "lon": [
          37.8879
         ],
         "marker": {
          "color": "#FF6692",
          "size": [
           81
          ],
          "sizemode": "area",
          "sizeref": 2.0408163265306123,
          "symbol": "circle"
         },
         "mode": "markers",
         "name": "novikovo",
         "showlegend": true,
         "type": "scattergeo"
        },
        {
         "geo": "geo",
         "hovertemplate": "City=nyimba<br>Humidity=%{marker.size}<br>Lat=%{lat}<br>Lng=%{lon}<extra></extra>",
         "lat": [
          -14.5566
         ],
         "legendgroup": "nyimba",
         "lon": [
          30.8149
         ],
         "marker": {
          "color": "#B6E880",
          "size": [
           98
          ],
          "sizemode": "area",
          "sizeref": 2.0408163265306123,
          "symbol": "circle"
         },
         "mode": "markers",
         "name": "nyimba",
         "showlegend": true,
         "type": "scattergeo"
        },
        {
         "geo": "geo",
         "hovertemplate": "City=nizwa<br>Humidity=%{marker.size}<br>Lat=%{lat}<br>Lng=%{lon}<extra></extra>",
         "lat": [
          22.9333
         ],
         "legendgroup": "nizwa",
         "lon": [
          57.5333
         ],
         "marker": {
          "color": "#FF97FF",
          "size": [
           74
          ],
          "sizemode": "area",
          "sizeref": 2.0408163265306123,
          "symbol": "circle"
         },
         "mode": "markers",
         "name": "nizwa",
         "showlegend": true,
         "type": "scattergeo"
        },
        {
         "geo": "geo",
         "hovertemplate": "City=koslan<br>Humidity=%{marker.size}<br>Lat=%{lat}<br>Lng=%{lon}<extra></extra>",
         "lat": [
          63.4564
         ],
         "legendgroup": "koslan",
         "lon": [
          48.8989
         ],
         "marker": {
          "color": "#FECB52",
          "size": [
           95
          ],
          "sizemode": "area",
          "sizeref": 2.0408163265306123,
          "symbol": "circle"
         },
         "mode": "markers",
         "name": "koslan",
         "showlegend": true,
         "type": "scattergeo"
        },
        {
         "geo": "geo",
         "hovertemplate": "City=marawi<br>Humidity=%{marker.size}<br>Lat=%{lat}<br>Lng=%{lon}<extra></extra>",
         "lat": [
          7.9986
         ],
         "legendgroup": "marawi",
         "lon": [
          124.2928
         ],
         "marker": {
          "color": "#636efa",
          "size": [
           83
          ],
          "sizemode": "area",
          "sizeref": 2.0408163265306123,
          "symbol": "circle"
         },
         "mode": "markers",
         "name": "marawi",
         "showlegend": true,
         "type": "scattergeo"
        },
        {
         "geo": "geo",
         "hovertemplate": "City=ushtobe<br>Humidity=%{marker.size}<br>Lat=%{lat}<br>Lng=%{lon}<extra></extra>",
         "lat": [
          45.2514
         ],
         "legendgroup": "ushtobe",
         "lon": [
          77.9838
         ],
         "marker": {
          "color": "#EF553B",
          "size": [
           81
          ],
          "sizemode": "area",
          "sizeref": 2.0408163265306123,
          "symbol": "circle"
         },
         "mode": "markers",
         "name": "ushtobe",
         "showlegend": true,
         "type": "scattergeo"
        },
        {
         "geo": "geo",
         "hovertemplate": "City=great falls<br>Humidity=%{marker.size}<br>Lat=%{lat}<br>Lng=%{lon}<extra></extra>",
         "lat": [
          47.5002
         ],
         "legendgroup": "great falls",
         "lon": [
          -111.3008
         ],
         "marker": {
          "color": "#00cc96",
          "size": [
           59
          ],
          "sizemode": "area",
          "sizeref": 2.0408163265306123,
          "symbol": "circle"
         },
         "mode": "markers",
         "name": "great falls",
         "showlegend": true,
         "type": "scattergeo"
        },
        {
         "geo": "geo",
         "hovertemplate": "City=indiaroba<br>Humidity=%{marker.size}<br>Lat=%{lat}<br>Lng=%{lon}<extra></extra>",
         "lat": [
          -11.5192
         ],
         "legendgroup": "indiaroba",
         "lon": [
          -37.5117
         ],
         "marker": {
          "color": "#ab63fa",
          "size": [
           90
          ],
          "sizemode": "area",
          "sizeref": 2.0408163265306123,
          "symbol": "circle"
         },
         "mode": "markers",
         "name": "indiaroba",
         "showlegend": true,
         "type": "scattergeo"
        },
        {
         "geo": "geo",
         "hovertemplate": "City=maceio<br>Humidity=%{marker.size}<br>Lat=%{lat}<br>Lng=%{lon}<extra></extra>",
         "lat": [
          -9.6658
         ],
         "legendgroup": "maceio",
         "lon": [
          -35.7353
         ],
         "marker": {
          "color": "#FFA15A",
          "size": [
           94
          ],
          "sizemode": "area",
          "sizeref": 2.0408163265306123,
          "symbol": "circle"
         },
         "mode": "markers",
         "name": "maceio",
         "showlegend": true,
         "type": "scattergeo"
        },
        {
         "geo": "geo",
         "hovertemplate": "City=meulaboh<br>Humidity=%{marker.size}<br>Lat=%{lat}<br>Lng=%{lon}<extra></extra>",
         "lat": [
          4.1363
         ],
         "legendgroup": "meulaboh",
         "lon": [
          96.1285
         ],
         "marker": {
          "color": "#19d3f3",
          "size": [
           82
          ],
          "sizemode": "area",
          "sizeref": 2.0408163265306123,
          "symbol": "circle"
         },
         "mode": "markers",
         "name": "meulaboh",
         "showlegend": true,
         "type": "scattergeo"
        },
        {
         "geo": "geo",
         "hovertemplate": "City=batagay<br>Humidity=%{marker.size}<br>Lat=%{lat}<br>Lng=%{lon}<extra></extra>",
         "lat": [
          67.6333
         ],
         "legendgroup": "batagay",
         "lon": [
          134.6333
         ],
         "marker": {
          "color": "#FF6692",
          "size": [
           97
          ],
          "sizemode": "area",
          "sizeref": 2.0408163265306123,
          "symbol": "circle"
         },
         "mode": "markers",
         "name": "batagay",
         "showlegend": true,
         "type": "scattergeo"
        },
        {
         "geo": "geo",
         "hovertemplate": "City=bursa<br>Humidity=%{marker.size}<br>Lat=%{lat}<br>Lng=%{lon}<extra></extra>",
         "lat": [
          40.1667
         ],
         "legendgroup": "bursa",
         "lon": [
          29.0833
         ],
         "marker": {
          "color": "#B6E880",
          "size": [
           87
          ],
          "sizemode": "area",
          "sizeref": 2.0408163265306123,
          "symbol": "circle"
         },
         "mode": "markers",
         "name": "bursa",
         "showlegend": true,
         "type": "scattergeo"
        },
        {
         "geo": "geo",
         "hovertemplate": "City=goderich<br>Humidity=%{marker.size}<br>Lat=%{lat}<br>Lng=%{lon}<extra></extra>",
         "lat": [
          43.7501
         ],
         "legendgroup": "goderich",
         "lon": [
          -81.7165
         ],
         "marker": {
          "color": "#FF97FF",
          "size": [
           80
          ],
          "sizemode": "area",
          "sizeref": 2.0408163265306123,
          "symbol": "circle"
         },
         "mode": "markers",
         "name": "goderich",
         "showlegend": true,
         "type": "scattergeo"
        },
        {
         "geo": "geo",
         "hovertemplate": "City=rochelle<br>Humidity=%{marker.size}<br>Lat=%{lat}<br>Lng=%{lon}<extra></extra>",
         "lat": [
          46.25
         ],
         "legendgroup": "rochelle",
         "lon": [
          -1
         ],
         "marker": {
          "color": "#FECB52",
          "size": [
           80
          ],
          "sizemode": "area",
          "sizeref": 2.0408163265306123,
          "symbol": "circle"
         },
         "mode": "markers",
         "name": "rochelle",
         "showlegend": true,
         "type": "scattergeo"
        },
        {
         "geo": "geo",
         "hovertemplate": "City=egvekinot<br>Humidity=%{marker.size}<br>Lat=%{lat}<br>Lng=%{lon}<extra></extra>",
         "lat": [
          66.3167
         ],
         "legendgroup": "egvekinot",
         "lon": [
          -179.1667
         ],
         "marker": {
          "color": "#636efa",
          "size": [
           82
          ],
          "sizemode": "area",
          "sizeref": 2.0408163265306123,
          "symbol": "circle"
         },
         "mode": "markers",
         "name": "egvekinot",
         "showlegend": true,
         "type": "scattergeo"
        },
        {
         "geo": "geo",
         "hovertemplate": "City=la palma<br>Humidity=%{marker.size}<br>Lat=%{lat}<br>Lng=%{lon}<extra></extra>",
         "lat": [
          33.8464
         ],
         "legendgroup": "la palma",
         "lon": [
          -118.0467
         ],
         "marker": {
          "color": "#EF553B",
          "size": [
           61
          ],
          "sizemode": "area",
          "sizeref": 2.0408163265306123,
          "symbol": "circle"
         },
         "mode": "markers",
         "name": "la palma",
         "showlegend": true,
         "type": "scattergeo"
        },
        {
         "geo": "geo",
         "hovertemplate": "City=charters towers<br>Humidity=%{marker.size}<br>Lat=%{lat}<br>Lng=%{lon}<extra></extra>",
         "lat": [
          -20.1
         ],
         "legendgroup": "charters towers",
         "lon": [
          146.2667
         ],
         "marker": {
          "color": "#00cc96",
          "size": [
           38
          ],
          "sizemode": "area",
          "sizeref": 2.0408163265306123,
          "symbol": "circle"
         },
         "mode": "markers",
         "name": "charters towers",
         "showlegend": true,
         "type": "scattergeo"
        },
        {
         "geo": "geo",
         "hovertemplate": "City=viedma<br>Humidity=%{marker.size}<br>Lat=%{lat}<br>Lng=%{lon}<extra></extra>",
         "lat": [
          -40.8135
         ],
         "legendgroup": "viedma",
         "lon": [
          -62.9967
         ],
         "marker": {
          "color": "#ab63fa",
          "size": [
           37
          ],
          "sizemode": "area",
          "sizeref": 2.0408163265306123,
          "symbol": "circle"
         },
         "mode": "markers",
         "name": "viedma",
         "showlegend": true,
         "type": "scattergeo"
        },
        {
         "geo": "geo",
         "hovertemplate": "City=itaituba<br>Humidity=%{marker.size}<br>Lat=%{lat}<br>Lng=%{lon}<extra></extra>",
         "lat": [
          -4.2761
         ],
         "legendgroup": "itaituba",
         "lon": [
          -55.9836
         ],
         "marker": {
          "color": "#FFA15A",
          "size": [
           99
          ],
          "sizemode": "area",
          "sizeref": 2.0408163265306123,
          "symbol": "circle"
         },
         "mode": "markers",
         "name": "itaituba",
         "showlegend": true,
         "type": "scattergeo"
        },
        {
         "geo": "geo",
         "hovertemplate": "City=belawan<br>Humidity=%{marker.size}<br>Lat=%{lat}<br>Lng=%{lon}<extra></extra>",
         "lat": [
          3.7755
         ],
         "legendgroup": "belawan",
         "lon": [
          98.6832
         ],
         "marker": {
          "color": "#19d3f3",
          "size": [
           87
          ],
          "sizemode": "area",
          "sizeref": 2.0408163265306123,
          "symbol": "circle"
         },
         "mode": "markers",
         "name": "belawan",
         "showlegend": true,
         "type": "scattergeo"
        },
        {
         "geo": "geo",
         "hovertemplate": "City=esmeraldas<br>Humidity=%{marker.size}<br>Lat=%{lat}<br>Lng=%{lon}<extra></extra>",
         "lat": [
          -19.7625
         ],
         "legendgroup": "esmeraldas",
         "lon": [
          -44.3139
         ],
         "marker": {
          "color": "#FF6692",
          "size": [
           98
          ],
          "sizemode": "area",
          "sizeref": 2.0408163265306123,
          "symbol": "circle"
         },
         "mode": "markers",
         "name": "esmeraldas",
         "showlegend": true,
         "type": "scattergeo"
        },
        {
         "geo": "geo",
         "hovertemplate": "City=tomobe<br>Humidity=%{marker.size}<br>Lat=%{lat}<br>Lng=%{lon}<extra></extra>",
         "lat": [
          36.35
         ],
         "legendgroup": "tomobe",
         "lon": [
          140.3
         ],
         "marker": {
          "color": "#B6E880",
          "size": [
           47
          ],
          "sizemode": "area",
          "sizeref": 2.0408163265306123,
          "symbol": "circle"
         },
         "mode": "markers",
         "name": "tomobe",
         "showlegend": true,
         "type": "scattergeo"
        },
        {
         "geo": "geo",
         "hovertemplate": "City=rio claro<br>Humidity=%{marker.size}<br>Lat=%{lat}<br>Lng=%{lon}<extra></extra>",
         "lat": [
          -22.4114
         ],
         "legendgroup": "rio claro",
         "lon": [
          -47.5614
         ],
         "marker": {
          "color": "#FF97FF",
          "size": [
           95
          ],
          "sizemode": "area",
          "sizeref": 2.0408163265306123,
          "symbol": "circle"
         },
         "mode": "markers",
         "name": "rio claro",
         "showlegend": true,
         "type": "scattergeo"
        },
        {
         "geo": "geo",
         "hovertemplate": "City=belaya gora<br>Humidity=%{marker.size}<br>Lat=%{lat}<br>Lng=%{lon}<extra></extra>",
         "lat": [
          68.5333
         ],
         "legendgroup": "belaya gora",
         "lon": [
          146.4167
         ],
         "marker": {
          "color": "#FECB52",
          "size": [
           99
          ],
          "sizemode": "area",
          "sizeref": 2.0408163265306123,
          "symbol": "circle"
         },
         "mode": "markers",
         "name": "belaya gora",
         "showlegend": true,
         "type": "scattergeo"
        },
        {
         "geo": "geo",
         "hovertemplate": "City=vanimo<br>Humidity=%{marker.size}<br>Lat=%{lat}<br>Lng=%{lon}<extra></extra>",
         "lat": [
          -2.6741
         ],
         "legendgroup": "vanimo",
         "lon": [
          141.3028
         ],
         "marker": {
          "color": "#636efa",
          "size": [
           93
          ],
          "sizemode": "area",
          "sizeref": 2.0408163265306123,
          "symbol": "circle"
         },
         "mode": "markers",
         "name": "vanimo",
         "showlegend": true,
         "type": "scattergeo"
        },
        {
         "geo": "geo",
         "hovertemplate": "City=sibolga<br>Humidity=%{marker.size}<br>Lat=%{lat}<br>Lng=%{lon}<extra></extra>",
         "lat": [
          1.7427
         ],
         "legendgroup": "sibolga",
         "lon": [
          98.7792
         ],
         "marker": {
          "color": "#EF553B",
          "size": [
           80
          ],
          "sizemode": "area",
          "sizeref": 2.0408163265306123,
          "symbol": "circle"
         },
         "mode": "markers",
         "name": "sibolga",
         "showlegend": true,
         "type": "scattergeo"
        },
        {
         "geo": "geo",
         "hovertemplate": "City=filadelfia<br>Humidity=%{marker.size}<br>Lat=%{lat}<br>Lng=%{lon}<extra></extra>",
         "lat": [
          39.9523
         ],
         "legendgroup": "filadelfia",
         "lon": [
          -75.1638
         ],
         "marker": {
          "color": "#00cc96",
          "size": [
           68
          ],
          "sizemode": "area",
          "sizeref": 2.0408163265306123,
          "symbol": "circle"
         },
         "mode": "markers",
         "name": "filadelfia",
         "showlegend": true,
         "type": "scattergeo"
        },
        {
         "geo": "geo",
         "hovertemplate": "City=thinadhoo<br>Humidity=%{marker.size}<br>Lat=%{lat}<br>Lng=%{lon}<extra></extra>",
         "lat": [
          0.5333
         ],
         "legendgroup": "thinadhoo",
         "lon": [
          72.9333
         ],
         "marker": {
          "color": "#ab63fa",
          "size": [
           75
          ],
          "sizemode": "area",
          "sizeref": 2.0408163265306123,
          "symbol": "circle"
         },
         "mode": "markers",
         "name": "thinadhoo",
         "showlegend": true,
         "type": "scattergeo"
        },
        {
         "geo": "geo",
         "hovertemplate": "City=takaka<br>Humidity=%{marker.size}<br>Lat=%{lat}<br>Lng=%{lon}<extra></extra>",
         "lat": [
          -40.85
         ],
         "legendgroup": "takaka",
         "lon": [
          172.8
         ],
         "marker": {
          "color": "#FFA15A",
          "size": [
           65
          ],
          "sizemode": "area",
          "sizeref": 2.0408163265306123,
          "symbol": "circle"
         },
         "mode": "markers",
         "name": "takaka",
         "showlegend": true,
         "type": "scattergeo"
        },
        {
         "geo": "geo",
         "hovertemplate": "City=starychi<br>Humidity=%{marker.size}<br>Lat=%{lat}<br>Lng=%{lon}<extra></extra>",
         "lat": [
          49.98
         ],
         "legendgroup": "starychi",
         "lon": [
          23.5585
         ],
         "marker": {
          "color": "#19d3f3",
          "size": [
           90
          ],
          "sizemode": "area",
          "sizeref": 2.0408163265306123,
          "symbol": "circle"
         },
         "mode": "markers",
         "name": "starychi",
         "showlegend": true,
         "type": "scattergeo"
        },
        {
         "geo": "geo",
         "hovertemplate": "City=kavaratti<br>Humidity=%{marker.size}<br>Lat=%{lat}<br>Lng=%{lon}<extra></extra>",
         "lat": [
          10.5669
         ],
         "legendgroup": "kavaratti",
         "lon": [
          72.642
         ],
         "marker": {
          "color": "#FF6692",
          "size": [
           74
          ],
          "sizemode": "area",
          "sizeref": 2.0408163265306123,
          "symbol": "circle"
         },
         "mode": "markers",
         "name": "kavaratti",
         "showlegend": true,
         "type": "scattergeo"
        },
        {
         "geo": "geo",
         "hovertemplate": "City=havelock<br>Humidity=%{marker.size}<br>Lat=%{lat}<br>Lng=%{lon}<extra></extra>",
         "lat": [
          34.8791
         ],
         "legendgroup": "havelock",
         "lon": [
          -76.9013
         ],
         "marker": {
          "color": "#B6E880",
          "size": [
           64
          ],
          "sizemode": "area",
          "sizeref": 2.0408163265306123,
          "symbol": "circle"
         },
         "mode": "markers",
         "name": "havelock",
         "showlegend": true,
         "type": "scattergeo"
        },
        {
         "geo": "geo",
         "hovertemplate": "City=paamiut<br>Humidity=%{marker.size}<br>Lat=%{lat}<br>Lng=%{lon}<extra></extra>",
         "lat": [
          61.994
         ],
         "legendgroup": "paamiut",
         "lon": [
          -49.6678
         ],
         "marker": {
          "color": "#FF97FF",
          "size": [
           81
          ],
          "sizemode": "area",
          "sizeref": 2.0408163265306123,
          "symbol": "circle"
         },
         "mode": "markers",
         "name": "paamiut",
         "showlegend": true,
         "type": "scattergeo"
        },
        {
         "geo": "geo",
         "hovertemplate": "City=poddorye<br>Humidity=%{marker.size}<br>Lat=%{lat}<br>Lng=%{lon}<extra></extra>",
         "lat": [
          57.4695
         ],
         "legendgroup": "poddorye",
         "lon": [
          31.1156
         ],
         "marker": {
          "color": "#FECB52",
          "size": [
           95
          ],
          "sizemode": "area",
          "sizeref": 2.0408163265306123,
          "symbol": "circle"
         },
         "mode": "markers",
         "name": "poddorye",
         "showlegend": true,
         "type": "scattergeo"
        },
        {
         "geo": "geo",
         "hovertemplate": "City=aksu<br>Humidity=%{marker.size}<br>Lat=%{lat}<br>Lng=%{lon}<extra></extra>",
         "lat": [
          41.1231
         ],
         "legendgroup": "aksu",
         "lon": [
          80.2644
         ],
         "marker": {
          "color": "#636efa",
          "size": [
           77
          ],
          "sizemode": "area",
          "sizeref": 2.0408163265306123,
          "symbol": "circle"
         },
         "mode": "markers",
         "name": "aksu",
         "showlegend": true,
         "type": "scattergeo"
        },
        {
         "geo": "geo",
         "hovertemplate": "City=alistrati<br>Humidity=%{marker.size}<br>Lat=%{lat}<br>Lng=%{lon}<extra></extra>",
         "lat": [
          41.0667
         ],
         "legendgroup": "alistrati",
         "lon": [
          23.95
         ],
         "marker": {
          "color": "#EF553B",
          "size": [
           89
          ],
          "sizemode": "area",
          "sizeref": 2.0408163265306123,
          "symbol": "circle"
         },
         "mode": "markers",
         "name": "alistrati",
         "showlegend": true,
         "type": "scattergeo"
        },
        {
         "geo": "geo",
         "hovertemplate": "City=alice springs<br>Humidity=%{marker.size}<br>Lat=%{lat}<br>Lng=%{lon}<extra></extra>",
         "lat": [
          -23.7
         ],
         "legendgroup": "alice springs",
         "lon": [
          133.8833
         ],
         "marker": {
          "color": "#00cc96",
          "size": [
           14
          ],
          "sizemode": "area",
          "sizeref": 2.0408163265306123,
          "symbol": "circle"
         },
         "mode": "markers",
         "name": "alice springs",
         "showlegend": true,
         "type": "scattergeo"
        },
        {
         "geo": "geo",
         "hovertemplate": "City=nishihara<br>Humidity=%{marker.size}<br>Lat=%{lat}<br>Lng=%{lon}<extra></extra>",
         "lat": [
          26.1842
         ],
         "legendgroup": "nishihara",
         "lon": [
          127.7558
         ],
         "marker": {
          "color": "#ab63fa",
          "size": [
           80
          ],
          "sizemode": "area",
          "sizeref": 2.0408163265306123,
          "symbol": "circle"
         },
         "mode": "markers",
         "name": "nishihara",
         "showlegend": true,
         "type": "scattergeo"
        },
        {
         "geo": "geo",
         "hovertemplate": "City=north bend<br>Humidity=%{marker.size}<br>Lat=%{lat}<br>Lng=%{lon}<extra></extra>",
         "lat": [
          43.4065
         ],
         "legendgroup": "north bend",
         "lon": [
          -124.2243
         ],
         "marker": {
          "color": "#FFA15A",
          "size": [
           94
          ],
          "sizemode": "area",
          "sizeref": 2.0408163265306123,
          "symbol": "circle"
         },
         "mode": "markers",
         "name": "north bend",
         "showlegend": true,
         "type": "scattergeo"
        },
        {
         "geo": "geo",
         "hovertemplate": "City=barra dos coqueiros<br>Humidity=%{marker.size}<br>Lat=%{lat}<br>Lng=%{lon}<extra></extra>",
         "lat": [
          -10.9089
         ],
         "legendgroup": "barra dos coqueiros",
         "lon": [
          -37.0386
         ],
         "marker": {
          "color": "#19d3f3",
          "size": [
           83
          ],
          "sizemode": "area",
          "sizeref": 2.0408163265306123,
          "symbol": "circle"
         },
         "mode": "markers",
         "name": "barra dos coqueiros",
         "showlegend": true,
         "type": "scattergeo"
        },
        {
         "geo": "geo",
         "hovertemplate": "City=manbij<br>Humidity=%{marker.size}<br>Lat=%{lat}<br>Lng=%{lon}<extra></extra>",
         "lat": [
          36.5281
         ],
         "legendgroup": "manbij",
         "lon": [
          37.9549
         ],
         "marker": {
          "color": "#FF6692",
          "size": [
           63
          ],
          "sizemode": "area",
          "sizeref": 2.0408163265306123,
          "symbol": "circle"
         },
         "mode": "markers",
         "name": "manbij",
         "showlegend": true,
         "type": "scattergeo"
        },
        {
         "geo": "geo",
         "hovertemplate": "City=dingle<br>Humidity=%{marker.size}<br>Lat=%{lat}<br>Lng=%{lon}<extra></extra>",
         "lat": [
          10.9995
         ],
         "legendgroup": "dingle",
         "lon": [
          122.6711
         ],
         "marker": {
          "color": "#B6E880",
          "size": [
           76
          ],
          "sizemode": "area",
          "sizeref": 2.0408163265306123,
          "symbol": "circle"
         },
         "mode": "markers",
         "name": "dingle",
         "showlegend": true,
         "type": "scattergeo"
        },
        {
         "geo": "geo",
         "hovertemplate": "City=cotonou<br>Humidity=%{marker.size}<br>Lat=%{lat}<br>Lng=%{lon}<extra></extra>",
         "lat": [
          6.3654
         ],
         "legendgroup": "cotonou",
         "lon": [
          2.4183
         ],
         "marker": {
          "color": "#FF97FF",
          "size": [
           85
          ],
          "sizemode": "area",
          "sizeref": 2.0408163265306123,
          "symbol": "circle"
         },
         "mode": "markers",
         "name": "cotonou",
         "showlegend": true,
         "type": "scattergeo"
        },
        {
         "geo": "geo",
         "hovertemplate": "City=zhangjiakou<br>Humidity=%{marker.size}<br>Lat=%{lat}<br>Lng=%{lon}<extra></extra>",
         "lat": [
          40.81
         ],
         "legendgroup": "zhangjiakou",
         "lon": [
          114.8794
         ],
         "marker": {
          "color": "#FECB52",
          "size": [
           25
          ],
          "sizemode": "area",
          "sizeref": 2.0408163265306123,
          "symbol": "circle"
         },
         "mode": "markers",
         "name": "zhangjiakou",
         "showlegend": true,
         "type": "scattergeo"
        },
        {
         "geo": "geo",
         "hovertemplate": "City=inhambane<br>Humidity=%{marker.size}<br>Lat=%{lat}<br>Lng=%{lon}<extra></extra>",
         "lat": [
          -23.865
         ],
         "legendgroup": "inhambane",
         "lon": [
          35.3833
         ],
         "marker": {
          "color": "#636efa",
          "size": [
           77
          ],
          "sizemode": "area",
          "sizeref": 2.0408163265306123,
          "symbol": "circle"
         },
         "mode": "markers",
         "name": "inhambane",
         "showlegend": true,
         "type": "scattergeo"
        },
        {
         "geo": "geo",
         "hovertemplate": "City=puri<br>Humidity=%{marker.size}<br>Lat=%{lat}<br>Lng=%{lon}<extra></extra>",
         "lat": [
          19.8
         ],
         "legendgroup": "puri",
         "lon": [
          85.85
         ],
         "marker": {
          "color": "#EF553B",
          "size": [
           59
          ],
          "sizemode": "area",
          "sizeref": 2.0408163265306123,
          "symbol": "circle"
         },
         "mode": "markers",
         "name": "puri",
         "showlegend": true,
         "type": "scattergeo"
        },
        {
         "geo": "geo",
         "hovertemplate": "City=chake chake<br>Humidity=%{marker.size}<br>Lat=%{lat}<br>Lng=%{lon}<extra></extra>",
         "lat": [
          -5.2459
         ],
         "legendgroup": "chake chake",
         "lon": [
          39.7666
         ],
         "marker": {
          "color": "#00cc96",
          "size": [
           83
          ],
          "sizemode": "area",
          "sizeref": 2.0408163265306123,
          "symbol": "circle"
         },
         "mode": "markers",
         "name": "chake chake",
         "showlegend": true,
         "type": "scattergeo"
        },
        {
         "geo": "geo",
         "hovertemplate": "City=tabora<br>Humidity=%{marker.size}<br>Lat=%{lat}<br>Lng=%{lon}<extra></extra>",
         "lat": [
          -5.0167
         ],
         "legendgroup": "tabora",
         "lon": [
          32.8
         ],
         "marker": {
          "color": "#ab63fa",
          "size": [
           94
          ],
          "sizemode": "area",
          "sizeref": 2.0408163265306123,
          "symbol": "circle"
         },
         "mode": "markers",
         "name": "tabora",
         "showlegend": true,
         "type": "scattergeo"
        },
        {
         "geo": "geo",
         "hovertemplate": "City=pangai<br>Humidity=%{marker.size}<br>Lat=%{lat}<br>Lng=%{lon}<extra></extra>",
         "lat": [
          -19.8
         ],
         "legendgroup": "pangai",
         "lon": [
          -174.35
         ],
         "marker": {
          "color": "#FFA15A",
          "size": [
           62
          ],
          "sizemode": "area",
          "sizeref": 2.0408163265306123,
          "symbol": "circle"
         },
         "mode": "markers",
         "name": "pangai",
         "showlegend": true,
         "type": "scattergeo"
        },
        {
         "geo": "geo",
         "hovertemplate": "City=gimli<br>Humidity=%{marker.size}<br>Lat=%{lat}<br>Lng=%{lon}<extra></extra>",
         "lat": [
          50.6336
         ],
         "legendgroup": "gimli",
         "lon": [
          -96.9907
         ],
         "marker": {
          "color": "#19d3f3",
          "size": [
           78
          ],
          "sizemode": "area",
          "sizeref": 2.0408163265306123,
          "symbol": "circle"
         },
         "mode": "markers",
         "name": "gimli",
         "showlegend": true,
         "type": "scattergeo"
        },
        {
         "geo": "geo",
         "hovertemplate": "City=cavalcante<br>Humidity=%{marker.size}<br>Lat=%{lat}<br>Lng=%{lon}<extra></extra>",
         "lat": [
          -13.7975
         ],
         "legendgroup": "cavalcante",
         "lon": [
          -47.4583
         ],
         "marker": {
          "color": "#FF6692",
          "size": [
           93
          ],
          "sizemode": "area",
          "sizeref": 2.0408163265306123,
          "symbol": "circle"
         },
         "mode": "markers",
         "name": "cavalcante",
         "showlegend": true,
         "type": "scattergeo"
        },
        {
         "geo": "geo",
         "hovertemplate": "City=grand gaube<br>Humidity=%{marker.size}<br>Lat=%{lat}<br>Lng=%{lon}<extra></extra>",
         "lat": [
          -20.0064
         ],
         "legendgroup": "grand gaube",
         "lon": [
          57.6608
         ],
         "marker": {
          "color": "#B6E880",
          "size": [
           83
          ],
          "sizemode": "area",
          "sizeref": 2.0408163265306123,
          "symbol": "circle"
         },
         "mode": "markers",
         "name": "grand gaube",
         "showlegend": true,
         "type": "scattergeo"
        },
        {
         "geo": "geo",
         "hovertemplate": "City=northam<br>Humidity=%{marker.size}<br>Lat=%{lat}<br>Lng=%{lon}<extra></extra>",
         "lat": [
          51.0333
         ],
         "legendgroup": "northam",
         "lon": [
          -4.2167
         ],
         "marker": {
          "color": "#FF97FF",
          "size": [
           69
          ],
          "sizemode": "area",
          "sizeref": 2.0408163265306123,
          "symbol": "circle"
         },
         "mode": "markers",
         "name": "northam",
         "showlegend": true,
         "type": "scattergeo"
        },
        {
         "geo": "geo",
         "hovertemplate": "City=kothen<br>Humidity=%{marker.size}<br>Lat=%{lat}<br>Lng=%{lon}<extra></extra>",
         "lat": [
          51.75
         ],
         "legendgroup": "kothen",
         "lon": [
          11.9667
         ],
         "marker": {
          "color": "#FECB52",
          "size": [
           95
          ],
          "sizemode": "area",
          "sizeref": 2.0408163265306123,
          "symbol": "circle"
         },
         "mode": "markers",
         "name": "kothen",
         "showlegend": true,
         "type": "scattergeo"
        },
        {
         "geo": "geo",
         "hovertemplate": "City=makokou<br>Humidity=%{marker.size}<br>Lat=%{lat}<br>Lng=%{lon}<extra></extra>",
         "lat": [
          0.5738
         ],
         "legendgroup": "makokou",
         "lon": [
          12.8642
         ],
         "marker": {
          "color": "#636efa",
          "size": [
           91
          ],
          "sizemode": "area",
          "sizeref": 2.0408163265306123,
          "symbol": "circle"
         },
         "mode": "markers",
         "name": "makokou",
         "showlegend": true,
         "type": "scattergeo"
        },
        {
         "geo": "geo",
         "hovertemplate": "City=cobija<br>Humidity=%{marker.size}<br>Lat=%{lat}<br>Lng=%{lon}<extra></extra>",
         "lat": [
          -11.0267
         ],
         "legendgroup": "cobija",
         "lon": [
          -68.7692
         ],
         "marker": {
          "color": "#EF553B",
          "size": [
           91
          ],
          "sizemode": "area",
          "sizeref": 2.0408163265306123,
          "symbol": "circle"
         },
         "mode": "markers",
         "name": "cobija",
         "showlegend": true,
         "type": "scattergeo"
        },
        {
         "geo": "geo",
         "hovertemplate": "City=whitefish<br>Humidity=%{marker.size}<br>Lat=%{lat}<br>Lng=%{lon}<extra></extra>",
         "lat": [
          48.4111
         ],
         "legendgroup": "whitefish",
         "lon": [
          -114.3376
         ],
         "marker": {
          "color": "#00cc96",
          "size": [
           97
          ],
          "sizemode": "area",
          "sizeref": 2.0408163265306123,
          "symbol": "circle"
         },
         "mode": "markers",
         "name": "whitefish",
         "showlegend": true,
         "type": "scattergeo"
        },
        {
         "geo": "geo",
         "hovertemplate": "City=lebork<br>Humidity=%{marker.size}<br>Lat=%{lat}<br>Lng=%{lon}<extra></extra>",
         "lat": [
          54.5392
         ],
         "legendgroup": "lebork",
         "lon": [
          17.7501
         ],
         "marker": {
          "color": "#ab63fa",
          "size": [
           76
          ],
          "sizemode": "area",
          "sizeref": 2.0408163265306123,
          "symbol": "circle"
         },
         "mode": "markers",
         "name": "lebork",
         "showlegend": true,
         "type": "scattergeo"
        },
        {
         "geo": "geo",
         "hovertemplate": "City=kruisfontein<br>Humidity=%{marker.size}<br>Lat=%{lat}<br>Lng=%{lon}<extra></extra>",
         "lat": [
          -34.0033
         ],
         "legendgroup": "kruisfontein",
         "lon": [
          24.7314
         ],
         "marker": {
          "color": "#FFA15A",
          "size": [
           84
          ],
          "sizemode": "area",
          "sizeref": 2.0408163265306123,
          "symbol": "circle"
         },
         "mode": "markers",
         "name": "kruisfontein",
         "showlegend": true,
         "type": "scattergeo"
        },
        {
         "geo": "geo",
         "hovertemplate": "City=caravelas<br>Humidity=%{marker.size}<br>Lat=%{lat}<br>Lng=%{lon}<extra></extra>",
         "lat": [
          -17.7125
         ],
         "legendgroup": "caravelas",
         "lon": [
          -39.2481
         ],
         "marker": {
          "color": "#19d3f3",
          "size": [
           85
          ],
          "sizemode": "area",
          "sizeref": 2.0408163265306123,
          "symbol": "circle"
         },
         "mode": "markers",
         "name": "caravelas",
         "showlegend": true,
         "type": "scattergeo"
        },
        {
         "geo": "geo",
         "hovertemplate": "City=tessalit<br>Humidity=%{marker.size}<br>Lat=%{lat}<br>Lng=%{lon}<extra></extra>",
         "lat": [
          20.1986
         ],
         "legendgroup": "tessalit",
         "lon": [
          1.0114
         ],
         "marker": {
          "color": "#FF6692",
          "size": [
           15
          ],
          "sizemode": "area",
          "sizeref": 2.0408163265306123,
          "symbol": "circle"
         },
         "mode": "markers",
         "name": "tessalit",
         "showlegend": true,
         "type": "scattergeo"
        },
        {
         "geo": "geo",
         "hovertemplate": "City=suntar<br>Humidity=%{marker.size}<br>Lat=%{lat}<br>Lng=%{lon}<extra></extra>",
         "lat": [
          62.1444
         ],
         "legendgroup": "suntar",
         "lon": [
          117.6319
         ],
         "marker": {
          "color": "#B6E880",
          "size": [
           90
          ],
          "sizemode": "area",
          "sizeref": 2.0408163265306123,
          "symbol": "circle"
         },
         "mode": "markers",
         "name": "suntar",
         "showlegend": true,
         "type": "scattergeo"
        },
        {
         "geo": "geo",
         "hovertemplate": "City=lekoni<br>Humidity=%{marker.size}<br>Lat=%{lat}<br>Lng=%{lon}<extra></extra>",
         "lat": [
          -1.5843
         ],
         "legendgroup": "lekoni",
         "lon": [
          14.2591
         ],
         "marker": {
          "color": "#FF97FF",
          "size": [
           84
          ],
          "sizemode": "area",
          "sizeref": 2.0408163265306123,
          "symbol": "circle"
         },
         "mode": "markers",
         "name": "lekoni",
         "showlegend": true,
         "type": "scattergeo"
        },
        {
         "geo": "geo",
         "hovertemplate": "City=devrek<br>Humidity=%{marker.size}<br>Lat=%{lat}<br>Lng=%{lon}<extra></extra>",
         "lat": [
          41.2192
         ],
         "legendgroup": "devrek",
         "lon": [
          31.9558
         ],
         "marker": {
          "color": "#FECB52",
          "size": [
           72
          ],
          "sizemode": "area",
          "sizeref": 2.0408163265306123,
          "symbol": "circle"
         },
         "mode": "markers",
         "name": "devrek",
         "showlegend": true,
         "type": "scattergeo"
        },
        {
         "geo": "geo",
         "hovertemplate": "City=uni<br>Humidity=%{marker.size}<br>Lat=%{lat}<br>Lng=%{lon}<extra></extra>",
         "lat": [
          57.7535
         ],
         "legendgroup": "uni",
         "lon": [
          51.4923
         ],
         "marker": {
          "color": "#636efa",
          "size": [
           100
          ],
          "sizemode": "area",
          "sizeref": 2.0408163265306123,
          "symbol": "circle"
         },
         "mode": "markers",
         "name": "uni",
         "showlegend": true,
         "type": "scattergeo"
        },
        {
         "geo": "geo",
         "hovertemplate": "City=montemor-o-novo<br>Humidity=%{marker.size}<br>Lat=%{lat}<br>Lng=%{lon}<extra></extra>",
         "lat": [
          38.6481
         ],
         "legendgroup": "montemor-o-novo",
         "lon": [
          -8.2145
         ],
         "marker": {
          "color": "#EF553B",
          "size": [
           75
          ],
          "sizemode": "area",
          "sizeref": 2.0408163265306123,
          "symbol": "circle"
         },
         "mode": "markers",
         "name": "montemor-o-novo",
         "showlegend": true,
         "type": "scattergeo"
        },
        {
         "geo": "geo",
         "hovertemplate": "City=erzincan<br>Humidity=%{marker.size}<br>Lat=%{lat}<br>Lng=%{lon}<extra></extra>",
         "lat": [
          39.75
         ],
         "legendgroup": "erzincan",
         "lon": [
          39.5
         ],
         "marker": {
          "color": "#00cc96",
          "size": [
           92
          ],
          "sizemode": "area",
          "sizeref": 2.0408163265306123,
          "symbol": "circle"
         },
         "mode": "markers",
         "name": "erzincan",
         "showlegend": true,
         "type": "scattergeo"
        },
        {
         "geo": "geo",
         "hovertemplate": "City=ascension<br>Humidity=%{marker.size}<br>Lat=%{lat}<br>Lng=%{lon}<extra></extra>",
         "lat": [
          30.2169
         ],
         "legendgroup": "ascension",
         "lon": [
          -90.9001
         ],
         "marker": {
          "color": "#ab63fa",
          "size": [
           86
          ],
          "sizemode": "area",
          "sizeref": 2.0408163265306123,
          "symbol": "circle"
         },
         "mode": "markers",
         "name": "ascension",
         "showlegend": true,
         "type": "scattergeo"
        },
        {
         "geo": "geo",
         "hovertemplate": "City=acapulco<br>Humidity=%{marker.size}<br>Lat=%{lat}<br>Lng=%{lon}<extra></extra>",
         "lat": [
          16.8634
         ],
         "legendgroup": "acapulco",
         "lon": [
          -99.8901
         ],
         "marker": {
          "color": "#FFA15A",
          "size": [
           73
          ],
          "sizemode": "area",
          "sizeref": 2.0408163265306123,
          "symbol": "circle"
         },
         "mode": "markers",
         "name": "acapulco",
         "showlegend": true,
         "type": "scattergeo"
        },
        {
         "geo": "geo",
         "hovertemplate": "City=omsukchan<br>Humidity=%{marker.size}<br>Lat=%{lat}<br>Lng=%{lon}<extra></extra>",
         "lat": [
          62.5333
         ],
         "legendgroup": "omsukchan",
         "lon": [
          155.8
         ],
         "marker": {
          "color": "#19d3f3",
          "size": [
           96
          ],
          "sizemode": "area",
          "sizeref": 2.0408163265306123,
          "symbol": "circle"
         },
         "mode": "markers",
         "name": "omsukchan",
         "showlegend": true,
         "type": "scattergeo"
        },
        {
         "geo": "geo",
         "hovertemplate": "City=helong<br>Humidity=%{marker.size}<br>Lat=%{lat}<br>Lng=%{lon}<extra></extra>",
         "lat": [
          42.5397
         ],
         "legendgroup": "helong",
         "lon": [
          128.9972
         ],
         "marker": {
          "color": "#FF6692",
          "size": [
           64
          ],
          "sizemode": "area",
          "sizeref": 2.0408163265306123,
          "symbol": "circle"
         },
         "mode": "markers",
         "name": "helong",
         "showlegend": true,
         "type": "scattergeo"
        },
        {
         "geo": "geo",
         "hovertemplate": "City=ati<br>Humidity=%{marker.size}<br>Lat=%{lat}<br>Lng=%{lon}<extra></extra>",
         "lat": [
          13.2154
         ],
         "legendgroup": "ati",
         "lon": [
          18.3353
         ],
         "marker": {
          "color": "#B6E880",
          "size": [
           14
          ],
          "sizemode": "area",
          "sizeref": 2.0408163265306123,
          "symbol": "circle"
         },
         "mode": "markers",
         "name": "ati",
         "showlegend": true,
         "type": "scattergeo"
        },
        {
         "geo": "geo",
         "hovertemplate": "City=verkhovazhye<br>Humidity=%{marker.size}<br>Lat=%{lat}<br>Lng=%{lon}<extra></extra>",
         "lat": [
          60.7472
         ],
         "legendgroup": "verkhovazhye",
         "lon": [
          42.0465
         ],
         "marker": {
          "color": "#FF97FF",
          "size": [
           95
          ],
          "sizemode": "area",
          "sizeref": 2.0408163265306123,
          "symbol": "circle"
         },
         "mode": "markers",
         "name": "verkhovazhye",
         "showlegend": true,
         "type": "scattergeo"
        },
        {
         "geo": "geo",
         "hovertemplate": "City=camana<br>Humidity=%{marker.size}<br>Lat=%{lat}<br>Lng=%{lon}<extra></extra>",
         "lat": [
          -16.6228
         ],
         "legendgroup": "camana",
         "lon": [
          -72.7111
         ],
         "marker": {
          "color": "#FECB52",
          "size": [
           82
          ],
          "sizemode": "area",
          "sizeref": 2.0408163265306123,
          "symbol": "circle"
         },
         "mode": "markers",
         "name": "camana",
         "showlegend": true,
         "type": "scattergeo"
        },
        {
         "geo": "geo",
         "hovertemplate": "City=shubarkuduk<br>Humidity=%{marker.size}<br>Lat=%{lat}<br>Lng=%{lon}<extra></extra>",
         "lat": [
          49.1447
         ],
         "legendgroup": "shubarkuduk",
         "lon": [
          56.4872
         ],
         "marker": {
          "color": "#636efa",
          "size": [
           91
          ],
          "sizemode": "area",
          "sizeref": 2.0408163265306123,
          "symbol": "circle"
         },
         "mode": "markers",
         "name": "shubarkuduk",
         "showlegend": true,
         "type": "scattergeo"
        },
        {
         "geo": "geo",
         "hovertemplate": "City=marsh harbour<br>Humidity=%{marker.size}<br>Lat=%{lat}<br>Lng=%{lon}<extra></extra>",
         "lat": [
          26.5412
         ],
         "legendgroup": "marsh harbour",
         "lon": [
          -77.0636
         ],
         "marker": {
          "color": "#EF553B",
          "size": [
           81
          ],
          "sizemode": "area",
          "sizeref": 2.0408163265306123,
          "symbol": "circle"
         },
         "mode": "markers",
         "name": "marsh harbour",
         "showlegend": true,
         "type": "scattergeo"
        },
        {
         "geo": "geo",
         "hovertemplate": "City=hualmay<br>Humidity=%{marker.size}<br>Lat=%{lat}<br>Lng=%{lon}<extra></extra>",
         "lat": [
          -11.0964
         ],
         "legendgroup": "hualmay",
         "lon": [
          -77.6139
         ],
         "marker": {
          "color": "#00cc96",
          "size": [
           79
          ],
          "sizemode": "area",
          "sizeref": 2.0408163265306123,
          "symbol": "circle"
         },
         "mode": "markers",
         "name": "hualmay",
         "showlegend": true,
         "type": "scattergeo"
        },
        {
         "geo": "geo",
         "hovertemplate": "City=sao felix do xingu<br>Humidity=%{marker.size}<br>Lat=%{lat}<br>Lng=%{lon}<extra></extra>",
         "lat": [
          -6.6447
         ],
         "legendgroup": "sao felix do xingu",
         "lon": [
          -51.995
         ],
         "marker": {
          "color": "#ab63fa",
          "size": [
           98
          ],
          "sizemode": "area",
          "sizeref": 2.0408163265306123,
          "symbol": "circle"
         },
         "mode": "markers",
         "name": "sao felix do xingu",
         "showlegend": true,
         "type": "scattergeo"
        },
        {
         "geo": "geo",
         "hovertemplate": "City=vestmanna<br>Humidity=%{marker.size}<br>Lat=%{lat}<br>Lng=%{lon}<extra></extra>",
         "lat": [
          62.1564
         ],
         "legendgroup": "vestmanna",
         "lon": [
          -7.1664
         ],
         "marker": {
          "color": "#FFA15A",
          "size": [
           100
          ],
          "sizemode": "area",
          "sizeref": 2.0408163265306123,
          "symbol": "circle"
         },
         "mode": "markers",
         "name": "vestmanna",
         "showlegend": true,
         "type": "scattergeo"
        },
        {
         "geo": "geo",
         "hovertemplate": "City=saint-pierre<br>Humidity=%{marker.size}<br>Lat=%{lat}<br>Lng=%{lon}<extra></extra>",
         "lat": [
          -21.3393
         ],
         "legendgroup": "saint-pierre",
         "lon": [
          55.4781
         ],
         "marker": {
          "color": "#19d3f3",
          "size": [
           88
          ],
          "sizemode": "area",
          "sizeref": 2.0408163265306123,
          "symbol": "circle"
         },
         "mode": "markers",
         "name": "saint-pierre",
         "showlegend": true,
         "type": "scattergeo"
        },
        {
         "geo": "geo",
         "hovertemplate": "City=kijang<br>Humidity=%{marker.size}<br>Lat=%{lat}<br>Lng=%{lon}<extra></extra>",
         "lat": [
          35.2442
         ],
         "legendgroup": "kijang",
         "lon": [
          129.2139
         ],
         "marker": {
          "color": "#FF6692",
          "size": [
           42
          ],
          "sizemode": "area",
          "sizeref": 2.0408163265306123,
          "symbol": "circle"
         },
         "mode": "markers",
         "name": "kijang",
         "showlegend": true,
         "type": "scattergeo"
        },
        {
         "geo": "geo",
         "hovertemplate": "City=lokosovo<br>Humidity=%{marker.size}<br>Lat=%{lat}<br>Lng=%{lon}<extra></extra>",
         "lat": [
          61.1333
         ],
         "legendgroup": "lokosovo",
         "lon": [
          74.8167
         ],
         "marker": {
          "color": "#B6E880",
          "size": [
           99
          ],
          "sizemode": "area",
          "sizeref": 2.0408163265306123,
          "symbol": "circle"
         },
         "mode": "markers",
         "name": "lokosovo",
         "showlegend": true,
         "type": "scattergeo"
        },
        {
         "geo": "geo",
         "hovertemplate": "City=gua musang<br>Humidity=%{marker.size}<br>Lat=%{lat}<br>Lng=%{lon}<extra></extra>",
         "lat": [
          4.8823
         ],
         "legendgroup": "gua musang",
         "lon": [
          101.9644
         ],
         "marker": {
          "color": "#FF97FF",
          "size": [
           63
          ],
          "sizemode": "area",
          "sizeref": 2.0408163265306123,
          "symbol": "circle"
         },
         "mode": "markers",
         "name": "gua musang",
         "showlegend": true,
         "type": "scattergeo"
        },
        {
         "geo": "geo",
         "hovertemplate": "City=lomza<br>Humidity=%{marker.size}<br>Lat=%{lat}<br>Lng=%{lon}<extra></extra>",
         "lat": [
          53.1781
         ],
         "legendgroup": "lomza",
         "lon": [
          22.0593
         ],
         "marker": {
          "color": "#FECB52",
          "size": [
           89
          ],
          "sizemode": "area",
          "sizeref": 2.0408163265306123,
          "symbol": "circle"
         },
         "mode": "markers",
         "name": "lomza",
         "showlegend": true,
         "type": "scattergeo"
        },
        {
         "geo": "geo",
         "hovertemplate": "City=san ramon de la nueva oran<br>Humidity=%{marker.size}<br>Lat=%{lat}<br>Lng=%{lon}<extra></extra>",
         "lat": [
          -23.1322
         ],
         "legendgroup": "san ramon de la nueva oran",
         "lon": [
          -64.32600000000001
         ],
         "marker": {
          "color": "#636efa",
          "size": [
           84
          ],
          "sizemode": "area",
          "sizeref": 2.0408163265306123,
          "symbol": "circle"
         },
         "mode": "markers",
         "name": "san ramon de la nueva oran",
         "showlegend": true,
         "type": "scattergeo"
        },
        {
         "geo": "geo",
         "hovertemplate": "City=pennagaram<br>Humidity=%{marker.size}<br>Lat=%{lat}<br>Lng=%{lon}<extra></extra>",
         "lat": [
          12.1333
         ],
         "legendgroup": "pennagaram",
         "lon": [
          77.9
         ],
         "marker": {
          "color": "#EF553B",
          "size": [
           67
          ],
          "sizemode": "area",
          "sizeref": 2.0408163265306123,
          "symbol": "circle"
         },
         "mode": "markers",
         "name": "pennagaram",
         "showlegend": true,
         "type": "scattergeo"
        },
        {
         "geo": "geo",
         "hovertemplate": "City=luganville<br>Humidity=%{marker.size}<br>Lat=%{lat}<br>Lng=%{lon}<extra></extra>",
         "lat": [
          -15.5333
         ],
         "legendgroup": "luganville",
         "lon": [
          167.1667
         ],
         "marker": {
          "color": "#00cc96",
          "size": [
           72
          ],
          "sizemode": "area",
          "sizeref": 2.0408163265306123,
          "symbol": "circle"
         },
         "mode": "markers",
         "name": "luganville",
         "showlegend": true,
         "type": "scattergeo"
        },
        {
         "geo": "geo",
         "hovertemplate": "City=juneau<br>Humidity=%{marker.size}<br>Lat=%{lat}<br>Lng=%{lon}<extra></extra>",
         "lat": [
          58.3019
         ],
         "legendgroup": "juneau",
         "lon": [
          -134.4197
         ],
         "marker": {
          "color": "#ab63fa",
          "size": [
           97
          ],
          "sizemode": "area",
          "sizeref": 2.0408163265306123,
          "symbol": "circle"
         },
         "mode": "markers",
         "name": "juneau",
         "showlegend": true,
         "type": "scattergeo"
        },
        {
         "geo": "geo",
         "hovertemplate": "City=beira<br>Humidity=%{marker.size}<br>Lat=%{lat}<br>Lng=%{lon}<extra></extra>",
         "lat": [
          -19.8436
         ],
         "legendgroup": "beira",
         "lon": [
          34.8389
         ],
         "marker": {
          "color": "#FFA15A",
          "size": [
           86
          ],
          "sizemode": "area",
          "sizeref": 2.0408163265306123,
          "symbol": "circle"
         },
         "mode": "markers",
         "name": "beira",
         "showlegend": true,
         "type": "scattergeo"
        },
        {
         "geo": "geo",
         "hovertemplate": "City=sorong<br>Humidity=%{marker.size}<br>Lat=%{lat}<br>Lng=%{lon}<extra></extra>",
         "lat": [
          -0.8833
         ],
         "legendgroup": "sorong",
         "lon": [
          131.25
         ],
         "marker": {
          "color": "#19d3f3",
          "size": [
           71
          ],
          "sizemode": "area",
          "sizeref": 2.0408163265306123,
          "symbol": "circle"
         },
         "mode": "markers",
         "name": "sorong",
         "showlegend": true,
         "type": "scattergeo"
        },
        {
         "geo": "geo",
         "hovertemplate": "City=pando<br>Humidity=%{marker.size}<br>Lat=%{lat}<br>Lng=%{lon}<extra></extra>",
         "lat": [
          -34.7167
         ],
         "legendgroup": "pando",
         "lon": [
          -55.95
         ],
         "marker": {
          "color": "#FF6692",
          "size": [
           73
          ],
          "sizemode": "area",
          "sizeref": 2.0408163265306123,
          "symbol": "circle"
         },
         "mode": "markers",
         "name": "pando",
         "showlegend": true,
         "type": "scattergeo"
        },
        {
         "geo": "geo",
         "hovertemplate": "City=cao bang<br>Humidity=%{marker.size}<br>Lat=%{lat}<br>Lng=%{lon}<extra></extra>",
         "lat": [
          22.6667
         ],
         "legendgroup": "cao bang",
         "lon": [
          106.25
         ],
         "marker": {
          "color": "#B6E880",
          "size": [
           36
          ],
          "sizemode": "area",
          "sizeref": 2.0408163265306123,
          "symbol": "circle"
         },
         "mode": "markers",
         "name": "cao bang",
         "showlegend": true,
         "type": "scattergeo"
        },
        {
         "geo": "geo",
         "hovertemplate": "City=imbituba<br>Humidity=%{marker.size}<br>Lat=%{lat}<br>Lng=%{lon}<extra></extra>",
         "lat": [
          -28.24
         ],
         "legendgroup": "imbituba",
         "lon": [
          -48.6703
         ],
         "marker": {
          "color": "#FF97FF",
          "size": [
           88
          ],
          "sizemode": "area",
          "sizeref": 2.0408163265306123,
          "symbol": "circle"
         },
         "mode": "markers",
         "name": "imbituba",
         "showlegend": true,
         "type": "scattergeo"
        },
        {
         "geo": "geo",
         "hovertemplate": "City=srednekolymsk<br>Humidity=%{marker.size}<br>Lat=%{lat}<br>Lng=%{lon}<extra></extra>",
         "lat": [
          67.45
         ],
         "legendgroup": "srednekolymsk",
         "lon": [
          153.6833
         ],
         "marker": {
          "color": "#FECB52",
          "size": [
           94
          ],
          "sizemode": "area",
          "sizeref": 2.0408163265306123,
          "symbol": "circle"
         },
         "mode": "markers",
         "name": "srednekolymsk",
         "showlegend": true,
         "type": "scattergeo"
        },
        {
         "geo": "geo",
         "hovertemplate": "City=deder<br>Humidity=%{marker.size}<br>Lat=%{lat}<br>Lng=%{lon}<extra></extra>",
         "lat": [
          9.3167
         ],
         "legendgroup": "deder",
         "lon": [
          41.45
         ],
         "marker": {
          "color": "#636efa",
          "size": [
           60
          ],
          "sizemode": "area",
          "sizeref": 2.0408163265306123,
          "symbol": "circle"
         },
         "mode": "markers",
         "name": "deder",
         "showlegend": true,
         "type": "scattergeo"
        },
        {
         "geo": "geo",
         "hovertemplate": "City=xinyu<br>Humidity=%{marker.size}<br>Lat=%{lat}<br>Lng=%{lon}<extra></extra>",
         "lat": [
          27.8043
         ],
         "legendgroup": "xinyu",
         "lon": [
          114.9334
         ],
         "marker": {
          "color": "#EF553B",
          "size": [
           42
          ],
          "sizemode": "area",
          "sizeref": 2.0408163265306123,
          "symbol": "circle"
         },
         "mode": "markers",
         "name": "xinyu",
         "showlegend": true,
         "type": "scattergeo"
        },
        {
         "geo": "geo",
         "hovertemplate": "City=marquette<br>Humidity=%{marker.size}<br>Lat=%{lat}<br>Lng=%{lon}<extra></extra>",
         "lat": [
          46.5333
         ],
         "legendgroup": "marquette",
         "lon": [
          -87.6335
         ],
         "marker": {
          "color": "#00cc96",
          "size": [
           87
          ],
          "sizemode": "area",
          "sizeref": 2.0408163265306123,
          "symbol": "circle"
         },
         "mode": "markers",
         "name": "marquette",
         "showlegend": true,
         "type": "scattergeo"
        },
        {
         "geo": "geo",
         "hovertemplate": "City=bathsheba<br>Humidity=%{marker.size}<br>Lat=%{lat}<br>Lng=%{lon}<extra></extra>",
         "lat": [
          13.2167
         ],
         "legendgroup": "bathsheba",
         "lon": [
          -59.5167
         ],
         "marker": {
          "color": "#ab63fa",
          "size": [
           83
          ],
          "sizemode": "area",
          "sizeref": 2.0408163265306123,
          "symbol": "circle"
         },
         "mode": "markers",
         "name": "bathsheba",
         "showlegend": true,
         "type": "scattergeo"
        },
        {
         "geo": "geo",
         "hovertemplate": "City=izhma<br>Humidity=%{marker.size}<br>Lat=%{lat}<br>Lng=%{lon}<extra></extra>",
         "lat": [
          65.0083
         ],
         "legendgroup": "izhma",
         "lon": [
          53.9113
         ],
         "marker": {
          "color": "#FFA15A",
          "size": [
           92
          ],
          "sizemode": "area",
          "sizeref": 2.0408163265306123,
          "symbol": "circle"
         },
         "mode": "markers",
         "name": "izhma",
         "showlegend": true,
         "type": "scattergeo"
        },
        {
         "geo": "geo",
         "hovertemplate": "City=noumea<br>Humidity=%{marker.size}<br>Lat=%{lat}<br>Lng=%{lon}<extra></extra>",
         "lat": [
          -22.2763
         ],
         "legendgroup": "noumea",
         "lon": [
          166.4572
         ],
         "marker": {
          "color": "#19d3f3",
          "size": [
           89
          ],
          "sizemode": "area",
          "sizeref": 2.0408163265306123,
          "symbol": "circle"
         },
         "mode": "markers",
         "name": "noumea",
         "showlegend": true,
         "type": "scattergeo"
        },
        {
         "geo": "geo",
         "hovertemplate": "City=los alamos<br>Humidity=%{marker.size}<br>Lat=%{lat}<br>Lng=%{lon}<extra></extra>",
         "lat": [
          35.8881
         ],
         "legendgroup": "los alamos",
         "lon": [
          -106.307
         ],
         "marker": {
          "color": "#FF6692",
          "size": [
           65
          ],
          "sizemode": "area",
          "sizeref": 2.0408163265306123,
          "symbol": "circle"
         },
         "mode": "markers",
         "name": "los alamos",
         "showlegend": true,
         "type": "scattergeo"
        },
        {
         "geo": "geo",
         "hovertemplate": "City=yagodnoye<br>Humidity=%{marker.size}<br>Lat=%{lat}<br>Lng=%{lon}<extra></extra>",
         "lat": [
          62.55
         ],
         "legendgroup": "yagodnoye",
         "lon": [
          149.6667
         ],
         "marker": {
          "color": "#B6E880",
          "size": [
           98
          ],
          "sizemode": "area",
          "sizeref": 2.0408163265306123,
          "symbol": "circle"
         },
         "mode": "markers",
         "name": "yagodnoye",
         "showlegend": true,
         "type": "scattergeo"
        },
        {
         "geo": "geo",
         "hovertemplate": "City=hovd<br>Humidity=%{marker.size}<br>Lat=%{lat}<br>Lng=%{lon}<extra></extra>",
         "lat": [
          48.0056
         ],
         "legendgroup": "hovd",
         "lon": [
          91.6419
         ],
         "marker": {
          "color": "#FF97FF",
          "size": [
           65
          ],
          "sizemode": "area",
          "sizeref": 2.0408163265306123,
          "symbol": "circle"
         },
         "mode": "markers",
         "name": "hovd",
         "showlegend": true,
         "type": "scattergeo"
        },
        {
         "geo": "geo",
         "hovertemplate": "City=ordu<br>Humidity=%{marker.size}<br>Lat=%{lat}<br>Lng=%{lon}<extra></extra>",
         "lat": [
          40.9086
         ],
         "legendgroup": "ordu",
         "lon": [
          37.6845
         ],
         "marker": {
          "color": "#FECB52",
          "size": [
           93
          ],
          "sizemode": "area",
          "sizeref": 2.0408163265306123,
          "symbol": "circle"
         },
         "mode": "markers",
         "name": "ordu",
         "showlegend": true,
         "type": "scattergeo"
        },
        {
         "geo": "geo",
         "hovertemplate": "City=lasa<br>Humidity=%{marker.size}<br>Lat=%{lat}<br>Lng=%{lon}<extra></extra>",
         "lat": [
          46.6166
         ],
         "legendgroup": "lasa",
         "lon": [
          10.7002
         ],
         "marker": {
          "color": "#636efa",
          "size": [
           95
          ],
          "sizemode": "area",
          "sizeref": 2.0408163265306123,
          "symbol": "circle"
         },
         "mode": "markers",
         "name": "lasa",
         "showlegend": true,
         "type": "scattergeo"
        },
        {
         "geo": "geo",
         "hovertemplate": "City=buenos aires<br>Humidity=%{marker.size}<br>Lat=%{lat}<br>Lng=%{lon}<extra></extra>",
         "lat": [
          -34.6132
         ],
         "legendgroup": "buenos aires",
         "lon": [
          -58.3772
         ],
         "marker": {
          "color": "#EF553B",
          "size": [
           57
          ],
          "sizemode": "area",
          "sizeref": 2.0408163265306123,
          "symbol": "circle"
         },
         "mode": "markers",
         "name": "buenos aires",
         "showlegend": true,
         "type": "scattergeo"
        },
        {
         "geo": "geo",
         "hovertemplate": "City=konakovo<br>Humidity=%{marker.size}<br>Lat=%{lat}<br>Lng=%{lon}<extra></extra>",
         "lat": [
          56.7
         ],
         "legendgroup": "konakovo",
         "lon": [
          36.7667
         ],
         "marker": {
          "color": "#00cc96",
          "size": [
           93
          ],
          "sizemode": "area",
          "sizeref": 2.0408163265306123,
          "symbol": "circle"
         },
         "mode": "markers",
         "name": "konakovo",
         "showlegend": true,
         "type": "scattergeo"
        },
        {
         "geo": "geo",
         "hovertemplate": "City=urumqi<br>Humidity=%{marker.size}<br>Lat=%{lat}<br>Lng=%{lon}<extra></extra>",
         "lat": [
          43.801
         ],
         "legendgroup": "urumqi",
         "lon": [
          87.6005
         ],
         "marker": {
          "color": "#ab63fa",
          "size": [
           84
          ],
          "sizemode": "area",
          "sizeref": 2.0408163265306123,
          "symbol": "circle"
         },
         "mode": "markers",
         "name": "urumqi",
         "showlegend": true,
         "type": "scattergeo"
        },
        {
         "geo": "geo",
         "hovertemplate": "City=phek<br>Humidity=%{marker.size}<br>Lat=%{lat}<br>Lng=%{lon}<extra></extra>",
         "lat": [
          25.6667
         ],
         "legendgroup": "phek",
         "lon": [
          94.5
         ],
         "marker": {
          "color": "#FFA15A",
          "size": [
           37
          ],
          "sizemode": "area",
          "sizeref": 2.0408163265306123,
          "symbol": "circle"
         },
         "mode": "markers",
         "name": "phek",
         "showlegend": true,
         "type": "scattergeo"
        },
        {
         "geo": "geo",
         "hovertemplate": "City=maniwaki<br>Humidity=%{marker.size}<br>Lat=%{lat}<br>Lng=%{lon}<extra></extra>",
         "lat": [
          46.3834
         ],
         "legendgroup": "maniwaki",
         "lon": [
          -75.96600000000001
         ],
         "marker": {
          "color": "#19d3f3",
          "size": [
           80
          ],
          "sizemode": "area",
          "sizeref": 2.0408163265306123,
          "symbol": "circle"
         },
         "mode": "markers",
         "name": "maniwaki",
         "showlegend": true,
         "type": "scattergeo"
        },
        {
         "geo": "geo",
         "hovertemplate": "City=palmer<br>Humidity=%{marker.size}<br>Lat=%{lat}<br>Lng=%{lon}<extra></extra>",
         "lat": [
          42.1584
         ],
         "legendgroup": "palmer",
         "lon": [
          -72.3287
         ],
         "marker": {
          "color": "#FF6692",
          "size": [
           83
          ],
          "sizemode": "area",
          "sizeref": 2.0408163265306123,
          "symbol": "circle"
         },
         "mode": "markers",
         "name": "palmer",
         "showlegend": true,
         "type": "scattergeo"
        },
        {
         "geo": "geo",
         "hovertemplate": "City=saint-francois<br>Humidity=%{marker.size}<br>Lat=%{lat}<br>Lng=%{lon}<extra></extra>",
         "lat": [
          46.4154
         ],
         "legendgroup": "saint-francois",
         "lon": [
          3.9054
         ],
         "marker": {
          "color": "#B6E880",
          "size": [
           87
          ],
          "sizemode": "area",
          "sizeref": 2.0408163265306123,
          "symbol": "circle"
         },
         "mode": "markers",
         "name": "saint-francois",
         "showlegend": true,
         "type": "scattergeo"
        },
        {
         "geo": "geo",
         "hovertemplate": "City=gambela<br>Humidity=%{marker.size}<br>Lat=%{lat}<br>Lng=%{lon}<extra></extra>",
         "lat": [
          8.25
         ],
         "legendgroup": "gambela",
         "lon": [
          34.5833
         ],
         "marker": {
          "color": "#FF97FF",
          "size": [
           36
          ],
          "sizemode": "area",
          "sizeref": 2.0408163265306123,
          "symbol": "circle"
         },
         "mode": "markers",
         "name": "gambela",
         "showlegend": true,
         "type": "scattergeo"
        },
        {
         "geo": "geo",
         "hovertemplate": "City=plouzane<br>Humidity=%{marker.size}<br>Lat=%{lat}<br>Lng=%{lon}<extra></extra>",
         "lat": [
          48.3833
         ],
         "legendgroup": "plouzane",
         "lon": [
          -4.6167
         ],
         "marker": {
          "color": "#FECB52",
          "size": [
           81
          ],
          "sizemode": "area",
          "sizeref": 2.0408163265306123,
          "symbol": "circle"
         },
         "mode": "markers",
         "name": "plouzane",
         "showlegend": true,
         "type": "scattergeo"
        },
        {
         "geo": "geo",
         "hovertemplate": "City=arman<br>Humidity=%{marker.size}<br>Lat=%{lat}<br>Lng=%{lon}<extra></extra>",
         "lat": [
          59.7
         ],
         "legendgroup": "arman",
         "lon": [
          150.1667
         ],
         "marker": {
          "color": "#636efa",
          "size": [
           80
          ],
          "sizemode": "area",
          "sizeref": 2.0408163265306123,
          "symbol": "circle"
         },
         "mode": "markers",
         "name": "arman",
         "showlegend": true,
         "type": "scattergeo"
        },
        {
         "geo": "geo",
         "hovertemplate": "City=palenque<br>Humidity=%{marker.size}<br>Lat=%{lat}<br>Lng=%{lon}<extra></extra>",
         "lat": [
          17.5167
         ],
         "legendgroup": "palenque",
         "lon": [
          -91.9667
         ],
         "marker": {
          "color": "#EF553B",
          "size": [
           91
          ],
          "sizemode": "area",
          "sizeref": 2.0408163265306123,
          "symbol": "circle"
         },
         "mode": "markers",
         "name": "palenque",
         "showlegend": true,
         "type": "scattergeo"
        },
        {
         "geo": "geo",
         "hovertemplate": "City=la peca<br>Humidity=%{marker.size}<br>Lat=%{lat}<br>Lng=%{lon}<extra></extra>",
         "lat": [
          -5.6111
         ],
         "legendgroup": "la peca",
         "lon": [
          -78.435
         ],
         "marker": {
          "color": "#00cc96",
          "size": [
           84
          ],
          "sizemode": "area",
          "sizeref": 2.0408163265306123,
          "symbol": "circle"
         },
         "mode": "markers",
         "name": "la peca",
         "showlegend": true,
         "type": "scattergeo"
        },
        {
         "geo": "geo",
         "hovertemplate": "City=nelson bay<br>Humidity=%{marker.size}<br>Lat=%{lat}<br>Lng=%{lon}<extra></extra>",
         "lat": [
          -32.7167
         ],
         "legendgroup": "nelson bay",
         "lon": [
          152.15
         ],
         "marker": {
          "color": "#ab63fa",
          "size": [
           74
          ],
          "sizemode": "area",
          "sizeref": 2.0408163265306123,
          "symbol": "circle"
         },
         "mode": "markers",
         "name": "nelson bay",
         "showlegend": true,
         "type": "scattergeo"
        },
        {
         "geo": "geo",
         "hovertemplate": "City=corrente<br>Humidity=%{marker.size}<br>Lat=%{lat}<br>Lng=%{lon}<extra></extra>",
         "lat": [
          -3.7367
         ],
         "legendgroup": "corrente",
         "lon": [
          -43.3394
         ],
         "marker": {
          "color": "#FFA15A",
          "size": [
           99
          ],
          "sizemode": "area",
          "sizeref": 2.0408163265306123,
          "symbol": "circle"
         },
         "mode": "markers",
         "name": "corrente",
         "showlegend": true,
         "type": "scattergeo"
        },
        {
         "geo": "geo",
         "hovertemplate": "City=karpogory<br>Humidity=%{marker.size}<br>Lat=%{lat}<br>Lng=%{lon}<extra></extra>",
         "lat": [
          64.0019
         ],
         "legendgroup": "karpogory",
         "lon": [
          44.4451
         ],
         "marker": {
          "color": "#19d3f3",
          "size": [
           92
          ],
          "sizemode": "area",
          "sizeref": 2.0408163265306123,
          "symbol": "circle"
         },
         "mode": "markers",
         "name": "karpogory",
         "showlegend": true,
         "type": "scattergeo"
        },
        {
         "geo": "geo",
         "hovertemplate": "City=ladovskaya balka<br>Humidity=%{marker.size}<br>Lat=%{lat}<br>Lng=%{lon}<extra></extra>",
         "lat": [
          45.6297
         ],
         "legendgroup": "ladovskaya balka",
         "lon": [
          41.4023
         ],
         "marker": {
          "color": "#FF6692",
          "size": [
           76
          ],
          "sizemode": "area",
          "sizeref": 2.0408163265306123,
          "symbol": "circle"
         },
         "mode": "markers",
         "name": "ladovskaya balka",
         "showlegend": true,
         "type": "scattergeo"
        },
        {
         "geo": "geo",
         "hovertemplate": "City=batticaloa<br>Humidity=%{marker.size}<br>Lat=%{lat}<br>Lng=%{lon}<extra></extra>",
         "lat": [
          7.7102
         ],
         "legendgroup": "batticaloa",
         "lon": [
          81.6924
         ],
         "marker": {
          "color": "#B6E880",
          "size": [
           76
          ],
          "sizemode": "area",
          "sizeref": 2.0408163265306123,
          "symbol": "circle"
         },
         "mode": "markers",
         "name": "batticaloa",
         "showlegend": true,
         "type": "scattergeo"
        },
        {
         "geo": "geo",
         "hovertemplate": "City=kongsberg<br>Humidity=%{marker.size}<br>Lat=%{lat}<br>Lng=%{lon}<extra></extra>",
         "lat": [
          59.6652
         ],
         "legendgroup": "kongsberg",
         "lon": [
          9.6465
         ],
         "marker": {
          "color": "#FF97FF",
          "size": [
           7
          ],
          "sizemode": "area",
          "sizeref": 2.0408163265306123,
          "symbol": "circle"
         },
         "mode": "markers",
         "name": "kongsberg",
         "showlegend": true,
         "type": "scattergeo"
        },
        {
         "geo": "geo",
         "hovertemplate": "City=beisfjord<br>Humidity=%{marker.size}<br>Lat=%{lat}<br>Lng=%{lon}<extra></extra>",
         "lat": [
          68.3751
         ],
         "legendgroup": "beisfjord",
         "lon": [
          17.5988
         ],
         "marker": {
          "color": "#FECB52",
          "size": [
           91
          ],
          "sizemode": "area",
          "sizeref": 2.0408163265306123,
          "symbol": "circle"
         },
         "mode": "markers",
         "name": "beisfjord",
         "showlegend": true,
         "type": "scattergeo"
        },
        {
         "geo": "geo",
         "hovertemplate": "City=hit<br>Humidity=%{marker.size}<br>Lat=%{lat}<br>Lng=%{lon}<extra></extra>",
         "lat": [
          33.6416
         ],
         "legendgroup": "hit",
         "lon": [
          42.8251
         ],
         "marker": {
          "color": "#636efa",
          "size": [
           44
          ],
          "sizemode": "area",
          "sizeref": 2.0408163265306123,
          "symbol": "circle"
         },
         "mode": "markers",
         "name": "hit",
         "showlegend": true,
         "type": "scattergeo"
        },
        {
         "geo": "geo",
         "hovertemplate": "City=mendoza<br>Humidity=%{marker.size}<br>Lat=%{lat}<br>Lng=%{lon}<extra></extra>",
         "lat": [
          -32.8908
         ],
         "legendgroup": "mendoza",
         "lon": [
          -68.8272
         ],
         "marker": {
          "color": "#EF553B",
          "size": [
           54
          ],
          "sizemode": "area",
          "sizeref": 2.0408163265306123,
          "symbol": "circle"
         },
         "mode": "markers",
         "name": "mendoza",
         "showlegend": true,
         "type": "scattergeo"
        },
        {
         "geo": "geo",
         "hovertemplate": "City=high level<br>Humidity=%{marker.size}<br>Lat=%{lat}<br>Lng=%{lon}<extra></extra>",
         "lat": [
          58.5169
         ],
         "legendgroup": "high level",
         "lon": [
          -117.13600000000001
         ],
         "marker": {
          "color": "#00cc96",
          "size": [
           92
          ],
          "sizemode": "area",
          "sizeref": 2.0408163265306123,
          "symbol": "circle"
         },
         "mode": "markers",
         "name": "high level",
         "showlegend": true,
         "type": "scattergeo"
        },
        {
         "geo": "geo",
         "hovertemplate": "City=ekhabi<br>Humidity=%{marker.size}<br>Lat=%{lat}<br>Lng=%{lon}<extra></extra>",
         "lat": [
          53.5102
         ],
         "legendgroup": "ekhabi",
         "lon": [
          142.9671
         ],
         "marker": {
          "color": "#ab63fa",
          "size": [
           94
          ],
          "sizemode": "area",
          "sizeref": 2.0408163265306123,
          "symbol": "circle"
         },
         "mode": "markers",
         "name": "ekhabi",
         "showlegend": true,
         "type": "scattergeo"
        },
        {
         "geo": "geo",
         "hovertemplate": "City=itarema<br>Humidity=%{marker.size}<br>Lat=%{lat}<br>Lng=%{lon}<extra></extra>",
         "lat": [
          -2.9248
         ],
         "legendgroup": "itarema",
         "lon": [
          -39.9167
         ],
         "marker": {
          "color": "#FFA15A",
          "size": [
           85
          ],
          "sizemode": "area",
          "sizeref": 2.0408163265306123,
          "symbol": "circle"
         },
         "mode": "markers",
         "name": "itarema",
         "showlegend": true,
         "type": "scattergeo"
        },
        {
         "geo": "geo",
         "hovertemplate": "City=vardo<br>Humidity=%{marker.size}<br>Lat=%{lat}<br>Lng=%{lon}<extra></extra>",
         "lat": [
          70.3705
         ],
         "legendgroup": "vardo",
         "lon": [
          31.1107
         ],
         "marker": {
          "color": "#19d3f3",
          "size": [
           80
          ],
          "sizemode": "area",
          "sizeref": 2.0408163265306123,
          "symbol": "circle"
         },
         "mode": "markers",
         "name": "vardo",
         "showlegend": true,
         "type": "scattergeo"
        },
        {
         "geo": "geo",
         "hovertemplate": "City=huarmey<br>Humidity=%{marker.size}<br>Lat=%{lat}<br>Lng=%{lon}<extra></extra>",
         "lat": [
          -10.0681
         ],
         "legendgroup": "huarmey",
         "lon": [
          -78.1522
         ],
         "marker": {
          "color": "#FF6692",
          "size": [
           80
          ],
          "sizemode": "area",
          "sizeref": 2.0408163265306123,
          "symbol": "circle"
         },
         "mode": "markers",
         "name": "huarmey",
         "showlegend": true,
         "type": "scattergeo"
        },
        {
         "geo": "geo",
         "hovertemplate": "City=cayeli<br>Humidity=%{marker.size}<br>Lat=%{lat}<br>Lng=%{lon}<extra></extra>",
         "lat": [
          41.0923
         ],
         "legendgroup": "cayeli",
         "lon": [
          40.7292
         ],
         "marker": {
          "color": "#B6E880",
          "size": [
           86
          ],
          "sizemode": "area",
          "sizeref": 2.0408163265306123,
          "symbol": "circle"
         },
         "mode": "markers",
         "name": "cayeli",
         "showlegend": true,
         "type": "scattergeo"
        },
        {
         "geo": "geo",
         "hovertemplate": "City=bubaque<br>Humidity=%{marker.size}<br>Lat=%{lat}<br>Lng=%{lon}<extra></extra>",
         "lat": [
          11.2833
         ],
         "legendgroup": "bubaque",
         "lon": [
          -15.8333
         ],
         "marker": {
          "color": "#FF97FF",
          "size": [
           78
          ],
          "sizemode": "area",
          "sizeref": 2.0408163265306123,
          "symbol": "circle"
         },
         "mode": "markers",
         "name": "bubaque",
         "showlegend": true,
         "type": "scattergeo"
        },
        {
         "geo": "geo",
         "hovertemplate": "City=deputatskiy<br>Humidity=%{marker.size}<br>Lat=%{lat}<br>Lng=%{lon}<extra></extra>",
         "lat": [
          69.3
         ],
         "legendgroup": "deputatskiy",
         "lon": [
          139.9
         ],
         "marker": {
          "color": "#FECB52",
          "size": [
           100
          ],
          "sizemode": "area",
          "sizeref": 2.0408163265306123,
          "symbol": "circle"
         },
         "mode": "markers",
         "name": "deputatskiy",
         "showlegend": true,
         "type": "scattergeo"
        },
        {
         "geo": "geo",
         "hovertemplate": "City=mount gambier<br>Humidity=%{marker.size}<br>Lat=%{lat}<br>Lng=%{lon}<extra></extra>",
         "lat": [
          -37.8333
         ],
         "legendgroup": "mount gambier",
         "lon": [
          140.7667
         ],
         "marker": {
          "color": "#636efa",
          "size": [
           45
          ],
          "sizemode": "area",
          "sizeref": 2.0408163265306123,
          "symbol": "circle"
         },
         "mode": "markers",
         "name": "mount gambier",
         "showlegend": true,
         "type": "scattergeo"
        },
        {
         "geo": "geo",
         "hovertemplate": "City=khudumelapye<br>Humidity=%{marker.size}<br>Lat=%{lat}<br>Lng=%{lon}<extra></extra>",
         "lat": [
          -23.8833
         ],
         "legendgroup": "khudumelapye",
         "lon": [
          24.75
         ],
         "marker": {
          "color": "#EF553B",
          "size": [
           67
          ],
          "sizemode": "area",
          "sizeref": 2.0408163265306123,
          "symbol": "circle"
         },
         "mode": "markers",
         "name": "khudumelapye",
         "showlegend": true,
         "type": "scattergeo"
        },
        {
         "geo": "geo",
         "hovertemplate": "City=sfantu gheorghe<br>Humidity=%{marker.size}<br>Lat=%{lat}<br>Lng=%{lon}<extra></extra>",
         "lat": [
          45.8667
         ],
         "legendgroup": "sfantu gheorghe",
         "lon": [
          25.7833
         ],
         "marker": {
          "color": "#00cc96",
          "size": [
           86
          ],
          "sizemode": "area",
          "sizeref": 2.0408163265306123,
          "symbol": "circle"
         },
         "mode": "markers",
         "name": "sfantu gheorghe",
         "showlegend": true,
         "type": "scattergeo"
        },
        {
         "geo": "geo",
         "hovertemplate": "City=mahon<br>Humidity=%{marker.size}<br>Lat=%{lat}<br>Lng=%{lon}<extra></extra>",
         "lat": [
          39.8885
         ],
         "legendgroup": "mahon",
         "lon": [
          4.2658
         ],
         "marker": {
          "color": "#ab63fa",
          "size": [
           81
          ],
          "sizemode": "area",
          "sizeref": 2.0408163265306123,
          "symbol": "circle"
         },
         "mode": "markers",
         "name": "mahon",
         "showlegend": true,
         "type": "scattergeo"
        },
        {
         "geo": "geo",
         "hovertemplate": "City=umm lajj<br>Humidity=%{marker.size}<br>Lat=%{lat}<br>Lng=%{lon}<extra></extra>",
         "lat": [
          25.0213
         ],
         "legendgroup": "umm lajj",
         "lon": [
          37.2685
         ],
         "marker": {
          "color": "#FFA15A",
          "size": [
           67
          ],
          "sizemode": "area",
          "sizeref": 2.0408163265306123,
          "symbol": "circle"
         },
         "mode": "markers",
         "name": "umm lajj",
         "showlegend": true,
         "type": "scattergeo"
        },
        {
         "geo": "geo",
         "hovertemplate": "City=tay ninh<br>Humidity=%{marker.size}<br>Lat=%{lat}<br>Lng=%{lon}<extra></extra>",
         "lat": [
          11.3
         ],
         "legendgroup": "tay ninh",
         "lon": [
          106.1
         ],
         "marker": {
          "color": "#19d3f3",
          "size": [
           51
          ],
          "sizemode": "area",
          "sizeref": 2.0408163265306123,
          "symbol": "circle"
         },
         "mode": "markers",
         "name": "tay ninh",
         "showlegend": true,
         "type": "scattergeo"
        },
        {
         "geo": "geo",
         "hovertemplate": "City=kaliua<br>Humidity=%{marker.size}<br>Lat=%{lat}<br>Lng=%{lon}<extra></extra>",
         "lat": [
          -5.0606
         ],
         "legendgroup": "kaliua",
         "lon": [
          31.7936
         ],
         "marker": {
          "color": "#FF6692",
          "size": [
           95
          ],
          "sizemode": "area",
          "sizeref": 2.0408163265306123,
          "symbol": "circle"
         },
         "mode": "markers",
         "name": "kaliua",
         "showlegend": true,
         "type": "scattergeo"
        },
        {
         "geo": "geo",
         "hovertemplate": "City=tual<br>Humidity=%{marker.size}<br>Lat=%{lat}<br>Lng=%{lon}<extra></extra>",
         "lat": [
          -5.6667
         ],
         "legendgroup": "tual",
         "lon": [
          132.75
         ],
         "marker": {
          "color": "#B6E880",
          "size": [
           74
          ],
          "sizemode": "area",
          "sizeref": 2.0408163265306123,
          "symbol": "circle"
         },
         "mode": "markers",
         "name": "tual",
         "showlegend": true,
         "type": "scattergeo"
        },
        {
         "geo": "geo",
         "hovertemplate": "City=bone<br>Humidity=%{marker.size}<br>Lat=%{lat}<br>Lng=%{lon}<extra></extra>",
         "lat": [
          51.9669
         ],
         "legendgroup": "bone",
         "lon": [
          12.1396
         ],
         "marker": {
          "color": "#FF97FF",
          "size": [
           90
          ],
          "sizemode": "area",
          "sizeref": 2.0408163265306123,
          "symbol": "circle"
         },
         "mode": "markers",
         "name": "bone",
         "showlegend": true,
         "type": "scattergeo"
        },
        {
         "geo": "geo",
         "hovertemplate": "City=okmulgee<br>Humidity=%{marker.size}<br>Lat=%{lat}<br>Lng=%{lon}<extra></extra>",
         "lat": [
          35.6234
         ],
         "legendgroup": "okmulgee",
         "lon": [
          -95.9605
         ],
         "marker": {
          "color": "#FECB52",
          "size": [
           80
          ],
          "sizemode": "area",
          "sizeref": 2.0408163265306123,
          "symbol": "circle"
         },
         "mode": "markers",
         "name": "okmulgee",
         "showlegend": true,
         "type": "scattergeo"
        },
        {
         "geo": "geo",
         "hovertemplate": "City=walvis bay<br>Humidity=%{marker.size}<br>Lat=%{lat}<br>Lng=%{lon}<extra></extra>",
         "lat": [
          -22.9575
         ],
         "legendgroup": "walvis bay",
         "lon": [
          14.5053
         ],
         "marker": {
          "color": "#636efa",
          "size": [
           85
          ],
          "sizemode": "area",
          "sizeref": 2.0408163265306123,
          "symbol": "circle"
         },
         "mode": "markers",
         "name": "walvis bay",
         "showlegend": true,
         "type": "scattergeo"
        },
        {
         "geo": "geo",
         "hovertemplate": "City=lixourion<br>Humidity=%{marker.size}<br>Lat=%{lat}<br>Lng=%{lon}<extra></extra>",
         "lat": [
          38.2019
         ],
         "legendgroup": "lixourion",
         "lon": [
          20.4314
         ],
         "marker": {
          "color": "#EF553B",
          "size": [
           81
          ],
          "sizemode": "area",
          "sizeref": 2.0408163265306123,
          "symbol": "circle"
         },
         "mode": "markers",
         "name": "lixourion",
         "showlegend": true,
         "type": "scattergeo"
        },
        {
         "geo": "geo",
         "hovertemplate": "City=la ronge<br>Humidity=%{marker.size}<br>Lat=%{lat}<br>Lng=%{lon}<extra></extra>",
         "lat": [
          55.1001
         ],
         "legendgroup": "la ronge",
         "lon": [
          -105.2842
         ],
         "marker": {
          "color": "#00cc96",
          "size": [
           78
          ],
          "sizemode": "area",
          "sizeref": 2.0408163265306123,
          "symbol": "circle"
         },
         "mode": "markers",
         "name": "la ronge",
         "showlegend": true,
         "type": "scattergeo"
        },
        {
         "geo": "geo",
         "hovertemplate": "City=coquimbo<br>Humidity=%{marker.size}<br>Lat=%{lat}<br>Lng=%{lon}<extra></extra>",
         "lat": [
          -29.9533
         ],
         "legendgroup": "coquimbo",
         "lon": [
          -71.3436
         ],
         "marker": {
          "color": "#ab63fa",
          "size": [
           94
          ],
          "sizemode": "area",
          "sizeref": 2.0408163265306123,
          "symbol": "circle"
         },
         "mode": "markers",
         "name": "coquimbo",
         "showlegend": true,
         "type": "scattergeo"
        },
        {
         "geo": "geo",
         "hovertemplate": "City=grand-lahou<br>Humidity=%{marker.size}<br>Lat=%{lat}<br>Lng=%{lon}<extra></extra>",
         "lat": [
          5.1367
         ],
         "legendgroup": "grand-lahou",
         "lon": [
          -5.0242
         ],
         "marker": {
          "color": "#FFA15A",
          "size": [
           90
          ],
          "sizemode": "area",
          "sizeref": 2.0408163265306123,
          "symbol": "circle"
         },
         "mode": "markers",
         "name": "grand-lahou",
         "showlegend": true,
         "type": "scattergeo"
        },
        {
         "geo": "geo",
         "hovertemplate": "City=churapcha<br>Humidity=%{marker.size}<br>Lat=%{lat}<br>Lng=%{lon}<extra></extra>",
         "lat": [
          62.0025
         ],
         "legendgroup": "churapcha",
         "lon": [
          132.4325
         ],
         "marker": {
          "color": "#19d3f3",
          "size": [
           91
          ],
          "sizemode": "area",
          "sizeref": 2.0408163265306123,
          "symbol": "circle"
         },
         "mode": "markers",
         "name": "churapcha",
         "showlegend": true,
         "type": "scattergeo"
        },
        {
         "geo": "geo",
         "hovertemplate": "City=mancio lima<br>Humidity=%{marker.size}<br>Lat=%{lat}<br>Lng=%{lon}<extra></extra>",
         "lat": [
          -7.6142
         ],
         "legendgroup": "mancio lima",
         "lon": [
          -72.8958
         ],
         "marker": {
          "color": "#FF6692",
          "size": [
           94
          ],
          "sizemode": "area",
          "sizeref": 2.0408163265306123,
          "symbol": "circle"
         },
         "mode": "markers",
         "name": "mancio lima",
         "showlegend": true,
         "type": "scattergeo"
        },
        {
         "geo": "geo",
         "hovertemplate": "City=thaba-tseka<br>Humidity=%{marker.size}<br>Lat=%{lat}<br>Lng=%{lon}<extra></extra>",
         "lat": [
          -29.522
         ],
         "legendgroup": "thaba-tseka",
         "lon": [
          28.6084
         ],
         "marker": {
          "color": "#B6E880",
          "size": [
           56
          ],
          "sizemode": "area",
          "sizeref": 2.0408163265306123,
          "symbol": "circle"
         },
         "mode": "markers",
         "name": "thaba-tseka",
         "showlegend": true,
         "type": "scattergeo"
        },
        {
         "geo": "geo",
         "hovertemplate": "City=zeya<br>Humidity=%{marker.size}<br>Lat=%{lat}<br>Lng=%{lon}<extra></extra>",
         "lat": [
          53.75
         ],
         "legendgroup": "zeya",
         "lon": [
          127.2667
         ],
         "marker": {
          "color": "#FF97FF",
          "size": [
           72
          ],
          "sizemode": "area",
          "sizeref": 2.0408163265306123,
          "symbol": "circle"
         },
         "mode": "markers",
         "name": "zeya",
         "showlegend": true,
         "type": "scattergeo"
        },
        {
         "geo": "geo",
         "hovertemplate": "City=lincoln<br>Humidity=%{marker.size}<br>Lat=%{lat}<br>Lng=%{lon}<extra></extra>",
         "lat": [
          40.8
         ],
         "legendgroup": "lincoln",
         "lon": [
          -96.667
         ],
         "marker": {
          "color": "#FECB52",
          "size": [
           89
          ],
          "sizemode": "area",
          "sizeref": 2.0408163265306123,
          "symbol": "circle"
         },
         "mode": "markers",
         "name": "lincoln",
         "showlegend": true,
         "type": "scattergeo"
        },
        {
         "geo": "geo",
         "hovertemplate": "City=gat<br>Humidity=%{marker.size}<br>Lat=%{lat}<br>Lng=%{lon}<extra></extra>",
         "lat": [
          31.61
         ],
         "legendgroup": "gat",
         "lon": [
          34.7642
         ],
         "marker": {
          "color": "#636efa",
          "size": [
           100
          ],
          "sizemode": "area",
          "sizeref": 2.0408163265306123,
          "symbol": "circle"
         },
         "mode": "markers",
         "name": "gat",
         "showlegend": true,
         "type": "scattergeo"
        }
       ],
       "layout": {
        "geo": {
         "center": {},
         "domain": {
          "x": [
           0,
           1
          ],
          "y": [
           0,
           1
          ]
         }
        },
        "legend": {
         "itemsizing": "constant",
         "title": {
          "text": "City"
         },
         "tracegroupgap": 0
        },
        "margin": {
         "t": 60
        },
        "template": {
         "data": {
          "bar": [
           {
            "error_x": {
             "color": "#2a3f5f"
            },
            "error_y": {
             "color": "#2a3f5f"
            },
            "marker": {
             "line": {
              "color": "#E5ECF6",
              "width": 0.5
             },
             "pattern": {
              "fillmode": "overlay",
              "size": 10,
              "solidity": 0.2
             }
            },
            "type": "bar"
           }
          ],
          "barpolar": [
           {
            "marker": {
             "line": {
              "color": "#E5ECF6",
              "width": 0.5
             },
             "pattern": {
              "fillmode": "overlay",
              "size": 10,
              "solidity": 0.2
             }
            },
            "type": "barpolar"
           }
          ],
          "carpet": [
           {
            "aaxis": {
             "endlinecolor": "#2a3f5f",
             "gridcolor": "white",
             "linecolor": "white",
             "minorgridcolor": "white",
             "startlinecolor": "#2a3f5f"
            },
            "baxis": {
             "endlinecolor": "#2a3f5f",
             "gridcolor": "white",
             "linecolor": "white",
             "minorgridcolor": "white",
             "startlinecolor": "#2a3f5f"
            },
            "type": "carpet"
           }
          ],
          "choropleth": [
           {
            "colorbar": {
             "outlinewidth": 0,
             "ticks": ""
            },
            "type": "choropleth"
           }
          ],
          "contour": [
           {
            "colorbar": {
             "outlinewidth": 0,
             "ticks": ""
            },
            "colorscale": [
             [
              0,
              "#0d0887"
             ],
             [
              0.1111111111111111,
              "#46039f"
             ],
             [
              0.2222222222222222,
              "#7201a8"
             ],
             [
              0.3333333333333333,
              "#9c179e"
             ],
             [
              0.4444444444444444,
              "#bd3786"
             ],
             [
              0.5555555555555556,
              "#d8576b"
             ],
             [
              0.6666666666666666,
              "#ed7953"
             ],
             [
              0.7777777777777778,
              "#fb9f3a"
             ],
             [
              0.8888888888888888,
              "#fdca26"
             ],
             [
              1,
              "#f0f921"
             ]
            ],
            "type": "contour"
           }
          ],
          "contourcarpet": [
           {
            "colorbar": {
             "outlinewidth": 0,
             "ticks": ""
            },
            "type": "contourcarpet"
           }
          ],
          "heatmap": [
           {
            "colorbar": {
             "outlinewidth": 0,
             "ticks": ""
            },
            "colorscale": [
             [
              0,
              "#0d0887"
             ],
             [
              0.1111111111111111,
              "#46039f"
             ],
             [
              0.2222222222222222,
              "#7201a8"
             ],
             [
              0.3333333333333333,
              "#9c179e"
             ],
             [
              0.4444444444444444,
              "#bd3786"
             ],
             [
              0.5555555555555556,
              "#d8576b"
             ],
             [
              0.6666666666666666,
              "#ed7953"
             ],
             [
              0.7777777777777778,
              "#fb9f3a"
             ],
             [
              0.8888888888888888,
              "#fdca26"
             ],
             [
              1,
              "#f0f921"
             ]
            ],
            "type": "heatmap"
           }
          ],
          "heatmapgl": [
           {
            "colorbar": {
             "outlinewidth": 0,
             "ticks": ""
            },
            "colorscale": [
             [
              0,
              "#0d0887"
             ],
             [
              0.1111111111111111,
              "#46039f"
             ],
             [
              0.2222222222222222,
              "#7201a8"
             ],
             [
              0.3333333333333333,
              "#9c179e"
             ],
             [
              0.4444444444444444,
              "#bd3786"
             ],
             [
              0.5555555555555556,
              "#d8576b"
             ],
             [
              0.6666666666666666,
              "#ed7953"
             ],
             [
              0.7777777777777778,
              "#fb9f3a"
             ],
             [
              0.8888888888888888,
              "#fdca26"
             ],
             [
              1,
              "#f0f921"
             ]
            ],
            "type": "heatmapgl"
           }
          ],
          "histogram": [
           {
            "marker": {
             "pattern": {
              "fillmode": "overlay",
              "size": 10,
              "solidity": 0.2
             }
            },
            "type": "histogram"
           }
          ],
          "histogram2d": [
           {
            "colorbar": {
             "outlinewidth": 0,
             "ticks": ""
            },
            "colorscale": [
             [
              0,
              "#0d0887"
             ],
             [
              0.1111111111111111,
              "#46039f"
             ],
             [
              0.2222222222222222,
              "#7201a8"
             ],
             [
              0.3333333333333333,
              "#9c179e"
             ],
             [
              0.4444444444444444,
              "#bd3786"
             ],
             [
              0.5555555555555556,
              "#d8576b"
             ],
             [
              0.6666666666666666,
              "#ed7953"
             ],
             [
              0.7777777777777778,
              "#fb9f3a"
             ],
             [
              0.8888888888888888,
              "#fdca26"
             ],
             [
              1,
              "#f0f921"
             ]
            ],
            "type": "histogram2d"
           }
          ],
          "histogram2dcontour": [
           {
            "colorbar": {
             "outlinewidth": 0,
             "ticks": ""
            },
            "colorscale": [
             [
              0,
              "#0d0887"
             ],
             [
              0.1111111111111111,
              "#46039f"
             ],
             [
              0.2222222222222222,
              "#7201a8"
             ],
             [
              0.3333333333333333,
              "#9c179e"
             ],
             [
              0.4444444444444444,
              "#bd3786"
             ],
             [
              0.5555555555555556,
              "#d8576b"
             ],
             [
              0.6666666666666666,
              "#ed7953"
             ],
             [
              0.7777777777777778,
              "#fb9f3a"
             ],
             [
              0.8888888888888888,
              "#fdca26"
             ],
             [
              1,
              "#f0f921"
             ]
            ],
            "type": "histogram2dcontour"
           }
          ],
          "mesh3d": [
           {
            "colorbar": {
             "outlinewidth": 0,
             "ticks": ""
            },
            "type": "mesh3d"
           }
          ],
          "parcoords": [
           {
            "line": {
             "colorbar": {
              "outlinewidth": 0,
              "ticks": ""
             }
            },
            "type": "parcoords"
           }
          ],
          "pie": [
           {
            "automargin": true,
            "type": "pie"
           }
          ],
          "scatter": [
           {
            "fillpattern": {
             "fillmode": "overlay",
             "size": 10,
             "solidity": 0.2
            },
            "type": "scatter"
           }
          ],
          "scatter3d": [
           {
            "line": {
             "colorbar": {
              "outlinewidth": 0,
              "ticks": ""
             }
            },
            "marker": {
             "colorbar": {
              "outlinewidth": 0,
              "ticks": ""
             }
            },
            "type": "scatter3d"
           }
          ],
          "scattercarpet": [
           {
            "marker": {
             "colorbar": {
              "outlinewidth": 0,
              "ticks": ""
             }
            },
            "type": "scattercarpet"
           }
          ],
          "scattergeo": [
           {
            "marker": {
             "colorbar": {
              "outlinewidth": 0,
              "ticks": ""
             }
            },
            "type": "scattergeo"
           }
          ],
          "scattergl": [
           {
            "marker": {
             "colorbar": {
              "outlinewidth": 0,
              "ticks": ""
             }
            },
            "type": "scattergl"
           }
          ],
          "scattermapbox": [
           {
            "marker": {
             "colorbar": {
              "outlinewidth": 0,
              "ticks": ""
             }
            },
            "type": "scattermapbox"
           }
          ],
          "scatterpolar": [
           {
            "marker": {
             "colorbar": {
              "outlinewidth": 0,
              "ticks": ""
             }
            },
            "type": "scatterpolar"
           }
          ],
          "scatterpolargl": [
           {
            "marker": {
             "colorbar": {
              "outlinewidth": 0,
              "ticks": ""
             }
            },
            "type": "scatterpolargl"
           }
          ],
          "scatterternary": [
           {
            "marker": {
             "colorbar": {
              "outlinewidth": 0,
              "ticks": ""
             }
            },
            "type": "scatterternary"
           }
          ],
          "surface": [
           {
            "colorbar": {
             "outlinewidth": 0,
             "ticks": ""
            },
            "colorscale": [
             [
              0,
              "#0d0887"
             ],
             [
              0.1111111111111111,
              "#46039f"
             ],
             [
              0.2222222222222222,
              "#7201a8"
             ],
             [
              0.3333333333333333,
              "#9c179e"
             ],
             [
              0.4444444444444444,
              "#bd3786"
             ],
             [
              0.5555555555555556,
              "#d8576b"
             ],
             [
              0.6666666666666666,
              "#ed7953"
             ],
             [
              0.7777777777777778,
              "#fb9f3a"
             ],
             [
              0.8888888888888888,
              "#fdca26"
             ],
             [
              1,
              "#f0f921"
             ]
            ],
            "type": "surface"
           }
          ],
          "table": [
           {
            "cells": {
             "fill": {
              "color": "#EBF0F8"
             },
             "line": {
              "color": "white"
             }
            },
            "header": {
             "fill": {
              "color": "#C8D4E3"
             },
             "line": {
              "color": "white"
             }
            },
            "type": "table"
           }
          ]
         },
         "layout": {
          "annotationdefaults": {
           "arrowcolor": "#2a3f5f",
           "arrowhead": 0,
           "arrowwidth": 1
          },
          "autotypenumbers": "strict",
          "coloraxis": {
           "colorbar": {
            "outlinewidth": 0,
            "ticks": ""
           }
          },
          "colorscale": {
           "diverging": [
            [
             0,
             "#8e0152"
            ],
            [
             0.1,
             "#c51b7d"
            ],
            [
             0.2,
             "#de77ae"
            ],
            [
             0.3,
             "#f1b6da"
            ],
            [
             0.4,
             "#fde0ef"
            ],
            [
             0.5,
             "#f7f7f7"
            ],
            [
             0.6,
             "#e6f5d0"
            ],
            [
             0.7,
             "#b8e186"
            ],
            [
             0.8,
             "#7fbc41"
            ],
            [
             0.9,
             "#4d9221"
            ],
            [
             1,
             "#276419"
            ]
           ],
           "sequential": [
            [
             0,
             "#0d0887"
            ],
            [
             0.1111111111111111,
             "#46039f"
            ],
            [
             0.2222222222222222,
             "#7201a8"
            ],
            [
             0.3333333333333333,
             "#9c179e"
            ],
            [
             0.4444444444444444,
             "#bd3786"
            ],
            [
             0.5555555555555556,
             "#d8576b"
            ],
            [
             0.6666666666666666,
             "#ed7953"
            ],
            [
             0.7777777777777778,
             "#fb9f3a"
            ],
            [
             0.8888888888888888,
             "#fdca26"
            ],
            [
             1,
             "#f0f921"
            ]
           ],
           "sequentialminus": [
            [
             0,
             "#0d0887"
            ],
            [
             0.1111111111111111,
             "#46039f"
            ],
            [
             0.2222222222222222,
             "#7201a8"
            ],
            [
             0.3333333333333333,
             "#9c179e"
            ],
            [
             0.4444444444444444,
             "#bd3786"
            ],
            [
             0.5555555555555556,
             "#d8576b"
            ],
            [
             0.6666666666666666,
             "#ed7953"
            ],
            [
             0.7777777777777778,
             "#fb9f3a"
            ],
            [
             0.8888888888888888,
             "#fdca26"
            ],
            [
             1,
             "#f0f921"
            ]
           ]
          },
          "colorway": [
           "#636efa",
           "#EF553B",
           "#00cc96",
           "#ab63fa",
           "#FFA15A",
           "#19d3f3",
           "#FF6692",
           "#B6E880",
           "#FF97FF",
           "#FECB52"
          ],
          "font": {
           "color": "#2a3f5f"
          },
          "geo": {
           "bgcolor": "white",
           "lakecolor": "white",
           "landcolor": "#E5ECF6",
           "showlakes": true,
           "showland": true,
           "subunitcolor": "white"
          },
          "hoverlabel": {
           "align": "left"
          },
          "hovermode": "closest",
          "mapbox": {
           "style": "light"
          },
          "paper_bgcolor": "white",
          "plot_bgcolor": "#E5ECF6",
          "polar": {
           "angularaxis": {
            "gridcolor": "white",
            "linecolor": "white",
            "ticks": ""
           },
           "bgcolor": "#E5ECF6",
           "radialaxis": {
            "gridcolor": "white",
            "linecolor": "white",
            "ticks": ""
           }
          },
          "scene": {
           "xaxis": {
            "backgroundcolor": "#E5ECF6",
            "gridcolor": "white",
            "gridwidth": 2,
            "linecolor": "white",
            "showbackground": true,
            "ticks": "",
            "zerolinecolor": "white"
           },
           "yaxis": {
            "backgroundcolor": "#E5ECF6",
            "gridcolor": "white",
            "gridwidth": 2,
            "linecolor": "white",
            "showbackground": true,
            "ticks": "",
            "zerolinecolor": "white"
           },
           "zaxis": {
            "backgroundcolor": "#E5ECF6",
            "gridcolor": "white",
            "gridwidth": 2,
            "linecolor": "white",
            "showbackground": true,
            "ticks": "",
            "zerolinecolor": "white"
           }
          },
          "shapedefaults": {
           "line": {
            "color": "#2a3f5f"
           }
          },
          "ternary": {
           "aaxis": {
            "gridcolor": "white",
            "linecolor": "white",
            "ticks": ""
           },
           "baxis": {
            "gridcolor": "white",
            "linecolor": "white",
            "ticks": ""
           },
           "bgcolor": "#E5ECF6",
           "caxis": {
            "gridcolor": "white",
            "linecolor": "white",
            "ticks": ""
           }
          },
          "title": {
           "x": 0.05
          },
          "xaxis": {
           "automargin": true,
           "gridcolor": "white",
           "linecolor": "white",
           "ticks": "",
           "title": {
            "standoff": 15
           },
           "zerolinecolor": "white",
           "zerolinewidth": 2
          },
          "yaxis": {
           "automargin": true,
           "gridcolor": "white",
           "linecolor": "white",
           "ticks": "",
           "title": {
            "standoff": 15
           },
           "zerolinecolor": "white",
           "zerolinewidth": 2
          }
         }
        }
       }
      }
     },
     "metadata": {},
     "output_type": "display_data"
    }
   ],
   "source": [
    "%%capture --no-display\n",
    "\n",
    "# Configure the map plot\n",
    "df = px.data.gapminder()\n",
    "  \n",
    "plot = px.scatter_geo(city_data_df,\n",
    "                      lat= \"Lat\", lon= \"Lng\",\n",
    "                      size=\"Humidity\", size_max =7,\n",
    "                      color = \"City\")\n",
    "plot.show()\n"
   ]
  },
  {
   "cell_type": "markdown",
   "metadata": {},
   "source": [
    "### Step 2: Narrow down the `city_data_df` DataFrame to find your ideal weather condition"
   ]
  },
  {
   "cell_type": "code",
   "execution_count": 4,
   "metadata": {},
   "outputs": [
    {
     "data": {
      "text/html": [
       "<div>\n",
       "<style scoped>\n",
       "    .dataframe tbody tr th:only-of-type {\n",
       "        vertical-align: middle;\n",
       "    }\n",
       "\n",
       "    .dataframe tbody tr th {\n",
       "        vertical-align: top;\n",
       "    }\n",
       "\n",
       "    .dataframe thead th {\n",
       "        text-align: right;\n",
       "    }\n",
       "</style>\n",
       "<table border=\"1\" class=\"dataframe\">\n",
       "  <thead>\n",
       "    <tr style=\"text-align: right;\">\n",
       "      <th></th>\n",
       "      <th>City_ID</th>\n",
       "      <th>City</th>\n",
       "      <th>Lat</th>\n",
       "      <th>Lng</th>\n",
       "      <th>Max Temp</th>\n",
       "      <th>Humidity</th>\n",
       "      <th>Cloudiness</th>\n",
       "      <th>Wind Speed</th>\n",
       "      <th>Country</th>\n",
       "      <th>Date</th>\n",
       "    </tr>\n",
       "  </thead>\n",
       "  <tbody>\n",
       "    <tr>\n",
       "      <th>43</th>\n",
       "      <td>43</td>\n",
       "      <td>bahia blanca</td>\n",
       "      <td>-38.7196</td>\n",
       "      <td>-62.2724</td>\n",
       "      <td>26.27</td>\n",
       "      <td>43</td>\n",
       "      <td>0</td>\n",
       "      <td>0.89</td>\n",
       "      <td>AR</td>\n",
       "      <td>1674530954</td>\n",
       "    </tr>\n",
       "    <tr>\n",
       "      <th>123</th>\n",
       "      <td>123</td>\n",
       "      <td>mecca</td>\n",
       "      <td>21.4267</td>\n",
       "      <td>39.8261</td>\n",
       "      <td>21.35</td>\n",
       "      <td>75</td>\n",
       "      <td>0</td>\n",
       "      <td>1.22</td>\n",
       "      <td>SA</td>\n",
       "      <td>1674531001</td>\n",
       "    </tr>\n",
       "    <tr>\n",
       "      <th>129</th>\n",
       "      <td>129</td>\n",
       "      <td>gaoua</td>\n",
       "      <td>10.2992</td>\n",
       "      <td>-3.2508</td>\n",
       "      <td>25.23</td>\n",
       "      <td>22</td>\n",
       "      <td>0</td>\n",
       "      <td>1.00</td>\n",
       "      <td>BF</td>\n",
       "      <td>1674531049</td>\n",
       "    </tr>\n",
       "    <tr>\n",
       "      <th>130</th>\n",
       "      <td>130</td>\n",
       "      <td>puerto escondido</td>\n",
       "      <td>15.8500</td>\n",
       "      <td>-97.0667</td>\n",
       "      <td>25.46</td>\n",
       "      <td>73</td>\n",
       "      <td>0</td>\n",
       "      <td>0.00</td>\n",
       "      <td>MX</td>\n",
       "      <td>1674531050</td>\n",
       "    </tr>\n",
       "    <tr>\n",
       "      <th>200</th>\n",
       "      <td>200</td>\n",
       "      <td>maun</td>\n",
       "      <td>-19.9833</td>\n",
       "      <td>23.4167</td>\n",
       "      <td>21.98</td>\n",
       "      <td>78</td>\n",
       "      <td>0</td>\n",
       "      <td>1.54</td>\n",
       "      <td>BW</td>\n",
       "      <td>1674531111</td>\n",
       "    </tr>\n",
       "    <tr>\n",
       "      <th>246</th>\n",
       "      <td>246</td>\n",
       "      <td>pucallpa</td>\n",
       "      <td>-8.3791</td>\n",
       "      <td>-74.5539</td>\n",
       "      <td>25.02</td>\n",
       "      <td>78</td>\n",
       "      <td>0</td>\n",
       "      <td>3.09</td>\n",
       "      <td>PE</td>\n",
       "      <td>1674531158</td>\n",
       "    </tr>\n",
       "    <tr>\n",
       "      <th>335</th>\n",
       "      <td>335</td>\n",
       "      <td>boa vista</td>\n",
       "      <td>2.8197</td>\n",
       "      <td>-60.6733</td>\n",
       "      <td>24.99</td>\n",
       "      <td>73</td>\n",
       "      <td>0</td>\n",
       "      <td>2.57</td>\n",
       "      <td>BR</td>\n",
       "      <td>1674531245</td>\n",
       "    </tr>\n",
       "    <tr>\n",
       "      <th>340</th>\n",
       "      <td>340</td>\n",
       "      <td>presidencia roque saenz pena</td>\n",
       "      <td>-26.7852</td>\n",
       "      <td>-60.4388</td>\n",
       "      <td>24.86</td>\n",
       "      <td>43</td>\n",
       "      <td>0</td>\n",
       "      <td>2.83</td>\n",
       "      <td>AR</td>\n",
       "      <td>1674531250</td>\n",
       "    </tr>\n",
       "    <tr>\n",
       "      <th>379</th>\n",
       "      <td>379</td>\n",
       "      <td>cayenne</td>\n",
       "      <td>4.9333</td>\n",
       "      <td>-52.3333</td>\n",
       "      <td>25.02</td>\n",
       "      <td>83</td>\n",
       "      <td>0</td>\n",
       "      <td>1.54</td>\n",
       "      <td>GF</td>\n",
       "      <td>1674531296</td>\n",
       "    </tr>\n",
       "    <tr>\n",
       "      <th>454</th>\n",
       "      <td>454</td>\n",
       "      <td>acapulco</td>\n",
       "      <td>16.8634</td>\n",
       "      <td>-99.8901</td>\n",
       "      <td>25.90</td>\n",
       "      <td>73</td>\n",
       "      <td>0</td>\n",
       "      <td>2.57</td>\n",
       "      <td>MX</td>\n",
       "      <td>1674531280</td>\n",
       "    </tr>\n",
       "  </tbody>\n",
       "</table>\n",
       "</div>"
      ],
      "text/plain": [
       "     City_ID                          City      Lat      Lng  Max Temp  \\\n",
       "43        43                  bahia blanca -38.7196 -62.2724     26.27   \n",
       "123      123                         mecca  21.4267  39.8261     21.35   \n",
       "129      129                         gaoua  10.2992  -3.2508     25.23   \n",
       "130      130              puerto escondido  15.8500 -97.0667     25.46   \n",
       "200      200                          maun -19.9833  23.4167     21.98   \n",
       "246      246                      pucallpa  -8.3791 -74.5539     25.02   \n",
       "335      335                     boa vista   2.8197 -60.6733     24.99   \n",
       "340      340  presidencia roque saenz pena -26.7852 -60.4388     24.86   \n",
       "379      379                       cayenne   4.9333 -52.3333     25.02   \n",
       "454      454                      acapulco  16.8634 -99.8901     25.90   \n",
       "\n",
       "     Humidity  Cloudiness  Wind Speed Country        Date  \n",
       "43         43           0        0.89      AR  1674530954  \n",
       "123        75           0        1.22      SA  1674531001  \n",
       "129        22           0        1.00      BF  1674531049  \n",
       "130        73           0        0.00      MX  1674531050  \n",
       "200        78           0        1.54      BW  1674531111  \n",
       "246        78           0        3.09      PE  1674531158  \n",
       "335        73           0        2.57      BR  1674531245  \n",
       "340        43           0        2.83      AR  1674531250  \n",
       "379        83           0        1.54      GF  1674531296  \n",
       "454        73           0        2.57      MX  1674531280  "
      ]
     },
     "execution_count": 4,
     "metadata": {},
     "output_type": "execute_result"
    }
   ],
   "source": [
    "# Narrow down cities that fit criteria and drop any results with null values\n",
    "## A max temperature lower than 27 degrees but higher than 21\n",
    "\n",
    "narrow_df = city_data_df.loc[(city_data_df[\"Max Temp\"] < 27) &(city_data_df[\"Max Temp\"] > 21)]\n",
    "\n",
    "## #Wind speed less than 4.5 m/s\n",
    "\n",
    "narrow_df = narrow_df.loc[(narrow_df[\"Wind Speed\"] < 4.5)]\n",
    "\n",
    "## Zero cloudiness\n",
    "\n",
    "narrow_df = narrow_df.loc[(narrow_df[\"Cloudiness\"] == 0)]\n",
    "\n",
    "# Drop any rows with null values\n",
    "\n",
    "narrow_df = narrow_df.dropna()\n",
    "\n",
    "# Display sample data\n",
    "narrow_df.head(10)"
   ]
  },
  {
   "cell_type": "markdown",
   "metadata": {},
   "source": [
    "### Step 3: Create a new DataFrame called `hotel_df`."
   ]
  },
  {
   "cell_type": "code",
   "execution_count": 5,
   "metadata": {},
   "outputs": [
    {
     "data": {
      "text/html": [
       "<div>\n",
       "<style scoped>\n",
       "    .dataframe tbody tr th:only-of-type {\n",
       "        vertical-align: middle;\n",
       "    }\n",
       "\n",
       "    .dataframe tbody tr th {\n",
       "        vertical-align: top;\n",
       "    }\n",
       "\n",
       "    .dataframe thead th {\n",
       "        text-align: right;\n",
       "    }\n",
       "</style>\n",
       "<table border=\"1\" class=\"dataframe\">\n",
       "  <thead>\n",
       "    <tr style=\"text-align: right;\">\n",
       "      <th></th>\n",
       "      <th>City</th>\n",
       "      <th>Country</th>\n",
       "      <th>Lat</th>\n",
       "      <th>Lng</th>\n",
       "      <th>Humidity</th>\n",
       "      <th>Hotel Name</th>\n",
       "    </tr>\n",
       "  </thead>\n",
       "  <tbody>\n",
       "    <tr>\n",
       "      <th>0</th>\n",
       "      <td>mandal</td>\n",
       "      <td>IN</td>\n",
       "      <td>25.4500</td>\n",
       "      <td>74.5667</td>\n",
       "      <td>63</td>\n",
       "      <td></td>\n",
       "    </tr>\n",
       "    <tr>\n",
       "      <th>1</th>\n",
       "      <td>udachnyy</td>\n",
       "      <td>RU</td>\n",
       "      <td>66.4167</td>\n",
       "      <td>112.4000</td>\n",
       "      <td>74</td>\n",
       "      <td></td>\n",
       "    </tr>\n",
       "    <tr>\n",
       "      <th>2</th>\n",
       "      <td>tuatapere</td>\n",
       "      <td>NZ</td>\n",
       "      <td>-46.1333</td>\n",
       "      <td>167.6833</td>\n",
       "      <td>47</td>\n",
       "      <td></td>\n",
       "    </tr>\n",
       "    <tr>\n",
       "      <th>3</th>\n",
       "      <td>busselton</td>\n",
       "      <td>AU</td>\n",
       "      <td>-33.6500</td>\n",
       "      <td>115.3333</td>\n",
       "      <td>41</td>\n",
       "      <td></td>\n",
       "    </tr>\n",
       "    <tr>\n",
       "      <th>4</th>\n",
       "      <td>gurlan</td>\n",
       "      <td>UZ</td>\n",
       "      <td>41.8447</td>\n",
       "      <td>60.3919</td>\n",
       "      <td>35</td>\n",
       "      <td></td>\n",
       "    </tr>\n",
       "  </tbody>\n",
       "</table>\n",
       "</div>"
      ],
      "text/plain": [
       "        City Country      Lat       Lng  Humidity Hotel Name\n",
       "0     mandal      IN  25.4500   74.5667        63           \n",
       "1   udachnyy      RU  66.4167  112.4000        74           \n",
       "2  tuatapere      NZ -46.1333  167.6833        47           \n",
       "3  busselton      AU -33.6500  115.3333        41           \n",
       "4     gurlan      UZ  41.8447   60.3919        35           "
      ]
     },
     "execution_count": 5,
     "metadata": {},
     "output_type": "execute_result"
    }
   ],
   "source": [
    "# Use the Pandas copy function to create DataFrame called hotel_df to store the city, country, coordinates, and humidity\n",
    "hotel_df = pd.DataFrame(city_data_df, columns = [\"City\", \"Country\", \"Lat\", \"Lng\", \"Humidity\"])\n",
    "\n",
    "# Add an empty column, \"Hotel Name,\" to the DataFrame so you can store the hotel found using the Geoapify API\n",
    "hotel_df[\"Hotel Name\"] = \"\"\n",
    "\n",
    "# Display sample data\n",
    "hotel_df.head()"
   ]
  },
  {
   "cell_type": "markdown",
   "metadata": {},
   "source": [
    "### Step 4: For each city, use the Geoapify API to find the first hotel located within 10,000 metres of your coordinates."
   ]
  },
  {
   "cell_type": "code",
   "execution_count": 6,
   "metadata": {},
   "outputs": [
    {
     "name": "stdout",
     "output_type": "stream",
     "text": [
      "Starting hotel search\n",
      "mandal - nearest hotel: No hotel found\n",
      "udachnyy - nearest hotel: Вилюй\n",
      "tuatapere - nearest hotel: No hotel found\n",
      "busselton - nearest hotel: Broadwater Beach Resort\n",
      "gurlan - nearest hotel: No hotel found\n",
      "kpandu - nearest hotel: Catherine’s Lodge\n",
      "punta arenas - nearest hotel: Hotel Lacolet\n",
      "qaanaaq - nearest hotel: Hotel Qaanaaq\n",
      "puerto ayora - nearest hotel: Hostal La Mirada De Solitario George\n",
      "port elizabeth - nearest hotel: Waterford Hotel\n",
      "eureka - nearest hotel: Eureka Inn, Trademark Collection by Wyndham\n",
      "port-cartier - nearest hotel: No hotel found\n",
      "kodiak - nearest hotel: Shelikof Lodge\n",
      "moundou - nearest hotel: فندق جمرا\n",
      "castro - nearest hotel: Hotel Central Palace\n",
      "mataura - nearest hotel: No hotel found\n",
      "jamestown - nearest hotel: DoubleTree Jamestown\n",
      "andenes - nearest hotel: Andrikken hotell\n",
      "georgetown - nearest hotel: Page 63 hostel\n",
      "olafsvik - nearest hotel: North Star Hotel Snæfellsnes\n",
      "richards bay - nearest hotel: Protea Hotel\n",
      "acatic - nearest hotel: Motel Lieben\n",
      "celestun - nearest hotel: Hotel Flamingo Playa\n",
      "rikitea - nearest hotel: Chez Bianca & Benoit\n",
      "nemuro - nearest hotel: イーストハーバーホテル\n",
      "ushuaia - nearest hotel: Apart Hotel Aires del Beagle\n",
      "barrow - nearest hotel: No hotel found\n",
      "jalu - nearest hotel: فندق جالو السياحي\n",
      "hobart - nearest hotel: Vibe Hotel Hobart\n",
      "laguna - nearest hotel: Holiday Inn Express & Suites\n",
      "lagoa - nearest hotel: Casa da Madrinha\n",
      "albany - nearest hotel: No hotel found\n",
      "bethel - nearest hotel: Hampton Inn Danbury\n",
      "cidreira - nearest hotel: Hotel Castelo\n",
      "flinders - nearest hotel: Nova Kiama\n",
      "hithadhoo - nearest hotel: Pebbles Inn\n",
      "abilene - nearest hotel: Abilene Hotel\n",
      "ust-tsilma - nearest hotel: Прасковья\n",
      "nanortalik - nearest hotel: Kap Farvel\n",
      "myaundzha - nearest hotel: No hotel found\n",
      "kaitangata - nearest hotel: Hotel South Otago\n",
      "narsaq - nearest hotel: Hotel Narsaq\n",
      "bara - nearest hotel: No hotel found\n",
      "bahia blanca - nearest hotel: Hotel Austral Bahía\n",
      "port alfred - nearest hotel: No hotel found\n",
      "hermanus - nearest hotel: Aloe guest house\n",
      "labuhan - nearest hotel: No hotel found\n",
      "victoria - nearest hotel: 四季酒店 Four Seasons Hotel\n",
      "klaksvik - nearest hotel: Hotel Klaksvik\n",
      "bengkulu - nearest hotel: Dena Hotel\n",
      "katsuura - nearest hotel: 潮騒の宿\n",
      "iqaluit - nearest hotel: Frobisher Inn\n",
      "noshiro - nearest hotel: あづま旅館\n",
      "tasiilaq - nearest hotel: Angmagssalik\n",
      "yellowknife - nearest hotel: No hotel found\n",
      "souillac - nearest hotel: Hotel SkylineInn\n",
      "cabo san lucas - nearest hotel: Comfort Rooms\n",
      "hilo - nearest hotel: Dolphin Bay Hotel\n",
      "elesbao veloso - nearest hotel: No hotel found\n",
      "zhezkazgan - nearest hotel: KENGIR\n",
      "ahipara - nearest hotel: YHA Ahipara\n",
      "bredasdorp - nearest hotel: Victoria Hotel\n",
      "saint-joseph - nearest hotel: PALM Hotel & Spa\n",
      "vaini - nearest hotel: Keleti International Resort\n",
      "bluff - nearest hotel: No hotel found\n",
      "santa rosa - nearest hotel: JARS RESORT\n",
      "los llanos de aridane - nearest hotel: Valle Aridane\n",
      "new norfolk - nearest hotel: Woodbridge on the Derwent\n",
      "lompoc - nearest hotel: Embassy Suites by Hilton Lompoc Central Coast\n",
      "tiradentes - nearest hotel: Pousada Amaryllis\n",
      "angol - nearest hotel: Club Social\n",
      "arraial do cabo - nearest hotel: No hotel found\n",
      "waingapu - nearest hotel: HOTEL SANDLEWOOD\n",
      "sesheke - nearest hotel: Sisheke Lodge\n",
      "junction city - nearest hotel: Candlewood Suites\n",
      "gawler - nearest hotel: No hotel found\n",
      "santa isabel do rio negro - nearest hotel: Hotel Maikon\n",
      "saint-philippe - nearest hotel: Le Baril\n",
      "tuktoyaktuk - nearest hotel: Hunter's B&B\n",
      "cape town - nearest hotel: Townhouse Hotel\n",
      "lillooet - nearest hotel: Reynolds Hotel\n",
      "faanui - nearest hotel: Oa Oa Lodge\n",
      "atuona - nearest hotel: Pearl Resort\n",
      "fortuna - nearest hotel: Comfort Inn & Suites Redwood Country\n",
      "brae - nearest hotel: Brae Hotel\n",
      "riviere-au-renard - nearest hotel: Auberge Le Caribou\n",
      "sioux lookout - nearest hotel: Wellington Inn & Restaurant\n",
      "vaitape - nearest hotel: Oa Oa Lodge\n",
      "yatou - nearest hotel: No hotel found\n",
      "saskylakh - nearest hotel: No hotel found\n",
      "santo domingo - nearest hotel: Hotel Villa Campo\n",
      "airai - nearest hotel: No hotel found\n",
      "oruro - nearest hotel: Hotel Edén\n",
      "canico - nearest hotel: Dom Pedro\n",
      "basco - nearest hotel: Tawsen Hotel\n",
      "port hardy - nearest hotel: Quarterdeck Inn\n",
      "kapaa - nearest hotel: Pono Kai Resort\n",
      "bereda - nearest hotel: Hotel O Cristo\n",
      "kattivakkam - nearest hotel: No hotel found\n",
      "upernavik - nearest hotel: No hotel found\n",
      "avarua - nearest hotel: Paradise Inn\n",
      "lebu - nearest hotel: No hotel found\n",
      "ponta do sol - nearest hotel: Estalagem Ponta do Sol\n",
      "port macquarie - nearest hotel: The Observatory\n",
      "agucadoura - nearest hotel: Hotel Santo André\n",
      "mahebourg - nearest hotel: Grand Bel Air\n",
      "camacha - nearest hotel: Praia Dourada\n",
      "thompson - nearest hotel: Thompson Inn\n",
      "port-gentil - nearest hotel: Tara-Mé\n",
      "namibe - nearest hotel: Hotel Chik Chik Namibe\n",
      "tiksi - nearest hotel: Арктика\n",
      "touros - nearest hotel: Pousada Atlântico\n",
      "changli - nearest hotel: 客房\n",
      "pevek - nearest hotel: No hotel found\n",
      "olinda - nearest hotel: Fidji Motel\n",
      "pacific grove - nearest hotel: Pacific Grove Inn\n",
      "dikson - nearest hotel: No hotel found\n",
      "kropotkin - nearest hotel: Европа\n",
      "nohar - nearest hotel: No hotel found\n",
      "koboko - nearest hotel: Diplomatic hote\n",
      "saldanha - nearest hotel: Hoedjesbaai\n",
      "butaritari - nearest hotel: No hotel found\n",
      "sitka - nearest hotel: Aspen Suites Hotel\n",
      "mecca - nearest hotel: Rehab Al Marwa Hotel 1\n",
      "west wendover - nearest hotel: The Red Garter Hotel and Casino\n",
      "arawa - nearest hotel: No hotel found\n",
      "ta khmau - nearest hotel: Mangala Village\n",
      "kahului - nearest hotel: Maui Seaside Hotel\n",
      "harper - nearest hotel: No hotel found\n",
      "gaoua - nearest hotel: Poni\n",
      "puerto escondido - nearest hotel: Hotel Barlovento\n",
      "mareeba - nearest hotel: The Gateway Hotel\n",
      "bambous virieux - nearest hotel: Otentic Eco Tent Experience\n",
      "kapuskasing - nearest hotel: Travelodge\n",
      "fukue - nearest hotel: 五島第一ホテル\n",
      "arona - nearest hotel: Hotel Rural La Correa\n",
      "san borja - nearest hotel: No hotel found\n",
      "lakes entrance - nearest hotel: Banjo Patterson Motor Inn\n",
      "grindavik - nearest hotel: The Retreat at Blue Lagoon Iceland\n",
      "linqiong - nearest hotel: No hotel found\n",
      "kontagora - nearest hotel: No hotel found\n",
      "guanica - nearest hotel: Copamarina Beach Resort\n",
      "carnarvon - nearest hotel: No hotel found\n",
      "komsomolskiy - nearest hotel: Hotel \"Ikat House\"\n",
      "praya - nearest hotel: Casa Sodadi\n",
      "mar del plata - nearest hotel: Nuevo Ostende\n",
      "chekhov - nearest hotel: Гостиница Олимпийская\n",
      "geraldton - nearest hotel: Ocean Centre Hotel\n",
      "vila franca do campo - nearest hotel: Vinha d'Areia Beach Hotel\n",
      "ivybridge - nearest hotel: White Hart\n",
      "panormos - nearest hotel: Iliana\n",
      "esperance - nearest hotel: Hospitality\n",
      "cam ranh - nearest hotel: Khách sạn Thái Bình\n",
      "nang rong - nearest hotel: Socool Grand Hotel\n",
      "shitanjing - nearest hotel: No hotel found\n",
      "bath - nearest hotel: Royal Hotel\n",
      "sibu - nearest hotel: The Paramount Hotel\n",
      "ballina - nearest hotel: Ballina Beach Resort\n",
      "hami - nearest hotel: Хами\n",
      "san policarpo - nearest hotel: RJV hôtel\n",
      "asau - nearest hotel: Hotel Romanița\n",
      "sorland - nearest hotel: Fagmek Resorts\n",
      "vostok - nearest hotel: No hotel found\n",
      "le vauclin - nearest hotel: Hôtel Macabou\n",
      "college - nearest hotel: BEST WESTERN PLUS Pioneer Park Inn\n",
      "san cristobal - nearest hotel: Terra Sur\n",
      "rosario - nearest hotel: Fontana Suites\n",
      "severo-kurilsk - nearest hotel: \"Дом рыбака\"\n",
      "kieta - nearest hotel: No hotel found\n",
      "along - nearest hotel: Hotel Toshi Palace\n",
      "birjand - nearest hotel: مهمانسرای جهانگردی بیرجند\n",
      "portland - nearest hotel: the Hoxton\n",
      "vangazi - nearest hotel: No hotel found\n",
      "sadiqabad - nearest hotel: No hotel found\n",
      "shingu - nearest hotel: ホテルニューパレス\n",
      "standerton - nearest hotel: No hotel found\n",
      "sokoni - nearest hotel: La Madrugada Beach Hotel\n",
      "sao joao da barra - nearest hotel: Pousada Mediterrâneo\n",
      "nouakchott - nearest hotel: فندق أدرار\n",
      "oskarshamn - nearest hotel: Clarion Collection Hotel Post\n",
      "burgeo - nearest hotel: No hotel found\n",
      "anamur - nearest hotel: Kemals Pension\n",
      "constitucion - nearest hotel: Hostal Alameda\n",
      "tongliao - nearest hotel: No hotel found\n",
      "kokopo - nearest hotel: Hotel Kokopo\n",
      "yulara - nearest hotel: Outback Pioneer Hotel & Lodge\n",
      "patacamaya - nearest hotel: Hostal Viña del Mar\n",
      "hammerfest - nearest hotel: Thon Hotel Hammerfest\n",
      "tayoltita - nearest hotel: No hotel found\n",
      "ganzhou - nearest hotel: No hotel found\n",
      "troitsko-pechorsk - nearest hotel: Гостиница \"Печора\"\n",
      "jam sahib - nearest hotel: No hotel found\n",
      "luderitz - nearest hotel: Seaview Hotel Zum Sperrgebiet\n",
      "almazar - nearest hotel: No hotel found\n",
      "henties bay - nearest hotel: Huis Klipdrift\n",
      "tamandare - nearest hotel: Pousada Baia dos Corais\n",
      "san patricio - nearest hotel: No hotel found\n",
      "rockhampton - nearest hotel: Rockhampton Plaza\n",
      "sao filipe - nearest hotel: Bela Vista\n",
      "neka - nearest hotel: هتل میلاد نکا\n",
      "maun - nearest hotel: Center Lodge Conference Center\n",
      "clyde river - nearest hotel: No hotel found\n",
      "chokurdakh - nearest hotel: No hotel found\n",
      "longyearbyen - nearest hotel: The Vault\n",
      "cotacachi - nearest hotel: Posada Munaylla\n",
      "kokkola - nearest hotel: Hotelli Seurahuone\n",
      "talcahuano - nearest hotel: Club Recreativo Armada de Chile\n",
      "nizhniy ingash - nearest hotel: Сбербанк\n",
      "chuy - nearest hotel: Alerces\n",
      "la reforma - nearest hotel: No hotel found\n",
      "ishim - nearest hotel: Ишим\n",
      "osoyoos - nearest hotel: Spanish Fiesta Resort\n",
      "alyangula - nearest hotel: No hotel found\n",
      "sambava - nearest hotel: Royal Sava Hôtel\n",
      "malanje - nearest hotel: dom Fausto\n",
      "ilulissat - nearest hotel: Best Western Plus Hotel Ilulissat\n",
      "banda aceh - nearest hotel: Hotel 61\n",
      "severodvinsk - nearest hotel: Hermitage\n",
      "taoudenni - nearest hotel: No hotel found\n",
      "hambantota - nearest hotel: Oasis Aurweda Resort Hambathota\n",
      "port lincoln - nearest hotel: Boston Hotel\n",
      "pingzhuang - nearest hotel: No hotel found\n",
      "east london - nearest hotel: No hotel found\n",
      "hasaki - nearest hotel: 大新旅館\n",
      "cherskiy - nearest hotel: No hotel found\n",
      "chhindwara - nearest hotel: No hotel found\n",
      "porto novo - nearest hotel: Hôtel 6500 CFA\n",
      "gilbues - nearest hotel: Hotel Camapua\n",
      "bratsk - nearest hotel: Тайга\n",
      "bilibino - nearest hotel: No hotel found\n",
      "yar-sale - nearest hotel: ЯЛЭМД\n",
      "ponta delgada - nearest hotel: Hotel Talisman\n",
      "avera - nearest hotel: No hotel found\n",
      "bakchar - nearest hotel: Кристина\n",
      "fairbanks - nearest hotel: Westmark Fairbanks Hotel\n",
      "nalut - nearest hotel: No hotel found\n",
      "poltavka - nearest hotel: No hotel found\n",
      "nome - nearest hotel: No hotel found\n",
      "nabire - nearest hotel: Hotel Anggrek\n",
      "san quintin - nearest hotel: Jardines Hotel\n",
      "khatanga - nearest hotel: Хатанга\n",
      "moroni - nearest hotel: Ville de Moroni\n",
      "manggar - nearest hotel: No hotel found\n",
      "necochea - nearest hotel: Cabañas Río Quequén\n",
      "bealanana - nearest hotel: No hotel found\n",
      "guerrero negro - nearest hotel: Plaza sal paraiso\n",
      "pucallpa - nearest hotel: Hospedaje Cristofer\n",
      "nikolskoye - nearest hotel: No hotel found\n",
      "anderson - nearest hotel: La Quinta\n",
      "kidal - nearest hotel: No hotel found\n",
      "joshimath - nearest hotel: Snow Crest Hotel\n",
      "samfya - nearest hotel: Twemu Guest house\n",
      "kaili - nearest hotel: No hotel found\n",
      "provideniya - nearest hotel: No hotel found\n",
      "kavieng - nearest hotel: Kavieng Hotel\n",
      "magadi - nearest hotel: Udupi Upahara\n",
      "codrington - nearest hotel: No hotel found\n",
      "chernihiv - nearest hotel: Атланта\n",
      "penzance - nearest hotel: The Abbey Hotel\n",
      "kenai - nearest hotel: Beluga Lookout Hotel\n",
      "lorengau - nearest hotel: Seeadler Bay Hotel\n",
      "ampanihy - nearest hotel: Hotel restaurant Angora\n",
      "hatten - nearest hotel: Zum Deutschen Hause - Hotel und Restaurant\n",
      "shimoda - nearest hotel: ホテルウラガ\n",
      "zhigansk - nearest hotel: ИП Пав\n",
      "ambulu - nearest hotel: Hotel Ambulu\n",
      "la rioja - nearest hotel: No hotel found\n",
      "dali - nearest hotel: 风花雪月大酒店\n",
      "beringovskiy - nearest hotel: No hotel found\n",
      "wagga wagga - nearest hotel: The Astor\n",
      "general roca - nearest hotel: Hotel Austral\n",
      "rudsar - nearest hotel: هتل بهار\n",
      "billings - nearest hotel: Best Western Plus Clocktower Inn\n",
      "champerico - nearest hotel: Hotel y Restaurante El Submarino\n",
      "fort nelson - nearest hotel: Fort Nelson Hotel\n",
      "mabaruma - nearest hotel: Monty Brooms Hotel\n",
      "santa maria - nearest hotel: Hotel Morotin\n",
      "zyryanka - nearest hotel: No hotel found\n",
      "yerbogachen - nearest hotel: No hotel found\n",
      "padang - nearest hotel: losmen Surya\n",
      "moerai - nearest hotel: Manotel Rurutu\n",
      "santa cruz de la palma - nearest hotel: El Hotelito 27\n",
      "pangnirtung - nearest hotel: Auyuittuq Lodge\n",
      "lavrentiya - nearest hotel: Фортуна\n",
      "tazovskiy - nearest hotel: Тазовчанка\n",
      "san luis - nearest hotel: Hotel Dos Venados\n",
      "likhoslavl - nearest hotel: No hotel found\n",
      "chapais - nearest hotel: No hotel found\n",
      "waddan - nearest hotel: No hotel found\n",
      "ancud - nearest hotel: Cabañas\n",
      "tungor - nearest hotel: No hotel found\n",
      "norman wells - nearest hotel: Yamouri Inn\n",
      "kanashevo - nearest hotel: No hotel found\n",
      "washington - nearest hotel: Cashmere's Village Inn\n",
      "boaco - nearest hotel: Hotel Sobalvarro\n",
      "tautira - nearest hotel: No hotel found\n",
      "kysyl-syr - nearest hotel: No hotel found\n",
      "medina - nearest hotel: The Oberoi Madina\n",
      "lata - nearest hotel: Residencial Botânico\n",
      "kaeo - nearest hotel: No hotel found\n",
      "taltal - nearest hotel: Hostería Taltal\n",
      "abnub - nearest hotel: University Guest House\n",
      "saint george - nearest hotel: The Advenire, an Autograph Collection Hotel\n",
      "traverse city - nearest hotel: The Whiting\n",
      "peace river - nearest hotel: New Ridge Inn\n",
      "hibbing - nearest hotel: Hibbing Park Hotel\n",
      "freeport - nearest hotel: The Freeport Inn and Marina\n",
      "mehamn - nearest hotel: Mehamn Arctic hotell\n",
      "seymchan - nearest hotel: No hotel found\n",
      "ayagoz - nearest hotel: Нур\n",
      "dunedin - nearest hotel: Scenic Hotel Dunedin City\n",
      "anadyr - nearest hotel: Гостевой дом\n",
      "kirakira - nearest hotel: No hotel found\n",
      "pringsewu - nearest hotel: No hotel found\n",
      "ostrovnoy - nearest hotel: No hotel found\n",
      "qaqortoq - nearest hotel: Hotel Qaqortoq\n",
      "myanaung - nearest hotel: No hotel found\n",
      "saravan - nearest hotel: No hotel found\n",
      "ngunguru - nearest hotel: Oceans Tutukaka\n",
      "tabou - nearest hotel: hôtel le rochet\n",
      "half moon bay - nearest hotel: Half Moon Bay Inn\n",
      "betsiamites - nearest hotel: No hotel found\n",
      "balikpapan - nearest hotel: Hotel Grand Senyiur\n",
      "anaco - nearest hotel: Hotel Muñíz\n",
      "verkhoyansk - nearest hotel: Полюс холода\n",
      "sur - nearest hotel: Sur Hotel\n",
      "ust-omchug - nearest hotel: No hotel found\n",
      "qandala - nearest hotel: No hotel found\n",
      "xining - nearest hotel: Qinghai hotel\n",
      "monaghan - nearest hotel: Westenra Arms Hotel\n",
      "talnakh - nearest hotel: Талнах\n",
      "ambilobe - nearest hotel: Hôtel National\n",
      "alofi - nearest hotel: Matavai Resort\n",
      "aswan - nearest hotel: Yaseen hotel\n",
      "karratha - nearest hotel: Karratha International Hotel\n",
      "boa vista - nearest hotel: Aipana Plaza Hotel\n",
      "quatre cocos - nearest hotel: Horisun\n",
      "port blair - nearest hotel: Andaman Ocean Breeze\n",
      "imeni poliny osipenko - nearest hotel: No hotel found\n",
      "newport - nearest hotel: Queens Hotel\n",
      "presidencia roque saenz pena - nearest hotel: Hotel Presidente\n",
      "chiredzi - nearest hotel: Nesbitt Arms Hotel\n",
      "agadez - nearest hotel: No hotel found\n",
      "torbay - nearest hotel: Hampton\n",
      "kincardine - nearest hotel: Powfowlis Manor\n",
      "wamba - nearest hotel: No hotel found\n",
      "vega de alatorre - nearest hotel: No hotel found\n",
      "puteyets - nearest hotel: Космос\n",
      "ullapool - nearest hotel: Riverview B&B\n",
      "salalah - nearest hotel: Muscat International Hotel\n",
      "twentynine palms - nearest hotel: Sunnyvale Garden Suites Hotel - Joshua Tree National Park\n",
      "tara - nearest hotel: No hotel found\n",
      "makaha - nearest hotel: No hotel found\n",
      "onda - nearest hotel: Hotel Verdià\n",
      "adrar - nearest hotel: No hotel found\n",
      "makakilo city - nearest hotel: Embassy Suites by Hilton Oahu Kapolei\n",
      "phonhong - nearest hotel: No hotel found\n",
      "paraiso - nearest hotel: Cabinas\n",
      "korla - nearest hotel: Silver Star Hotel\n",
      "santiago de chuco - nearest hotel: No hotel found\n",
      "chimichagua - nearest hotel: HOTEL CENTRAL\n",
      "skelleftea - nearest hotel: Hotel Victoria\n",
      "maniitsoq - nearest hotel: Hotel Heilmann Lyberth\n",
      "kushima - nearest hotel: No hotel found\n",
      "bonavista - nearest hotel: Harbour Quarters Inn\n",
      "faya - nearest hotel: No hotel found\n",
      "dogondoutchi - nearest hotel: Maison Alheri\n",
      "husavik - nearest hotel: Fosshótel Húsavík\n",
      "coihaique - nearest hotel: No hotel found\n",
      "phangnga - nearest hotel: Hotel\n",
      "aklavik - nearest hotel: No hotel found\n",
      "asosa - nearest hotel: Africa Hotel\n",
      "watrous - nearest hotel: Manitou Holiday Suites\n",
      "manger - nearest hotel: No hotel found\n",
      "broome - nearest hotel: No hotel found\n",
      "pisco - nearest hotel: La Portada\n",
      "jussara - nearest hotel: No hotel found\n",
      "oksfjord - nearest hotel: No hotel found\n",
      "kamenka - nearest hotel: No hotel found\n",
      "cayenne - nearest hotel: Central Hôtel\n",
      "port augusta - nearest hotel: Hotel Commonwealth\n",
      "ribeira grande - nearest hotel: Hospedaria JSF - 3 Estrelas\n",
      "lebanon - nearest hotel: Ramada\n",
      "rocha - nearest hotel: Hotel Municipal\n",
      "chuchkovo - nearest hotel: No hotel found\n",
      "dwarka - nearest hotel: The Dwarika Hotel\n",
      "novikovo - nearest hotel: No hotel found\n",
      "nyimba - nearest hotel: Dalitso Guesthouse\n",
      "nizwa - nearest hotel: Nizwa Heritage Inn\n",
      "koslan - nearest hotel: No hotel found\n",
      "marawi - nearest hotel: Marawi Resort Hotel\n",
      "ushtobe - nearest hotel: No hotel found\n",
      "great falls - nearest hotel: Hotel Arvon\n",
      "indiaroba - nearest hotel: No hotel found\n",
      "maceio - nearest hotel: Maceió Hostel e Pousada\n",
      "meulaboh - nearest hotel: Hotel Meuligou\n",
      "batagay - nearest hotel: Киселях\n",
      "bursa - nearest hotel: Kayhan City Hotel\n",
      "goderich - nearest hotel: Hotel Bedford\n",
      "rochelle - nearest hotel: No hotel found\n",
      "egvekinot - nearest hotel: No hotel found\n",
      "la palma - nearest hotel: La Quinta Inn & Suites by Wyndham Buena Park\n",
      "charters towers - nearest hotel: No hotel found\n",
      "viedma - nearest hotel: Níjar\n",
      "itaituba - nearest hotel: TG Hotel\n",
      "belawan - nearest hotel: Danau Toba International Cottage Belawan\n",
      "esmeraldas - nearest hotel: No hotel found\n",
      "tomobe - nearest hotel: No hotel found\n",
      "rio claro - nearest hotel: Hotel Premier\n",
      "belaya gora - nearest hotel: No hotel found\n",
      "vanimo - nearest hotel: CBC Guesthouse\n",
      "sibolga - nearest hotel: Hotel Prima Indah\n",
      "filadelfia - nearest hotel: The Ritz-Carlton, Philadelphia\n",
      "thinadhoo - nearest hotel: No hotel found\n",
      "takaka - nearest hotel: No hotel found\n",
      "starychi - nearest hotel: Криве Озеро\n",
      "kavaratti - nearest hotel: No hotel found\n",
      "havelock - nearest hotel: Quality Inn Havelock Hwy 70\n",
      "paamiut - nearest hotel: Hotel Ivaana\n",
      "poddorye - nearest hotel: No hotel found\n",
      "aksu - nearest hotel: Akesu Tianyuan International Hotel\n",
      "alistrati - nearest hotel: Hotel Boziki\n",
      "alice springs - nearest hotel: Aurora Alice Springs\n",
      "nishihara - nearest hotel: ユインチホテル南城\n",
      "north bend - nearest hotel: The Mill Casino Hotel\n",
      "barra dos coqueiros - nearest hotel: Grande Hotel\n",
      "manbij - nearest hotel: فندق منبج\n",
      "dingle - nearest hotel: Hotel Edmundo\n",
      "cotonou - nearest hotel: BENIN ROYAL HOTEL\n",
      "zhangjiakou - nearest hotel: 商务宾馆\n",
      "inhambane - nearest hotel: Hotel de Inhambane\n",
      "puri - nearest hotel: Divine Beach Homestay\n",
      "chake chake - nearest hotel: Annex Pemba Hotel\n",
      "tabora - nearest hotel: Alpho hotel\n",
      "pangai - nearest hotel: Billy's Place\n",
      "gimli - nearest hotel: Gimli Hotel\n",
      "cavalcante - nearest hotel: Pousada Chalés do Lago\n",
      "grand gaube - nearest hotel: Coco Villa\n",
      "northam - nearest hotel: Durrant House Hotel\n",
      "kothen - nearest hotel: Hotel Anhalt\n",
      "makokou - nearest hotel: No hotel found\n",
      "cobija - nearest hotel: Hotel El Cristo\n",
      "whitefish - nearest hotel: The Firebrand Hotel\n",
      "lebork - nearest hotel: Hotel Vega\n",
      "kruisfontein - nearest hotel: No hotel found\n",
      "caravelas - nearest hotel: Pousada dos Navegantes\n",
      "tessalit - nearest hotel: No hotel found\n",
      "suntar - nearest hotel: No hotel found\n",
      "lekoni - nearest hotel: Le rdv des chasseurs\n",
      "devrek - nearest hotel: Devrek Otel\n",
      "uni - nearest hotel: No hotel found\n",
      "montemor-o-novo - nearest hotel: Montemor\n",
      "erzincan - nearest hotel: Kent Otel\n",
      "ascension - nearest hotel: Cajun Country Inn\n",
      "acapulco - nearest hotel: Hotel del Valle\n",
      "omsukchan - nearest hotel: Гостиница Зори\n",
      "helong - nearest hotel: No hotel found\n",
      "ati - nearest hotel: No hotel found\n",
      "verkhovazhye - nearest hotel: Вага\n",
      "camana - nearest hotel: Caja Arequipa\n",
      "shubarkuduk - nearest hotel: No hotel found\n",
      "marsh harbour - nearest hotel: Lofty Fig Villas\n",
      "hualmay - nearest hotel: Hotel Mi Choacan\n",
      "sao felix do xingu - nearest hotel: Hotel Terraço\n",
      "vestmanna - nearest hotel: No hotel found\n",
      "saint-pierre - nearest hotel: Tropic Hotel\n",
      "kijang - nearest hotel: 힐튼호텔 부산\n",
      "lokosovo - nearest hotel: No hotel found\n",
      "gua musang - nearest hotel: Hotel Usaha\n",
      "lomza - nearest hotel: No hotel found\n",
      "san ramon de la nueva oran - nearest hotel: Alto Verde\n",
      "pennagaram - nearest hotel: No hotel found\n",
      "luganville - nearest hotel: Beachfront Resort\n",
      "juneau - nearest hotel: Ramada by Wyndham Juneau\n",
      "beira - nearest hotel: Hotel Savoy\n",
      "sorong - nearest hotel: Hotel Membramo Marina\n",
      "pando - nearest hotel: No hotel found\n",
      "cao bang - nearest hotel: SONG HIEN HOTEL\n",
      "imbituba - nearest hotel: Silvestre Praia Hotel\n",
      "srednekolymsk - nearest hotel: No hotel found\n",
      "deder - nearest hotel: No hotel found\n",
      "xinyu - nearest hotel: WangJiangBang\n",
      "marquette - nearest hotel: No hotel found\n",
      "bathsheba - nearest hotel: Atlantis Hotel\n",
      "izhma - nearest hotel: Гостиница\n",
      "noumea - nearest hotel: Hotel Gondwana\n",
      "los alamos - nearest hotel: North Road Inn\n",
      "yagodnoye - nearest hotel: Ягодное\n",
      "hovd - nearest hotel: Khovd hotel\n",
      "ordu - nearest hotel: No hotel found\n",
      "lasa - nearest hotel: Hotel \"Drei Kreuz\"\n",
      "buenos aires - nearest hotel: Hotel Dazzler Tower\n",
      "konakovo - nearest hotel: Север\n",
      "urumqi - nearest hotel: 百时快捷酒店红山店\n",
      "phek - nearest hotel: No hotel found\n",
      "maniwaki - nearest hotel: Château Logue\n",
      "palmer - nearest hotel: No hotel found\n",
      "saint-francois - nearest hotel: Chez Lily\n",
      "gambela - nearest hotel: Grand Hotel\n",
      "plouzane - nearest hotel: Les Voyageurs\n",
      "arman - nearest hotel: No hotel found\n",
      "palenque - nearest hotel: Hotel Mision Palenque\n",
      "la peca - nearest hotel: No hotel found\n",
      "nelson bay - nearest hotel: No hotel found\n",
      "corrente - nearest hotel: No hotel found\n",
      "karpogory - nearest hotel: No hotel found\n",
      "ladovskaya balka - nearest hotel: No hotel found\n",
      "batticaloa - nearest hotel: Lake View Hotel\n",
      "kongsberg - nearest hotel: Quality Hotel Grand\n",
      "beisfjord - nearest hotel: Thon Hotel Narvik\n",
      "hit - nearest hotel: No hotel found\n",
      "mendoza - nearest hotel: Hotel Eben-Ezer\n",
      "high level - nearest hotel: Executive House Suites Hotel & Conference Centre\n",
      "ekhabi - nearest hotel: Сфера\n",
      "itarema - nearest hotel: Pousada Oásis\n",
      "vardo - nearest hotel: Meieriet\n",
      "huarmey - nearest hotel: Hostal Santa Rosa\n",
      "cayeli - nearest hotel: No hotel found\n",
      "bubaque - nearest hotel: Chez Julio\n",
      "deputatskiy - nearest hotel: No hotel found\n",
      "mount gambier - nearest hotel: The Old Mount Gambier Gaol\n",
      "khudumelapye - nearest hotel: No hotel found\n",
      "sfantu gheorghe - nearest hotel: Hotel Park\n",
      "mahon - nearest hotel: Eurohotel\n",
      "umm lajj - nearest hotel: No hotel found\n",
      "tay ninh - nearest hotel: Nhà khách Hoa Hồng\n",
      "kaliua - nearest hotel: No hotel found\n",
      "tual - nearest hotel: Suita\n",
      "bone - nearest hotel: von Rephuns Garten\n",
      "okmulgee - nearest hotel: Days Inn by Wyndham Okmulgee\n",
      "walvis bay - nearest hotel: Atlantic\n",
      "lixourion - nearest hotel: Palatino\n",
      "la ronge - nearest hotel: La Ronge Hotel and Suites\n",
      "coquimbo - nearest hotel: Hotel Iberia\n",
      "grand-lahou - nearest hotel: Cap Lahou\n",
      "churapcha - nearest hotel: No hotel found\n",
      "mancio lima - nearest hotel: No hotel found\n",
      "thaba-tseka - nearest hotel: Mohale oa Masitse Lodge\n",
      "zeya - nearest hotel: Серебряный створ\n",
      "lincoln - nearest hotel: New Victorian Suites Lincoln\n",
      "gat - nearest hotel: No hotel found\n"
     ]
    },
    {
     "data": {
      "text/html": [
       "<div>\n",
       "<style scoped>\n",
       "    .dataframe tbody tr th:only-of-type {\n",
       "        vertical-align: middle;\n",
       "    }\n",
       "\n",
       "    .dataframe tbody tr th {\n",
       "        vertical-align: top;\n",
       "    }\n",
       "\n",
       "    .dataframe thead th {\n",
       "        text-align: right;\n",
       "    }\n",
       "</style>\n",
       "<table border=\"1\" class=\"dataframe\">\n",
       "  <thead>\n",
       "    <tr style=\"text-align: right;\">\n",
       "      <th></th>\n",
       "      <th>City</th>\n",
       "      <th>Country</th>\n",
       "      <th>Lat</th>\n",
       "      <th>Lng</th>\n",
       "      <th>Humidity</th>\n",
       "      <th>Hotel Name</th>\n",
       "    </tr>\n",
       "  </thead>\n",
       "  <tbody>\n",
       "    <tr>\n",
       "      <th>0</th>\n",
       "      <td>mandal</td>\n",
       "      <td>IN</td>\n",
       "      <td>25.4500</td>\n",
       "      <td>74.5667</td>\n",
       "      <td>63</td>\n",
       "      <td>No hotel found</td>\n",
       "    </tr>\n",
       "    <tr>\n",
       "      <th>1</th>\n",
       "      <td>udachnyy</td>\n",
       "      <td>RU</td>\n",
       "      <td>66.4167</td>\n",
       "      <td>112.4000</td>\n",
       "      <td>74</td>\n",
       "      <td>Вилюй</td>\n",
       "    </tr>\n",
       "    <tr>\n",
       "      <th>2</th>\n",
       "      <td>tuatapere</td>\n",
       "      <td>NZ</td>\n",
       "      <td>-46.1333</td>\n",
       "      <td>167.6833</td>\n",
       "      <td>47</td>\n",
       "      <td>No hotel found</td>\n",
       "    </tr>\n",
       "    <tr>\n",
       "      <th>3</th>\n",
       "      <td>busselton</td>\n",
       "      <td>AU</td>\n",
       "      <td>-33.6500</td>\n",
       "      <td>115.3333</td>\n",
       "      <td>41</td>\n",
       "      <td>Broadwater Beach Resort</td>\n",
       "    </tr>\n",
       "    <tr>\n",
       "      <th>4</th>\n",
       "      <td>gurlan</td>\n",
       "      <td>UZ</td>\n",
       "      <td>41.8447</td>\n",
       "      <td>60.3919</td>\n",
       "      <td>35</td>\n",
       "      <td>No hotel found</td>\n",
       "    </tr>\n",
       "    <tr>\n",
       "      <th>...</th>\n",
       "      <td>...</td>\n",
       "      <td>...</td>\n",
       "      <td>...</td>\n",
       "      <td>...</td>\n",
       "      <td>...</td>\n",
       "      <td>...</td>\n",
       "    </tr>\n",
       "    <tr>\n",
       "      <th>536</th>\n",
       "      <td>mancio lima</td>\n",
       "      <td>BR</td>\n",
       "      <td>-7.6142</td>\n",
       "      <td>-72.8958</td>\n",
       "      <td>94</td>\n",
       "      <td>No hotel found</td>\n",
       "    </tr>\n",
       "    <tr>\n",
       "      <th>537</th>\n",
       "      <td>thaba-tseka</td>\n",
       "      <td>LS</td>\n",
       "      <td>-29.5220</td>\n",
       "      <td>28.6084</td>\n",
       "      <td>56</td>\n",
       "      <td>Mohale oa Masitse Lodge</td>\n",
       "    </tr>\n",
       "    <tr>\n",
       "      <th>538</th>\n",
       "      <td>zeya</td>\n",
       "      <td>RU</td>\n",
       "      <td>53.7500</td>\n",
       "      <td>127.2667</td>\n",
       "      <td>72</td>\n",
       "      <td>Серебряный створ</td>\n",
       "    </tr>\n",
       "    <tr>\n",
       "      <th>539</th>\n",
       "      <td>lincoln</td>\n",
       "      <td>US</td>\n",
       "      <td>40.8000</td>\n",
       "      <td>-96.6670</td>\n",
       "      <td>89</td>\n",
       "      <td>New Victorian Suites Lincoln</td>\n",
       "    </tr>\n",
       "    <tr>\n",
       "      <th>540</th>\n",
       "      <td>gat</td>\n",
       "      <td>IL</td>\n",
       "      <td>31.6100</td>\n",
       "      <td>34.7642</td>\n",
       "      <td>100</td>\n",
       "      <td>No hotel found</td>\n",
       "    </tr>\n",
       "  </tbody>\n",
       "</table>\n",
       "<p>541 rows × 6 columns</p>\n",
       "</div>"
      ],
      "text/plain": [
       "            City Country      Lat       Lng  Humidity  \\\n",
       "0         mandal      IN  25.4500   74.5667        63   \n",
       "1       udachnyy      RU  66.4167  112.4000        74   \n",
       "2      tuatapere      NZ -46.1333  167.6833        47   \n",
       "3      busselton      AU -33.6500  115.3333        41   \n",
       "4         gurlan      UZ  41.8447   60.3919        35   \n",
       "..           ...     ...      ...       ...       ...   \n",
       "536  mancio lima      BR  -7.6142  -72.8958        94   \n",
       "537  thaba-tseka      LS -29.5220   28.6084        56   \n",
       "538         zeya      RU  53.7500  127.2667        72   \n",
       "539      lincoln      US  40.8000  -96.6670        89   \n",
       "540          gat      IL  31.6100   34.7642       100   \n",
       "\n",
       "                       Hotel Name  \n",
       "0                  No hotel found  \n",
       "1                           Вилюй  \n",
       "2                  No hotel found  \n",
       "3         Broadwater Beach Resort  \n",
       "4                  No hotel found  \n",
       "..                            ...  \n",
       "536                No hotel found  \n",
       "537       Mohale oa Masitse Lodge  \n",
       "538              Серебряный створ  \n",
       "539  New Victorian Suites Lincoln  \n",
       "540                No hotel found  \n",
       "\n",
       "[541 rows x 6 columns]"
      ]
     },
     "execution_count": 6,
     "metadata": {},
     "output_type": "execute_result"
    }
   ],
   "source": [
    "# Set parameters to search for a hotel\n",
    "radius = 10000\n",
    "categories = \"accommodation.hotel\"\n",
    "\n",
    "params = {\n",
    "    \"categories\": categories,\n",
    "    # \"limit\": limit,\n",
    "    \"apiKey\": geoapify_key}\n",
    "    \n",
    "\n",
    "# Print a message to follow up the hotel search\n",
    "print(\"Starting hotel search\")\n",
    "\n",
    "# Iterate through the hotel_df DataFrame\n",
    "for index, row in hotel_df.iterrows():\n",
    "    \n",
    "    # get latitude, longitude from the DataFrame\n",
    "    lat = row[\"Lat\"]\n",
    "    lon = row[\"Lng\"]\n",
    "   \n",
    "    # Add filter and bias parameters with the current city's latitude and longitude to the params dictionary\n",
    "    params[\"filter\"] = f\"circle:{lon},{lat},{radius}\"\n",
    "    params[\"bias\"] = f\"proximity:{lon},{lat}\"\n",
    "        \n",
    "       \n",
    "    # Set base URL\n",
    "    base_url = \"https://api.geoapify.com/v2/places\"\n",
    "\n",
    "\n",
    "    # Make and API request using the params dictionaty\n",
    "    name_address = requests.get(base_url, params=params)\n",
    "    \n",
    "    # Convert the API response to JSON format\n",
    "    name_address = name_address.json()\n",
    "    \n",
    "    # Grab the first hotel from the results and store the name in the hotel_df DataFrame\n",
    "    try:\n",
    "        hotel_df.loc[index, \"Hotel Name\"] = name_address[\"features\"][0][\"properties\"][\"name\"]\n",
    "    except (KeyError, IndexError):\n",
    "        # If no hotel is found, set the hotel name as \"No hotel found\".\n",
    "        hotel_df.loc[index, \"Hotel Name\"] = \"No hotel found\"\n",
    "        \n",
    "    # Log the search results\n",
    "    print(f\"{hotel_df.loc[index, 'City']} - nearest hotel: {hotel_df.loc[index, 'Hotel Name']}\")\n",
    "\n",
    "# Display sample data\n",
    "hotel_df"
   ]
  },
  {
   "cell_type": "markdown",
   "metadata": {},
   "source": [
    "### Step 5: Add the hotel name and the country as additional information in the hover message for each city in the map."
   ]
  },
  {
   "cell_type": "code",
   "execution_count": 7,
   "metadata": {},
   "outputs": [
    {
     "data": {
      "application/vnd.plotly.v1+json": {
       "config": {
        "plotlyServerURL": "https://plot.ly"
       },
       "data": [
        {
         "customdata": [
          [
           "No hotel found",
           "IN"
          ]
         ],
         "geo": "geo",
         "hovertemplate": "City=mandal<br>Humidity=%{marker.size}<br>Lat=%{lat}<br>Lng=%{lon}<br>Hotel Name=%{customdata[0]}<br>Country=%{customdata[1]}<extra></extra>",
         "lat": [
          25.45
         ],
         "legendgroup": "mandal",
         "lon": [
          74.5667
         ],
         "marker": {
          "color": "#636efa",
          "size": [
           63
          ],
          "sizemode": "area",
          "sizeref": 2.0408163265306123,
          "symbol": "circle"
         },
         "mode": "markers",
         "name": "mandal",
         "showlegend": true,
         "type": "scattergeo"
        },
        {
         "customdata": [
          [
           "Вилюй",
           "RU"
          ]
         ],
         "geo": "geo",
         "hovertemplate": "City=udachnyy<br>Humidity=%{marker.size}<br>Lat=%{lat}<br>Lng=%{lon}<br>Hotel Name=%{customdata[0]}<br>Country=%{customdata[1]}<extra></extra>",
         "lat": [
          66.4167
         ],
         "legendgroup": "udachnyy",
         "lon": [
          112.4
         ],
         "marker": {
          "color": "#EF553B",
          "size": [
           74
          ],
          "sizemode": "area",
          "sizeref": 2.0408163265306123,
          "symbol": "circle"
         },
         "mode": "markers",
         "name": "udachnyy",
         "showlegend": true,
         "type": "scattergeo"
        },
        {
         "customdata": [
          [
           "No hotel found",
           "NZ"
          ]
         ],
         "geo": "geo",
         "hovertemplate": "City=tuatapere<br>Humidity=%{marker.size}<br>Lat=%{lat}<br>Lng=%{lon}<br>Hotel Name=%{customdata[0]}<br>Country=%{customdata[1]}<extra></extra>",
         "lat": [
          -46.1333
         ],
         "legendgroup": "tuatapere",
         "lon": [
          167.6833
         ],
         "marker": {
          "color": "#00cc96",
          "size": [
           47
          ],
          "sizemode": "area",
          "sizeref": 2.0408163265306123,
          "symbol": "circle"
         },
         "mode": "markers",
         "name": "tuatapere",
         "showlegend": true,
         "type": "scattergeo"
        },
        {
         "customdata": [
          [
           "Broadwater Beach Resort",
           "AU"
          ]
         ],
         "geo": "geo",
         "hovertemplate": "City=busselton<br>Humidity=%{marker.size}<br>Lat=%{lat}<br>Lng=%{lon}<br>Hotel Name=%{customdata[0]}<br>Country=%{customdata[1]}<extra></extra>",
         "lat": [
          -33.65
         ],
         "legendgroup": "busselton",
         "lon": [
          115.3333
         ],
         "marker": {
          "color": "#ab63fa",
          "size": [
           41
          ],
          "sizemode": "area",
          "sizeref": 2.0408163265306123,
          "symbol": "circle"
         },
         "mode": "markers",
         "name": "busselton",
         "showlegend": true,
         "type": "scattergeo"
        },
        {
         "customdata": [
          [
           "No hotel found",
           "UZ"
          ]
         ],
         "geo": "geo",
         "hovertemplate": "City=gurlan<br>Humidity=%{marker.size}<br>Lat=%{lat}<br>Lng=%{lon}<br>Hotel Name=%{customdata[0]}<br>Country=%{customdata[1]}<extra></extra>",
         "lat": [
          41.8447
         ],
         "legendgroup": "gurlan",
         "lon": [
          60.3919
         ],
         "marker": {
          "color": "#FFA15A",
          "size": [
           35
          ],
          "sizemode": "area",
          "sizeref": 2.0408163265306123,
          "symbol": "circle"
         },
         "mode": "markers",
         "name": "gurlan",
         "showlegend": true,
         "type": "scattergeo"
        },
        {
         "customdata": [
          [
           "Catherine’s Lodge",
           "GH"
          ]
         ],
         "geo": "geo",
         "hovertemplate": "City=kpandu<br>Humidity=%{marker.size}<br>Lat=%{lat}<br>Lng=%{lon}<br>Hotel Name=%{customdata[0]}<br>Country=%{customdata[1]}<extra></extra>",
         "lat": [
          6.9954
         ],
         "legendgroup": "kpandu",
         "lon": [
          0.2931
         ],
         "marker": {
          "color": "#19d3f3",
          "size": [
           78
          ],
          "sizemode": "area",
          "sizeref": 2.0408163265306123,
          "symbol": "circle"
         },
         "mode": "markers",
         "name": "kpandu",
         "showlegend": true,
         "type": "scattergeo"
        },
        {
         "customdata": [
          [
           "Hotel Lacolet",
           "CL"
          ]
         ],
         "geo": "geo",
         "hovertemplate": "City=punta arenas<br>Humidity=%{marker.size}<br>Lat=%{lat}<br>Lng=%{lon}<br>Hotel Name=%{customdata[0]}<br>Country=%{customdata[1]}<extra></extra>",
         "lat": [
          -53.15
         ],
         "legendgroup": "punta arenas",
         "lon": [
          -70.9167
         ],
         "marker": {
          "color": "#FF6692",
          "size": [
           57
          ],
          "sizemode": "area",
          "sizeref": 2.0408163265306123,
          "symbol": "circle"
         },
         "mode": "markers",
         "name": "punta arenas",
         "showlegend": true,
         "type": "scattergeo"
        },
        {
         "customdata": [
          [
           "Hotel Qaanaaq",
           "GL"
          ]
         ],
         "geo": "geo",
         "hovertemplate": "City=qaanaaq<br>Humidity=%{marker.size}<br>Lat=%{lat}<br>Lng=%{lon}<br>Hotel Name=%{customdata[0]}<br>Country=%{customdata[1]}<extra></extra>",
         "lat": [
          77.484
         ],
         "legendgroup": "qaanaaq",
         "lon": [
          -69.3632
         ],
         "marker": {
          "color": "#B6E880",
          "size": [
           70
          ],
          "sizemode": "area",
          "sizeref": 2.0408163265306123,
          "symbol": "circle"
         },
         "mode": "markers",
         "name": "qaanaaq",
         "showlegend": true,
         "type": "scattergeo"
        },
        {
         "customdata": [
          [
           "Hostal La Mirada De Solitario George",
           "EC"
          ]
         ],
         "geo": "geo",
         "hovertemplate": "City=puerto ayora<br>Humidity=%{marker.size}<br>Lat=%{lat}<br>Lng=%{lon}<br>Hotel Name=%{customdata[0]}<br>Country=%{customdata[1]}<extra></extra>",
         "lat": [
          -0.7393
         ],
         "legendgroup": "puerto ayora",
         "lon": [
          -90.3518
         ],
         "marker": {
          "color": "#FF97FF",
          "size": [
           98
          ],
          "sizemode": "area",
          "sizeref": 2.0408163265306123,
          "symbol": "circle"
         },
         "mode": "markers",
         "name": "puerto ayora",
         "showlegend": true,
         "type": "scattergeo"
        },
        {
         "customdata": [
          [
           "Waterford Hotel",
           "ZA"
          ]
         ],
         "geo": "geo",
         "hovertemplate": "City=port elizabeth<br>Humidity=%{marker.size}<br>Lat=%{lat}<br>Lng=%{lon}<br>Hotel Name=%{customdata[0]}<br>Country=%{customdata[1]}<extra></extra>",
         "lat": [
          -33.918
         ],
         "legendgroup": "port elizabeth",
         "lon": [
          25.5701
         ],
         "marker": {
          "color": "#FECB52",
          "size": [
           86
          ],
          "sizemode": "area",
          "sizeref": 2.0408163265306123,
          "symbol": "circle"
         },
         "mode": "markers",
         "name": "port elizabeth",
         "showlegend": true,
         "type": "scattergeo"
        },
        {
         "customdata": [
          [
           "Eureka Inn, Trademark Collection by Wyndham",
           "US"
          ]
         ],
         "geo": "geo",
         "hovertemplate": "City=eureka<br>Humidity=%{marker.size}<br>Lat=%{lat}<br>Lng=%{lon}<br>Hotel Name=%{customdata[0]}<br>Country=%{customdata[1]}<extra></extra>",
         "lat": [
          40.8021
         ],
         "legendgroup": "eureka",
         "lon": [
          -124.1637
         ],
         "marker": {
          "color": "#636efa",
          "size": [
           91
          ],
          "sizemode": "area",
          "sizeref": 2.0408163265306123,
          "symbol": "circle"
         },
         "mode": "markers",
         "name": "eureka",
         "showlegend": true,
         "type": "scattergeo"
        },
        {
         "customdata": [
          [
           "No hotel found",
           "CA"
          ]
         ],
         "geo": "geo",
         "hovertemplate": "City=port-cartier<br>Humidity=%{marker.size}<br>Lat=%{lat}<br>Lng=%{lon}<br>Hotel Name=%{customdata[0]}<br>Country=%{customdata[1]}<extra></extra>",
         "lat": [
          50.0334
         ],
         "legendgroup": "port-cartier",
         "lon": [
          -66.8654
         ],
         "marker": {
          "color": "#EF553B",
          "size": [
           98
          ],
          "sizemode": "area",
          "sizeref": 2.0408163265306123,
          "symbol": "circle"
         },
         "mode": "markers",
         "name": "port-cartier",
         "showlegend": true,
         "type": "scattergeo"
        },
        {
         "customdata": [
          [
           "Shelikof Lodge",
           "US"
          ]
         ],
         "geo": "geo",
         "hovertemplate": "City=kodiak<br>Humidity=%{marker.size}<br>Lat=%{lat}<br>Lng=%{lon}<br>Hotel Name=%{customdata[0]}<br>Country=%{customdata[1]}<extra></extra>",
         "lat": [
          57.79
         ],
         "legendgroup": "kodiak",
         "lon": [
          -152.4072
         ],
         "marker": {
          "color": "#00cc96",
          "size": [
           87
          ],
          "sizemode": "area",
          "sizeref": 2.0408163265306123,
          "symbol": "circle"
         },
         "mode": "markers",
         "name": "kodiak",
         "showlegend": true,
         "type": "scattergeo"
        },
        {
         "customdata": [
          [
           "فندق جمرا",
           "TD"
          ]
         ],
         "geo": "geo",
         "hovertemplate": "City=moundou<br>Humidity=%{marker.size}<br>Lat=%{lat}<br>Lng=%{lon}<br>Hotel Name=%{customdata[0]}<br>Country=%{customdata[1]}<extra></extra>",
         "lat": [
          8.5667
         ],
         "legendgroup": "moundou",
         "lon": [
          16.0833
         ],
         "marker": {
          "color": "#ab63fa",
          "size": [
           22
          ],
          "sizemode": "area",
          "sizeref": 2.0408163265306123,
          "symbol": "circle"
         },
         "mode": "markers",
         "name": "moundou",
         "showlegend": true,
         "type": "scattergeo"
        },
        {
         "customdata": [
          [
           "Hotel Central Palace",
           "BR"
          ]
         ],
         "geo": "geo",
         "hovertemplate": "City=castro<br>Humidity=%{marker.size}<br>Lat=%{lat}<br>Lng=%{lon}<br>Hotel Name=%{customdata[0]}<br>Country=%{customdata[1]}<extra></extra>",
         "lat": [
          -24.7911
         ],
         "legendgroup": "castro",
         "lon": [
          -50.0119
         ],
         "marker": {
          "color": "#FFA15A",
          "size": [
           95
          ],
          "sizemode": "area",
          "sizeref": 2.0408163265306123,
          "symbol": "circle"
         },
         "mode": "markers",
         "name": "castro",
         "showlegend": true,
         "type": "scattergeo"
        },
        {
         "customdata": [
          [
           "No hotel found",
           "NZ"
          ]
         ],
         "geo": "geo",
         "hovertemplate": "City=mataura<br>Humidity=%{marker.size}<br>Lat=%{lat}<br>Lng=%{lon}<br>Hotel Name=%{customdata[0]}<br>Country=%{customdata[1]}<extra></extra>",
         "lat": [
          -46.1927
         ],
         "legendgroup": "mataura",
         "lon": [
          168.8643
         ],
         "marker": {
          "color": "#19d3f3",
          "size": [
           35
          ],
          "sizemode": "area",
          "sizeref": 2.0408163265306123,
          "symbol": "circle"
         },
         "mode": "markers",
         "name": "mataura",
         "showlegend": true,
         "type": "scattergeo"
        },
        {
         "customdata": [
          [
           "DoubleTree Jamestown",
           "US"
          ]
         ],
         "geo": "geo",
         "hovertemplate": "City=jamestown<br>Humidity=%{marker.size}<br>Lat=%{lat}<br>Lng=%{lon}<br>Hotel Name=%{customdata[0]}<br>Country=%{customdata[1]}<extra></extra>",
         "lat": [
          42.097
         ],
         "legendgroup": "jamestown",
         "lon": [
          -79.2353
         ],
         "marker": {
          "color": "#FF6692",
          "size": [
           67
          ],
          "sizemode": "area",
          "sizeref": 2.0408163265306123,
          "symbol": "circle"
         },
         "mode": "markers",
         "name": "jamestown",
         "showlegend": true,
         "type": "scattergeo"
        },
        {
         "customdata": [
          [
           "Andrikken hotell",
           "NO"
          ]
         ],
         "geo": "geo",
         "hovertemplate": "City=andenes<br>Humidity=%{marker.size}<br>Lat=%{lat}<br>Lng=%{lon}<br>Hotel Name=%{customdata[0]}<br>Country=%{customdata[1]}<extra></extra>",
         "lat": [
          69.3143
         ],
         "legendgroup": "andenes",
         "lon": [
          16.1194
         ],
         "marker": {
          "color": "#B6E880",
          "size": [
           75
          ],
          "sizemode": "area",
          "sizeref": 2.0408163265306123,
          "symbol": "circle"
         },
         "mode": "markers",
         "name": "andenes",
         "showlegend": true,
         "type": "scattergeo"
        },
        {
         "customdata": [
          [
           "Page 63 hostel",
           "MY"
          ]
         ],
         "geo": "geo",
         "hovertemplate": "City=georgetown<br>Humidity=%{marker.size}<br>Lat=%{lat}<br>Lng=%{lon}<br>Hotel Name=%{customdata[0]}<br>Country=%{customdata[1]}<extra></extra>",
         "lat": [
          5.4112
         ],
         "legendgroup": "georgetown",
         "lon": [
          100.3354
         ],
         "marker": {
          "color": "#FF97FF",
          "size": [
           78
          ],
          "sizemode": "area",
          "sizeref": 2.0408163265306123,
          "symbol": "circle"
         },
         "mode": "markers",
         "name": "georgetown",
         "showlegend": true,
         "type": "scattergeo"
        },
        {
         "customdata": [
          [
           "North Star Hotel Snæfellsnes",
           "IS"
          ]
         ],
         "geo": "geo",
         "hovertemplate": "City=olafsvik<br>Humidity=%{marker.size}<br>Lat=%{lat}<br>Lng=%{lon}<br>Hotel Name=%{customdata[0]}<br>Country=%{customdata[1]}<extra></extra>",
         "lat": [
          64.8945
         ],
         "legendgroup": "olafsvik",
         "lon": [
          -23.7142
         ],
         "marker": {
          "color": "#FECB52",
          "size": [
           98
          ],
          "sizemode": "area",
          "sizeref": 2.0408163265306123,
          "symbol": "circle"
         },
         "mode": "markers",
         "name": "olafsvik",
         "showlegend": true,
         "type": "scattergeo"
        },
        {
         "customdata": [
          [
           "Protea Hotel",
           "ZA"
          ]
         ],
         "geo": "geo",
         "hovertemplate": "City=richards bay<br>Humidity=%{marker.size}<br>Lat=%{lat}<br>Lng=%{lon}<br>Hotel Name=%{customdata[0]}<br>Country=%{customdata[1]}<extra></extra>",
         "lat": [
          -28.783
         ],
         "legendgroup": "richards bay",
         "lon": [
          32.0377
         ],
         "marker": {
          "color": "#636efa",
          "size": [
           94
          ],
          "sizemode": "area",
          "sizeref": 2.0408163265306123,
          "symbol": "circle"
         },
         "mode": "markers",
         "name": "richards bay",
         "showlegend": true,
         "type": "scattergeo"
        },
        {
         "customdata": [
          [
           "Motel Lieben",
           "MX"
          ]
         ],
         "geo": "geo",
         "hovertemplate": "City=acatic<br>Humidity=%{marker.size}<br>Lat=%{lat}<br>Lng=%{lon}<br>Hotel Name=%{customdata[0]}<br>Country=%{customdata[1]}<extra></extra>",
         "lat": [
          20.7833
         ],
         "legendgroup": "acatic",
         "lon": [
          -102.8833
         ],
         "marker": {
          "color": "#EF553B",
          "size": [
           44
          ],
          "sizemode": "area",
          "sizeref": 2.0408163265306123,
          "symbol": "circle"
         },
         "mode": "markers",
         "name": "acatic",
         "showlegend": true,
         "type": "scattergeo"
        },
        {
         "customdata": [
          [
           "Hotel Flamingo Playa",
           "MX"
          ]
         ],
         "geo": "geo",
         "hovertemplate": "City=celestun<br>Humidity=%{marker.size}<br>Lat=%{lat}<br>Lng=%{lon}<br>Hotel Name=%{customdata[0]}<br>Country=%{customdata[1]}<extra></extra>",
         "lat": [
          20.8667
         ],
         "legendgroup": "celestun",
         "lon": [
          -90.4
         ],
         "marker": {
          "color": "#00cc96",
          "size": [
           79
          ],
          "sizemode": "area",
          "sizeref": 2.0408163265306123,
          "symbol": "circle"
         },
         "mode": "markers",
         "name": "celestun",
         "showlegend": true,
         "type": "scattergeo"
        },
        {
         "customdata": [
          [
           "Chez Bianca & Benoit",
           "PF"
          ]
         ],
         "geo": "geo",
         "hovertemplate": "City=rikitea<br>Humidity=%{marker.size}<br>Lat=%{lat}<br>Lng=%{lon}<br>Hotel Name=%{customdata[0]}<br>Country=%{customdata[1]}<extra></extra>",
         "lat": [
          -23.1203
         ],
         "legendgroup": "rikitea",
         "lon": [
          -134.9692
         ],
         "marker": {
          "color": "#ab63fa",
          "size": [
           75
          ],
          "sizemode": "area",
          "sizeref": 2.0408163265306123,
          "symbol": "circle"
         },
         "mode": "markers",
         "name": "rikitea",
         "showlegend": true,
         "type": "scattergeo"
        },
        {
         "customdata": [
          [
           "イーストハーバーホテル",
           "JP"
          ]
         ],
         "geo": "geo",
         "hovertemplate": "City=nemuro<br>Humidity=%{marker.size}<br>Lat=%{lat}<br>Lng=%{lon}<br>Hotel Name=%{customdata[0]}<br>Country=%{customdata[1]}<extra></extra>",
         "lat": [
          43.3236
         ],
         "legendgroup": "nemuro",
         "lon": [
          145.575
         ],
         "marker": {
          "color": "#FFA15A",
          "size": [
           70
          ],
          "sizemode": "area",
          "sizeref": 2.0408163265306123,
          "symbol": "circle"
         },
         "mode": "markers",
         "name": "nemuro",
         "showlegend": true,
         "type": "scattergeo"
        },
        {
         "customdata": [
          [
           "Apart Hotel Aires del Beagle",
           "AR"
          ]
         ],
         "geo": "geo",
         "hovertemplate": "City=ushuaia<br>Humidity=%{marker.size}<br>Lat=%{lat}<br>Lng=%{lon}<br>Hotel Name=%{customdata[0]}<br>Country=%{customdata[1]}<extra></extra>",
         "lat": [
          -54.8
         ],
         "legendgroup": "ushuaia",
         "lon": [
          -68.3
         ],
         "marker": {
          "color": "#19d3f3",
          "size": [
           87
          ],
          "sizemode": "area",
          "sizeref": 2.0408163265306123,
          "symbol": "circle"
         },
         "mode": "markers",
         "name": "ushuaia",
         "showlegend": true,
         "type": "scattergeo"
        },
        {
         "customdata": [
          [
           "No hotel found",
           "US"
          ]
         ],
         "geo": "geo",
         "hovertemplate": "City=barrow<br>Humidity=%{marker.size}<br>Lat=%{lat}<br>Lng=%{lon}<br>Hotel Name=%{customdata[0]}<br>Country=%{customdata[1]}<extra></extra>",
         "lat": [
          71.2906
         ],
         "legendgroup": "barrow",
         "lon": [
          -156.7887
         ],
         "marker": {
          "color": "#FF6692",
          "size": [
           84
          ],
          "sizemode": "area",
          "sizeref": 2.0408163265306123,
          "symbol": "circle"
         },
         "mode": "markers",
         "name": "barrow",
         "showlegend": true,
         "type": "scattergeo"
        },
        {
         "customdata": [
          [
           "فندق جالو السياحي",
           "LY"
          ]
         ],
         "geo": "geo",
         "hovertemplate": "City=jalu<br>Humidity=%{marker.size}<br>Lat=%{lat}<br>Lng=%{lon}<br>Hotel Name=%{customdata[0]}<br>Country=%{customdata[1]}<extra></extra>",
         "lat": [
          29.0331
         ],
         "legendgroup": "jalu",
         "lon": [
          21.5482
         ],
         "marker": {
          "color": "#B6E880",
          "size": [
           64
          ],
          "sizemode": "area",
          "sizeref": 2.0408163265306123,
          "symbol": "circle"
         },
         "mode": "markers",
         "name": "jalu",
         "showlegend": true,
         "type": "scattergeo"
        },
        {
         "customdata": [
          [
           "Vibe Hotel Hobart",
           "AU"
          ]
         ],
         "geo": "geo",
         "hovertemplate": "City=hobart<br>Humidity=%{marker.size}<br>Lat=%{lat}<br>Lng=%{lon}<br>Hotel Name=%{customdata[0]}<br>Country=%{customdata[1]}<extra></extra>",
         "lat": [
          -42.8794
         ],
         "legendgroup": "hobart",
         "lon": [
          147.3294
         ],
         "marker": {
          "color": "#FF97FF",
          "size": [
           47
          ],
          "sizemode": "area",
          "sizeref": 2.0408163265306123,
          "symbol": "circle"
         },
         "mode": "markers",
         "name": "hobart",
         "showlegend": true,
         "type": "scattergeo"
        },
        {
         "customdata": [
          [
           "Holiday Inn Express & Suites",
           "US"
          ]
         ],
         "geo": "geo",
         "hovertemplate": "City=laguna<br>Humidity=%{marker.size}<br>Lat=%{lat}<br>Lng=%{lon}<br>Hotel Name=%{customdata[0]}<br>Country=%{customdata[1]}<extra></extra>",
         "lat": [
          38.421
         ],
         "legendgroup": "laguna",
         "lon": [
          -121.4238
         ],
         "marker": {
          "color": "#FECB52",
          "size": [
           63
          ],
          "sizemode": "area",
          "sizeref": 2.0408163265306123,
          "symbol": "circle"
         },
         "mode": "markers",
         "name": "laguna",
         "showlegend": true,
         "type": "scattergeo"
        },
        {
         "customdata": [
          [
           "Casa da Madrinha",
           "PT"
          ]
         ],
         "geo": "geo",
         "hovertemplate": "City=lagoa<br>Humidity=%{marker.size}<br>Lat=%{lat}<br>Lng=%{lon}<br>Hotel Name=%{customdata[0]}<br>Country=%{customdata[1]}<extra></extra>",
         "lat": [
          39.05
         ],
         "legendgroup": "lagoa",
         "lon": [
          -27.9833
         ],
         "marker": {
          "color": "#636efa",
          "size": [
           77
          ],
          "sizemode": "area",
          "sizeref": 2.0408163265306123,
          "symbol": "circle"
         },
         "mode": "markers",
         "name": "lagoa",
         "showlegend": true,
         "type": "scattergeo"
        },
        {
         "customdata": [
          [
           "No hotel found",
           "US"
          ]
         ],
         "geo": "geo",
         "hovertemplate": "City=albany<br>Humidity=%{marker.size}<br>Lat=%{lat}<br>Lng=%{lon}<br>Hotel Name=%{customdata[0]}<br>Country=%{customdata[1]}<extra></extra>",
         "lat": [
          42.6001
         ],
         "legendgroup": "albany",
         "lon": [
          -73.9662
         ],
         "marker": {
          "color": "#EF553B",
          "size": [
           83
          ],
          "sizemode": "area",
          "sizeref": 2.0408163265306123,
          "symbol": "circle"
         },
         "mode": "markers",
         "name": "albany",
         "showlegend": true,
         "type": "scattergeo"
        },
        {
         "customdata": [
          [
           "Hampton Inn Danbury",
           "US"
          ]
         ],
         "geo": "geo",
         "hovertemplate": "City=bethel<br>Humidity=%{marker.size}<br>Lat=%{lat}<br>Lng=%{lon}<br>Hotel Name=%{customdata[0]}<br>Country=%{customdata[1]}<extra></extra>",
         "lat": [
          41.3712
         ],
         "legendgroup": "bethel",
         "lon": [
          -73.414
         ],
         "marker": {
          "color": "#00cc96",
          "size": [
           78
          ],
          "sizemode": "area",
          "sizeref": 2.0408163265306123,
          "symbol": "circle"
         },
         "mode": "markers",
         "name": "bethel",
         "showlegend": true,
         "type": "scattergeo"
        },
        {
         "customdata": [
          [
           "Hotel Castelo",
           "BR"
          ]
         ],
         "geo": "geo",
         "hovertemplate": "City=cidreira<br>Humidity=%{marker.size}<br>Lat=%{lat}<br>Lng=%{lon}<br>Hotel Name=%{customdata[0]}<br>Country=%{customdata[1]}<extra></extra>",
         "lat": [
          -30.1811
         ],
         "legendgroup": "cidreira",
         "lon": [
          -50.2056
         ],
         "marker": {
          "color": "#ab63fa",
          "size": [
           82
          ],
          "sizemode": "area",
          "sizeref": 2.0408163265306123,
          "symbol": "circle"
         },
         "mode": "markers",
         "name": "cidreira",
         "showlegend": true,
         "type": "scattergeo"
        },
        {
         "customdata": [
          [
           "Nova Kiama",
           "AU"
          ]
         ],
         "geo": "geo",
         "hovertemplate": "City=flinders<br>Humidity=%{marker.size}<br>Lat=%{lat}<br>Lng=%{lon}<br>Hotel Name=%{customdata[0]}<br>Country=%{customdata[1]}<extra></extra>",
         "lat": [
          -34.5833
         ],
         "legendgroup": "flinders",
         "lon": [
          150.8552
         ],
         "marker": {
          "color": "#FFA15A",
          "size": [
           70
          ],
          "sizemode": "area",
          "sizeref": 2.0408163265306123,
          "symbol": "circle"
         },
         "mode": "markers",
         "name": "flinders",
         "showlegend": true,
         "type": "scattergeo"
        },
        {
         "customdata": [
          [
           "Pebbles Inn",
           "MV"
          ]
         ],
         "geo": "geo",
         "hovertemplate": "City=hithadhoo<br>Humidity=%{marker.size}<br>Lat=%{lat}<br>Lng=%{lon}<br>Hotel Name=%{customdata[0]}<br>Country=%{customdata[1]}<extra></extra>",
         "lat": [
          -0.6
         ],
         "legendgroup": "hithadhoo",
         "lon": [
          73.0833
         ],
         "marker": {
          "color": "#19d3f3",
          "size": [
           77
          ],
          "sizemode": "area",
          "sizeref": 2.0408163265306123,
          "symbol": "circle"
         },
         "mode": "markers",
         "name": "hithadhoo",
         "showlegend": true,
         "type": "scattergeo"
        },
        {
         "customdata": [
          [
           "Abilene Hotel",
           "US"
          ]
         ],
         "geo": "geo",
         "hovertemplate": "City=abilene<br>Humidity=%{marker.size}<br>Lat=%{lat}<br>Lng=%{lon}<br>Hotel Name=%{customdata[0]}<br>Country=%{customdata[1]}<extra></extra>",
         "lat": [
          32.4487
         ],
         "legendgroup": "abilene",
         "lon": [
          -99.7331
         ],
         "marker": {
          "color": "#FF6692",
          "size": [
           39
          ],
          "sizemode": "area",
          "sizeref": 2.0408163265306123,
          "symbol": "circle"
         },
         "mode": "markers",
         "name": "abilene",
         "showlegend": true,
         "type": "scattergeo"
        },
        {
         "customdata": [
          [
           "Прасковья",
           "RU"
          ]
         ],
         "geo": "geo",
         "hovertemplate": "City=ust-tsilma<br>Humidity=%{marker.size}<br>Lat=%{lat}<br>Lng=%{lon}<br>Hotel Name=%{customdata[0]}<br>Country=%{customdata[1]}<extra></extra>",
         "lat": [
          65.441
         ],
         "legendgroup": "ust-tsilma",
         "lon": [
          52.1498
         ],
         "marker": {
          "color": "#B6E880",
          "size": [
           86
          ],
          "sizemode": "area",
          "sizeref": 2.0408163265306123,
          "symbol": "circle"
         },
         "mode": "markers",
         "name": "ust-tsilma",
         "showlegend": true,
         "type": "scattergeo"
        },
        {
         "customdata": [
          [
           "Kap Farvel",
           "GL"
          ]
         ],
         "geo": "geo",
         "hovertemplate": "City=nanortalik<br>Humidity=%{marker.size}<br>Lat=%{lat}<br>Lng=%{lon}<br>Hotel Name=%{customdata[0]}<br>Country=%{customdata[1]}<extra></extra>",
         "lat": [
          60.1432
         ],
         "legendgroup": "nanortalik",
         "lon": [
          -45.2371
         ],
         "marker": {
          "color": "#FF97FF",
          "size": [
           86
          ],
          "sizemode": "area",
          "sizeref": 2.0408163265306123,
          "symbol": "circle"
         },
         "mode": "markers",
         "name": "nanortalik",
         "showlegend": true,
         "type": "scattergeo"
        },
        {
         "customdata": [
          [
           "No hotel found",
           "RU"
          ]
         ],
         "geo": "geo",
         "hovertemplate": "City=myaundzha<br>Humidity=%{marker.size}<br>Lat=%{lat}<br>Lng=%{lon}<br>Hotel Name=%{customdata[0]}<br>Country=%{customdata[1]}<extra></extra>",
         "lat": [
          63.0494
         ],
         "legendgroup": "myaundzha",
         "lon": [
          147.1858
         ],
         "marker": {
          "color": "#FECB52",
          "size": [
           97
          ],
          "sizemode": "area",
          "sizeref": 2.0408163265306123,
          "symbol": "circle"
         },
         "mode": "markers",
         "name": "myaundzha",
         "showlegend": true,
         "type": "scattergeo"
        },
        {
         "customdata": [
          [
           "Hotel South Otago",
           "NZ"
          ]
         ],
         "geo": "geo",
         "hovertemplate": "City=kaitangata<br>Humidity=%{marker.size}<br>Lat=%{lat}<br>Lng=%{lon}<br>Hotel Name=%{customdata[0]}<br>Country=%{customdata[1]}<extra></extra>",
         "lat": [
          -46.2817
         ],
         "legendgroup": "kaitangata",
         "lon": [
          169.8464
         ],
         "marker": {
          "color": "#636efa",
          "size": [
           57
          ],
          "sizemode": "area",
          "sizeref": 2.0408163265306123,
          "symbol": "circle"
         },
         "mode": "markers",
         "name": "kaitangata",
         "showlegend": true,
         "type": "scattergeo"
        },
        {
         "customdata": [
          [
           "Hotel Narsaq",
           "GL"
          ]
         ],
         "geo": "geo",
         "hovertemplate": "City=narsaq<br>Humidity=%{marker.size}<br>Lat=%{lat}<br>Lng=%{lon}<br>Hotel Name=%{customdata[0]}<br>Country=%{customdata[1]}<extra></extra>",
         "lat": [
          60.9167
         ],
         "legendgroup": "narsaq",
         "lon": [
          -46.05
         ],
         "marker": {
          "color": "#EF553B",
          "size": [
           80
          ],
          "sizemode": "area",
          "sizeref": 2.0408163265306123,
          "symbol": "circle"
         },
         "mode": "markers",
         "name": "narsaq",
         "showlegend": true,
         "type": "scattergeo"
        },
        {
         "customdata": [
          [
           "No hotel found",
           "NG"
          ]
         ],
         "geo": "geo",
         "hovertemplate": "City=bara<br>Humidity=%{marker.size}<br>Lat=%{lat}<br>Lng=%{lon}<br>Hotel Name=%{customdata[0]}<br>Country=%{customdata[1]}<extra></extra>",
         "lat": [
          10.3744
         ],
         "legendgroup": "bara",
         "lon": [
          10.7288
         ],
         "marker": {
          "color": "#00cc96",
          "size": [
           22
          ],
          "sizemode": "area",
          "sizeref": 2.0408163265306123,
          "symbol": "circle"
         },
         "mode": "markers",
         "name": "bara",
         "showlegend": true,
         "type": "scattergeo"
        },
        {
         "customdata": [
          [
           "Hotel Austral Bahía",
           "AR"
          ]
         ],
         "geo": "geo",
         "hovertemplate": "City=bahia blanca<br>Humidity=%{marker.size}<br>Lat=%{lat}<br>Lng=%{lon}<br>Hotel Name=%{customdata[0]}<br>Country=%{customdata[1]}<extra></extra>",
         "lat": [
          -38.7196
         ],
         "legendgroup": "bahia blanca",
         "lon": [
          -62.2724
         ],
         "marker": {
          "color": "#ab63fa",
          "size": [
           43
          ],
          "sizemode": "area",
          "sizeref": 2.0408163265306123,
          "symbol": "circle"
         },
         "mode": "markers",
         "name": "bahia blanca",
         "showlegend": true,
         "type": "scattergeo"
        },
        {
         "customdata": [
          [
           "No hotel found",
           "ZA"
          ]
         ],
         "geo": "geo",
         "hovertemplate": "City=port alfred<br>Humidity=%{marker.size}<br>Lat=%{lat}<br>Lng=%{lon}<br>Hotel Name=%{customdata[0]}<br>Country=%{customdata[1]}<extra></extra>",
         "lat": [
          -33.5906
         ],
         "legendgroup": "port alfred",
         "lon": [
          26.891
         ],
         "marker": {
          "color": "#FFA15A",
          "size": [
           88
          ],
          "sizemode": "area",
          "sizeref": 2.0408163265306123,
          "symbol": "circle"
         },
         "mode": "markers",
         "name": "port alfred",
         "showlegend": true,
         "type": "scattergeo"
        },
        {
         "customdata": [
          [
           "Aloe guest house",
           "ZA"
          ]
         ],
         "geo": "geo",
         "hovertemplate": "City=hermanus<br>Humidity=%{marker.size}<br>Lat=%{lat}<br>Lng=%{lon}<br>Hotel Name=%{customdata[0]}<br>Country=%{customdata[1]}<extra></extra>",
         "lat": [
          -34.4187
         ],
         "legendgroup": "hermanus",
         "lon": [
          19.2345
         ],
         "marker": {
          "color": "#19d3f3",
          "size": [
           80
          ],
          "sizemode": "area",
          "sizeref": 2.0408163265306123,
          "symbol": "circle"
         },
         "mode": "markers",
         "name": "hermanus",
         "showlegend": true,
         "type": "scattergeo"
        },
        {
         "customdata": [
          [
           "No hotel found",
           "ID"
          ]
         ],
         "geo": "geo",
         "hovertemplate": "City=labuhan<br>Humidity=%{marker.size}<br>Lat=%{lat}<br>Lng=%{lon}<br>Hotel Name=%{customdata[0]}<br>Country=%{customdata[1]}<extra></extra>",
         "lat": [
          -6.8844
         ],
         "legendgroup": "labuhan",
         "lon": [
          112.2051
         ],
         "marker": {
          "color": "#FF6692",
          "size": [
           71
          ],
          "sizemode": "area",
          "sizeref": 2.0408163265306123,
          "symbol": "circle"
         },
         "mode": "markers",
         "name": "labuhan",
         "showlegend": true,
         "type": "scattergeo"
        },
        {
         "customdata": [
          [
           "四季酒店 Four Seasons Hotel",
           "HK"
          ]
         ],
         "geo": "geo",
         "hovertemplate": "City=victoria<br>Humidity=%{marker.size}<br>Lat=%{lat}<br>Lng=%{lon}<br>Hotel Name=%{customdata[0]}<br>Country=%{customdata[1]}<extra></extra>",
         "lat": [
          22.2855
         ],
         "legendgroup": "victoria",
         "lon": [
          114.1577
         ],
         "marker": {
          "color": "#B6E880",
          "size": [
           49
          ],
          "sizemode": "area",
          "sizeref": 2.0408163265306123,
          "symbol": "circle"
         },
         "mode": "markers",
         "name": "victoria",
         "showlegend": true,
         "type": "scattergeo"
        },
        {
         "customdata": [
          [
           "Hotel Klaksvik",
           "FO"
          ]
         ],
         "geo": "geo",
         "hovertemplate": "City=klaksvik<br>Humidity=%{marker.size}<br>Lat=%{lat}<br>Lng=%{lon}<br>Hotel Name=%{customdata[0]}<br>Country=%{customdata[1]}<extra></extra>",
         "lat": [
          62.2266
         ],
         "legendgroup": "klaksvik",
         "lon": [
          -6.5889999999999995
         ],
         "marker": {
          "color": "#FF97FF",
          "size": [
           97
          ],
          "sizemode": "area",
          "sizeref": 2.0408163265306123,
          "symbol": "circle"
         },
         "mode": "markers",
         "name": "klaksvik",
         "showlegend": true,
         "type": "scattergeo"
        },
        {
         "customdata": [
          [
           "Dena Hotel",
           "ID"
          ]
         ],
         "geo": "geo",
         "hovertemplate": "City=bengkulu<br>Humidity=%{marker.size}<br>Lat=%{lat}<br>Lng=%{lon}<br>Hotel Name=%{customdata[0]}<br>Country=%{customdata[1]}<extra></extra>",
         "lat": [
          -3.8004
         ],
         "legendgroup": "bengkulu",
         "lon": [
          102.2655
         ],
         "marker": {
          "color": "#FECB52",
          "size": [
           90
          ],
          "sizemode": "area",
          "sizeref": 2.0408163265306123,
          "symbol": "circle"
         },
         "mode": "markers",
         "name": "bengkulu",
         "showlegend": true,
         "type": "scattergeo"
        },
        {
         "customdata": [
          [
           "潮騒の宿",
           "JP"
          ]
         ],
         "geo": "geo",
         "hovertemplate": "City=katsuura<br>Humidity=%{marker.size}<br>Lat=%{lat}<br>Lng=%{lon}<br>Hotel Name=%{customdata[0]}<br>Country=%{customdata[1]}<extra></extra>",
         "lat": [
          35.1333
         ],
         "legendgroup": "katsuura",
         "lon": [
          140.3
         ],
         "marker": {
          "color": "#636efa",
          "size": [
           63
          ],
          "sizemode": "area",
          "sizeref": 2.0408163265306123,
          "symbol": "circle"
         },
         "mode": "markers",
         "name": "katsuura",
         "showlegend": true,
         "type": "scattergeo"
        },
        {
         "customdata": [
          [
           "Frobisher Inn",
           "CA"
          ]
         ],
         "geo": "geo",
         "hovertemplate": "City=iqaluit<br>Humidity=%{marker.size}<br>Lat=%{lat}<br>Lng=%{lon}<br>Hotel Name=%{customdata[0]}<br>Country=%{customdata[1]}<extra></extra>",
         "lat": [
          63.7506
         ],
         "legendgroup": "iqaluit",
         "lon": [
          -68.5145
         ],
         "marker": {
          "color": "#EF553B",
          "size": [
           83
          ],
          "sizemode": "area",
          "sizeref": 2.0408163265306123,
          "symbol": "circle"
         },
         "mode": "markers",
         "name": "iqaluit",
         "showlegend": true,
         "type": "scattergeo"
        },
        {
         "customdata": [
          [
           "あづま旅館",
           "JP"
          ]
         ],
         "geo": "geo",
         "hovertemplate": "City=noshiro<br>Humidity=%{marker.size}<br>Lat=%{lat}<br>Lng=%{lon}<br>Hotel Name=%{customdata[0]}<br>Country=%{customdata[1]}<extra></extra>",
         "lat": [
          40.2039
         ],
         "legendgroup": "noshiro",
         "lon": [
          140.0242
         ],
         "marker": {
          "color": "#00cc96",
          "size": [
           85
          ],
          "sizemode": "area",
          "sizeref": 2.0408163265306123,
          "symbol": "circle"
         },
         "mode": "markers",
         "name": "noshiro",
         "showlegend": true,
         "type": "scattergeo"
        },
        {
         "customdata": [
          [
           "Angmagssalik",
           "GL"
          ]
         ],
         "geo": "geo",
         "hovertemplate": "City=tasiilaq<br>Humidity=%{marker.size}<br>Lat=%{lat}<br>Lng=%{lon}<br>Hotel Name=%{customdata[0]}<br>Country=%{customdata[1]}<extra></extra>",
         "lat": [
          65.6145
         ],
         "legendgroup": "tasiilaq",
         "lon": [
          -37.6368
         ],
         "marker": {
          "color": "#ab63fa",
          "size": [
           65
          ],
          "sizemode": "area",
          "sizeref": 2.0408163265306123,
          "symbol": "circle"
         },
         "mode": "markers",
         "name": "tasiilaq",
         "showlegend": true,
         "type": "scattergeo"
        },
        {
         "customdata": [
          [
           "No hotel found",
           "CA"
          ]
         ],
         "geo": "geo",
         "hovertemplate": "City=yellowknife<br>Humidity=%{marker.size}<br>Lat=%{lat}<br>Lng=%{lon}<br>Hotel Name=%{customdata[0]}<br>Country=%{customdata[1]}<extra></extra>",
         "lat": [
          62.456
         ],
         "legendgroup": "yellowknife",
         "lon": [
          -114.3525
         ],
         "marker": {
          "color": "#FFA15A",
          "size": [
           85
          ],
          "sizemode": "area",
          "sizeref": 2.0408163265306123,
          "symbol": "circle"
         },
         "mode": "markers",
         "name": "yellowknife",
         "showlegend": true,
         "type": "scattergeo"
        },
        {
         "customdata": [
          [
           "Hotel SkylineInn",
           "MU"
          ]
         ],
         "geo": "geo",
         "hovertemplate": "City=souillac<br>Humidity=%{marker.size}<br>Lat=%{lat}<br>Lng=%{lon}<br>Hotel Name=%{customdata[0]}<br>Country=%{customdata[1]}<extra></extra>",
         "lat": [
          -20.5167
         ],
         "legendgroup": "souillac",
         "lon": [
          57.5167
         ],
         "marker": {
          "color": "#19d3f3",
          "size": [
           94
          ],
          "sizemode": "area",
          "sizeref": 2.0408163265306123,
          "symbol": "circle"
         },
         "mode": "markers",
         "name": "souillac",
         "showlegend": true,
         "type": "scattergeo"
        },
        {
         "customdata": [
          [
           "Comfort Rooms",
           "MX"
          ]
         ],
         "geo": "geo",
         "hovertemplate": "City=cabo san lucas<br>Humidity=%{marker.size}<br>Lat=%{lat}<br>Lng=%{lon}<br>Hotel Name=%{customdata[0]}<br>Country=%{customdata[1]}<extra></extra>",
         "lat": [
          22.8909
         ],
         "legendgroup": "cabo san lucas",
         "lon": [
          -109.9124
         ],
         "marker": {
          "color": "#FF6692",
          "size": [
           74
          ],
          "sizemode": "area",
          "sizeref": 2.0408163265306123,
          "symbol": "circle"
         },
         "mode": "markers",
         "name": "cabo san lucas",
         "showlegend": true,
         "type": "scattergeo"
        },
        {
         "customdata": [
          [
           "Dolphin Bay Hotel",
           "US"
          ]
         ],
         "geo": "geo",
         "hovertemplate": "City=hilo<br>Humidity=%{marker.size}<br>Lat=%{lat}<br>Lng=%{lon}<br>Hotel Name=%{customdata[0]}<br>Country=%{customdata[1]}<extra></extra>",
         "lat": [
          19.7297
         ],
         "legendgroup": "hilo",
         "lon": [
          -155.09
         ],
         "marker": {
          "color": "#B6E880",
          "size": [
           82
          ],
          "sizemode": "area",
          "sizeref": 2.0408163265306123,
          "symbol": "circle"
         },
         "mode": "markers",
         "name": "hilo",
         "showlegend": true,
         "type": "scattergeo"
        },
        {
         "customdata": [
          [
           "No hotel found",
           "BR"
          ]
         ],
         "geo": "geo",
         "hovertemplate": "City=elesbao veloso<br>Humidity=%{marker.size}<br>Lat=%{lat}<br>Lng=%{lon}<br>Hotel Name=%{customdata[0]}<br>Country=%{customdata[1]}<extra></extra>",
         "lat": [
          -6.2019
         ],
         "legendgroup": "elesbao veloso",
         "lon": [
          -42.1403
         ],
         "marker": {
          "color": "#FF97FF",
          "size": [
           77
          ],
          "sizemode": "area",
          "sizeref": 2.0408163265306123,
          "symbol": "circle"
         },
         "mode": "markers",
         "name": "elesbao veloso",
         "showlegend": true,
         "type": "scattergeo"
        },
        {
         "customdata": [
          [
           "KENGIR",
           "KZ"
          ]
         ],
         "geo": "geo",
         "hovertemplate": "City=zhezkazgan<br>Humidity=%{marker.size}<br>Lat=%{lat}<br>Lng=%{lon}<br>Hotel Name=%{customdata[0]}<br>Country=%{customdata[1]}<extra></extra>",
         "lat": [
          47.8043
         ],
         "legendgroup": "zhezkazgan",
         "lon": [
          67.7144
         ],
         "marker": {
          "color": "#FECB52",
          "size": [
           85
          ],
          "sizemode": "area",
          "sizeref": 2.0408163265306123,
          "symbol": "circle"
         },
         "mode": "markers",
         "name": "zhezkazgan",
         "showlegend": true,
         "type": "scattergeo"
        },
        {
         "customdata": [
          [
           "YHA Ahipara",
           "NZ"
          ]
         ],
         "geo": "geo",
         "hovertemplate": "City=ahipara<br>Humidity=%{marker.size}<br>Lat=%{lat}<br>Lng=%{lon}<br>Hotel Name=%{customdata[0]}<br>Country=%{customdata[1]}<extra></extra>",
         "lat": [
          -35.1667
         ],
         "legendgroup": "ahipara",
         "lon": [
          173.1667
         ],
         "marker": {
          "color": "#636efa",
          "size": [
           74
          ],
          "sizemode": "area",
          "sizeref": 2.0408163265306123,
          "symbol": "circle"
         },
         "mode": "markers",
         "name": "ahipara",
         "showlegend": true,
         "type": "scattergeo"
        },
        {
         "customdata": [
          [
           "Victoria Hotel",
           "ZA"
          ]
         ],
         "geo": "geo",
         "hovertemplate": "City=bredasdorp<br>Humidity=%{marker.size}<br>Lat=%{lat}<br>Lng=%{lon}<br>Hotel Name=%{customdata[0]}<br>Country=%{customdata[1]}<extra></extra>",
         "lat": [
          -34.5322
         ],
         "legendgroup": "bredasdorp",
         "lon": [
          20.0403
         ],
         "marker": {
          "color": "#EF553B",
          "size": [
           76
          ],
          "sizemode": "area",
          "sizeref": 2.0408163265306123,
          "symbol": "circle"
         },
         "mode": "markers",
         "name": "bredasdorp",
         "showlegend": true,
         "type": "scattergeo"
        },
        {
         "customdata": [
          [
           "PALM Hotel & Spa",
           "RE"
          ]
         ],
         "geo": "geo",
         "hovertemplate": "City=saint-joseph<br>Humidity=%{marker.size}<br>Lat=%{lat}<br>Lng=%{lon}<br>Hotel Name=%{customdata[0]}<br>Country=%{customdata[1]}<extra></extra>",
         "lat": [
          -21.3667
         ],
         "legendgroup": "saint-joseph",
         "lon": [
          55.6167
         ],
         "marker": {
          "color": "#00cc96",
          "size": [
           82
          ],
          "sizemode": "area",
          "sizeref": 2.0408163265306123,
          "symbol": "circle"
         },
         "mode": "markers",
         "name": "saint-joseph",
         "showlegend": true,
         "type": "scattergeo"
        },
        {
         "customdata": [
          [
           "Keleti International Resort",
           "TO"
          ]
         ],
         "geo": "geo",
         "hovertemplate": "City=vaini<br>Humidity=%{marker.size}<br>Lat=%{lat}<br>Lng=%{lon}<br>Hotel Name=%{customdata[0]}<br>Country=%{customdata[1]}<extra></extra>",
         "lat": [
          -21.2
         ],
         "legendgroup": "vaini",
         "lon": [
          -175.2
         ],
         "marker": {
          "color": "#ab63fa",
          "size": [
           79
          ],
          "sizemode": "area",
          "sizeref": 2.0408163265306123,
          "symbol": "circle"
         },
         "mode": "markers",
         "name": "vaini",
         "showlegend": true,
         "type": "scattergeo"
        },
        {
         "customdata": [
          [
           "No hotel found",
           "NZ"
          ]
         ],
         "geo": "geo",
         "hovertemplate": "City=bluff<br>Humidity=%{marker.size}<br>Lat=%{lat}<br>Lng=%{lon}<br>Hotel Name=%{customdata[0]}<br>Country=%{customdata[1]}<extra></extra>",
         "lat": [
          -46.6
         ],
         "legendgroup": "bluff",
         "lon": [
          168.3333
         ],
         "marker": {
          "color": "#FFA15A",
          "size": [
           59
          ],
          "sizemode": "area",
          "sizeref": 2.0408163265306123,
          "symbol": "circle"
         },
         "mode": "markers",
         "name": "bluff",
         "showlegend": true,
         "type": "scattergeo"
        },
        {
         "customdata": [
          [
           "JARS RESORT",
           "PH"
          ]
         ],
         "geo": "geo",
         "hovertemplate": "City=santa rosa<br>Humidity=%{marker.size}<br>Lat=%{lat}<br>Lng=%{lon}<br>Hotel Name=%{customdata[0]}<br>Country=%{customdata[1]}<extra></extra>",
         "lat": [
          14.3122
         ],
         "legendgroup": "santa rosa",
         "lon": [
          121.1114
         ],
         "marker": {
          "color": "#19d3f3",
          "size": [
           64
          ],
          "sizemode": "area",
          "sizeref": 2.0408163265306123,
          "symbol": "circle"
         },
         "mode": "markers",
         "name": "santa rosa",
         "showlegend": true,
         "type": "scattergeo"
        },
        {
         "customdata": [
          [
           "Valle Aridane",
           "ES"
          ]
         ],
         "geo": "geo",
         "hovertemplate": "City=los llanos de aridane<br>Humidity=%{marker.size}<br>Lat=%{lat}<br>Lng=%{lon}<br>Hotel Name=%{customdata[0]}<br>Country=%{customdata[1]}<extra></extra>",
         "lat": [
          28.6585
         ],
         "legendgroup": "los llanos de aridane",
         "lon": [
          -17.9182
         ],
         "marker": {
          "color": "#FF6692",
          "size": [
           74
          ],
          "sizemode": "area",
          "sizeref": 2.0408163265306123,
          "symbol": "circle"
         },
         "mode": "markers",
         "name": "los llanos de aridane",
         "showlegend": true,
         "type": "scattergeo"
        },
        {
         "customdata": [
          [
           "Woodbridge on the Derwent",
           "AU"
          ]
         ],
         "geo": "geo",
         "hovertemplate": "City=new norfolk<br>Humidity=%{marker.size}<br>Lat=%{lat}<br>Lng=%{lon}<br>Hotel Name=%{customdata[0]}<br>Country=%{customdata[1]}<extra></extra>",
         "lat": [
          -42.7826
         ],
         "legendgroup": "new norfolk",
         "lon": [
          147.0587
         ],
         "marker": {
          "color": "#B6E880",
          "size": [
           35
          ],
          "sizemode": "area",
          "sizeref": 2.0408163265306123,
          "symbol": "circle"
         },
         "mode": "markers",
         "name": "new norfolk",
         "showlegend": true,
         "type": "scattergeo"
        },
        {
         "customdata": [
          [
           "Embassy Suites by Hilton Lompoc Central Coast",
           "US"
          ]
         ],
         "geo": "geo",
         "hovertemplate": "City=lompoc<br>Humidity=%{marker.size}<br>Lat=%{lat}<br>Lng=%{lon}<br>Hotel Name=%{customdata[0]}<br>Country=%{customdata[1]}<extra></extra>",
         "lat": [
          34.6391
         ],
         "legendgroup": "lompoc",
         "lon": [
          -120.4579
         ],
         "marker": {
          "color": "#FF97FF",
          "size": [
           76
          ],
          "sizemode": "area",
          "sizeref": 2.0408163265306123,
          "symbol": "circle"
         },
         "mode": "markers",
         "name": "lompoc",
         "showlegend": true,
         "type": "scattergeo"
        },
        {
         "customdata": [
          [
           "Pousada Amaryllis",
           "BR"
          ]
         ],
         "geo": "geo",
         "hovertemplate": "City=tiradentes<br>Humidity=%{marker.size}<br>Lat=%{lat}<br>Lng=%{lon}<br>Hotel Name=%{customdata[0]}<br>Country=%{customdata[1]}<extra></extra>",
         "lat": [
          -21.1103
         ],
         "legendgroup": "tiradentes",
         "lon": [
          -44.1781
         ],
         "marker": {
          "color": "#FECB52",
          "size": [
           95
          ],
          "sizemode": "area",
          "sizeref": 2.0408163265306123,
          "symbol": "circle"
         },
         "mode": "markers",
         "name": "tiradentes",
         "showlegend": true,
         "type": "scattergeo"
        },
        {
         "customdata": [
          [
           "Club Social",
           "CL"
          ]
         ],
         "geo": "geo",
         "hovertemplate": "City=angol<br>Humidity=%{marker.size}<br>Lat=%{lat}<br>Lng=%{lon}<br>Hotel Name=%{customdata[0]}<br>Country=%{customdata[1]}<extra></extra>",
         "lat": [
          -37.8
         ],
         "legendgroup": "angol",
         "lon": [
          -72.7167
         ],
         "marker": {
          "color": "#636efa",
          "size": [
           90
          ],
          "sizemode": "area",
          "sizeref": 2.0408163265306123,
          "symbol": "circle"
         },
         "mode": "markers",
         "name": "angol",
         "showlegend": true,
         "type": "scattergeo"
        },
        {
         "customdata": [
          [
           "No hotel found",
           "BR"
          ]
         ],
         "geo": "geo",
         "hovertemplate": "City=arraial do cabo<br>Humidity=%{marker.size}<br>Lat=%{lat}<br>Lng=%{lon}<br>Hotel Name=%{customdata[0]}<br>Country=%{customdata[1]}<extra></extra>",
         "lat": [
          -22.9661
         ],
         "legendgroup": "arraial do cabo",
         "lon": [
          -42.0278
         ],
         "marker": {
          "color": "#EF553B",
          "size": [
           92
          ],
          "sizemode": "area",
          "sizeref": 2.0408163265306123,
          "symbol": "circle"
         },
         "mode": "markers",
         "name": "arraial do cabo",
         "showlegend": true,
         "type": "scattergeo"
        },
        {
         "customdata": [
          [
           "HOTEL SANDLEWOOD",
           "ID"
          ]
         ],
         "geo": "geo",
         "hovertemplate": "City=waingapu<br>Humidity=%{marker.size}<br>Lat=%{lat}<br>Lng=%{lon}<br>Hotel Name=%{customdata[0]}<br>Country=%{customdata[1]}<extra></extra>",
         "lat": [
          -9.6567
         ],
         "legendgroup": "waingapu",
         "lon": [
          120.2641
         ],
         "marker": {
          "color": "#00cc96",
          "size": [
           55
          ],
          "sizemode": "area",
          "sizeref": 2.0408163265306123,
          "symbol": "circle"
         },
         "mode": "markers",
         "name": "waingapu",
         "showlegend": true,
         "type": "scattergeo"
        },
        {
         "customdata": [
          [
           "Sisheke Lodge",
           "ZM"
          ]
         ],
         "geo": "geo",
         "hovertemplate": "City=sesheke<br>Humidity=%{marker.size}<br>Lat=%{lat}<br>Lng=%{lon}<br>Hotel Name=%{customdata[0]}<br>Country=%{customdata[1]}<extra></extra>",
         "lat": [
          -17.4759
         ],
         "legendgroup": "sesheke",
         "lon": [
          24.2968
         ],
         "marker": {
          "color": "#ab63fa",
          "size": [
           98
          ],
          "sizemode": "area",
          "sizeref": 2.0408163265306123,
          "symbol": "circle"
         },
         "mode": "markers",
         "name": "sesheke",
         "showlegend": true,
         "type": "scattergeo"
        },
        {
         "customdata": [
          [
           "Candlewood Suites",
           "US"
          ]
         ],
         "geo": "geo",
         "hovertemplate": "City=junction city<br>Humidity=%{marker.size}<br>Lat=%{lat}<br>Lng=%{lon}<br>Hotel Name=%{customdata[0]}<br>Country=%{customdata[1]}<extra></extra>",
         "lat": [
          39.0286
         ],
         "legendgroup": "junction city",
         "lon": [
          -96.8314
         ],
         "marker": {
          "color": "#FFA15A",
          "size": [
           86
          ],
          "sizemode": "area",
          "sizeref": 2.0408163265306123,
          "symbol": "circle"
         },
         "mode": "markers",
         "name": "junction city",
         "showlegend": true,
         "type": "scattergeo"
        },
        {
         "customdata": [
          [
           "No hotel found",
           "AU"
          ]
         ],
         "geo": "geo",
         "hovertemplate": "City=gawler<br>Humidity=%{marker.size}<br>Lat=%{lat}<br>Lng=%{lon}<br>Hotel Name=%{customdata[0]}<br>Country=%{customdata[1]}<extra></extra>",
         "lat": [
          -34.6
         ],
         "legendgroup": "gawler",
         "lon": [
          138.7333
         ],
         "marker": {
          "color": "#19d3f3",
          "size": [
           47
          ],
          "sizemode": "area",
          "sizeref": 2.0408163265306123,
          "symbol": "circle"
         },
         "mode": "markers",
         "name": "gawler",
         "showlegend": true,
         "type": "scattergeo"
        },
        {
         "customdata": [
          [
           "Hotel Maikon",
           "BR"
          ]
         ],
         "geo": "geo",
         "hovertemplate": "City=santa isabel do rio negro<br>Humidity=%{marker.size}<br>Lat=%{lat}<br>Lng=%{lon}<br>Hotel Name=%{customdata[0]}<br>Country=%{customdata[1]}<extra></extra>",
         "lat": [
          -0.4139
         ],
         "legendgroup": "santa isabel do rio negro",
         "lon": [
          -65.0192
         ],
         "marker": {
          "color": "#FF6692",
          "size": [
           91
          ],
          "sizemode": "area",
          "sizeref": 2.0408163265306123,
          "symbol": "circle"
         },
         "mode": "markers",
         "name": "santa isabel do rio negro",
         "showlegend": true,
         "type": "scattergeo"
        },
        {
         "customdata": [
          [
           "Le Baril",
           "RE"
          ]
         ],
         "geo": "geo",
         "hovertemplate": "City=saint-philippe<br>Humidity=%{marker.size}<br>Lat=%{lat}<br>Lng=%{lon}<br>Hotel Name=%{customdata[0]}<br>Country=%{customdata[1]}<extra></extra>",
         "lat": [
          -21.3585
         ],
         "legendgroup": "saint-philippe",
         "lon": [
          55.7679
         ],
         "marker": {
          "color": "#B6E880",
          "size": [
           83
          ],
          "sizemode": "area",
          "sizeref": 2.0408163265306123,
          "symbol": "circle"
         },
         "mode": "markers",
         "name": "saint-philippe",
         "showlegend": true,
         "type": "scattergeo"
        },
        {
         "customdata": [
          [
           "Hunter's B&B",
           "CA"
          ]
         ],
         "geo": "geo",
         "hovertemplate": "City=tuktoyaktuk<br>Humidity=%{marker.size}<br>Lat=%{lat}<br>Lng=%{lon}<br>Hotel Name=%{customdata[0]}<br>Country=%{customdata[1]}<extra></extra>",
         "lat": [
          69.4541
         ],
         "legendgroup": "tuktoyaktuk",
         "lon": [
          -133.0374
         ],
         "marker": {
          "color": "#FF97FF",
          "size": [
           76
          ],
          "sizemode": "area",
          "sizeref": 2.0408163265306123,
          "symbol": "circle"
         },
         "mode": "markers",
         "name": "tuktoyaktuk",
         "showlegend": true,
         "type": "scattergeo"
        },
        {
         "customdata": [
          [
           "Townhouse Hotel",
           "ZA"
          ]
         ],
         "geo": "geo",
         "hovertemplate": "City=cape town<br>Humidity=%{marker.size}<br>Lat=%{lat}<br>Lng=%{lon}<br>Hotel Name=%{customdata[0]}<br>Country=%{customdata[1]}<extra></extra>",
         "lat": [
          -33.9258
         ],
         "legendgroup": "cape town",
         "lon": [
          18.4232
         ],
         "marker": {
          "color": "#FECB52",
          "size": [
           76
          ],
          "sizemode": "area",
          "sizeref": 2.0408163265306123,
          "symbol": "circle"
         },
         "mode": "markers",
         "name": "cape town",
         "showlegend": true,
         "type": "scattergeo"
        },
        {
         "customdata": [
          [
           "Reynolds Hotel",
           "CA"
          ]
         ],
         "geo": "geo",
         "hovertemplate": "City=lillooet<br>Humidity=%{marker.size}<br>Lat=%{lat}<br>Lng=%{lon}<br>Hotel Name=%{customdata[0]}<br>Country=%{customdata[1]}<extra></extra>",
         "lat": [
          50.6856
         ],
         "legendgroup": "lillooet",
         "lon": [
          -121.94200000000001
         ],
         "marker": {
          "color": "#636efa",
          "size": [
           94
          ],
          "sizemode": "area",
          "sizeref": 2.0408163265306123,
          "symbol": "circle"
         },
         "mode": "markers",
         "name": "lillooet",
         "showlegend": true,
         "type": "scattergeo"
        },
        {
         "customdata": [
          [
           "Oa Oa Lodge",
           "PF"
          ]
         ],
         "geo": "geo",
         "hovertemplate": "City=faanui<br>Humidity=%{marker.size}<br>Lat=%{lat}<br>Lng=%{lon}<br>Hotel Name=%{customdata[0]}<br>Country=%{customdata[1]}<extra></extra>",
         "lat": [
          -16.4833
         ],
         "legendgroup": "faanui",
         "lon": [
          -151.75
         ],
         "marker": {
          "color": "#EF553B",
          "size": [
           77
          ],
          "sizemode": "area",
          "sizeref": 2.0408163265306123,
          "symbol": "circle"
         },
         "mode": "markers",
         "name": "faanui",
         "showlegend": true,
         "type": "scattergeo"
        },
        {
         "customdata": [
          [
           "Pearl Resort",
           "PF"
          ]
         ],
         "geo": "geo",
         "hovertemplate": "City=atuona<br>Humidity=%{marker.size}<br>Lat=%{lat}<br>Lng=%{lon}<br>Hotel Name=%{customdata[0]}<br>Country=%{customdata[1]}<extra></extra>",
         "lat": [
          -9.8
         ],
         "legendgroup": "atuona",
         "lon": [
          -139.0333
         ],
         "marker": {
          "color": "#00cc96",
          "size": [
           77
          ],
          "sizemode": "area",
          "sizeref": 2.0408163265306123,
          "symbol": "circle"
         },
         "mode": "markers",
         "name": "atuona",
         "showlegend": true,
         "type": "scattergeo"
        },
        {
         "customdata": [
          [
           "Comfort Inn & Suites Redwood Country",
           "US"
          ]
         ],
         "geo": "geo",
         "hovertemplate": "City=fortuna<br>Humidity=%{marker.size}<br>Lat=%{lat}<br>Lng=%{lon}<br>Hotel Name=%{customdata[0]}<br>Country=%{customdata[1]}<extra></extra>",
         "lat": [
          40.5982
         ],
         "legendgroup": "fortuna",
         "lon": [
          -124.1573
         ],
         "marker": {
          "color": "#ab63fa",
          "size": [
           90
          ],
          "sizemode": "area",
          "sizeref": 2.0408163265306123,
          "symbol": "circle"
         },
         "mode": "markers",
         "name": "fortuna",
         "showlegend": true,
         "type": "scattergeo"
        },
        {
         "customdata": [
          [
           "Brae Hotel",
           "GB"
          ]
         ],
         "geo": "geo",
         "hovertemplate": "City=brae<br>Humidity=%{marker.size}<br>Lat=%{lat}<br>Lng=%{lon}<br>Hotel Name=%{customdata[0]}<br>Country=%{customdata[1]}<extra></extra>",
         "lat": [
          60.3964
         ],
         "legendgroup": "brae",
         "lon": [
          -1.3530000000000002
         ],
         "marker": {
          "color": "#FFA15A",
          "size": [
           98
          ],
          "sizemode": "area",
          "sizeref": 2.0408163265306123,
          "symbol": "circle"
         },
         "mode": "markers",
         "name": "brae",
         "showlegend": true,
         "type": "scattergeo"
        },
        {
         "customdata": [
          [
           "Auberge Le Caribou",
           "CA"
          ]
         ],
         "geo": "geo",
         "hovertemplate": "City=riviere-au-renard<br>Humidity=%{marker.size}<br>Lat=%{lat}<br>Lng=%{lon}<br>Hotel Name=%{customdata[0]}<br>Country=%{customdata[1]}<extra></extra>",
         "lat": [
          48.9957
         ],
         "legendgroup": "riviere-au-renard",
         "lon": [
          -64.3971
         ],
         "marker": {
          "color": "#19d3f3",
          "size": [
           87
          ],
          "sizemode": "area",
          "sizeref": 2.0408163265306123,
          "symbol": "circle"
         },
         "mode": "markers",
         "name": "riviere-au-renard",
         "showlegend": true,
         "type": "scattergeo"
        },
        {
         "customdata": [
          [
           "Wellington Inn & Restaurant",
           "CA"
          ]
         ],
         "geo": "geo",
         "hovertemplate": "City=sioux lookout<br>Humidity=%{marker.size}<br>Lat=%{lat}<br>Lng=%{lon}<br>Hotel Name=%{customdata[0]}<br>Country=%{customdata[1]}<extra></extra>",
         "lat": [
          50.1001
         ],
         "legendgroup": "sioux lookout",
         "lon": [
          -91.917
         ],
         "marker": {
          "color": "#FF6692",
          "size": [
           79
          ],
          "sizemode": "area",
          "sizeref": 2.0408163265306123,
          "symbol": "circle"
         },
         "mode": "markers",
         "name": "sioux lookout",
         "showlegend": true,
         "type": "scattergeo"
        },
        {
         "customdata": [
          [
           "Oa Oa Lodge",
           "PF"
          ]
         ],
         "geo": "geo",
         "hovertemplate": "City=vaitape<br>Humidity=%{marker.size}<br>Lat=%{lat}<br>Lng=%{lon}<br>Hotel Name=%{customdata[0]}<br>Country=%{customdata[1]}<extra></extra>",
         "lat": [
          -16.5167
         ],
         "legendgroup": "vaitape",
         "lon": [
          -151.75
         ],
         "marker": {
          "color": "#B6E880",
          "size": [
           76
          ],
          "sizemode": "area",
          "sizeref": 2.0408163265306123,
          "symbol": "circle"
         },
         "mode": "markers",
         "name": "vaitape",
         "showlegend": true,
         "type": "scattergeo"
        },
        {
         "customdata": [
          [
           "No hotel found",
           "CN"
          ]
         ],
         "geo": "geo",
         "hovertemplate": "City=yatou<br>Humidity=%{marker.size}<br>Lat=%{lat}<br>Lng=%{lon}<br>Hotel Name=%{customdata[0]}<br>Country=%{customdata[1]}<extra></extra>",
         "lat": [
          37.15
         ],
         "legendgroup": "yatou",
         "lon": [
          122.3833
         ],
         "marker": {
          "color": "#FF97FF",
          "size": [
           76
          ],
          "sizemode": "area",
          "sizeref": 2.0408163265306123,
          "symbol": "circle"
         },
         "mode": "markers",
         "name": "yatou",
         "showlegend": true,
         "type": "scattergeo"
        },
        {
         "customdata": [
          [
           "No hotel found",
           "RU"
          ]
         ],
         "geo": "geo",
         "hovertemplate": "City=saskylakh<br>Humidity=%{marker.size}<br>Lat=%{lat}<br>Lng=%{lon}<br>Hotel Name=%{customdata[0]}<br>Country=%{customdata[1]}<extra></extra>",
         "lat": [
          71.9167
         ],
         "legendgroup": "saskylakh",
         "lon": [
          114.0833
         ],
         "marker": {
          "color": "#FECB52",
          "size": [
           82
          ],
          "sizemode": "area",
          "sizeref": 2.0408163265306123,
          "symbol": "circle"
         },
         "mode": "markers",
         "name": "saskylakh",
         "showlegend": true,
         "type": "scattergeo"
        },
        {
         "customdata": [
          [
           "Hotel Villa Campo",
           "DO"
          ]
         ],
         "geo": "geo",
         "hovertemplate": "City=santo domingo<br>Humidity=%{marker.size}<br>Lat=%{lat}<br>Lng=%{lon}<br>Hotel Name=%{customdata[0]}<br>Country=%{customdata[1]}<extra></extra>",
         "lat": [
          18.5001
         ],
         "legendgroup": "santo domingo",
         "lon": [
          -69.9886
         ],
         "marker": {
          "color": "#636efa",
          "size": [
           94
          ],
          "sizemode": "area",
          "sizeref": 2.0408163265306123,
          "symbol": "circle"
         },
         "mode": "markers",
         "name": "santo domingo",
         "showlegend": true,
         "type": "scattergeo"
        },
        {
         "customdata": [
          [
           "No hotel found",
           "TL"
          ]
         ],
         "geo": "geo",
         "hovertemplate": "City=airai<br>Humidity=%{marker.size}<br>Lat=%{lat}<br>Lng=%{lon}<br>Hotel Name=%{customdata[0]}<br>Country=%{customdata[1]}<extra></extra>",
         "lat": [
          -8.9266
         ],
         "legendgroup": "airai",
         "lon": [
          125.4092
         ],
         "marker": {
          "color": "#EF553B",
          "size": [
           71
          ],
          "sizemode": "area",
          "sizeref": 2.0408163265306123,
          "symbol": "circle"
         },
         "mode": "markers",
         "name": "airai",
         "showlegend": true,
         "type": "scattergeo"
        },
        {
         "customdata": [
          [
           "Hotel Edén",
           "BO"
          ]
         ],
         "geo": "geo",
         "hovertemplate": "City=oruro<br>Humidity=%{marker.size}<br>Lat=%{lat}<br>Lng=%{lon}<br>Hotel Name=%{customdata[0]}<br>Country=%{customdata[1]}<extra></extra>",
         "lat": [
          -17.9833
         ],
         "legendgroup": "oruro",
         "lon": [
          -67.15
         ],
         "marker": {
          "color": "#00cc96",
          "size": [
           66
          ],
          "sizemode": "area",
          "sizeref": 2.0408163265306123,
          "symbol": "circle"
         },
         "mode": "markers",
         "name": "oruro",
         "showlegend": true,
         "type": "scattergeo"
        },
        {
         "customdata": [
          [
           "Dom Pedro",
           "PT"
          ]
         ],
         "geo": "geo",
         "hovertemplate": "City=canico<br>Humidity=%{marker.size}<br>Lat=%{lat}<br>Lng=%{lon}<br>Hotel Name=%{customdata[0]}<br>Country=%{customdata[1]}<extra></extra>",
         "lat": [
          32.6333
         ],
         "legendgroup": "canico",
         "lon": [
          -16.85
         ],
         "marker": {
          "color": "#ab63fa",
          "size": [
           75
          ],
          "sizemode": "area",
          "sizeref": 2.0408163265306123,
          "symbol": "circle"
         },
         "mode": "markers",
         "name": "canico",
         "showlegend": true,
         "type": "scattergeo"
        },
        {
         "customdata": [
          [
           "Tawsen Hotel",
           "PH"
          ]
         ],
         "geo": "geo",
         "hovertemplate": "City=basco<br>Humidity=%{marker.size}<br>Lat=%{lat}<br>Lng=%{lon}<br>Hotel Name=%{customdata[0]}<br>Country=%{customdata[1]}<extra></extra>",
         "lat": [
          20.4487
         ],
         "legendgroup": "basco",
         "lon": [
          121.9702
         ],
         "marker": {
          "color": "#FFA15A",
          "size": [
           80
          ],
          "sizemode": "area",
          "sizeref": 2.0408163265306123,
          "symbol": "circle"
         },
         "mode": "markers",
         "name": "basco",
         "showlegend": true,
         "type": "scattergeo"
        },
        {
         "customdata": [
          [
           "Quarterdeck Inn",
           "CA"
          ]
         ],
         "geo": "geo",
         "hovertemplate": "City=port hardy<br>Humidity=%{marker.size}<br>Lat=%{lat}<br>Lng=%{lon}<br>Hotel Name=%{customdata[0]}<br>Country=%{customdata[1]}<extra></extra>",
         "lat": [
          50.6996
         ],
         "legendgroup": "port hardy",
         "lon": [
          -127.4199
         ],
         "marker": {
          "color": "#19d3f3",
          "size": [
           100
          ],
          "sizemode": "area",
          "sizeref": 2.0408163265306123,
          "symbol": "circle"
         },
         "mode": "markers",
         "name": "port hardy",
         "showlegend": true,
         "type": "scattergeo"
        },
        {
         "customdata": [
          [
           "Pono Kai Resort",
           "US"
          ]
         ],
         "geo": "geo",
         "hovertemplate": "City=kapaa<br>Humidity=%{marker.size}<br>Lat=%{lat}<br>Lng=%{lon}<br>Hotel Name=%{customdata[0]}<br>Country=%{customdata[1]}<extra></extra>",
         "lat": [
          22.0752
         ],
         "legendgroup": "kapaa",
         "lon": [
          -159.319
         ],
         "marker": {
          "color": "#FF6692",
          "size": [
           81
          ],
          "sizemode": "area",
          "sizeref": 2.0408163265306123,
          "symbol": "circle"
         },
         "mode": "markers",
         "name": "kapaa",
         "showlegend": true,
         "type": "scattergeo"
        },
        {
         "customdata": [
          [
           "Hotel O Cristo",
           "ES"
          ]
         ],
         "geo": "geo",
         "hovertemplate": "City=bereda<br>Humidity=%{marker.size}<br>Lat=%{lat}<br>Lng=%{lon}<br>Hotel Name=%{customdata[0]}<br>Country=%{customdata[1]}<extra></extra>",
         "lat": [
          43.2686
         ],
         "legendgroup": "bereda",
         "lon": [
          -7.5406
         ],
         "marker": {
          "color": "#B6E880",
          "size": [
           100
          ],
          "sizemode": "area",
          "sizeref": 2.0408163265306123,
          "symbol": "circle"
         },
         "mode": "markers",
         "name": "bereda",
         "showlegend": true,
         "type": "scattergeo"
        },
        {
         "customdata": [
          [
           "No hotel found",
           "IN"
          ]
         ],
         "geo": "geo",
         "hovertemplate": "City=kattivakkam<br>Humidity=%{marker.size}<br>Lat=%{lat}<br>Lng=%{lon}<br>Hotel Name=%{customdata[0]}<br>Country=%{customdata[1]}<extra></extra>",
         "lat": [
          13.2167
         ],
         "legendgroup": "kattivakkam",
         "lon": [
          80.3167
         ],
         "marker": {
          "color": "#FF97FF",
          "size": [
           60
          ],
          "sizemode": "area",
          "sizeref": 2.0408163265306123,
          "symbol": "circle"
         },
         "mode": "markers",
         "name": "kattivakkam",
         "showlegend": true,
         "type": "scattergeo"
        },
        {
         "customdata": [
          [
           "No hotel found",
           "GL"
          ]
         ],
         "geo": "geo",
         "hovertemplate": "City=upernavik<br>Humidity=%{marker.size}<br>Lat=%{lat}<br>Lng=%{lon}<br>Hotel Name=%{customdata[0]}<br>Country=%{customdata[1]}<extra></extra>",
         "lat": [
          72.7868
         ],
         "legendgroup": "upernavik",
         "lon": [
          -56.1549
         ],
         "marker": {
          "color": "#FECB52",
          "size": [
           98
          ],
          "sizemode": "area",
          "sizeref": 2.0408163265306123,
          "symbol": "circle"
         },
         "mode": "markers",
         "name": "upernavik",
         "showlegend": true,
         "type": "scattergeo"
        },
        {
         "customdata": [
          [
           "Paradise Inn",
           "CK"
          ]
         ],
         "geo": "geo",
         "hovertemplate": "City=avarua<br>Humidity=%{marker.size}<br>Lat=%{lat}<br>Lng=%{lon}<br>Hotel Name=%{customdata[0]}<br>Country=%{customdata[1]}<extra></extra>",
         "lat": [
          -21.2078
         ],
         "legendgroup": "avarua",
         "lon": [
          -159.775
         ],
         "marker": {
          "color": "#636efa",
          "size": [
           69
          ],
          "sizemode": "area",
          "sizeref": 2.0408163265306123,
          "symbol": "circle"
         },
         "mode": "markers",
         "name": "avarua",
         "showlegend": true,
         "type": "scattergeo"
        },
        {
         "customdata": [
          [
           "No hotel found",
           "CL"
          ]
         ],
         "geo": "geo",
         "hovertemplate": "City=lebu<br>Humidity=%{marker.size}<br>Lat=%{lat}<br>Lng=%{lon}<br>Hotel Name=%{customdata[0]}<br>Country=%{customdata[1]}<extra></extra>",
         "lat": [
          -37.6167
         ],
         "legendgroup": "lebu",
         "lon": [
          -73.65
         ],
         "marker": {
          "color": "#EF553B",
          "size": [
           98
          ],
          "sizemode": "area",
          "sizeref": 2.0408163265306123,
          "symbol": "circle"
         },
         "mode": "markers",
         "name": "lebu",
         "showlegend": true,
         "type": "scattergeo"
        },
        {
         "customdata": [
          [
           "Estalagem Ponta do Sol",
           "PT"
          ]
         ],
         "geo": "geo",
         "hovertemplate": "City=ponta do sol<br>Humidity=%{marker.size}<br>Lat=%{lat}<br>Lng=%{lon}<br>Hotel Name=%{customdata[0]}<br>Country=%{customdata[1]}<extra></extra>",
         "lat": [
          32.6667
         ],
         "legendgroup": "ponta do sol",
         "lon": [
          -17.1
         ],
         "marker": {
          "color": "#00cc96",
          "size": [
           65
          ],
          "sizemode": "area",
          "sizeref": 2.0408163265306123,
          "symbol": "circle"
         },
         "mode": "markers",
         "name": "ponta do sol",
         "showlegend": true,
         "type": "scattergeo"
        },
        {
         "customdata": [
          [
           "The Observatory",
           "AU"
          ]
         ],
         "geo": "geo",
         "hovertemplate": "City=port macquarie<br>Humidity=%{marker.size}<br>Lat=%{lat}<br>Lng=%{lon}<br>Hotel Name=%{customdata[0]}<br>Country=%{customdata[1]}<extra></extra>",
         "lat": [
          -31.4333
         ],
         "legendgroup": "port macquarie",
         "lon": [
          152.9167
         ],
         "marker": {
          "color": "#ab63fa",
          "size": [
           65
          ],
          "sizemode": "area",
          "sizeref": 2.0408163265306123,
          "symbol": "circle"
         },
         "mode": "markers",
         "name": "port macquarie",
         "showlegend": true,
         "type": "scattergeo"
        },
        {
         "customdata": [
          [
           "Hotel Santo André",
           "PT"
          ]
         ],
         "geo": "geo",
         "hovertemplate": "City=agucadoura<br>Humidity=%{marker.size}<br>Lat=%{lat}<br>Lng=%{lon}<br>Hotel Name=%{customdata[0]}<br>Country=%{customdata[1]}<extra></extra>",
         "lat": [
          41.4318
         ],
         "legendgroup": "agucadoura",
         "lon": [
          -8.7804
         ],
         "marker": {
          "color": "#FFA15A",
          "size": [
           62
          ],
          "sizemode": "area",
          "sizeref": 2.0408163265306123,
          "symbol": "circle"
         },
         "mode": "markers",
         "name": "agucadoura",
         "showlegend": true,
         "type": "scattergeo"
        },
        {
         "customdata": [
          [
           "Grand Bel Air",
           "MU"
          ]
         ],
         "geo": "geo",
         "hovertemplate": "City=mahebourg<br>Humidity=%{marker.size}<br>Lat=%{lat}<br>Lng=%{lon}<br>Hotel Name=%{customdata[0]}<br>Country=%{customdata[1]}<extra></extra>",
         "lat": [
          -20.4081
         ],
         "legendgroup": "mahebourg",
         "lon": [
          57.7
         ],
         "marker": {
          "color": "#19d3f3",
          "size": [
           94
          ],
          "sizemode": "area",
          "sizeref": 2.0408163265306123,
          "symbol": "circle"
         },
         "mode": "markers",
         "name": "mahebourg",
         "showlegend": true,
         "type": "scattergeo"
        },
        {
         "customdata": [
          [
           "Praia Dourada",
           "PT"
          ]
         ],
         "geo": "geo",
         "hovertemplate": "City=camacha<br>Humidity=%{marker.size}<br>Lat=%{lat}<br>Lng=%{lon}<br>Hotel Name=%{customdata[0]}<br>Country=%{customdata[1]}<extra></extra>",
         "lat": [
          33.0833
         ],
         "legendgroup": "camacha",
         "lon": [
          -16.3333
         ],
         "marker": {
          "color": "#FF6692",
          "size": [
           63
          ],
          "sizemode": "area",
          "sizeref": 2.0408163265306123,
          "symbol": "circle"
         },
         "mode": "markers",
         "name": "camacha",
         "showlegend": true,
         "type": "scattergeo"
        },
        {
         "customdata": [
          [
           "Thompson Inn",
           "CA"
          ]
         ],
         "geo": "geo",
         "hovertemplate": "City=thompson<br>Humidity=%{marker.size}<br>Lat=%{lat}<br>Lng=%{lon}<br>Hotel Name=%{customdata[0]}<br>Country=%{customdata[1]}<extra></extra>",
         "lat": [
          55.7435
         ],
         "legendgroup": "thompson",
         "lon": [
          -97.8558
         ],
         "marker": {
          "color": "#B6E880",
          "size": [
           76
          ],
          "sizemode": "area",
          "sizeref": 2.0408163265306123,
          "symbol": "circle"
         },
         "mode": "markers",
         "name": "thompson",
         "showlegend": true,
         "type": "scattergeo"
        },
        {
         "customdata": [
          [
           "Tara-Mé",
           "GA"
          ]
         ],
         "geo": "geo",
         "hovertemplate": "City=port-gentil<br>Humidity=%{marker.size}<br>Lat=%{lat}<br>Lng=%{lon}<br>Hotel Name=%{customdata[0]}<br>Country=%{customdata[1]}<extra></extra>",
         "lat": [
          -0.7193
         ],
         "legendgroup": "port-gentil",
         "lon": [
          8.7815
         ],
         "marker": {
          "color": "#FF97FF",
          "size": [
           79
          ],
          "sizemode": "area",
          "sizeref": 2.0408163265306123,
          "symbol": "circle"
         },
         "mode": "markers",
         "name": "port-gentil",
         "showlegend": true,
         "type": "scattergeo"
        },
        {
         "customdata": [
          [
           "Hotel Chik Chik Namibe",
           "AO"
          ]
         ],
         "geo": "geo",
         "hovertemplate": "City=namibe<br>Humidity=%{marker.size}<br>Lat=%{lat}<br>Lng=%{lon}<br>Hotel Name=%{customdata[0]}<br>Country=%{customdata[1]}<extra></extra>",
         "lat": [
          -15.1961
         ],
         "legendgroup": "namibe",
         "lon": [
          12.1522
         ],
         "marker": {
          "color": "#FECB52",
          "size": [
           86
          ],
          "sizemode": "area",
          "sizeref": 2.0408163265306123,
          "symbol": "circle"
         },
         "mode": "markers",
         "name": "namibe",
         "showlegend": true,
         "type": "scattergeo"
        },
        {
         "customdata": [
          [
           "Арктика",
           "RU"
          ]
         ],
         "geo": "geo",
         "hovertemplate": "City=tiksi<br>Humidity=%{marker.size}<br>Lat=%{lat}<br>Lng=%{lon}<br>Hotel Name=%{customdata[0]}<br>Country=%{customdata[1]}<extra></extra>",
         "lat": [
          71.6872
         ],
         "legendgroup": "tiksi",
         "lon": [
          128.8694
         ],
         "marker": {
          "color": "#636efa",
          "size": [
           100
          ],
          "sizemode": "area",
          "sizeref": 2.0408163265306123,
          "symbol": "circle"
         },
         "mode": "markers",
         "name": "tiksi",
         "showlegend": true,
         "type": "scattergeo"
        },
        {
         "customdata": [
          [
           "Pousada Atlântico",
           "BR"
          ]
         ],
         "geo": "geo",
         "hovertemplate": "City=touros<br>Humidity=%{marker.size}<br>Lat=%{lat}<br>Lng=%{lon}<br>Hotel Name=%{customdata[0]}<br>Country=%{customdata[1]}<extra></extra>",
         "lat": [
          -5.1989
         ],
         "legendgroup": "touros",
         "lon": [
          -35.4608
         ],
         "marker": {
          "color": "#EF553B",
          "size": [
           76
          ],
          "sizemode": "area",
          "sizeref": 2.0408163265306123,
          "symbol": "circle"
         },
         "mode": "markers",
         "name": "touros",
         "showlegend": true,
         "type": "scattergeo"
        },
        {
         "customdata": [
          [
           "客房",
           "CN"
          ]
         ],
         "geo": "geo",
         "hovertemplate": "City=changli<br>Humidity=%{marker.size}<br>Lat=%{lat}<br>Lng=%{lon}<br>Hotel Name=%{customdata[0]}<br>Country=%{customdata[1]}<extra></extra>",
         "lat": [
          39.7042
         ],
         "legendgroup": "changli",
         "lon": [
          119.1506
         ],
         "marker": {
          "color": "#00cc96",
          "size": [
           18
          ],
          "sizemode": "area",
          "sizeref": 2.0408163265306123,
          "symbol": "circle"
         },
         "mode": "markers",
         "name": "changli",
         "showlegend": true,
         "type": "scattergeo"
        },
        {
         "customdata": [
          [
           "No hotel found",
           "RU"
          ]
         ],
         "geo": "geo",
         "hovertemplate": "City=pevek<br>Humidity=%{marker.size}<br>Lat=%{lat}<br>Lng=%{lon}<br>Hotel Name=%{customdata[0]}<br>Country=%{customdata[1]}<extra></extra>",
         "lat": [
          69.7008
         ],
         "legendgroup": "pevek",
         "lon": [
          170.3133
         ],
         "marker": {
          "color": "#ab63fa",
          "size": [
           82
          ],
          "sizemode": "area",
          "sizeref": 2.0408163265306123,
          "symbol": "circle"
         },
         "mode": "markers",
         "name": "pevek",
         "showlegend": true,
         "type": "scattergeo"
        },
        {
         "customdata": [
          [
           "Fidji Motel",
           "BR"
          ]
         ],
         "geo": "geo",
         "hovertemplate": "City=olinda<br>Humidity=%{marker.size}<br>Lat=%{lat}<br>Lng=%{lon}<br>Hotel Name=%{customdata[0]}<br>Country=%{customdata[1]}<extra></extra>",
         "lat": [
          -8.0089
         ],
         "legendgroup": "olinda",
         "lon": [
          -34.8553
         ],
         "marker": {
          "color": "#FFA15A",
          "size": [
           74
          ],
          "sizemode": "area",
          "sizeref": 2.0408163265306123,
          "symbol": "circle"
         },
         "mode": "markers",
         "name": "olinda",
         "showlegend": true,
         "type": "scattergeo"
        },
        {
         "customdata": [
          [
           "Pacific Grove Inn",
           "US"
          ]
         ],
         "geo": "geo",
         "hovertemplate": "City=pacific grove<br>Humidity=%{marker.size}<br>Lat=%{lat}<br>Lng=%{lon}<br>Hotel Name=%{customdata[0]}<br>Country=%{customdata[1]}<extra></extra>",
         "lat": [
          36.6177
         ],
         "legendgroup": "pacific grove",
         "lon": [
          -121.9166
         ],
         "marker": {
          "color": "#19d3f3",
          "size": [
           72
          ],
          "sizemode": "area",
          "sizeref": 2.0408163265306123,
          "symbol": "circle"
         },
         "mode": "markers",
         "name": "pacific grove",
         "showlegend": true,
         "type": "scattergeo"
        },
        {
         "customdata": [
          [
           "No hotel found",
           "RU"
          ]
         ],
         "geo": "geo",
         "hovertemplate": "City=dikson<br>Humidity=%{marker.size}<br>Lat=%{lat}<br>Lng=%{lon}<br>Hotel Name=%{customdata[0]}<br>Country=%{customdata[1]}<extra></extra>",
         "lat": [
          73.5069
         ],
         "legendgroup": "dikson",
         "lon": [
          80.5464
         ],
         "marker": {
          "color": "#FF6692",
          "size": [
           85
          ],
          "sizemode": "area",
          "sizeref": 2.0408163265306123,
          "symbol": "circle"
         },
         "mode": "markers",
         "name": "dikson",
         "showlegend": true,
         "type": "scattergeo"
        },
        {
         "customdata": [
          [
           "Европа",
           "RU"
          ]
         ],
         "geo": "geo",
         "hovertemplate": "City=kropotkin<br>Humidity=%{marker.size}<br>Lat=%{lat}<br>Lng=%{lon}<br>Hotel Name=%{customdata[0]}<br>Country=%{customdata[1]}<extra></extra>",
         "lat": [
          45.4375
         ],
         "legendgroup": "kropotkin",
         "lon": [
          40.5756
         ],
         "marker": {
          "color": "#B6E880",
          "size": [
           77
          ],
          "sizemode": "area",
          "sizeref": 2.0408163265306123,
          "symbol": "circle"
         },
         "mode": "markers",
         "name": "kropotkin",
         "showlegend": true,
         "type": "scattergeo"
        },
        {
         "customdata": [
          [
           "No hotel found",
           "IN"
          ]
         ],
         "geo": "geo",
         "hovertemplate": "City=nohar<br>Humidity=%{marker.size}<br>Lat=%{lat}<br>Lng=%{lon}<br>Hotel Name=%{customdata[0]}<br>Country=%{customdata[1]}<extra></extra>",
         "lat": [
          29.1833
         ],
         "legendgroup": "nohar",
         "lon": [
          74.7667
         ],
         "marker": {
          "color": "#FF97FF",
          "size": [
           47
          ],
          "sizemode": "area",
          "sizeref": 2.0408163265306123,
          "symbol": "circle"
         },
         "mode": "markers",
         "name": "nohar",
         "showlegend": true,
         "type": "scattergeo"
        },
        {
         "customdata": [
          [
           "Diplomatic hote",
           "UG"
          ]
         ],
         "geo": "geo",
         "hovertemplate": "City=koboko<br>Humidity=%{marker.size}<br>Lat=%{lat}<br>Lng=%{lon}<br>Hotel Name=%{customdata[0]}<br>Country=%{customdata[1]}<extra></extra>",
         "lat": [
          3.4136
         ],
         "legendgroup": "koboko",
         "lon": [
          30.9599
         ],
         "marker": {
          "color": "#FECB52",
          "size": [
           32
          ],
          "sizemode": "area",
          "sizeref": 2.0408163265306123,
          "symbol": "circle"
         },
         "mode": "markers",
         "name": "koboko",
         "showlegend": true,
         "type": "scattergeo"
        },
        {
         "customdata": [
          [
           "Hoedjesbaai",
           "ZA"
          ]
         ],
         "geo": "geo",
         "hovertemplate": "City=saldanha<br>Humidity=%{marker.size}<br>Lat=%{lat}<br>Lng=%{lon}<br>Hotel Name=%{customdata[0]}<br>Country=%{customdata[1]}<extra></extra>",
         "lat": [
          -33.0117
         ],
         "legendgroup": "saldanha",
         "lon": [
          17.9442
         ],
         "marker": {
          "color": "#636efa",
          "size": [
           90
          ],
          "sizemode": "area",
          "sizeref": 2.0408163265306123,
          "symbol": "circle"
         },
         "mode": "markers",
         "name": "saldanha",
         "showlegend": true,
         "type": "scattergeo"
        },
        {
         "customdata": [
          [
           "No hotel found",
           "KI"
          ]
         ],
         "geo": "geo",
         "hovertemplate": "City=butaritari<br>Humidity=%{marker.size}<br>Lat=%{lat}<br>Lng=%{lon}<br>Hotel Name=%{customdata[0]}<br>Country=%{customdata[1]}<extra></extra>",
         "lat": [
          3.0707
         ],
         "legendgroup": "butaritari",
         "lon": [
          172.7902
         ],
         "marker": {
          "color": "#EF553B",
          "size": [
           79
          ],
          "sizemode": "area",
          "sizeref": 2.0408163265306123,
          "symbol": "circle"
         },
         "mode": "markers",
         "name": "butaritari",
         "showlegend": true,
         "type": "scattergeo"
        },
        {
         "customdata": [
          [
           "Aspen Suites Hotel",
           "US"
          ]
         ],
         "geo": "geo",
         "hovertemplate": "City=sitka<br>Humidity=%{marker.size}<br>Lat=%{lat}<br>Lng=%{lon}<br>Hotel Name=%{customdata[0]}<br>Country=%{customdata[1]}<extra></extra>",
         "lat": [
          57.0531
         ],
         "legendgroup": "sitka",
         "lon": [
          -135.33
         ],
         "marker": {
          "color": "#00cc96",
          "size": [
           87
          ],
          "sizemode": "area",
          "sizeref": 2.0408163265306123,
          "symbol": "circle"
         },
         "mode": "markers",
         "name": "sitka",
         "showlegend": true,
         "type": "scattergeo"
        },
        {
         "customdata": [
          [
           "Rehab Al Marwa Hotel 1",
           "SA"
          ]
         ],
         "geo": "geo",
         "hovertemplate": "City=mecca<br>Humidity=%{marker.size}<br>Lat=%{lat}<br>Lng=%{lon}<br>Hotel Name=%{customdata[0]}<br>Country=%{customdata[1]}<extra></extra>",
         "lat": [
          21.4267
         ],
         "legendgroup": "mecca",
         "lon": [
          39.8261
         ],
         "marker": {
          "color": "#ab63fa",
          "size": [
           75
          ],
          "sizemode": "area",
          "sizeref": 2.0408163265306123,
          "symbol": "circle"
         },
         "mode": "markers",
         "name": "mecca",
         "showlegend": true,
         "type": "scattergeo"
        },
        {
         "customdata": [
          [
           "The Red Garter Hotel and Casino",
           "US"
          ]
         ],
         "geo": "geo",
         "hovertemplate": "City=west wendover<br>Humidity=%{marker.size}<br>Lat=%{lat}<br>Lng=%{lon}<br>Hotel Name=%{customdata[0]}<br>Country=%{customdata[1]}<extra></extra>",
         "lat": [
          40.7391
         ],
         "legendgroup": "west wendover",
         "lon": [
          -114.0733
         ],
         "marker": {
          "color": "#FFA15A",
          "size": [
           74
          ],
          "sizemode": "area",
          "sizeref": 2.0408163265306123,
          "symbol": "circle"
         },
         "mode": "markers",
         "name": "west wendover",
         "showlegend": true,
         "type": "scattergeo"
        },
        {
         "customdata": [
          [
           "No hotel found",
           "PG"
          ]
         ],
         "geo": "geo",
         "hovertemplate": "City=arawa<br>Humidity=%{marker.size}<br>Lat=%{lat}<br>Lng=%{lon}<br>Hotel Name=%{customdata[0]}<br>Country=%{customdata[1]}<extra></extra>",
         "lat": [
          -6.2132
         ],
         "legendgroup": "arawa",
         "lon": [
          155.5367
         ],
         "marker": {
          "color": "#19d3f3",
          "size": [
           69
          ],
          "sizemode": "area",
          "sizeref": 2.0408163265306123,
          "symbol": "circle"
         },
         "mode": "markers",
         "name": "arawa",
         "showlegend": true,
         "type": "scattergeo"
        },
        {
         "customdata": [
          [
           "Mangala Village",
           "KH"
          ]
         ],
         "geo": "geo",
         "hovertemplate": "City=ta khmau<br>Humidity=%{marker.size}<br>Lat=%{lat}<br>Lng=%{lon}<br>Hotel Name=%{customdata[0]}<br>Country=%{customdata[1]}<extra></extra>",
         "lat": [
          11.4833
         ],
         "legendgroup": "ta khmau",
         "lon": [
          104.95
         ],
         "marker": {
          "color": "#FF6692",
          "size": [
           70
          ],
          "sizemode": "area",
          "sizeref": 2.0408163265306123,
          "symbol": "circle"
         },
         "mode": "markers",
         "name": "ta khmau",
         "showlegend": true,
         "type": "scattergeo"
        },
        {
         "customdata": [
          [
           "Maui Seaside Hotel",
           "US"
          ]
         ],
         "geo": "geo",
         "hovertemplate": "City=kahului<br>Humidity=%{marker.size}<br>Lat=%{lat}<br>Lng=%{lon}<br>Hotel Name=%{customdata[0]}<br>Country=%{customdata[1]}<extra></extra>",
         "lat": [
          20.8947
         ],
         "legendgroup": "kahului",
         "lon": [
          -156.47
         ],
         "marker": {
          "color": "#B6E880",
          "size": [
           72
          ],
          "sizemode": "area",
          "sizeref": 2.0408163265306123,
          "symbol": "circle"
         },
         "mode": "markers",
         "name": "kahului",
         "showlegend": true,
         "type": "scattergeo"
        },
        {
         "customdata": [
          [
           "No hotel found",
           "LR"
          ]
         ],
         "geo": "geo",
         "hovertemplate": "City=harper<br>Humidity=%{marker.size}<br>Lat=%{lat}<br>Lng=%{lon}<br>Hotel Name=%{customdata[0]}<br>Country=%{customdata[1]}<extra></extra>",
         "lat": [
          4.375
         ],
         "legendgroup": "harper",
         "lon": [
          -7.7169
         ],
         "marker": {
          "color": "#FF97FF",
          "size": [
           84
          ],
          "sizemode": "area",
          "sizeref": 2.0408163265306123,
          "symbol": "circle"
         },
         "mode": "markers",
         "name": "harper",
         "showlegend": true,
         "type": "scattergeo"
        },
        {
         "customdata": [
          [
           "Poni",
           "BF"
          ]
         ],
         "geo": "geo",
         "hovertemplate": "City=gaoua<br>Humidity=%{marker.size}<br>Lat=%{lat}<br>Lng=%{lon}<br>Hotel Name=%{customdata[0]}<br>Country=%{customdata[1]}<extra></extra>",
         "lat": [
          10.2992
         ],
         "legendgroup": "gaoua",
         "lon": [
          -3.2508
         ],
         "marker": {
          "color": "#FECB52",
          "size": [
           22
          ],
          "sizemode": "area",
          "sizeref": 2.0408163265306123,
          "symbol": "circle"
         },
         "mode": "markers",
         "name": "gaoua",
         "showlegend": true,
         "type": "scattergeo"
        },
        {
         "customdata": [
          [
           "Hotel Barlovento",
           "MX"
          ]
         ],
         "geo": "geo",
         "hovertemplate": "City=puerto escondido<br>Humidity=%{marker.size}<br>Lat=%{lat}<br>Lng=%{lon}<br>Hotel Name=%{customdata[0]}<br>Country=%{customdata[1]}<extra></extra>",
         "lat": [
          15.85
         ],
         "legendgroup": "puerto escondido",
         "lon": [
          -97.0667
         ],
         "marker": {
          "color": "#636efa",
          "size": [
           73
          ],
          "sizemode": "area",
          "sizeref": 2.0408163265306123,
          "symbol": "circle"
         },
         "mode": "markers",
         "name": "puerto escondido",
         "showlegend": true,
         "type": "scattergeo"
        },
        {
         "customdata": [
          [
           "The Gateway Hotel",
           "AU"
          ]
         ],
         "geo": "geo",
         "hovertemplate": "City=mareeba<br>Humidity=%{marker.size}<br>Lat=%{lat}<br>Lng=%{lon}<br>Hotel Name=%{customdata[0]}<br>Country=%{customdata[1]}<extra></extra>",
         "lat": [
          -17
         ],
         "legendgroup": "mareeba",
         "lon": [
          145.4333
         ],
         "marker": {
          "color": "#EF553B",
          "size": [
           71
          ],
          "sizemode": "area",
          "sizeref": 2.0408163265306123,
          "symbol": "circle"
         },
         "mode": "markers",
         "name": "mareeba",
         "showlegend": true,
         "type": "scattergeo"
        },
        {
         "customdata": [
          [
           "Otentic Eco Tent Experience",
           "MU"
          ]
         ],
         "geo": "geo",
         "hovertemplate": "City=bambous virieux<br>Humidity=%{marker.size}<br>Lat=%{lat}<br>Lng=%{lon}<br>Hotel Name=%{customdata[0]}<br>Country=%{customdata[1]}<extra></extra>",
         "lat": [
          -20.3428
         ],
         "legendgroup": "bambous virieux",
         "lon": [
          57.7575
         ],
         "marker": {
          "color": "#00cc96",
          "size": [
           94
          ],
          "sizemode": "area",
          "sizeref": 2.0408163265306123,
          "symbol": "circle"
         },
         "mode": "markers",
         "name": "bambous virieux",
         "showlegend": true,
         "type": "scattergeo"
        },
        {
         "customdata": [
          [
           "Travelodge",
           "CA"
          ]
         ],
         "geo": "geo",
         "hovertemplate": "City=kapuskasing<br>Humidity=%{marker.size}<br>Lat=%{lat}<br>Lng=%{lon}<br>Hotel Name=%{customdata[0]}<br>Country=%{customdata[1]}<extra></extra>",
         "lat": [
          49.4169
         ],
         "legendgroup": "kapuskasing",
         "lon": [
          -82.4331
         ],
         "marker": {
          "color": "#ab63fa",
          "size": [
           86
          ],
          "sizemode": "area",
          "sizeref": 2.0408163265306123,
          "symbol": "circle"
         },
         "mode": "markers",
         "name": "kapuskasing",
         "showlegend": true,
         "type": "scattergeo"
        },
        {
         "customdata": [
          [
           "五島第一ホテル",
           "JP"
          ]
         ],
         "geo": "geo",
         "hovertemplate": "City=fukue<br>Humidity=%{marker.size}<br>Lat=%{lat}<br>Lng=%{lon}<br>Hotel Name=%{customdata[0]}<br>Country=%{customdata[1]}<extra></extra>",
         "lat": [
          32.6881
         ],
         "legendgroup": "fukue",
         "lon": [
          128.8419
         ],
         "marker": {
          "color": "#FFA15A",
          "size": [
           69
          ],
          "sizemode": "area",
          "sizeref": 2.0408163265306123,
          "symbol": "circle"
         },
         "mode": "markers",
         "name": "fukue",
         "showlegend": true,
         "type": "scattergeo"
        },
        {
         "customdata": [
          [
           "Hotel Rural La Correa",
           "ES"
          ]
         ],
         "geo": "geo",
         "hovertemplate": "City=arona<br>Humidity=%{marker.size}<br>Lat=%{lat}<br>Lng=%{lon}<br>Hotel Name=%{customdata[0]}<br>Country=%{customdata[1]}<extra></extra>",
         "lat": [
          28.0996
         ],
         "legendgroup": "arona",
         "lon": [
          -16.680999999999997
         ],
         "marker": {
          "color": "#19d3f3",
          "size": [
           59
          ],
          "sizemode": "area",
          "sizeref": 2.0408163265306123,
          "symbol": "circle"
         },
         "mode": "markers",
         "name": "arona",
         "showlegend": true,
         "type": "scattergeo"
        },
        {
         "customdata": [
          [
           "No hotel found",
           "BO"
          ]
         ],
         "geo": "geo",
         "hovertemplate": "City=san borja<br>Humidity=%{marker.size}<br>Lat=%{lat}<br>Lng=%{lon}<br>Hotel Name=%{customdata[0]}<br>Country=%{customdata[1]}<extra></extra>",
         "lat": [
          -14.8167
         ],
         "legendgroup": "san borja",
         "lon": [
          -66.85
         ],
         "marker": {
          "color": "#FF6692",
          "size": [
           82
          ],
          "sizemode": "area",
          "sizeref": 2.0408163265306123,
          "symbol": "circle"
         },
         "mode": "markers",
         "name": "san borja",
         "showlegend": true,
         "type": "scattergeo"
        },
        {
         "customdata": [
          [
           "Banjo Patterson Motor Inn",
           "AU"
          ]
         ],
         "geo": "geo",
         "hovertemplate": "City=lakes entrance<br>Humidity=%{marker.size}<br>Lat=%{lat}<br>Lng=%{lon}<br>Hotel Name=%{customdata[0]}<br>Country=%{customdata[1]}<extra></extra>",
         "lat": [
          -37.8811
         ],
         "legendgroup": "lakes entrance",
         "lon": [
          147.981
         ],
         "marker": {
          "color": "#B6E880",
          "size": [
           64
          ],
          "sizemode": "area",
          "sizeref": 2.0408163265306123,
          "symbol": "circle"
         },
         "mode": "markers",
         "name": "lakes entrance",
         "showlegend": true,
         "type": "scattergeo"
        },
        {
         "customdata": [
          [
           "The Retreat at Blue Lagoon Iceland",
           "IS"
          ]
         ],
         "geo": "geo",
         "hovertemplate": "City=grindavik<br>Humidity=%{marker.size}<br>Lat=%{lat}<br>Lng=%{lon}<br>Hotel Name=%{customdata[0]}<br>Country=%{customdata[1]}<extra></extra>",
         "lat": [
          63.8424
         ],
         "legendgroup": "grindavik",
         "lon": [
          -22.4338
         ],
         "marker": {
          "color": "#FF97FF",
          "size": [
           93
          ],
          "sizemode": "area",
          "sizeref": 2.0408163265306123,
          "symbol": "circle"
         },
         "mode": "markers",
         "name": "grindavik",
         "showlegend": true,
         "type": "scattergeo"
        },
        {
         "customdata": [
          [
           "No hotel found",
           "CN"
          ]
         ],
         "geo": "geo",
         "hovertemplate": "City=linqiong<br>Humidity=%{marker.size}<br>Lat=%{lat}<br>Lng=%{lon}<br>Hotel Name=%{customdata[0]}<br>Country=%{customdata[1]}<extra></extra>",
         "lat": [
          30.4159
         ],
         "legendgroup": "linqiong",
         "lon": [
          103.4609
         ],
         "marker": {
          "color": "#FECB52",
          "size": [
           35
          ],
          "sizemode": "area",
          "sizeref": 2.0408163265306123,
          "symbol": "circle"
         },
         "mode": "markers",
         "name": "linqiong",
         "showlegend": true,
         "type": "scattergeo"
        },
        {
         "customdata": [
          [
           "No hotel found",
           "NG"
          ]
         ],
         "geo": "geo",
         "hovertemplate": "City=kontagora<br>Humidity=%{marker.size}<br>Lat=%{lat}<br>Lng=%{lon}<br>Hotel Name=%{customdata[0]}<br>Country=%{customdata[1]}<extra></extra>",
         "lat": [
          10.3999
         ],
         "legendgroup": "kontagora",
         "lon": [
          5.4695
         ],
         "marker": {
          "color": "#636efa",
          "size": [
           17
          ],
          "sizemode": "area",
          "sizeref": 2.0408163265306123,
          "symbol": "circle"
         },
         "mode": "markers",
         "name": "kontagora",
         "showlegend": true,
         "type": "scattergeo"
        },
        {
         "customdata": [
          [
           "Copamarina Beach Resort",
           "PR"
          ]
         ],
         "geo": "geo",
         "hovertemplate": "City=guanica<br>Humidity=%{marker.size}<br>Lat=%{lat}<br>Lng=%{lon}<br>Hotel Name=%{customdata[0]}<br>Country=%{customdata[1]}<extra></extra>",
         "lat": [
          17.9716
         ],
         "legendgroup": "guanica",
         "lon": [
          -66.908
         ],
         "marker": {
          "color": "#EF553B",
          "size": [
           77
          ],
          "sizemode": "area",
          "sizeref": 2.0408163265306123,
          "symbol": "circle"
         },
         "mode": "markers",
         "name": "guanica",
         "showlegend": true,
         "type": "scattergeo"
        },
        {
         "customdata": [
          [
           "No hotel found",
           "AU"
          ]
         ],
         "geo": "geo",
         "hovertemplate": "City=carnarvon<br>Humidity=%{marker.size}<br>Lat=%{lat}<br>Lng=%{lon}<br>Hotel Name=%{customdata[0]}<br>Country=%{customdata[1]}<extra></extra>",
         "lat": [
          -24.8667
         ],
         "legendgroup": "carnarvon",
         "lon": [
          113.6333
         ],
         "marker": {
          "color": "#00cc96",
          "size": [
           61
          ],
          "sizemode": "area",
          "sizeref": 2.0408163265306123,
          "symbol": "circle"
         },
         "mode": "markers",
         "name": "carnarvon",
         "showlegend": true,
         "type": "scattergeo"
        },
        {
         "customdata": [
          [
           "Hotel \"Ikat House\"",
           "UZ"
          ]
         ],
         "geo": "geo",
         "hovertemplate": "City=komsomolskiy<br>Humidity=%{marker.size}<br>Lat=%{lat}<br>Lng=%{lon}<br>Hotel Name=%{customdata[0]}<br>Country=%{customdata[1]}<extra></extra>",
         "lat": [
          40.4272
         ],
         "legendgroup": "komsomolskiy",
         "lon": [
          71.7189
         ],
         "marker": {
          "color": "#ab63fa",
          "size": [
           79
          ],
          "sizemode": "area",
          "sizeref": 2.0408163265306123,
          "symbol": "circle"
         },
         "mode": "markers",
         "name": "komsomolskiy",
         "showlegend": true,
         "type": "scattergeo"
        },
        {
         "customdata": [
          [
           "Casa Sodadi",
           "CV"
          ]
         ],
         "geo": "geo",
         "hovertemplate": "City=praya<br>Humidity=%{marker.size}<br>Lat=%{lat}<br>Lng=%{lon}<br>Hotel Name=%{customdata[0]}<br>Country=%{customdata[1]}<extra></extra>",
         "lat": [
          14.9215
         ],
         "legendgroup": "praya",
         "lon": [
          -23.5087
         ],
         "marker": {
          "color": "#FFA15A",
          "size": [
           72
          ],
          "sizemode": "area",
          "sizeref": 2.0408163265306123,
          "symbol": "circle"
         },
         "mode": "markers",
         "name": "praya",
         "showlegend": true,
         "type": "scattergeo"
        },
        {
         "customdata": [
          [
           "Nuevo Ostende",
           "AR"
          ]
         ],
         "geo": "geo",
         "hovertemplate": "City=mar del plata<br>Humidity=%{marker.size}<br>Lat=%{lat}<br>Lng=%{lon}<br>Hotel Name=%{customdata[0]}<br>Country=%{customdata[1]}<extra></extra>",
         "lat": [
          -38.0023
         ],
         "legendgroup": "mar del plata",
         "lon": [
          -57.5575
         ],
         "marker": {
          "color": "#19d3f3",
          "size": [
           76
          ],
          "sizemode": "area",
          "sizeref": 2.0408163265306123,
          "symbol": "circle"
         },
         "mode": "markers",
         "name": "mar del plata",
         "showlegend": true,
         "type": "scattergeo"
        },
        {
         "customdata": [
          [
           "Гостиница Олимпийская",
           "RU"
          ]
         ],
         "geo": "geo",
         "hovertemplate": "City=chekhov<br>Humidity=%{marker.size}<br>Lat=%{lat}<br>Lng=%{lon}<br>Hotel Name=%{customdata[0]}<br>Country=%{customdata[1]}<extra></extra>",
         "lat": [
          55.1431
         ],
         "legendgroup": "chekhov",
         "lon": [
          37.4711
         ],
         "marker": {
          "color": "#FF6692",
          "size": [
           97
          ],
          "sizemode": "area",
          "sizeref": 2.0408163265306123,
          "symbol": "circle"
         },
         "mode": "markers",
         "name": "chekhov",
         "showlegend": true,
         "type": "scattergeo"
        },
        {
         "customdata": [
          [
           "Ocean Centre Hotel",
           "AU"
          ]
         ],
         "geo": "geo",
         "hovertemplate": "City=geraldton<br>Humidity=%{marker.size}<br>Lat=%{lat}<br>Lng=%{lon}<br>Hotel Name=%{customdata[0]}<br>Country=%{customdata[1]}<extra></extra>",
         "lat": [
          -28.7667
         ],
         "legendgroup": "geraldton",
         "lon": [
          114.6
         ],
         "marker": {
          "color": "#B6E880",
          "size": [
           69
          ],
          "sizemode": "area",
          "sizeref": 2.0408163265306123,
          "symbol": "circle"
         },
         "mode": "markers",
         "name": "geraldton",
         "showlegend": true,
         "type": "scattergeo"
        },
        {
         "customdata": [
          [
           "Vinha d'Areia Beach Hotel",
           "PT"
          ]
         ],
         "geo": "geo",
         "hovertemplate": "City=vila franca do campo<br>Humidity=%{marker.size}<br>Lat=%{lat}<br>Lng=%{lon}<br>Hotel Name=%{customdata[0]}<br>Country=%{customdata[1]}<extra></extra>",
         "lat": [
          37.7167
         ],
         "legendgroup": "vila franca do campo",
         "lon": [
          -25.4333
         ],
         "marker": {
          "color": "#FF97FF",
          "size": [
           81
          ],
          "sizemode": "area",
          "sizeref": 2.0408163265306123,
          "symbol": "circle"
         },
         "mode": "markers",
         "name": "vila franca do campo",
         "showlegend": true,
         "type": "scattergeo"
        },
        {
         "customdata": [
          [
           "White Hart",
           "GB"
          ]
         ],
         "geo": "geo",
         "hovertemplate": "City=ivybridge<br>Humidity=%{marker.size}<br>Lat=%{lat}<br>Lng=%{lon}<br>Hotel Name=%{customdata[0]}<br>Country=%{customdata[1]}<extra></extra>",
         "lat": [
          50.3904
         ],
         "legendgroup": "ivybridge",
         "lon": [
          -3.9191
         ],
         "marker": {
          "color": "#FECB52",
          "size": [
           92
          ],
          "sizemode": "area",
          "sizeref": 2.0408163265306123,
          "symbol": "circle"
         },
         "mode": "markers",
         "name": "ivybridge",
         "showlegend": true,
         "type": "scattergeo"
        },
        {
         "customdata": [
          [
           "Iliana",
           "GR"
          ]
         ],
         "geo": "geo",
         "hovertemplate": "City=panormos<br>Humidity=%{marker.size}<br>Lat=%{lat}<br>Lng=%{lon}<br>Hotel Name=%{customdata[0]}<br>Country=%{customdata[1]}<extra></extra>",
         "lat": [
          35.4182
         ],
         "legendgroup": "panormos",
         "lon": [
          24.6909
         ],
         "marker": {
          "color": "#636efa",
          "size": [
           73
          ],
          "sizemode": "area",
          "sizeref": 2.0408163265306123,
          "symbol": "circle"
         },
         "mode": "markers",
         "name": "panormos",
         "showlegend": true,
         "type": "scattergeo"
        },
        {
         "customdata": [
          [
           "Hospitality",
           "AU"
          ]
         ],
         "geo": "geo",
         "hovertemplate": "City=esperance<br>Humidity=%{marker.size}<br>Lat=%{lat}<br>Lng=%{lon}<br>Hotel Name=%{customdata[0]}<br>Country=%{customdata[1]}<extra></extra>",
         "lat": [
          -33.8667
         ],
         "legendgroup": "esperance",
         "lon": [
          121.9
         ],
         "marker": {
          "color": "#EF553B",
          "size": [
           45
          ],
          "sizemode": "area",
          "sizeref": 2.0408163265306123,
          "symbol": "circle"
         },
         "mode": "markers",
         "name": "esperance",
         "showlegend": true,
         "type": "scattergeo"
        },
        {
         "customdata": [
          [
           "Khách sạn Thái Bình",
           "VN"
          ]
         ],
         "geo": "geo",
         "hovertemplate": "City=cam ranh<br>Humidity=%{marker.size}<br>Lat=%{lat}<br>Lng=%{lon}<br>Hotel Name=%{customdata[0]}<br>Country=%{customdata[1]}<extra></extra>",
         "lat": [
          11.9214
         ],
         "legendgroup": "cam ranh",
         "lon": [
          109.1591
         ],
         "marker": {
          "color": "#00cc96",
          "size": [
           69
          ],
          "sizemode": "area",
          "sizeref": 2.0408163265306123,
          "symbol": "circle"
         },
         "mode": "markers",
         "name": "cam ranh",
         "showlegend": true,
         "type": "scattergeo"
        },
        {
         "customdata": [
          [
           "Socool Grand Hotel",
           "TH"
          ]
         ],
         "geo": "geo",
         "hovertemplate": "City=nang rong<br>Humidity=%{marker.size}<br>Lat=%{lat}<br>Lng=%{lon}<br>Hotel Name=%{customdata[0]}<br>Country=%{customdata[1]}<extra></extra>",
         "lat": [
          14.6377
         ],
         "legendgroup": "nang rong",
         "lon": [
          102.7914
         ],
         "marker": {
          "color": "#ab63fa",
          "size": [
           59
          ],
          "sizemode": "area",
          "sizeref": 2.0408163265306123,
          "symbol": "circle"
         },
         "mode": "markers",
         "name": "nang rong",
         "showlegend": true,
         "type": "scattergeo"
        },
        {
         "customdata": [
          [
           "No hotel found",
           "CN"
          ]
         ],
         "geo": "geo",
         "hovertemplate": "City=shitanjing<br>Humidity=%{marker.size}<br>Lat=%{lat}<br>Lng=%{lon}<br>Hotel Name=%{customdata[0]}<br>Country=%{customdata[1]}<extra></extra>",
         "lat": [
          39.2342
         ],
         "legendgroup": "shitanjing",
         "lon": [
          106.3439
         ],
         "marker": {
          "color": "#FFA15A",
          "size": [
           30
          ],
          "sizemode": "area",
          "sizeref": 2.0408163265306123,
          "symbol": "circle"
         },
         "mode": "markers",
         "name": "shitanjing",
         "showlegend": true,
         "type": "scattergeo"
        },
        {
         "customdata": [
          [
           "Royal Hotel",
           "GB"
          ]
         ],
         "geo": "geo",
         "hovertemplate": "City=bath<br>Humidity=%{marker.size}<br>Lat=%{lat}<br>Lng=%{lon}<br>Hotel Name=%{customdata[0]}<br>Country=%{customdata[1]}<extra></extra>",
         "lat": [
          51.3779
         ],
         "legendgroup": "bath",
         "lon": [
          -2.3591
         ],
         "marker": {
          "color": "#19d3f3",
          "size": [
           96
          ],
          "sizemode": "area",
          "sizeref": 2.0408163265306123,
          "symbol": "circle"
         },
         "mode": "markers",
         "name": "bath",
         "showlegend": true,
         "type": "scattergeo"
        },
        {
         "customdata": [
          [
           "The Paramount Hotel",
           "MY"
          ]
         ],
         "geo": "geo",
         "hovertemplate": "City=sibu<br>Humidity=%{marker.size}<br>Lat=%{lat}<br>Lng=%{lon}<br>Hotel Name=%{customdata[0]}<br>Country=%{customdata[1]}<extra></extra>",
         "lat": [
          2.3
         ],
         "legendgroup": "sibu",
         "lon": [
          111.8167
         ],
         "marker": {
          "color": "#FF6692",
          "size": [
           83
          ],
          "sizemode": "area",
          "sizeref": 2.0408163265306123,
          "symbol": "circle"
         },
         "mode": "markers",
         "name": "sibu",
         "showlegend": true,
         "type": "scattergeo"
        },
        {
         "customdata": [
          [
           "Ballina Beach Resort",
           "AU"
          ]
         ],
         "geo": "geo",
         "hovertemplate": "City=ballina<br>Humidity=%{marker.size}<br>Lat=%{lat}<br>Lng=%{lon}<br>Hotel Name=%{customdata[0]}<br>Country=%{customdata[1]}<extra></extra>",
         "lat": [
          -28.8667
         ],
         "legendgroup": "ballina",
         "lon": [
          153.5667
         ],
         "marker": {
          "color": "#B6E880",
          "size": [
           71
          ],
          "sizemode": "area",
          "sizeref": 2.0408163265306123,
          "symbol": "circle"
         },
         "mode": "markers",
         "name": "ballina",
         "showlegend": true,
         "type": "scattergeo"
        },
        {
         "customdata": [
          [
           "Хами",
           "CN"
          ]
         ],
         "geo": "geo",
         "hovertemplate": "City=hami<br>Humidity=%{marker.size}<br>Lat=%{lat}<br>Lng=%{lon}<br>Hotel Name=%{customdata[0]}<br>Country=%{customdata[1]}<extra></extra>",
         "lat": [
          42.8
         ],
         "legendgroup": "hami",
         "lon": [
          93.45
         ],
         "marker": {
          "color": "#FF97FF",
          "size": [
           29
          ],
          "sizemode": "area",
          "sizeref": 2.0408163265306123,
          "symbol": "circle"
         },
         "mode": "markers",
         "name": "hami",
         "showlegend": true,
         "type": "scattergeo"
        },
        {
         "customdata": [
          [
           "RJV hôtel",
           "PH"
          ]
         ],
         "geo": "geo",
         "hovertemplate": "City=san policarpo<br>Humidity=%{marker.size}<br>Lat=%{lat}<br>Lng=%{lon}<br>Hotel Name=%{customdata[0]}<br>Country=%{customdata[1]}<extra></extra>",
         "lat": [
          12.1791
         ],
         "legendgroup": "san policarpo",
         "lon": [
          125.5072
         ],
         "marker": {
          "color": "#FECB52",
          "size": [
           83
          ],
          "sizemode": "area",
          "sizeref": 2.0408163265306123,
          "symbol": "circle"
         },
         "mode": "markers",
         "name": "san policarpo",
         "showlegend": true,
         "type": "scattergeo"
        },
        {
         "customdata": [
          [
           "Hotel Romanița",
           "RO"
          ]
         ],
         "geo": "geo",
         "hovertemplate": "City=asau<br>Humidity=%{marker.size}<br>Lat=%{lat}<br>Lng=%{lon}<br>Hotel Name=%{customdata[0]}<br>Country=%{customdata[1]}<extra></extra>",
         "lat": [
          46.4333
         ],
         "legendgroup": "asau",
         "lon": [
          26.4
         ],
         "marker": {
          "color": "#636efa",
          "size": [
           83
          ],
          "sizemode": "area",
          "sizeref": 2.0408163265306123,
          "symbol": "circle"
         },
         "mode": "markers",
         "name": "asau",
         "showlegend": true,
         "type": "scattergeo"
        },
        {
         "customdata": [
          [
           "Fagmek Resorts",
           "NO"
          ]
         ],
         "geo": "geo",
         "hovertemplate": "City=sorland<br>Humidity=%{marker.size}<br>Lat=%{lat}<br>Lng=%{lon}<br>Hotel Name=%{customdata[0]}<br>Country=%{customdata[1]}<extra></extra>",
         "lat": [
          67.667
         ],
         "legendgroup": "sorland",
         "lon": [
          12.6934
         ],
         "marker": {
          "color": "#EF553B",
          "size": [
           59
          ],
          "sizemode": "area",
          "sizeref": 2.0408163265306123,
          "symbol": "circle"
         },
         "mode": "markers",
         "name": "sorland",
         "showlegend": true,
         "type": "scattergeo"
        },
        {
         "customdata": [
          [
           "No hotel found",
           "RU"
          ]
         ],
         "geo": "geo",
         "hovertemplate": "City=vostok<br>Humidity=%{marker.size}<br>Lat=%{lat}<br>Lng=%{lon}<br>Hotel Name=%{customdata[0]}<br>Country=%{customdata[1]}<extra></extra>",
         "lat": [
          46.4856
         ],
         "legendgroup": "vostok",
         "lon": [
          135.8833
         ],
         "marker": {
          "color": "#00cc96",
          "size": [
           86
          ],
          "sizemode": "area",
          "sizeref": 2.0408163265306123,
          "symbol": "circle"
         },
         "mode": "markers",
         "name": "vostok",
         "showlegend": true,
         "type": "scattergeo"
        },
        {
         "customdata": [
          [
           "Hôtel Macabou",
           "MQ"
          ]
         ],
         "geo": "geo",
         "hovertemplate": "City=le vauclin<br>Humidity=%{marker.size}<br>Lat=%{lat}<br>Lng=%{lon}<br>Hotel Name=%{customdata[0]}<br>Country=%{customdata[1]}<extra></extra>",
         "lat": [
          14.5452
         ],
         "legendgroup": "le vauclin",
         "lon": [
          -60.8388
         ],
         "marker": {
          "color": "#ab63fa",
          "size": [
           78
          ],
          "sizemode": "area",
          "sizeref": 2.0408163265306123,
          "symbol": "circle"
         },
         "mode": "markers",
         "name": "le vauclin",
         "showlegend": true,
         "type": "scattergeo"
        },
        {
         "customdata": [
          [
           "BEST WESTERN PLUS Pioneer Park Inn",
           "US"
          ]
         ],
         "geo": "geo",
         "hovertemplate": "City=college<br>Humidity=%{marker.size}<br>Lat=%{lat}<br>Lng=%{lon}<br>Hotel Name=%{customdata[0]}<br>Country=%{customdata[1]}<extra></extra>",
         "lat": [
          64.8569
         ],
         "legendgroup": "college",
         "lon": [
          -147.8028
         ],
         "marker": {
          "color": "#FFA15A",
          "size": [
           75
          ],
          "sizemode": "area",
          "sizeref": 2.0408163265306123,
          "symbol": "circle"
         },
         "mode": "markers",
         "name": "college",
         "showlegend": true,
         "type": "scattergeo"
        },
        {
         "customdata": [
          [
           "Terra Sur",
           "VE"
          ]
         ],
         "geo": "geo",
         "hovertemplate": "City=san cristobal<br>Humidity=%{marker.size}<br>Lat=%{lat}<br>Lng=%{lon}<br>Hotel Name=%{customdata[0]}<br>Country=%{customdata[1]}<extra></extra>",
         "lat": [
          7.7669
         ],
         "legendgroup": "san cristobal",
         "lon": [
          -72.225
         ],
         "marker": {
          "color": "#19d3f3",
          "size": [
           83
          ],
          "sizemode": "area",
          "sizeref": 2.0408163265306123,
          "symbol": "circle"
         },
         "mode": "markers",
         "name": "san cristobal",
         "showlegend": true,
         "type": "scattergeo"
        },
        {
         "customdata": [
          [
           "Fontana Suites",
           "AR"
          ]
         ],
         "geo": "geo",
         "hovertemplate": "City=rosario<br>Humidity=%{marker.size}<br>Lat=%{lat}<br>Lng=%{lon}<br>Hotel Name=%{customdata[0]}<br>Country=%{customdata[1]}<extra></extra>",
         "lat": [
          -32.9468
         ],
         "legendgroup": "rosario",
         "lon": [
          -60.6393
         ],
         "marker": {
          "color": "#FF6692",
          "size": [
           43
          ],
          "sizemode": "area",
          "sizeref": 2.0408163265306123,
          "symbol": "circle"
         },
         "mode": "markers",
         "name": "rosario",
         "showlegend": true,
         "type": "scattergeo"
        },
        {
         "customdata": [
          [
           "\"Дом рыбака\"",
           "RU"
          ]
         ],
         "geo": "geo",
         "hovertemplate": "City=severo-kurilsk<br>Humidity=%{marker.size}<br>Lat=%{lat}<br>Lng=%{lon}<br>Hotel Name=%{customdata[0]}<br>Country=%{customdata[1]}<extra></extra>",
         "lat": [
          50.6789
         ],
         "legendgroup": "severo-kurilsk",
         "lon": [
          156.125
         ],
         "marker": {
          "color": "#B6E880",
          "size": [
           63
          ],
          "sizemode": "area",
          "sizeref": 2.0408163265306123,
          "symbol": "circle"
         },
         "mode": "markers",
         "name": "severo-kurilsk",
         "showlegend": true,
         "type": "scattergeo"
        },
        {
         "customdata": [
          [
           "No hotel found",
           "PG"
          ]
         ],
         "geo": "geo",
         "hovertemplate": "City=kieta<br>Humidity=%{marker.size}<br>Lat=%{lat}<br>Lng=%{lon}<br>Hotel Name=%{customdata[0]}<br>Country=%{customdata[1]}<extra></extra>",
         "lat": [
          -6.2167
         ],
         "legendgroup": "kieta",
         "lon": [
          155.6333
         ],
         "marker": {
          "color": "#FF97FF",
          "size": [
           72
          ],
          "sizemode": "area",
          "sizeref": 2.0408163265306123,
          "symbol": "circle"
         },
         "mode": "markers",
         "name": "kieta",
         "showlegend": true,
         "type": "scattergeo"
        },
        {
         "customdata": [
          [
           "Hotel Toshi Palace",
           "IN"
          ]
         ],
         "geo": "geo",
         "hovertemplate": "City=along<br>Humidity=%{marker.size}<br>Lat=%{lat}<br>Lng=%{lon}<br>Hotel Name=%{customdata[0]}<br>Country=%{customdata[1]}<extra></extra>",
         "lat": [
          28.1667
         ],
         "legendgroup": "along",
         "lon": [
          94.7667
         ],
         "marker": {
          "color": "#FECB52",
          "size": [
           37
          ],
          "sizemode": "area",
          "sizeref": 2.0408163265306123,
          "symbol": "circle"
         },
         "mode": "markers",
         "name": "along",
         "showlegend": true,
         "type": "scattergeo"
        },
        {
         "customdata": [
          [
           "مهمانسرای جهانگردی بیرجند",
           "IR"
          ]
         ],
         "geo": "geo",
         "hovertemplate": "City=birjand<br>Humidity=%{marker.size}<br>Lat=%{lat}<br>Lng=%{lon}<br>Hotel Name=%{customdata[0]}<br>Country=%{customdata[1]}<extra></extra>",
         "lat": [
          32.8663
         ],
         "legendgroup": "birjand",
         "lon": [
          59.2211
         ],
         "marker": {
          "color": "#636efa",
          "size": [
           73
          ],
          "sizemode": "area",
          "sizeref": 2.0408163265306123,
          "symbol": "circle"
         },
         "mode": "markers",
         "name": "birjand",
         "showlegend": true,
         "type": "scattergeo"
        },
        {
         "customdata": [
          [
           "the Hoxton",
           "US"
          ]
         ],
         "geo": "geo",
         "hovertemplate": "City=portland<br>Humidity=%{marker.size}<br>Lat=%{lat}<br>Lng=%{lon}<br>Hotel Name=%{customdata[0]}<br>Country=%{customdata[1]}<extra></extra>",
         "lat": [
          45.5234
         ],
         "legendgroup": "portland",
         "lon": [
          -122.6762
         ],
         "marker": {
          "color": "#EF553B",
          "size": [
           82
          ],
          "sizemode": "area",
          "sizeref": 2.0408163265306123,
          "symbol": "circle"
         },
         "mode": "markers",
         "name": "portland",
         "showlegend": true,
         "type": "scattergeo"
        },
        {
         "customdata": [
          [
           "No hotel found",
           "LV"
          ]
         ],
         "geo": "geo",
         "hovertemplate": "City=vangazi<br>Humidity=%{marker.size}<br>Lat=%{lat}<br>Lng=%{lon}<br>Hotel Name=%{customdata[0]}<br>Country=%{customdata[1]}<extra></extra>",
         "lat": [
          57.0936
         ],
         "legendgroup": "vangazi",
         "lon": [
          24.5486
         ],
         "marker": {
          "color": "#00cc96",
          "size": [
           92
          ],
          "sizemode": "area",
          "sizeref": 2.0408163265306123,
          "symbol": "circle"
         },
         "mode": "markers",
         "name": "vangazi",
         "showlegend": true,
         "type": "scattergeo"
        },
        {
         "customdata": [
          [
           "No hotel found",
           "PK"
          ]
         ],
         "geo": "geo",
         "hovertemplate": "City=sadiqabad<br>Humidity=%{marker.size}<br>Lat=%{lat}<br>Lng=%{lon}<br>Hotel Name=%{customdata[0]}<br>Country=%{customdata[1]}<extra></extra>",
         "lat": [
          28.3062
         ],
         "legendgroup": "sadiqabad",
         "lon": [
          70.1307
         ],
         "marker": {
          "color": "#ab63fa",
          "size": [
           27
          ],
          "sizemode": "area",
          "sizeref": 2.0408163265306123,
          "symbol": "circle"
         },
         "mode": "markers",
         "name": "sadiqabad",
         "showlegend": true,
         "type": "scattergeo"
        },
        {
         "customdata": [
          [
           "ホテルニューパレス",
           "JP"
          ]
         ],
         "geo": "geo",
         "hovertemplate": "City=shingu<br>Humidity=%{marker.size}<br>Lat=%{lat}<br>Lng=%{lon}<br>Hotel Name=%{customdata[0]}<br>Country=%{customdata[1]}<extra></extra>",
         "lat": [
          33.7333
         ],
         "legendgroup": "shingu",
         "lon": [
          135.9833
         ],
         "marker": {
          "color": "#FFA15A",
          "size": [
           69
          ],
          "sizemode": "area",
          "sizeref": 2.0408163265306123,
          "symbol": "circle"
         },
         "mode": "markers",
         "name": "shingu",
         "showlegend": true,
         "type": "scattergeo"
        },
        {
         "customdata": [
          [
           "No hotel found",
           "ZA"
          ]
         ],
         "geo": "geo",
         "hovertemplate": "City=standerton<br>Humidity=%{marker.size}<br>Lat=%{lat}<br>Lng=%{lon}<br>Hotel Name=%{customdata[0]}<br>Country=%{customdata[1]}<extra></extra>",
         "lat": [
          -26.9337
         ],
         "legendgroup": "standerton",
         "lon": [
          29.2415
         ],
         "marker": {
          "color": "#19d3f3",
          "size": [
           90
          ],
          "sizemode": "area",
          "sizeref": 2.0408163265306123,
          "symbol": "circle"
         },
         "mode": "markers",
         "name": "standerton",
         "showlegend": true,
         "type": "scattergeo"
        },
        {
         "customdata": [
          [
           "La Madrugada Beach Hotel",
           "TZ"
          ]
         ],
         "geo": "geo",
         "hovertemplate": "City=sokoni<br>Humidity=%{marker.size}<br>Lat=%{lat}<br>Lng=%{lon}<br>Hotel Name=%{customdata[0]}<br>Country=%{customdata[1]}<extra></extra>",
         "lat": [
          -6.4333
         ],
         "legendgroup": "sokoni",
         "lon": [
          39.55
         ],
         "marker": {
          "color": "#FF6692",
          "size": [
           83
          ],
          "sizemode": "area",
          "sizeref": 2.0408163265306123,
          "symbol": "circle"
         },
         "mode": "markers",
         "name": "sokoni",
         "showlegend": true,
         "type": "scattergeo"
        },
        {
         "customdata": [
          [
           "Pousada Mediterrâneo",
           "BR"
          ]
         ],
         "geo": "geo",
         "hovertemplate": "City=sao joao da barra<br>Humidity=%{marker.size}<br>Lat=%{lat}<br>Lng=%{lon}<br>Hotel Name=%{customdata[0]}<br>Country=%{customdata[1]}<extra></extra>",
         "lat": [
          -21.6403
         ],
         "legendgroup": "sao joao da barra",
         "lon": [
          -41.0511
         ],
         "marker": {
          "color": "#B6E880",
          "size": [
           91
          ],
          "sizemode": "area",
          "sizeref": 2.0408163265306123,
          "symbol": "circle"
         },
         "mode": "markers",
         "name": "sao joao da barra",
         "showlegend": true,
         "type": "scattergeo"
        },
        {
         "customdata": [
          [
           "فندق أدرار",
           "MR"
          ]
         ],
         "geo": "geo",
         "hovertemplate": "City=nouakchott<br>Humidity=%{marker.size}<br>Lat=%{lat}<br>Lng=%{lon}<br>Hotel Name=%{customdata[0]}<br>Country=%{customdata[1]}<extra></extra>",
         "lat": [
          18.0858
         ],
         "legendgroup": "nouakchott",
         "lon": [
          -15.9785
         ],
         "marker": {
          "color": "#FF97FF",
          "size": [
           42
          ],
          "sizemode": "area",
          "sizeref": 2.0408163265306123,
          "symbol": "circle"
         },
         "mode": "markers",
         "name": "nouakchott",
         "showlegend": true,
         "type": "scattergeo"
        },
        {
         "customdata": [
          [
           "Clarion Collection Hotel Post",
           "SE"
          ]
         ],
         "geo": "geo",
         "hovertemplate": "City=oskarshamn<br>Humidity=%{marker.size}<br>Lat=%{lat}<br>Lng=%{lon}<br>Hotel Name=%{customdata[0]}<br>Country=%{customdata[1]}<extra></extra>",
         "lat": [
          57.2645
         ],
         "legendgroup": "oskarshamn",
         "lon": [
          16.4484
         ],
         "marker": {
          "color": "#FECB52",
          "size": [
           82
          ],
          "sizemode": "area",
          "sizeref": 2.0408163265306123,
          "symbol": "circle"
         },
         "mode": "markers",
         "name": "oskarshamn",
         "showlegend": true,
         "type": "scattergeo"
        },
        {
         "customdata": [
          [
           "No hotel found",
           "CA"
          ]
         ],
         "geo": "geo",
         "hovertemplate": "City=burgeo<br>Humidity=%{marker.size}<br>Lat=%{lat}<br>Lng=%{lon}<br>Hotel Name=%{customdata[0]}<br>Country=%{customdata[1]}<extra></extra>",
         "lat": [
          47.6167
         ],
         "legendgroup": "burgeo",
         "lon": [
          -57.6152
         ],
         "marker": {
          "color": "#636efa",
          "size": [
           99
          ],
          "sizemode": "area",
          "sizeref": 2.0408163265306123,
          "symbol": "circle"
         },
         "mode": "markers",
         "name": "burgeo",
         "showlegend": true,
         "type": "scattergeo"
        },
        {
         "customdata": [
          [
           "Kemals Pension",
           "TR"
          ]
         ],
         "geo": "geo",
         "hovertemplate": "City=anamur<br>Humidity=%{marker.size}<br>Lat=%{lat}<br>Lng=%{lon}<br>Hotel Name=%{customdata[0]}<br>Country=%{customdata[1]}<extra></extra>",
         "lat": [
          36.0751
         ],
         "legendgroup": "anamur",
         "lon": [
          32.8369
         ],
         "marker": {
          "color": "#EF553B",
          "size": [
           44
          ],
          "sizemode": "area",
          "sizeref": 2.0408163265306123,
          "symbol": "circle"
         },
         "mode": "markers",
         "name": "anamur",
         "showlegend": true,
         "type": "scattergeo"
        },
        {
         "customdata": [
          [
           "Hostal Alameda",
           "CL"
          ]
         ],
         "geo": "geo",
         "hovertemplate": "City=constitucion<br>Humidity=%{marker.size}<br>Lat=%{lat}<br>Lng=%{lon}<br>Hotel Name=%{customdata[0]}<br>Country=%{customdata[1]}<extra></extra>",
         "lat": [
          -35.3333
         ],
         "legendgroup": "constitucion",
         "lon": [
          -72.4167
         ],
         "marker": {
          "color": "#00cc96",
          "size": [
           92
          ],
          "sizemode": "area",
          "sizeref": 2.0408163265306123,
          "symbol": "circle"
         },
         "mode": "markers",
         "name": "constitucion",
         "showlegend": true,
         "type": "scattergeo"
        },
        {
         "customdata": [
          [
           "No hotel found",
           "CN"
          ]
         ],
         "geo": "geo",
         "hovertemplate": "City=tongliao<br>Humidity=%{marker.size}<br>Lat=%{lat}<br>Lng=%{lon}<br>Hotel Name=%{customdata[0]}<br>Country=%{customdata[1]}<extra></extra>",
         "lat": [
          43.6125
         ],
         "legendgroup": "tongliao",
         "lon": [
          122.2653
         ],
         "marker": {
          "color": "#ab63fa",
          "size": [
           30
          ],
          "sizemode": "area",
          "sizeref": 2.0408163265306123,
          "symbol": "circle"
         },
         "mode": "markers",
         "name": "tongliao",
         "showlegend": true,
         "type": "scattergeo"
        },
        {
         "customdata": [
          [
           "Hotel Kokopo",
           "PG"
          ]
         ],
         "geo": "geo",
         "hovertemplate": "City=kokopo<br>Humidity=%{marker.size}<br>Lat=%{lat}<br>Lng=%{lon}<br>Hotel Name=%{customdata[0]}<br>Country=%{customdata[1]}<extra></extra>",
         "lat": [
          -4.352
         ],
         "legendgroup": "kokopo",
         "lon": [
          152.2633
         ],
         "marker": {
          "color": "#FFA15A",
          "size": [
           67
          ],
          "sizemode": "area",
          "sizeref": 2.0408163265306123,
          "symbol": "circle"
         },
         "mode": "markers",
         "name": "kokopo",
         "showlegend": true,
         "type": "scattergeo"
        },
        {
         "customdata": [
          [
           "Outback Pioneer Hotel & Lodge",
           "AU"
          ]
         ],
         "geo": "geo",
         "hovertemplate": "City=yulara<br>Humidity=%{marker.size}<br>Lat=%{lat}<br>Lng=%{lon}<br>Hotel Name=%{customdata[0]}<br>Country=%{customdata[1]}<extra></extra>",
         "lat": [
          -25.2406
         ],
         "legendgroup": "yulara",
         "lon": [
          130.9889
         ],
         "marker": {
          "color": "#19d3f3",
          "size": [
           17
          ],
          "sizemode": "area",
          "sizeref": 2.0408163265306123,
          "symbol": "circle"
         },
         "mode": "markers",
         "name": "yulara",
         "showlegend": true,
         "type": "scattergeo"
        },
        {
         "customdata": [
          [
           "Hostal Viña del Mar",
           "BO"
          ]
         ],
         "geo": "geo",
         "hovertemplate": "City=patacamaya<br>Humidity=%{marker.size}<br>Lat=%{lat}<br>Lng=%{lon}<br>Hotel Name=%{customdata[0]}<br>Country=%{customdata[1]}<extra></extra>",
         "lat": [
          -17.2333
         ],
         "legendgroup": "patacamaya",
         "lon": [
          -67.9167
         ],
         "marker": {
          "color": "#FF6692",
          "size": [
           71
          ],
          "sizemode": "area",
          "sizeref": 2.0408163265306123,
          "symbol": "circle"
         },
         "mode": "markers",
         "name": "patacamaya",
         "showlegend": true,
         "type": "scattergeo"
        },
        {
         "customdata": [
          [
           "Thon Hotel Hammerfest",
           "NO"
          ]
         ],
         "geo": "geo",
         "hovertemplate": "City=hammerfest<br>Humidity=%{marker.size}<br>Lat=%{lat}<br>Lng=%{lon}<br>Hotel Name=%{customdata[0]}<br>Country=%{customdata[1]}<extra></extra>",
         "lat": [
          70.6634
         ],
         "legendgroup": "hammerfest",
         "lon": [
          23.6821
         ],
         "marker": {
          "color": "#B6E880",
          "size": [
           93
          ],
          "sizemode": "area",
          "sizeref": 2.0408163265306123,
          "symbol": "circle"
         },
         "mode": "markers",
         "name": "hammerfest",
         "showlegend": true,
         "type": "scattergeo"
        },
        {
         "customdata": [
          [
           "No hotel found",
           "MX"
          ]
         ],
         "geo": "geo",
         "hovertemplate": "City=tayoltita<br>Humidity=%{marker.size}<br>Lat=%{lat}<br>Lng=%{lon}<br>Hotel Name=%{customdata[0]}<br>Country=%{customdata[1]}<extra></extra>",
         "lat": [
          24.0833
         ],
         "legendgroup": "tayoltita",
         "lon": [
          -105.9333
         ],
         "marker": {
          "color": "#FF97FF",
          "size": [
           97
          ],
          "sizemode": "area",
          "sizeref": 2.0408163265306123,
          "symbol": "circle"
         },
         "mode": "markers",
         "name": "tayoltita",
         "showlegend": true,
         "type": "scattergeo"
        },
        {
         "customdata": [
          [
           "No hotel found",
           "CN"
          ]
         ],
         "geo": "geo",
         "hovertemplate": "City=ganzhou<br>Humidity=%{marker.size}<br>Lat=%{lat}<br>Lng=%{lon}<br>Hotel Name=%{customdata[0]}<br>Country=%{customdata[1]}<extra></extra>",
         "lat": [
          28.8184
         ],
         "legendgroup": "ganzhou",
         "lon": [
          115.4327
         ],
         "marker": {
          "color": "#FECB52",
          "size": [
           55
          ],
          "sizemode": "area",
          "sizeref": 2.0408163265306123,
          "symbol": "circle"
         },
         "mode": "markers",
         "name": "ganzhou",
         "showlegend": true,
         "type": "scattergeo"
        },
        {
         "customdata": [
          [
           "Гостиница \"Печора\"",
           "RU"
          ]
         ],
         "geo": "geo",
         "hovertemplate": "City=troitsko-pechorsk<br>Humidity=%{marker.size}<br>Lat=%{lat}<br>Lng=%{lon}<br>Hotel Name=%{customdata[0]}<br>Country=%{customdata[1]}<extra></extra>",
         "lat": [
          62.7084
         ],
         "legendgroup": "troitsko-pechorsk",
         "lon": [
          56.1964
         ],
         "marker": {
          "color": "#636efa",
          "size": [
           97
          ],
          "sizemode": "area",
          "sizeref": 2.0408163265306123,
          "symbol": "circle"
         },
         "mode": "markers",
         "name": "troitsko-pechorsk",
         "showlegend": true,
         "type": "scattergeo"
        },
        {
         "customdata": [
          [
           "No hotel found",
           "PK"
          ]
         ],
         "geo": "geo",
         "hovertemplate": "City=jam sahib<br>Humidity=%{marker.size}<br>Lat=%{lat}<br>Lng=%{lon}<br>Hotel Name=%{customdata[0]}<br>Country=%{customdata[1]}<extra></extra>",
         "lat": [
          26.2958
         ],
         "legendgroup": "jam sahib",
         "lon": [
          68.6292
         ],
         "marker": {
          "color": "#EF553B",
          "size": [
           28
          ],
          "sizemode": "area",
          "sizeref": 2.0408163265306123,
          "symbol": "circle"
         },
         "mode": "markers",
         "name": "jam sahib",
         "showlegend": true,
         "type": "scattergeo"
        },
        {
         "customdata": [
          [
           "Seaview Hotel Zum Sperrgebiet",
           null
          ]
         ],
         "geo": "geo",
         "hovertemplate": "City=luderitz<br>Humidity=%{marker.size}<br>Lat=%{lat}<br>Lng=%{lon}<br>Hotel Name=%{customdata[0]}<br>Country=%{customdata[1]}<extra></extra>",
         "lat": [
          -26.6481
         ],
         "legendgroup": "luderitz",
         "lon": [
          15.1594
         ],
         "marker": {
          "color": "#00cc96",
          "size": [
           83
          ],
          "sizemode": "area",
          "sizeref": 2.0408163265306123,
          "symbol": "circle"
         },
         "mode": "markers",
         "name": "luderitz",
         "showlegend": true,
         "type": "scattergeo"
        },
        {
         "customdata": [
          [
           "No hotel found",
           "UZ"
          ]
         ],
         "geo": "geo",
         "hovertemplate": "City=almazar<br>Humidity=%{marker.size}<br>Lat=%{lat}<br>Lng=%{lon}<br>Hotel Name=%{customdata[0]}<br>Country=%{customdata[1]}<extra></extra>",
         "lat": [
          40.3217
         ],
         "legendgroup": "almazar",
         "lon": [
          69.0106
         ],
         "marker": {
          "color": "#ab63fa",
          "size": [
           80
          ],
          "sizemode": "area",
          "sizeref": 2.0408163265306123,
          "symbol": "circle"
         },
         "mode": "markers",
         "name": "almazar",
         "showlegend": true,
         "type": "scattergeo"
        },
        {
         "customdata": [
          [
           "Huis Klipdrift",
           null
          ]
         ],
         "geo": "geo",
         "hovertemplate": "City=henties bay<br>Humidity=%{marker.size}<br>Lat=%{lat}<br>Lng=%{lon}<br>Hotel Name=%{customdata[0]}<br>Country=%{customdata[1]}<extra></extra>",
         "lat": [
          -22.116
         ],
         "legendgroup": "henties bay",
         "lon": [
          14.2845
         ],
         "marker": {
          "color": "#FFA15A",
          "size": [
           87
          ],
          "sizemode": "area",
          "sizeref": 2.0408163265306123,
          "symbol": "circle"
         },
         "mode": "markers",
         "name": "henties bay",
         "showlegend": true,
         "type": "scattergeo"
        },
        {
         "customdata": [
          [
           "Pousada Baia dos Corais",
           "BR"
          ]
         ],
         "geo": "geo",
         "hovertemplate": "City=tamandare<br>Humidity=%{marker.size}<br>Lat=%{lat}<br>Lng=%{lon}<br>Hotel Name=%{customdata[0]}<br>Country=%{customdata[1]}<extra></extra>",
         "lat": [
          -8.7597
         ],
         "legendgroup": "tamandare",
         "lon": [
          -35.1047
         ],
         "marker": {
          "color": "#19d3f3",
          "size": [
           76
          ],
          "sizemode": "area",
          "sizeref": 2.0408163265306123,
          "symbol": "circle"
         },
         "mode": "markers",
         "name": "tamandare",
         "showlegend": true,
         "type": "scattergeo"
        },
        {
         "customdata": [
          [
           "No hotel found",
           "US"
          ]
         ],
         "geo": "geo",
         "hovertemplate": "City=san patricio<br>Humidity=%{marker.size}<br>Lat=%{lat}<br>Lng=%{lon}<br>Hotel Name=%{customdata[0]}<br>Country=%{customdata[1]}<extra></extra>",
         "lat": [
          28.017
         ],
         "legendgroup": "san patricio",
         "lon": [
          -97.5169
         ],
         "marker": {
          "color": "#FF6692",
          "size": [
           70
          ],
          "sizemode": "area",
          "sizeref": 2.0408163265306123,
          "symbol": "circle"
         },
         "mode": "markers",
         "name": "san patricio",
         "showlegend": true,
         "type": "scattergeo"
        },
        {
         "customdata": [
          [
           "Rockhampton Plaza",
           "AU"
          ]
         ],
         "geo": "geo",
         "hovertemplate": "City=rockhampton<br>Humidity=%{marker.size}<br>Lat=%{lat}<br>Lng=%{lon}<br>Hotel Name=%{customdata[0]}<br>Country=%{customdata[1]}<extra></extra>",
         "lat": [
          -23.3833
         ],
         "legendgroup": "rockhampton",
         "lon": [
          150.5
         ],
         "marker": {
          "color": "#B6E880",
          "size": [
           51
          ],
          "sizemode": "area",
          "sizeref": 2.0408163265306123,
          "symbol": "circle"
         },
         "mode": "markers",
         "name": "rockhampton",
         "showlegend": true,
         "type": "scattergeo"
        },
        {
         "customdata": [
          [
           "Bela Vista",
           "CV"
          ]
         ],
         "geo": "geo",
         "hovertemplate": "City=sao filipe<br>Humidity=%{marker.size}<br>Lat=%{lat}<br>Lng=%{lon}<br>Hotel Name=%{customdata[0]}<br>Country=%{customdata[1]}<extra></extra>",
         "lat": [
          14.8961
         ],
         "legendgroup": "sao filipe",
         "lon": [
          -24.4956
         ],
         "marker": {
          "color": "#FF97FF",
          "size": [
           65
          ],
          "sizemode": "area",
          "sizeref": 2.0408163265306123,
          "symbol": "circle"
         },
         "mode": "markers",
         "name": "sao filipe",
         "showlegend": true,
         "type": "scattergeo"
        },
        {
         "customdata": [
          [
           "هتل میلاد نکا",
           "IR"
          ]
         ],
         "geo": "geo",
         "hovertemplate": "City=neka<br>Humidity=%{marker.size}<br>Lat=%{lat}<br>Lng=%{lon}<br>Hotel Name=%{customdata[0]}<br>Country=%{customdata[1]}<extra></extra>",
         "lat": [
          36.6508
         ],
         "legendgroup": "neka",
         "lon": [
          53.299
         ],
         "marker": {
          "color": "#FECB52",
          "size": [
           86
          ],
          "sizemode": "area",
          "sizeref": 2.0408163265306123,
          "symbol": "circle"
         },
         "mode": "markers",
         "name": "neka",
         "showlegend": true,
         "type": "scattergeo"
        },
        {
         "customdata": [
          [
           "Center Lodge Conference Center",
           "BW"
          ]
         ],
         "geo": "geo",
         "hovertemplate": "City=maun<br>Humidity=%{marker.size}<br>Lat=%{lat}<br>Lng=%{lon}<br>Hotel Name=%{customdata[0]}<br>Country=%{customdata[1]}<extra></extra>",
         "lat": [
          -19.9833
         ],
         "legendgroup": "maun",
         "lon": [
          23.4167
         ],
         "marker": {
          "color": "#636efa",
          "size": [
           78
          ],
          "sizemode": "area",
          "sizeref": 2.0408163265306123,
          "symbol": "circle"
         },
         "mode": "markers",
         "name": "maun",
         "showlegend": true,
         "type": "scattergeo"
        },
        {
         "customdata": [
          [
           "No hotel found",
           "CA"
          ]
         ],
         "geo": "geo",
         "hovertemplate": "City=clyde river<br>Humidity=%{marker.size}<br>Lat=%{lat}<br>Lng=%{lon}<br>Hotel Name=%{customdata[0]}<br>Country=%{customdata[1]}<extra></extra>",
         "lat": [
          70.4692
         ],
         "legendgroup": "clyde river",
         "lon": [
          -68.5914
         ],
         "marker": {
          "color": "#EF553B",
          "size": [
           68
          ],
          "sizemode": "area",
          "sizeref": 2.0408163265306123,
          "symbol": "circle"
         },
         "mode": "markers",
         "name": "clyde river",
         "showlegend": true,
         "type": "scattergeo"
        },
        {
         "customdata": [
          [
           "No hotel found",
           "RU"
          ]
         ],
         "geo": "geo",
         "hovertemplate": "City=chokurdakh<br>Humidity=%{marker.size}<br>Lat=%{lat}<br>Lng=%{lon}<br>Hotel Name=%{customdata[0]}<br>Country=%{customdata[1]}<extra></extra>",
         "lat": [
          70.6333
         ],
         "legendgroup": "chokurdakh",
         "lon": [
          147.9167
         ],
         "marker": {
          "color": "#00cc96",
          "size": [
           100
          ],
          "sizemode": "area",
          "sizeref": 2.0408163265306123,
          "symbol": "circle"
         },
         "mode": "markers",
         "name": "chokurdakh",
         "showlegend": true,
         "type": "scattergeo"
        },
        {
         "customdata": [
          [
           "The Vault",
           "SJ"
          ]
         ],
         "geo": "geo",
         "hovertemplate": "City=longyearbyen<br>Humidity=%{marker.size}<br>Lat=%{lat}<br>Lng=%{lon}<br>Hotel Name=%{customdata[0]}<br>Country=%{customdata[1]}<extra></extra>",
         "lat": [
          78.2186
         ],
         "legendgroup": "longyearbyen",
         "lon": [
          15.6401
         ],
         "marker": {
          "color": "#ab63fa",
          "size": [
           63
          ],
          "sizemode": "area",
          "sizeref": 2.0408163265306123,
          "symbol": "circle"
         },
         "mode": "markers",
         "name": "longyearbyen",
         "showlegend": true,
         "type": "scattergeo"
        },
        {
         "customdata": [
          [
           "Posada Munaylla",
           "EC"
          ]
         ],
         "geo": "geo",
         "hovertemplate": "City=cotacachi<br>Humidity=%{marker.size}<br>Lat=%{lat}<br>Lng=%{lon}<br>Hotel Name=%{customdata[0]}<br>Country=%{customdata[1]}<extra></extra>",
         "lat": [
          0.3
         ],
         "legendgroup": "cotacachi",
         "lon": [
          -78.2667
         ],
         "marker": {
          "color": "#FFA15A",
          "size": [
           86
          ],
          "sizemode": "area",
          "sizeref": 2.0408163265306123,
          "symbol": "circle"
         },
         "mode": "markers",
         "name": "cotacachi",
         "showlegend": true,
         "type": "scattergeo"
        },
        {
         "customdata": [
          [
           "Hotelli Seurahuone",
           "FI"
          ]
         ],
         "geo": "geo",
         "hovertemplate": "City=kokkola<br>Humidity=%{marker.size}<br>Lat=%{lat}<br>Lng=%{lon}<br>Hotel Name=%{customdata[0]}<br>Country=%{customdata[1]}<extra></extra>",
         "lat": [
          63.8385
         ],
         "legendgroup": "kokkola",
         "lon": [
          23.1307
         ],
         "marker": {
          "color": "#19d3f3",
          "size": [
           93
          ],
          "sizemode": "area",
          "sizeref": 2.0408163265306123,
          "symbol": "circle"
         },
         "mode": "markers",
         "name": "kokkola",
         "showlegend": true,
         "type": "scattergeo"
        },
        {
         "customdata": [
          [
           "Club Recreativo Armada de Chile",
           "CL"
          ]
         ],
         "geo": "geo",
         "hovertemplate": "City=talcahuano<br>Humidity=%{marker.size}<br>Lat=%{lat}<br>Lng=%{lon}<br>Hotel Name=%{customdata[0]}<br>Country=%{customdata[1]}<extra></extra>",
         "lat": [
          -36.7167
         ],
         "legendgroup": "talcahuano",
         "lon": [
          -73.1167
         ],
         "marker": {
          "color": "#FF6692",
          "size": [
           88
          ],
          "sizemode": "area",
          "sizeref": 2.0408163265306123,
          "symbol": "circle"
         },
         "mode": "markers",
         "name": "talcahuano",
         "showlegend": true,
         "type": "scattergeo"
        },
        {
         "customdata": [
          [
           "Сбербанк",
           "RU"
          ]
         ],
         "geo": "geo",
         "hovertemplate": "City=nizhniy ingash<br>Humidity=%{marker.size}<br>Lat=%{lat}<br>Lng=%{lon}<br>Hotel Name=%{customdata[0]}<br>Country=%{customdata[1]}<extra></extra>",
         "lat": [
          56.2
         ],
         "legendgroup": "nizhniy ingash",
         "lon": [
          96.53
         ],
         "marker": {
          "color": "#B6E880",
          "size": [
           92
          ],
          "sizemode": "area",
          "sizeref": 2.0408163265306123,
          "symbol": "circle"
         },
         "mode": "markers",
         "name": "nizhniy ingash",
         "showlegend": true,
         "type": "scattergeo"
        },
        {
         "customdata": [
          [
           "Alerces",
           "UY"
          ]
         ],
         "geo": "geo",
         "hovertemplate": "City=chuy<br>Humidity=%{marker.size}<br>Lat=%{lat}<br>Lng=%{lon}<br>Hotel Name=%{customdata[0]}<br>Country=%{customdata[1]}<extra></extra>",
         "lat": [
          -33.6971
         ],
         "legendgroup": "chuy",
         "lon": [
          -53.4616
         ],
         "marker": {
          "color": "#FF97FF",
          "size": [
           73
          ],
          "sizemode": "area",
          "sizeref": 2.0408163265306123,
          "symbol": "circle"
         },
         "mode": "markers",
         "name": "chuy",
         "showlegend": true,
         "type": "scattergeo"
        },
        {
         "customdata": [
          [
           "No hotel found",
           "MX"
          ]
         ],
         "geo": "geo",
         "hovertemplate": "City=la reforma<br>Humidity=%{marker.size}<br>Lat=%{lat}<br>Lng=%{lon}<br>Hotel Name=%{customdata[0]}<br>Country=%{customdata[1]}<extra></extra>",
         "lat": [
          25.0833
         ],
         "legendgroup": "la reforma",
         "lon": [
          -108.05
         ],
         "marker": {
          "color": "#FECB52",
          "size": [
           86
          ],
          "sizemode": "area",
          "sizeref": 2.0408163265306123,
          "symbol": "circle"
         },
         "mode": "markers",
         "name": "la reforma",
         "showlegend": true,
         "type": "scattergeo"
        },
        {
         "customdata": [
          [
           "Ишим",
           "RU"
          ]
         ],
         "geo": "geo",
         "hovertemplate": "City=ishim<br>Humidity=%{marker.size}<br>Lat=%{lat}<br>Lng=%{lon}<br>Hotel Name=%{customdata[0]}<br>Country=%{customdata[1]}<extra></extra>",
         "lat": [
          56.1128
         ],
         "legendgroup": "ishim",
         "lon": [
          69.4902
         ],
         "marker": {
          "color": "#636efa",
          "size": [
           98
          ],
          "sizemode": "area",
          "sizeref": 2.0408163265306123,
          "symbol": "circle"
         },
         "mode": "markers",
         "name": "ishim",
         "showlegend": true,
         "type": "scattergeo"
        },
        {
         "customdata": [
          [
           "Spanish Fiesta Resort",
           "CA"
          ]
         ],
         "geo": "geo",
         "hovertemplate": "City=osoyoos<br>Humidity=%{marker.size}<br>Lat=%{lat}<br>Lng=%{lon}<br>Hotel Name=%{customdata[0]}<br>Country=%{customdata[1]}<extra></extra>",
         "lat": [
          49.0331
         ],
         "legendgroup": "osoyoos",
         "lon": [
          -119.4524
         ],
         "marker": {
          "color": "#EF553B",
          "size": [
           80
          ],
          "sizemode": "area",
          "sizeref": 2.0408163265306123,
          "symbol": "circle"
         },
         "mode": "markers",
         "name": "osoyoos",
         "showlegend": true,
         "type": "scattergeo"
        },
        {
         "customdata": [
          [
           "No hotel found",
           "AU"
          ]
         ],
         "geo": "geo",
         "hovertemplate": "City=alyangula<br>Humidity=%{marker.size}<br>Lat=%{lat}<br>Lng=%{lon}<br>Hotel Name=%{customdata[0]}<br>Country=%{customdata[1]}<extra></extra>",
         "lat": [
          -13.8483
         ],
         "legendgroup": "alyangula",
         "lon": [
          136.4192
         ],
         "marker": {
          "color": "#00cc96",
          "size": [
           79
          ],
          "sizemode": "area",
          "sizeref": 2.0408163265306123,
          "symbol": "circle"
         },
         "mode": "markers",
         "name": "alyangula",
         "showlegend": true,
         "type": "scattergeo"
        },
        {
         "customdata": [
          [
           "Royal Sava Hôtel",
           "MG"
          ]
         ],
         "geo": "geo",
         "hovertemplate": "City=sambava<br>Humidity=%{marker.size}<br>Lat=%{lat}<br>Lng=%{lon}<br>Hotel Name=%{customdata[0]}<br>Country=%{customdata[1]}<extra></extra>",
         "lat": [
          -14.2667
         ],
         "legendgroup": "sambava",
         "lon": [
          50.1667
         ],
         "marker": {
          "color": "#ab63fa",
          "size": [
           82
          ],
          "sizemode": "area",
          "sizeref": 2.0408163265306123,
          "symbol": "circle"
         },
         "mode": "markers",
         "name": "sambava",
         "showlegend": true,
         "type": "scattergeo"
        },
        {
         "customdata": [
          [
           "dom Fausto",
           "AO"
          ]
         ],
         "geo": "geo",
         "hovertemplate": "City=malanje<br>Humidity=%{marker.size}<br>Lat=%{lat}<br>Lng=%{lon}<br>Hotel Name=%{customdata[0]}<br>Country=%{customdata[1]}<extra></extra>",
         "lat": [
          -9.5402
         ],
         "legendgroup": "malanje",
         "lon": [
          16.340999999999998
         ],
         "marker": {
          "color": "#FFA15A",
          "size": [
           99
          ],
          "sizemode": "area",
          "sizeref": 2.0408163265306123,
          "symbol": "circle"
         },
         "mode": "markers",
         "name": "malanje",
         "showlegend": true,
         "type": "scattergeo"
        },
        {
         "customdata": [
          [
           "Best Western Plus Hotel Ilulissat",
           "GL"
          ]
         ],
         "geo": "geo",
         "hovertemplate": "City=ilulissat<br>Humidity=%{marker.size}<br>Lat=%{lat}<br>Lng=%{lon}<br>Hotel Name=%{customdata[0]}<br>Country=%{customdata[1]}<extra></extra>",
         "lat": [
          69.2167
         ],
         "legendgroup": "ilulissat",
         "lon": [
          -51.1
         ],
         "marker": {
          "color": "#19d3f3",
          "size": [
           58
          ],
          "sizemode": "area",
          "sizeref": 2.0408163265306123,
          "symbol": "circle"
         },
         "mode": "markers",
         "name": "ilulissat",
         "showlegend": true,
         "type": "scattergeo"
        },
        {
         "customdata": [
          [
           "Hotel 61",
           "ID"
          ]
         ],
         "geo": "geo",
         "hovertemplate": "City=banda aceh<br>Humidity=%{marker.size}<br>Lat=%{lat}<br>Lng=%{lon}<br>Hotel Name=%{customdata[0]}<br>Country=%{customdata[1]}<extra></extra>",
         "lat": [
          5.5577
         ],
         "legendgroup": "banda aceh",
         "lon": [
          95.3222
         ],
         "marker": {
          "color": "#FF6692",
          "size": [
           89
          ],
          "sizemode": "area",
          "sizeref": 2.0408163265306123,
          "symbol": "circle"
         },
         "mode": "markers",
         "name": "banda aceh",
         "showlegend": true,
         "type": "scattergeo"
        },
        {
         "customdata": [
          [
           "Hermitage",
           "RU"
          ]
         ],
         "geo": "geo",
         "hovertemplate": "City=severodvinsk<br>Humidity=%{marker.size}<br>Lat=%{lat}<br>Lng=%{lon}<br>Hotel Name=%{customdata[0]}<br>Country=%{customdata[1]}<extra></extra>",
         "lat": [
          64.5635
         ],
         "legendgroup": "severodvinsk",
         "lon": [
          39.8302
         ],
         "marker": {
          "color": "#B6E880",
          "size": [
           87
          ],
          "sizemode": "area",
          "sizeref": 2.0408163265306123,
          "symbol": "circle"
         },
         "mode": "markers",
         "name": "severodvinsk",
         "showlegend": true,
         "type": "scattergeo"
        },
        {
         "customdata": [
          [
           "No hotel found",
           "ML"
          ]
         ],
         "geo": "geo",
         "hovertemplate": "City=taoudenni<br>Humidity=%{marker.size}<br>Lat=%{lat}<br>Lng=%{lon}<br>Hotel Name=%{customdata[0]}<br>Country=%{customdata[1]}<extra></extra>",
         "lat": [
          22.6783
         ],
         "legendgroup": "taoudenni",
         "lon": [
          -3.9836
         ],
         "marker": {
          "color": "#FF97FF",
          "size": [
           24
          ],
          "sizemode": "area",
          "sizeref": 2.0408163265306123,
          "symbol": "circle"
         },
         "mode": "markers",
         "name": "taoudenni",
         "showlegend": true,
         "type": "scattergeo"
        },
        {
         "customdata": [
          [
           "Oasis Aurweda Resort Hambathota",
           "LK"
          ]
         ],
         "geo": "geo",
         "hovertemplate": "City=hambantota<br>Humidity=%{marker.size}<br>Lat=%{lat}<br>Lng=%{lon}<br>Hotel Name=%{customdata[0]}<br>Country=%{customdata[1]}<extra></extra>",
         "lat": [
          6.1241
         ],
         "legendgroup": "hambantota",
         "lon": [
          81.1185
         ],
         "marker": {
          "color": "#FECB52",
          "size": [
           100
          ],
          "sizemode": "area",
          "sizeref": 2.0408163265306123,
          "symbol": "circle"
         },
         "mode": "markers",
         "name": "hambantota",
         "showlegend": true,
         "type": "scattergeo"
        },
        {
         "customdata": [
          [
           "Boston Hotel",
           "AU"
          ]
         ],
         "geo": "geo",
         "hovertemplate": "City=port lincoln<br>Humidity=%{marker.size}<br>Lat=%{lat}<br>Lng=%{lon}<br>Hotel Name=%{customdata[0]}<br>Country=%{customdata[1]}<extra></extra>",
         "lat": [
          -34.7333
         ],
         "legendgroup": "port lincoln",
         "lon": [
          135.8667
         ],
         "marker": {
          "color": "#636efa",
          "size": [
           63
          ],
          "sizemode": "area",
          "sizeref": 2.0408163265306123,
          "symbol": "circle"
         },
         "mode": "markers",
         "name": "port lincoln",
         "showlegend": true,
         "type": "scattergeo"
        },
        {
         "customdata": [
          [
           "No hotel found",
           "CN"
          ]
         ],
         "geo": "geo",
         "hovertemplate": "City=pingzhuang<br>Humidity=%{marker.size}<br>Lat=%{lat}<br>Lng=%{lon}<br>Hotel Name=%{customdata[0]}<br>Country=%{customdata[1]}<extra></extra>",
         "lat": [
          42.0372
         ],
         "legendgroup": "pingzhuang",
         "lon": [
          119.2889
         ],
         "marker": {
          "color": "#EF553B",
          "size": [
           25
          ],
          "sizemode": "area",
          "sizeref": 2.0408163265306123,
          "symbol": "circle"
         },
         "mode": "markers",
         "name": "pingzhuang",
         "showlegend": true,
         "type": "scattergeo"
        },
        {
         "customdata": [
          [
           "No hotel found",
           "ZA"
          ]
         ],
         "geo": "geo",
         "hovertemplate": "City=east london<br>Humidity=%{marker.size}<br>Lat=%{lat}<br>Lng=%{lon}<br>Hotel Name=%{customdata[0]}<br>Country=%{customdata[1]}<extra></extra>",
         "lat": [
          -33.0153
         ],
         "legendgroup": "east london",
         "lon": [
          27.9116
         ],
         "marker": {
          "color": "#00cc96",
          "size": [
           88
          ],
          "sizemode": "area",
          "sizeref": 2.0408163265306123,
          "symbol": "circle"
         },
         "mode": "markers",
         "name": "east london",
         "showlegend": true,
         "type": "scattergeo"
        },
        {
         "customdata": [
          [
           "大新旅館",
           "JP"
          ]
         ],
         "geo": "geo",
         "hovertemplate": "City=hasaki<br>Humidity=%{marker.size}<br>Lat=%{lat}<br>Lng=%{lon}<br>Hotel Name=%{customdata[0]}<br>Country=%{customdata[1]}<extra></extra>",
         "lat": [
          35.7333
         ],
         "legendgroup": "hasaki",
         "lon": [
          140.8333
         ],
         "marker": {
          "color": "#ab63fa",
          "size": [
           64
          ],
          "sizemode": "area",
          "sizeref": 2.0408163265306123,
          "symbol": "circle"
         },
         "mode": "markers",
         "name": "hasaki",
         "showlegend": true,
         "type": "scattergeo"
        },
        {
         "customdata": [
          [
           "No hotel found",
           "RU"
          ]
         ],
         "geo": "geo",
         "hovertemplate": "City=cherskiy<br>Humidity=%{marker.size}<br>Lat=%{lat}<br>Lng=%{lon}<br>Hotel Name=%{customdata[0]}<br>Country=%{customdata[1]}<extra></extra>",
         "lat": [
          68.75
         ],
         "legendgroup": "cherskiy",
         "lon": [
          161.3
         ],
         "marker": {
          "color": "#FFA15A",
          "size": [
           94
          ],
          "sizemode": "area",
          "sizeref": 2.0408163265306123,
          "symbol": "circle"
         },
         "mode": "markers",
         "name": "cherskiy",
         "showlegend": true,
         "type": "scattergeo"
        },
        {
         "customdata": [
          [
           "No hotel found",
           "IN"
          ]
         ],
         "geo": "geo",
         "hovertemplate": "City=chhindwara<br>Humidity=%{marker.size}<br>Lat=%{lat}<br>Lng=%{lon}<br>Hotel Name=%{customdata[0]}<br>Country=%{customdata[1]}<extra></extra>",
         "lat": [
          22.0667
         ],
         "legendgroup": "chhindwara",
         "lon": [
          78.9333
         ],
         "marker": {
          "color": "#19d3f3",
          "size": [
           42
          ],
          "sizemode": "area",
          "sizeref": 2.0408163265306123,
          "symbol": "circle"
         },
         "mode": "markers",
         "name": "chhindwara",
         "showlegend": true,
         "type": "scattergeo"
        },
        {
         "customdata": [
          [
           "Hôtel 6500 CFA",
           "BJ"
          ]
         ],
         "geo": "geo",
         "hovertemplate": "City=porto novo<br>Humidity=%{marker.size}<br>Lat=%{lat}<br>Lng=%{lon}<br>Hotel Name=%{customdata[0]}<br>Country=%{customdata[1]}<extra></extra>",
         "lat": [
          6.4965
         ],
         "legendgroup": "porto novo",
         "lon": [
          2.6036
         ],
         "marker": {
          "color": "#FF6692",
          "size": [
           89
          ],
          "sizemode": "area",
          "sizeref": 2.0408163265306123,
          "symbol": "circle"
         },
         "mode": "markers",
         "name": "porto novo",
         "showlegend": true,
         "type": "scattergeo"
        },
        {
         "customdata": [
          [
           "Hotel Camapua",
           "BR"
          ]
         ],
         "geo": "geo",
         "hovertemplate": "City=gilbues<br>Humidity=%{marker.size}<br>Lat=%{lat}<br>Lng=%{lon}<br>Hotel Name=%{customdata[0]}<br>Country=%{customdata[1]}<extra></extra>",
         "lat": [
          -9.8317
         ],
         "legendgroup": "gilbues",
         "lon": [
          -45.3439
         ],
         "marker": {
          "color": "#B6E880",
          "size": [
           69
          ],
          "sizemode": "area",
          "sizeref": 2.0408163265306123,
          "symbol": "circle"
         },
         "mode": "markers",
         "name": "gilbues",
         "showlegend": true,
         "type": "scattergeo"
        },
        {
         "customdata": [
          [
           "Тайга",
           "RU"
          ]
         ],
         "geo": "geo",
         "hovertemplate": "City=bratsk<br>Humidity=%{marker.size}<br>Lat=%{lat}<br>Lng=%{lon}<br>Hotel Name=%{customdata[0]}<br>Country=%{customdata[1]}<extra></extra>",
         "lat": [
          56.1325
         ],
         "legendgroup": "bratsk",
         "lon": [
          101.6142
         ],
         "marker": {
          "color": "#FF97FF",
          "size": [
           95
          ],
          "sizemode": "area",
          "sizeref": 2.0408163265306123,
          "symbol": "circle"
         },
         "mode": "markers",
         "name": "bratsk",
         "showlegend": true,
         "type": "scattergeo"
        },
        {
         "customdata": [
          [
           "No hotel found",
           "RU"
          ]
         ],
         "geo": "geo",
         "hovertemplate": "City=bilibino<br>Humidity=%{marker.size}<br>Lat=%{lat}<br>Lng=%{lon}<br>Hotel Name=%{customdata[0]}<br>Country=%{customdata[1]}<extra></extra>",
         "lat": [
          68.0546
         ],
         "legendgroup": "bilibino",
         "lon": [
          166.4372
         ],
         "marker": {
          "color": "#FECB52",
          "size": [
           81
          ],
          "sizemode": "area",
          "sizeref": 2.0408163265306123,
          "symbol": "circle"
         },
         "mode": "markers",
         "name": "bilibino",
         "showlegend": true,
         "type": "scattergeo"
        },
        {
         "customdata": [
          [
           "ЯЛЭМД",
           "RU"
          ]
         ],
         "geo": "geo",
         "hovertemplate": "City=yar-sale<br>Humidity=%{marker.size}<br>Lat=%{lat}<br>Lng=%{lon}<br>Hotel Name=%{customdata[0]}<br>Country=%{customdata[1]}<extra></extra>",
         "lat": [
          66.8333
         ],
         "legendgroup": "yar-sale",
         "lon": [
          70.8333
         ],
         "marker": {
          "color": "#636efa",
          "size": [
           97
          ],
          "sizemode": "area",
          "sizeref": 2.0408163265306123,
          "symbol": "circle"
         },
         "mode": "markers",
         "name": "yar-sale",
         "showlegend": true,
         "type": "scattergeo"
        },
        {
         "customdata": [
          [
           "Hotel Talisman",
           "PT"
          ]
         ],
         "geo": "geo",
         "hovertemplate": "City=ponta delgada<br>Humidity=%{marker.size}<br>Lat=%{lat}<br>Lng=%{lon}<br>Hotel Name=%{customdata[0]}<br>Country=%{customdata[1]}<extra></extra>",
         "lat": [
          37.7333
         ],
         "legendgroup": "ponta delgada",
         "lon": [
          -25.6667
         ],
         "marker": {
          "color": "#EF553B",
          "size": [
           67
          ],
          "sizemode": "area",
          "sizeref": 2.0408163265306123,
          "symbol": "circle"
         },
         "mode": "markers",
         "name": "ponta delgada",
         "showlegend": true,
         "type": "scattergeo"
        },
        {
         "customdata": [
          [
           "No hotel found",
           "US"
          ]
         ],
         "geo": "geo",
         "hovertemplate": "City=avera<br>Humidity=%{marker.size}<br>Lat=%{lat}<br>Lng=%{lon}<br>Hotel Name=%{customdata[0]}<br>Country=%{customdata[1]}<extra></extra>",
         "lat": [
          33.194
         ],
         "legendgroup": "avera",
         "lon": [
          -82.5271
         ],
         "marker": {
          "color": "#00cc96",
          "size": [
           73
          ],
          "sizemode": "area",
          "sizeref": 2.0408163265306123,
          "symbol": "circle"
         },
         "mode": "markers",
         "name": "avera",
         "showlegend": true,
         "type": "scattergeo"
        },
        {
         "customdata": [
          [
           "Кристина",
           "RU"
          ]
         ],
         "geo": "geo",
         "hovertemplate": "City=bakchar<br>Humidity=%{marker.size}<br>Lat=%{lat}<br>Lng=%{lon}<br>Hotel Name=%{customdata[0]}<br>Country=%{customdata[1]}<extra></extra>",
         "lat": [
          57.0186
         ],
         "legendgroup": "bakchar",
         "lon": [
          82.0711
         ],
         "marker": {
          "color": "#ab63fa",
          "size": [
           95
          ],
          "sizemode": "area",
          "sizeref": 2.0408163265306123,
          "symbol": "circle"
         },
         "mode": "markers",
         "name": "bakchar",
         "showlegend": true,
         "type": "scattergeo"
        },
        {
         "customdata": [
          [
           "Westmark Fairbanks Hotel",
           "US"
          ]
         ],
         "geo": "geo",
         "hovertemplate": "City=fairbanks<br>Humidity=%{marker.size}<br>Lat=%{lat}<br>Lng=%{lon}<br>Hotel Name=%{customdata[0]}<br>Country=%{customdata[1]}<extra></extra>",
         "lat": [
          64.8378
         ],
         "legendgroup": "fairbanks",
         "lon": [
          -147.7164
         ],
         "marker": {
          "color": "#FFA15A",
          "size": [
           76
          ],
          "sizemode": "area",
          "sizeref": 2.0408163265306123,
          "symbol": "circle"
         },
         "mode": "markers",
         "name": "fairbanks",
         "showlegend": true,
         "type": "scattergeo"
        },
        {
         "customdata": [
          [
           "No hotel found",
           "LY"
          ]
         ],
         "geo": "geo",
         "hovertemplate": "City=nalut<br>Humidity=%{marker.size}<br>Lat=%{lat}<br>Lng=%{lon}<br>Hotel Name=%{customdata[0]}<br>Country=%{customdata[1]}<extra></extra>",
         "lat": [
          30.3333
         ],
         "legendgroup": "nalut",
         "lon": [
          10.85
         ],
         "marker": {
          "color": "#19d3f3",
          "size": [
           48
          ],
          "sizemode": "area",
          "sizeref": 2.0408163265306123,
          "symbol": "circle"
         },
         "mode": "markers",
         "name": "nalut",
         "showlegend": true,
         "type": "scattergeo"
        },
        {
         "customdata": [
          [
           "No hotel found",
           "RU"
          ]
         ],
         "geo": "geo",
         "hovertemplate": "City=poltavka<br>Humidity=%{marker.size}<br>Lat=%{lat}<br>Lng=%{lon}<br>Hotel Name=%{customdata[0]}<br>Country=%{customdata[1]}<extra></extra>",
         "lat": [
          54.3663
         ],
         "legendgroup": "poltavka",
         "lon": [
          71.7632
         ],
         "marker": {
          "color": "#FF6692",
          "size": [
           97
          ],
          "sizemode": "area",
          "sizeref": 2.0408163265306123,
          "symbol": "circle"
         },
         "mode": "markers",
         "name": "poltavka",
         "showlegend": true,
         "type": "scattergeo"
        },
        {
         "customdata": [
          [
           "No hotel found",
           "US"
          ]
         ],
         "geo": "geo",
         "hovertemplate": "City=nome<br>Humidity=%{marker.size}<br>Lat=%{lat}<br>Lng=%{lon}<br>Hotel Name=%{customdata[0]}<br>Country=%{customdata[1]}<extra></extra>",
         "lat": [
          64.5011
         ],
         "legendgroup": "nome",
         "lon": [
          -165.4064
         ],
         "marker": {
          "color": "#B6E880",
          "size": [
           65
          ],
          "sizemode": "area",
          "sizeref": 2.0408163265306123,
          "symbol": "circle"
         },
         "mode": "markers",
         "name": "nome",
         "showlegend": true,
         "type": "scattergeo"
        },
        {
         "customdata": [
          [
           "Hotel Anggrek",
           "ID"
          ]
         ],
         "geo": "geo",
         "hovertemplate": "City=nabire<br>Humidity=%{marker.size}<br>Lat=%{lat}<br>Lng=%{lon}<br>Hotel Name=%{customdata[0]}<br>Country=%{customdata[1]}<extra></extra>",
         "lat": [
          -3.3667
         ],
         "legendgroup": "nabire",
         "lon": [
          135.4833
         ],
         "marker": {
          "color": "#FF97FF",
          "size": [
           63
          ],
          "sizemode": "area",
          "sizeref": 2.0408163265306123,
          "symbol": "circle"
         },
         "mode": "markers",
         "name": "nabire",
         "showlegend": true,
         "type": "scattergeo"
        },
        {
         "customdata": [
          [
           "Jardines Hotel",
           "MX"
          ]
         ],
         "geo": "geo",
         "hovertemplate": "City=san quintin<br>Humidity=%{marker.size}<br>Lat=%{lat}<br>Lng=%{lon}<br>Hotel Name=%{customdata[0]}<br>Country=%{customdata[1]}<extra></extra>",
         "lat": [
          30.4833
         ],
         "legendgroup": "san quintin",
         "lon": [
          -115.95
         ],
         "marker": {
          "color": "#FECB52",
          "size": [
           46
          ],
          "sizemode": "area",
          "sizeref": 2.0408163265306123,
          "symbol": "circle"
         },
         "mode": "markers",
         "name": "san quintin",
         "showlegend": true,
         "type": "scattergeo"
        },
        {
         "customdata": [
          [
           "Хатанга",
           "RU"
          ]
         ],
         "geo": "geo",
         "hovertemplate": "City=khatanga<br>Humidity=%{marker.size}<br>Lat=%{lat}<br>Lng=%{lon}<br>Hotel Name=%{customdata[0]}<br>Country=%{customdata[1]}<extra></extra>",
         "lat": [
          71.9667
         ],
         "legendgroup": "khatanga",
         "lon": [
          102.5
         ],
         "marker": {
          "color": "#636efa",
          "size": [
           97
          ],
          "sizemode": "area",
          "sizeref": 2.0408163265306123,
          "symbol": "circle"
         },
         "mode": "markers",
         "name": "khatanga",
         "showlegend": true,
         "type": "scattergeo"
        },
        {
         "customdata": [
          [
           "Ville de Moroni",
           "KM"
          ]
         ],
         "geo": "geo",
         "hovertemplate": "City=moroni<br>Humidity=%{marker.size}<br>Lat=%{lat}<br>Lng=%{lon}<br>Hotel Name=%{customdata[0]}<br>Country=%{customdata[1]}<extra></extra>",
         "lat": [
          -11.7022
         ],
         "legendgroup": "moroni",
         "lon": [
          43.2551
         ],
         "marker": {
          "color": "#EF553B",
          "size": [
           88
          ],
          "sizemode": "area",
          "sizeref": 2.0408163265306123,
          "symbol": "circle"
         },
         "mode": "markers",
         "name": "moroni",
         "showlegend": true,
         "type": "scattergeo"
        },
        {
         "customdata": [
          [
           "No hotel found",
           "ID"
          ]
         ],
         "geo": "geo",
         "hovertemplate": "City=manggar<br>Humidity=%{marker.size}<br>Lat=%{lat}<br>Lng=%{lon}<br>Hotel Name=%{customdata[0]}<br>Country=%{customdata[1]}<extra></extra>",
         "lat": [
          -2.8833
         ],
         "legendgroup": "manggar",
         "lon": [
          108.2667
         ],
         "marker": {
          "color": "#00cc96",
          "size": [
           72
          ],
          "sizemode": "area",
          "sizeref": 2.0408163265306123,
          "symbol": "circle"
         },
         "mode": "markers",
         "name": "manggar",
         "showlegend": true,
         "type": "scattergeo"
        },
        {
         "customdata": [
          [
           "Cabañas Río Quequén",
           "AR"
          ]
         ],
         "geo": "geo",
         "hovertemplate": "City=necochea<br>Humidity=%{marker.size}<br>Lat=%{lat}<br>Lng=%{lon}<br>Hotel Name=%{customdata[0]}<br>Country=%{customdata[1]}<extra></extra>",
         "lat": [
          -38.5473
         ],
         "legendgroup": "necochea",
         "lon": [
          -58.7368
         ],
         "marker": {
          "color": "#ab63fa",
          "size": [
           58
          ],
          "sizemode": "area",
          "sizeref": 2.0408163265306123,
          "symbol": "circle"
         },
         "mode": "markers",
         "name": "necochea",
         "showlegend": true,
         "type": "scattergeo"
        },
        {
         "customdata": [
          [
           "No hotel found",
           "MG"
          ]
         ],
         "geo": "geo",
         "hovertemplate": "City=bealanana<br>Humidity=%{marker.size}<br>Lat=%{lat}<br>Lng=%{lon}<br>Hotel Name=%{customdata[0]}<br>Country=%{customdata[1]}<extra></extra>",
         "lat": [
          -14.55
         ],
         "legendgroup": "bealanana",
         "lon": [
          48.7333
         ],
         "marker": {
          "color": "#FFA15A",
          "size": [
           94
          ],
          "sizemode": "area",
          "sizeref": 2.0408163265306123,
          "symbol": "circle"
         },
         "mode": "markers",
         "name": "bealanana",
         "showlegend": true,
         "type": "scattergeo"
        },
        {
         "customdata": [
          [
           "Plaza sal paraiso",
           "MX"
          ]
         ],
         "geo": "geo",
         "hovertemplate": "City=guerrero negro<br>Humidity=%{marker.size}<br>Lat=%{lat}<br>Lng=%{lon}<br>Hotel Name=%{customdata[0]}<br>Country=%{customdata[1]}<extra></extra>",
         "lat": [
          27.9769
         ],
         "legendgroup": "guerrero negro",
         "lon": [
          -114.0611
         ],
         "marker": {
          "color": "#19d3f3",
          "size": [
           42
          ],
          "sizemode": "area",
          "sizeref": 2.0408163265306123,
          "symbol": "circle"
         },
         "mode": "markers",
         "name": "guerrero negro",
         "showlegend": true,
         "type": "scattergeo"
        },
        {
         "customdata": [
          [
           "Hospedaje Cristofer",
           "PE"
          ]
         ],
         "geo": "geo",
         "hovertemplate": "City=pucallpa<br>Humidity=%{marker.size}<br>Lat=%{lat}<br>Lng=%{lon}<br>Hotel Name=%{customdata[0]}<br>Country=%{customdata[1]}<extra></extra>",
         "lat": [
          -8.3791
         ],
         "legendgroup": "pucallpa",
         "lon": [
          -74.5539
         ],
         "marker": {
          "color": "#FF6692",
          "size": [
           78
          ],
          "sizemode": "area",
          "sizeref": 2.0408163265306123,
          "symbol": "circle"
         },
         "mode": "markers",
         "name": "pucallpa",
         "showlegend": true,
         "type": "scattergeo"
        },
        {
         "customdata": [
          [
           "No hotel found",
           "RU"
          ]
         ],
         "geo": "geo",
         "hovertemplate": "City=nikolskoye<br>Humidity=%{marker.size}<br>Lat=%{lat}<br>Lng=%{lon}<br>Hotel Name=%{customdata[0]}<br>Country=%{customdata[1]}<extra></extra>",
         "lat": [
          59.7035
         ],
         "legendgroup": "nikolskoye",
         "lon": [
          30.7861
         ],
         "marker": {
          "color": "#B6E880",
          "size": [
           92
          ],
          "sizemode": "area",
          "sizeref": 2.0408163265306123,
          "symbol": "circle"
         },
         "mode": "markers",
         "name": "nikolskoye",
         "showlegend": true,
         "type": "scattergeo"
        },
        {
         "customdata": [
          [
           "La Quinta",
           "US"
          ]
         ],
         "geo": "geo",
         "hovertemplate": "City=anderson<br>Humidity=%{marker.size}<br>Lat=%{lat}<br>Lng=%{lon}<br>Hotel Name=%{customdata[0]}<br>Country=%{customdata[1]}<extra></extra>",
         "lat": [
          34.5334
         ],
         "legendgroup": "anderson",
         "lon": [
          -82.6499
         ],
         "marker": {
          "color": "#FF97FF",
          "size": [
           76
          ],
          "sizemode": "area",
          "sizeref": 2.0408163265306123,
          "symbol": "circle"
         },
         "mode": "markers",
         "name": "anderson",
         "showlegend": true,
         "type": "scattergeo"
        },
        {
         "customdata": [
          [
           "No hotel found",
           "ML"
          ]
         ],
         "geo": "geo",
         "hovertemplate": "City=kidal<br>Humidity=%{marker.size}<br>Lat=%{lat}<br>Lng=%{lon}<br>Hotel Name=%{customdata[0]}<br>Country=%{customdata[1]}<extra></extra>",
         "lat": [
          18.4411
         ],
         "legendgroup": "kidal",
         "lon": [
          1.4078
         ],
         "marker": {
          "color": "#FECB52",
          "size": [
           14
          ],
          "sizemode": "area",
          "sizeref": 2.0408163265306123,
          "symbol": "circle"
         },
         "mode": "markers",
         "name": "kidal",
         "showlegend": true,
         "type": "scattergeo"
        },
        {
         "customdata": [
          [
           "Snow Crest Hotel",
           "IN"
          ]
         ],
         "geo": "geo",
         "hovertemplate": "City=joshimath<br>Humidity=%{marker.size}<br>Lat=%{lat}<br>Lng=%{lon}<br>Hotel Name=%{customdata[0]}<br>Country=%{customdata[1]}<extra></extra>",
         "lat": [
          30.5667
         ],
         "legendgroup": "joshimath",
         "lon": [
          79.5667
         ],
         "marker": {
          "color": "#636efa",
          "size": [
           83
          ],
          "sizemode": "area",
          "sizeref": 2.0408163265306123,
          "symbol": "circle"
         },
         "mode": "markers",
         "name": "joshimath",
         "showlegend": true,
         "type": "scattergeo"
        },
        {
         "customdata": [
          [
           "Twemu Guest house",
           "ZM"
          ]
         ],
         "geo": "geo",
         "hovertemplate": "City=samfya<br>Humidity=%{marker.size}<br>Lat=%{lat}<br>Lng=%{lon}<br>Hotel Name=%{customdata[0]}<br>Country=%{customdata[1]}<extra></extra>",
         "lat": [
          -11.3649
         ],
         "legendgroup": "samfya",
         "lon": [
          29.5565
         ],
         "marker": {
          "color": "#EF553B",
          "size": [
           88
          ],
          "sizemode": "area",
          "sizeref": 2.0408163265306123,
          "symbol": "circle"
         },
         "mode": "markers",
         "name": "samfya",
         "showlegend": true,
         "type": "scattergeo"
        },
        {
         "customdata": [
          [
           "No hotel found",
           "ID"
          ]
         ],
         "geo": "geo",
         "hovertemplate": "City=kaili<br>Humidity=%{marker.size}<br>Lat=%{lat}<br>Lng=%{lon}<br>Hotel Name=%{customdata[0]}<br>Country=%{customdata[1]}<extra></extra>",
         "lat": [
          -3.4626
         ],
         "legendgroup": "kaili",
         "lon": [
          120.2147
         ],
         "marker": {
          "color": "#00cc96",
          "size": [
           74
          ],
          "sizemode": "area",
          "sizeref": 2.0408163265306123,
          "symbol": "circle"
         },
         "mode": "markers",
         "name": "kaili",
         "showlegend": true,
         "type": "scattergeo"
        },
        {
         "customdata": [
          [
           "No hotel found",
           "RU"
          ]
         ],
         "geo": "geo",
         "hovertemplate": "City=provideniya<br>Humidity=%{marker.size}<br>Lat=%{lat}<br>Lng=%{lon}<br>Hotel Name=%{customdata[0]}<br>Country=%{customdata[1]}<extra></extra>",
         "lat": [
          64.3833
         ],
         "legendgroup": "provideniya",
         "lon": [
          -173.3
         ],
         "marker": {
          "color": "#ab63fa",
          "size": [
           66
          ],
          "sizemode": "area",
          "sizeref": 2.0408163265306123,
          "symbol": "circle"
         },
         "mode": "markers",
         "name": "provideniya",
         "showlegend": true,
         "type": "scattergeo"
        },
        {
         "customdata": [
          [
           "Kavieng Hotel",
           "PG"
          ]
         ],
         "geo": "geo",
         "hovertemplate": "City=kavieng<br>Humidity=%{marker.size}<br>Lat=%{lat}<br>Lng=%{lon}<br>Hotel Name=%{customdata[0]}<br>Country=%{customdata[1]}<extra></extra>",
         "lat": [
          -2.5744
         ],
         "legendgroup": "kavieng",
         "lon": [
          150.7967
         ],
         "marker": {
          "color": "#FFA15A",
          "size": [
           69
          ],
          "sizemode": "area",
          "sizeref": 2.0408163265306123,
          "symbol": "circle"
         },
         "mode": "markers",
         "name": "kavieng",
         "showlegend": true,
         "type": "scattergeo"
        },
        {
         "customdata": [
          [
           "Udupi Upahara",
           "IN"
          ]
         ],
         "geo": "geo",
         "hovertemplate": "City=magadi<br>Humidity=%{marker.size}<br>Lat=%{lat}<br>Lng=%{lon}<br>Hotel Name=%{customdata[0]}<br>Country=%{customdata[1]}<extra></extra>",
         "lat": [
          12.9667
         ],
         "legendgroup": "magadi",
         "lon": [
          77.2333
         ],
         "marker": {
          "color": "#19d3f3",
          "size": [
           67
          ],
          "sizemode": "area",
          "sizeref": 2.0408163265306123,
          "symbol": "circle"
         },
         "mode": "markers",
         "name": "magadi",
         "showlegend": true,
         "type": "scattergeo"
        },
        {
         "customdata": [
          [
           "No hotel found",
           "AU"
          ]
         ],
         "geo": "geo",
         "hovertemplate": "City=codrington<br>Humidity=%{marker.size}<br>Lat=%{lat}<br>Lng=%{lon}<br>Hotel Name=%{customdata[0]}<br>Country=%{customdata[1]}<extra></extra>",
         "lat": [
          -38.2667
         ],
         "legendgroup": "codrington",
         "lon": [
          141.9667
         ],
         "marker": {
          "color": "#FF6692",
          "size": [
           61
          ],
          "sizemode": "area",
          "sizeref": 2.0408163265306123,
          "symbol": "circle"
         },
         "mode": "markers",
         "name": "codrington",
         "showlegend": true,
         "type": "scattergeo"
        },
        {
         "customdata": [
          [
           "Атланта",
           "UA"
          ]
         ],
         "geo": "geo",
         "hovertemplate": "City=chernihiv<br>Humidity=%{marker.size}<br>Lat=%{lat}<br>Lng=%{lon}<br>Hotel Name=%{customdata[0]}<br>Country=%{customdata[1]}<extra></extra>",
         "lat": [
          51
         ],
         "legendgroup": "chernihiv",
         "lon": [
          32
         ],
         "marker": {
          "color": "#B6E880",
          "size": [
           75
          ],
          "sizemode": "area",
          "sizeref": 2.0408163265306123,
          "symbol": "circle"
         },
         "mode": "markers",
         "name": "chernihiv",
         "showlegend": true,
         "type": "scattergeo"
        },
        {
         "customdata": [
          [
           "The Abbey Hotel",
           "GB"
          ]
         ],
         "geo": "geo",
         "hovertemplate": "City=penzance<br>Humidity=%{marker.size}<br>Lat=%{lat}<br>Lng=%{lon}<br>Hotel Name=%{customdata[0]}<br>Country=%{customdata[1]}<extra></extra>",
         "lat": [
          50.1186
         ],
         "legendgroup": "penzance",
         "lon": [
          -5.5371
         ],
         "marker": {
          "color": "#FF97FF",
          "size": [
           73
          ],
          "sizemode": "area",
          "sizeref": 2.0408163265306123,
          "symbol": "circle"
         },
         "mode": "markers",
         "name": "penzance",
         "showlegend": true,
         "type": "scattergeo"
        },
        {
         "customdata": [
          [
           "Beluga Lookout Hotel",
           "US"
          ]
         ],
         "geo": "geo",
         "hovertemplate": "City=kenai<br>Humidity=%{marker.size}<br>Lat=%{lat}<br>Lng=%{lon}<br>Hotel Name=%{customdata[0]}<br>Country=%{customdata[1]}<extra></extra>",
         "lat": [
          60.5544
         ],
         "legendgroup": "kenai",
         "lon": [
          -151.2583
         ],
         "marker": {
          "color": "#FECB52",
          "size": [
           94
          ],
          "sizemode": "area",
          "sizeref": 2.0408163265306123,
          "symbol": "circle"
         },
         "mode": "markers",
         "name": "kenai",
         "showlegend": true,
         "type": "scattergeo"
        },
        {
         "customdata": [
          [
           "Seeadler Bay Hotel",
           "PG"
          ]
         ],
         "geo": "geo",
         "hovertemplate": "City=lorengau<br>Humidity=%{marker.size}<br>Lat=%{lat}<br>Lng=%{lon}<br>Hotel Name=%{customdata[0]}<br>Country=%{customdata[1]}<extra></extra>",
         "lat": [
          -2.0226
         ],
         "legendgroup": "lorengau",
         "lon": [
          147.2712
         ],
         "marker": {
          "color": "#636efa",
          "size": [
           81
          ],
          "sizemode": "area",
          "sizeref": 2.0408163265306123,
          "symbol": "circle"
         },
         "mode": "markers",
         "name": "lorengau",
         "showlegend": true,
         "type": "scattergeo"
        },
        {
         "customdata": [
          [
           "Hotel restaurant Angora",
           "MG"
          ]
         ],
         "geo": "geo",
         "hovertemplate": "City=ampanihy<br>Humidity=%{marker.size}<br>Lat=%{lat}<br>Lng=%{lon}<br>Hotel Name=%{customdata[0]}<br>Country=%{customdata[1]}<extra></extra>",
         "lat": [
          -24.7
         ],
         "legendgroup": "ampanihy",
         "lon": [
          44.75
         ],
         "marker": {
          "color": "#EF553B",
          "size": [
           75
          ],
          "sizemode": "area",
          "sizeref": 2.0408163265306123,
          "symbol": "circle"
         },
         "mode": "markers",
         "name": "ampanihy",
         "showlegend": true,
         "type": "scattergeo"
        },
        {
         "customdata": [
          [
           "Zum Deutschen Hause - Hotel und Restaurant",
           "DE"
          ]
         ],
         "geo": "geo",
         "hovertemplate": "City=hatten<br>Humidity=%{marker.size}<br>Lat=%{lat}<br>Lng=%{lon}<br>Hotel Name=%{customdata[0]}<br>Country=%{customdata[1]}<extra></extra>",
         "lat": [
          53.0167
         ],
         "legendgroup": "hatten",
         "lon": [
          8.35
         ],
         "marker": {
          "color": "#00cc96",
          "size": [
           88
          ],
          "sizemode": "area",
          "sizeref": 2.0408163265306123,
          "symbol": "circle"
         },
         "mode": "markers",
         "name": "hatten",
         "showlegend": true,
         "type": "scattergeo"
        },
        {
         "customdata": [
          [
           "ホテルウラガ",
           "JP"
          ]
         ],
         "geo": "geo",
         "hovertemplate": "City=shimoda<br>Humidity=%{marker.size}<br>Lat=%{lat}<br>Lng=%{lon}<br>Hotel Name=%{customdata[0]}<br>Country=%{customdata[1]}<extra></extra>",
         "lat": [
          34.6667
         ],
         "legendgroup": "shimoda",
         "lon": [
          138.95
         ],
         "marker": {
          "color": "#ab63fa",
          "size": [
           56
          ],
          "sizemode": "area",
          "sizeref": 2.0408163265306123,
          "symbol": "circle"
         },
         "mode": "markers",
         "name": "shimoda",
         "showlegend": true,
         "type": "scattergeo"
        },
        {
         "customdata": [
          [
           "ИП Пав",
           "RU"
          ]
         ],
         "geo": "geo",
         "hovertemplate": "City=zhigansk<br>Humidity=%{marker.size}<br>Lat=%{lat}<br>Lng=%{lon}<br>Hotel Name=%{customdata[0]}<br>Country=%{customdata[1]}<extra></extra>",
         "lat": [
          66.7697
         ],
         "legendgroup": "zhigansk",
         "lon": [
          123.3711
         ],
         "marker": {
          "color": "#FFA15A",
          "size": [
           97
          ],
          "sizemode": "area",
          "sizeref": 2.0408163265306123,
          "symbol": "circle"
         },
         "mode": "markers",
         "name": "zhigansk",
         "showlegend": true,
         "type": "scattergeo"
        },
        {
         "customdata": [
          [
           "Hotel Ambulu",
           "ID"
          ]
         ],
         "geo": "geo",
         "hovertemplate": "City=ambulu<br>Humidity=%{marker.size}<br>Lat=%{lat}<br>Lng=%{lon}<br>Hotel Name=%{customdata[0]}<br>Country=%{customdata[1]}<extra></extra>",
         "lat": [
          -8.345
         ],
         "legendgroup": "ambulu",
         "lon": [
          113.6058
         ],
         "marker": {
          "color": "#19d3f3",
          "size": [
           67
          ],
          "sizemode": "area",
          "sizeref": 2.0408163265306123,
          "symbol": "circle"
         },
         "mode": "markers",
         "name": "ambulu",
         "showlegend": true,
         "type": "scattergeo"
        },
        {
         "customdata": [
          [
           "No hotel found",
           "ES"
          ]
         ],
         "geo": "geo",
         "hovertemplate": "City=la rioja<br>Humidity=%{marker.size}<br>Lat=%{lat}<br>Lng=%{lon}<br>Hotel Name=%{customdata[0]}<br>Country=%{customdata[1]}<extra></extra>",
         "lat": [
          42.25
         ],
         "legendgroup": "la rioja",
         "lon": [
          -2.5
         ],
         "marker": {
          "color": "#FF6692",
          "size": [
           97
          ],
          "sizemode": "area",
          "sizeref": 2.0408163265306123,
          "symbol": "circle"
         },
         "mode": "markers",
         "name": "la rioja",
         "showlegend": true,
         "type": "scattergeo"
        },
        {
         "customdata": [
          [
           "风花雪月大酒店",
           "CN"
          ]
         ],
         "geo": "geo",
         "hovertemplate": "City=dali<br>Humidity=%{marker.size}<br>Lat=%{lat}<br>Lng=%{lon}<br>Hotel Name=%{customdata[0]}<br>Country=%{customdata[1]}<extra></extra>",
         "lat": [
          25.7
         ],
         "legendgroup": "dali",
         "lon": [
          100.1833
         ],
         "marker": {
          "color": "#B6E880",
          "size": [
           31
          ],
          "sizemode": "area",
          "sizeref": 2.0408163265306123,
          "symbol": "circle"
         },
         "mode": "markers",
         "name": "dali",
         "showlegend": true,
         "type": "scattergeo"
        },
        {
         "customdata": [
          [
           "No hotel found",
           "RU"
          ]
         ],
         "geo": "geo",
         "hovertemplate": "City=beringovskiy<br>Humidity=%{marker.size}<br>Lat=%{lat}<br>Lng=%{lon}<br>Hotel Name=%{customdata[0]}<br>Country=%{customdata[1]}<extra></extra>",
         "lat": [
          63.05
         ],
         "legendgroup": "beringovskiy",
         "lon": [
          179.3167
         ],
         "marker": {
          "color": "#FF97FF",
          "size": [
           97
          ],
          "sizemode": "area",
          "sizeref": 2.0408163265306123,
          "symbol": "circle"
         },
         "mode": "markers",
         "name": "beringovskiy",
         "showlegend": true,
         "type": "scattergeo"
        },
        {
         "customdata": [
          [
           "The Astor",
           "AU"
          ]
         ],
         "geo": "geo",
         "hovertemplate": "City=wagga wagga<br>Humidity=%{marker.size}<br>Lat=%{lat}<br>Lng=%{lon}<br>Hotel Name=%{customdata[0]}<br>Country=%{customdata[1]}<extra></extra>",
         "lat": [
          -35.1167
         ],
         "legendgroup": "wagga wagga",
         "lon": [
          147.3667
         ],
         "marker": {
          "color": "#FECB52",
          "size": [
           40
          ],
          "sizemode": "area",
          "sizeref": 2.0408163265306123,
          "symbol": "circle"
         },
         "mode": "markers",
         "name": "wagga wagga",
         "showlegend": true,
         "type": "scattergeo"
        },
        {
         "customdata": [
          [
           "Hotel Austral",
           "AR"
          ]
         ],
         "geo": "geo",
         "hovertemplate": "City=general roca<br>Humidity=%{marker.size}<br>Lat=%{lat}<br>Lng=%{lon}<br>Hotel Name=%{customdata[0]}<br>Country=%{customdata[1]}<extra></extra>",
         "lat": [
          -39.0333
         ],
         "legendgroup": "general roca",
         "lon": [
          -67.5833
         ],
         "marker": {
          "color": "#636efa",
          "size": [
           27
          ],
          "sizemode": "area",
          "sizeref": 2.0408163265306123,
          "symbol": "circle"
         },
         "mode": "markers",
         "name": "general roca",
         "showlegend": true,
         "type": "scattergeo"
        },
        {
         "customdata": [
          [
           "هتل بهار",
           "IR"
          ]
         ],
         "geo": "geo",
         "hovertemplate": "City=rudsar<br>Humidity=%{marker.size}<br>Lat=%{lat}<br>Lng=%{lon}<br>Hotel Name=%{customdata[0]}<br>Country=%{customdata[1]}<extra></extra>",
         "lat": [
          37.1376
         ],
         "legendgroup": "rudsar",
         "lon": [
          50.288000000000004
         ],
         "marker": {
          "color": "#EF553B",
          "size": [
           72
          ],
          "sizemode": "area",
          "sizeref": 2.0408163265306123,
          "symbol": "circle"
         },
         "mode": "markers",
         "name": "rudsar",
         "showlegend": true,
         "type": "scattergeo"
        },
        {
         "customdata": [
          [
           "Best Western Plus Clocktower Inn",
           "US"
          ]
         ],
         "geo": "geo",
         "hovertemplate": "City=billings<br>Humidity=%{marker.size}<br>Lat=%{lat}<br>Lng=%{lon}<br>Hotel Name=%{customdata[0]}<br>Country=%{customdata[1]}<extra></extra>",
         "lat": [
          45.7833
         ],
         "legendgroup": "billings",
         "lon": [
          -108.5007
         ],
         "marker": {
          "color": "#00cc96",
          "size": [
           63
          ],
          "sizemode": "area",
          "sizeref": 2.0408163265306123,
          "symbol": "circle"
         },
         "mode": "markers",
         "name": "billings",
         "showlegend": true,
         "type": "scattergeo"
        },
        {
         "customdata": [
          [
           "Hotel y Restaurante El Submarino",
           "GT"
          ]
         ],
         "geo": "geo",
         "hovertemplate": "City=champerico<br>Humidity=%{marker.size}<br>Lat=%{lat}<br>Lng=%{lon}<br>Hotel Name=%{customdata[0]}<br>Country=%{customdata[1]}<extra></extra>",
         "lat": [
          14.3
         ],
         "legendgroup": "champerico",
         "lon": [
          -91.9167
         ],
         "marker": {
          "color": "#ab63fa",
          "size": [
           75
          ],
          "sizemode": "area",
          "sizeref": 2.0408163265306123,
          "symbol": "circle"
         },
         "mode": "markers",
         "name": "champerico",
         "showlegend": true,
         "type": "scattergeo"
        },
        {
         "customdata": [
          [
           "Fort Nelson Hotel",
           "CA"
          ]
         ],
         "geo": "geo",
         "hovertemplate": "City=fort nelson<br>Humidity=%{marker.size}<br>Lat=%{lat}<br>Lng=%{lon}<br>Hotel Name=%{customdata[0]}<br>Country=%{customdata[1]}<extra></extra>",
         "lat": [
          58.8053
         ],
         "legendgroup": "fort nelson",
         "lon": [
          -122.7002
         ],
         "marker": {
          "color": "#FFA15A",
          "size": [
           100
          ],
          "sizemode": "area",
          "sizeref": 2.0408163265306123,
          "symbol": "circle"
         },
         "mode": "markers",
         "name": "fort nelson",
         "showlegend": true,
         "type": "scattergeo"
        },
        {
         "customdata": [
          [
           "Monty Brooms Hotel",
           "GY"
          ]
         ],
         "geo": "geo",
         "hovertemplate": "City=mabaruma<br>Humidity=%{marker.size}<br>Lat=%{lat}<br>Lng=%{lon}<br>Hotel Name=%{customdata[0]}<br>Country=%{customdata[1]}<extra></extra>",
         "lat": [
          8.2
         ],
         "legendgroup": "mabaruma",
         "lon": [
          -59.7833
         ],
         "marker": {
          "color": "#19d3f3",
          "size": [
           98
          ],
          "sizemode": "area",
          "sizeref": 2.0408163265306123,
          "symbol": "circle"
         },
         "mode": "markers",
         "name": "mabaruma",
         "showlegend": true,
         "type": "scattergeo"
        },
        {
         "customdata": [
          [
           "Hotel Morotin",
           "BR"
          ]
         ],
         "geo": "geo",
         "hovertemplate": "City=santa maria<br>Humidity=%{marker.size}<br>Lat=%{lat}<br>Lng=%{lon}<br>Hotel Name=%{customdata[0]}<br>Country=%{customdata[1]}<extra></extra>",
         "lat": [
          -29.6842
         ],
         "legendgroup": "santa maria",
         "lon": [
          -53.8069
         ],
         "marker": {
          "color": "#FF6692",
          "size": [
           83
          ],
          "sizemode": "area",
          "sizeref": 2.0408163265306123,
          "symbol": "circle"
         },
         "mode": "markers",
         "name": "santa maria",
         "showlegend": true,
         "type": "scattergeo"
        },
        {
         "customdata": [
          [
           "No hotel found",
           "RU"
          ]
         ],
         "geo": "geo",
         "hovertemplate": "City=zyryanka<br>Humidity=%{marker.size}<br>Lat=%{lat}<br>Lng=%{lon}<br>Hotel Name=%{customdata[0]}<br>Country=%{customdata[1]}<extra></extra>",
         "lat": [
          65.75
         ],
         "legendgroup": "zyryanka",
         "lon": [
          150.85
         ],
         "marker": {
          "color": "#B6E880",
          "size": [
           93
          ],
          "sizemode": "area",
          "sizeref": 2.0408163265306123,
          "symbol": "circle"
         },
         "mode": "markers",
         "name": "zyryanka",
         "showlegend": true,
         "type": "scattergeo"
        },
        {
         "customdata": [
          [
           "No hotel found",
           "RU"
          ]
         ],
         "geo": "geo",
         "hovertemplate": "City=yerbogachen<br>Humidity=%{marker.size}<br>Lat=%{lat}<br>Lng=%{lon}<br>Hotel Name=%{customdata[0]}<br>Country=%{customdata[1]}<extra></extra>",
         "lat": [
          61.2767
         ],
         "legendgroup": "yerbogachen",
         "lon": [
          108.0108
         ],
         "marker": {
          "color": "#FF97FF",
          "size": [
           94
          ],
          "sizemode": "area",
          "sizeref": 2.0408163265306123,
          "symbol": "circle"
         },
         "mode": "markers",
         "name": "yerbogachen",
         "showlegend": true,
         "type": "scattergeo"
        },
        {
         "customdata": [
          [
           "losmen Surya",
           "ID"
          ]
         ],
         "geo": "geo",
         "hovertemplate": "City=padang<br>Humidity=%{marker.size}<br>Lat=%{lat}<br>Lng=%{lon}<br>Hotel Name=%{customdata[0]}<br>Country=%{customdata[1]}<extra></extra>",
         "lat": [
          -0.9492
         ],
         "legendgroup": "padang",
         "lon": [
          100.3543
         ],
         "marker": {
          "color": "#FECB52",
          "size": [
           88
          ],
          "sizemode": "area",
          "sizeref": 2.0408163265306123,
          "symbol": "circle"
         },
         "mode": "markers",
         "name": "padang",
         "showlegend": true,
         "type": "scattergeo"
        },
        {
         "customdata": [
          [
           "Manotel Rurutu",
           "PF"
          ]
         ],
         "geo": "geo",
         "hovertemplate": "City=moerai<br>Humidity=%{marker.size}<br>Lat=%{lat}<br>Lng=%{lon}<br>Hotel Name=%{customdata[0]}<br>Country=%{customdata[1]}<extra></extra>",
         "lat": [
          -22.4333
         ],
         "legendgroup": "moerai",
         "lon": [
          -151.3333
         ],
         "marker": {
          "color": "#636efa",
          "size": [
           77
          ],
          "sizemode": "area",
          "sizeref": 2.0408163265306123,
          "symbol": "circle"
         },
         "mode": "markers",
         "name": "moerai",
         "showlegend": true,
         "type": "scattergeo"
        },
        {
         "customdata": [
          [
           "El Hotelito 27",
           "ES"
          ]
         ],
         "geo": "geo",
         "hovertemplate": "City=santa cruz de la palma<br>Humidity=%{marker.size}<br>Lat=%{lat}<br>Lng=%{lon}<br>Hotel Name=%{customdata[0]}<br>Country=%{customdata[1]}<extra></extra>",
         "lat": [
          28.6835
         ],
         "legendgroup": "santa cruz de la palma",
         "lon": [
          -17.7642
         ],
         "marker": {
          "color": "#EF553B",
          "size": [
           59
          ],
          "sizemode": "area",
          "sizeref": 2.0408163265306123,
          "symbol": "circle"
         },
         "mode": "markers",
         "name": "santa cruz de la palma",
         "showlegend": true,
         "type": "scattergeo"
        },
        {
         "customdata": [
          [
           "Auyuittuq Lodge",
           "CA"
          ]
         ],
         "geo": "geo",
         "hovertemplate": "City=pangnirtung<br>Humidity=%{marker.size}<br>Lat=%{lat}<br>Lng=%{lon}<br>Hotel Name=%{customdata[0]}<br>Country=%{customdata[1]}<extra></extra>",
         "lat": [
          66.1451
         ],
         "legendgroup": "pangnirtung",
         "lon": [
          -65.7125
         ],
         "marker": {
          "color": "#00cc96",
          "size": [
           82
          ],
          "sizemode": "area",
          "sizeref": 2.0408163265306123,
          "symbol": "circle"
         },
         "mode": "markers",
         "name": "pangnirtung",
         "showlegend": true,
         "type": "scattergeo"
        },
        {
         "customdata": [
          [
           "Фортуна",
           "RU"
          ]
         ],
         "geo": "geo",
         "hovertemplate": "City=lavrentiya<br>Humidity=%{marker.size}<br>Lat=%{lat}<br>Lng=%{lon}<br>Hotel Name=%{customdata[0]}<br>Country=%{customdata[1]}<extra></extra>",
         "lat": [
          65.5833
         ],
         "legendgroup": "lavrentiya",
         "lon": [
          -171
         ],
         "marker": {
          "color": "#ab63fa",
          "size": [
           95
          ],
          "sizemode": "area",
          "sizeref": 2.0408163265306123,
          "symbol": "circle"
         },
         "mode": "markers",
         "name": "lavrentiya",
         "showlegend": true,
         "type": "scattergeo"
        },
        {
         "customdata": [
          [
           "Тазовчанка",
           "RU"
          ]
         ],
         "geo": "geo",
         "hovertemplate": "City=tazovskiy<br>Humidity=%{marker.size}<br>Lat=%{lat}<br>Lng=%{lon}<br>Hotel Name=%{customdata[0]}<br>Country=%{customdata[1]}<extra></extra>",
         "lat": [
          67.4667
         ],
         "legendgroup": "tazovskiy",
         "lon": [
          78.7
         ],
         "marker": {
          "color": "#FFA15A",
          "size": [
           99
          ],
          "sizemode": "area",
          "sizeref": 2.0408163265306123,
          "symbol": "circle"
         },
         "mode": "markers",
         "name": "tazovskiy",
         "showlegend": true,
         "type": "scattergeo"
        },
        {
         "customdata": [
          [
           "Hotel Dos Venados",
           "AR"
          ]
         ],
         "geo": "geo",
         "hovertemplate": "City=san luis<br>Humidity=%{marker.size}<br>Lat=%{lat}<br>Lng=%{lon}<br>Hotel Name=%{customdata[0]}<br>Country=%{customdata[1]}<extra></extra>",
         "lat": [
          -33.295
         ],
         "legendgroup": "san luis",
         "lon": [
          -66.3356
         ],
         "marker": {
          "color": "#19d3f3",
          "size": [
           37
          ],
          "sizemode": "area",
          "sizeref": 2.0408163265306123,
          "symbol": "circle"
         },
         "mode": "markers",
         "name": "san luis",
         "showlegend": true,
         "type": "scattergeo"
        },
        {
         "customdata": [
          [
           "No hotel found",
           "RU"
          ]
         ],
         "geo": "geo",
         "hovertemplate": "City=likhoslavl<br>Humidity=%{marker.size}<br>Lat=%{lat}<br>Lng=%{lon}<br>Hotel Name=%{customdata[0]}<br>Country=%{customdata[1]}<extra></extra>",
         "lat": [
          57.1275
         ],
         "legendgroup": "likhoslavl",
         "lon": [
          35.464
         ],
         "marker": {
          "color": "#FF6692",
          "size": [
           97
          ],
          "sizemode": "area",
          "sizeref": 2.0408163265306123,
          "symbol": "circle"
         },
         "mode": "markers",
         "name": "likhoslavl",
         "showlegend": true,
         "type": "scattergeo"
        },
        {
         "customdata": [
          [
           "No hotel found",
           "CA"
          ]
         ],
         "geo": "geo",
         "hovertemplate": "City=chapais<br>Humidity=%{marker.size}<br>Lat=%{lat}<br>Lng=%{lon}<br>Hotel Name=%{customdata[0]}<br>Country=%{customdata[1]}<extra></extra>",
         "lat": [
          49.7834
         ],
         "legendgroup": "chapais",
         "lon": [
          -74.8492
         ],
         "marker": {
          "color": "#B6E880",
          "size": [
           93
          ],
          "sizemode": "area",
          "sizeref": 2.0408163265306123,
          "symbol": "circle"
         },
         "mode": "markers",
         "name": "chapais",
         "showlegend": true,
         "type": "scattergeo"
        },
        {
         "customdata": [
          [
           "No hotel found",
           "LY"
          ]
         ],
         "geo": "geo",
         "hovertemplate": "City=waddan<br>Humidity=%{marker.size}<br>Lat=%{lat}<br>Lng=%{lon}<br>Hotel Name=%{customdata[0]}<br>Country=%{customdata[1]}<extra></extra>",
         "lat": [
          29.1614
         ],
         "legendgroup": "waddan",
         "lon": [
          16.139
         ],
         "marker": {
          "color": "#FF97FF",
          "size": [
           32
          ],
          "sizemode": "area",
          "sizeref": 2.0408163265306123,
          "symbol": "circle"
         },
         "mode": "markers",
         "name": "waddan",
         "showlegend": true,
         "type": "scattergeo"
        },
        {
         "customdata": [
          [
           "Cabañas",
           "CL"
          ]
         ],
         "geo": "geo",
         "hovertemplate": "City=ancud<br>Humidity=%{marker.size}<br>Lat=%{lat}<br>Lng=%{lon}<br>Hotel Name=%{customdata[0]}<br>Country=%{customdata[1]}<extra></extra>",
         "lat": [
          -41.8697
         ],
         "legendgroup": "ancud",
         "lon": [
          -73.8203
         ],
         "marker": {
          "color": "#FECB52",
          "size": [
           83
          ],
          "sizemode": "area",
          "sizeref": 2.0408163265306123,
          "symbol": "circle"
         },
         "mode": "markers",
         "name": "ancud",
         "showlegend": true,
         "type": "scattergeo"
        },
        {
         "customdata": [
          [
           "No hotel found",
           "RU"
          ]
         ],
         "geo": "geo",
         "hovertemplate": "City=tungor<br>Humidity=%{marker.size}<br>Lat=%{lat}<br>Lng=%{lon}<br>Hotel Name=%{customdata[0]}<br>Country=%{customdata[1]}<extra></extra>",
         "lat": [
          53.3808
         ],
         "legendgroup": "tungor",
         "lon": [
          142.9564
         ],
         "marker": {
          "color": "#636efa",
          "size": [
           93
          ],
          "sizemode": "area",
          "sizeref": 2.0408163265306123,
          "symbol": "circle"
         },
         "mode": "markers",
         "name": "tungor",
         "showlegend": true,
         "type": "scattergeo"
        },
        {
         "customdata": [
          [
           "Yamouri Inn",
           "CA"
          ]
         ],
         "geo": "geo",
         "hovertemplate": "City=norman wells<br>Humidity=%{marker.size}<br>Lat=%{lat}<br>Lng=%{lon}<br>Hotel Name=%{customdata[0]}<br>Country=%{customdata[1]}<extra></extra>",
         "lat": [
          65.282
         ],
         "legendgroup": "norman wells",
         "lon": [
          -126.8329
         ],
         "marker": {
          "color": "#EF553B",
          "size": [
           76
          ],
          "sizemode": "area",
          "sizeref": 2.0408163265306123,
          "symbol": "circle"
         },
         "mode": "markers",
         "name": "norman wells",
         "showlegend": true,
         "type": "scattergeo"
        },
        {
         "customdata": [
          [
           "No hotel found",
           "RU"
          ]
         ],
         "geo": "geo",
         "hovertemplate": "City=kanashevo<br>Humidity=%{marker.size}<br>Lat=%{lat}<br>Lng=%{lon}<br>Hotel Name=%{customdata[0]}<br>Country=%{customdata[1]}<extra></extra>",
         "lat": [
          55.2169
         ],
         "legendgroup": "kanashevo",
         "lon": [
          62.0634
         ],
         "marker": {
          "color": "#00cc96",
          "size": [
           93
          ],
          "sizemode": "area",
          "sizeref": 2.0408163265306123,
          "symbol": "circle"
         },
         "mode": "markers",
         "name": "kanashevo",
         "showlegend": true,
         "type": "scattergeo"
        },
        {
         "customdata": [
          [
           "Cashmere's Village Inn",
           "US"
          ]
         ],
         "geo": "geo",
         "hovertemplate": "City=washington<br>Humidity=%{marker.size}<br>Lat=%{lat}<br>Lng=%{lon}<br>Hotel Name=%{customdata[0]}<br>Country=%{customdata[1]}<extra></extra>",
         "lat": [
          47.5001
         ],
         "legendgroup": "washington",
         "lon": [
          -120.5015
         ],
         "marker": {
          "color": "#ab63fa",
          "size": [
           82
          ],
          "sizemode": "area",
          "sizeref": 2.0408163265306123,
          "symbol": "circle"
         },
         "mode": "markers",
         "name": "washington",
         "showlegend": true,
         "type": "scattergeo"
        },
        {
         "customdata": [
          [
           "Hotel Sobalvarro",
           "NI"
          ]
         ],
         "geo": "geo",
         "hovertemplate": "City=boaco<br>Humidity=%{marker.size}<br>Lat=%{lat}<br>Lng=%{lon}<br>Hotel Name=%{customdata[0]}<br>Country=%{customdata[1]}<extra></extra>",
         "lat": [
          12.4722
         ],
         "legendgroup": "boaco",
         "lon": [
          -85.6586
         ],
         "marker": {
          "color": "#FFA15A",
          "size": [
           93
          ],
          "sizemode": "area",
          "sizeref": 2.0408163265306123,
          "symbol": "circle"
         },
         "mode": "markers",
         "name": "boaco",
         "showlegend": true,
         "type": "scattergeo"
        },
        {
         "customdata": [
          [
           "No hotel found",
           "PF"
          ]
         ],
         "geo": "geo",
         "hovertemplate": "City=tautira<br>Humidity=%{marker.size}<br>Lat=%{lat}<br>Lng=%{lon}<br>Hotel Name=%{customdata[0]}<br>Country=%{customdata[1]}<extra></extra>",
         "lat": [
          -17.7333
         ],
         "legendgroup": "tautira",
         "lon": [
          -149.15
         ],
         "marker": {
          "color": "#19d3f3",
          "size": [
           82
          ],
          "sizemode": "area",
          "sizeref": 2.0408163265306123,
          "symbol": "circle"
         },
         "mode": "markers",
         "name": "tautira",
         "showlegend": true,
         "type": "scattergeo"
        },
        {
         "customdata": [
          [
           "No hotel found",
           "RU"
          ]
         ],
         "geo": "geo",
         "hovertemplate": "City=kysyl-syr<br>Humidity=%{marker.size}<br>Lat=%{lat}<br>Lng=%{lon}<br>Hotel Name=%{customdata[0]}<br>Country=%{customdata[1]}<extra></extra>",
         "lat": [
          63.8986
         ],
         "legendgroup": "kysyl-syr",
         "lon": [
          122.7617
         ],
         "marker": {
          "color": "#FF6692",
          "size": [
           97
          ],
          "sizemode": "area",
          "sizeref": 2.0408163265306123,
          "symbol": "circle"
         },
         "mode": "markers",
         "name": "kysyl-syr",
         "showlegend": true,
         "type": "scattergeo"
        },
        {
         "customdata": [
          [
           "The Oberoi Madina",
           "SA"
          ]
         ],
         "geo": "geo",
         "hovertemplate": "City=medina<br>Humidity=%{marker.size}<br>Lat=%{lat}<br>Lng=%{lon}<br>Hotel Name=%{customdata[0]}<br>Country=%{customdata[1]}<extra></extra>",
         "lat": [
          24.4686
         ],
         "legendgroup": "medina",
         "lon": [
          39.6142
         ],
         "marker": {
          "color": "#B6E880",
          "size": [
           45
          ],
          "sizemode": "area",
          "sizeref": 2.0408163265306123,
          "symbol": "circle"
         },
         "mode": "markers",
         "name": "medina",
         "showlegend": true,
         "type": "scattergeo"
        },
        {
         "customdata": [
          [
           "Residencial Botânico",
           "PT"
          ]
         ],
         "geo": "geo",
         "hovertemplate": "City=lata<br>Humidity=%{marker.size}<br>Lat=%{lat}<br>Lng=%{lon}<br>Hotel Name=%{customdata[0]}<br>Country=%{customdata[1]}<extra></extra>",
         "lat": [
          40.1629
         ],
         "legendgroup": "lata",
         "lon": [
          -8.3327
         ],
         "marker": {
          "color": "#FF97FF",
          "size": [
           72
          ],
          "sizemode": "area",
          "sizeref": 2.0408163265306123,
          "symbol": "circle"
         },
         "mode": "markers",
         "name": "lata",
         "showlegend": true,
         "type": "scattergeo"
        },
        {
         "customdata": [
          [
           "No hotel found",
           "NZ"
          ]
         ],
         "geo": "geo",
         "hovertemplate": "City=kaeo<br>Humidity=%{marker.size}<br>Lat=%{lat}<br>Lng=%{lon}<br>Hotel Name=%{customdata[0]}<br>Country=%{customdata[1]}<extra></extra>",
         "lat": [
          -35.1
         ],
         "legendgroup": "kaeo",
         "lon": [
          173.7833
         ],
         "marker": {
          "color": "#FECB52",
          "size": [
           70
          ],
          "sizemode": "area",
          "sizeref": 2.0408163265306123,
          "symbol": "circle"
         },
         "mode": "markers",
         "name": "kaeo",
         "showlegend": true,
         "type": "scattergeo"
        },
        {
         "customdata": [
          [
           "Hostería Taltal",
           "CL"
          ]
         ],
         "geo": "geo",
         "hovertemplate": "City=taltal<br>Humidity=%{marker.size}<br>Lat=%{lat}<br>Lng=%{lon}<br>Hotel Name=%{customdata[0]}<br>Country=%{customdata[1]}<extra></extra>",
         "lat": [
          -25.4
         ],
         "legendgroup": "taltal",
         "lon": [
          -70.4833
         ],
         "marker": {
          "color": "#636efa",
          "size": [
           84
          ],
          "sizemode": "area",
          "sizeref": 2.0408163265306123,
          "symbol": "circle"
         },
         "mode": "markers",
         "name": "taltal",
         "showlegend": true,
         "type": "scattergeo"
        },
        {
         "customdata": [
          [
           "University Guest House",
           "EG"
          ]
         ],
         "geo": "geo",
         "hovertemplate": "City=abnub<br>Humidity=%{marker.size}<br>Lat=%{lat}<br>Lng=%{lon}<br>Hotel Name=%{customdata[0]}<br>Country=%{customdata[1]}<extra></extra>",
         "lat": [
          27.2696
         ],
         "legendgroup": "abnub",
         "lon": [
          31.1511
         ],
         "marker": {
          "color": "#EF553B",
          "size": [
           78
          ],
          "sizemode": "area",
          "sizeref": 2.0408163265306123,
          "symbol": "circle"
         },
         "mode": "markers",
         "name": "abnub",
         "showlegend": true,
         "type": "scattergeo"
        },
        {
         "customdata": [
          [
           "The Advenire, an Autograph Collection Hotel",
           "US"
          ]
         ],
         "geo": "geo",
         "hovertemplate": "City=saint george<br>Humidity=%{marker.size}<br>Lat=%{lat}<br>Lng=%{lon}<br>Hotel Name=%{customdata[0]}<br>Country=%{customdata[1]}<extra></extra>",
         "lat": [
          37.1041
         ],
         "legendgroup": "saint george",
         "lon": [
          -113.5841
         ],
         "marker": {
          "color": "#00cc96",
          "size": [
           49
          ],
          "sizemode": "area",
          "sizeref": 2.0408163265306123,
          "symbol": "circle"
         },
         "mode": "markers",
         "name": "saint george",
         "showlegend": true,
         "type": "scattergeo"
        },
        {
         "customdata": [
          [
           "The Whiting",
           "US"
          ]
         ],
         "geo": "geo",
         "hovertemplate": "City=traverse city<br>Humidity=%{marker.size}<br>Lat=%{lat}<br>Lng=%{lon}<br>Hotel Name=%{customdata[0]}<br>Country=%{customdata[1]}<extra></extra>",
         "lat": [
          44.7631
         ],
         "legendgroup": "traverse city",
         "lon": [
          -85.6206
         ],
         "marker": {
          "color": "#ab63fa",
          "size": [
           92
          ],
          "sizemode": "area",
          "sizeref": 2.0408163265306123,
          "symbol": "circle"
         },
         "mode": "markers",
         "name": "traverse city",
         "showlegend": true,
         "type": "scattergeo"
        },
        {
         "customdata": [
          [
           "New Ridge Inn",
           "CA"
          ]
         ],
         "geo": "geo",
         "hovertemplate": "City=peace river<br>Humidity=%{marker.size}<br>Lat=%{lat}<br>Lng=%{lon}<br>Hotel Name=%{customdata[0]}<br>Country=%{customdata[1]}<extra></extra>",
         "lat": [
          56.2501
         ],
         "legendgroup": "peace river",
         "lon": [
          -117.286
         ],
         "marker": {
          "color": "#FFA15A",
          "size": [
           86
          ],
          "sizemode": "area",
          "sizeref": 2.0408163265306123,
          "symbol": "circle"
         },
         "mode": "markers",
         "name": "peace river",
         "showlegend": true,
         "type": "scattergeo"
        },
        {
         "customdata": [
          [
           "Hibbing Park Hotel",
           "US"
          ]
         ],
         "geo": "geo",
         "hovertemplate": "City=hibbing<br>Humidity=%{marker.size}<br>Lat=%{lat}<br>Lng=%{lon}<br>Hotel Name=%{customdata[0]}<br>Country=%{customdata[1]}<extra></extra>",
         "lat": [
          47.4272
         ],
         "legendgroup": "hibbing",
         "lon": [
          -92.9377
         ],
         "marker": {
          "color": "#19d3f3",
          "size": [
           86
          ],
          "sizemode": "area",
          "sizeref": 2.0408163265306123,
          "symbol": "circle"
         },
         "mode": "markers",
         "name": "hibbing",
         "showlegend": true,
         "type": "scattergeo"
        },
        {
         "customdata": [
          [
           "The Freeport Inn and Marina",
           "US"
          ]
         ],
         "geo": "geo",
         "hovertemplate": "City=freeport<br>Humidity=%{marker.size}<br>Lat=%{lat}<br>Lng=%{lon}<br>Hotel Name=%{customdata[0]}<br>Country=%{customdata[1]}<extra></extra>",
         "lat": [
          40.6576
         ],
         "legendgroup": "freeport",
         "lon": [
          -73.5832
         ],
         "marker": {
          "color": "#FF6692",
          "size": [
           71
          ],
          "sizemode": "area",
          "sizeref": 2.0408163265306123,
          "symbol": "circle"
         },
         "mode": "markers",
         "name": "freeport",
         "showlegend": true,
         "type": "scattergeo"
        },
        {
         "customdata": [
          [
           "Mehamn Arctic hotell",
           "NO"
          ]
         ],
         "geo": "geo",
         "hovertemplate": "City=mehamn<br>Humidity=%{marker.size}<br>Lat=%{lat}<br>Lng=%{lon}<br>Hotel Name=%{customdata[0]}<br>Country=%{customdata[1]}<extra></extra>",
         "lat": [
          71.0357
         ],
         "legendgroup": "mehamn",
         "lon": [
          27.8492
         ],
         "marker": {
          "color": "#B6E880",
          "size": [
           93
          ],
          "sizemode": "area",
          "sizeref": 2.0408163265306123,
          "symbol": "circle"
         },
         "mode": "markers",
         "name": "mehamn",
         "showlegend": true,
         "type": "scattergeo"
        },
        {
         "customdata": [
          [
           "No hotel found",
           "RU"
          ]
         ],
         "geo": "geo",
         "hovertemplate": "City=seymchan<br>Humidity=%{marker.size}<br>Lat=%{lat}<br>Lng=%{lon}<br>Hotel Name=%{customdata[0]}<br>Country=%{customdata[1]}<extra></extra>",
         "lat": [
          62.8833
         ],
         "legendgroup": "seymchan",
         "lon": [
          152.4333
         ],
         "marker": {
          "color": "#FF97FF",
          "size": [
           92
          ],
          "sizemode": "area",
          "sizeref": 2.0408163265306123,
          "symbol": "circle"
         },
         "mode": "markers",
         "name": "seymchan",
         "showlegend": true,
         "type": "scattergeo"
        },
        {
         "customdata": [
          [
           "Нур",
           "KZ"
          ]
         ],
         "geo": "geo",
         "hovertemplate": "City=ayagoz<br>Humidity=%{marker.size}<br>Lat=%{lat}<br>Lng=%{lon}<br>Hotel Name=%{customdata[0]}<br>Country=%{customdata[1]}<extra></extra>",
         "lat": [
          47.9714
         ],
         "legendgroup": "ayagoz",
         "lon": [
          80.4392
         ],
         "marker": {
          "color": "#FECB52",
          "size": [
           90
          ],
          "sizemode": "area",
          "sizeref": 2.0408163265306123,
          "symbol": "circle"
         },
         "mode": "markers",
         "name": "ayagoz",
         "showlegend": true,
         "type": "scattergeo"
        },
        {
         "customdata": [
          [
           "Scenic Hotel Dunedin City",
           "NZ"
          ]
         ],
         "geo": "geo",
         "hovertemplate": "City=dunedin<br>Humidity=%{marker.size}<br>Lat=%{lat}<br>Lng=%{lon}<br>Hotel Name=%{customdata[0]}<br>Country=%{customdata[1]}<extra></extra>",
         "lat": [
          -45.8742
         ],
         "legendgroup": "dunedin",
         "lon": [
          170.5036
         ],
         "marker": {
          "color": "#636efa",
          "size": [
           59
          ],
          "sizemode": "area",
          "sizeref": 2.0408163265306123,
          "symbol": "circle"
         },
         "mode": "markers",
         "name": "dunedin",
         "showlegend": true,
         "type": "scattergeo"
        },
        {
         "customdata": [
          [
           "Гостевой дом",
           "RU"
          ]
         ],
         "geo": "geo",
         "hovertemplate": "City=anadyr<br>Humidity=%{marker.size}<br>Lat=%{lat}<br>Lng=%{lon}<br>Hotel Name=%{customdata[0]}<br>Country=%{customdata[1]}<extra></extra>",
         "lat": [
          64.75
         ],
         "legendgroup": "anadyr",
         "lon": [
          177.4833
         ],
         "marker": {
          "color": "#EF553B",
          "size": [
           59
          ],
          "sizemode": "area",
          "sizeref": 2.0408163265306123,
          "symbol": "circle"
         },
         "mode": "markers",
         "name": "anadyr",
         "showlegend": true,
         "type": "scattergeo"
        },
        {
         "customdata": [
          [
           "No hotel found",
           "SB"
          ]
         ],
         "geo": "geo",
         "hovertemplate": "City=kirakira<br>Humidity=%{marker.size}<br>Lat=%{lat}<br>Lng=%{lon}<br>Hotel Name=%{customdata[0]}<br>Country=%{customdata[1]}<extra></extra>",
         "lat": [
          -10.4544
         ],
         "legendgroup": "kirakira",
         "lon": [
          161.9205
         ],
         "marker": {
          "color": "#00cc96",
          "size": [
           94
          ],
          "sizemode": "area",
          "sizeref": 2.0408163265306123,
          "symbol": "circle"
         },
         "mode": "markers",
         "name": "kirakira",
         "showlegend": true,
         "type": "scattergeo"
        },
        {
         "customdata": [
          [
           "No hotel found",
           "ID"
          ]
         ],
         "geo": "geo",
         "hovertemplate": "City=pringsewu<br>Humidity=%{marker.size}<br>Lat=%{lat}<br>Lng=%{lon}<br>Hotel Name=%{customdata[0]}<br>Country=%{customdata[1]}<extra></extra>",
         "lat": [
          -5.3582
         ],
         "legendgroup": "pringsewu",
         "lon": [
          104.9744
         ],
         "marker": {
          "color": "#ab63fa",
          "size": [
           68
          ],
          "sizemode": "area",
          "sizeref": 2.0408163265306123,
          "symbol": "circle"
         },
         "mode": "markers",
         "name": "pringsewu",
         "showlegend": true,
         "type": "scattergeo"
        },
        {
         "customdata": [
          [
           "No hotel found",
           "RU"
          ]
         ],
         "geo": "geo",
         "hovertemplate": "City=ostrovnoy<br>Humidity=%{marker.size}<br>Lat=%{lat}<br>Lng=%{lon}<br>Hotel Name=%{customdata[0]}<br>Country=%{customdata[1]}<extra></extra>",
         "lat": [
          68.0531
         ],
         "legendgroup": "ostrovnoy",
         "lon": [
          39.5131
         ],
         "marker": {
          "color": "#FFA15A",
          "size": [
           91
          ],
          "sizemode": "area",
          "sizeref": 2.0408163265306123,
          "symbol": "circle"
         },
         "mode": "markers",
         "name": "ostrovnoy",
         "showlegend": true,
         "type": "scattergeo"
        },
        {
         "customdata": [
          [
           "Hotel Qaqortoq",
           "GL"
          ]
         ],
         "geo": "geo",
         "hovertemplate": "City=qaqortoq<br>Humidity=%{marker.size}<br>Lat=%{lat}<br>Lng=%{lon}<br>Hotel Name=%{customdata[0]}<br>Country=%{customdata[1]}<extra></extra>",
         "lat": [
          60.7167
         ],
         "legendgroup": "qaqortoq",
         "lon": [
          -46.0333
         ],
         "marker": {
          "color": "#19d3f3",
          "size": [
           96
          ],
          "sizemode": "area",
          "sizeref": 2.0408163265306123,
          "symbol": "circle"
         },
         "mode": "markers",
         "name": "qaqortoq",
         "showlegend": true,
         "type": "scattergeo"
        },
        {
         "customdata": [
          [
           "No hotel found",
           "MM"
          ]
         ],
         "geo": "geo",
         "hovertemplate": "City=myanaung<br>Humidity=%{marker.size}<br>Lat=%{lat}<br>Lng=%{lon}<br>Hotel Name=%{customdata[0]}<br>Country=%{customdata[1]}<extra></extra>",
         "lat": [
          18.2833
         ],
         "legendgroup": "myanaung",
         "lon": [
          95.3167
         ],
         "marker": {
          "color": "#FF6692",
          "size": [
           23
          ],
          "sizemode": "area",
          "sizeref": 2.0408163265306123,
          "symbol": "circle"
         },
         "mode": "markers",
         "name": "myanaung",
         "showlegend": true,
         "type": "scattergeo"
        },
        {
         "customdata": [
          [
           "No hotel found",
           "AM"
          ]
         ],
         "geo": "geo",
         "hovertemplate": "City=saravan<br>Humidity=%{marker.size}<br>Lat=%{lat}<br>Lng=%{lon}<br>Hotel Name=%{customdata[0]}<br>Country=%{customdata[1]}<extra></extra>",
         "lat": [
          39.7196
         ],
         "legendgroup": "saravan",
         "lon": [
          45.6483
         ],
         "marker": {
          "color": "#B6E880",
          "size": [
           44
          ],
          "sizemode": "area",
          "sizeref": 2.0408163265306123,
          "symbol": "circle"
         },
         "mode": "markers",
         "name": "saravan",
         "showlegend": true,
         "type": "scattergeo"
        },
        {
         "customdata": [
          [
           "Oceans Tutukaka",
           "NZ"
          ]
         ],
         "geo": "geo",
         "hovertemplate": "City=ngunguru<br>Humidity=%{marker.size}<br>Lat=%{lat}<br>Lng=%{lon}<br>Hotel Name=%{customdata[0]}<br>Country=%{customdata[1]}<extra></extra>",
         "lat": [
          -35.6167
         ],
         "legendgroup": "ngunguru",
         "lon": [
          174.5
         ],
         "marker": {
          "color": "#FF97FF",
          "size": [
           81
          ],
          "sizemode": "area",
          "sizeref": 2.0408163265306123,
          "symbol": "circle"
         },
         "mode": "markers",
         "name": "ngunguru",
         "showlegend": true,
         "type": "scattergeo"
        },
        {
         "customdata": [
          [
           "hôtel le rochet",
           "CI"
          ]
         ],
         "geo": "geo",
         "hovertemplate": "City=tabou<br>Humidity=%{marker.size}<br>Lat=%{lat}<br>Lng=%{lon}<br>Hotel Name=%{customdata[0]}<br>Country=%{customdata[1]}<extra></extra>",
         "lat": [
          4.423
         ],
         "legendgroup": "tabou",
         "lon": [
          -7.3528
         ],
         "marker": {
          "color": "#FECB52",
          "size": [
           86
          ],
          "sizemode": "area",
          "sizeref": 2.0408163265306123,
          "symbol": "circle"
         },
         "mode": "markers",
         "name": "tabou",
         "showlegend": true,
         "type": "scattergeo"
        },
        {
         "customdata": [
          [
           "Half Moon Bay Inn",
           "US"
          ]
         ],
         "geo": "geo",
         "hovertemplate": "City=half moon bay<br>Humidity=%{marker.size}<br>Lat=%{lat}<br>Lng=%{lon}<br>Hotel Name=%{customdata[0]}<br>Country=%{customdata[1]}<extra></extra>",
         "lat": [
          37.4636
         ],
         "legendgroup": "half moon bay",
         "lon": [
          -122.4286
         ],
         "marker": {
          "color": "#636efa",
          "size": [
           52
          ],
          "sizemode": "area",
          "sizeref": 2.0408163265306123,
          "symbol": "circle"
         },
         "mode": "markers",
         "name": "half moon bay",
         "showlegend": true,
         "type": "scattergeo"
        },
        {
         "customdata": [
          [
           "No hotel found",
           "CA"
          ]
         ],
         "geo": "geo",
         "hovertemplate": "City=betsiamites<br>Humidity=%{marker.size}<br>Lat=%{lat}<br>Lng=%{lon}<br>Hotel Name=%{customdata[0]}<br>Country=%{customdata[1]}<extra></extra>",
         "lat": [
          48.9413
         ],
         "legendgroup": "betsiamites",
         "lon": [
          -68.646
         ],
         "marker": {
          "color": "#EF553B",
          "size": [
           94
          ],
          "sizemode": "area",
          "sizeref": 2.0408163265306123,
          "symbol": "circle"
         },
         "mode": "markers",
         "name": "betsiamites",
         "showlegend": true,
         "type": "scattergeo"
        },
        {
         "customdata": [
          [
           "Hotel Grand Senyiur",
           "ID"
          ]
         ],
         "geo": "geo",
         "hovertemplate": "City=balikpapan<br>Humidity=%{marker.size}<br>Lat=%{lat}<br>Lng=%{lon}<br>Hotel Name=%{customdata[0]}<br>Country=%{customdata[1]}<extra></extra>",
         "lat": [
          -1.2675
         ],
         "legendgroup": "balikpapan",
         "lon": [
          116.8289
         ],
         "marker": {
          "color": "#00cc96",
          "size": [
           74
          ],
          "sizemode": "area",
          "sizeref": 2.0408163265306123,
          "symbol": "circle"
         },
         "mode": "markers",
         "name": "balikpapan",
         "showlegend": true,
         "type": "scattergeo"
        },
        {
         "customdata": [
          [
           "Hotel Muñíz",
           "VE"
          ]
         ],
         "geo": "geo",
         "hovertemplate": "City=anaco<br>Humidity=%{marker.size}<br>Lat=%{lat}<br>Lng=%{lon}<br>Hotel Name=%{customdata[0]}<br>Country=%{customdata[1]}<extra></extra>",
         "lat": [
          9.4389
         ],
         "legendgroup": "anaco",
         "lon": [
          -64.4728
         ],
         "marker": {
          "color": "#ab63fa",
          "size": [
           73
          ],
          "sizemode": "area",
          "sizeref": 2.0408163265306123,
          "symbol": "circle"
         },
         "mode": "markers",
         "name": "anaco",
         "showlegend": true,
         "type": "scattergeo"
        },
        {
         "customdata": [
          [
           "Полюс холода",
           "RU"
          ]
         ],
         "geo": "geo",
         "hovertemplate": "City=verkhoyansk<br>Humidity=%{marker.size}<br>Lat=%{lat}<br>Lng=%{lon}<br>Hotel Name=%{customdata[0]}<br>Country=%{customdata[1]}<extra></extra>",
         "lat": [
          67.5447
         ],
         "legendgroup": "verkhoyansk",
         "lon": [
          133.385
         ],
         "marker": {
          "color": "#FFA15A",
          "size": [
           95
          ],
          "sizemode": "area",
          "sizeref": 2.0408163265306123,
          "symbol": "circle"
         },
         "mode": "markers",
         "name": "verkhoyansk",
         "showlegend": true,
         "type": "scattergeo"
        },
        {
         "customdata": [
          [
           "Sur Hotel",
           "OM"
          ]
         ],
         "geo": "geo",
         "hovertemplate": "City=sur<br>Humidity=%{marker.size}<br>Lat=%{lat}<br>Lng=%{lon}<br>Hotel Name=%{customdata[0]}<br>Country=%{customdata[1]}<extra></extra>",
         "lat": [
          22.5667
         ],
         "legendgroup": "sur",
         "lon": [
          59.5289
         ],
         "marker": {
          "color": "#19d3f3",
          "size": [
           43
          ],
          "sizemode": "area",
          "sizeref": 2.0408163265306123,
          "symbol": "circle"
         },
         "mode": "markers",
         "name": "sur",
         "showlegend": true,
         "type": "scattergeo"
        },
        {
         "customdata": [
          [
           "No hotel found",
           "RU"
          ]
         ],
         "geo": "geo",
         "hovertemplate": "City=ust-omchug<br>Humidity=%{marker.size}<br>Lat=%{lat}<br>Lng=%{lon}<br>Hotel Name=%{customdata[0]}<br>Country=%{customdata[1]}<extra></extra>",
         "lat": [
          61.15
         ],
         "legendgroup": "ust-omchug",
         "lon": [
          149.6333
         ],
         "marker": {
          "color": "#FF6692",
          "size": [
           93
          ],
          "sizemode": "area",
          "sizeref": 2.0408163265306123,
          "symbol": "circle"
         },
         "mode": "markers",
         "name": "ust-omchug",
         "showlegend": true,
         "type": "scattergeo"
        },
        {
         "customdata": [
          [
           "No hotel found",
           "SO"
          ]
         ],
         "geo": "geo",
         "hovertemplate": "City=qandala<br>Humidity=%{marker.size}<br>Lat=%{lat}<br>Lng=%{lon}<br>Hotel Name=%{customdata[0]}<br>Country=%{customdata[1]}<extra></extra>",
         "lat": [
          11.472000000000001
         ],
         "legendgroup": "qandala",
         "lon": [
          49.8728
         ],
         "marker": {
          "color": "#B6E880",
          "size": [
           71
          ],
          "sizemode": "area",
          "sizeref": 2.0408163265306123,
          "symbol": "circle"
         },
         "mode": "markers",
         "name": "qandala",
         "showlegend": true,
         "type": "scattergeo"
        },
        {
         "customdata": [
          [
           "Qinghai hotel",
           "CN"
          ]
         ],
         "geo": "geo",
         "hovertemplate": "City=xining<br>Humidity=%{marker.size}<br>Lat=%{lat}<br>Lng=%{lon}<br>Hotel Name=%{customdata[0]}<br>Country=%{customdata[1]}<extra></extra>",
         "lat": [
          36.6167
         ],
         "legendgroup": "xining",
         "lon": [
          101.7667
         ],
         "marker": {
          "color": "#FF97FF",
          "size": [
           16
          ],
          "sizemode": "area",
          "sizeref": 2.0408163265306123,
          "symbol": "circle"
         },
         "mode": "markers",
         "name": "xining",
         "showlegend": true,
         "type": "scattergeo"
        },
        {
         "customdata": [
          [
           "Westenra Arms Hotel",
           "IE"
          ]
         ],
         "geo": "geo",
         "hovertemplate": "City=monaghan<br>Humidity=%{marker.size}<br>Lat=%{lat}<br>Lng=%{lon}<br>Hotel Name=%{customdata[0]}<br>Country=%{customdata[1]}<extra></extra>",
         "lat": [
          54.25
         ],
         "legendgroup": "monaghan",
         "lon": [
          -6.9667
         ],
         "marker": {
          "color": "#FECB52",
          "size": [
           95
          ],
          "sizemode": "area",
          "sizeref": 2.0408163265306123,
          "symbol": "circle"
         },
         "mode": "markers",
         "name": "monaghan",
         "showlegend": true,
         "type": "scattergeo"
        },
        {
         "customdata": [
          [
           "Талнах",
           "RU"
          ]
         ],
         "geo": "geo",
         "hovertemplate": "City=talnakh<br>Humidity=%{marker.size}<br>Lat=%{lat}<br>Lng=%{lon}<br>Hotel Name=%{customdata[0]}<br>Country=%{customdata[1]}<extra></extra>",
         "lat": [
          69.4865
         ],
         "legendgroup": "talnakh",
         "lon": [
          88.3972
         ],
         "marker": {
          "color": "#636efa",
          "size": [
           94
          ],
          "sizemode": "area",
          "sizeref": 2.0408163265306123,
          "symbol": "circle"
         },
         "mode": "markers",
         "name": "talnakh",
         "showlegend": true,
         "type": "scattergeo"
        },
        {
         "customdata": [
          [
           "Hôtel National",
           "MG"
          ]
         ],
         "geo": "geo",
         "hovertemplate": "City=ambilobe<br>Humidity=%{marker.size}<br>Lat=%{lat}<br>Lng=%{lon}<br>Hotel Name=%{customdata[0]}<br>Country=%{customdata[1]}<extra></extra>",
         "lat": [
          -13.2
         ],
         "legendgroup": "ambilobe",
         "lon": [
          49.05
         ],
         "marker": {
          "color": "#EF553B",
          "size": [
           92
          ],
          "sizemode": "area",
          "sizeref": 2.0408163265306123,
          "symbol": "circle"
         },
         "mode": "markers",
         "name": "ambilobe",
         "showlegend": true,
         "type": "scattergeo"
        },
        {
         "customdata": [
          [
           "Matavai Resort",
           "NU"
          ]
         ],
         "geo": "geo",
         "hovertemplate": "City=alofi<br>Humidity=%{marker.size}<br>Lat=%{lat}<br>Lng=%{lon}<br>Hotel Name=%{customdata[0]}<br>Country=%{customdata[1]}<extra></extra>",
         "lat": [
          -19.0595
         ],
         "legendgroup": "alofi",
         "lon": [
          -169.9187
         ],
         "marker": {
          "color": "#00cc96",
          "size": [
           83
          ],
          "sizemode": "area",
          "sizeref": 2.0408163265306123,
          "symbol": "circle"
         },
         "mode": "markers",
         "name": "alofi",
         "showlegend": true,
         "type": "scattergeo"
        },
        {
         "customdata": [
          [
           "Yaseen hotel",
           "EG"
          ]
         ],
         "geo": "geo",
         "hovertemplate": "City=aswan<br>Humidity=%{marker.size}<br>Lat=%{lat}<br>Lng=%{lon}<br>Hotel Name=%{customdata[0]}<br>Country=%{customdata[1]}<extra></extra>",
         "lat": [
          24.0934
         ],
         "legendgroup": "aswan",
         "lon": [
          32.907
         ],
         "marker": {
          "color": "#ab63fa",
          "size": [
           30
          ],
          "sizemode": "area",
          "sizeref": 2.0408163265306123,
          "symbol": "circle"
         },
         "mode": "markers",
         "name": "aswan",
         "showlegend": true,
         "type": "scattergeo"
        },
        {
         "customdata": [
          [
           "Karratha International Hotel",
           "AU"
          ]
         ],
         "geo": "geo",
         "hovertemplate": "City=karratha<br>Humidity=%{marker.size}<br>Lat=%{lat}<br>Lng=%{lon}<br>Hotel Name=%{customdata[0]}<br>Country=%{customdata[1]}<extra></extra>",
         "lat": [
          -20.7377
         ],
         "legendgroup": "karratha",
         "lon": [
          116.8463
         ],
         "marker": {
          "color": "#FFA15A",
          "size": [
           51
          ],
          "sizemode": "area",
          "sizeref": 2.0408163265306123,
          "symbol": "circle"
         },
         "mode": "markers",
         "name": "karratha",
         "showlegend": true,
         "type": "scattergeo"
        },
        {
         "customdata": [
          [
           "Aipana Plaza Hotel",
           "BR"
          ]
         ],
         "geo": "geo",
         "hovertemplate": "City=boa vista<br>Humidity=%{marker.size}<br>Lat=%{lat}<br>Lng=%{lon}<br>Hotel Name=%{customdata[0]}<br>Country=%{customdata[1]}<extra></extra>",
         "lat": [
          2.8197
         ],
         "legendgroup": "boa vista",
         "lon": [
          -60.6733
         ],
         "marker": {
          "color": "#19d3f3",
          "size": [
           73
          ],
          "sizemode": "area",
          "sizeref": 2.0408163265306123,
          "symbol": "circle"
         },
         "mode": "markers",
         "name": "boa vista",
         "showlegend": true,
         "type": "scattergeo"
        },
        {
         "customdata": [
          [
           "Horisun",
           "MU"
          ]
         ],
         "geo": "geo",
         "hovertemplate": "City=quatre cocos<br>Humidity=%{marker.size}<br>Lat=%{lat}<br>Lng=%{lon}<br>Hotel Name=%{customdata[0]}<br>Country=%{customdata[1]}<extra></extra>",
         "lat": [
          -20.2078
         ],
         "legendgroup": "quatre cocos",
         "lon": [
          57.7625
         ],
         "marker": {
          "color": "#FF6692",
          "size": [
           80
          ],
          "sizemode": "area",
          "sizeref": 2.0408163265306123,
          "symbol": "circle"
         },
         "mode": "markers",
         "name": "quatre cocos",
         "showlegend": true,
         "type": "scattergeo"
        },
        {
         "customdata": [
          [
           "Andaman Ocean Breeze",
           "IN"
          ]
         ],
         "geo": "geo",
         "hovertemplate": "City=port blair<br>Humidity=%{marker.size}<br>Lat=%{lat}<br>Lng=%{lon}<br>Hotel Name=%{customdata[0]}<br>Country=%{customdata[1]}<extra></extra>",
         "lat": [
          11.6667
         ],
         "legendgroup": "port blair",
         "lon": [
          92.75
         ],
         "marker": {
          "color": "#B6E880",
          "size": [
           65
          ],
          "sizemode": "area",
          "sizeref": 2.0408163265306123,
          "symbol": "circle"
         },
         "mode": "markers",
         "name": "port blair",
         "showlegend": true,
         "type": "scattergeo"
        },
        {
         "customdata": [
          [
           "No hotel found",
           "RU"
          ]
         ],
         "geo": "geo",
         "hovertemplate": "City=imeni poliny osipenko<br>Humidity=%{marker.size}<br>Lat=%{lat}<br>Lng=%{lon}<br>Hotel Name=%{customdata[0]}<br>Country=%{customdata[1]}<extra></extra>",
         "lat": [
          52.4201
         ],
         "legendgroup": "imeni poliny osipenko",
         "lon": [
          136.4853
         ],
         "marker": {
          "color": "#FF97FF",
          "size": [
           85
          ],
          "sizemode": "area",
          "sizeref": 2.0408163265306123,
          "symbol": "circle"
         },
         "mode": "markers",
         "name": "imeni poliny osipenko",
         "showlegend": true,
         "type": "scattergeo"
        },
        {
         "customdata": [
          [
           "Queens Hotel",
           "GB"
          ]
         ],
         "geo": "geo",
         "hovertemplate": "City=newport<br>Humidity=%{marker.size}<br>Lat=%{lat}<br>Lng=%{lon}<br>Hotel Name=%{customdata[0]}<br>Country=%{customdata[1]}<extra></extra>",
         "lat": [
          51.5877
         ],
         "legendgroup": "newport",
         "lon": [
          -2.9984
         ],
         "marker": {
          "color": "#FECB52",
          "size": [
           90
          ],
          "sizemode": "area",
          "sizeref": 2.0408163265306123,
          "symbol": "circle"
         },
         "mode": "markers",
         "name": "newport",
         "showlegend": true,
         "type": "scattergeo"
        },
        {
         "customdata": [
          [
           "Hotel Presidente",
           "AR"
          ]
         ],
         "geo": "geo",
         "hovertemplate": "City=presidencia roque saenz pena<br>Humidity=%{marker.size}<br>Lat=%{lat}<br>Lng=%{lon}<br>Hotel Name=%{customdata[0]}<br>Country=%{customdata[1]}<extra></extra>",
         "lat": [
          -26.7852
         ],
         "legendgroup": "presidencia roque saenz pena",
         "lon": [
          -60.4388
         ],
         "marker": {
          "color": "#636efa",
          "size": [
           43
          ],
          "sizemode": "area",
          "sizeref": 2.0408163265306123,
          "symbol": "circle"
         },
         "mode": "markers",
         "name": "presidencia roque saenz pena",
         "showlegend": true,
         "type": "scattergeo"
        },
        {
         "customdata": [
          [
           "Nesbitt Arms Hotel",
           "ZW"
          ]
         ],
         "geo": "geo",
         "hovertemplate": "City=chiredzi<br>Humidity=%{marker.size}<br>Lat=%{lat}<br>Lng=%{lon}<br>Hotel Name=%{customdata[0]}<br>Country=%{customdata[1]}<extra></extra>",
         "lat": [
          -21.05
         ],
         "legendgroup": "chiredzi",
         "lon": [
          31.6667
         ],
         "marker": {
          "color": "#EF553B",
          "size": [
           90
          ],
          "sizemode": "area",
          "sizeref": 2.0408163265306123,
          "symbol": "circle"
         },
         "mode": "markers",
         "name": "chiredzi",
         "showlegend": true,
         "type": "scattergeo"
        },
        {
         "customdata": [
          [
           "No hotel found",
           "NE"
          ]
         ],
         "geo": "geo",
         "hovertemplate": "City=agadez<br>Humidity=%{marker.size}<br>Lat=%{lat}<br>Lng=%{lon}<br>Hotel Name=%{customdata[0]}<br>Country=%{customdata[1]}<extra></extra>",
         "lat": [
          19.75
         ],
         "legendgroup": "agadez",
         "lon": [
          10.25
         ],
         "marker": {
          "color": "#00cc96",
          "size": [
           16
          ],
          "sizemode": "area",
          "sizeref": 2.0408163265306123,
          "symbol": "circle"
         },
         "mode": "markers",
         "name": "agadez",
         "showlegend": true,
         "type": "scattergeo"
        },
        {
         "customdata": [
          [
           "Hampton",
           "CA"
          ]
         ],
         "geo": "geo",
         "hovertemplate": "City=torbay<br>Humidity=%{marker.size}<br>Lat=%{lat}<br>Lng=%{lon}<br>Hotel Name=%{customdata[0]}<br>Country=%{customdata[1]}<extra></extra>",
         "lat": [
          47.6666
         ],
         "legendgroup": "torbay",
         "lon": [
          -52.7314
         ],
         "marker": {
          "color": "#ab63fa",
          "size": [
           96
          ],
          "sizemode": "area",
          "sizeref": 2.0408163265306123,
          "symbol": "circle"
         },
         "mode": "markers",
         "name": "torbay",
         "showlegend": true,
         "type": "scattergeo"
        },
        {
         "customdata": [
          [
           "Powfowlis Manor",
           "GB"
          ]
         ],
         "geo": "geo",
         "hovertemplate": "City=kincardine<br>Humidity=%{marker.size}<br>Lat=%{lat}<br>Lng=%{lon}<br>Hotel Name=%{customdata[0]}<br>Country=%{customdata[1]}<extra></extra>",
         "lat": [
          56.0667
         ],
         "legendgroup": "kincardine",
         "lon": [
          -3.7167
         ],
         "marker": {
          "color": "#FFA15A",
          "size": [
           93
          ],
          "sizemode": "area",
          "sizeref": 2.0408163265306123,
          "symbol": "circle"
         },
         "mode": "markers",
         "name": "kincardine",
         "showlegend": true,
         "type": "scattergeo"
        },
        {
         "customdata": [
          [
           "No hotel found",
           "NG"
          ]
         ],
         "geo": "geo",
         "hovertemplate": "City=wamba<br>Humidity=%{marker.size}<br>Lat=%{lat}<br>Lng=%{lon}<br>Hotel Name=%{customdata[0]}<br>Country=%{customdata[1]}<extra></extra>",
         "lat": [
          8.9333
         ],
         "legendgroup": "wamba",
         "lon": [
          8.6
         ],
         "marker": {
          "color": "#19d3f3",
          "size": [
           20
          ],
          "sizemode": "area",
          "sizeref": 2.0408163265306123,
          "symbol": "circle"
         },
         "mode": "markers",
         "name": "wamba",
         "showlegend": true,
         "type": "scattergeo"
        },
        {
         "customdata": [
          [
           "No hotel found",
           "MX"
          ]
         ],
         "geo": "geo",
         "hovertemplate": "City=vega de alatorre<br>Humidity=%{marker.size}<br>Lat=%{lat}<br>Lng=%{lon}<br>Hotel Name=%{customdata[0]}<br>Country=%{customdata[1]}<extra></extra>",
         "lat": [
          20.0333
         ],
         "legendgroup": "vega de alatorre",
         "lon": [
          -96.6333
         ],
         "marker": {
          "color": "#FF6692",
          "size": [
           89
          ],
          "sizemode": "area",
          "sizeref": 2.0408163265306123,
          "symbol": "circle"
         },
         "mode": "markers",
         "name": "vega de alatorre",
         "showlegend": true,
         "type": "scattergeo"
        },
        {
         "customdata": [
          [
           "Космос",
           "RU"
          ]
         ],
         "geo": "geo",
         "hovertemplate": "City=puteyets<br>Humidity=%{marker.size}<br>Lat=%{lat}<br>Lng=%{lon}<br>Hotel Name=%{customdata[0]}<br>Country=%{customdata[1]}<extra></extra>",
         "lat": [
          65.1716
         ],
         "legendgroup": "puteyets",
         "lon": [
          57.091
         ],
         "marker": {
          "color": "#B6E880",
          "size": [
           90
          ],
          "sizemode": "area",
          "sizeref": 2.0408163265306123,
          "symbol": "circle"
         },
         "mode": "markers",
         "name": "puteyets",
         "showlegend": true,
         "type": "scattergeo"
        },
        {
         "customdata": [
          [
           "Riverview B&B",
           "GB"
          ]
         ],
         "geo": "geo",
         "hovertemplate": "City=ullapool<br>Humidity=%{marker.size}<br>Lat=%{lat}<br>Lng=%{lon}<br>Hotel Name=%{customdata[0]}<br>Country=%{customdata[1]}<extra></extra>",
         "lat": [
          57.8987
         ],
         "legendgroup": "ullapool",
         "lon": [
          -5.1604
         ],
         "marker": {
          "color": "#FF97FF",
          "size": [
           98
          ],
          "sizemode": "area",
          "sizeref": 2.0408163265306123,
          "symbol": "circle"
         },
         "mode": "markers",
         "name": "ullapool",
         "showlegend": true,
         "type": "scattergeo"
        },
        {
         "customdata": [
          [
           "Muscat International Hotel",
           "OM"
          ]
         ],
         "geo": "geo",
         "hovertemplate": "City=salalah<br>Humidity=%{marker.size}<br>Lat=%{lat}<br>Lng=%{lon}<br>Hotel Name=%{customdata[0]}<br>Country=%{customdata[1]}<extra></extra>",
         "lat": [
          17.0151
         ],
         "legendgroup": "salalah",
         "lon": [
          54.0924
         ],
         "marker": {
          "color": "#FECB52",
          "size": [
           68
          ],
          "sizemode": "area",
          "sizeref": 2.0408163265306123,
          "symbol": "circle"
         },
         "mode": "markers",
         "name": "salalah",
         "showlegend": true,
         "type": "scattergeo"
        },
        {
         "customdata": [
          [
           "Sunnyvale Garden Suites Hotel - Joshua Tree National Park",
           "US"
          ]
         ],
         "geo": "geo",
         "hovertemplate": "City=twentynine palms<br>Humidity=%{marker.size}<br>Lat=%{lat}<br>Lng=%{lon}<br>Hotel Name=%{customdata[0]}<br>Country=%{customdata[1]}<extra></extra>",
         "lat": [
          34.1356
         ],
         "legendgroup": "twentynine palms",
         "lon": [
          -116.0542
         ],
         "marker": {
          "color": "#636efa",
          "size": [
           34
          ],
          "sizemode": "area",
          "sizeref": 2.0408163265306123,
          "symbol": "circle"
         },
         "mode": "markers",
         "name": "twentynine palms",
         "showlegend": true,
         "type": "scattergeo"
        },
        {
         "customdata": [
          [
           "No hotel found",
           "RU"
          ]
         ],
         "geo": "geo",
         "hovertemplate": "City=tara<br>Humidity=%{marker.size}<br>Lat=%{lat}<br>Lng=%{lon}<br>Hotel Name=%{customdata[0]}<br>Country=%{customdata[1]}<extra></extra>",
         "lat": [
          56.8944
         ],
         "legendgroup": "tara",
         "lon": [
          74.37100000000001
         ],
         "marker": {
          "color": "#EF553B",
          "size": [
           98
          ],
          "sizemode": "area",
          "sizeref": 2.0408163265306123,
          "symbol": "circle"
         },
         "mode": "markers",
         "name": "tara",
         "showlegend": true,
         "type": "scattergeo"
        },
        {
         "customdata": [
          [
           "No hotel found",
           "US"
          ]
         ],
         "geo": "geo",
         "hovertemplate": "City=makaha<br>Humidity=%{marker.size}<br>Lat=%{lat}<br>Lng=%{lon}<br>Hotel Name=%{customdata[0]}<br>Country=%{customdata[1]}<extra></extra>",
         "lat": [
          21.4694
         ],
         "legendgroup": "makaha",
         "lon": [
          -158.2175
         ],
         "marker": {
          "color": "#00cc96",
          "size": [
           69
          ],
          "sizemode": "area",
          "sizeref": 2.0408163265306123,
          "symbol": "circle"
         },
         "mode": "markers",
         "name": "makaha",
         "showlegend": true,
         "type": "scattergeo"
        },
        {
         "customdata": [
          [
           "Hotel Verdià",
           "ES"
          ]
         ],
         "geo": "geo",
         "hovertemplate": "City=onda<br>Humidity=%{marker.size}<br>Lat=%{lat}<br>Lng=%{lon}<br>Hotel Name=%{customdata[0]}<br>Country=%{customdata[1]}<extra></extra>",
         "lat": [
          39.9667
         ],
         "legendgroup": "onda",
         "lon": [
          -0.25
         ],
         "marker": {
          "color": "#ab63fa",
          "size": [
           61
          ],
          "sizemode": "area",
          "sizeref": 2.0408163265306123,
          "symbol": "circle"
         },
         "mode": "markers",
         "name": "onda",
         "showlegend": true,
         "type": "scattergeo"
        },
        {
         "customdata": [
          [
           "No hotel found",
           "MR"
          ]
         ],
         "geo": "geo",
         "hovertemplate": "City=adrar<br>Humidity=%{marker.size}<br>Lat=%{lat}<br>Lng=%{lon}<br>Hotel Name=%{customdata[0]}<br>Country=%{customdata[1]}<extra></extra>",
         "lat": [
          20.5022
         ],
         "legendgroup": "adrar",
         "lon": [
          -10.0711
         ],
         "marker": {
          "color": "#FFA15A",
          "size": [
           17
          ],
          "sizemode": "area",
          "sizeref": 2.0408163265306123,
          "symbol": "circle"
         },
         "mode": "markers",
         "name": "adrar",
         "showlegend": true,
         "type": "scattergeo"
        },
        {
         "customdata": [
          [
           "Embassy Suites by Hilton Oahu Kapolei",
           "US"
          ]
         ],
         "geo": "geo",
         "hovertemplate": "City=makakilo city<br>Humidity=%{marker.size}<br>Lat=%{lat}<br>Lng=%{lon}<br>Hotel Name=%{customdata[0]}<br>Country=%{customdata[1]}<extra></extra>",
         "lat": [
          21.3469
         ],
         "legendgroup": "makakilo city",
         "lon": [
          -158.0858
         ],
         "marker": {
          "color": "#19d3f3",
          "size": [
           63
          ],
          "sizemode": "area",
          "sizeref": 2.0408163265306123,
          "symbol": "circle"
         },
         "mode": "markers",
         "name": "makakilo city",
         "showlegend": true,
         "type": "scattergeo"
        },
        {
         "customdata": [
          [
           "No hotel found",
           "LA"
          ]
         ],
         "geo": "geo",
         "hovertemplate": "City=phonhong<br>Humidity=%{marker.size}<br>Lat=%{lat}<br>Lng=%{lon}<br>Hotel Name=%{customdata[0]}<br>Country=%{customdata[1]}<extra></extra>",
         "lat": [
          18.5007
         ],
         "legendgroup": "phonhong",
         "lon": [
          102.4166
         ],
         "marker": {
          "color": "#FF6692",
          "size": [
           43
          ],
          "sizemode": "area",
          "sizeref": 2.0408163265306123,
          "symbol": "circle"
         },
         "mode": "markers",
         "name": "phonhong",
         "showlegend": true,
         "type": "scattergeo"
        },
        {
         "customdata": [
          [
           "Cabinas",
           "CR"
          ]
         ],
         "geo": "geo",
         "hovertemplate": "City=paraiso<br>Humidity=%{marker.size}<br>Lat=%{lat}<br>Lng=%{lon}<br>Hotel Name=%{customdata[0]}<br>Country=%{customdata[1]}<extra></extra>",
         "lat": [
          9.8383
         ],
         "legendgroup": "paraiso",
         "lon": [
          -83.8656
         ],
         "marker": {
          "color": "#B6E880",
          "size": [
           89
          ],
          "sizemode": "area",
          "sizeref": 2.0408163265306123,
          "symbol": "circle"
         },
         "mode": "markers",
         "name": "paraiso",
         "showlegend": true,
         "type": "scattergeo"
        },
        {
         "customdata": [
          [
           "Silver Star Hotel",
           "CN"
          ]
         ],
         "geo": "geo",
         "hovertemplate": "City=korla<br>Humidity=%{marker.size}<br>Lat=%{lat}<br>Lng=%{lon}<br>Hotel Name=%{customdata[0]}<br>Country=%{customdata[1]}<extra></extra>",
         "lat": [
          41.7597
         ],
         "legendgroup": "korla",
         "lon": [
          86.1469
         ],
         "marker": {
          "color": "#FF97FF",
          "size": [
           73
          ],
          "sizemode": "area",
          "sizeref": 2.0408163265306123,
          "symbol": "circle"
         },
         "mode": "markers",
         "name": "korla",
         "showlegend": true,
         "type": "scattergeo"
        },
        {
         "customdata": [
          [
           "No hotel found",
           "PE"
          ]
         ],
         "geo": "geo",
         "hovertemplate": "City=santiago de chuco<br>Humidity=%{marker.size}<br>Lat=%{lat}<br>Lng=%{lon}<br>Hotel Name=%{customdata[0]}<br>Country=%{customdata[1]}<extra></extra>",
         "lat": [
          -8.15
         ],
         "legendgroup": "santiago de chuco",
         "lon": [
          -78.1833
         ],
         "marker": {
          "color": "#FECB52",
          "size": [
           87
          ],
          "sizemode": "area",
          "sizeref": 2.0408163265306123,
          "symbol": "circle"
         },
         "mode": "markers",
         "name": "santiago de chuco",
         "showlegend": true,
         "type": "scattergeo"
        },
        {
         "customdata": [
          [
           "HOTEL CENTRAL",
           "CO"
          ]
         ],
         "geo": "geo",
         "hovertemplate": "City=chimichagua<br>Humidity=%{marker.size}<br>Lat=%{lat}<br>Lng=%{lon}<br>Hotel Name=%{customdata[0]}<br>Country=%{customdata[1]}<extra></extra>",
         "lat": [
          9.2578
         ],
         "legendgroup": "chimichagua",
         "lon": [
          -73.8123
         ],
         "marker": {
          "color": "#636efa",
          "size": [
           67
          ],
          "sizemode": "area",
          "sizeref": 2.0408163265306123,
          "symbol": "circle"
         },
         "mode": "markers",
         "name": "chimichagua",
         "showlegend": true,
         "type": "scattergeo"
        },
        {
         "customdata": [
          [
           "Hotel Victoria",
           "SE"
          ]
         ],
         "geo": "geo",
         "hovertemplate": "City=skelleftea<br>Humidity=%{marker.size}<br>Lat=%{lat}<br>Lng=%{lon}<br>Hotel Name=%{customdata[0]}<br>Country=%{customdata[1]}<extra></extra>",
         "lat": [
          64.7507
         ],
         "legendgroup": "skelleftea",
         "lon": [
          20.9528
         ],
         "marker": {
          "color": "#EF553B",
          "size": [
           100
          ],
          "sizemode": "area",
          "sizeref": 2.0408163265306123,
          "symbol": "circle"
         },
         "mode": "markers",
         "name": "skelleftea",
         "showlegend": true,
         "type": "scattergeo"
        },
        {
         "customdata": [
          [
           "Hotel Heilmann Lyberth",
           "GL"
          ]
         ],
         "geo": "geo",
         "hovertemplate": "City=maniitsoq<br>Humidity=%{marker.size}<br>Lat=%{lat}<br>Lng=%{lon}<br>Hotel Name=%{customdata[0]}<br>Country=%{customdata[1]}<extra></extra>",
         "lat": [
          65.4167
         ],
         "legendgroup": "maniitsoq",
         "lon": [
          -52.9
         ],
         "marker": {
          "color": "#00cc96",
          "size": [
           94
          ],
          "sizemode": "area",
          "sizeref": 2.0408163265306123,
          "symbol": "circle"
         },
         "mode": "markers",
         "name": "maniitsoq",
         "showlegend": true,
         "type": "scattergeo"
        },
        {
         "customdata": [
          [
           "No hotel found",
           "JP"
          ]
         ],
         "geo": "geo",
         "hovertemplate": "City=kushima<br>Humidity=%{marker.size}<br>Lat=%{lat}<br>Lng=%{lon}<br>Hotel Name=%{customdata[0]}<br>Country=%{customdata[1]}<extra></extra>",
         "lat": [
          31.4583
         ],
         "legendgroup": "kushima",
         "lon": [
          131.2333
         ],
         "marker": {
          "color": "#ab63fa",
          "size": [
           61
          ],
          "sizemode": "area",
          "sizeref": 2.0408163265306123,
          "symbol": "circle"
         },
         "mode": "markers",
         "name": "kushima",
         "showlegend": true,
         "type": "scattergeo"
        },
        {
         "customdata": [
          [
           "Harbour Quarters Inn",
           "CA"
          ]
         ],
         "geo": "geo",
         "hovertemplate": "City=bonavista<br>Humidity=%{marker.size}<br>Lat=%{lat}<br>Lng=%{lon}<br>Hotel Name=%{customdata[0]}<br>Country=%{customdata[1]}<extra></extra>",
         "lat": [
          48.6499
         ],
         "legendgroup": "bonavista",
         "lon": [
          -53.1147
         ],
         "marker": {
          "color": "#FFA15A",
          "size": [
           98
          ],
          "sizemode": "area",
          "sizeref": 2.0408163265306123,
          "symbol": "circle"
         },
         "mode": "markers",
         "name": "bonavista",
         "showlegend": true,
         "type": "scattergeo"
        },
        {
         "customdata": [
          [
           "No hotel found",
           "SA"
          ]
         ],
         "geo": "geo",
         "hovertemplate": "City=faya<br>Humidity=%{marker.size}<br>Lat=%{lat}<br>Lng=%{lon}<br>Hotel Name=%{customdata[0]}<br>Country=%{customdata[1]}<extra></extra>",
         "lat": [
          18.3851
         ],
         "legendgroup": "faya",
         "lon": [
          42.4509
         ],
         "marker": {
          "color": "#19d3f3",
          "size": [
           83
          ],
          "sizemode": "area",
          "sizeref": 2.0408163265306123,
          "symbol": "circle"
         },
         "mode": "markers",
         "name": "faya",
         "showlegend": true,
         "type": "scattergeo"
        },
        {
         "customdata": [
          [
           "Maison Alheri",
           "NE"
          ]
         ],
         "geo": "geo",
         "hovertemplate": "City=dogondoutchi<br>Humidity=%{marker.size}<br>Lat=%{lat}<br>Lng=%{lon}<br>Hotel Name=%{customdata[0]}<br>Country=%{customdata[1]}<extra></extra>",
         "lat": [
          13.6393
         ],
         "legendgroup": "dogondoutchi",
         "lon": [
          4.0287
         ],
         "marker": {
          "color": "#FF6692",
          "size": [
           16
          ],
          "sizemode": "area",
          "sizeref": 2.0408163265306123,
          "symbol": "circle"
         },
         "mode": "markers",
         "name": "dogondoutchi",
         "showlegend": true,
         "type": "scattergeo"
        },
        {
         "customdata": [
          [
           "Fosshótel Húsavík",
           "IS"
          ]
         ],
         "geo": "geo",
         "hovertemplate": "City=husavik<br>Humidity=%{marker.size}<br>Lat=%{lat}<br>Lng=%{lon}<br>Hotel Name=%{customdata[0]}<br>Country=%{customdata[1]}<extra></extra>",
         "lat": [
          66.0449
         ],
         "legendgroup": "husavik",
         "lon": [
          -17.3389
         ],
         "marker": {
          "color": "#B6E880",
          "size": [
           67
          ],
          "sizemode": "area",
          "sizeref": 2.0408163265306123,
          "symbol": "circle"
         },
         "mode": "markers",
         "name": "husavik",
         "showlegend": true,
         "type": "scattergeo"
        },
        {
         "customdata": [
          [
           "No hotel found",
           "CL"
          ]
         ],
         "geo": "geo",
         "hovertemplate": "City=coihaique<br>Humidity=%{marker.size}<br>Lat=%{lat}<br>Lng=%{lon}<br>Hotel Name=%{customdata[0]}<br>Country=%{customdata[1]}<extra></extra>",
         "lat": [
          -45.5752
         ],
         "legendgroup": "coihaique",
         "lon": [
          -72.0662
         ],
         "marker": {
          "color": "#FF97FF",
          "size": [
           57
          ],
          "sizemode": "area",
          "sizeref": 2.0408163265306123,
          "symbol": "circle"
         },
         "mode": "markers",
         "name": "coihaique",
         "showlegend": true,
         "type": "scattergeo"
        },
        {
         "customdata": [
          [
           "Hotel",
           "TH"
          ]
         ],
         "geo": "geo",
         "hovertemplate": "City=phangnga<br>Humidity=%{marker.size}<br>Lat=%{lat}<br>Lng=%{lon}<br>Hotel Name=%{customdata[0]}<br>Country=%{customdata[1]}<extra></extra>",
         "lat": [
          8.4509
         ],
         "legendgroup": "phangnga",
         "lon": [
          98.5298
         ],
         "marker": {
          "color": "#FECB52",
          "size": [
           53
          ],
          "sizemode": "area",
          "sizeref": 2.0408163265306123,
          "symbol": "circle"
         },
         "mode": "markers",
         "name": "phangnga",
         "showlegend": true,
         "type": "scattergeo"
        },
        {
         "customdata": [
          [
           "No hotel found",
           "CA"
          ]
         ],
         "geo": "geo",
         "hovertemplate": "City=aklavik<br>Humidity=%{marker.size}<br>Lat=%{lat}<br>Lng=%{lon}<br>Hotel Name=%{customdata[0]}<br>Country=%{customdata[1]}<extra></extra>",
         "lat": [
          68.2191
         ],
         "legendgroup": "aklavik",
         "lon": [
          -135.0107
         ],
         "marker": {
          "color": "#636efa",
          "size": [
           98
          ],
          "sizemode": "area",
          "sizeref": 2.0408163265306123,
          "symbol": "circle"
         },
         "mode": "markers",
         "name": "aklavik",
         "showlegend": true,
         "type": "scattergeo"
        },
        {
         "customdata": [
          [
           "Africa Hotel",
           "ET"
          ]
         ],
         "geo": "geo",
         "hovertemplate": "City=asosa<br>Humidity=%{marker.size}<br>Lat=%{lat}<br>Lng=%{lon}<br>Hotel Name=%{customdata[0]}<br>Country=%{customdata[1]}<extra></extra>",
         "lat": [
          10.0667
         ],
         "legendgroup": "asosa",
         "lon": [
          34.5333
         ],
         "marker": {
          "color": "#EF553B",
          "size": [
           36
          ],
          "sizemode": "area",
          "sizeref": 2.0408163265306123,
          "symbol": "circle"
         },
         "mode": "markers",
         "name": "asosa",
         "showlegend": true,
         "type": "scattergeo"
        },
        {
         "customdata": [
          [
           "Manitou Holiday Suites",
           "CA"
          ]
         ],
         "geo": "geo",
         "hovertemplate": "City=watrous<br>Humidity=%{marker.size}<br>Lat=%{lat}<br>Lng=%{lon}<br>Hotel Name=%{customdata[0]}<br>Country=%{customdata[1]}<extra></extra>",
         "lat": [
          51.6668
         ],
         "legendgroup": "watrous",
         "lon": [
          -105.4679
         ],
         "marker": {
          "color": "#00cc96",
          "size": [
           86
          ],
          "sizemode": "area",
          "sizeref": 2.0408163265306123,
          "symbol": "circle"
         },
         "mode": "markers",
         "name": "watrous",
         "showlegend": true,
         "type": "scattergeo"
        },
        {
         "customdata": [
          [
           "No hotel found",
           "NO"
          ]
         ],
         "geo": "geo",
         "hovertemplate": "City=manger<br>Humidity=%{marker.size}<br>Lat=%{lat}<br>Lng=%{lon}<br>Hotel Name=%{customdata[0]}<br>Country=%{customdata[1]}<extra></extra>",
         "lat": [
          60.6414
         ],
         "legendgroup": "manger",
         "lon": [
          5.0414
         ],
         "marker": {
          "color": "#ab63fa",
          "size": [
           1
          ],
          "sizemode": "area",
          "sizeref": 2.0408163265306123,
          "symbol": "circle"
         },
         "mode": "markers",
         "name": "manger",
         "showlegend": true,
         "type": "scattergeo"
        },
        {
         "customdata": [
          [
           "No hotel found",
           "US"
          ]
         ],
         "geo": "geo",
         "hovertemplate": "City=broome<br>Humidity=%{marker.size}<br>Lat=%{lat}<br>Lng=%{lon}<br>Hotel Name=%{customdata[0]}<br>Country=%{customdata[1]}<extra></extra>",
         "lat": [
          42.2506
         ],
         "legendgroup": "broome",
         "lon": [
          -75.833
         ],
         "marker": {
          "color": "#FFA15A",
          "size": [
           84
          ],
          "sizemode": "area",
          "sizeref": 2.0408163265306123,
          "symbol": "circle"
         },
         "mode": "markers",
         "name": "broome",
         "showlegend": true,
         "type": "scattergeo"
        },
        {
         "customdata": [
          [
           "La Portada",
           "PE"
          ]
         ],
         "geo": "geo",
         "hovertemplate": "City=pisco<br>Humidity=%{marker.size}<br>Lat=%{lat}<br>Lng=%{lon}<br>Hotel Name=%{customdata[0]}<br>Country=%{customdata[1]}<extra></extra>",
         "lat": [
          -13.7
         ],
         "legendgroup": "pisco",
         "lon": [
          -76.2167
         ],
         "marker": {
          "color": "#19d3f3",
          "size": [
           78
          ],
          "sizemode": "area",
          "sizeref": 2.0408163265306123,
          "symbol": "circle"
         },
         "mode": "markers",
         "name": "pisco",
         "showlegend": true,
         "type": "scattergeo"
        },
        {
         "customdata": [
          [
           "No hotel found",
           "BR"
          ]
         ],
         "geo": "geo",
         "hovertemplate": "City=jussara<br>Humidity=%{marker.size}<br>Lat=%{lat}<br>Lng=%{lon}<br>Hotel Name=%{customdata[0]}<br>Country=%{customdata[1]}<extra></extra>",
         "lat": [
          -23.6214
         ],
         "legendgroup": "jussara",
         "lon": [
          -52.4694
         ],
         "marker": {
          "color": "#FF6692",
          "size": [
           80
          ],
          "sizemode": "area",
          "sizeref": 2.0408163265306123,
          "symbol": "circle"
         },
         "mode": "markers",
         "name": "jussara",
         "showlegend": true,
         "type": "scattergeo"
        },
        {
         "customdata": [
          [
           "No hotel found",
           "NO"
          ]
         ],
         "geo": "geo",
         "hovertemplate": "City=oksfjord<br>Humidity=%{marker.size}<br>Lat=%{lat}<br>Lng=%{lon}<br>Hotel Name=%{customdata[0]}<br>Country=%{customdata[1]}<extra></extra>",
         "lat": [
          70.2396
         ],
         "legendgroup": "oksfjord",
         "lon": [
          22.3479
         ],
         "marker": {
          "color": "#B6E880",
          "size": [
           84
          ],
          "sizemode": "area",
          "sizeref": 2.0408163265306123,
          "symbol": "circle"
         },
         "mode": "markers",
         "name": "oksfjord",
         "showlegend": true,
         "type": "scattergeo"
        },
        {
         "customdata": [
          [
           "No hotel found",
           "RU"
          ]
         ],
         "geo": "geo",
         "hovertemplate": "City=kamenka<br>Humidity=%{marker.size}<br>Lat=%{lat}<br>Lng=%{lon}<br>Hotel Name=%{customdata[0]}<br>Country=%{customdata[1]}<extra></extra>",
         "lat": [
          51.3223
         ],
         "legendgroup": "kamenka",
         "lon": [
          42.7678
         ],
         "marker": {
          "color": "#FF97FF",
          "size": [
           81
          ],
          "sizemode": "area",
          "sizeref": 2.0408163265306123,
          "symbol": "circle"
         },
         "mode": "markers",
         "name": "kamenka",
         "showlegend": true,
         "type": "scattergeo"
        },
        {
         "customdata": [
          [
           "Central Hôtel",
           "GF"
          ]
         ],
         "geo": "geo",
         "hovertemplate": "City=cayenne<br>Humidity=%{marker.size}<br>Lat=%{lat}<br>Lng=%{lon}<br>Hotel Name=%{customdata[0]}<br>Country=%{customdata[1]}<extra></extra>",
         "lat": [
          4.9333
         ],
         "legendgroup": "cayenne",
         "lon": [
          -52.3333
         ],
         "marker": {
          "color": "#FECB52",
          "size": [
           83
          ],
          "sizemode": "area",
          "sizeref": 2.0408163265306123,
          "symbol": "circle"
         },
         "mode": "markers",
         "name": "cayenne",
         "showlegend": true,
         "type": "scattergeo"
        },
        {
         "customdata": [
          [
           "Hotel Commonwealth",
           "AU"
          ]
         ],
         "geo": "geo",
         "hovertemplate": "City=port augusta<br>Humidity=%{marker.size}<br>Lat=%{lat}<br>Lng=%{lon}<br>Hotel Name=%{customdata[0]}<br>Country=%{customdata[1]}<extra></extra>",
         "lat": [
          -32.5
         ],
         "legendgroup": "port augusta",
         "lon": [
          137.7667
         ],
         "marker": {
          "color": "#636efa",
          "size": [
           31
          ],
          "sizemode": "area",
          "sizeref": 2.0408163265306123,
          "symbol": "circle"
         },
         "mode": "markers",
         "name": "port augusta",
         "showlegend": true,
         "type": "scattergeo"
        },
        {
         "customdata": [
          [
           "Hospedaria JSF - 3 Estrelas",
           "PT"
          ]
         ],
         "geo": "geo",
         "hovertemplate": "City=ribeira grande<br>Humidity=%{marker.size}<br>Lat=%{lat}<br>Lng=%{lon}<br>Hotel Name=%{customdata[0]}<br>Country=%{customdata[1]}<extra></extra>",
         "lat": [
          38.5167
         ],
         "legendgroup": "ribeira grande",
         "lon": [
          -28.7
         ],
         "marker": {
          "color": "#EF553B",
          "size": [
           74
          ],
          "sizemode": "area",
          "sizeref": 2.0408163265306123,
          "symbol": "circle"
         },
         "mode": "markers",
         "name": "ribeira grande",
         "showlegend": true,
         "type": "scattergeo"
        },
        {
         "customdata": [
          [
           "Ramada",
           "US"
          ]
         ],
         "geo": "geo",
         "hovertemplate": "City=lebanon<br>Humidity=%{marker.size}<br>Lat=%{lat}<br>Lng=%{lon}<br>Hotel Name=%{customdata[0]}<br>Country=%{customdata[1]}<extra></extra>",
         "lat": [
          36.2081
         ],
         "legendgroup": "lebanon",
         "lon": [
          -86.2911
         ],
         "marker": {
          "color": "#00cc96",
          "size": [
           92
          ],
          "sizemode": "area",
          "sizeref": 2.0408163265306123,
          "symbol": "circle"
         },
         "mode": "markers",
         "name": "lebanon",
         "showlegend": true,
         "type": "scattergeo"
        },
        {
         "customdata": [
          [
           "Hotel Municipal",
           "UY"
          ]
         ],
         "geo": "geo",
         "hovertemplate": "City=rocha<br>Humidity=%{marker.size}<br>Lat=%{lat}<br>Lng=%{lon}<br>Hotel Name=%{customdata[0]}<br>Country=%{customdata[1]}<extra></extra>",
         "lat": [
          -34.4833
         ],
         "legendgroup": "rocha",
         "lon": [
          -54.3333
         ],
         "marker": {
          "color": "#ab63fa",
          "size": [
           82
          ],
          "sizemode": "area",
          "sizeref": 2.0408163265306123,
          "symbol": "circle"
         },
         "mode": "markers",
         "name": "rocha",
         "showlegend": true,
         "type": "scattergeo"
        },
        {
         "customdata": [
          [
           "No hotel found",
           "RU"
          ]
         ],
         "geo": "geo",
         "hovertemplate": "City=chuchkovo<br>Humidity=%{marker.size}<br>Lat=%{lat}<br>Lng=%{lon}<br>Hotel Name=%{customdata[0]}<br>Country=%{customdata[1]}<extra></extra>",
         "lat": [
          54.2693
         ],
         "legendgroup": "chuchkovo",
         "lon": [
          41.4465
         ],
         "marker": {
          "color": "#FFA15A",
          "size": [
           90
          ],
          "sizemode": "area",
          "sizeref": 2.0408163265306123,
          "symbol": "circle"
         },
         "mode": "markers",
         "name": "chuchkovo",
         "showlegend": true,
         "type": "scattergeo"
        },
        {
         "customdata": [
          [
           "The Dwarika Hotel",
           "IN"
          ]
         ],
         "geo": "geo",
         "hovertemplate": "City=dwarka<br>Humidity=%{marker.size}<br>Lat=%{lat}<br>Lng=%{lon}<br>Hotel Name=%{customdata[0]}<br>Country=%{customdata[1]}<extra></extra>",
         "lat": [
          22.2394
         ],
         "legendgroup": "dwarka",
         "lon": [
          68.9678
         ],
         "marker": {
          "color": "#19d3f3",
          "size": [
           44
          ],
          "sizemode": "area",
          "sizeref": 2.0408163265306123,
          "symbol": "circle"
         },
         "mode": "markers",
         "name": "dwarka",
         "showlegend": true,
         "type": "scattergeo"
        },
        {
         "customdata": [
          [
           "No hotel found",
           "RU"
          ]
         ],
         "geo": "geo",
         "hovertemplate": "City=novikovo<br>Humidity=%{marker.size}<br>Lat=%{lat}<br>Lng=%{lon}<br>Hotel Name=%{customdata[0]}<br>Country=%{customdata[1]}<extra></extra>",
         "lat": [
          51.1537
         ],
         "legendgroup": "novikovo",
         "lon": [
          37.8879
         ],
         "marker": {
          "color": "#FF6692",
          "size": [
           81
          ],
          "sizemode": "area",
          "sizeref": 2.0408163265306123,
          "symbol": "circle"
         },
         "mode": "markers",
         "name": "novikovo",
         "showlegend": true,
         "type": "scattergeo"
        },
        {
         "customdata": [
          [
           "Dalitso Guesthouse",
           "ZM"
          ]
         ],
         "geo": "geo",
         "hovertemplate": "City=nyimba<br>Humidity=%{marker.size}<br>Lat=%{lat}<br>Lng=%{lon}<br>Hotel Name=%{customdata[0]}<br>Country=%{customdata[1]}<extra></extra>",
         "lat": [
          -14.5566
         ],
         "legendgroup": "nyimba",
         "lon": [
          30.8149
         ],
         "marker": {
          "color": "#B6E880",
          "size": [
           98
          ],
          "sizemode": "area",
          "sizeref": 2.0408163265306123,
          "symbol": "circle"
         },
         "mode": "markers",
         "name": "nyimba",
         "showlegend": true,
         "type": "scattergeo"
        },
        {
         "customdata": [
          [
           "Nizwa Heritage Inn",
           "OM"
          ]
         ],
         "geo": "geo",
         "hovertemplate": "City=nizwa<br>Humidity=%{marker.size}<br>Lat=%{lat}<br>Lng=%{lon}<br>Hotel Name=%{customdata[0]}<br>Country=%{customdata[1]}<extra></extra>",
         "lat": [
          22.9333
         ],
         "legendgroup": "nizwa",
         "lon": [
          57.5333
         ],
         "marker": {
          "color": "#FF97FF",
          "size": [
           74
          ],
          "sizemode": "area",
          "sizeref": 2.0408163265306123,
          "symbol": "circle"
         },
         "mode": "markers",
         "name": "nizwa",
         "showlegend": true,
         "type": "scattergeo"
        },
        {
         "customdata": [
          [
           "No hotel found",
           "RU"
          ]
         ],
         "geo": "geo",
         "hovertemplate": "City=koslan<br>Humidity=%{marker.size}<br>Lat=%{lat}<br>Lng=%{lon}<br>Hotel Name=%{customdata[0]}<br>Country=%{customdata[1]}<extra></extra>",
         "lat": [
          63.4564
         ],
         "legendgroup": "koslan",
         "lon": [
          48.8989
         ],
         "marker": {
          "color": "#FECB52",
          "size": [
           95
          ],
          "sizemode": "area",
          "sizeref": 2.0408163265306123,
          "symbol": "circle"
         },
         "mode": "markers",
         "name": "koslan",
         "showlegend": true,
         "type": "scattergeo"
        },
        {
         "customdata": [
          [
           "Marawi Resort Hotel",
           "PH"
          ]
         ],
         "geo": "geo",
         "hovertemplate": "City=marawi<br>Humidity=%{marker.size}<br>Lat=%{lat}<br>Lng=%{lon}<br>Hotel Name=%{customdata[0]}<br>Country=%{customdata[1]}<extra></extra>",
         "lat": [
          7.9986
         ],
         "legendgroup": "marawi",
         "lon": [
          124.2928
         ],
         "marker": {
          "color": "#636efa",
          "size": [
           83
          ],
          "sizemode": "area",
          "sizeref": 2.0408163265306123,
          "symbol": "circle"
         },
         "mode": "markers",
         "name": "marawi",
         "showlegend": true,
         "type": "scattergeo"
        },
        {
         "customdata": [
          [
           "No hotel found",
           "KZ"
          ]
         ],
         "geo": "geo",
         "hovertemplate": "City=ushtobe<br>Humidity=%{marker.size}<br>Lat=%{lat}<br>Lng=%{lon}<br>Hotel Name=%{customdata[0]}<br>Country=%{customdata[1]}<extra></extra>",
         "lat": [
          45.2514
         ],
         "legendgroup": "ushtobe",
         "lon": [
          77.9838
         ],
         "marker": {
          "color": "#EF553B",
          "size": [
           81
          ],
          "sizemode": "area",
          "sizeref": 2.0408163265306123,
          "symbol": "circle"
         },
         "mode": "markers",
         "name": "ushtobe",
         "showlegend": true,
         "type": "scattergeo"
        },
        {
         "customdata": [
          [
           "Hotel Arvon",
           "US"
          ]
         ],
         "geo": "geo",
         "hovertemplate": "City=great falls<br>Humidity=%{marker.size}<br>Lat=%{lat}<br>Lng=%{lon}<br>Hotel Name=%{customdata[0]}<br>Country=%{customdata[1]}<extra></extra>",
         "lat": [
          47.5002
         ],
         "legendgroup": "great falls",
         "lon": [
          -111.3008
         ],
         "marker": {
          "color": "#00cc96",
          "size": [
           59
          ],
          "sizemode": "area",
          "sizeref": 2.0408163265306123,
          "symbol": "circle"
         },
         "mode": "markers",
         "name": "great falls",
         "showlegend": true,
         "type": "scattergeo"
        },
        {
         "customdata": [
          [
           "No hotel found",
           "BR"
          ]
         ],
         "geo": "geo",
         "hovertemplate": "City=indiaroba<br>Humidity=%{marker.size}<br>Lat=%{lat}<br>Lng=%{lon}<br>Hotel Name=%{customdata[0]}<br>Country=%{customdata[1]}<extra></extra>",
         "lat": [
          -11.5192
         ],
         "legendgroup": "indiaroba",
         "lon": [
          -37.5117
         ],
         "marker": {
          "color": "#ab63fa",
          "size": [
           90
          ],
          "sizemode": "area",
          "sizeref": 2.0408163265306123,
          "symbol": "circle"
         },
         "mode": "markers",
         "name": "indiaroba",
         "showlegend": true,
         "type": "scattergeo"
        },
        {
         "customdata": [
          [
           "Maceió Hostel e Pousada",
           "BR"
          ]
         ],
         "geo": "geo",
         "hovertemplate": "City=maceio<br>Humidity=%{marker.size}<br>Lat=%{lat}<br>Lng=%{lon}<br>Hotel Name=%{customdata[0]}<br>Country=%{customdata[1]}<extra></extra>",
         "lat": [
          -9.6658
         ],
         "legendgroup": "maceio",
         "lon": [
          -35.7353
         ],
         "marker": {
          "color": "#FFA15A",
          "size": [
           94
          ],
          "sizemode": "area",
          "sizeref": 2.0408163265306123,
          "symbol": "circle"
         },
         "mode": "markers",
         "name": "maceio",
         "showlegend": true,
         "type": "scattergeo"
        },
        {
         "customdata": [
          [
           "Hotel Meuligou",
           "ID"
          ]
         ],
         "geo": "geo",
         "hovertemplate": "City=meulaboh<br>Humidity=%{marker.size}<br>Lat=%{lat}<br>Lng=%{lon}<br>Hotel Name=%{customdata[0]}<br>Country=%{customdata[1]}<extra></extra>",
         "lat": [
          4.1363
         ],
         "legendgroup": "meulaboh",
         "lon": [
          96.1285
         ],
         "marker": {
          "color": "#19d3f3",
          "size": [
           82
          ],
          "sizemode": "area",
          "sizeref": 2.0408163265306123,
          "symbol": "circle"
         },
         "mode": "markers",
         "name": "meulaboh",
         "showlegend": true,
         "type": "scattergeo"
        },
        {
         "customdata": [
          [
           "Киселях",
           "RU"
          ]
         ],
         "geo": "geo",
         "hovertemplate": "City=batagay<br>Humidity=%{marker.size}<br>Lat=%{lat}<br>Lng=%{lon}<br>Hotel Name=%{customdata[0]}<br>Country=%{customdata[1]}<extra></extra>",
         "lat": [
          67.6333
         ],
         "legendgroup": "batagay",
         "lon": [
          134.6333
         ],
         "marker": {
          "color": "#FF6692",
          "size": [
           97
          ],
          "sizemode": "area",
          "sizeref": 2.0408163265306123,
          "symbol": "circle"
         },
         "mode": "markers",
         "name": "batagay",
         "showlegend": true,
         "type": "scattergeo"
        },
        {
         "customdata": [
          [
           "Kayhan City Hotel",
           "TR"
          ]
         ],
         "geo": "geo",
         "hovertemplate": "City=bursa<br>Humidity=%{marker.size}<br>Lat=%{lat}<br>Lng=%{lon}<br>Hotel Name=%{customdata[0]}<br>Country=%{customdata[1]}<extra></extra>",
         "lat": [
          40.1667
         ],
         "legendgroup": "bursa",
         "lon": [
          29.0833
         ],
         "marker": {
          "color": "#B6E880",
          "size": [
           87
          ],
          "sizemode": "area",
          "sizeref": 2.0408163265306123,
          "symbol": "circle"
         },
         "mode": "markers",
         "name": "bursa",
         "showlegend": true,
         "type": "scattergeo"
        },
        {
         "customdata": [
          [
           "Hotel Bedford",
           "CA"
          ]
         ],
         "geo": "geo",
         "hovertemplate": "City=goderich<br>Humidity=%{marker.size}<br>Lat=%{lat}<br>Lng=%{lon}<br>Hotel Name=%{customdata[0]}<br>Country=%{customdata[1]}<extra></extra>",
         "lat": [
          43.7501
         ],
         "legendgroup": "goderich",
         "lon": [
          -81.7165
         ],
         "marker": {
          "color": "#FF97FF",
          "size": [
           80
          ],
          "sizemode": "area",
          "sizeref": 2.0408163265306123,
          "symbol": "circle"
         },
         "mode": "markers",
         "name": "goderich",
         "showlegend": true,
         "type": "scattergeo"
        },
        {
         "customdata": [
          [
           "No hotel found",
           "FR"
          ]
         ],
         "geo": "geo",
         "hovertemplate": "City=rochelle<br>Humidity=%{marker.size}<br>Lat=%{lat}<br>Lng=%{lon}<br>Hotel Name=%{customdata[0]}<br>Country=%{customdata[1]}<extra></extra>",
         "lat": [
          46.25
         ],
         "legendgroup": "rochelle",
         "lon": [
          -1
         ],
         "marker": {
          "color": "#FECB52",
          "size": [
           80
          ],
          "sizemode": "area",
          "sizeref": 2.0408163265306123,
          "symbol": "circle"
         },
         "mode": "markers",
         "name": "rochelle",
         "showlegend": true,
         "type": "scattergeo"
        },
        {
         "customdata": [
          [
           "No hotel found",
           "RU"
          ]
         ],
         "geo": "geo",
         "hovertemplate": "City=egvekinot<br>Humidity=%{marker.size}<br>Lat=%{lat}<br>Lng=%{lon}<br>Hotel Name=%{customdata[0]}<br>Country=%{customdata[1]}<extra></extra>",
         "lat": [
          66.3167
         ],
         "legendgroup": "egvekinot",
         "lon": [
          -179.1667
         ],
         "marker": {
          "color": "#636efa",
          "size": [
           82
          ],
          "sizemode": "area",
          "sizeref": 2.0408163265306123,
          "symbol": "circle"
         },
         "mode": "markers",
         "name": "egvekinot",
         "showlegend": true,
         "type": "scattergeo"
        },
        {
         "customdata": [
          [
           "La Quinta Inn & Suites by Wyndham Buena Park",
           "US"
          ]
         ],
         "geo": "geo",
         "hovertemplate": "City=la palma<br>Humidity=%{marker.size}<br>Lat=%{lat}<br>Lng=%{lon}<br>Hotel Name=%{customdata[0]}<br>Country=%{customdata[1]}<extra></extra>",
         "lat": [
          33.8464
         ],
         "legendgroup": "la palma",
         "lon": [
          -118.0467
         ],
         "marker": {
          "color": "#EF553B",
          "size": [
           61
          ],
          "sizemode": "area",
          "sizeref": 2.0408163265306123,
          "symbol": "circle"
         },
         "mode": "markers",
         "name": "la palma",
         "showlegend": true,
         "type": "scattergeo"
        },
        {
         "customdata": [
          [
           "No hotel found",
           "AU"
          ]
         ],
         "geo": "geo",
         "hovertemplate": "City=charters towers<br>Humidity=%{marker.size}<br>Lat=%{lat}<br>Lng=%{lon}<br>Hotel Name=%{customdata[0]}<br>Country=%{customdata[1]}<extra></extra>",
         "lat": [
          -20.1
         ],
         "legendgroup": "charters towers",
         "lon": [
          146.2667
         ],
         "marker": {
          "color": "#00cc96",
          "size": [
           38
          ],
          "sizemode": "area",
          "sizeref": 2.0408163265306123,
          "symbol": "circle"
         },
         "mode": "markers",
         "name": "charters towers",
         "showlegend": true,
         "type": "scattergeo"
        },
        {
         "customdata": [
          [
           "Níjar",
           "AR"
          ]
         ],
         "geo": "geo",
         "hovertemplate": "City=viedma<br>Humidity=%{marker.size}<br>Lat=%{lat}<br>Lng=%{lon}<br>Hotel Name=%{customdata[0]}<br>Country=%{customdata[1]}<extra></extra>",
         "lat": [
          -40.8135
         ],
         "legendgroup": "viedma",
         "lon": [
          -62.9967
         ],
         "marker": {
          "color": "#ab63fa",
          "size": [
           37
          ],
          "sizemode": "area",
          "sizeref": 2.0408163265306123,
          "symbol": "circle"
         },
         "mode": "markers",
         "name": "viedma",
         "showlegend": true,
         "type": "scattergeo"
        },
        {
         "customdata": [
          [
           "TG Hotel",
           "BR"
          ]
         ],
         "geo": "geo",
         "hovertemplate": "City=itaituba<br>Humidity=%{marker.size}<br>Lat=%{lat}<br>Lng=%{lon}<br>Hotel Name=%{customdata[0]}<br>Country=%{customdata[1]}<extra></extra>",
         "lat": [
          -4.2761
         ],
         "legendgroup": "itaituba",
         "lon": [
          -55.9836
         ],
         "marker": {
          "color": "#FFA15A",
          "size": [
           99
          ],
          "sizemode": "area",
          "sizeref": 2.0408163265306123,
          "symbol": "circle"
         },
         "mode": "markers",
         "name": "itaituba",
         "showlegend": true,
         "type": "scattergeo"
        },
        {
         "customdata": [
          [
           "Danau Toba International Cottage Belawan",
           "ID"
          ]
         ],
         "geo": "geo",
         "hovertemplate": "City=belawan<br>Humidity=%{marker.size}<br>Lat=%{lat}<br>Lng=%{lon}<br>Hotel Name=%{customdata[0]}<br>Country=%{customdata[1]}<extra></extra>",
         "lat": [
          3.7755
         ],
         "legendgroup": "belawan",
         "lon": [
          98.6832
         ],
         "marker": {
          "color": "#19d3f3",
          "size": [
           87
          ],
          "sizemode": "area",
          "sizeref": 2.0408163265306123,
          "symbol": "circle"
         },
         "mode": "markers",
         "name": "belawan",
         "showlegend": true,
         "type": "scattergeo"
        },
        {
         "customdata": [
          [
           "No hotel found",
           "BR"
          ]
         ],
         "geo": "geo",
         "hovertemplate": "City=esmeraldas<br>Humidity=%{marker.size}<br>Lat=%{lat}<br>Lng=%{lon}<br>Hotel Name=%{customdata[0]}<br>Country=%{customdata[1]}<extra></extra>",
         "lat": [
          -19.7625
         ],
         "legendgroup": "esmeraldas",
         "lon": [
          -44.3139
         ],
         "marker": {
          "color": "#FF6692",
          "size": [
           98
          ],
          "sizemode": "area",
          "sizeref": 2.0408163265306123,
          "symbol": "circle"
         },
         "mode": "markers",
         "name": "esmeraldas",
         "showlegend": true,
         "type": "scattergeo"
        },
        {
         "customdata": [
          [
           "No hotel found",
           "JP"
          ]
         ],
         "geo": "geo",
         "hovertemplate": "City=tomobe<br>Humidity=%{marker.size}<br>Lat=%{lat}<br>Lng=%{lon}<br>Hotel Name=%{customdata[0]}<br>Country=%{customdata[1]}<extra></extra>",
         "lat": [
          36.35
         ],
         "legendgroup": "tomobe",
         "lon": [
          140.3
         ],
         "marker": {
          "color": "#B6E880",
          "size": [
           47
          ],
          "sizemode": "area",
          "sizeref": 2.0408163265306123,
          "symbol": "circle"
         },
         "mode": "markers",
         "name": "tomobe",
         "showlegend": true,
         "type": "scattergeo"
        },
        {
         "customdata": [
          [
           "Hotel Premier",
           "BR"
          ]
         ],
         "geo": "geo",
         "hovertemplate": "City=rio claro<br>Humidity=%{marker.size}<br>Lat=%{lat}<br>Lng=%{lon}<br>Hotel Name=%{customdata[0]}<br>Country=%{customdata[1]}<extra></extra>",
         "lat": [
          -22.4114
         ],
         "legendgroup": "rio claro",
         "lon": [
          -47.5614
         ],
         "marker": {
          "color": "#FF97FF",
          "size": [
           95
          ],
          "sizemode": "area",
          "sizeref": 2.0408163265306123,
          "symbol": "circle"
         },
         "mode": "markers",
         "name": "rio claro",
         "showlegend": true,
         "type": "scattergeo"
        },
        {
         "customdata": [
          [
           "No hotel found",
           "RU"
          ]
         ],
         "geo": "geo",
         "hovertemplate": "City=belaya gora<br>Humidity=%{marker.size}<br>Lat=%{lat}<br>Lng=%{lon}<br>Hotel Name=%{customdata[0]}<br>Country=%{customdata[1]}<extra></extra>",
         "lat": [
          68.5333
         ],
         "legendgroup": "belaya gora",
         "lon": [
          146.4167
         ],
         "marker": {
          "color": "#FECB52",
          "size": [
           99
          ],
          "sizemode": "area",
          "sizeref": 2.0408163265306123,
          "symbol": "circle"
         },
         "mode": "markers",
         "name": "belaya gora",
         "showlegend": true,
         "type": "scattergeo"
        },
        {
         "customdata": [
          [
           "CBC Guesthouse",
           "PG"
          ]
         ],
         "geo": "geo",
         "hovertemplate": "City=vanimo<br>Humidity=%{marker.size}<br>Lat=%{lat}<br>Lng=%{lon}<br>Hotel Name=%{customdata[0]}<br>Country=%{customdata[1]}<extra></extra>",
         "lat": [
          -2.6741
         ],
         "legendgroup": "vanimo",
         "lon": [
          141.3028
         ],
         "marker": {
          "color": "#636efa",
          "size": [
           93
          ],
          "sizemode": "area",
          "sizeref": 2.0408163265306123,
          "symbol": "circle"
         },
         "mode": "markers",
         "name": "vanimo",
         "showlegend": true,
         "type": "scattergeo"
        },
        {
         "customdata": [
          [
           "Hotel Prima Indah",
           "ID"
          ]
         ],
         "geo": "geo",
         "hovertemplate": "City=sibolga<br>Humidity=%{marker.size}<br>Lat=%{lat}<br>Lng=%{lon}<br>Hotel Name=%{customdata[0]}<br>Country=%{customdata[1]}<extra></extra>",
         "lat": [
          1.7427
         ],
         "legendgroup": "sibolga",
         "lon": [
          98.7792
         ],
         "marker": {
          "color": "#EF553B",
          "size": [
           80
          ],
          "sizemode": "area",
          "sizeref": 2.0408163265306123,
          "symbol": "circle"
         },
         "mode": "markers",
         "name": "sibolga",
         "showlegend": true,
         "type": "scattergeo"
        },
        {
         "customdata": [
          [
           "The Ritz-Carlton, Philadelphia",
           "US"
          ]
         ],
         "geo": "geo",
         "hovertemplate": "City=filadelfia<br>Humidity=%{marker.size}<br>Lat=%{lat}<br>Lng=%{lon}<br>Hotel Name=%{customdata[0]}<br>Country=%{customdata[1]}<extra></extra>",
         "lat": [
          39.9523
         ],
         "legendgroup": "filadelfia",
         "lon": [
          -75.1638
         ],
         "marker": {
          "color": "#00cc96",
          "size": [
           68
          ],
          "sizemode": "area",
          "sizeref": 2.0408163265306123,
          "symbol": "circle"
         },
         "mode": "markers",
         "name": "filadelfia",
         "showlegend": true,
         "type": "scattergeo"
        },
        {
         "customdata": [
          [
           "No hotel found",
           "MV"
          ]
         ],
         "geo": "geo",
         "hovertemplate": "City=thinadhoo<br>Humidity=%{marker.size}<br>Lat=%{lat}<br>Lng=%{lon}<br>Hotel Name=%{customdata[0]}<br>Country=%{customdata[1]}<extra></extra>",
         "lat": [
          0.5333
         ],
         "legendgroup": "thinadhoo",
         "lon": [
          72.9333
         ],
         "marker": {
          "color": "#ab63fa",
          "size": [
           75
          ],
          "sizemode": "area",
          "sizeref": 2.0408163265306123,
          "symbol": "circle"
         },
         "mode": "markers",
         "name": "thinadhoo",
         "showlegend": true,
         "type": "scattergeo"
        },
        {
         "customdata": [
          [
           "No hotel found",
           "NZ"
          ]
         ],
         "geo": "geo",
         "hovertemplate": "City=takaka<br>Humidity=%{marker.size}<br>Lat=%{lat}<br>Lng=%{lon}<br>Hotel Name=%{customdata[0]}<br>Country=%{customdata[1]}<extra></extra>",
         "lat": [
          -40.85
         ],
         "legendgroup": "takaka",
         "lon": [
          172.8
         ],
         "marker": {
          "color": "#FFA15A",
          "size": [
           65
          ],
          "sizemode": "area",
          "sizeref": 2.0408163265306123,
          "symbol": "circle"
         },
         "mode": "markers",
         "name": "takaka",
         "showlegend": true,
         "type": "scattergeo"
        },
        {
         "customdata": [
          [
           "Криве Озеро",
           "UA"
          ]
         ],
         "geo": "geo",
         "hovertemplate": "City=starychi<br>Humidity=%{marker.size}<br>Lat=%{lat}<br>Lng=%{lon}<br>Hotel Name=%{customdata[0]}<br>Country=%{customdata[1]}<extra></extra>",
         "lat": [
          49.98
         ],
         "legendgroup": "starychi",
         "lon": [
          23.5585
         ],
         "marker": {
          "color": "#19d3f3",
          "size": [
           90
          ],
          "sizemode": "area",
          "sizeref": 2.0408163265306123,
          "symbol": "circle"
         },
         "mode": "markers",
         "name": "starychi",
         "showlegend": true,
         "type": "scattergeo"
        },
        {
         "customdata": [
          [
           "No hotel found",
           "IN"
          ]
         ],
         "geo": "geo",
         "hovertemplate": "City=kavaratti<br>Humidity=%{marker.size}<br>Lat=%{lat}<br>Lng=%{lon}<br>Hotel Name=%{customdata[0]}<br>Country=%{customdata[1]}<extra></extra>",
         "lat": [
          10.5669
         ],
         "legendgroup": "kavaratti",
         "lon": [
          72.642
         ],
         "marker": {
          "color": "#FF6692",
          "size": [
           74
          ],
          "sizemode": "area",
          "sizeref": 2.0408163265306123,
          "symbol": "circle"
         },
         "mode": "markers",
         "name": "kavaratti",
         "showlegend": true,
         "type": "scattergeo"
        },
        {
         "customdata": [
          [
           "Quality Inn Havelock Hwy 70",
           "US"
          ]
         ],
         "geo": "geo",
         "hovertemplate": "City=havelock<br>Humidity=%{marker.size}<br>Lat=%{lat}<br>Lng=%{lon}<br>Hotel Name=%{customdata[0]}<br>Country=%{customdata[1]}<extra></extra>",
         "lat": [
          34.8791
         ],
         "legendgroup": "havelock",
         "lon": [
          -76.9013
         ],
         "marker": {
          "color": "#B6E880",
          "size": [
           64
          ],
          "sizemode": "area",
          "sizeref": 2.0408163265306123,
          "symbol": "circle"
         },
         "mode": "markers",
         "name": "havelock",
         "showlegend": true,
         "type": "scattergeo"
        },
        {
         "customdata": [
          [
           "Hotel Ivaana",
           "GL"
          ]
         ],
         "geo": "geo",
         "hovertemplate": "City=paamiut<br>Humidity=%{marker.size}<br>Lat=%{lat}<br>Lng=%{lon}<br>Hotel Name=%{customdata[0]}<br>Country=%{customdata[1]}<extra></extra>",
         "lat": [
          61.994
         ],
         "legendgroup": "paamiut",
         "lon": [
          -49.6678
         ],
         "marker": {
          "color": "#FF97FF",
          "size": [
           81
          ],
          "sizemode": "area",
          "sizeref": 2.0408163265306123,
          "symbol": "circle"
         },
         "mode": "markers",
         "name": "paamiut",
         "showlegend": true,
         "type": "scattergeo"
        },
        {
         "customdata": [
          [
           "No hotel found",
           "RU"
          ]
         ],
         "geo": "geo",
         "hovertemplate": "City=poddorye<br>Humidity=%{marker.size}<br>Lat=%{lat}<br>Lng=%{lon}<br>Hotel Name=%{customdata[0]}<br>Country=%{customdata[1]}<extra></extra>",
         "lat": [
          57.4695
         ],
         "legendgroup": "poddorye",
         "lon": [
          31.1156
         ],
         "marker": {
          "color": "#FECB52",
          "size": [
           95
          ],
          "sizemode": "area",
          "sizeref": 2.0408163265306123,
          "symbol": "circle"
         },
         "mode": "markers",
         "name": "poddorye",
         "showlegend": true,
         "type": "scattergeo"
        },
        {
         "customdata": [
          [
           "Akesu Tianyuan International Hotel",
           "CN"
          ]
         ],
         "geo": "geo",
         "hovertemplate": "City=aksu<br>Humidity=%{marker.size}<br>Lat=%{lat}<br>Lng=%{lon}<br>Hotel Name=%{customdata[0]}<br>Country=%{customdata[1]}<extra></extra>",
         "lat": [
          41.1231
         ],
         "legendgroup": "aksu",
         "lon": [
          80.2644
         ],
         "marker": {
          "color": "#636efa",
          "size": [
           77
          ],
          "sizemode": "area",
          "sizeref": 2.0408163265306123,
          "symbol": "circle"
         },
         "mode": "markers",
         "name": "aksu",
         "showlegend": true,
         "type": "scattergeo"
        },
        {
         "customdata": [
          [
           "Hotel Boziki",
           "GR"
          ]
         ],
         "geo": "geo",
         "hovertemplate": "City=alistrati<br>Humidity=%{marker.size}<br>Lat=%{lat}<br>Lng=%{lon}<br>Hotel Name=%{customdata[0]}<br>Country=%{customdata[1]}<extra></extra>",
         "lat": [
          41.0667
         ],
         "legendgroup": "alistrati",
         "lon": [
          23.95
         ],
         "marker": {
          "color": "#EF553B",
          "size": [
           89
          ],
          "sizemode": "area",
          "sizeref": 2.0408163265306123,
          "symbol": "circle"
         },
         "mode": "markers",
         "name": "alistrati",
         "showlegend": true,
         "type": "scattergeo"
        },
        {
         "customdata": [
          [
           "Aurora Alice Springs",
           "AU"
          ]
         ],
         "geo": "geo",
         "hovertemplate": "City=alice springs<br>Humidity=%{marker.size}<br>Lat=%{lat}<br>Lng=%{lon}<br>Hotel Name=%{customdata[0]}<br>Country=%{customdata[1]}<extra></extra>",
         "lat": [
          -23.7
         ],
         "legendgroup": "alice springs",
         "lon": [
          133.8833
         ],
         "marker": {
          "color": "#00cc96",
          "size": [
           14
          ],
          "sizemode": "area",
          "sizeref": 2.0408163265306123,
          "symbol": "circle"
         },
         "mode": "markers",
         "name": "alice springs",
         "showlegend": true,
         "type": "scattergeo"
        },
        {
         "customdata": [
          [
           "ユインチホテル南城",
           "JP"
          ]
         ],
         "geo": "geo",
         "hovertemplate": "City=nishihara<br>Humidity=%{marker.size}<br>Lat=%{lat}<br>Lng=%{lon}<br>Hotel Name=%{customdata[0]}<br>Country=%{customdata[1]}<extra></extra>",
         "lat": [
          26.1842
         ],
         "legendgroup": "nishihara",
         "lon": [
          127.7558
         ],
         "marker": {
          "color": "#ab63fa",
          "size": [
           80
          ],
          "sizemode": "area",
          "sizeref": 2.0408163265306123,
          "symbol": "circle"
         },
         "mode": "markers",
         "name": "nishihara",
         "showlegend": true,
         "type": "scattergeo"
        },
        {
         "customdata": [
          [
           "The Mill Casino Hotel",
           "US"
          ]
         ],
         "geo": "geo",
         "hovertemplate": "City=north bend<br>Humidity=%{marker.size}<br>Lat=%{lat}<br>Lng=%{lon}<br>Hotel Name=%{customdata[0]}<br>Country=%{customdata[1]}<extra></extra>",
         "lat": [
          43.4065
         ],
         "legendgroup": "north bend",
         "lon": [
          -124.2243
         ],
         "marker": {
          "color": "#FFA15A",
          "size": [
           94
          ],
          "sizemode": "area",
          "sizeref": 2.0408163265306123,
          "symbol": "circle"
         },
         "mode": "markers",
         "name": "north bend",
         "showlegend": true,
         "type": "scattergeo"
        },
        {
         "customdata": [
          [
           "Grande Hotel",
           "BR"
          ]
         ],
         "geo": "geo",
         "hovertemplate": "City=barra dos coqueiros<br>Humidity=%{marker.size}<br>Lat=%{lat}<br>Lng=%{lon}<br>Hotel Name=%{customdata[0]}<br>Country=%{customdata[1]}<extra></extra>",
         "lat": [
          -10.9089
         ],
         "legendgroup": "barra dos coqueiros",
         "lon": [
          -37.0386
         ],
         "marker": {
          "color": "#19d3f3",
          "size": [
           83
          ],
          "sizemode": "area",
          "sizeref": 2.0408163265306123,
          "symbol": "circle"
         },
         "mode": "markers",
         "name": "barra dos coqueiros",
         "showlegend": true,
         "type": "scattergeo"
        },
        {
         "customdata": [
          [
           "فندق منبج",
           "SY"
          ]
         ],
         "geo": "geo",
         "hovertemplate": "City=manbij<br>Humidity=%{marker.size}<br>Lat=%{lat}<br>Lng=%{lon}<br>Hotel Name=%{customdata[0]}<br>Country=%{customdata[1]}<extra></extra>",
         "lat": [
          36.5281
         ],
         "legendgroup": "manbij",
         "lon": [
          37.9549
         ],
         "marker": {
          "color": "#FF6692",
          "size": [
           63
          ],
          "sizemode": "area",
          "sizeref": 2.0408163265306123,
          "symbol": "circle"
         },
         "mode": "markers",
         "name": "manbij",
         "showlegend": true,
         "type": "scattergeo"
        },
        {
         "customdata": [
          [
           "Hotel Edmundo",
           "PH"
          ]
         ],
         "geo": "geo",
         "hovertemplate": "City=dingle<br>Humidity=%{marker.size}<br>Lat=%{lat}<br>Lng=%{lon}<br>Hotel Name=%{customdata[0]}<br>Country=%{customdata[1]}<extra></extra>",
         "lat": [
          10.9995
         ],
         "legendgroup": "dingle",
         "lon": [
          122.6711
         ],
         "marker": {
          "color": "#B6E880",
          "size": [
           76
          ],
          "sizemode": "area",
          "sizeref": 2.0408163265306123,
          "symbol": "circle"
         },
         "mode": "markers",
         "name": "dingle",
         "showlegend": true,
         "type": "scattergeo"
        },
        {
         "customdata": [
          [
           "BENIN ROYAL HOTEL",
           "BJ"
          ]
         ],
         "geo": "geo",
         "hovertemplate": "City=cotonou<br>Humidity=%{marker.size}<br>Lat=%{lat}<br>Lng=%{lon}<br>Hotel Name=%{customdata[0]}<br>Country=%{customdata[1]}<extra></extra>",
         "lat": [
          6.3654
         ],
         "legendgroup": "cotonou",
         "lon": [
          2.4183
         ],
         "marker": {
          "color": "#FF97FF",
          "size": [
           85
          ],
          "sizemode": "area",
          "sizeref": 2.0408163265306123,
          "symbol": "circle"
         },
         "mode": "markers",
         "name": "cotonou",
         "showlegend": true,
         "type": "scattergeo"
        },
        {
         "customdata": [
          [
           "商务宾馆",
           "CN"
          ]
         ],
         "geo": "geo",
         "hovertemplate": "City=zhangjiakou<br>Humidity=%{marker.size}<br>Lat=%{lat}<br>Lng=%{lon}<br>Hotel Name=%{customdata[0]}<br>Country=%{customdata[1]}<extra></extra>",
         "lat": [
          40.81
         ],
         "legendgroup": "zhangjiakou",
         "lon": [
          114.8794
         ],
         "marker": {
          "color": "#FECB52",
          "size": [
           25
          ],
          "sizemode": "area",
          "sizeref": 2.0408163265306123,
          "symbol": "circle"
         },
         "mode": "markers",
         "name": "zhangjiakou",
         "showlegend": true,
         "type": "scattergeo"
        },
        {
         "customdata": [
          [
           "Hotel de Inhambane",
           "MZ"
          ]
         ],
         "geo": "geo",
         "hovertemplate": "City=inhambane<br>Humidity=%{marker.size}<br>Lat=%{lat}<br>Lng=%{lon}<br>Hotel Name=%{customdata[0]}<br>Country=%{customdata[1]}<extra></extra>",
         "lat": [
          -23.865
         ],
         "legendgroup": "inhambane",
         "lon": [
          35.3833
         ],
         "marker": {
          "color": "#636efa",
          "size": [
           77
          ],
          "sizemode": "area",
          "sizeref": 2.0408163265306123,
          "symbol": "circle"
         },
         "mode": "markers",
         "name": "inhambane",
         "showlegend": true,
         "type": "scattergeo"
        },
        {
         "customdata": [
          [
           "Divine Beach Homestay",
           "IN"
          ]
         ],
         "geo": "geo",
         "hovertemplate": "City=puri<br>Humidity=%{marker.size}<br>Lat=%{lat}<br>Lng=%{lon}<br>Hotel Name=%{customdata[0]}<br>Country=%{customdata[1]}<extra></extra>",
         "lat": [
          19.8
         ],
         "legendgroup": "puri",
         "lon": [
          85.85
         ],
         "marker": {
          "color": "#EF553B",
          "size": [
           59
          ],
          "sizemode": "area",
          "sizeref": 2.0408163265306123,
          "symbol": "circle"
         },
         "mode": "markers",
         "name": "puri",
         "showlegend": true,
         "type": "scattergeo"
        },
        {
         "customdata": [
          [
           "Annex Pemba Hotel",
           "TZ"
          ]
         ],
         "geo": "geo",
         "hovertemplate": "City=chake chake<br>Humidity=%{marker.size}<br>Lat=%{lat}<br>Lng=%{lon}<br>Hotel Name=%{customdata[0]}<br>Country=%{customdata[1]}<extra></extra>",
         "lat": [
          -5.2459
         ],
         "legendgroup": "chake chake",
         "lon": [
          39.7666
         ],
         "marker": {
          "color": "#00cc96",
          "size": [
           83
          ],
          "sizemode": "area",
          "sizeref": 2.0408163265306123,
          "symbol": "circle"
         },
         "mode": "markers",
         "name": "chake chake",
         "showlegend": true,
         "type": "scattergeo"
        },
        {
         "customdata": [
          [
           "Alpho hotel",
           "TZ"
          ]
         ],
         "geo": "geo",
         "hovertemplate": "City=tabora<br>Humidity=%{marker.size}<br>Lat=%{lat}<br>Lng=%{lon}<br>Hotel Name=%{customdata[0]}<br>Country=%{customdata[1]}<extra></extra>",
         "lat": [
          -5.0167
         ],
         "legendgroup": "tabora",
         "lon": [
          32.8
         ],
         "marker": {
          "color": "#ab63fa",
          "size": [
           94
          ],
          "sizemode": "area",
          "sizeref": 2.0408163265306123,
          "symbol": "circle"
         },
         "mode": "markers",
         "name": "tabora",
         "showlegend": true,
         "type": "scattergeo"
        },
        {
         "customdata": [
          [
           "Billy's Place",
           "TO"
          ]
         ],
         "geo": "geo",
         "hovertemplate": "City=pangai<br>Humidity=%{marker.size}<br>Lat=%{lat}<br>Lng=%{lon}<br>Hotel Name=%{customdata[0]}<br>Country=%{customdata[1]}<extra></extra>",
         "lat": [
          -19.8
         ],
         "legendgroup": "pangai",
         "lon": [
          -174.35
         ],
         "marker": {
          "color": "#FFA15A",
          "size": [
           62
          ],
          "sizemode": "area",
          "sizeref": 2.0408163265306123,
          "symbol": "circle"
         },
         "mode": "markers",
         "name": "pangai",
         "showlegend": true,
         "type": "scattergeo"
        },
        {
         "customdata": [
          [
           "Gimli Hotel",
           "CA"
          ]
         ],
         "geo": "geo",
         "hovertemplate": "City=gimli<br>Humidity=%{marker.size}<br>Lat=%{lat}<br>Lng=%{lon}<br>Hotel Name=%{customdata[0]}<br>Country=%{customdata[1]}<extra></extra>",
         "lat": [
          50.6336
         ],
         "legendgroup": "gimli",
         "lon": [
          -96.9907
         ],
         "marker": {
          "color": "#19d3f3",
          "size": [
           78
          ],
          "sizemode": "area",
          "sizeref": 2.0408163265306123,
          "symbol": "circle"
         },
         "mode": "markers",
         "name": "gimli",
         "showlegend": true,
         "type": "scattergeo"
        },
        {
         "customdata": [
          [
           "Pousada Chalés do Lago",
           "BR"
          ]
         ],
         "geo": "geo",
         "hovertemplate": "City=cavalcante<br>Humidity=%{marker.size}<br>Lat=%{lat}<br>Lng=%{lon}<br>Hotel Name=%{customdata[0]}<br>Country=%{customdata[1]}<extra></extra>",
         "lat": [
          -13.7975
         ],
         "legendgroup": "cavalcante",
         "lon": [
          -47.4583
         ],
         "marker": {
          "color": "#FF6692",
          "size": [
           93
          ],
          "sizemode": "area",
          "sizeref": 2.0408163265306123,
          "symbol": "circle"
         },
         "mode": "markers",
         "name": "cavalcante",
         "showlegend": true,
         "type": "scattergeo"
        },
        {
         "customdata": [
          [
           "Coco Villa",
           "MU"
          ]
         ],
         "geo": "geo",
         "hovertemplate": "City=grand gaube<br>Humidity=%{marker.size}<br>Lat=%{lat}<br>Lng=%{lon}<br>Hotel Name=%{customdata[0]}<br>Country=%{customdata[1]}<extra></extra>",
         "lat": [
          -20.0064
         ],
         "legendgroup": "grand gaube",
         "lon": [
          57.6608
         ],
         "marker": {
          "color": "#B6E880",
          "size": [
           83
          ],
          "sizemode": "area",
          "sizeref": 2.0408163265306123,
          "symbol": "circle"
         },
         "mode": "markers",
         "name": "grand gaube",
         "showlegend": true,
         "type": "scattergeo"
        },
        {
         "customdata": [
          [
           "Durrant House Hotel",
           "GB"
          ]
         ],
         "geo": "geo",
         "hovertemplate": "City=northam<br>Humidity=%{marker.size}<br>Lat=%{lat}<br>Lng=%{lon}<br>Hotel Name=%{customdata[0]}<br>Country=%{customdata[1]}<extra></extra>",
         "lat": [
          51.0333
         ],
         "legendgroup": "northam",
         "lon": [
          -4.2167
         ],
         "marker": {
          "color": "#FF97FF",
          "size": [
           69
          ],
          "sizemode": "area",
          "sizeref": 2.0408163265306123,
          "symbol": "circle"
         },
         "mode": "markers",
         "name": "northam",
         "showlegend": true,
         "type": "scattergeo"
        },
        {
         "customdata": [
          [
           "Hotel Anhalt",
           "DE"
          ]
         ],
         "geo": "geo",
         "hovertemplate": "City=kothen<br>Humidity=%{marker.size}<br>Lat=%{lat}<br>Lng=%{lon}<br>Hotel Name=%{customdata[0]}<br>Country=%{customdata[1]}<extra></extra>",
         "lat": [
          51.75
         ],
         "legendgroup": "kothen",
         "lon": [
          11.9667
         ],
         "marker": {
          "color": "#FECB52",
          "size": [
           95
          ],
          "sizemode": "area",
          "sizeref": 2.0408163265306123,
          "symbol": "circle"
         },
         "mode": "markers",
         "name": "kothen",
         "showlegend": true,
         "type": "scattergeo"
        },
        {
         "customdata": [
          [
           "No hotel found",
           "GA"
          ]
         ],
         "geo": "geo",
         "hovertemplate": "City=makokou<br>Humidity=%{marker.size}<br>Lat=%{lat}<br>Lng=%{lon}<br>Hotel Name=%{customdata[0]}<br>Country=%{customdata[1]}<extra></extra>",
         "lat": [
          0.5738
         ],
         "legendgroup": "makokou",
         "lon": [
          12.8642
         ],
         "marker": {
          "color": "#636efa",
          "size": [
           91
          ],
          "sizemode": "area",
          "sizeref": 2.0408163265306123,
          "symbol": "circle"
         },
         "mode": "markers",
         "name": "makokou",
         "showlegend": true,
         "type": "scattergeo"
        },
        {
         "customdata": [
          [
           "Hotel El Cristo",
           "BO"
          ]
         ],
         "geo": "geo",
         "hovertemplate": "City=cobija<br>Humidity=%{marker.size}<br>Lat=%{lat}<br>Lng=%{lon}<br>Hotel Name=%{customdata[0]}<br>Country=%{customdata[1]}<extra></extra>",
         "lat": [
          -11.0267
         ],
         "legendgroup": "cobija",
         "lon": [
          -68.7692
         ],
         "marker": {
          "color": "#EF553B",
          "size": [
           91
          ],
          "sizemode": "area",
          "sizeref": 2.0408163265306123,
          "symbol": "circle"
         },
         "mode": "markers",
         "name": "cobija",
         "showlegend": true,
         "type": "scattergeo"
        },
        {
         "customdata": [
          [
           "The Firebrand Hotel",
           "US"
          ]
         ],
         "geo": "geo",
         "hovertemplate": "City=whitefish<br>Humidity=%{marker.size}<br>Lat=%{lat}<br>Lng=%{lon}<br>Hotel Name=%{customdata[0]}<br>Country=%{customdata[1]}<extra></extra>",
         "lat": [
          48.4111
         ],
         "legendgroup": "whitefish",
         "lon": [
          -114.3376
         ],
         "marker": {
          "color": "#00cc96",
          "size": [
           97
          ],
          "sizemode": "area",
          "sizeref": 2.0408163265306123,
          "symbol": "circle"
         },
         "mode": "markers",
         "name": "whitefish",
         "showlegend": true,
         "type": "scattergeo"
        },
        {
         "customdata": [
          [
           "Hotel Vega",
           "PL"
          ]
         ],
         "geo": "geo",
         "hovertemplate": "City=lebork<br>Humidity=%{marker.size}<br>Lat=%{lat}<br>Lng=%{lon}<br>Hotel Name=%{customdata[0]}<br>Country=%{customdata[1]}<extra></extra>",
         "lat": [
          54.5392
         ],
         "legendgroup": "lebork",
         "lon": [
          17.7501
         ],
         "marker": {
          "color": "#ab63fa",
          "size": [
           76
          ],
          "sizemode": "area",
          "sizeref": 2.0408163265306123,
          "symbol": "circle"
         },
         "mode": "markers",
         "name": "lebork",
         "showlegend": true,
         "type": "scattergeo"
        },
        {
         "customdata": [
          [
           "No hotel found",
           "ZA"
          ]
         ],
         "geo": "geo",
         "hovertemplate": "City=kruisfontein<br>Humidity=%{marker.size}<br>Lat=%{lat}<br>Lng=%{lon}<br>Hotel Name=%{customdata[0]}<br>Country=%{customdata[1]}<extra></extra>",
         "lat": [
          -34.0033
         ],
         "legendgroup": "kruisfontein",
         "lon": [
          24.7314
         ],
         "marker": {
          "color": "#FFA15A",
          "size": [
           84
          ],
          "sizemode": "area",
          "sizeref": 2.0408163265306123,
          "symbol": "circle"
         },
         "mode": "markers",
         "name": "kruisfontein",
         "showlegend": true,
         "type": "scattergeo"
        },
        {
         "customdata": [
          [
           "Pousada dos Navegantes",
           "BR"
          ]
         ],
         "geo": "geo",
         "hovertemplate": "City=caravelas<br>Humidity=%{marker.size}<br>Lat=%{lat}<br>Lng=%{lon}<br>Hotel Name=%{customdata[0]}<br>Country=%{customdata[1]}<extra></extra>",
         "lat": [
          -17.7125
         ],
         "legendgroup": "caravelas",
         "lon": [
          -39.2481
         ],
         "marker": {
          "color": "#19d3f3",
          "size": [
           85
          ],
          "sizemode": "area",
          "sizeref": 2.0408163265306123,
          "symbol": "circle"
         },
         "mode": "markers",
         "name": "caravelas",
         "showlegend": true,
         "type": "scattergeo"
        },
        {
         "customdata": [
          [
           "No hotel found",
           "ML"
          ]
         ],
         "geo": "geo",
         "hovertemplate": "City=tessalit<br>Humidity=%{marker.size}<br>Lat=%{lat}<br>Lng=%{lon}<br>Hotel Name=%{customdata[0]}<br>Country=%{customdata[1]}<extra></extra>",
         "lat": [
          20.1986
         ],
         "legendgroup": "tessalit",
         "lon": [
          1.0114
         ],
         "marker": {
          "color": "#FF6692",
          "size": [
           15
          ],
          "sizemode": "area",
          "sizeref": 2.0408163265306123,
          "symbol": "circle"
         },
         "mode": "markers",
         "name": "tessalit",
         "showlegend": true,
         "type": "scattergeo"
        },
        {
         "customdata": [
          [
           "No hotel found",
           "RU"
          ]
         ],
         "geo": "geo",
         "hovertemplate": "City=suntar<br>Humidity=%{marker.size}<br>Lat=%{lat}<br>Lng=%{lon}<br>Hotel Name=%{customdata[0]}<br>Country=%{customdata[1]}<extra></extra>",
         "lat": [
          62.1444
         ],
         "legendgroup": "suntar",
         "lon": [
          117.6319
         ],
         "marker": {
          "color": "#B6E880",
          "size": [
           90
          ],
          "sizemode": "area",
          "sizeref": 2.0408163265306123,
          "symbol": "circle"
         },
         "mode": "markers",
         "name": "suntar",
         "showlegend": true,
         "type": "scattergeo"
        },
        {
         "customdata": [
          [
           "Le rdv des chasseurs",
           "GA"
          ]
         ],
         "geo": "geo",
         "hovertemplate": "City=lekoni<br>Humidity=%{marker.size}<br>Lat=%{lat}<br>Lng=%{lon}<br>Hotel Name=%{customdata[0]}<br>Country=%{customdata[1]}<extra></extra>",
         "lat": [
          -1.5843
         ],
         "legendgroup": "lekoni",
         "lon": [
          14.2591
         ],
         "marker": {
          "color": "#FF97FF",
          "size": [
           84
          ],
          "sizemode": "area",
          "sizeref": 2.0408163265306123,
          "symbol": "circle"
         },
         "mode": "markers",
         "name": "lekoni",
         "showlegend": true,
         "type": "scattergeo"
        },
        {
         "customdata": [
          [
           "Devrek Otel",
           "TR"
          ]
         ],
         "geo": "geo",
         "hovertemplate": "City=devrek<br>Humidity=%{marker.size}<br>Lat=%{lat}<br>Lng=%{lon}<br>Hotel Name=%{customdata[0]}<br>Country=%{customdata[1]}<extra></extra>",
         "lat": [
          41.2192
         ],
         "legendgroup": "devrek",
         "lon": [
          31.9558
         ],
         "marker": {
          "color": "#FECB52",
          "size": [
           72
          ],
          "sizemode": "area",
          "sizeref": 2.0408163265306123,
          "symbol": "circle"
         },
         "mode": "markers",
         "name": "devrek",
         "showlegend": true,
         "type": "scattergeo"
        },
        {
         "customdata": [
          [
           "No hotel found",
           "RU"
          ]
         ],
         "geo": "geo",
         "hovertemplate": "City=uni<br>Humidity=%{marker.size}<br>Lat=%{lat}<br>Lng=%{lon}<br>Hotel Name=%{customdata[0]}<br>Country=%{customdata[1]}<extra></extra>",
         "lat": [
          57.7535
         ],
         "legendgroup": "uni",
         "lon": [
          51.4923
         ],
         "marker": {
          "color": "#636efa",
          "size": [
           100
          ],
          "sizemode": "area",
          "sizeref": 2.0408163265306123,
          "symbol": "circle"
         },
         "mode": "markers",
         "name": "uni",
         "showlegend": true,
         "type": "scattergeo"
        },
        {
         "customdata": [
          [
           "Montemor",
           "PT"
          ]
         ],
         "geo": "geo",
         "hovertemplate": "City=montemor-o-novo<br>Humidity=%{marker.size}<br>Lat=%{lat}<br>Lng=%{lon}<br>Hotel Name=%{customdata[0]}<br>Country=%{customdata[1]}<extra></extra>",
         "lat": [
          38.6481
         ],
         "legendgroup": "montemor-o-novo",
         "lon": [
          -8.2145
         ],
         "marker": {
          "color": "#EF553B",
          "size": [
           75
          ],
          "sizemode": "area",
          "sizeref": 2.0408163265306123,
          "symbol": "circle"
         },
         "mode": "markers",
         "name": "montemor-o-novo",
         "showlegend": true,
         "type": "scattergeo"
        },
        {
         "customdata": [
          [
           "Kent Otel",
           "TR"
          ]
         ],
         "geo": "geo",
         "hovertemplate": "City=erzincan<br>Humidity=%{marker.size}<br>Lat=%{lat}<br>Lng=%{lon}<br>Hotel Name=%{customdata[0]}<br>Country=%{customdata[1]}<extra></extra>",
         "lat": [
          39.75
         ],
         "legendgroup": "erzincan",
         "lon": [
          39.5
         ],
         "marker": {
          "color": "#00cc96",
          "size": [
           92
          ],
          "sizemode": "area",
          "sizeref": 2.0408163265306123,
          "symbol": "circle"
         },
         "mode": "markers",
         "name": "erzincan",
         "showlegend": true,
         "type": "scattergeo"
        },
        {
         "customdata": [
          [
           "Cajun Country Inn",
           "US"
          ]
         ],
         "geo": "geo",
         "hovertemplate": "City=ascension<br>Humidity=%{marker.size}<br>Lat=%{lat}<br>Lng=%{lon}<br>Hotel Name=%{customdata[0]}<br>Country=%{customdata[1]}<extra></extra>",
         "lat": [
          30.2169
         ],
         "legendgroup": "ascension",
         "lon": [
          -90.9001
         ],
         "marker": {
          "color": "#ab63fa",
          "size": [
           86
          ],
          "sizemode": "area",
          "sizeref": 2.0408163265306123,
          "symbol": "circle"
         },
         "mode": "markers",
         "name": "ascension",
         "showlegend": true,
         "type": "scattergeo"
        },
        {
         "customdata": [
          [
           "Hotel del Valle",
           "MX"
          ]
         ],
         "geo": "geo",
         "hovertemplate": "City=acapulco<br>Humidity=%{marker.size}<br>Lat=%{lat}<br>Lng=%{lon}<br>Hotel Name=%{customdata[0]}<br>Country=%{customdata[1]}<extra></extra>",
         "lat": [
          16.8634
         ],
         "legendgroup": "acapulco",
         "lon": [
          -99.8901
         ],
         "marker": {
          "color": "#FFA15A",
          "size": [
           73
          ],
          "sizemode": "area",
          "sizeref": 2.0408163265306123,
          "symbol": "circle"
         },
         "mode": "markers",
         "name": "acapulco",
         "showlegend": true,
         "type": "scattergeo"
        },
        {
         "customdata": [
          [
           "Гостиница Зори",
           "RU"
          ]
         ],
         "geo": "geo",
         "hovertemplate": "City=omsukchan<br>Humidity=%{marker.size}<br>Lat=%{lat}<br>Lng=%{lon}<br>Hotel Name=%{customdata[0]}<br>Country=%{customdata[1]}<extra></extra>",
         "lat": [
          62.5333
         ],
         "legendgroup": "omsukchan",
         "lon": [
          155.8
         ],
         "marker": {
          "color": "#19d3f3",
          "size": [
           96
          ],
          "sizemode": "area",
          "sizeref": 2.0408163265306123,
          "symbol": "circle"
         },
         "mode": "markers",
         "name": "omsukchan",
         "showlegend": true,
         "type": "scattergeo"
        },
        {
         "customdata": [
          [
           "No hotel found",
           "CN"
          ]
         ],
         "geo": "geo",
         "hovertemplate": "City=helong<br>Humidity=%{marker.size}<br>Lat=%{lat}<br>Lng=%{lon}<br>Hotel Name=%{customdata[0]}<br>Country=%{customdata[1]}<extra></extra>",
         "lat": [
          42.5397
         ],
         "legendgroup": "helong",
         "lon": [
          128.9972
         ],
         "marker": {
          "color": "#FF6692",
          "size": [
           64
          ],
          "sizemode": "area",
          "sizeref": 2.0408163265306123,
          "symbol": "circle"
         },
         "mode": "markers",
         "name": "helong",
         "showlegend": true,
         "type": "scattergeo"
        },
        {
         "customdata": [
          [
           "No hotel found",
           "TD"
          ]
         ],
         "geo": "geo",
         "hovertemplate": "City=ati<br>Humidity=%{marker.size}<br>Lat=%{lat}<br>Lng=%{lon}<br>Hotel Name=%{customdata[0]}<br>Country=%{customdata[1]}<extra></extra>",
         "lat": [
          13.2154
         ],
         "legendgroup": "ati",
         "lon": [
          18.3353
         ],
         "marker": {
          "color": "#B6E880",
          "size": [
           14
          ],
          "sizemode": "area",
          "sizeref": 2.0408163265306123,
          "symbol": "circle"
         },
         "mode": "markers",
         "name": "ati",
         "showlegend": true,
         "type": "scattergeo"
        },
        {
         "customdata": [
          [
           "Вага",
           "RU"
          ]
         ],
         "geo": "geo",
         "hovertemplate": "City=verkhovazhye<br>Humidity=%{marker.size}<br>Lat=%{lat}<br>Lng=%{lon}<br>Hotel Name=%{customdata[0]}<br>Country=%{customdata[1]}<extra></extra>",
         "lat": [
          60.7472
         ],
         "legendgroup": "verkhovazhye",
         "lon": [
          42.0465
         ],
         "marker": {
          "color": "#FF97FF",
          "size": [
           95
          ],
          "sizemode": "area",
          "sizeref": 2.0408163265306123,
          "symbol": "circle"
         },
         "mode": "markers",
         "name": "verkhovazhye",
         "showlegend": true,
         "type": "scattergeo"
        },
        {
         "customdata": [
          [
           "Caja Arequipa",
           "PE"
          ]
         ],
         "geo": "geo",
         "hovertemplate": "City=camana<br>Humidity=%{marker.size}<br>Lat=%{lat}<br>Lng=%{lon}<br>Hotel Name=%{customdata[0]}<br>Country=%{customdata[1]}<extra></extra>",
         "lat": [
          -16.6228
         ],
         "legendgroup": "camana",
         "lon": [
          -72.7111
         ],
         "marker": {
          "color": "#FECB52",
          "size": [
           82
          ],
          "sizemode": "area",
          "sizeref": 2.0408163265306123,
          "symbol": "circle"
         },
         "mode": "markers",
         "name": "camana",
         "showlegend": true,
         "type": "scattergeo"
        },
        {
         "customdata": [
          [
           "No hotel found",
           "KZ"
          ]
         ],
         "geo": "geo",
         "hovertemplate": "City=shubarkuduk<br>Humidity=%{marker.size}<br>Lat=%{lat}<br>Lng=%{lon}<br>Hotel Name=%{customdata[0]}<br>Country=%{customdata[1]}<extra></extra>",
         "lat": [
          49.1447
         ],
         "legendgroup": "shubarkuduk",
         "lon": [
          56.4872
         ],
         "marker": {
          "color": "#636efa",
          "size": [
           91
          ],
          "sizemode": "area",
          "sizeref": 2.0408163265306123,
          "symbol": "circle"
         },
         "mode": "markers",
         "name": "shubarkuduk",
         "showlegend": true,
         "type": "scattergeo"
        },
        {
         "customdata": [
          [
           "Lofty Fig Villas",
           "BS"
          ]
         ],
         "geo": "geo",
         "hovertemplate": "City=marsh harbour<br>Humidity=%{marker.size}<br>Lat=%{lat}<br>Lng=%{lon}<br>Hotel Name=%{customdata[0]}<br>Country=%{customdata[1]}<extra></extra>",
         "lat": [
          26.5412
         ],
         "legendgroup": "marsh harbour",
         "lon": [
          -77.0636
         ],
         "marker": {
          "color": "#EF553B",
          "size": [
           81
          ],
          "sizemode": "area",
          "sizeref": 2.0408163265306123,
          "symbol": "circle"
         },
         "mode": "markers",
         "name": "marsh harbour",
         "showlegend": true,
         "type": "scattergeo"
        },
        {
         "customdata": [
          [
           "Hotel Mi Choacan",
           "PE"
          ]
         ],
         "geo": "geo",
         "hovertemplate": "City=hualmay<br>Humidity=%{marker.size}<br>Lat=%{lat}<br>Lng=%{lon}<br>Hotel Name=%{customdata[0]}<br>Country=%{customdata[1]}<extra></extra>",
         "lat": [
          -11.0964
         ],
         "legendgroup": "hualmay",
         "lon": [
          -77.6139
         ],
         "marker": {
          "color": "#00cc96",
          "size": [
           79
          ],
          "sizemode": "area",
          "sizeref": 2.0408163265306123,
          "symbol": "circle"
         },
         "mode": "markers",
         "name": "hualmay",
         "showlegend": true,
         "type": "scattergeo"
        },
        {
         "customdata": [
          [
           "Hotel Terraço",
           "BR"
          ]
         ],
         "geo": "geo",
         "hovertemplate": "City=sao felix do xingu<br>Humidity=%{marker.size}<br>Lat=%{lat}<br>Lng=%{lon}<br>Hotel Name=%{customdata[0]}<br>Country=%{customdata[1]}<extra></extra>",
         "lat": [
          -6.6447
         ],
         "legendgroup": "sao felix do xingu",
         "lon": [
          -51.995
         ],
         "marker": {
          "color": "#ab63fa",
          "size": [
           98
          ],
          "sizemode": "area",
          "sizeref": 2.0408163265306123,
          "symbol": "circle"
         },
         "mode": "markers",
         "name": "sao felix do xingu",
         "showlegend": true,
         "type": "scattergeo"
        },
        {
         "customdata": [
          [
           "No hotel found",
           "FO"
          ]
         ],
         "geo": "geo",
         "hovertemplate": "City=vestmanna<br>Humidity=%{marker.size}<br>Lat=%{lat}<br>Lng=%{lon}<br>Hotel Name=%{customdata[0]}<br>Country=%{customdata[1]}<extra></extra>",
         "lat": [
          62.1564
         ],
         "legendgroup": "vestmanna",
         "lon": [
          -7.1664
         ],
         "marker": {
          "color": "#FFA15A",
          "size": [
           100
          ],
          "sizemode": "area",
          "sizeref": 2.0408163265306123,
          "symbol": "circle"
         },
         "mode": "markers",
         "name": "vestmanna",
         "showlegend": true,
         "type": "scattergeo"
        },
        {
         "customdata": [
          [
           "Tropic Hotel",
           "RE"
          ]
         ],
         "geo": "geo",
         "hovertemplate": "City=saint-pierre<br>Humidity=%{marker.size}<br>Lat=%{lat}<br>Lng=%{lon}<br>Hotel Name=%{customdata[0]}<br>Country=%{customdata[1]}<extra></extra>",
         "lat": [
          -21.3393
         ],
         "legendgroup": "saint-pierre",
         "lon": [
          55.4781
         ],
         "marker": {
          "color": "#19d3f3",
          "size": [
           88
          ],
          "sizemode": "area",
          "sizeref": 2.0408163265306123,
          "symbol": "circle"
         },
         "mode": "markers",
         "name": "saint-pierre",
         "showlegend": true,
         "type": "scattergeo"
        },
        {
         "customdata": [
          [
           "힐튼호텔 부산",
           "KR"
          ]
         ],
         "geo": "geo",
         "hovertemplate": "City=kijang<br>Humidity=%{marker.size}<br>Lat=%{lat}<br>Lng=%{lon}<br>Hotel Name=%{customdata[0]}<br>Country=%{customdata[1]}<extra></extra>",
         "lat": [
          35.2442
         ],
         "legendgroup": "kijang",
         "lon": [
          129.2139
         ],
         "marker": {
          "color": "#FF6692",
          "size": [
           42
          ],
          "sizemode": "area",
          "sizeref": 2.0408163265306123,
          "symbol": "circle"
         },
         "mode": "markers",
         "name": "kijang",
         "showlegend": true,
         "type": "scattergeo"
        },
        {
         "customdata": [
          [
           "No hotel found",
           "RU"
          ]
         ],
         "geo": "geo",
         "hovertemplate": "City=lokosovo<br>Humidity=%{marker.size}<br>Lat=%{lat}<br>Lng=%{lon}<br>Hotel Name=%{customdata[0]}<br>Country=%{customdata[1]}<extra></extra>",
         "lat": [
          61.1333
         ],
         "legendgroup": "lokosovo",
         "lon": [
          74.8167
         ],
         "marker": {
          "color": "#B6E880",
          "size": [
           99
          ],
          "sizemode": "area",
          "sizeref": 2.0408163265306123,
          "symbol": "circle"
         },
         "mode": "markers",
         "name": "lokosovo",
         "showlegend": true,
         "type": "scattergeo"
        },
        {
         "customdata": [
          [
           "Hotel Usaha",
           "MY"
          ]
         ],
         "geo": "geo",
         "hovertemplate": "City=gua musang<br>Humidity=%{marker.size}<br>Lat=%{lat}<br>Lng=%{lon}<br>Hotel Name=%{customdata[0]}<br>Country=%{customdata[1]}<extra></extra>",
         "lat": [
          4.8823
         ],
         "legendgroup": "gua musang",
         "lon": [
          101.9644
         ],
         "marker": {
          "color": "#FF97FF",
          "size": [
           63
          ],
          "sizemode": "area",
          "sizeref": 2.0408163265306123,
          "symbol": "circle"
         },
         "mode": "markers",
         "name": "gua musang",
         "showlegend": true,
         "type": "scattergeo"
        },
        {
         "customdata": [
          [
           "No hotel found",
           "PL"
          ]
         ],
         "geo": "geo",
         "hovertemplate": "City=lomza<br>Humidity=%{marker.size}<br>Lat=%{lat}<br>Lng=%{lon}<br>Hotel Name=%{customdata[0]}<br>Country=%{customdata[1]}<extra></extra>",
         "lat": [
          53.1781
         ],
         "legendgroup": "lomza",
         "lon": [
          22.0593
         ],
         "marker": {
          "color": "#FECB52",
          "size": [
           89
          ],
          "sizemode": "area",
          "sizeref": 2.0408163265306123,
          "symbol": "circle"
         },
         "mode": "markers",
         "name": "lomza",
         "showlegend": true,
         "type": "scattergeo"
        },
        {
         "customdata": [
          [
           "Alto Verde",
           "AR"
          ]
         ],
         "geo": "geo",
         "hovertemplate": "City=san ramon de la nueva oran<br>Humidity=%{marker.size}<br>Lat=%{lat}<br>Lng=%{lon}<br>Hotel Name=%{customdata[0]}<br>Country=%{customdata[1]}<extra></extra>",
         "lat": [
          -23.1322
         ],
         "legendgroup": "san ramon de la nueva oran",
         "lon": [
          -64.32600000000001
         ],
         "marker": {
          "color": "#636efa",
          "size": [
           84
          ],
          "sizemode": "area",
          "sizeref": 2.0408163265306123,
          "symbol": "circle"
         },
         "mode": "markers",
         "name": "san ramon de la nueva oran",
         "showlegend": true,
         "type": "scattergeo"
        },
        {
         "customdata": [
          [
           "No hotel found",
           "IN"
          ]
         ],
         "geo": "geo",
         "hovertemplate": "City=pennagaram<br>Humidity=%{marker.size}<br>Lat=%{lat}<br>Lng=%{lon}<br>Hotel Name=%{customdata[0]}<br>Country=%{customdata[1]}<extra></extra>",
         "lat": [
          12.1333
         ],
         "legendgroup": "pennagaram",
         "lon": [
          77.9
         ],
         "marker": {
          "color": "#EF553B",
          "size": [
           67
          ],
          "sizemode": "area",
          "sizeref": 2.0408163265306123,
          "symbol": "circle"
         },
         "mode": "markers",
         "name": "pennagaram",
         "showlegend": true,
         "type": "scattergeo"
        },
        {
         "customdata": [
          [
           "Beachfront Resort",
           "VU"
          ]
         ],
         "geo": "geo",
         "hovertemplate": "City=luganville<br>Humidity=%{marker.size}<br>Lat=%{lat}<br>Lng=%{lon}<br>Hotel Name=%{customdata[0]}<br>Country=%{customdata[1]}<extra></extra>",
         "lat": [
          -15.5333
         ],
         "legendgroup": "luganville",
         "lon": [
          167.1667
         ],
         "marker": {
          "color": "#00cc96",
          "size": [
           72
          ],
          "sizemode": "area",
          "sizeref": 2.0408163265306123,
          "symbol": "circle"
         },
         "mode": "markers",
         "name": "luganville",
         "showlegend": true,
         "type": "scattergeo"
        },
        {
         "customdata": [
          [
           "Ramada by Wyndham Juneau",
           "US"
          ]
         ],
         "geo": "geo",
         "hovertemplate": "City=juneau<br>Humidity=%{marker.size}<br>Lat=%{lat}<br>Lng=%{lon}<br>Hotel Name=%{customdata[0]}<br>Country=%{customdata[1]}<extra></extra>",
         "lat": [
          58.3019
         ],
         "legendgroup": "juneau",
         "lon": [
          -134.4197
         ],
         "marker": {
          "color": "#ab63fa",
          "size": [
           97
          ],
          "sizemode": "area",
          "sizeref": 2.0408163265306123,
          "symbol": "circle"
         },
         "mode": "markers",
         "name": "juneau",
         "showlegend": true,
         "type": "scattergeo"
        },
        {
         "customdata": [
          [
           "Hotel Savoy",
           "MZ"
          ]
         ],
         "geo": "geo",
         "hovertemplate": "City=beira<br>Humidity=%{marker.size}<br>Lat=%{lat}<br>Lng=%{lon}<br>Hotel Name=%{customdata[0]}<br>Country=%{customdata[1]}<extra></extra>",
         "lat": [
          -19.8436
         ],
         "legendgroup": "beira",
         "lon": [
          34.8389
         ],
         "marker": {
          "color": "#FFA15A",
          "size": [
           86
          ],
          "sizemode": "area",
          "sizeref": 2.0408163265306123,
          "symbol": "circle"
         },
         "mode": "markers",
         "name": "beira",
         "showlegend": true,
         "type": "scattergeo"
        },
        {
         "customdata": [
          [
           "Hotel Membramo Marina",
           "ID"
          ]
         ],
         "geo": "geo",
         "hovertemplate": "City=sorong<br>Humidity=%{marker.size}<br>Lat=%{lat}<br>Lng=%{lon}<br>Hotel Name=%{customdata[0]}<br>Country=%{customdata[1]}<extra></extra>",
         "lat": [
          -0.8833
         ],
         "legendgroup": "sorong",
         "lon": [
          131.25
         ],
         "marker": {
          "color": "#19d3f3",
          "size": [
           71
          ],
          "sizemode": "area",
          "sizeref": 2.0408163265306123,
          "symbol": "circle"
         },
         "mode": "markers",
         "name": "sorong",
         "showlegend": true,
         "type": "scattergeo"
        },
        {
         "customdata": [
          [
           "No hotel found",
           "UY"
          ]
         ],
         "geo": "geo",
         "hovertemplate": "City=pando<br>Humidity=%{marker.size}<br>Lat=%{lat}<br>Lng=%{lon}<br>Hotel Name=%{customdata[0]}<br>Country=%{customdata[1]}<extra></extra>",
         "lat": [
          -34.7167
         ],
         "legendgroup": "pando",
         "lon": [
          -55.95
         ],
         "marker": {
          "color": "#FF6692",
          "size": [
           73
          ],
          "sizemode": "area",
          "sizeref": 2.0408163265306123,
          "symbol": "circle"
         },
         "mode": "markers",
         "name": "pando",
         "showlegend": true,
         "type": "scattergeo"
        },
        {
         "customdata": [
          [
           "SONG HIEN HOTEL",
           "VN"
          ]
         ],
         "geo": "geo",
         "hovertemplate": "City=cao bang<br>Humidity=%{marker.size}<br>Lat=%{lat}<br>Lng=%{lon}<br>Hotel Name=%{customdata[0]}<br>Country=%{customdata[1]}<extra></extra>",
         "lat": [
          22.6667
         ],
         "legendgroup": "cao bang",
         "lon": [
          106.25
         ],
         "marker": {
          "color": "#B6E880",
          "size": [
           36
          ],
          "sizemode": "area",
          "sizeref": 2.0408163265306123,
          "symbol": "circle"
         },
         "mode": "markers",
         "name": "cao bang",
         "showlegend": true,
         "type": "scattergeo"
        },
        {
         "customdata": [
          [
           "Silvestre Praia Hotel",
           "BR"
          ]
         ],
         "geo": "geo",
         "hovertemplate": "City=imbituba<br>Humidity=%{marker.size}<br>Lat=%{lat}<br>Lng=%{lon}<br>Hotel Name=%{customdata[0]}<br>Country=%{customdata[1]}<extra></extra>",
         "lat": [
          -28.24
         ],
         "legendgroup": "imbituba",
         "lon": [
          -48.6703
         ],
         "marker": {
          "color": "#FF97FF",
          "size": [
           88
          ],
          "sizemode": "area",
          "sizeref": 2.0408163265306123,
          "symbol": "circle"
         },
         "mode": "markers",
         "name": "imbituba",
         "showlegend": true,
         "type": "scattergeo"
        },
        {
         "customdata": [
          [
           "No hotel found",
           "RU"
          ]
         ],
         "geo": "geo",
         "hovertemplate": "City=srednekolymsk<br>Humidity=%{marker.size}<br>Lat=%{lat}<br>Lng=%{lon}<br>Hotel Name=%{customdata[0]}<br>Country=%{customdata[1]}<extra></extra>",
         "lat": [
          67.45
         ],
         "legendgroup": "srednekolymsk",
         "lon": [
          153.6833
         ],
         "marker": {
          "color": "#FECB52",
          "size": [
           94
          ],
          "sizemode": "area",
          "sizeref": 2.0408163265306123,
          "symbol": "circle"
         },
         "mode": "markers",
         "name": "srednekolymsk",
         "showlegend": true,
         "type": "scattergeo"
        },
        {
         "customdata": [
          [
           "No hotel found",
           "ET"
          ]
         ],
         "geo": "geo",
         "hovertemplate": "City=deder<br>Humidity=%{marker.size}<br>Lat=%{lat}<br>Lng=%{lon}<br>Hotel Name=%{customdata[0]}<br>Country=%{customdata[1]}<extra></extra>",
         "lat": [
          9.3167
         ],
         "legendgroup": "deder",
         "lon": [
          41.45
         ],
         "marker": {
          "color": "#636efa",
          "size": [
           60
          ],
          "sizemode": "area",
          "sizeref": 2.0408163265306123,
          "symbol": "circle"
         },
         "mode": "markers",
         "name": "deder",
         "showlegend": true,
         "type": "scattergeo"
        },
        {
         "customdata": [
          [
           "WangJiangBang",
           "CN"
          ]
         ],
         "geo": "geo",
         "hovertemplate": "City=xinyu<br>Humidity=%{marker.size}<br>Lat=%{lat}<br>Lng=%{lon}<br>Hotel Name=%{customdata[0]}<br>Country=%{customdata[1]}<extra></extra>",
         "lat": [
          27.8043
         ],
         "legendgroup": "xinyu",
         "lon": [
          114.9334
         ],
         "marker": {
          "color": "#EF553B",
          "size": [
           42
          ],
          "sizemode": "area",
          "sizeref": 2.0408163265306123,
          "symbol": "circle"
         },
         "mode": "markers",
         "name": "xinyu",
         "showlegend": true,
         "type": "scattergeo"
        },
        {
         "customdata": [
          [
           "No hotel found",
           "US"
          ]
         ],
         "geo": "geo",
         "hovertemplate": "City=marquette<br>Humidity=%{marker.size}<br>Lat=%{lat}<br>Lng=%{lon}<br>Hotel Name=%{customdata[0]}<br>Country=%{customdata[1]}<extra></extra>",
         "lat": [
          46.5333
         ],
         "legendgroup": "marquette",
         "lon": [
          -87.6335
         ],
         "marker": {
          "color": "#00cc96",
          "size": [
           87
          ],
          "sizemode": "area",
          "sizeref": 2.0408163265306123,
          "symbol": "circle"
         },
         "mode": "markers",
         "name": "marquette",
         "showlegend": true,
         "type": "scattergeo"
        },
        {
         "customdata": [
          [
           "Atlantis Hotel",
           "BB"
          ]
         ],
         "geo": "geo",
         "hovertemplate": "City=bathsheba<br>Humidity=%{marker.size}<br>Lat=%{lat}<br>Lng=%{lon}<br>Hotel Name=%{customdata[0]}<br>Country=%{customdata[1]}<extra></extra>",
         "lat": [
          13.2167
         ],
         "legendgroup": "bathsheba",
         "lon": [
          -59.5167
         ],
         "marker": {
          "color": "#ab63fa",
          "size": [
           83
          ],
          "sizemode": "area",
          "sizeref": 2.0408163265306123,
          "symbol": "circle"
         },
         "mode": "markers",
         "name": "bathsheba",
         "showlegend": true,
         "type": "scattergeo"
        },
        {
         "customdata": [
          [
           "Гостиница",
           "RU"
          ]
         ],
         "geo": "geo",
         "hovertemplate": "City=izhma<br>Humidity=%{marker.size}<br>Lat=%{lat}<br>Lng=%{lon}<br>Hotel Name=%{customdata[0]}<br>Country=%{customdata[1]}<extra></extra>",
         "lat": [
          65.0083
         ],
         "legendgroup": "izhma",
         "lon": [
          53.9113
         ],
         "marker": {
          "color": "#FFA15A",
          "size": [
           92
          ],
          "sizemode": "area",
          "sizeref": 2.0408163265306123,
          "symbol": "circle"
         },
         "mode": "markers",
         "name": "izhma",
         "showlegend": true,
         "type": "scattergeo"
        },
        {
         "customdata": [
          [
           "Hotel Gondwana",
           "NC"
          ]
         ],
         "geo": "geo",
         "hovertemplate": "City=noumea<br>Humidity=%{marker.size}<br>Lat=%{lat}<br>Lng=%{lon}<br>Hotel Name=%{customdata[0]}<br>Country=%{customdata[1]}<extra></extra>",
         "lat": [
          -22.2763
         ],
         "legendgroup": "noumea",
         "lon": [
          166.4572
         ],
         "marker": {
          "color": "#19d3f3",
          "size": [
           89
          ],
          "sizemode": "area",
          "sizeref": 2.0408163265306123,
          "symbol": "circle"
         },
         "mode": "markers",
         "name": "noumea",
         "showlegend": true,
         "type": "scattergeo"
        },
        {
         "customdata": [
          [
           "North Road Inn",
           "US"
          ]
         ],
         "geo": "geo",
         "hovertemplate": "City=los alamos<br>Humidity=%{marker.size}<br>Lat=%{lat}<br>Lng=%{lon}<br>Hotel Name=%{customdata[0]}<br>Country=%{customdata[1]}<extra></extra>",
         "lat": [
          35.8881
         ],
         "legendgroup": "los alamos",
         "lon": [
          -106.307
         ],
         "marker": {
          "color": "#FF6692",
          "size": [
           65
          ],
          "sizemode": "area",
          "sizeref": 2.0408163265306123,
          "symbol": "circle"
         },
         "mode": "markers",
         "name": "los alamos",
         "showlegend": true,
         "type": "scattergeo"
        },
        {
         "customdata": [
          [
           "Ягодное",
           "RU"
          ]
         ],
         "geo": "geo",
         "hovertemplate": "City=yagodnoye<br>Humidity=%{marker.size}<br>Lat=%{lat}<br>Lng=%{lon}<br>Hotel Name=%{customdata[0]}<br>Country=%{customdata[1]}<extra></extra>",
         "lat": [
          62.55
         ],
         "legendgroup": "yagodnoye",
         "lon": [
          149.6667
         ],
         "marker": {
          "color": "#B6E880",
          "size": [
           98
          ],
          "sizemode": "area",
          "sizeref": 2.0408163265306123,
          "symbol": "circle"
         },
         "mode": "markers",
         "name": "yagodnoye",
         "showlegend": true,
         "type": "scattergeo"
        },
        {
         "customdata": [
          [
           "Khovd hotel",
           "MN"
          ]
         ],
         "geo": "geo",
         "hovertemplate": "City=hovd<br>Humidity=%{marker.size}<br>Lat=%{lat}<br>Lng=%{lon}<br>Hotel Name=%{customdata[0]}<br>Country=%{customdata[1]}<extra></extra>",
         "lat": [
          48.0056
         ],
         "legendgroup": "hovd",
         "lon": [
          91.6419
         ],
         "marker": {
          "color": "#FF97FF",
          "size": [
           65
          ],
          "sizemode": "area",
          "sizeref": 2.0408163265306123,
          "symbol": "circle"
         },
         "mode": "markers",
         "name": "hovd",
         "showlegend": true,
         "type": "scattergeo"
        },
        {
         "customdata": [
          [
           "No hotel found",
           "TR"
          ]
         ],
         "geo": "geo",
         "hovertemplate": "City=ordu<br>Humidity=%{marker.size}<br>Lat=%{lat}<br>Lng=%{lon}<br>Hotel Name=%{customdata[0]}<br>Country=%{customdata[1]}<extra></extra>",
         "lat": [
          40.9086
         ],
         "legendgroup": "ordu",
         "lon": [
          37.6845
         ],
         "marker": {
          "color": "#FECB52",
          "size": [
           93
          ],
          "sizemode": "area",
          "sizeref": 2.0408163265306123,
          "symbol": "circle"
         },
         "mode": "markers",
         "name": "ordu",
         "showlegend": true,
         "type": "scattergeo"
        },
        {
         "customdata": [
          [
           "Hotel \"Drei Kreuz\"",
           "IT"
          ]
         ],
         "geo": "geo",
         "hovertemplate": "City=lasa<br>Humidity=%{marker.size}<br>Lat=%{lat}<br>Lng=%{lon}<br>Hotel Name=%{customdata[0]}<br>Country=%{customdata[1]}<extra></extra>",
         "lat": [
          46.6166
         ],
         "legendgroup": "lasa",
         "lon": [
          10.7002
         ],
         "marker": {
          "color": "#636efa",
          "size": [
           95
          ],
          "sizemode": "area",
          "sizeref": 2.0408163265306123,
          "symbol": "circle"
         },
         "mode": "markers",
         "name": "lasa",
         "showlegend": true,
         "type": "scattergeo"
        },
        {
         "customdata": [
          [
           "Hotel Dazzler Tower",
           "AR"
          ]
         ],
         "geo": "geo",
         "hovertemplate": "City=buenos aires<br>Humidity=%{marker.size}<br>Lat=%{lat}<br>Lng=%{lon}<br>Hotel Name=%{customdata[0]}<br>Country=%{customdata[1]}<extra></extra>",
         "lat": [
          -34.6132
         ],
         "legendgroup": "buenos aires",
         "lon": [
          -58.3772
         ],
         "marker": {
          "color": "#EF553B",
          "size": [
           57
          ],
          "sizemode": "area",
          "sizeref": 2.0408163265306123,
          "symbol": "circle"
         },
         "mode": "markers",
         "name": "buenos aires",
         "showlegend": true,
         "type": "scattergeo"
        },
        {
         "customdata": [
          [
           "Север",
           "RU"
          ]
         ],
         "geo": "geo",
         "hovertemplate": "City=konakovo<br>Humidity=%{marker.size}<br>Lat=%{lat}<br>Lng=%{lon}<br>Hotel Name=%{customdata[0]}<br>Country=%{customdata[1]}<extra></extra>",
         "lat": [
          56.7
         ],
         "legendgroup": "konakovo",
         "lon": [
          36.7667
         ],
         "marker": {
          "color": "#00cc96",
          "size": [
           93
          ],
          "sizemode": "area",
          "sizeref": 2.0408163265306123,
          "symbol": "circle"
         },
         "mode": "markers",
         "name": "konakovo",
         "showlegend": true,
         "type": "scattergeo"
        },
        {
         "customdata": [
          [
           "百时快捷酒店红山店",
           "CN"
          ]
         ],
         "geo": "geo",
         "hovertemplate": "City=urumqi<br>Humidity=%{marker.size}<br>Lat=%{lat}<br>Lng=%{lon}<br>Hotel Name=%{customdata[0]}<br>Country=%{customdata[1]}<extra></extra>",
         "lat": [
          43.801
         ],
         "legendgroup": "urumqi",
         "lon": [
          87.6005
         ],
         "marker": {
          "color": "#ab63fa",
          "size": [
           84
          ],
          "sizemode": "area",
          "sizeref": 2.0408163265306123,
          "symbol": "circle"
         },
         "mode": "markers",
         "name": "urumqi",
         "showlegend": true,
         "type": "scattergeo"
        },
        {
         "customdata": [
          [
           "No hotel found",
           "IN"
          ]
         ],
         "geo": "geo",
         "hovertemplate": "City=phek<br>Humidity=%{marker.size}<br>Lat=%{lat}<br>Lng=%{lon}<br>Hotel Name=%{customdata[0]}<br>Country=%{customdata[1]}<extra></extra>",
         "lat": [
          25.6667
         ],
         "legendgroup": "phek",
         "lon": [
          94.5
         ],
         "marker": {
          "color": "#FFA15A",
          "size": [
           37
          ],
          "sizemode": "area",
          "sizeref": 2.0408163265306123,
          "symbol": "circle"
         },
         "mode": "markers",
         "name": "phek",
         "showlegend": true,
         "type": "scattergeo"
        },
        {
         "customdata": [
          [
           "Château Logue",
           "CA"
          ]
         ],
         "geo": "geo",
         "hovertemplate": "City=maniwaki<br>Humidity=%{marker.size}<br>Lat=%{lat}<br>Lng=%{lon}<br>Hotel Name=%{customdata[0]}<br>Country=%{customdata[1]}<extra></extra>",
         "lat": [
          46.3834
         ],
         "legendgroup": "maniwaki",
         "lon": [
          -75.96600000000001
         ],
         "marker": {
          "color": "#19d3f3",
          "size": [
           80
          ],
          "sizemode": "area",
          "sizeref": 2.0408163265306123,
          "symbol": "circle"
         },
         "mode": "markers",
         "name": "maniwaki",
         "showlegend": true,
         "type": "scattergeo"
        },
        {
         "customdata": [
          [
           "No hotel found",
           "US"
          ]
         ],
         "geo": "geo",
         "hovertemplate": "City=palmer<br>Humidity=%{marker.size}<br>Lat=%{lat}<br>Lng=%{lon}<br>Hotel Name=%{customdata[0]}<br>Country=%{customdata[1]}<extra></extra>",
         "lat": [
          42.1584
         ],
         "legendgroup": "palmer",
         "lon": [
          -72.3287
         ],
         "marker": {
          "color": "#FF6692",
          "size": [
           83
          ],
          "sizemode": "area",
          "sizeref": 2.0408163265306123,
          "symbol": "circle"
         },
         "mode": "markers",
         "name": "palmer",
         "showlegend": true,
         "type": "scattergeo"
        },
        {
         "customdata": [
          [
           "Chez Lily",
           "FR"
          ]
         ],
         "geo": "geo",
         "hovertemplate": "City=saint-francois<br>Humidity=%{marker.size}<br>Lat=%{lat}<br>Lng=%{lon}<br>Hotel Name=%{customdata[0]}<br>Country=%{customdata[1]}<extra></extra>",
         "lat": [
          46.4154
         ],
         "legendgroup": "saint-francois",
         "lon": [
          3.9054
         ],
         "marker": {
          "color": "#B6E880",
          "size": [
           87
          ],
          "sizemode": "area",
          "sizeref": 2.0408163265306123,
          "symbol": "circle"
         },
         "mode": "markers",
         "name": "saint-francois",
         "showlegend": true,
         "type": "scattergeo"
        },
        {
         "customdata": [
          [
           "Grand Hotel",
           "ET"
          ]
         ],
         "geo": "geo",
         "hovertemplate": "City=gambela<br>Humidity=%{marker.size}<br>Lat=%{lat}<br>Lng=%{lon}<br>Hotel Name=%{customdata[0]}<br>Country=%{customdata[1]}<extra></extra>",
         "lat": [
          8.25
         ],
         "legendgroup": "gambela",
         "lon": [
          34.5833
         ],
         "marker": {
          "color": "#FF97FF",
          "size": [
           36
          ],
          "sizemode": "area",
          "sizeref": 2.0408163265306123,
          "symbol": "circle"
         },
         "mode": "markers",
         "name": "gambela",
         "showlegend": true,
         "type": "scattergeo"
        },
        {
         "customdata": [
          [
           "Les Voyageurs",
           "FR"
          ]
         ],
         "geo": "geo",
         "hovertemplate": "City=plouzane<br>Humidity=%{marker.size}<br>Lat=%{lat}<br>Lng=%{lon}<br>Hotel Name=%{customdata[0]}<br>Country=%{customdata[1]}<extra></extra>",
         "lat": [
          48.3833
         ],
         "legendgroup": "plouzane",
         "lon": [
          -4.6167
         ],
         "marker": {
          "color": "#FECB52",
          "size": [
           81
          ],
          "sizemode": "area",
          "sizeref": 2.0408163265306123,
          "symbol": "circle"
         },
         "mode": "markers",
         "name": "plouzane",
         "showlegend": true,
         "type": "scattergeo"
        },
        {
         "customdata": [
          [
           "No hotel found",
           "RU"
          ]
         ],
         "geo": "geo",
         "hovertemplate": "City=arman<br>Humidity=%{marker.size}<br>Lat=%{lat}<br>Lng=%{lon}<br>Hotel Name=%{customdata[0]}<br>Country=%{customdata[1]}<extra></extra>",
         "lat": [
          59.7
         ],
         "legendgroup": "arman",
         "lon": [
          150.1667
         ],
         "marker": {
          "color": "#636efa",
          "size": [
           80
          ],
          "sizemode": "area",
          "sizeref": 2.0408163265306123,
          "symbol": "circle"
         },
         "mode": "markers",
         "name": "arman",
         "showlegend": true,
         "type": "scattergeo"
        },
        {
         "customdata": [
          [
           "Hotel Mision Palenque",
           "MX"
          ]
         ],
         "geo": "geo",
         "hovertemplate": "City=palenque<br>Humidity=%{marker.size}<br>Lat=%{lat}<br>Lng=%{lon}<br>Hotel Name=%{customdata[0]}<br>Country=%{customdata[1]}<extra></extra>",
         "lat": [
          17.5167
         ],
         "legendgroup": "palenque",
         "lon": [
          -91.9667
         ],
         "marker": {
          "color": "#EF553B",
          "size": [
           91
          ],
          "sizemode": "area",
          "sizeref": 2.0408163265306123,
          "symbol": "circle"
         },
         "mode": "markers",
         "name": "palenque",
         "showlegend": true,
         "type": "scattergeo"
        },
        {
         "customdata": [
          [
           "No hotel found",
           "PE"
          ]
         ],
         "geo": "geo",
         "hovertemplate": "City=la peca<br>Humidity=%{marker.size}<br>Lat=%{lat}<br>Lng=%{lon}<br>Hotel Name=%{customdata[0]}<br>Country=%{customdata[1]}<extra></extra>",
         "lat": [
          -5.6111
         ],
         "legendgroup": "la peca",
         "lon": [
          -78.435
         ],
         "marker": {
          "color": "#00cc96",
          "size": [
           84
          ],
          "sizemode": "area",
          "sizeref": 2.0408163265306123,
          "symbol": "circle"
         },
         "mode": "markers",
         "name": "la peca",
         "showlegend": true,
         "type": "scattergeo"
        },
        {
         "customdata": [
          [
           "No hotel found",
           "AU"
          ]
         ],
         "geo": "geo",
         "hovertemplate": "City=nelson bay<br>Humidity=%{marker.size}<br>Lat=%{lat}<br>Lng=%{lon}<br>Hotel Name=%{customdata[0]}<br>Country=%{customdata[1]}<extra></extra>",
         "lat": [
          -32.7167
         ],
         "legendgroup": "nelson bay",
         "lon": [
          152.15
         ],
         "marker": {
          "color": "#ab63fa",
          "size": [
           74
          ],
          "sizemode": "area",
          "sizeref": 2.0408163265306123,
          "symbol": "circle"
         },
         "mode": "markers",
         "name": "nelson bay",
         "showlegend": true,
         "type": "scattergeo"
        },
        {
         "customdata": [
          [
           "No hotel found",
           "BR"
          ]
         ],
         "geo": "geo",
         "hovertemplate": "City=corrente<br>Humidity=%{marker.size}<br>Lat=%{lat}<br>Lng=%{lon}<br>Hotel Name=%{customdata[0]}<br>Country=%{customdata[1]}<extra></extra>",
         "lat": [
          -3.7367
         ],
         "legendgroup": "corrente",
         "lon": [
          -43.3394
         ],
         "marker": {
          "color": "#FFA15A",
          "size": [
           99
          ],
          "sizemode": "area",
          "sizeref": 2.0408163265306123,
          "symbol": "circle"
         },
         "mode": "markers",
         "name": "corrente",
         "showlegend": true,
         "type": "scattergeo"
        },
        {
         "customdata": [
          [
           "No hotel found",
           "RU"
          ]
         ],
         "geo": "geo",
         "hovertemplate": "City=karpogory<br>Humidity=%{marker.size}<br>Lat=%{lat}<br>Lng=%{lon}<br>Hotel Name=%{customdata[0]}<br>Country=%{customdata[1]}<extra></extra>",
         "lat": [
          64.0019
         ],
         "legendgroup": "karpogory",
         "lon": [
          44.4451
         ],
         "marker": {
          "color": "#19d3f3",
          "size": [
           92
          ],
          "sizemode": "area",
          "sizeref": 2.0408163265306123,
          "symbol": "circle"
         },
         "mode": "markers",
         "name": "karpogory",
         "showlegend": true,
         "type": "scattergeo"
        },
        {
         "customdata": [
          [
           "No hotel found",
           "RU"
          ]
         ],
         "geo": "geo",
         "hovertemplate": "City=ladovskaya balka<br>Humidity=%{marker.size}<br>Lat=%{lat}<br>Lng=%{lon}<br>Hotel Name=%{customdata[0]}<br>Country=%{customdata[1]}<extra></extra>",
         "lat": [
          45.6297
         ],
         "legendgroup": "ladovskaya balka",
         "lon": [
          41.4023
         ],
         "marker": {
          "color": "#FF6692",
          "size": [
           76
          ],
          "sizemode": "area",
          "sizeref": 2.0408163265306123,
          "symbol": "circle"
         },
         "mode": "markers",
         "name": "ladovskaya balka",
         "showlegend": true,
         "type": "scattergeo"
        },
        {
         "customdata": [
          [
           "Lake View Hotel",
           "LK"
          ]
         ],
         "geo": "geo",
         "hovertemplate": "City=batticaloa<br>Humidity=%{marker.size}<br>Lat=%{lat}<br>Lng=%{lon}<br>Hotel Name=%{customdata[0]}<br>Country=%{customdata[1]}<extra></extra>",
         "lat": [
          7.7102
         ],
         "legendgroup": "batticaloa",
         "lon": [
          81.6924
         ],
         "marker": {
          "color": "#B6E880",
          "size": [
           76
          ],
          "sizemode": "area",
          "sizeref": 2.0408163265306123,
          "symbol": "circle"
         },
         "mode": "markers",
         "name": "batticaloa",
         "showlegend": true,
         "type": "scattergeo"
        },
        {
         "customdata": [
          [
           "Quality Hotel Grand",
           "NO"
          ]
         ],
         "geo": "geo",
         "hovertemplate": "City=kongsberg<br>Humidity=%{marker.size}<br>Lat=%{lat}<br>Lng=%{lon}<br>Hotel Name=%{customdata[0]}<br>Country=%{customdata[1]}<extra></extra>",
         "lat": [
          59.6652
         ],
         "legendgroup": "kongsberg",
         "lon": [
          9.6465
         ],
         "marker": {
          "color": "#FF97FF",
          "size": [
           7
          ],
          "sizemode": "area",
          "sizeref": 2.0408163265306123,
          "symbol": "circle"
         },
         "mode": "markers",
         "name": "kongsberg",
         "showlegend": true,
         "type": "scattergeo"
        },
        {
         "customdata": [
          [
           "Thon Hotel Narvik",
           "NO"
          ]
         ],
         "geo": "geo",
         "hovertemplate": "City=beisfjord<br>Humidity=%{marker.size}<br>Lat=%{lat}<br>Lng=%{lon}<br>Hotel Name=%{customdata[0]}<br>Country=%{customdata[1]}<extra></extra>",
         "lat": [
          68.3751
         ],
         "legendgroup": "beisfjord",
         "lon": [
          17.5988
         ],
         "marker": {
          "color": "#FECB52",
          "size": [
           91
          ],
          "sizemode": "area",
          "sizeref": 2.0408163265306123,
          "symbol": "circle"
         },
         "mode": "markers",
         "name": "beisfjord",
         "showlegend": true,
         "type": "scattergeo"
        },
        {
         "customdata": [
          [
           "No hotel found",
           "IQ"
          ]
         ],
         "geo": "geo",
         "hovertemplate": "City=hit<br>Humidity=%{marker.size}<br>Lat=%{lat}<br>Lng=%{lon}<br>Hotel Name=%{customdata[0]}<br>Country=%{customdata[1]}<extra></extra>",
         "lat": [
          33.6416
         ],
         "legendgroup": "hit",
         "lon": [
          42.8251
         ],
         "marker": {
          "color": "#636efa",
          "size": [
           44
          ],
          "sizemode": "area",
          "sizeref": 2.0408163265306123,
          "symbol": "circle"
         },
         "mode": "markers",
         "name": "hit",
         "showlegend": true,
         "type": "scattergeo"
        },
        {
         "customdata": [
          [
           "Hotel Eben-Ezer",
           "AR"
          ]
         ],
         "geo": "geo",
         "hovertemplate": "City=mendoza<br>Humidity=%{marker.size}<br>Lat=%{lat}<br>Lng=%{lon}<br>Hotel Name=%{customdata[0]}<br>Country=%{customdata[1]}<extra></extra>",
         "lat": [
          -32.8908
         ],
         "legendgroup": "mendoza",
         "lon": [
          -68.8272
         ],
         "marker": {
          "color": "#EF553B",
          "size": [
           54
          ],
          "sizemode": "area",
          "sizeref": 2.0408163265306123,
          "symbol": "circle"
         },
         "mode": "markers",
         "name": "mendoza",
         "showlegend": true,
         "type": "scattergeo"
        },
        {
         "customdata": [
          [
           "Executive House Suites Hotel & Conference Centre",
           "CA"
          ]
         ],
         "geo": "geo",
         "hovertemplate": "City=high level<br>Humidity=%{marker.size}<br>Lat=%{lat}<br>Lng=%{lon}<br>Hotel Name=%{customdata[0]}<br>Country=%{customdata[1]}<extra></extra>",
         "lat": [
          58.5169
         ],
         "legendgroup": "high level",
         "lon": [
          -117.13600000000001
         ],
         "marker": {
          "color": "#00cc96",
          "size": [
           92
          ],
          "sizemode": "area",
          "sizeref": 2.0408163265306123,
          "symbol": "circle"
         },
         "mode": "markers",
         "name": "high level",
         "showlegend": true,
         "type": "scattergeo"
        },
        {
         "customdata": [
          [
           "Сфера",
           "RU"
          ]
         ],
         "geo": "geo",
         "hovertemplate": "City=ekhabi<br>Humidity=%{marker.size}<br>Lat=%{lat}<br>Lng=%{lon}<br>Hotel Name=%{customdata[0]}<br>Country=%{customdata[1]}<extra></extra>",
         "lat": [
          53.5102
         ],
         "legendgroup": "ekhabi",
         "lon": [
          142.9671
         ],
         "marker": {
          "color": "#ab63fa",
          "size": [
           94
          ],
          "sizemode": "area",
          "sizeref": 2.0408163265306123,
          "symbol": "circle"
         },
         "mode": "markers",
         "name": "ekhabi",
         "showlegend": true,
         "type": "scattergeo"
        },
        {
         "customdata": [
          [
           "Pousada Oásis",
           "BR"
          ]
         ],
         "geo": "geo",
         "hovertemplate": "City=itarema<br>Humidity=%{marker.size}<br>Lat=%{lat}<br>Lng=%{lon}<br>Hotel Name=%{customdata[0]}<br>Country=%{customdata[1]}<extra></extra>",
         "lat": [
          -2.9248
         ],
         "legendgroup": "itarema",
         "lon": [
          -39.9167
         ],
         "marker": {
          "color": "#FFA15A",
          "size": [
           85
          ],
          "sizemode": "area",
          "sizeref": 2.0408163265306123,
          "symbol": "circle"
         },
         "mode": "markers",
         "name": "itarema",
         "showlegend": true,
         "type": "scattergeo"
        },
        {
         "customdata": [
          [
           "Meieriet",
           "NO"
          ]
         ],
         "geo": "geo",
         "hovertemplate": "City=vardo<br>Humidity=%{marker.size}<br>Lat=%{lat}<br>Lng=%{lon}<br>Hotel Name=%{customdata[0]}<br>Country=%{customdata[1]}<extra></extra>",
         "lat": [
          70.3705
         ],
         "legendgroup": "vardo",
         "lon": [
          31.1107
         ],
         "marker": {
          "color": "#19d3f3",
          "size": [
           80
          ],
          "sizemode": "area",
          "sizeref": 2.0408163265306123,
          "symbol": "circle"
         },
         "mode": "markers",
         "name": "vardo",
         "showlegend": true,
         "type": "scattergeo"
        },
        {
         "customdata": [
          [
           "Hostal Santa Rosa",
           "PE"
          ]
         ],
         "geo": "geo",
         "hovertemplate": "City=huarmey<br>Humidity=%{marker.size}<br>Lat=%{lat}<br>Lng=%{lon}<br>Hotel Name=%{customdata[0]}<br>Country=%{customdata[1]}<extra></extra>",
         "lat": [
          -10.0681
         ],
         "legendgroup": "huarmey",
         "lon": [
          -78.1522
         ],
         "marker": {
          "color": "#FF6692",
          "size": [
           80
          ],
          "sizemode": "area",
          "sizeref": 2.0408163265306123,
          "symbol": "circle"
         },
         "mode": "markers",
         "name": "huarmey",
         "showlegend": true,
         "type": "scattergeo"
        },
        {
         "customdata": [
          [
           "No hotel found",
           "TR"
          ]
         ],
         "geo": "geo",
         "hovertemplate": "City=cayeli<br>Humidity=%{marker.size}<br>Lat=%{lat}<br>Lng=%{lon}<br>Hotel Name=%{customdata[0]}<br>Country=%{customdata[1]}<extra></extra>",
         "lat": [
          41.0923
         ],
         "legendgroup": "cayeli",
         "lon": [
          40.7292
         ],
         "marker": {
          "color": "#B6E880",
          "size": [
           86
          ],
          "sizemode": "area",
          "sizeref": 2.0408163265306123,
          "symbol": "circle"
         },
         "mode": "markers",
         "name": "cayeli",
         "showlegend": true,
         "type": "scattergeo"
        },
        {
         "customdata": [
          [
           "Chez Julio",
           "GW"
          ]
         ],
         "geo": "geo",
         "hovertemplate": "City=bubaque<br>Humidity=%{marker.size}<br>Lat=%{lat}<br>Lng=%{lon}<br>Hotel Name=%{customdata[0]}<br>Country=%{customdata[1]}<extra></extra>",
         "lat": [
          11.2833
         ],
         "legendgroup": "bubaque",
         "lon": [
          -15.8333
         ],
         "marker": {
          "color": "#FF97FF",
          "size": [
           78
          ],
          "sizemode": "area",
          "sizeref": 2.0408163265306123,
          "symbol": "circle"
         },
         "mode": "markers",
         "name": "bubaque",
         "showlegend": true,
         "type": "scattergeo"
        },
        {
         "customdata": [
          [
           "No hotel found",
           "RU"
          ]
         ],
         "geo": "geo",
         "hovertemplate": "City=deputatskiy<br>Humidity=%{marker.size}<br>Lat=%{lat}<br>Lng=%{lon}<br>Hotel Name=%{customdata[0]}<br>Country=%{customdata[1]}<extra></extra>",
         "lat": [
          69.3
         ],
         "legendgroup": "deputatskiy",
         "lon": [
          139.9
         ],
         "marker": {
          "color": "#FECB52",
          "size": [
           100
          ],
          "sizemode": "area",
          "sizeref": 2.0408163265306123,
          "symbol": "circle"
         },
         "mode": "markers",
         "name": "deputatskiy",
         "showlegend": true,
         "type": "scattergeo"
        },
        {
         "customdata": [
          [
           "The Old Mount Gambier Gaol",
           "AU"
          ]
         ],
         "geo": "geo",
         "hovertemplate": "City=mount gambier<br>Humidity=%{marker.size}<br>Lat=%{lat}<br>Lng=%{lon}<br>Hotel Name=%{customdata[0]}<br>Country=%{customdata[1]}<extra></extra>",
         "lat": [
          -37.8333
         ],
         "legendgroup": "mount gambier",
         "lon": [
          140.7667
         ],
         "marker": {
          "color": "#636efa",
          "size": [
           45
          ],
          "sizemode": "area",
          "sizeref": 2.0408163265306123,
          "symbol": "circle"
         },
         "mode": "markers",
         "name": "mount gambier",
         "showlegend": true,
         "type": "scattergeo"
        },
        {
         "customdata": [
          [
           "No hotel found",
           "BW"
          ]
         ],
         "geo": "geo",
         "hovertemplate": "City=khudumelapye<br>Humidity=%{marker.size}<br>Lat=%{lat}<br>Lng=%{lon}<br>Hotel Name=%{customdata[0]}<br>Country=%{customdata[1]}<extra></extra>",
         "lat": [
          -23.8833
         ],
         "legendgroup": "khudumelapye",
         "lon": [
          24.75
         ],
         "marker": {
          "color": "#EF553B",
          "size": [
           67
          ],
          "sizemode": "area",
          "sizeref": 2.0408163265306123,
          "symbol": "circle"
         },
         "mode": "markers",
         "name": "khudumelapye",
         "showlegend": true,
         "type": "scattergeo"
        },
        {
         "customdata": [
          [
           "Hotel Park",
           "RO"
          ]
         ],
         "geo": "geo",
         "hovertemplate": "City=sfantu gheorghe<br>Humidity=%{marker.size}<br>Lat=%{lat}<br>Lng=%{lon}<br>Hotel Name=%{customdata[0]}<br>Country=%{customdata[1]}<extra></extra>",
         "lat": [
          45.8667
         ],
         "legendgroup": "sfantu gheorghe",
         "lon": [
          25.7833
         ],
         "marker": {
          "color": "#00cc96",
          "size": [
           86
          ],
          "sizemode": "area",
          "sizeref": 2.0408163265306123,
          "symbol": "circle"
         },
         "mode": "markers",
         "name": "sfantu gheorghe",
         "showlegend": true,
         "type": "scattergeo"
        },
        {
         "customdata": [
          [
           "Eurohotel",
           "ES"
          ]
         ],
         "geo": "geo",
         "hovertemplate": "City=mahon<br>Humidity=%{marker.size}<br>Lat=%{lat}<br>Lng=%{lon}<br>Hotel Name=%{customdata[0]}<br>Country=%{customdata[1]}<extra></extra>",
         "lat": [
          39.8885
         ],
         "legendgroup": "mahon",
         "lon": [
          4.2658
         ],
         "marker": {
          "color": "#ab63fa",
          "size": [
           81
          ],
          "sizemode": "area",
          "sizeref": 2.0408163265306123,
          "symbol": "circle"
         },
         "mode": "markers",
         "name": "mahon",
         "showlegend": true,
         "type": "scattergeo"
        },
        {
         "customdata": [
          [
           "No hotel found",
           "SA"
          ]
         ],
         "geo": "geo",
         "hovertemplate": "City=umm lajj<br>Humidity=%{marker.size}<br>Lat=%{lat}<br>Lng=%{lon}<br>Hotel Name=%{customdata[0]}<br>Country=%{customdata[1]}<extra></extra>",
         "lat": [
          25.0213
         ],
         "legendgroup": "umm lajj",
         "lon": [
          37.2685
         ],
         "marker": {
          "color": "#FFA15A",
          "size": [
           67
          ],
          "sizemode": "area",
          "sizeref": 2.0408163265306123,
          "symbol": "circle"
         },
         "mode": "markers",
         "name": "umm lajj",
         "showlegend": true,
         "type": "scattergeo"
        },
        {
         "customdata": [
          [
           "Nhà khách Hoa Hồng",
           "VN"
          ]
         ],
         "geo": "geo",
         "hovertemplate": "City=tay ninh<br>Humidity=%{marker.size}<br>Lat=%{lat}<br>Lng=%{lon}<br>Hotel Name=%{customdata[0]}<br>Country=%{customdata[1]}<extra></extra>",
         "lat": [
          11.3
         ],
         "legendgroup": "tay ninh",
         "lon": [
          106.1
         ],
         "marker": {
          "color": "#19d3f3",
          "size": [
           51
          ],
          "sizemode": "area",
          "sizeref": 2.0408163265306123,
          "symbol": "circle"
         },
         "mode": "markers",
         "name": "tay ninh",
         "showlegend": true,
         "type": "scattergeo"
        },
        {
         "customdata": [
          [
           "No hotel found",
           "TZ"
          ]
         ],
         "geo": "geo",
         "hovertemplate": "City=kaliua<br>Humidity=%{marker.size}<br>Lat=%{lat}<br>Lng=%{lon}<br>Hotel Name=%{customdata[0]}<br>Country=%{customdata[1]}<extra></extra>",
         "lat": [
          -5.0606
         ],
         "legendgroup": "kaliua",
         "lon": [
          31.7936
         ],
         "marker": {
          "color": "#FF6692",
          "size": [
           95
          ],
          "sizemode": "area",
          "sizeref": 2.0408163265306123,
          "symbol": "circle"
         },
         "mode": "markers",
         "name": "kaliua",
         "showlegend": true,
         "type": "scattergeo"
        },
        {
         "customdata": [
          [
           "Suita",
           "ID"
          ]
         ],
         "geo": "geo",
         "hovertemplate": "City=tual<br>Humidity=%{marker.size}<br>Lat=%{lat}<br>Lng=%{lon}<br>Hotel Name=%{customdata[0]}<br>Country=%{customdata[1]}<extra></extra>",
         "lat": [
          -5.6667
         ],
         "legendgroup": "tual",
         "lon": [
          132.75
         ],
         "marker": {
          "color": "#B6E880",
          "size": [
           74
          ],
          "sizemode": "area",
          "sizeref": 2.0408163265306123,
          "symbol": "circle"
         },
         "mode": "markers",
         "name": "tual",
         "showlegend": true,
         "type": "scattergeo"
        },
        {
         "customdata": [
          [
           "von Rephuns Garten",
           "DE"
          ]
         ],
         "geo": "geo",
         "hovertemplate": "City=bone<br>Humidity=%{marker.size}<br>Lat=%{lat}<br>Lng=%{lon}<br>Hotel Name=%{customdata[0]}<br>Country=%{customdata[1]}<extra></extra>",
         "lat": [
          51.9669
         ],
         "legendgroup": "bone",
         "lon": [
          12.1396
         ],
         "marker": {
          "color": "#FF97FF",
          "size": [
           90
          ],
          "sizemode": "area",
          "sizeref": 2.0408163265306123,
          "symbol": "circle"
         },
         "mode": "markers",
         "name": "bone",
         "showlegend": true,
         "type": "scattergeo"
        },
        {
         "customdata": [
          [
           "Days Inn by Wyndham Okmulgee",
           "US"
          ]
         ],
         "geo": "geo",
         "hovertemplate": "City=okmulgee<br>Humidity=%{marker.size}<br>Lat=%{lat}<br>Lng=%{lon}<br>Hotel Name=%{customdata[0]}<br>Country=%{customdata[1]}<extra></extra>",
         "lat": [
          35.6234
         ],
         "legendgroup": "okmulgee",
         "lon": [
          -95.9605
         ],
         "marker": {
          "color": "#FECB52",
          "size": [
           80
          ],
          "sizemode": "area",
          "sizeref": 2.0408163265306123,
          "symbol": "circle"
         },
         "mode": "markers",
         "name": "okmulgee",
         "showlegend": true,
         "type": "scattergeo"
        },
        {
         "customdata": [
          [
           "Atlantic",
           null
          ]
         ],
         "geo": "geo",
         "hovertemplate": "City=walvis bay<br>Humidity=%{marker.size}<br>Lat=%{lat}<br>Lng=%{lon}<br>Hotel Name=%{customdata[0]}<br>Country=%{customdata[1]}<extra></extra>",
         "lat": [
          -22.9575
         ],
         "legendgroup": "walvis bay",
         "lon": [
          14.5053
         ],
         "marker": {
          "color": "#636efa",
          "size": [
           85
          ],
          "sizemode": "area",
          "sizeref": 2.0408163265306123,
          "symbol": "circle"
         },
         "mode": "markers",
         "name": "walvis bay",
         "showlegend": true,
         "type": "scattergeo"
        },
        {
         "customdata": [
          [
           "Palatino",
           "GR"
          ]
         ],
         "geo": "geo",
         "hovertemplate": "City=lixourion<br>Humidity=%{marker.size}<br>Lat=%{lat}<br>Lng=%{lon}<br>Hotel Name=%{customdata[0]}<br>Country=%{customdata[1]}<extra></extra>",
         "lat": [
          38.2019
         ],
         "legendgroup": "lixourion",
         "lon": [
          20.4314
         ],
         "marker": {
          "color": "#EF553B",
          "size": [
           81
          ],
          "sizemode": "area",
          "sizeref": 2.0408163265306123,
          "symbol": "circle"
         },
         "mode": "markers",
         "name": "lixourion",
         "showlegend": true,
         "type": "scattergeo"
        },
        {
         "customdata": [
          [
           "La Ronge Hotel and Suites",
           "CA"
          ]
         ],
         "geo": "geo",
         "hovertemplate": "City=la ronge<br>Humidity=%{marker.size}<br>Lat=%{lat}<br>Lng=%{lon}<br>Hotel Name=%{customdata[0]}<br>Country=%{customdata[1]}<extra></extra>",
         "lat": [
          55.1001
         ],
         "legendgroup": "la ronge",
         "lon": [
          -105.2842
         ],
         "marker": {
          "color": "#00cc96",
          "size": [
           78
          ],
          "sizemode": "area",
          "sizeref": 2.0408163265306123,
          "symbol": "circle"
         },
         "mode": "markers",
         "name": "la ronge",
         "showlegend": true,
         "type": "scattergeo"
        },
        {
         "customdata": [
          [
           "Hotel Iberia",
           "CL"
          ]
         ],
         "geo": "geo",
         "hovertemplate": "City=coquimbo<br>Humidity=%{marker.size}<br>Lat=%{lat}<br>Lng=%{lon}<br>Hotel Name=%{customdata[0]}<br>Country=%{customdata[1]}<extra></extra>",
         "lat": [
          -29.9533
         ],
         "legendgroup": "coquimbo",
         "lon": [
          -71.3436
         ],
         "marker": {
          "color": "#ab63fa",
          "size": [
           94
          ],
          "sizemode": "area",
          "sizeref": 2.0408163265306123,
          "symbol": "circle"
         },
         "mode": "markers",
         "name": "coquimbo",
         "showlegend": true,
         "type": "scattergeo"
        },
        {
         "customdata": [
          [
           "Cap Lahou",
           "CI"
          ]
         ],
         "geo": "geo",
         "hovertemplate": "City=grand-lahou<br>Humidity=%{marker.size}<br>Lat=%{lat}<br>Lng=%{lon}<br>Hotel Name=%{customdata[0]}<br>Country=%{customdata[1]}<extra></extra>",
         "lat": [
          5.1367
         ],
         "legendgroup": "grand-lahou",
         "lon": [
          -5.0242
         ],
         "marker": {
          "color": "#FFA15A",
          "size": [
           90
          ],
          "sizemode": "area",
          "sizeref": 2.0408163265306123,
          "symbol": "circle"
         },
         "mode": "markers",
         "name": "grand-lahou",
         "showlegend": true,
         "type": "scattergeo"
        },
        {
         "customdata": [
          [
           "No hotel found",
           "RU"
          ]
         ],
         "geo": "geo",
         "hovertemplate": "City=churapcha<br>Humidity=%{marker.size}<br>Lat=%{lat}<br>Lng=%{lon}<br>Hotel Name=%{customdata[0]}<br>Country=%{customdata[1]}<extra></extra>",
         "lat": [
          62.0025
         ],
         "legendgroup": "churapcha",
         "lon": [
          132.4325
         ],
         "marker": {
          "color": "#19d3f3",
          "size": [
           91
          ],
          "sizemode": "area",
          "sizeref": 2.0408163265306123,
          "symbol": "circle"
         },
         "mode": "markers",
         "name": "churapcha",
         "showlegend": true,
         "type": "scattergeo"
        },
        {
         "customdata": [
          [
           "No hotel found",
           "BR"
          ]
         ],
         "geo": "geo",
         "hovertemplate": "City=mancio lima<br>Humidity=%{marker.size}<br>Lat=%{lat}<br>Lng=%{lon}<br>Hotel Name=%{customdata[0]}<br>Country=%{customdata[1]}<extra></extra>",
         "lat": [
          -7.6142
         ],
         "legendgroup": "mancio lima",
         "lon": [
          -72.8958
         ],
         "marker": {
          "color": "#FF6692",
          "size": [
           94
          ],
          "sizemode": "area",
          "sizeref": 2.0408163265306123,
          "symbol": "circle"
         },
         "mode": "markers",
         "name": "mancio lima",
         "showlegend": true,
         "type": "scattergeo"
        },
        {
         "customdata": [
          [
           "Mohale oa Masitse Lodge",
           "LS"
          ]
         ],
         "geo": "geo",
         "hovertemplate": "City=thaba-tseka<br>Humidity=%{marker.size}<br>Lat=%{lat}<br>Lng=%{lon}<br>Hotel Name=%{customdata[0]}<br>Country=%{customdata[1]}<extra></extra>",
         "lat": [
          -29.522
         ],
         "legendgroup": "thaba-tseka",
         "lon": [
          28.6084
         ],
         "marker": {
          "color": "#B6E880",
          "size": [
           56
          ],
          "sizemode": "area",
          "sizeref": 2.0408163265306123,
          "symbol": "circle"
         },
         "mode": "markers",
         "name": "thaba-tseka",
         "showlegend": true,
         "type": "scattergeo"
        },
        {
         "customdata": [
          [
           "Серебряный створ",
           "RU"
          ]
         ],
         "geo": "geo",
         "hovertemplate": "City=zeya<br>Humidity=%{marker.size}<br>Lat=%{lat}<br>Lng=%{lon}<br>Hotel Name=%{customdata[0]}<br>Country=%{customdata[1]}<extra></extra>",
         "lat": [
          53.75
         ],
         "legendgroup": "zeya",
         "lon": [
          127.2667
         ],
         "marker": {
          "color": "#FF97FF",
          "size": [
           72
          ],
          "sizemode": "area",
          "sizeref": 2.0408163265306123,
          "symbol": "circle"
         },
         "mode": "markers",
         "name": "zeya",
         "showlegend": true,
         "type": "scattergeo"
        },
        {
         "customdata": [
          [
           "New Victorian Suites Lincoln",
           "US"
          ]
         ],
         "geo": "geo",
         "hovertemplate": "City=lincoln<br>Humidity=%{marker.size}<br>Lat=%{lat}<br>Lng=%{lon}<br>Hotel Name=%{customdata[0]}<br>Country=%{customdata[1]}<extra></extra>",
         "lat": [
          40.8
         ],
         "legendgroup": "lincoln",
         "lon": [
          -96.667
         ],
         "marker": {
          "color": "#FECB52",
          "size": [
           89
          ],
          "sizemode": "area",
          "sizeref": 2.0408163265306123,
          "symbol": "circle"
         },
         "mode": "markers",
         "name": "lincoln",
         "showlegend": true,
         "type": "scattergeo"
        },
        {
         "customdata": [
          [
           "No hotel found",
           "IL"
          ]
         ],
         "geo": "geo",
         "hovertemplate": "City=gat<br>Humidity=%{marker.size}<br>Lat=%{lat}<br>Lng=%{lon}<br>Hotel Name=%{customdata[0]}<br>Country=%{customdata[1]}<extra></extra>",
         "lat": [
          31.61
         ],
         "legendgroup": "gat",
         "lon": [
          34.7642
         ],
         "marker": {
          "color": "#636efa",
          "size": [
           100
          ],
          "sizemode": "area",
          "sizeref": 2.0408163265306123,
          "symbol": "circle"
         },
         "mode": "markers",
         "name": "gat",
         "showlegend": true,
         "type": "scattergeo"
        }
       ],
       "layout": {
        "geo": {
         "center": {},
         "domain": {
          "x": [
           0,
           1
          ],
          "y": [
           0,
           1
          ]
         },
         "scope": "world"
        },
        "legend": {
         "itemsizing": "constant",
         "title": {
          "text": "City"
         },
         "tracegroupgap": 0
        },
        "margin": {
         "t": 60
        },
        "template": {
         "data": {
          "bar": [
           {
            "error_x": {
             "color": "#2a3f5f"
            },
            "error_y": {
             "color": "#2a3f5f"
            },
            "marker": {
             "line": {
              "color": "#E5ECF6",
              "width": 0.5
             },
             "pattern": {
              "fillmode": "overlay",
              "size": 10,
              "solidity": 0.2
             }
            },
            "type": "bar"
           }
          ],
          "barpolar": [
           {
            "marker": {
             "line": {
              "color": "#E5ECF6",
              "width": 0.5
             },
             "pattern": {
              "fillmode": "overlay",
              "size": 10,
              "solidity": 0.2
             }
            },
            "type": "barpolar"
           }
          ],
          "carpet": [
           {
            "aaxis": {
             "endlinecolor": "#2a3f5f",
             "gridcolor": "white",
             "linecolor": "white",
             "minorgridcolor": "white",
             "startlinecolor": "#2a3f5f"
            },
            "baxis": {
             "endlinecolor": "#2a3f5f",
             "gridcolor": "white",
             "linecolor": "white",
             "minorgridcolor": "white",
             "startlinecolor": "#2a3f5f"
            },
            "type": "carpet"
           }
          ],
          "choropleth": [
           {
            "colorbar": {
             "outlinewidth": 0,
             "ticks": ""
            },
            "type": "choropleth"
           }
          ],
          "contour": [
           {
            "colorbar": {
             "outlinewidth": 0,
             "ticks": ""
            },
            "colorscale": [
             [
              0,
              "#0d0887"
             ],
             [
              0.1111111111111111,
              "#46039f"
             ],
             [
              0.2222222222222222,
              "#7201a8"
             ],
             [
              0.3333333333333333,
              "#9c179e"
             ],
             [
              0.4444444444444444,
              "#bd3786"
             ],
             [
              0.5555555555555556,
              "#d8576b"
             ],
             [
              0.6666666666666666,
              "#ed7953"
             ],
             [
              0.7777777777777778,
              "#fb9f3a"
             ],
             [
              0.8888888888888888,
              "#fdca26"
             ],
             [
              1,
              "#f0f921"
             ]
            ],
            "type": "contour"
           }
          ],
          "contourcarpet": [
           {
            "colorbar": {
             "outlinewidth": 0,
             "ticks": ""
            },
            "type": "contourcarpet"
           }
          ],
          "heatmap": [
           {
            "colorbar": {
             "outlinewidth": 0,
             "ticks": ""
            },
            "colorscale": [
             [
              0,
              "#0d0887"
             ],
             [
              0.1111111111111111,
              "#46039f"
             ],
             [
              0.2222222222222222,
              "#7201a8"
             ],
             [
              0.3333333333333333,
              "#9c179e"
             ],
             [
              0.4444444444444444,
              "#bd3786"
             ],
             [
              0.5555555555555556,
              "#d8576b"
             ],
             [
              0.6666666666666666,
              "#ed7953"
             ],
             [
              0.7777777777777778,
              "#fb9f3a"
             ],
             [
              0.8888888888888888,
              "#fdca26"
             ],
             [
              1,
              "#f0f921"
             ]
            ],
            "type": "heatmap"
           }
          ],
          "heatmapgl": [
           {
            "colorbar": {
             "outlinewidth": 0,
             "ticks": ""
            },
            "colorscale": [
             [
              0,
              "#0d0887"
             ],
             [
              0.1111111111111111,
              "#46039f"
             ],
             [
              0.2222222222222222,
              "#7201a8"
             ],
             [
              0.3333333333333333,
              "#9c179e"
             ],
             [
              0.4444444444444444,
              "#bd3786"
             ],
             [
              0.5555555555555556,
              "#d8576b"
             ],
             [
              0.6666666666666666,
              "#ed7953"
             ],
             [
              0.7777777777777778,
              "#fb9f3a"
             ],
             [
              0.8888888888888888,
              "#fdca26"
             ],
             [
              1,
              "#f0f921"
             ]
            ],
            "type": "heatmapgl"
           }
          ],
          "histogram": [
           {
            "marker": {
             "pattern": {
              "fillmode": "overlay",
              "size": 10,
              "solidity": 0.2
             }
            },
            "type": "histogram"
           }
          ],
          "histogram2d": [
           {
            "colorbar": {
             "outlinewidth": 0,
             "ticks": ""
            },
            "colorscale": [
             [
              0,
              "#0d0887"
             ],
             [
              0.1111111111111111,
              "#46039f"
             ],
             [
              0.2222222222222222,
              "#7201a8"
             ],
             [
              0.3333333333333333,
              "#9c179e"
             ],
             [
              0.4444444444444444,
              "#bd3786"
             ],
             [
              0.5555555555555556,
              "#d8576b"
             ],
             [
              0.6666666666666666,
              "#ed7953"
             ],
             [
              0.7777777777777778,
              "#fb9f3a"
             ],
             [
              0.8888888888888888,
              "#fdca26"
             ],
             [
              1,
              "#f0f921"
             ]
            ],
            "type": "histogram2d"
           }
          ],
          "histogram2dcontour": [
           {
            "colorbar": {
             "outlinewidth": 0,
             "ticks": ""
            },
            "colorscale": [
             [
              0,
              "#0d0887"
             ],
             [
              0.1111111111111111,
              "#46039f"
             ],
             [
              0.2222222222222222,
              "#7201a8"
             ],
             [
              0.3333333333333333,
              "#9c179e"
             ],
             [
              0.4444444444444444,
              "#bd3786"
             ],
             [
              0.5555555555555556,
              "#d8576b"
             ],
             [
              0.6666666666666666,
              "#ed7953"
             ],
             [
              0.7777777777777778,
              "#fb9f3a"
             ],
             [
              0.8888888888888888,
              "#fdca26"
             ],
             [
              1,
              "#f0f921"
             ]
            ],
            "type": "histogram2dcontour"
           }
          ],
          "mesh3d": [
           {
            "colorbar": {
             "outlinewidth": 0,
             "ticks": ""
            },
            "type": "mesh3d"
           }
          ],
          "parcoords": [
           {
            "line": {
             "colorbar": {
              "outlinewidth": 0,
              "ticks": ""
             }
            },
            "type": "parcoords"
           }
          ],
          "pie": [
           {
            "automargin": true,
            "type": "pie"
           }
          ],
          "scatter": [
           {
            "fillpattern": {
             "fillmode": "overlay",
             "size": 10,
             "solidity": 0.2
            },
            "type": "scatter"
           }
          ],
          "scatter3d": [
           {
            "line": {
             "colorbar": {
              "outlinewidth": 0,
              "ticks": ""
             }
            },
            "marker": {
             "colorbar": {
              "outlinewidth": 0,
              "ticks": ""
             }
            },
            "type": "scatter3d"
           }
          ],
          "scattercarpet": [
           {
            "marker": {
             "colorbar": {
              "outlinewidth": 0,
              "ticks": ""
             }
            },
            "type": "scattercarpet"
           }
          ],
          "scattergeo": [
           {
            "marker": {
             "colorbar": {
              "outlinewidth": 0,
              "ticks": ""
             }
            },
            "type": "scattergeo"
           }
          ],
          "scattergl": [
           {
            "marker": {
             "colorbar": {
              "outlinewidth": 0,
              "ticks": ""
             }
            },
            "type": "scattergl"
           }
          ],
          "scattermapbox": [
           {
            "marker": {
             "colorbar": {
              "outlinewidth": 0,
              "ticks": ""
             }
            },
            "type": "scattermapbox"
           }
          ],
          "scatterpolar": [
           {
            "marker": {
             "colorbar": {
              "outlinewidth": 0,
              "ticks": ""
             }
            },
            "type": "scatterpolar"
           }
          ],
          "scatterpolargl": [
           {
            "marker": {
             "colorbar": {
              "outlinewidth": 0,
              "ticks": ""
             }
            },
            "type": "scatterpolargl"
           }
          ],
          "scatterternary": [
           {
            "marker": {
             "colorbar": {
              "outlinewidth": 0,
              "ticks": ""
             }
            },
            "type": "scatterternary"
           }
          ],
          "surface": [
           {
            "colorbar": {
             "outlinewidth": 0,
             "ticks": ""
            },
            "colorscale": [
             [
              0,
              "#0d0887"
             ],
             [
              0.1111111111111111,
              "#46039f"
             ],
             [
              0.2222222222222222,
              "#7201a8"
             ],
             [
              0.3333333333333333,
              "#9c179e"
             ],
             [
              0.4444444444444444,
              "#bd3786"
             ],
             [
              0.5555555555555556,
              "#d8576b"
             ],
             [
              0.6666666666666666,
              "#ed7953"
             ],
             [
              0.7777777777777778,
              "#fb9f3a"
             ],
             [
              0.8888888888888888,
              "#fdca26"
             ],
             [
              1,
              "#f0f921"
             ]
            ],
            "type": "surface"
           }
          ],
          "table": [
           {
            "cells": {
             "fill": {
              "color": "#EBF0F8"
             },
             "line": {
              "color": "white"
             }
            },
            "header": {
             "fill": {
              "color": "#C8D4E3"
             },
             "line": {
              "color": "white"
             }
            },
            "type": "table"
           }
          ]
         },
         "layout": {
          "annotationdefaults": {
           "arrowcolor": "#2a3f5f",
           "arrowhead": 0,
           "arrowwidth": 1
          },
          "autotypenumbers": "strict",
          "coloraxis": {
           "colorbar": {
            "outlinewidth": 0,
            "ticks": ""
           }
          },
          "colorscale": {
           "diverging": [
            [
             0,
             "#8e0152"
            ],
            [
             0.1,
             "#c51b7d"
            ],
            [
             0.2,
             "#de77ae"
            ],
            [
             0.3,
             "#f1b6da"
            ],
            [
             0.4,
             "#fde0ef"
            ],
            [
             0.5,
             "#f7f7f7"
            ],
            [
             0.6,
             "#e6f5d0"
            ],
            [
             0.7,
             "#b8e186"
            ],
            [
             0.8,
             "#7fbc41"
            ],
            [
             0.9,
             "#4d9221"
            ],
            [
             1,
             "#276419"
            ]
           ],
           "sequential": [
            [
             0,
             "#0d0887"
            ],
            [
             0.1111111111111111,
             "#46039f"
            ],
            [
             0.2222222222222222,
             "#7201a8"
            ],
            [
             0.3333333333333333,
             "#9c179e"
            ],
            [
             0.4444444444444444,
             "#bd3786"
            ],
            [
             0.5555555555555556,
             "#d8576b"
            ],
            [
             0.6666666666666666,
             "#ed7953"
            ],
            [
             0.7777777777777778,
             "#fb9f3a"
            ],
            [
             0.8888888888888888,
             "#fdca26"
            ],
            [
             1,
             "#f0f921"
            ]
           ],
           "sequentialminus": [
            [
             0,
             "#0d0887"
            ],
            [
             0.1111111111111111,
             "#46039f"
            ],
            [
             0.2222222222222222,
             "#7201a8"
            ],
            [
             0.3333333333333333,
             "#9c179e"
            ],
            [
             0.4444444444444444,
             "#bd3786"
            ],
            [
             0.5555555555555556,
             "#d8576b"
            ],
            [
             0.6666666666666666,
             "#ed7953"
            ],
            [
             0.7777777777777778,
             "#fb9f3a"
            ],
            [
             0.8888888888888888,
             "#fdca26"
            ],
            [
             1,
             "#f0f921"
            ]
           ]
          },
          "colorway": [
           "#636efa",
           "#EF553B",
           "#00cc96",
           "#ab63fa",
           "#FFA15A",
           "#19d3f3",
           "#FF6692",
           "#B6E880",
           "#FF97FF",
           "#FECB52"
          ],
          "font": {
           "color": "#2a3f5f"
          },
          "geo": {
           "bgcolor": "white",
           "lakecolor": "white",
           "landcolor": "#E5ECF6",
           "showlakes": true,
           "showland": true,
           "subunitcolor": "white"
          },
          "hoverlabel": {
           "align": "left"
          },
          "hovermode": "closest",
          "mapbox": {
           "style": "light"
          },
          "paper_bgcolor": "white",
          "plot_bgcolor": "#E5ECF6",
          "polar": {
           "angularaxis": {
            "gridcolor": "white",
            "linecolor": "white",
            "ticks": ""
           },
           "bgcolor": "#E5ECF6",
           "radialaxis": {
            "gridcolor": "white",
            "linecolor": "white",
            "ticks": ""
           }
          },
          "scene": {
           "xaxis": {
            "backgroundcolor": "#E5ECF6",
            "gridcolor": "white",
            "gridwidth": 2,
            "linecolor": "white",
            "showbackground": true,
            "ticks": "",
            "zerolinecolor": "white"
           },
           "yaxis": {
            "backgroundcolor": "#E5ECF6",
            "gridcolor": "white",
            "gridwidth": 2,
            "linecolor": "white",
            "showbackground": true,
            "ticks": "",
            "zerolinecolor": "white"
           },
           "zaxis": {
            "backgroundcolor": "#E5ECF6",
            "gridcolor": "white",
            "gridwidth": 2,
            "linecolor": "white",
            "showbackground": true,
            "ticks": "",
            "zerolinecolor": "white"
           }
          },
          "shapedefaults": {
           "line": {
            "color": "#2a3f5f"
           }
          },
          "ternary": {
           "aaxis": {
            "gridcolor": "white",
            "linecolor": "white",
            "ticks": ""
           },
           "baxis": {
            "gridcolor": "white",
            "linecolor": "white",
            "ticks": ""
           },
           "bgcolor": "#E5ECF6",
           "caxis": {
            "gridcolor": "white",
            "linecolor": "white",
            "ticks": ""
           }
          },
          "title": {
           "x": 0.05
          },
          "xaxis": {
           "automargin": true,
           "gridcolor": "white",
           "linecolor": "white",
           "ticks": "",
           "title": {
            "standoff": 15
           },
           "zerolinecolor": "white",
           "zerolinewidth": 2
          },
          "yaxis": {
           "automargin": true,
           "gridcolor": "white",
           "linecolor": "white",
           "ticks": "",
           "title": {
            "standoff": 15
           },
           "zerolinecolor": "white",
           "zerolinewidth": 2
          }
         }
        }
       }
      }
     },
     "metadata": {},
     "output_type": "display_data"
    }
   ],
   "source": [
    "%%capture --no-display\n",
    "\n",
    "# Configure the map plot\n",
    "df = px.data.gapminder()\n",
    "  \n",
    "plot = px.scatter_geo(hotel_df,\n",
    "                      lat= \"Lat\", lon= \"Lng\",\n",
    "                      size=\"Humidity\", size_max =7, hover_data = [\"Hotel Name\", \"Country\"],\n",
    "                      color = \"City\", scope='world')\n",
    "plot.show()\n",
    "\n",
    "# Display the map\n"
   ]
  }
 ],
 "metadata": {
  "kernelspec": {
   "display_name": "PythonData",
   "language": "python",
   "name": "python3"
  },
  "language_info": {
   "codemirror_mode": {
    "name": "ipython",
    "version": 3
   },
   "file_extension": ".py",
   "mimetype": "text/x-python",
   "name": "python",
   "nbconvert_exporter": "python",
   "pygments_lexer": "ipython3",
   "version": "3.7.7"
  },
  "latex_envs": {
   "LaTeX_envs_menu_present": true,
   "autoclose": false,
   "autocomplete": true,
   "bibliofile": "biblio.bib",
   "cite_by": "apalike",
   "current_citInitial": 1,
   "eqLabelWithNumbers": true,
   "eqNumInitial": 1,
   "hotkeys": {
    "equation": "Ctrl-E",
    "itemize": "Ctrl-I"
   },
   "labels_anchors": false,
   "latex_user_defs": false,
   "report_style_numbering": false,
   "user_envs_cfg": false
  },
  "vscode": {
   "interpreter": {
    "hash": "4f8acfaf5cfd074ef6ae7796c7cacd0dab1b90e3a108f4cb1fff4e616bbff682"
   }
  }
 },
 "nbformat": 4,
 "nbformat_minor": 4
}
